{
 "cells": [
  {
   "cell_type": "code",
   "execution_count": null,
   "metadata": {},
   "outputs": [],
   "source": [
    "%run ~/Apps/Cytoscape/embed.ipynb  #<-- Loads Cytoscape"
   ]
  },
  {
   "cell_type": "code",
   "execution_count": null,
   "metadata": {
    "cell_style": "center"
   },
   "outputs": [],
   "source": [
    "HTML(\"\"\"\n",
    "<div class=\"row\"><div class=\"col-xs-12 col-md-offset-3 col-md-6\">\n",
    "<div class=\"embed-responsive embed-responsive-16by9\">\n",
    "  <iframe class=\"embed-responsive-item\"\n",
    "  src='https://www.youtube.com/embed/lA1-lHms0I0'></iframe></div>\n",
    "</div></div>\n",
    "\"\"\")"
   ]
  },
  {
   "cell_type": "markdown",
   "metadata": {},
   "source": [
    "<img class=\"img-responsive\" width=\"30%\" src=\"https://storage.googleapis.com/bakar-data/cytoscape/cytoscape_logo.png\">\n"
   ]
  },
  {
   "cell_type": "code",
   "execution_count": null,
   "metadata": {
    "cell_style": "split"
   },
   "outputs": [],
   "source": [
    "display( Graph.html.cy )"
   ]
  },
  {
   "cell_type": "code",
   "execution_count": null,
   "metadata": {
    "cell_style": "split",
    "scrolled": false
   },
   "outputs": [],
   "source": [
    "display( Graph.box.editor )"
   ]
  },
  {
   "cell_type": "code",
   "execution_count": null,
   "metadata": {
    "cell_style": "split",
    "scrolled": true
   },
   "outputs": [],
   "source": [
    "display( Graph.html.table )"
   ]
  },
  {
   "cell_type": "code",
   "execution_count": null,
   "metadata": {
    "cell_style": "split",
    "scrolled": false
   },
   "outputs": [],
   "source": [
    "display( Graph.box.loadSave )"
   ]
  },
  {
   "cell_type": "code",
   "execution_count": null,
   "metadata": {},
   "outputs": [],
   "source": [
    "Graph.js.load()"
   ]
  },
  {
   "cell_type": "code",
   "execution_count": null,
   "metadata": {},
   "outputs": [],
   "source": []
  }
 ],
 "metadata": {
  "hide_input": false,
  "kernelspec": {
   "display_name": "Python 3",
   "language": "python",
   "name": "python3"
  },
  "language_info": {
   "codemirror_mode": {
    "name": "ipython",
    "version": 3
   },
   "file_extension": ".py",
   "mimetype": "text/x-python",
   "name": "python",
   "nbconvert_exporter": "python",
   "pygments_lexer": "ipython3",
   "version": "3.7.3"
  },
  "toc": {
   "base_numbering": 1,
   "nav_menu": {},
   "number_sections": true,
   "sideBar": true,
   "skip_h1_title": false,
   "title_cell": "Table of Contents",
   "title_sidebar": "Contents",
   "toc_cell": false,
   "toc_position": {},
   "toc_section_display": true,
   "toc_window_display": false
  },
  "varInspector": {
   "cols": {
    "lenName": 16,
    "lenType": 16,
    "lenVar": 40
   },
   "kernels_config": {
    "python": {
     "delete_cmd_postfix": "",
     "delete_cmd_prefix": "del ",
     "library": "var_list.py",
     "varRefreshCmd": "print(var_dic_list())"
    },
    "r": {
     "delete_cmd_postfix": ") ",
     "delete_cmd_prefix": "rm(",
     "library": "var_list.r",
     "varRefreshCmd": "cat(var_dic_list()) "
    }
   },
   "types_to_exclude": [
    "module",
    "function",
    "builtin_function_or_method",
    "instance",
    "_Feature"
   ],
   "window_display": false
  },
  "widgets": {
   "application/vnd.jupyter.widget-state+json": {
    "state": {
     "000c459e97374c73a894850e0fbc4fc5": {
      "model_module": "@jupyter-widgets/base",
      "model_module_version": "1.1.0",
      "model_name": "LayoutModel",
      "state": {}
     },
     "002b8636ed724b8a9837f40292dd05ac": {
      "model_module": "@jupyter-widgets/base",
      "model_module_version": "1.1.0",
      "model_name": "LayoutModel",
      "state": {}
     },
     "005cca9a31fd4acd8b621e853e1a2254": {
      "model_module": "@jupyter-widgets/base",
      "model_module_version": "1.1.0",
      "model_name": "LayoutModel",
      "state": {}
     },
     "009bc34bc9d0489699d20e0bdb6ba379": {
      "model_module": "@jupyter-widgets/controls",
      "model_module_version": "1.4.0",
      "model_name": "DescriptionStyleModel",
      "state": {
       "description_width": ""
      }
     },
     "00b35682873f4f55bdc9007e50214ed1": {
      "model_module": "@jupyter-widgets/base",
      "model_module_version": "1.1.0",
      "model_name": "LayoutModel",
      "state": {}
     },
     "0139e18a27144040998b64cad4ac13f0": {
      "model_module": "@jupyter-widgets/base",
      "model_module_version": "1.1.0",
      "model_name": "LayoutModel",
      "state": {}
     },
     "01722ed92a5a43e68442cb8594594ff1": {
      "model_module": "@jupyter-widgets/base",
      "model_module_version": "1.1.0",
      "model_name": "LayoutModel",
      "state": {
       "align_items": "center",
       "justify_content": "center"
      }
     },
     "024f204bc3f9404d838ebcb54382e94f": {
      "model_module": "@jupyter-widgets/controls",
      "model_module_version": "1.4.0",
      "model_name": "ButtonModel",
      "state": {
       "button_style": "primary",
       "description": "Load",
       "layout": "IPY_MODEL_71f4c7c7b5ad4107a61f9092d64bb392",
       "style": "IPY_MODEL_d3881deb592f4c98a8aafc430c47f6c2"
      }
     },
     "02b81cf13736422ab9540643aa753ad8": {
      "model_module": "@jupyter-widgets/base",
      "model_module_version": "1.1.0",
      "model_name": "LayoutModel",
      "state": {}
     },
     "02d56bc916404c1e8576bda1613f85a3": {
      "model_module": "@jupyter-widgets/controls",
      "model_module_version": "1.4.0",
      "model_name": "HTMLModel",
      "state": {
       "layout": "IPY_MODEL_7bf41439f0d94126b546ffaaaff55e8f",
       "style": "IPY_MODEL_3f556104237448d3aeb71383aba62ce0",
       "value": "<h5>Paste the <a>NDEx URL</a> of the dataset to download :</h5>"
      }
     },
     "02e7a7498a0341419b87d3faead9a2e5": {
      "model_module": "@jupyter-widgets/controls",
      "model_module_version": "1.4.0",
      "model_name": "TextModel",
      "state": {
       "description": "URL :",
       "layout": "IPY_MODEL_413cb41ab00c43a381c16c9a33b1cd91",
       "style": "IPY_MODEL_c0a9454accb34394b81c685408b465f6"
      }
     },
     "0342a6d02528486591c688c2e42aad5c": {
      "model_module": "@jupyter-widgets/controls",
      "model_module_version": "1.4.0",
      "model_name": "DescriptionStyleModel",
      "state": {
       "description_width": ""
      }
     },
     "0382e5c2d78e487d9e3d407712b5677f": {
      "model_module": "@jupyter-widgets/controls",
      "model_module_version": "1.4.0",
      "model_name": "DescriptionStyleModel",
      "state": {
       "description_width": ""
      }
     },
     "03c8d08d4f3443fbb5597b2eca74ca7f": {
      "model_module": "@jupyter-widgets/base",
      "model_module_version": "1.1.0",
      "model_name": "LayoutModel",
      "state": {}
     },
     "0429a7d36b234bf19ff14033d7126c89": {
      "model_module": "@jupyter-widgets/base",
      "model_module_version": "1.1.0",
      "model_name": "LayoutModel",
      "state": {}
     },
     "046db71167ab421192438d276a3a5839": {
      "model_module": "@jupyter-widgets/controls",
      "model_module_version": "1.4.0",
      "model_name": "ToggleButtonsStyleModel",
      "state": {
       "button_width": "",
       "description_width": ""
      }
     },
     "04989df5530146879231208e84ecd536": {
      "model_module": "@jupyter-widgets/controls",
      "model_module_version": "1.4.0",
      "model_name": "DescriptionStyleModel",
      "state": {
       "description_width": ""
      }
     },
     "05445bbefc8c4addaf8defed49845560": {
      "model_module": "@jupyter-widgets/controls",
      "model_module_version": "1.4.0",
      "model_name": "DescriptionStyleModel",
      "state": {
       "description_width": ""
      }
     },
     "05aec32c81704d07ae24234d72d9ecd2": {
      "model_module": "@jupyter-widgets/controls",
      "model_module_version": "1.4.0",
      "model_name": "LabelModel",
      "state": {
       "layout": "IPY_MODEL_bc9a5167dffa4dacb49ffe617e37f841",
       "style": "IPY_MODEL_44f81afaca654fe88a667348b6ebc4be",
       "value": "Image : "
      }
     },
     "05f93aba908c4dfa8acb76bcd994efdc": {
      "model_module": "@jupyter-widgets/controls",
      "model_module_version": "1.4.0",
      "model_name": "HTMLModel",
      "state": {
       "layout": "IPY_MODEL_e920fe689b9a4a2e9e0e76f41d240676",
       "style": "IPY_MODEL_585c32246ec34ad4b0e8289a9c6f24ab",
       "value": "<b><p><a href='http://js.cytoscape.org/#selectors'>Search:</a></p></b>"
      }
     },
     "06d205a1951f4123a2824ab41a3ae7f2": {
      "model_module": "@jupyter-widgets/controls",
      "model_module_version": "1.4.0",
      "model_name": "DescriptionStyleModel",
      "state": {
       "description_width": ""
      }
     },
     "077f5cca86e74f27a6c75b52600797ba": {
      "model_module": "@jupyter-widgets/controls",
      "model_module_version": "1.4.0",
      "model_name": "ButtonStyleModel",
      "state": {}
     },
     "0803c89292b343998808003ab3cd578e": {
      "model_module": "@jupyter-widgets/controls",
      "model_module_version": "1.4.0",
      "model_name": "DescriptionStyleModel",
      "state": {
       "description_width": ""
      }
     },
     "080f554436dd46f191722d580cd1acfb": {
      "model_module": "@jupyter-widgets/base",
      "model_module_version": "1.1.0",
      "model_name": "LayoutModel",
      "state": {}
     },
     "08c2385168354c9cba7301be5763c110": {
      "model_module": "@jupyter-widgets/base",
      "model_module_version": "1.1.0",
      "model_name": "LayoutModel",
      "state": {}
     },
     "099145f8d03f4ea6af480c35e048e441": {
      "model_module": "@jupyter-widgets/controls",
      "model_module_version": "1.4.0",
      "model_name": "DescriptionStyleModel",
      "state": {
       "description_width": ""
      }
     },
     "099406f84a8441319dc256b1780ef0cd": {
      "model_module": "@jupyter-widgets/base",
      "model_module_version": "1.1.0",
      "model_name": "LayoutModel",
      "state": {
       "justify_content": "center",
       "padding": "10px 0px 0px 0px"
      }
     },
     "0a01d2581944437fb952e0d0c34a688c": {
      "model_module": "@jupyter-widgets/base",
      "model_module_version": "1.1.0",
      "model_name": "LayoutModel",
      "state": {}
     },
     "0a8ea2dec62244b1bdcbd8a10198bb68": {
      "model_module": "@jupyter-widgets/controls",
      "model_module_version": "1.4.0",
      "model_name": "HTMLModel",
      "state": {
       "layout": "IPY_MODEL_94b89dd16f604c0e80e44ef425304889",
       "style": "IPY_MODEL_bed571d1b85c444bb4e6e65c9de8d85d",
       "value": "<h4 style='color: purple' >Edges</h4>"
      }
     },
     "0acef323906942b6b16ea8df3a3be490": {
      "model_module": "@jupyter-widgets/controls",
      "model_module_version": "1.4.0",
      "model_name": "ButtonStyleModel",
      "state": {}
     },
     "0af5c728fe164301afb7c6d1174bd3a6": {
      "model_module": "@jupyter-widgets/base",
      "model_module_version": "1.1.0",
      "model_name": "LayoutModel",
      "state": {}
     },
     "0b06846ea0084104ae9bea42b6ab3dff": {
      "model_module": "@jupyter-widgets/controls",
      "model_module_version": "1.4.0",
      "model_name": "ButtonStyleModel",
      "state": {}
     },
     "0b1bb1a907f84e42bc4b1fdb69a9791a": {
      "model_module": "@jupyter-widgets/base",
      "model_module_version": "1.1.0",
      "model_name": "LayoutModel",
      "state": {}
     },
     "0c1df777360f48caac2f12e16812a895": {
      "model_module": "@jupyter-widgets/controls",
      "model_module_version": "1.4.0",
      "model_name": "DescriptionStyleModel",
      "state": {
       "description_width": ""
      }
     },
     "0c816aa3c262402385f951f889dc36a1": {
      "model_module": "@jupyter-widgets/controls",
      "model_module_version": "1.4.0",
      "model_name": "IntSliderModel",
      "state": {
       "layout": "IPY_MODEL_933c02254adb44ed9da49d1e7d04ab17",
       "max": 60,
       "min": 6,
       "style": "IPY_MODEL_83f92fc0f9c64a6baf8accd33cf13f06",
       "value": 16
      }
     },
     "0ca3f3db8860401b9a74643d8a61cfd3": {
      "model_module": "@jupyter-widgets/controls",
      "model_module_version": "1.4.0",
      "model_name": "ButtonModel",
      "state": {
       "button_style": "primary",
       "description": "Load",
       "layout": "IPY_MODEL_a0576997da7d40648b7f11cddb8a1058",
       "style": "IPY_MODEL_c09c8f5707124570a27b3e2a90b6ca48"
      }
     },
     "0d0438c4038e42c39495f3d2cf5008a2": {
      "model_module": "@jupyter-widgets/controls",
      "model_module_version": "1.4.0",
      "model_name": "DescriptionStyleModel",
      "state": {
       "description_width": ""
      }
     },
     "0d1047f6fd094ae59d030e3c6a5c613c": {
      "model_module": "@jupyter-widgets/controls",
      "model_module_version": "1.4.0",
      "model_name": "DescriptionStyleModel",
      "state": {
       "description_width": ""
      }
     },
     "0d3934e21ed1473db345bf712c065fc6": {
      "model_module": "@jupyter-widgets/controls",
      "model_module_version": "1.4.0",
      "model_name": "DescriptionStyleModel",
      "state": {
       "description_width": ""
      }
     },
     "0d8ccdc2029f40289cdf68f5f251985c": {
      "model_module": "@jupyter-widgets/base",
      "model_module_version": "1.1.0",
      "model_name": "LayoutModel",
      "state": {
       "visibility": "hidden"
      }
     },
     "0d92da17de35433badd18eea3cc6efc9": {
      "model_module": "@jupyter-widgets/controls",
      "model_module_version": "1.4.0",
      "model_name": "DescriptionStyleModel",
      "state": {
       "description_width": ""
      }
     },
     "0da5a35577b647559617682bb2362b53": {
      "model_module": "@jupyter-widgets/controls",
      "model_module_version": "1.4.0",
      "model_name": "LabelModel",
      "state": {
       "layout": "IPY_MODEL_36e1d47475454dd0bcdbd85cfbf62058",
       "style": "IPY_MODEL_cab392f3acee46ae93cd251d6976c50b",
       "value": "End"
      }
     },
     "0dc292a3555446738433faa3dfa34713": {
      "model_module": "@jupyter-widgets/base",
      "model_module_version": "1.1.0",
      "model_name": "LayoutModel",
      "state": {}
     },
     "0dc29736e5404d5d9f695cec2b8a269b": {
      "model_module": "@jupyter-widgets/controls",
      "model_module_version": "1.4.0",
      "model_name": "DescriptionStyleModel",
      "state": {
       "description_width": ""
      }
     },
     "0dfb36059c5f48418238c17a92e5a91e": {
      "model_module": "@jupyter-widgets/base",
      "model_module_version": "1.1.0",
      "model_name": "LayoutModel",
      "state": {}
     },
     "0e066f5f1fce464a94991504ef78b8ad": {
      "model_module": "@jupyter-widgets/controls",
      "model_module_version": "1.4.0",
      "model_name": "LabelModel",
      "state": {
       "layout": "IPY_MODEL_f9aa89bfc7da48fbac68b7ebf99585eb",
       "style": "IPY_MODEL_1008bff0cbec4e578768692b6bd80d7b",
       "value": "Behind/In-Front :"
      }
     },
     "0e303d84043845b3b3de5dcf33392f05": {
      "model_module": "@jupyter-widgets/controls",
      "model_module_version": "1.4.0",
      "model_name": "ButtonModel",
      "state": {
       "button_style": "success",
       "description": "Save",
       "layout": "IPY_MODEL_6ddca6db1d934e1aabc835e7d1fd32cd",
       "style": "IPY_MODEL_b60c041a2d4342e981b1c5b7c1824167"
      }
     },
     "0e43575217d34007b2674d2868ee739b": {
      "model_module": "@jupyter-widgets/base",
      "model_module_version": "1.1.0",
      "model_name": "LayoutModel",
      "state": {}
     },
     "0e91cf2ca5d547d3a75862ddedc23443": {
      "model_module": "@jupyter-widgets/controls",
      "model_module_version": "1.4.0",
      "model_name": "SliderStyleModel",
      "state": {
       "description_width": ""
      }
     },
     "0eda6c0068a64fa2b145bcf97d8b9f99": {
      "model_module": "@jupyter-widgets/base",
      "model_module_version": "1.1.0",
      "model_name": "LayoutModel",
      "state": {
       "min_width": "30px"
      }
     },
     "0effcd38d5c94a0e849f35d22a21ac42": {
      "model_module": "@jupyter-widgets/base",
      "model_module_version": "1.1.0",
      "model_name": "LayoutModel",
      "state": {}
     },
     "0f25d26260bd44dca973e19ddcc72a4f": {
      "model_module": "@jupyter-widgets/controls",
      "model_module_version": "1.4.0",
      "model_name": "ButtonModel",
      "state": {
       "button_style": "info",
       "icon": "refresh",
       "layout": "IPY_MODEL_9045edafb63d4e9eac37a05b7f392d79",
       "style": "IPY_MODEL_c97e0b0e4bb744d496cdcbe8d9c3efaa"
      }
     },
     "0f6d7fa726c047ae9560b11136894e03": {
      "model_module": "@jupyter-widgets/base",
      "model_module_version": "1.1.0",
      "model_name": "LayoutModel",
      "state": {
       "width": "auto"
      }
     },
     "0f98bbe7febb45f486e511cd3d4671d2": {
      "model_module": "@jupyter-widgets/controls",
      "model_module_version": "1.4.0",
      "model_name": "DescriptionStyleModel",
      "state": {
       "description_width": ""
      }
     },
     "1008bff0cbec4e578768692b6bd80d7b": {
      "model_module": "@jupyter-widgets/controls",
      "model_module_version": "1.4.0",
      "model_name": "DescriptionStyleModel",
      "state": {
       "description_width": ""
      }
     },
     "10597d7bd085450ebc746050dbde8bab": {
      "model_module": "@jupyter-widgets/controls",
      "model_module_version": "1.4.0",
      "model_name": "HBoxModel",
      "state": {
       "children": [
        "IPY_MODEL_79b46390f03b4960a4d89690e41c7eae",
        "IPY_MODEL_32ea00bdbfc346468f3fd93f112d9fa9"
       ],
       "layout": "IPY_MODEL_dc1806a3a56a420989350207da92d99a"
      }
     },
     "10dcb9f67d2641949475ecf0796060d1": {
      "model_module": "@jupyter-widgets/controls",
      "model_module_version": "1.4.0",
      "model_name": "ButtonStyleModel",
      "state": {}
     },
     "12947dd661314463a72da581beed6d3a": {
      "model_module": "@jupyter-widgets/controls",
      "model_module_version": "1.4.0",
      "model_name": "TextModel",
      "state": {
       "layout": "IPY_MODEL_b743a056e4104c409211fce2858d50f1",
       "placeholder": "Variable Name:",
       "style": "IPY_MODEL_1c7fb4812417415cb277d8350838ec93"
      }
     },
     "139f584f15214ce79eb7379cf3ced3a7": {
      "model_module": "@jupyter-widgets/base",
      "model_module_version": "1.1.0",
      "model_name": "LayoutModel",
      "state": {}
     },
     "14d1105fb7d349f19b9bc288e018418f": {
      "model_module": "@jupyter-widgets/base",
      "model_module_version": "1.1.0",
      "model_name": "LayoutModel",
      "state": {}
     },
     "14e2fe631f8c48fb9bd0977e56d04da2": {
      "model_module": "@jupyter-widgets/base",
      "model_module_version": "1.1.0",
      "model_name": "LayoutModel",
      "state": {}
     },
     "14f1c1657839485286b0edc99c877a2b": {
      "model_module": "@jupyter-widgets/controls",
      "model_module_version": "1.4.0",
      "model_name": "ButtonModel",
      "state": {
       "button_style": "success",
       "description": "Save",
       "layout": "IPY_MODEL_fb2b8542e55d416788ff721d98e589b3",
       "style": "IPY_MODEL_0acef323906942b6b16ea8df3a3be490"
      }
     },
     "154421a0be3548adad71e6e271c876ed": {
      "model_module": "@jupyter-widgets/controls",
      "model_module_version": "1.4.0",
      "model_name": "DescriptionStyleModel",
      "state": {
       "description_width": ""
      }
     },
     "1581aeeeb5ee466cb21f69e66c7c976c": {
      "model_module": "@jupyter-widgets/controls",
      "model_module_version": "1.4.0",
      "model_name": "DescriptionStyleModel",
      "state": {
       "description_width": ""
      }
     },
     "1666a712810f4d8787a325b958f28204": {
      "model_module": "@jupyter-widgets/controls",
      "model_module_version": "1.4.0",
      "model_name": "HTMLModel",
      "state": {
       "layout": "IPY_MODEL_e819caf51a064926bed452b7a142ebe8",
       "style": "IPY_MODEL_0342a6d02528486591c688c2e42aad5c",
       "value": "<h3> </h3>"
      }
     },
     "16e438de842e456a8ef9207c29d2f667": {
      "model_module": "@jupyter-widgets/controls",
      "model_module_version": "1.4.0",
      "model_name": "VBoxModel",
      "state": {
       "children": [
        "IPY_MODEL_9b7e741094da400ea7a84841c2efdbe6",
        "IPY_MODEL_5b3bbdb27d47419a961daa3df650be4f",
        "IPY_MODEL_ed532c60328c461fb74e6eabd8c85f3d",
        "IPY_MODEL_b4901392f072474c9e80e4bcdea7330e",
        "IPY_MODEL_746fc9f15f8445e388fe86b2f346dc12",
        "IPY_MODEL_1a763da56ae54c96be222ba1af4cb059",
        "IPY_MODEL_ba24b3fcea724b1da47978796e953d39",
        "IPY_MODEL_3af39602e052434a82b873635b57e788",
        "IPY_MODEL_b4897ae9247e4d73bb7ac0610f119288",
        "IPY_MODEL_2734beb3261441e2ac71f6c1ee647b17",
        "IPY_MODEL_827c9b3d9fcd40f99964bc01d144e060"
       ],
       "layout": "IPY_MODEL_ce061e57dc324e018bb8b891886d5bdb"
      }
     },
     "175ec8581d97425ab796b4b8ba9fc30a": {
      "model_module": "@jupyter-widgets/controls",
      "model_module_version": "1.4.0",
      "model_name": "HTMLModel",
      "state": {
       "layout": "IPY_MODEL_8bbc6203bcb84b8881abe523f5ea9f7a",
       "style": "IPY_MODEL_ed1bcb7b35594b53acc979b4a18e4d8f",
       "value": "<h5>Title  &nbsp</h5> "
      }
     },
     "177857ca6d984c20a0da337846d4169a": {
      "model_module": "@jupyter-widgets/controls",
      "model_module_version": "1.4.0",
      "model_name": "ButtonStyleModel",
      "state": {}
     },
     "1784f7e9a3dc4490ac09362ed1a65bad": {
      "model_module": "@jupyter-widgets/controls",
      "model_module_version": "1.4.0",
      "model_name": "TextModel",
      "state": {
       "description": "Username :",
       "layout": "IPY_MODEL_8badc3816cfd4f4e8a5706b98c407b7a",
       "style": "IPY_MODEL_603f34d03a764dbe8898c935821aa093"
      }
     },
     "1797fe572e434147be3c64ddb4a2145b": {
      "model_module": "@jupyter-widgets/controls",
      "model_module_version": "1.4.0",
      "model_name": "DescriptionStyleModel",
      "state": {
       "description_width": ""
      }
     },
     "17a28ef023d2497f8dde6e24ce465c2e": {
      "model_module": "@jupyter-widgets/controls",
      "model_module_version": "1.4.0",
      "model_name": "LabelModel",
      "state": {
       "layout": "IPY_MODEL_26195f7289f94b7abef26b2a0239aadb",
       "style": "IPY_MODEL_547f36bb44bc4100badbbb1ab1da9a0c",
       "value": "See-Through :"
      }
     },
     "17c37f38866440b4ad22987985f52da1": {
      "model_module": "@jupyter-widgets/controls",
      "model_module_version": "1.4.0",
      "model_name": "HTMLModel",
      "state": {
       "layout": "IPY_MODEL_de00e7ae77b24844869f75b8126cb275",
       "style": "IPY_MODEL_c69308d112fb47bf821837e203115fd2",
       "value": "<h3> </h3>"
      }
     },
     "1809f21e28c14b0d8872386d571531dc": {
      "model_module": "@jupyter-widgets/controls",
      "model_module_version": "1.4.0",
      "model_name": "TextModel",
      "state": {
       "layout": "IPY_MODEL_4482580710c144e381fbfbe0f4fe1e01",
       "style": "IPY_MODEL_b33c2be08854444b9df69671ea38a13b"
      }
     },
     "18254e93d259488e97ae3fcbaabc3c22": {
      "model_module": "@jupyter-widgets/base",
      "model_module_version": "1.1.0",
      "model_name": "LayoutModel",
      "state": {
       "padding": "10px 0px 0px 0px"
      }
     },
     "1890779b3adb443eaa24de088e4e0aab": {
      "model_module": "@jupyter-widgets/controls",
      "model_module_version": "1.4.0",
      "model_name": "DescriptionStyleModel",
      "state": {
       "description_width": ""
      }
     },
     "1891cf28341a47489cb34d5b0f523227": {
      "model_module": "@jupyter-widgets/controls",
      "model_module_version": "1.4.0",
      "model_name": "TextModel",
      "state": {
       "layout": "IPY_MODEL_3c8770aa17a644aaa860c7d14fb5036b",
       "style": "IPY_MODEL_f3cd680432254caea7ff87579600c239",
       "value": "Title Text Title Text"
      }
     },
     "18f540aff3ed4600820db855f6cd13b7": {
      "model_module": "@jupyter-widgets/controls",
      "model_module_version": "1.4.0",
      "model_name": "LabelModel",
      "state": {
       "layout": "IPY_MODEL_d12775bde18246ef87af2c16c7b7a729",
       "style": "IPY_MODEL_c857f87d49f34a9ca27b959066bb6e3a",
       "value": "See-Through :"
      }
     },
     "1a763da56ae54c96be222ba1af4cb059": {
      "model_module": "@jupyter-widgets/controls",
      "model_module_version": "1.4.0",
      "model_name": "HBoxModel",
      "state": {
       "children": [
        "IPY_MODEL_58074a5bd1e54ea1a65c498bac13eb18",
        "IPY_MODEL_365fa09e7461427ebde6174da698f6b8"
       ],
       "layout": "IPY_MODEL_f080ee82a6de4c77a31d0d6e934122fe"
      }
     },
     "1a9daffac30c421990fada9d458093cb": {
      "model_module": "@jupyter-widgets/controls",
      "model_module_version": "1.4.0",
      "model_name": "ButtonStyleModel",
      "state": {}
     },
     "1b5ede00d1954814be3fb1d2ca3179eb": {
      "model_module": "@jupyter-widgets/controls",
      "model_module_version": "1.4.0",
      "model_name": "DescriptionStyleModel",
      "state": {
       "description_width": ""
      }
     },
     "1badf437f35f4356b465c37e610bb582": {
      "model_module": "@jupyter-widgets/base",
      "model_module_version": "1.1.0",
      "model_name": "LayoutModel",
      "state": {}
     },
     "1c38a82b9b7a4373968196839874ed14": {
      "model_module": "@jupyter-widgets/base",
      "model_module_version": "1.1.0",
      "model_name": "LayoutModel",
      "state": {}
     },
     "1c7fb4812417415cb277d8350838ec93": {
      "model_module": "@jupyter-widgets/controls",
      "model_module_version": "1.4.0",
      "model_name": "DescriptionStyleModel",
      "state": {
       "description_width": ""
      }
     },
     "1c9b49b5ef7446db8f8c6f1fded164be": {
      "model_module": "@jupyter-widgets/controls",
      "model_module_version": "1.4.0",
      "model_name": "FloatSliderModel",
      "state": {
       "layout": "IPY_MODEL_02b81cf13736422ab9540643aa753ad8",
       "max": 1,
       "step": 0.05,
       "style": "IPY_MODEL_cd2d040a4de54935bb686911024f6c2e",
       "value": 0.5
      }
     },
     "1cc462e016e8432288c92518c13c2c40": {
      "model_module": "@jupyter-widgets/controls",
      "model_module_version": "1.4.0",
      "model_name": "TextModel",
      "state": {
       "continuous_update": false,
       "layout": "IPY_MODEL_2bb30402f39f415184e4d8a0afb77f5e",
       "style": "IPY_MODEL_81849db3cfda444b87da42a3f26b6b4d"
      }
     },
     "1d519693bcce47f896b9fc331afbbdd6": {
      "model_module": "@jupyter-widgets/base",
      "model_module_version": "1.1.0",
      "model_name": "LayoutModel",
      "state": {}
     },
     "1d552e32e04a463cb8143f347d64a89d": {
      "model_module": "@jupyter-widgets/controls",
      "model_module_version": "1.4.0",
      "model_name": "VBoxModel",
      "state": {
       "layout": "IPY_MODEL_53751aae948645dbb01bedc0eaa24305"
      }
     },
     "1db5fb0575154f54a66cc9ea238b0d65": {
      "model_module": "@jupyter-widgets/controls",
      "model_module_version": "1.4.0",
      "model_name": "DescriptionStyleModel",
      "state": {
       "description_width": ""
      }
     },
     "1dd00f91b47045a8811effe52a2c83cb": {
      "model_module": "@jupyter-widgets/controls",
      "model_module_version": "1.4.0",
      "model_name": "ButtonModel",
      "state": {
       "button_style": "warning",
       "description": "Start Cytoscape!",
       "layout": "IPY_MODEL_d29d9b9d05344356ab1fac2e6d2acfb7",
       "style": "IPY_MODEL_f84a4d6d683e4491a5d04096de73917e"
      }
     },
     "1e3898599a604bcbbe8e744cb90d2b87": {
      "model_module": "@jupyter-widgets/controls",
      "model_module_version": "1.4.0",
      "model_name": "ButtonModel",
      "state": {
       "button_style": "success",
       "icon": "image",
       "layout": "IPY_MODEL_fed7b1fffb274492b087b31c7769442e",
       "style": "IPY_MODEL_5f655c4f3b1f405b96819c67cd81c50c"
      }
     },
     "1ebc3f527a3e45a0bacfcf1df2ca660e": {
      "model_module": "@jupyter-widgets/base",
      "model_module_version": "1.1.0",
      "model_name": "LayoutModel",
      "state": {
       "height": "80px",
       "width": "99%"
      }
     },
     "1eef45cf490941e298ca961feda87449": {
      "model_module": "@jupyter-widgets/base",
      "model_module_version": "1.1.0",
      "model_name": "LayoutModel",
      "state": {}
     },
     "1efc2fbc0ad3400991cfd8602a9aa29c": {
      "model_module": "@jupyter-widgets/controls",
      "model_module_version": "1.4.0",
      "model_name": "TextareaModel",
      "state": {
       "layout": "IPY_MODEL_1ebc3f527a3e45a0bacfcf1df2ca660e",
       "style": "IPY_MODEL_5ec74c73dd454798aaa0eef33ed11ea8",
       "value": "body text body text body text body text body text body text body text body text body text body text body text body text body text body text body text body text body text body text body text body text body text body text body text body text "
      }
     },
     "1f38d905caae4906b2ba7a42e6973740": {
      "model_module": "@jupyter-widgets/controls",
      "model_module_version": "1.4.0",
      "model_name": "ColorPickerModel",
      "state": {
       "disabled": false,
       "layout": "IPY_MODEL_5519062a8032475eb48ec37853f9bff5",
       "style": "IPY_MODEL_da087fe14ee94eea9cb69eb31cc19ee7"
      }
     },
     "1f547060dff6438192c1f8e4522897f0": {
      "model_module": "@jupyter-widgets/controls",
      "model_module_version": "1.4.0",
      "model_name": "HBoxModel",
      "state": {
       "children": [
        "IPY_MODEL_a3055c213ad448ce86417447e51f9aa0",
        "IPY_MODEL_3fb794cb3dbe425fbdb7c3942cd8ea96",
        "IPY_MODEL_0f25d26260bd44dca973e19ddcc72a4f",
        "IPY_MODEL_b0a608b7609049ae8f0806872acd1a68"
       ],
       "layout": "IPY_MODEL_9569af4d414b4624bc215589af7cbbde"
      }
     },
     "1ff2ed8190d1464aa3ccc61ef8b2d7f2": {
      "model_module": "@jupyter-widgets/controls",
      "model_module_version": "1.4.0",
      "model_name": "LabelModel",
      "state": {
       "layout": "IPY_MODEL_26a381be3dff4acdabccaf84b4e2eee7",
       "style": "IPY_MODEL_1db5fb0575154f54a66cc9ea238b0d65",
       "value": "Size :"
      }
     },
     "2008f4893eef47f4814a0f796d100a97": {
      "model_module": "@jupyter-widgets/controls",
      "model_module_version": "1.4.0",
      "model_name": "HTMLModel",
      "state": {
       "layout": "IPY_MODEL_9b9b2ac5546447c7beb5f650913e449f",
       "style": "IPY_MODEL_b1cb3684f9ac4b1ebe31071860e1c76a",
       "value": "<h3> </h3>"
      }
     },
     "203545e807624ffda232d9df49dacdb3": {
      "model_module": "@jupyter-widgets/controls",
      "model_module_version": "1.4.0",
      "model_name": "LabelModel",
      "state": {
       "layout": "IPY_MODEL_62c675fe855d473898faa68c727df947",
       "style": "IPY_MODEL_ee6c615944fe4f2c8047b37fb0698a09",
       "value": "Size :"
      }
     },
     "205812700a8e4b8e8fc5ebbf3b1b3017": {
      "model_module": "@jupyter-widgets/controls",
      "model_module_version": "1.4.0",
      "model_name": "TextModel",
      "state": {
       "description": "Username :",
       "layout": "IPY_MODEL_3bc2b723824644c990db31e5a7b9979b",
       "style": "IPY_MODEL_53d20a13174e4ef08deb084eb54bc5a9"
      }
     },
     "209cbfdec42f4d35bdae3502db1aade2": {
      "model_module": "@jupyter-widgets/base",
      "model_module_version": "1.1.0",
      "model_name": "LayoutModel",
      "state": {}
     },
     "211d40f963d744dc931af68f2856713f": {
      "model_module": "@jupyter-widgets/controls",
      "model_module_version": "1.4.0",
      "model_name": "FloatSliderModel",
      "state": {
       "layout": "IPY_MODEL_14e2fe631f8c48fb9bd0977e56d04da2",
       "max": 1,
       "step": 0.05,
       "style": "IPY_MODEL_8ef3406d2f1a4ea7ad9a4380ad8a83e7",
       "value": 0.5
      }
     },
     "21e1d17730934987b3cc38946883bf1e": {
      "model_module": "@jupyter-widgets/controls",
      "model_module_version": "1.4.0",
      "model_name": "ButtonStyleModel",
      "state": {}
     },
     "2217c0f1f7b74e4f950d75373ad35e42": {
      "model_module": "@jupyter-widgets/base",
      "model_module_version": "1.1.0",
      "model_name": "LayoutModel",
      "state": {}
     },
     "2292af1cc6dd45e39850452b1f0384ac": {
      "model_module": "@jupyter-widgets/controls",
      "model_module_version": "1.4.0",
      "model_name": "VBoxModel",
      "state": {
       "children": [
        "IPY_MODEL_e99b64bf90d9453db06ac5753aff1b10",
        "IPY_MODEL_594befe33b9440c29ee60de65188bb40"
       ],
       "layout": "IPY_MODEL_c7483a2c0fab479f97f40138d79a3247"
      }
     },
     "22aed85d15d84ca798be5f0fd828b964": {
      "model_module": "@jupyter-widgets/controls",
      "model_module_version": "1.4.0",
      "model_name": "HBoxModel",
      "state": {
       "children": [
        "IPY_MODEL_96cb1dcb8aee4db388a2163cff9bc8bd"
       ],
       "layout": "IPY_MODEL_bdd015eb072b44e49e24006649b5d739"
      }
     },
     "22c1994f521b4493bdc6131f190fb3df": {
      "model_module": "@jupyter-widgets/controls",
      "model_module_version": "1.4.0",
      "model_name": "HBoxModel",
      "state": {
       "children": [
        "IPY_MODEL_5a6854b89d654eba95692188f73fb93b",
        "IPY_MODEL_87b6f546f81a4033980b9728fa25bfaa",
        "IPY_MODEL_e7613bfff2964e68a9e91a0d5bf526a8",
        "IPY_MODEL_5b2460a14f45404ca73fb4abe6383c01"
       ],
       "layout": "IPY_MODEL_3a0ad46db59046f2b1f14d48320af829"
      }
     },
     "2301428ee48b4a9db0b98a8efc961ecd": {
      "model_module": "@jupyter-widgets/controls",
      "model_module_version": "1.4.0",
      "model_name": "SliderStyleModel",
      "state": {
       "description_width": ""
      }
     },
     "2375a5cecb434c009a449599fdee77f4": {
      "model_module": "@jupyter-widgets/base",
      "model_module_version": "1.1.0",
      "model_name": "LayoutModel",
      "state": {}
     },
     "244c41aaf5b34e2396700d2187265ef4": {
      "model_module": "@jupyter-widgets/controls",
      "model_module_version": "1.4.0",
      "model_name": "ButtonStyleModel",
      "state": {}
     },
     "2456a30b9e9b40a68d9bb039ae826de0": {
      "model_module": "@jupyter-widgets/controls",
      "model_module_version": "1.4.0",
      "model_name": "DescriptionStyleModel",
      "state": {
       "description_width": ""
      }
     },
     "24963d574ed54775a06656cd7116f5cb": {
      "model_module": "@jupyter-widgets/base",
      "model_module_version": "1.1.0",
      "model_name": "LayoutModel",
      "state": {
       "padding": "10px 0px 0px 0px"
      }
     },
     "2563aed697d04962b346963ab87c11dc": {
      "model_module": "@jupyter-widgets/controls",
      "model_module_version": "1.4.0",
      "model_name": "ToggleButtonsStyleModel",
      "state": {
       "button_width": "",
       "description_width": ""
      }
     },
     "259ba919a89a464db8ed4cdcf51fc7bb": {
      "model_module": "@jupyter-widgets/controls",
      "model_module_version": "1.4.0",
      "model_name": "DescriptionStyleModel",
      "state": {
       "description_width": ""
      }
     },
     "25a8de9f6a8f483e90fc572d0433921d": {
      "model_module": "@jupyter-widgets/base",
      "model_module_version": "1.1.0",
      "model_name": "LayoutModel",
      "state": {}
     },
     "260e5476aaa449bea81afe2af866c0b1": {
      "model_module": "@jupyter-widgets/controls",
      "model_module_version": "1.4.0",
      "model_name": "VBoxModel",
      "state": {
       "children": [
        "IPY_MODEL_5214002f39c74ecda0c74e7bbb297157",
        "IPY_MODEL_a0dc1733539c486595d9621371726a34",
        "IPY_MODEL_22aed85d15d84ca798be5f0fd828b964",
        "IPY_MODEL_1666a712810f4d8787a325b958f28204"
       ],
       "layout": "IPY_MODEL_9200e0930cae422aa9c6c290dd6bd26b"
      }
     },
     "26122d0327a24312b70a6236cbc02e55": {
      "model_module": "@jupyter-widgets/base",
      "model_module_version": "1.1.0",
      "model_name": "LayoutModel",
      "state": {
       "align_items": "center"
      }
     },
     "26195f7289f94b7abef26b2a0239aadb": {
      "model_module": "@jupyter-widgets/base",
      "model_module_version": "1.1.0",
      "model_name": "LayoutModel",
      "state": {}
     },
     "2649eb5a53904f56a9a27b3dfd638245": {
      "model_module": "@jupyter-widgets/controls",
      "model_module_version": "1.4.0",
      "model_name": "ToggleButtonsModel",
      "state": {
       "_options_labels": [
        "Python",
        "HTML"
       ],
       "button_style": "success",
       "icons": [],
       "index": 0,
       "layout": "IPY_MODEL_a4fe5b958ed14a99a6a7a175d4aa07b1",
       "style": "IPY_MODEL_2563aed697d04962b346963ab87c11dc",
       "tooltips": []
      }
     },
     "2662b490f96a4343b4d8913067b68335": {
      "model_module": "@jupyter-widgets/base",
      "model_module_version": "1.1.0",
      "model_name": "LayoutModel",
      "state": {
       "padding": "0 15px 0 35px"
      }
     },
     "26744fb268554b449ad73f7d3f0600c3": {
      "model_module": "@jupyter-widgets/base",
      "model_module_version": "1.1.0",
      "model_name": "LayoutModel",
      "state": {}
     },
     "269c66f041404eb8b5da99ae5e665275": {
      "model_module": "@jupyter-widgets/base",
      "model_module_version": "1.1.0",
      "model_name": "LayoutModel",
      "state": {
       "width": "auto"
      }
     },
     "26a381be3dff4acdabccaf84b4e2eee7": {
      "model_module": "@jupyter-widgets/base",
      "model_module_version": "1.1.0",
      "model_name": "LayoutModel",
      "state": {}
     },
     "26ab4747a8e84841b7f62bc7c72d707e": {
      "model_module": "@jupyter-widgets/controls",
      "model_module_version": "1.4.0",
      "model_name": "VBoxModel",
      "state": {
       "children": [
        "IPY_MODEL_66a4dda1be8545238dd8e4455f4e0853",
        "IPY_MODEL_a825d2bbf3f1486b9bc9d2829d3b222a",
        "IPY_MODEL_f0479841ac614f418a90da09c6a30826",
        "IPY_MODEL_7d7ac283a844447ab139ca98b334333a",
        "IPY_MODEL_0a8ea2dec62244b1bdcbd8a10198bb68",
        "IPY_MODEL_1d552e32e04a463cb8143f347d64a89d"
       ],
       "layout": "IPY_MODEL_7f59f7b678814efea0df111955e908a0"
      }
     },
     "26fbe187b6654c09b4cca60df2cbd147": {
      "model_module": "@jupyter-widgets/controls",
      "model_module_version": "1.4.0",
      "model_name": "VBoxModel",
      "state": {
       "children": [
        "IPY_MODEL_aff23590b7ee4b55a83fc7a13f02e264",
        "IPY_MODEL_5d6692ba17fe4b0c8980e87fb361edf3",
        "IPY_MODEL_2f2a6d83fd8740d0b1d47ad715fcf6fd",
        "IPY_MODEL_2008f4893eef47f4814a0f796d100a97"
       ],
       "layout": "IPY_MODEL_792a4c0201a744b7bd153d2f41997baf"
      }
     },
     "27107ae3605a4b178e9057253967ea61": {
      "model_module": "@jupyter-widgets/base",
      "model_module_version": "1.1.0",
      "model_name": "LayoutModel",
      "state": {}
     },
     "2717929d98ea4c86b27ebb012f68bcca": {
      "model_module": "@jupyter-widgets/controls",
      "model_module_version": "1.4.0",
      "model_name": "ButtonStyleModel",
      "state": {}
     },
     "2734beb3261441e2ac71f6c1ee647b17": {
      "model_module": "@jupyter-widgets/controls",
      "model_module_version": "1.4.0",
      "model_name": "HBoxModel",
      "state": {
       "children": [
        "IPY_MODEL_324daa1c046b4ab7a0002ef779119ddc",
        "IPY_MODEL_37d94c2ee92b4d1bbb65cd03d8dc4663"
       ],
       "layout": "IPY_MODEL_6d63eeccdafb4224b90f9b2629a38764"
      }
     },
     "276ad2774efc43b6980e694c937db8c5": {
      "model_module": "@jupyter-widgets/controls",
      "model_module_version": "1.4.0",
      "model_name": "DescriptionStyleModel",
      "state": {
       "description_width": ""
      }
     },
     "27b8dcf4b476434db95fca7f33074d92": {
      "model_module": "@jupyter-widgets/controls",
      "model_module_version": "1.4.0",
      "model_name": "DescriptionStyleModel",
      "state": {
       "description_width": ""
      }
     },
     "28cc5d18becc4a66abc6534ceada752d": {
      "model_module": "@jupyter-widgets/base",
      "model_module_version": "1.1.0",
      "model_name": "LayoutModel",
      "state": {
       "justify_content": "center",
       "padding": "10px 0px 0px 0px"
      }
     },
     "28e62f9fb25a4712a6c3ce8edc83dd97": {
      "model_module": "@jupyter-widgets/controls",
      "model_module_version": "1.4.0",
      "model_name": "HBoxModel",
      "state": {
       "children": [
        "IPY_MODEL_efdeb78f563143a0bc962b1db8c83195"
       ],
       "layout": "IPY_MODEL_5bae93de7cca49699fe42ecbbc817b2d"
      }
     },
     "297b561b79a5481f86b3d2145d0d31a7": {
      "model_module": "@jupyter-widgets/controls",
      "model_module_version": "1.4.0",
      "model_name": "ButtonModel",
      "state": {
       "button_style": "primary",
       "description": "Download",
       "layout": "IPY_MODEL_41ec42a283fb45b7aa6d13def60d19b2",
       "style": "IPY_MODEL_e0dee39e323844ee83d2ad8ba689923c"
      }
     },
     "299b0da4ca804d71b4444ef486abdf9a": {
      "model_module": "@jupyter-widgets/base",
      "model_module_version": "1.1.0",
      "model_name": "LayoutModel",
      "state": {
       "margin": "2px 25px 2px 0px",
       "width": "auto"
      }
     },
     "29bca2b8eb324beca68916b300e7a4e8": {
      "model_module": "@jupyter-widgets/controls",
      "model_module_version": "1.4.0",
      "model_name": "TextModel",
      "state": {
       "layout": "IPY_MODEL_2dc2f15ac517497ebd03b692b915fd9a",
       "style": "IPY_MODEL_1581aeeeb5ee466cb21f69e66c7c976c"
      }
     },
     "2a07b0b8f5fa4d688d6b4bc9e4bd8ad0": {
      "model_module": "@jupyter-widgets/controls",
      "model_module_version": "1.4.0",
      "model_name": "DescriptionStyleModel",
      "state": {
       "description_width": ""
      }
     },
     "2a7229b0bed54b35ba70b6a9b064d5c8": {
      "model_module": "@jupyter-widgets/controls",
      "model_module_version": "1.4.0",
      "model_name": "ButtonModel",
      "state": {
       "button_style": "warning",
       "description": "Start Cytoscape!",
       "layout": "IPY_MODEL_bc05f4aff5544733b4f454c7dade735e",
       "style": "IPY_MODEL_077f5cca86e74f27a6c75b52600797ba"
      }
     },
     "2b428c25cc5844c3bcff67941b292763": {
      "model_module": "@jupyter-widgets/base",
      "model_module_version": "1.1.0",
      "model_name": "LayoutModel",
      "state": {}
     },
     "2b475458142e4c7cb54d7650184a3aee": {
      "model_module": "@jupyter-widgets/controls",
      "model_module_version": "1.4.0",
      "model_name": "LabelModel",
      "state": {
       "layout": "IPY_MODEL_0139e18a27144040998b64cad4ac13f0",
       "style": "IPY_MODEL_57d4d85db1644eb0af7495dfa9fe6e8a",
       "value": "See-Through :"
      }
     },
     "2b6b544f57d946da9643bc540db93cd8": {
      "model_module": "@jupyter-widgets/controls",
      "model_module_version": "1.4.0",
      "model_name": "HBoxModel",
      "state": {
       "children": [
        "IPY_MODEL_d2ac2b215f70459ba7909cf91ebd46f6",
        "IPY_MODEL_2be39ae83b864995a3b3ce35b0158e5c"
       ],
       "layout": "IPY_MODEL_88cd4178c9614260acd3715ecedcfb2a"
      }
     },
     "2bb30402f39f415184e4d8a0afb77f5e": {
      "model_module": "@jupyter-widgets/base",
      "model_module_version": "1.1.0",
      "model_name": "LayoutModel",
      "state": {}
     },
     "2bd5971fe4344be1839d15d975991018": {
      "model_module": "@jupyter-widgets/controls",
      "model_module_version": "1.4.0",
      "model_name": "DropdownModel",
      "state": {
       "_options_labels": [
        "center",
        "top",
        "bottom",
        "left",
        "right"
       ],
       "index": 0,
       "layout": "IPY_MODEL_b84469eaa2c64d02b60ce7708995123b",
       "style": "IPY_MODEL_c222716075b64d9bb86781d426d5401a"
      }
     },
     "2be39ae83b864995a3b3ce35b0158e5c": {
      "model_module": "@jupyter-widgets/controls",
      "model_module_version": "1.4.0",
      "model_name": "DropdownModel",
      "state": {
       "_options_labels": [
        "ellipse",
        "triangle",
        "rectangle",
        "rhomboid",
        "diamond",
        "pentagon",
        "hexagon",
        "concavehexagon",
        "heptagon",
        "octagon",
        "star",
        "tag",
        "vee"
       ],
       "index": 0,
       "layout": "IPY_MODEL_0af5c728fe164301afb7c6d1174bd3a6",
       "style": "IPY_MODEL_b9d5b67566cc4a87a95ddd86277b59eb"
      }
     },
     "2cea50b3af8048928a53a3e9c8e75008": {
      "model_module": "@jupyter-widgets/base",
      "model_module_version": "1.1.0",
      "model_name": "LayoutModel",
      "state": {}
     },
     "2dc2f15ac517497ebd03b692b915fd9a": {
      "model_module": "@jupyter-widgets/base",
      "model_module_version": "1.1.0",
      "model_name": "LayoutModel",
      "state": {}
     },
     "2e22605a5e754b5ea01a88cede1480b9": {
      "model_module": "@jupyter-widgets/controls",
      "model_module_version": "1.4.0",
      "model_name": "HBoxModel",
      "state": {
       "children": [
        "IPY_MODEL_3ca937cc3b7a446a8212da1487d17575",
        "IPY_MODEL_a064789ac5f244d4978cc80232c067fd"
       ],
       "layout": "IPY_MODEL_d0cadc15863d4b9492828fc1eaeeaa8e"
      }
     },
     "2e7964500b2d4c9a935deb3bcb6cfd04": {
      "model_module": "@jupyter-widgets/controls",
      "model_module_version": "1.4.0",
      "model_name": "HBoxModel",
      "state": {
       "children": [
        "IPY_MODEL_def4276d4a65452c95ddd35b39560202",
        "IPY_MODEL_1809f21e28c14b0d8872386d571531dc",
        "IPY_MODEL_14f1c1657839485286b0edc99c877a2b",
        "IPY_MODEL_360cf6a55de346ff9d0d92bd4d789791"
       ],
       "layout": "IPY_MODEL_549d0071fc914a169ab30c3c89ec996a"
      }
     },
     "2efd2fdb682849a68e192262a6d55076": {
      "model_module": "@jupyter-widgets/controls",
      "model_module_version": "1.4.0",
      "model_name": "DescriptionStyleModel",
      "state": {
       "description_width": ""
      }
     },
     "2f2a6d83fd8740d0b1d47ad715fcf6fd": {
      "model_module": "@jupyter-widgets/controls",
      "model_module_version": "1.4.0",
      "model_name": "HBoxModel",
      "state": {
       "children": [
        "IPY_MODEL_6eb52b55ae82459f95c0840db15cc55d"
       ],
       "layout": "IPY_MODEL_28cc5d18becc4a66abc6534ceada752d"
      }
     },
     "2fc01a1d8cd54d9b9856f35e014a97cb": {
      "model_module": "@jupyter-widgets/controls",
      "model_module_version": "1.4.0",
      "model_name": "ButtonModel",
      "state": {
       "button_style": "success",
       "description": "Save",
       "layout": "IPY_MODEL_a641317b7e5740d69ca824432513c95f",
       "style": "IPY_MODEL_d86527763b214f208d81413e433a7dd7"
      }
     },
     "3089864c1e5e462f88e689e4ca2e990e": {
      "model_module": "@jupyter-widgets/base",
      "model_module_version": "1.1.0",
      "model_name": "LayoutModel",
      "state": {}
     },
     "30c4db202f7f46baa9304ec31a5ccb06": {
      "model_module": "@jupyter-widgets/base",
      "model_module_version": "1.1.0",
      "model_name": "LayoutModel",
      "state": {}
     },
     "313b7e51af104473b8a4f60ba4a1e05b": {
      "model_module": "@jupyter-widgets/base",
      "model_module_version": "1.1.0",
      "model_name": "LayoutModel",
      "state": {
       "height": "80px",
       "width": "99%"
      }
     },
     "316cafba560a4e41bbb6939b7a7a332d": {
      "model_module": "@jupyter-widgets/controls",
      "model_module_version": "1.4.0",
      "model_name": "PasswordModel",
      "state": {
       "description": "Password :",
       "layout": "IPY_MODEL_62bf68130b3d47e69ce315ee16ab8b66",
       "style": "IPY_MODEL_666397144065401c8f9985343c57e481"
      }
     },
     "31ac334a5c504d33ad004239681ea04f": {
      "model_module": "@jupyter-widgets/controls",
      "model_module_version": "1.4.0",
      "model_name": "HTMLModel",
      "state": {
       "layout": "IPY_MODEL_5acf144bf610418bb285fac39b185ff8",
       "style": "IPY_MODEL_1890779b3adb443eaa24de088e4e0aab",
       "value": "<b><p>Variable &nbsp </p> </b>"
      }
     },
     "324daa1c046b4ab7a0002ef779119ddc": {
      "model_module": "@jupyter-widgets/controls",
      "model_module_version": "1.4.0",
      "model_name": "LabelModel",
      "state": {
       "layout": "IPY_MODEL_725dcf26c8e346b1ab1e59b8a766b3ab",
       "style": "IPY_MODEL_a0ba20be06f343d598c787db11a88373",
       "value": "End"
      }
     },
     "32ea00bdbfc346468f3fd93f112d9fa9": {
      "model_module": "@jupyter-widgets/controls",
      "model_module_version": "1.4.0",
      "model_name": "DropdownModel",
      "state": {
       "_options_labels": [
        "none",
        "triangle",
        "tee",
        "diamond",
        "square",
        "circle",
        "vee",
        "triangle-tee"
       ],
       "index": 0,
       "layout": "IPY_MODEL_1d519693bcce47f896b9fc331afbbdd6",
       "style": "IPY_MODEL_d7aaed7df95a4fd39d876552b6ee625c"
      }
     },
     "33c63c4fde784db9b388b3cd8760e6e6": {
      "model_module": "@jupyter-widgets/base",
      "model_module_version": "1.1.0",
      "model_name": "LayoutModel",
      "state": {
       "align_items": "center"
      }
     },
     "34115bc3b63f4bed968b8f80b08f757b": {
      "model_module": "@jupyter-widgets/controls",
      "model_module_version": "1.4.0",
      "model_name": "LabelModel",
      "state": {
       "layout": "IPY_MODEL_25a8de9f6a8f483e90fc572d0433921d",
       "style": "IPY_MODEL_ce673defe5a6467094e059fddce3d207",
       "value": "Size :"
      }
     },
     "34e5f439f06b433e8855d9e1ad4b0737": {
      "model_module": "@jupyter-widgets/base",
      "model_module_version": "1.1.0",
      "model_name": "LayoutModel",
      "state": {
       "width": "auto"
      }
     },
     "34eb312611024827bbb6a543929a88c6": {
      "model_module": "@jupyter-widgets/controls",
      "model_module_version": "1.4.0",
      "model_name": "DescriptionStyleModel",
      "state": {
       "description_width": ""
      }
     },
     "35150dce57a24024b45b38690a7ef9e9": {
      "model_module": "@jupyter-widgets/base",
      "model_module_version": "1.1.0",
      "model_name": "LayoutModel",
      "state": {
       "width": "auto"
      }
     },
     "355886a9ca8d4577ae1d3d89c6676c9f": {
      "model_module": "@jupyter-widgets/controls",
      "model_module_version": "1.4.0",
      "model_name": "VBoxModel",
      "state": {
       "children": [
        "IPY_MODEL_22c1994f521b4493bdc6131f190fb3df",
        "IPY_MODEL_3bafc46986ba45389d4ff1aa0aa7764b"
       ],
       "layout": "IPY_MODEL_75bd7fe99f4441188ee95dfcfae2bd3c"
      }
     },
     "359308b6b48b4ef58e7ac5002e1aadc4": {
      "model_module": "@jupyter-widgets/controls",
      "model_module_version": "1.4.0",
      "model_name": "LabelModel",
      "state": {
       "layout": "IPY_MODEL_ec99326d3f914f07a373a6a8d5bbc694",
       "style": "IPY_MODEL_685279f506ea468caeb90227acf325a7",
       "value": "Position :"
      }
     },
     "360cf6a55de346ff9d0d92bd4d789791": {
      "model_module": "@jupyter-widgets/controls",
      "model_module_version": "1.4.0",
      "model_name": "HTMLModel",
      "state": {
       "layout": "IPY_MODEL_d871fe6ee38248dc97b190720d0633fe",
       "style": "IPY_MODEL_c548742e9b704585abd428919b34a630",
       "value": " <h3 class='text-center text-success' style='margin:0'> Saved!</h3>"
      }
     },
     "362439b2b8054d52bc7217604585096a": {
      "model_module": "@jupyter-widgets/controls",
      "model_module_version": "1.4.0",
      "model_name": "DescriptionStyleModel",
      "state": {
       "description_width": ""
      }
     },
     "365f89469c4d4da0bef6f94be6a91ff3": {
      "model_module": "@jupyter-widgets/controls",
      "model_module_version": "1.4.0",
      "model_name": "DescriptionStyleModel",
      "state": {
       "description_width": ""
      }
     },
     "365fa09e7461427ebde6174da698f6b8": {
      "model_module": "@jupyter-widgets/controls",
      "model_module_version": "1.4.0",
      "model_name": "DropdownModel",
      "state": {
       "_options_labels": [
        "ellipse",
        "triangle",
        "rectangle",
        "rhomboid",
        "diamond",
        "pentagon",
        "hexagon",
        "concavehexagon",
        "heptagon",
        "octagon",
        "star",
        "tag",
        "vee"
       ],
       "index": 0,
       "layout": "IPY_MODEL_e3661a440e0d48a781956c680eb0e1ff",
       "style": "IPY_MODEL_cf2de666333a4de283f3bb61f79bde6a"
      }
     },
     "367cbd20b9614a20889ae6ce37f0989a": {
      "model_module": "@jupyter-widgets/controls",
      "model_module_version": "1.4.0",
      "model_name": "AccordionModel",
      "state": {
       "_titles": {
        "0": "Style",
        "1": "Label",
        "2": "Variables"
       },
       "children": [
        "IPY_MODEL_16e438de842e456a8ef9207c29d2f667",
        "IPY_MODEL_b170194695b04277b01ace0c5c7b9875",
        "IPY_MODEL_c6c2418938ff49308419ddf2b6012bba"
       ],
       "layout": "IPY_MODEL_c532de52d16e41549be8516caed80afd"
      }
     },
     "36e1d47475454dd0bcdbd85cfbf62058": {
      "model_module": "@jupyter-widgets/base",
      "model_module_version": "1.1.0",
      "model_name": "LayoutModel",
      "state": {
       "margin": "0px 0px 0px 5px",
       "min_width": "30px"
      }
     },
     "378da36e2f4349ef9c067a6cd50ee8f5": {
      "model_module": "@jupyter-widgets/base",
      "model_module_version": "1.1.0",
      "model_name": "LayoutModel",
      "state": {
       "padding": "10px 0px 0px 0px"
      }
     },
     "37d94c2ee92b4d1bbb65cd03d8dc4663": {
      "model_module": "@jupyter-widgets/controls",
      "model_module_version": "1.4.0",
      "model_name": "DropdownModel",
      "state": {
       "_options_labels": [
        "none",
        "triangle",
        "tee",
        "diamond",
        "square",
        "circle",
        "vee",
        "triangle-tee"
       ],
       "index": 0,
       "layout": "IPY_MODEL_806086a611664dd1993ae620baa5f1cf",
       "style": "IPY_MODEL_d09b4d7433914e43aa68a162242b0324"
      }
     },
     "3863fbae6a004fd2a5995ba861a1e773": {
      "model_module": "@jupyter-widgets/base",
      "model_module_version": "1.1.0",
      "model_name": "LayoutModel",
      "state": {}
     },
     "393c22eeaa57472e989ec862bf0f9cc1": {
      "model_module": "@jupyter-widgets/controls",
      "model_module_version": "1.4.0",
      "model_name": "ButtonStyleModel",
      "state": {}
     },
     "39a5f47accb44a698bda220e76fd5ec2": {
      "model_module": "@jupyter-widgets/controls",
      "model_module_version": "1.4.0",
      "model_name": "TextModel",
      "state": {
       "layout": "IPY_MODEL_3bf5df3f51e546bbac16617a028bb424",
       "placeholder": "Variable Name:",
       "style": "IPY_MODEL_425c3dbe268e4b4e9dcd7f38113ecf71"
      }
     },
     "3a0ad46db59046f2b1f14d48320af829": {
      "model_module": "@jupyter-widgets/base",
      "model_module_version": "1.1.0",
      "model_name": "LayoutModel",
      "state": {
       "justify_content": "center",
       "padding": "0px 20px 5px 0px"
      }
     },
     "3a244642cf6d46c782a414face7fd8ea": {
      "model_module": "@jupyter-widgets/base",
      "model_module_version": "1.1.0",
      "model_name": "LayoutModel",
      "state": {}
     },
     "3a804d53d67a4216b4f0e1cb2fb28389": {
      "model_module": "@jupyter-widgets/controls",
      "model_module_version": "1.4.0",
      "model_name": "HTMLModel",
      "state": {
       "layout": "IPY_MODEL_81a7fdb6a5b6467b8bc9143f8e125910",
       "style": "IPY_MODEL_a8c65d84606d43e88098702f0cbabd18",
       "value": "<h2 class='text-danger text-center'>Coming Soon! Wait for Update</h2>"
      }
     },
     "3ac79d30999643d2961fb9ec9c6d0e0d": {
      "model_module": "@jupyter-widgets/controls",
      "model_module_version": "1.4.0",
      "model_name": "HBoxModel",
      "state": {
       "children": [
        "IPY_MODEL_a9da136204bb44c8ac9aafaf823ac495",
        "IPY_MODEL_9c731c700b654dd88c6b6e5be0f049ca",
        "IPY_MODEL_d474cf175b744e4297ae75f1cd41abe7"
       ],
       "layout": "IPY_MODEL_18254e93d259488e97ae3fcbaabc3c22"
      }
     },
     "3adb47bc3cb5437b9788cb0f2bee1894": {
      "model_module": "@jupyter-widgets/base",
      "model_module_version": "1.1.0",
      "model_name": "LayoutModel",
      "state": {
       "padding": "10px 0px 0px 0px"
      }
     },
     "3af39602e052434a82b873635b57e788": {
      "model_module": "@jupyter-widgets/controls",
      "model_module_version": "1.4.0",
      "model_name": "HTMLModel",
      "state": {
       "layout": "IPY_MODEL_1c38a82b9b7a4373968196839874ed14",
       "style": "IPY_MODEL_154421a0be3548adad71e6e271c876ed",
       "value": "<h4 style='color:purple'>Edge :</h4>"
      }
     },
     "3b249f7082ba496f82154097d4674508": {
      "model_module": "@jupyter-widgets/base",
      "model_module_version": "1.1.0",
      "model_name": "LayoutModel",
      "state": {}
     },
     "3b35b80a8a6d4e4bb735e0a4baa4cd25": {
      "model_module": "@jupyter-widgets/controls",
      "model_module_version": "1.4.0",
      "model_name": "SelectModel",
      "state": {
       "_options_labels": [
        "Node",
        "Edge"
       ],
       "index": 0,
       "layout": "IPY_MODEL_83a1bd76f6924b399a5beb5d3db48d68",
       "style": "IPY_MODEL_2a07b0b8f5fa4d688d6b4bc9e4bd8ad0"
      }
     },
     "3b71d54cc26b4015bd8e82f2476ae0c8": {
      "model_module": "@jupyter-widgets/base",
      "model_module_version": "1.1.0",
      "model_name": "LayoutModel",
      "state": {
       "min_width": "30px"
      }
     },
     "3bafc46986ba45389d4ff1aa0aa7764b": {
      "model_module": "@jupyter-widgets/controls",
      "model_module_version": "1.4.0",
      "model_name": "HBoxModel",
      "state": {
       "children": [
        "IPY_MODEL_cf485375bdf4442e8bf64abc5ff1469f",
        "IPY_MODEL_faa02ad83c764fb09928948b2875deb9"
       ],
       "layout": "IPY_MODEL_87542ed5d10b40dc823812cb2d93eb3e"
      }
     },
     "3bc2b723824644c990db31e5a7b9979b": {
      "model_module": "@jupyter-widgets/base",
      "model_module_version": "1.1.0",
      "model_name": "LayoutModel",
      "state": {}
     },
     "3bf5df3f51e546bbac16617a028bb424": {
      "model_module": "@jupyter-widgets/base",
      "model_module_version": "1.1.0",
      "model_name": "LayoutModel",
      "state": {}
     },
     "3c14ba4677d64894b3f98817fffcf0b6": {
      "model_module": "@jupyter-widgets/controls",
      "model_module_version": "1.4.0",
      "model_name": "HBoxModel",
      "state": {
       "children": [
        "IPY_MODEL_359308b6b48b4ef58e7ac5002e1aadc4",
        "IPY_MODEL_2bd5971fe4344be1839d15d975991018"
       ],
       "layout": "IPY_MODEL_24963d574ed54775a06656cd7116f5cb"
      }
     },
     "3c8770aa17a644aaa860c7d14fb5036b": {
      "model_module": "@jupyter-widgets/base",
      "model_module_version": "1.1.0",
      "model_name": "LayoutModel",
      "state": {}
     },
     "3c95220afd254eb5b3482a38524c68ff": {
      "model_module": "@jupyter-widgets/controls",
      "model_module_version": "1.4.0",
      "model_name": "ButtonModel",
      "state": {
       "button_style": "success",
       "description": "Save",
       "layout": "IPY_MODEL_533a0934edc9475597e71b69f5c719b7",
       "style": "IPY_MODEL_b9edfa1959bb462aa578a90827b88634"
      }
     },
     "3ca937cc3b7a446a8212da1487d17575": {
      "model_module": "@jupyter-widgets/controls",
      "model_module_version": "1.4.0",
      "model_name": "LabelModel",
      "state": {
       "layout": "IPY_MODEL_0dfb36059c5f48418238c17a92e5a91e",
       "style": "IPY_MODEL_259ba919a89a464db8ed4cdcf51fc7bb",
       "value": "Color :"
      }
     },
     "3cb86f6d14664621aa25a302bbdc50e1": {
      "model_module": "@jupyter-widgets/controls",
      "model_module_version": "1.4.0",
      "model_name": "AccordionModel",
      "state": {
       "_titles": {
        "0": "Style",
        "1": "Label",
        "2": "Variables"
       },
       "children": [
        "IPY_MODEL_611f6301fc2f49e0ba312b0e360a8b5d",
        "IPY_MODEL_5e39fdf5f17c4e4e9f1e4018e0c1a826",
        "IPY_MODEL_26ab4747a8e84841b7f62bc7c72d707e"
       ],
       "layout": "IPY_MODEL_b6fb5623a71d4151ad6431f12528e3a2"
      }
     },
     "3d6384a637b24e26a508cb212f6136a7": {
      "model_module": "@jupyter-widgets/base",
      "model_module_version": "1.1.0",
      "model_name": "LayoutModel",
      "state": {
       "width": "auto"
      }
     },
     "3e0f40bd04fe4917a04c96abeeeb6248": {
      "model_module": "@jupyter-widgets/base",
      "model_module_version": "1.1.0",
      "model_name": "LayoutModel",
      "state": {}
     },
     "3e525043661448e59aba4e1c8f47ab16": {
      "model_module": "@jupyter-widgets/controls",
      "model_module_version": "1.4.0",
      "model_name": "DescriptionStyleModel",
      "state": {
       "description_width": ""
      }
     },
     "3ef044f0555c41aa81e60bc6f74fdf5d": {
      "model_module": "@jupyter-widgets/base",
      "model_module_version": "1.1.0",
      "model_name": "LayoutModel",
      "state": {
       "display": "none"
      }
     },
     "3f480269c4f94d38973f114c37be9c95": {
      "model_module": "@jupyter-widgets/controls",
      "model_module_version": "1.4.0",
      "model_name": "DescriptionStyleModel",
      "state": {
       "description_width": ""
      }
     },
     "3f556104237448d3aeb71383aba62ce0": {
      "model_module": "@jupyter-widgets/controls",
      "model_module_version": "1.4.0",
      "model_name": "DescriptionStyleModel",
      "state": {
       "description_width": ""
      }
     },
     "3fa51bec49aa4a6d82c8c1d2e7f2fe42": {
      "model_module": "@jupyter-widgets/base",
      "model_module_version": "1.1.0",
      "model_name": "LayoutModel",
      "state": {}
     },
     "3fb794cb3dbe425fbdb7c3942cd8ea96": {
      "model_module": "@jupyter-widgets/controls",
      "model_module_version": "1.4.0",
      "model_name": "DropdownModel",
      "state": {
       "index": null,
       "layout": "IPY_MODEL_fc2dda469af1485c9104f0c265099502",
       "style": "IPY_MODEL_05445bbefc8c4addaf8defed49845560"
      }
     },
     "3fe35040912346c9904744bee9e2625f": {
      "model_module": "@jupyter-widgets/controls",
      "model_module_version": "1.4.0",
      "model_name": "ButtonStyleModel",
      "state": {}
     },
     "406912ec89564b2d8911b2186b077c30": {
      "model_module": "@jupyter-widgets/base",
      "model_module_version": "1.1.0",
      "model_name": "LayoutModel",
      "state": {}
     },
     "40dc687279fd4750b75572d0689cbfe5": {
      "model_module": "@jupyter-widgets/controls",
      "model_module_version": "1.4.0",
      "model_name": "HTMLModel",
      "state": {
       "layout": "IPY_MODEL_893ca311595f45a0956d8350089d6e9b",
       "style": "IPY_MODEL_27b8dcf4b476434db95fca7f33074d92",
       "value": "<h5>Variable   &nbsp</h5> "
      }
     },
     "413cb41ab00c43a381c16c9a33b1cd91": {
      "model_module": "@jupyter-widgets/base",
      "model_module_version": "1.1.0",
      "model_name": "LayoutModel",
      "state": {}
     },
     "41ec42a283fb45b7aa6d13def60d19b2": {
      "model_module": "@jupyter-widgets/base",
      "model_module_version": "1.1.0",
      "model_name": "LayoutModel",
      "state": {}
     },
     "4212afb0225e42ba88fa1f6af68e8ee4": {
      "model_module": "@jupyter-widgets/base",
      "model_module_version": "1.1.0",
      "model_name": "LayoutModel",
      "state": {
       "align_items": "center",
       "display": "none"
      }
     },
     "42599e92aa2b462b8a3bf1e3e828d80c": {
      "model_module": "@jupyter-widgets/controls",
      "model_module_version": "1.4.0",
      "model_name": "HTMLModel",
      "state": {
       "layout": "IPY_MODEL_30c4db202f7f46baa9304ec31a5ccb06",
       "style": "IPY_MODEL_a4ac1e872959402a928657b272595514",
       "value": "<h5>Title  &nbsp</h5> "
      }
     },
     "425c3dbe268e4b4e9dcd7f38113ecf71": {
      "model_module": "@jupyter-widgets/controls",
      "model_module_version": "1.4.0",
      "model_name": "DescriptionStyleModel",
      "state": {
       "description_width": ""
      }
     },
     "433a9709399b481eac65163b63c28b8b": {
      "model_module": "@jupyter-widgets/controls",
      "model_module_version": "1.4.0",
      "model_name": "DescriptionStyleModel",
      "state": {
       "description_width": ""
      }
     },
     "4342be458ea944088d99f655a0151d64": {
      "model_module": "@jupyter-widgets/controls",
      "model_module_version": "1.4.0",
      "model_name": "TextModel",
      "state": {
       "layout": "IPY_MODEL_ce50436dac13434aa0647bd0fe644d9c",
       "style": "IPY_MODEL_06d205a1951f4123a2824ab41a3ae7f2"
      }
     },
     "4482580710c144e381fbfbe0f4fe1e01": {
      "model_module": "@jupyter-widgets/base",
      "model_module_version": "1.1.0",
      "model_name": "LayoutModel",
      "state": {}
     },
     "44f81afaca654fe88a667348b6ebc4be": {
      "model_module": "@jupyter-widgets/controls",
      "model_module_version": "1.4.0",
      "model_name": "DescriptionStyleModel",
      "state": {
       "description_width": ""
      }
     },
     "4599e0d5681d45739cbf6aea3d8ce8ef": {
      "model_module": "@jupyter-widgets/controls",
      "model_module_version": "1.4.0",
      "model_name": "HBoxModel",
      "state": {
       "children": [
        "IPY_MODEL_a654a5510e614f14879b5adb5a53cfd0",
        "IPY_MODEL_6c5c6af7deb94133934f48e15808e697"
       ],
       "layout": "IPY_MODEL_84144dbc45ef4e239a2ed43a1b031a68"
      }
     },
     "47488b50bfcd46f290f8be76fe131260": {
      "model_module": "@jupyter-widgets/base",
      "model_module_version": "1.1.0",
      "model_name": "LayoutModel",
      "state": {
       "width": "auto"
      }
     },
     "47512ec5acbf4ba995a1420fceb6669f": {
      "model_module": "@jupyter-widgets/controls",
      "model_module_version": "1.4.0",
      "model_name": "VBoxModel",
      "state": {
       "children": [
        "IPY_MODEL_9028e4a1b7a44cc188c7146427da6658",
        "IPY_MODEL_ebe2b9be30764fb293c92b5e54839592",
        "IPY_MODEL_eb73b6e4d584416d8da3d7721d28455e"
       ],
       "layout": "IPY_MODEL_e6f4d5beff21463ebaa98b3afb49c5b8"
      }
     },
     "477aa80517454221a73a7f943b187fd6": {
      "model_module": "@jupyter-widgets/controls",
      "model_module_version": "1.4.0",
      "model_name": "SliderStyleModel",
      "state": {
       "description_width": ""
      }
     },
     "482ab337879f45c0bc183835baefe3e5": {
      "model_module": "@jupyter-widgets/controls",
      "model_module_version": "1.4.0",
      "model_name": "DescriptionStyleModel",
      "state": {
       "description_width": ""
      }
     },
     "4847c1eab80945baacb38fd2aa1eda04": {
      "model_module": "@jupyter-widgets/base",
      "model_module_version": "1.1.0",
      "model_name": "LayoutModel",
      "state": {}
     },
     "484b105443384ea5bd85ecbedb3366d6": {
      "model_module": "@jupyter-widgets/controls",
      "model_module_version": "1.4.0",
      "model_name": "DescriptionStyleModel",
      "state": {
       "description_width": ""
      }
     },
     "4861d0645e3e49d599d5a08d13051d34": {
      "model_module": "@jupyter-widgets/controls",
      "model_module_version": "1.4.0",
      "model_name": "HBoxModel",
      "state": {
       "children": [
        "IPY_MODEL_2b475458142e4c7cb54d7650184a3aee",
        "IPY_MODEL_211d40f963d744dc931af68f2856713f"
       ],
       "layout": "IPY_MODEL_ce95b7faa7764fae80a5a38deba64241"
      }
     },
     "48edd7e36b904c43977966e576fb13f0": {
      "model_module": "@jupyter-widgets/base",
      "model_module_version": "1.1.0",
      "model_name": "LayoutModel",
      "state": {
       "height": "40px",
       "min_width": "50px",
       "width": "10%"
      }
     },
     "495d6be234904002ac3df4da36d0539b": {
      "model_module": "@jupyter-widgets/base",
      "model_module_version": "1.1.0",
      "model_name": "LayoutModel",
      "state": {}
     },
     "4977b19efb7e42b38b70c29b4855e78c": {
      "model_module": "@jupyter-widgets/base",
      "model_module_version": "1.1.0",
      "model_name": "LayoutModel",
      "state": {}
     },
     "49967a2005494e74956e8473020b1699": {
      "model_module": "@jupyter-widgets/base",
      "model_module_version": "1.1.0",
      "model_name": "LayoutModel",
      "state": {}
     },
     "49a816a529744372b9b8e37eed770bef": {
      "model_module": "@jupyter-widgets/controls",
      "model_module_version": "1.4.0",
      "model_name": "LabelModel",
      "state": {
       "layout": "IPY_MODEL_002b8636ed724b8a9837f40292dd05ac",
       "style": "IPY_MODEL_e3932f3fa0b647538dae6b830e82e678",
       "value": "Size :"
      }
     },
     "4b546ab227534529b42f6a8a164c586a": {
      "model_module": "@jupyter-widgets/controls",
      "model_module_version": "1.4.0",
      "model_name": "HTMLModel",
      "state": {
       "layout": "IPY_MODEL_a435202718d945ccaf5e75d5da6b906d",
       "style": "IPY_MODEL_8addb12b2f404de5995fe910445d0c26",
       "value": "<h2 class='text-danger text-center'>Coming Soon! Wait for Update</h2>"
      }
     },
     "4b718c9f11be4d85ab4c51c9871a7605": {
      "model_module": "@jupyter-widgets/controls",
      "model_module_version": "1.4.0",
      "model_name": "DescriptionStyleModel",
      "state": {
       "description_width": ""
      }
     },
     "4cedd42910e04e07be8026bc8da02502": {
      "model_module": "@jupyter-widgets/controls",
      "model_module_version": "1.4.0",
      "model_name": "IntSliderModel",
      "state": {
       "layout": "IPY_MODEL_139f584f15214ce79eb7379cf3ced3a7",
       "max": 200,
       "min": 1,
       "style": "IPY_MODEL_e7ff891d950546a690a44e0066b2147c",
       "value": 30
      }
     },
     "4d4e0db645024f96a786e5b2119e2372": {
      "model_module": "@jupyter-widgets/controls",
      "model_module_version": "1.4.0",
      "model_name": "ButtonStyleModel",
      "state": {}
     },
     "4e17b3bd818d43698429693d28c46776": {
      "model_module": "@jupyter-widgets/controls",
      "model_module_version": "1.4.0",
      "model_name": "HBoxModel",
      "state": {
       "children": [
        "IPY_MODEL_8251dd8af2b641f79d1abda23b7f2b7a",
        "IPY_MODEL_66614e99a1ef419c995c200f3e871fd1",
        "IPY_MODEL_c88e7b7138964ed1a20fb94255c0a01c",
        "IPY_MODEL_8c06515bbdd144b882b54a1964bc065a"
       ],
       "layout": "IPY_MODEL_cc19992e799d42ef854a953d84faeb63"
      }
     },
     "4e8eb262daa6434490dd7848859927c8": {
      "model_module": "@jupyter-widgets/base",
      "model_module_version": "1.1.0",
      "model_name": "LayoutModel",
      "state": {}
     },
     "4ebde39394e54d9e8a2c768e8892bdea": {
      "model_module": "@jupyter-widgets/controls",
      "model_module_version": "1.4.0",
      "model_name": "TextModel",
      "state": {
       "layout": "IPY_MODEL_efe5b267affb4737a3612f50569a8efd",
       "style": "IPY_MODEL_cae19a3b28d849d6bf177cea019573a0"
      }
     },
     "4f95b76c0e794ce08793f76520d95f78": {
      "model_module": "@jupyter-widgets/controls",
      "model_module_version": "1.4.0",
      "model_name": "TextModel",
      "state": {
       "layout": "IPY_MODEL_005cca9a31fd4acd8b621e853e1a2254",
       "style": "IPY_MODEL_ee3621a58c734af9a63390cabfe349cc"
      }
     },
     "4fbe6e6b0c8f4cfd9e37d7678e74526c": {
      "model_module": "@jupyter-widgets/controls",
      "model_module_version": "1.4.0",
      "model_name": "DescriptionStyleModel",
      "state": {
       "description_width": ""
      }
     },
     "505659ac808b408093c706bc80334123": {
      "model_module": "@jupyter-widgets/controls",
      "model_module_version": "1.4.0",
      "model_name": "DropdownModel",
      "state": {
       "_options_labels": [
        "solid",
        "dotted",
        "dashed"
       ],
       "index": 0,
       "layout": "IPY_MODEL_406912ec89564b2d8911b2186b077c30",
       "style": "IPY_MODEL_8493956bbca547dfa1552c65599f50bd"
      }
     },
     "5140bb0335f74fa8a7cee8fa597060b8": {
      "model_module": "@jupyter-widgets/controls",
      "model_module_version": "1.4.0",
      "model_name": "VBoxModel",
      "state": {
       "layout": "IPY_MODEL_0dc292a3555446738433faa3dfa34713"
      }
     },
     "514bc61a0c214909b5a57fe5434b30c1": {
      "model_module": "@jupyter-widgets/controls",
      "model_module_version": "1.4.0",
      "model_name": "HTMLModel",
      "state": {
       "layout": "IPY_MODEL_0d8ccdc2029f40289cdf68f5f251985c",
       "style": "IPY_MODEL_1797fe572e434147be3c64ddb4a2145b",
       "value": "<h3 class='text-center' style='color:red'>Error in .html File</h3>"
      }
     },
     "51538267b52049a2aa76c0b7b5f97d7f": {
      "model_module": "@jupyter-widgets/controls",
      "model_module_version": "1.4.0",
      "model_name": "DescriptionStyleModel",
      "state": {
       "description_width": ""
      }
     },
     "5214002f39c74ecda0c74e7bbb297157": {
      "model_module": "@jupyter-widgets/controls",
      "model_module_version": "1.4.0",
      "model_name": "HTMLModel",
      "state": {
       "layout": "IPY_MODEL_c3720cb6fafa4f67ad23e082e13e4827",
       "style": "IPY_MODEL_e5dd553618b945298415b21f4d411db1",
       "value": "<h5>Paste the <a>NDEx URL</a> of the dataset to download :</h5>"
      }
     },
     "52e88881416648be8f0fabcc11a3c362": {
      "model_module": "@jupyter-widgets/base",
      "model_module_version": "1.1.0",
      "model_name": "LayoutModel",
      "state": {
       "justify_content": "center",
       "margin": "0 0 15px 0"
      }
     },
     "5300f5a9bd8340f89eb112e799ec9e6b": {
      "model_module": "@jupyter-widgets/controls",
      "model_module_version": "1.4.0",
      "model_name": "LabelModel",
      "state": {
       "layout": "IPY_MODEL_5ac1c4ab63ce4896b2b4d5ca76674922",
       "style": "IPY_MODEL_ee9b4a013a9c45878b61b77e2baaf06e",
       "value": "    "
      }
     },
     "533a0934edc9475597e71b69f5c719b7": {
      "model_module": "@jupyter-widgets/base",
      "model_module_version": "1.1.0",
      "model_name": "LayoutModel",
      "state": {
       "margin": "10px 0 0 0",
       "width": "auto"
      }
     },
     "53613068312043b5b783b489efccb308": {
      "model_module": "@jupyter-widgets/base",
      "model_module_version": "1.1.0",
      "model_name": "LayoutModel",
      "state": {}
     },
     "53751aae948645dbb01bedc0eaa24305": {
      "model_module": "@jupyter-widgets/base",
      "model_module_version": "1.1.0",
      "model_name": "LayoutModel",
      "state": {}
     },
     "537dec7ecca44601b063972300d01dd0": {
      "model_module": "@jupyter-widgets/controls",
      "model_module_version": "1.4.0",
      "model_name": "HBoxModel",
      "state": {
       "children": [
        "IPY_MODEL_dcebc3419a2e4d64b23352beb4ab74eb",
        "IPY_MODEL_8d6648389cbc4700adce47aeecb5ef9e"
       ],
       "layout": "IPY_MODEL_f1107ec05859436b9f6e7c5993adc4af"
      }
     },
     "538f70641dd74260b7b13f0fa3609cc2": {
      "model_module": "@jupyter-widgets/base",
      "model_module_version": "1.1.0",
      "model_name": "LayoutModel",
      "state": {
       "align_items": "center"
      }
     },
     "53a2b0d4dab642558a3897d6f813952b": {
      "model_module": "@jupyter-widgets/controls",
      "model_module_version": "1.4.0",
      "model_name": "ColorPickerModel",
      "state": {
       "disabled": false,
       "layout": "IPY_MODEL_75d07e432b164600916d4a204e052fbd",
       "style": "IPY_MODEL_f44b904036e34f0e8f173aab79edf73d"
      }
     },
     "53cec4d1f9174bb2aad1e957da7655ce": {
      "model_module": "@jupyter-widgets/base",
      "model_module_version": "1.1.0",
      "model_name": "LayoutModel",
      "state": {
       "height": "40px",
       "min_width": "50px",
       "width": "10%"
      }
     },
     "53d20a13174e4ef08deb084eb54bc5a9": {
      "model_module": "@jupyter-widgets/controls",
      "model_module_version": "1.4.0",
      "model_name": "DescriptionStyleModel",
      "state": {
       "description_width": ""
      }
     },
     "540e730b2ed3467991169168690910fd": {
      "model_module": "@jupyter-widgets/controls",
      "model_module_version": "1.4.0",
      "model_name": "HBoxModel",
      "state": {
       "children": [
        "IPY_MODEL_31ac334a5c504d33ad004239681ea04f",
        "IPY_MODEL_4ebde39394e54d9e8a2c768e8892bdea",
        "IPY_MODEL_2fc01a1d8cd54d9b9856f35e014a97cb",
        "IPY_MODEL_f2bb50a77798449186ad2f63b6b33e15"
       ],
       "layout": "IPY_MODEL_01722ed92a5a43e68442cb8594594ff1"
      }
     },
     "547f36bb44bc4100badbbb1ab1da9a0c": {
      "model_module": "@jupyter-widgets/controls",
      "model_module_version": "1.4.0",
      "model_name": "DescriptionStyleModel",
      "state": {
       "description_width": ""
      }
     },
     "547fa39214e4412fb2e61cfa233d5849": {
      "model_module": "@jupyter-widgets/base",
      "model_module_version": "1.1.0",
      "model_name": "LayoutModel",
      "state": {
       "padding": "0 15px 0 35px"
      }
     },
     "549d0071fc914a169ab30c3c89ec996a": {
      "model_module": "@jupyter-widgets/base",
      "model_module_version": "1.1.0",
      "model_name": "LayoutModel",
      "state": {
       "align_items": "center",
       "justify_content": "center"
      }
     },
     "5519062a8032475eb48ec37853f9bff5": {
      "model_module": "@jupyter-widgets/base",
      "model_module_version": "1.1.0",
      "model_name": "LayoutModel",
      "state": {}
     },
     "55e59ab28a004c438981932505602303": {
      "model_module": "@jupyter-widgets/controls",
      "model_module_version": "1.4.0",
      "model_name": "VBoxModel",
      "state": {
       "children": [
        "IPY_MODEL_2292af1cc6dd45e39850452b1f0384ac",
        "IPY_MODEL_3cb86f6d14664621aa25a302bbdc50e1"
       ],
       "layout": "IPY_MODEL_f11777034610439eba4ce828427bb173"
      }
     },
     "5670c49381c8416c85ef84b17b6c20b8": {
      "model_module": "@jupyter-widgets/controls",
      "model_module_version": "1.4.0",
      "model_name": "DescriptionStyleModel",
      "state": {
       "description_width": ""
      }
     },
     "56873ccfb6ee4fadb733b103bae38f86": {
      "model_module": "@jupyter-widgets/controls",
      "model_module_version": "1.4.0",
      "model_name": "DescriptionStyleModel",
      "state": {
       "description_width": ""
      }
     },
     "56cf1bc0992441d7ba0e8ced71a93063": {
      "model_module": "@jupyter-widgets/base",
      "model_module_version": "1.1.0",
      "model_name": "LayoutModel",
      "state": {}
     },
     "56ff9af4af994922b775f1d6c4b12794": {
      "model_module": "@jupyter-widgets/controls",
      "model_module_version": "1.4.0",
      "model_name": "DescriptionStyleModel",
      "state": {
       "description_width": ""
      }
     },
     "5738f643e48d421985162c080337bf89": {
      "model_module": "@jupyter-widgets/base",
      "model_module_version": "1.1.0",
      "model_name": "LayoutModel",
      "state": {
       "justify_content": "center",
       "margin": "0 0 15px 0"
      }
     },
     "574b50db4f304330aea60453b7506470": {
      "model_module": "@jupyter-widgets/controls",
      "model_module_version": "1.4.0",
      "model_name": "TextModel",
      "state": {
       "layout": "IPY_MODEL_e60cc8c2e1734e5a9d7298b637fae0d0",
       "style": "IPY_MODEL_0803c89292b343998808003ab3cd578e"
      }
     },
     "576583077e2f4c3ea2d43e6f3081e330": {
      "model_module": "@jupyter-widgets/base",
      "model_module_version": "1.1.0",
      "model_name": "LayoutModel",
      "state": {
       "padding": "10px 0px 0px 0px"
      }
     },
     "57d4d85db1644eb0af7495dfa9fe6e8a": {
      "model_module": "@jupyter-widgets/controls",
      "model_module_version": "1.4.0",
      "model_name": "DescriptionStyleModel",
      "state": {
       "description_width": ""
      }
     },
     "58074a5bd1e54ea1a65c498bac13eb18": {
      "model_module": "@jupyter-widgets/controls",
      "model_module_version": "1.4.0",
      "model_name": "LabelModel",
      "state": {
       "layout": "IPY_MODEL_fffaadb6bc9a4132a40357839ce290f0",
       "style": "IPY_MODEL_362439b2b8054d52bc7217604585096a",
       "value": "Shape :"
      }
     },
     "585c32246ec34ad4b0e8289a9c6f24ab": {
      "model_module": "@jupyter-widgets/controls",
      "model_module_version": "1.4.0",
      "model_name": "DescriptionStyleModel",
      "state": {
       "description_width": ""
      }
     },
     "594befe33b9440c29ee60de65188bb40": {
      "model_module": "@jupyter-widgets/controls",
      "model_module_version": "1.4.0",
      "model_name": "HBoxModel",
      "state": {
       "children": [
        "IPY_MODEL_f29ae5a092b543d183870666ea5bc6b4",
        "IPY_MODEL_a6d153f04bb34e3098af6e7a2c21908a"
       ],
       "layout": "IPY_MODEL_bb30d0c945e4475893416cb6118f2b01"
      }
     },
     "59a9ab852ec244d0be27a9af6ba06d0e": {
      "model_module": "@jupyter-widgets/base",
      "model_module_version": "1.1.0",
      "model_name": "LayoutModel",
      "state": {}
     },
     "5a17921f95664cd08d7a6b5d0dc54890": {
      "model_module": "@jupyter-widgets/controls",
      "model_module_version": "1.4.0",
      "model_name": "DescriptionStyleModel",
      "state": {
       "description_width": ""
      }
     },
     "5a6854b89d654eba95692188f73fb93b": {
      "model_module": "@jupyter-widgets/controls",
      "model_module_version": "1.4.0",
      "model_name": "HTMLModel",
      "state": {
       "layout": "IPY_MODEL_8f3b2b00c4454e43b15eb6ae17b98691",
       "style": "IPY_MODEL_90b970e79f514ad3b324ed9ded350417",
       "value": "<b><p><a href='http://js.cytoscape.org/#selectors'>Search:</a></p></b>"
      }
     },
     "5a94f0f0072e44cab824551e1a4f7984": {
      "model_module": "@jupyter-widgets/controls",
      "model_module_version": "1.4.0",
      "model_name": "DescriptionStyleModel",
      "state": {
       "description_width": ""
      }
     },
     "5ac1c4ab63ce4896b2b4d5ca76674922": {
      "model_module": "@jupyter-widgets/base",
      "model_module_version": "1.1.0",
      "model_name": "LayoutModel",
      "state": {}
     },
     "5acf144bf610418bb285fac39b185ff8": {
      "model_module": "@jupyter-widgets/base",
      "model_module_version": "1.1.0",
      "model_name": "LayoutModel",
      "state": {}
     },
     "5b01f1b0033c40fcb45c2e5b8d68f959": {
      "model_module": "@jupyter-widgets/base",
      "model_module_version": "1.1.0",
      "model_name": "LayoutModel",
      "state": {
       "padding": "10px 0px 0px 0px"
      }
     },
     "5b2460a14f45404ca73fb4abe6383c01": {
      "model_module": "@jupyter-widgets/controls",
      "model_module_version": "1.4.0",
      "model_name": "HTMLModel",
      "state": {
       "layout": "IPY_MODEL_e54311d81c8a453e8255e1716d4ec67e",
       "style": "IPY_MODEL_d988c293d43d4995ae521fbcde69d735",
       "value": "<p>&nbsp&nbsp&nbsp&nbsp&nbsp</p>"
      }
     },
     "5b3bbdb27d47419a961daa3df650be4f": {
      "model_module": "@jupyter-widgets/controls",
      "model_module_version": "1.4.0",
      "model_name": "HBoxModel",
      "state": {
       "children": [
        "IPY_MODEL_49a816a529744372b9b8e37eed770bef",
        "IPY_MODEL_89ec2c4ad66b479c981f8b2144c6b619"
       ],
       "layout": "IPY_MODEL_fcdc276984a8492487c9949582fd524b"
      }
     },
     "5bae93de7cca49699fe42ecbbc817b2d": {
      "model_module": "@jupyter-widgets/base",
      "model_module_version": "1.1.0",
      "model_name": "LayoutModel",
      "state": {
       "justify_content": "center",
       "padding": "10px 0px 0px 0px"
      }
     },
     "5c92189fbbd1408683ffb845b9312ad0": {
      "model_module": "@jupyter-widgets/base",
      "model_module_version": "1.1.0",
      "model_name": "LayoutModel",
      "state": {}
     },
     "5d6692ba17fe4b0c8980e87fb361edf3": {
      "model_module": "@jupyter-widgets/controls",
      "model_module_version": "1.4.0",
      "model_name": "HBoxModel",
      "state": {
       "children": [
        "IPY_MODEL_b3d9ef4bef0148b382e4ef3a4a70ac55",
        "IPY_MODEL_8dcb2259d57c4977821a1199a904bf68"
       ],
       "layout": "IPY_MODEL_aa621250e17c44dfb08ff1239ff987c1"
      }
     },
     "5da155307aac4bc9b8a7ba85ccdd8a2c": {
      "model_module": "@jupyter-widgets/base",
      "model_module_version": "1.1.0",
      "model_name": "LayoutModel",
      "state": {
       "align_items": "center"
      }
     },
     "5e39fdf5f17c4e4e9f1e4018e0c1a826": {
      "model_module": "@jupyter-widgets/controls",
      "model_module_version": "1.4.0",
      "model_name": "VBoxModel",
      "state": {
       "children": [
        "IPY_MODEL_e17ed2c0f39648a2af6047d7a6f0032d",
        "IPY_MODEL_c1d97365ff144367b5926e5a98ed4e24",
        "IPY_MODEL_4599e0d5681d45739cbf6aea3d8ce8ef",
        "IPY_MODEL_cc17e4ce3b394d7ead0ed4e3be394019",
        "IPY_MODEL_83649c448f4d4f21bea29860b0717237",
        "IPY_MODEL_858a07759af54280b3b295017eb4a27f"
       ],
       "layout": "IPY_MODEL_000c459e97374c73a894850e0fbc4fc5"
      }
     },
     "5ec74c73dd454798aaa0eef33ed11ea8": {
      "model_module": "@jupyter-widgets/controls",
      "model_module_version": "1.4.0",
      "model_name": "DescriptionStyleModel",
      "state": {
       "description_width": ""
      }
     },
     "5f1ba99523b9412a9b044bbc1b52c5b0": {
      "model_module": "@jupyter-widgets/base",
      "model_module_version": "1.1.0",
      "model_name": "LayoutModel",
      "state": {}
     },
     "5f655c4f3b1f405b96819c67cd81c50c": {
      "model_module": "@jupyter-widgets/controls",
      "model_module_version": "1.4.0",
      "model_name": "ButtonStyleModel",
      "state": {}
     },
     "5f7af5db0790498bbe1e66026a9af9bd": {
      "model_module": "@jupyter-widgets/base",
      "model_module_version": "1.1.0",
      "model_name": "LayoutModel",
      "state": {
       "min_width": "30px"
      }
     },
     "5f964796087745399857bba9afa4c584": {
      "model_module": "@jupyter-widgets/controls",
      "model_module_version": "1.4.0",
      "model_name": "SelectModel",
      "state": {
       "_options_labels": [
        "Number",
        "Text"
       ],
       "index": 0,
       "layout": "IPY_MODEL_8e32bde32ec84b40814d92d9a60c76ab",
       "style": "IPY_MODEL_7358e25dbf99472e87e53dab72049b51"
      }
     },
     "60279c442b794015be99fd74ec59425a": {
      "model_module": "@jupyter-widgets/controls",
      "model_module_version": "1.4.0",
      "model_name": "HTMLModel",
      "state": {
       "layout": "IPY_MODEL_b0fd540775f64a638007f1f9c40f41f4",
       "style": "IPY_MODEL_ed353a8928624911bd27d9ee913e52d0",
       "value": "<p>&nbsp&nbsp&nbsp&nbsp&nbsp</p>"
      }
     },
     "603f34d03a764dbe8898c935821aa093": {
      "model_module": "@jupyter-widgets/controls",
      "model_module_version": "1.4.0",
      "model_name": "DescriptionStyleModel",
      "state": {
       "description_width": ""
      }
     },
     "611f6301fc2f49e0ba312b0e360a8b5d": {
      "model_module": "@jupyter-widgets/controls",
      "model_module_version": "1.4.0",
      "model_name": "VBoxModel",
      "state": {
       "children": [
        "IPY_MODEL_eb806057db5144c790795eff7c87ffe3",
        "IPY_MODEL_9d30623fb987492796f00b9141a4dc87",
        "IPY_MODEL_6d7ecba644854c4185f930cb8d2d6284",
        "IPY_MODEL_537dec7ecca44601b063972300d01dd0",
        "IPY_MODEL_b90e0e3d03d54f70ab81da5f7280e7a6",
        "IPY_MODEL_2b6b544f57d946da9643bc540db93cd8",
        "IPY_MODEL_3ac79d30999643d2961fb9ec9c6d0e0d",
        "IPY_MODEL_7815a186a3f24b9ca8198a1df6364646",
        "IPY_MODEL_10597d7bd085450ebc746050dbde8bab",
        "IPY_MODEL_8f78018c9f7a4a8da0a38fd58483710c",
        "IPY_MODEL_cfc872cdf75d4232a1512fc3526c7739"
       ],
       "layout": "IPY_MODEL_b1fe33a0815144c8a6ddaa597007b70c"
      }
     },
     "6199d97e0eb24aa49405daa2409da3af": {
      "model_module": "@jupyter-widgets/base",
      "model_module_version": "1.1.0",
      "model_name": "LayoutModel",
      "state": {}
     },
     "6266398a4fd34c1a9423b116bbd0a5c5": {
      "model_module": "@jupyter-widgets/controls",
      "model_module_version": "1.4.0",
      "model_name": "AccordionModel",
      "state": {
       "_titles": {
        "0": "Load",
        "1": "Save"
       },
       "children": [
        "IPY_MODEL_878dcbc2bf4944168f90bc923226ae19",
        "IPY_MODEL_98a7829971944fa6a8ba5e19b92f3c16"
       ],
       "layout": "IPY_MODEL_e278421b8de34b25849a71574783d948",
       "selected_index": 1
      }
     },
     "6289192ea444474080a45028cc14ccfb": {
      "model_module": "@jupyter-widgets/controls",
      "model_module_version": "1.4.0",
      "model_name": "VBoxModel",
      "state": {
       "children": [
        "IPY_MODEL_6569575178c246f78b93b67a511498ca",
        "IPY_MODEL_540e730b2ed3467991169168690910fd"
       ],
       "layout": "IPY_MODEL_ec99bd523eaa438280fdef99f08bce10"
      }
     },
     "62bf68130b3d47e69ce315ee16ab8b66": {
      "model_module": "@jupyter-widgets/base",
      "model_module_version": "1.1.0",
      "model_name": "LayoutModel",
      "state": {}
     },
     "62c675fe855d473898faa68c727df947": {
      "model_module": "@jupyter-widgets/base",
      "model_module_version": "1.1.0",
      "model_name": "LayoutModel",
      "state": {}
     },
     "62e0ede29997497c870fc6a9fab28c7a": {
      "model_module": "@jupyter-widgets/controls",
      "model_module_version": "1.4.0",
      "model_name": "HTMLModel",
      "state": {
       "layout": "IPY_MODEL_7587d393acb84d5c8353d123803cbe76",
       "style": "IPY_MODEL_9ac89df4d0534f418fa6ed621edab420",
       "value": "<hr style='padding: 2px; margin: 2px'>"
      }
     },
     "632d7fc454d946b1a63a5d50f778718b": {
      "model_module": "@jupyter-widgets/controls",
      "model_module_version": "1.4.0",
      "model_name": "ToggleButtonModel",
      "state": {
       "icon": "eye",
       "layout": "IPY_MODEL_69eae6288c7a444183fa01b667900e22",
       "style": "IPY_MODEL_b5d400c6a65b45baa01e32a02d94a4f8"
      }
     },
     "63555ba676cb4484a09e8564fde577d3": {
      "model_module": "@jupyter-widgets/base",
      "model_module_version": "1.1.0",
      "model_name": "LayoutModel",
      "state": {
       "visibility": "visible"
      }
     },
     "6395a669a51a49ff8899ea9e364bbb74": {
      "model_module": "@jupyter-widgets/controls",
      "model_module_version": "1.4.0",
      "model_name": "TextModel",
      "state": {
       "description": "Username :",
       "layout": "IPY_MODEL_2cea50b3af8048928a53a3e9c8e75008",
       "style": "IPY_MODEL_2456a30b9e9b40a68d9bb039ae826de0"
      }
     },
     "640c60ac9a7943bb9a61a82c8ce66466": {
      "model_module": "@jupyter-widgets/controls",
      "model_module_version": "1.4.0",
      "model_name": "HTMLModel",
      "state": {
       "layout": "IPY_MODEL_dccfefe93254489e8cbb295d5d98111d",
       "style": "IPY_MODEL_fdd32ffcef054b00a339351267101472",
       "value": "<h3 class='text-center' style='color:red'>Error in Dataframe</h3>"
      }
     },
     "64ad680118164fa6a7e577f7b5ae8205": {
      "model_module": "@jupyter-widgets/base",
      "model_module_version": "1.1.0",
      "model_name": "LayoutModel",
      "state": {}
     },
     "6569575178c246f78b93b67a511498ca": {
      "model_module": "@jupyter-widgets/controls",
      "model_module_version": "1.4.0",
      "model_name": "HTMLModel",
      "state": {
       "layout": "IPY_MODEL_b148dc992ed047b0943193e32f540abe",
       "style": "IPY_MODEL_87b768c59a4340b292d0fc739ade4549",
       "value": "<h5>Here you save your graph as a <a href='https://www.datacamp.com/community/tutorials/pandas-tutorial-dataframe-python'>Pandas DataFrame</a>.\nType the name of the <font color=\"blue\">Python variable</font> you want.</h5>"
      }
     },
     "65a2311509b24fcebe690320709bbe3e": {
      "model_module": "@jupyter-widgets/controls",
      "model_module_version": "1.4.0",
      "model_name": "DropdownModel",
      "state": {
       "_options_labels": [
        "solid",
        "dotted",
        "dashed"
       ],
       "index": 0,
       "layout": "IPY_MODEL_ab4ea0c13c5845caa726f3c2a7c20845",
       "style": "IPY_MODEL_d11eec8432df42a09484315bc1e04d92"
      }
     },
     "660e76c1222f4640a62cbc240179f06e": {
      "model_module": "@jupyter-widgets/base",
      "model_module_version": "1.1.0",
      "model_name": "LayoutModel",
      "state": {}
     },
     "66614e99a1ef419c995c200f3e871fd1": {
      "model_module": "@jupyter-widgets/controls",
      "model_module_version": "1.4.0",
      "model_name": "DropdownModel",
      "state": {
       "_options_labels": [
        "index.html"
       ],
       "index": 0,
       "layout": "IPY_MODEL_2375a5cecb434c009a449599fdee77f4",
       "style": "IPY_MODEL_c4bdeaf256f5454d96b8c116e3183ecc"
      }
     },
     "666397144065401c8f9985343c57e481": {
      "model_module": "@jupyter-widgets/controls",
      "model_module_version": "1.4.0",
      "model_name": "DescriptionStyleModel",
      "state": {
       "description_width": ""
      }
     },
     "66a4dda1be8545238dd8e4455f4e0853": {
      "model_module": "@jupyter-widgets/controls",
      "model_module_version": "1.4.0",
      "model_name": "HBoxModel",
      "state": {
       "children": [
        "IPY_MODEL_c972359979bf4a1a900d299203800a86",
        "IPY_MODEL_9457b9dfd0f845ba9d714dbe1d07349e",
        "IPY_MODEL_39a5f47accb44a698bda220e76fd5ec2",
        "IPY_MODEL_ef2a08e820c2495091b0071bd2965062"
       ],
       "layout": "IPY_MODEL_26122d0327a24312b70a6236cbc02e55"
      }
     },
     "672c1c383057472fb04f90d20f73426a": {
      "model_module": "@jupyter-widgets/controls",
      "model_module_version": "1.4.0",
      "model_name": "DescriptionStyleModel",
      "state": {
       "description_width": ""
      }
     },
     "676f0539ac204d4e9cc27b5ea84656d9": {
      "model_module": "@jupyter-widgets/base",
      "model_module_version": "1.1.0",
      "model_name": "LayoutModel",
      "state": {}
     },
     "6799efd8682d441c8408a0d549d9004b": {
      "model_module": "@jupyter-widgets/controls",
      "model_module_version": "1.4.0",
      "model_name": "LabelModel",
      "state": {
       "layout": "IPY_MODEL_7c1896117d2d4e5c87c2db5cdaf07d71",
       "style": "IPY_MODEL_482ab337879f45c0bc183835baefe3e5",
       "value": "Text :"
      }
     },
     "67d714b6060c47c9a9334b1301586abf": {
      "model_module": "@jupyter-widgets/base",
      "model_module_version": "1.1.0",
      "model_name": "LayoutModel",
      "state": {}
     },
     "685279f506ea468caeb90227acf325a7": {
      "model_module": "@jupyter-widgets/controls",
      "model_module_version": "1.4.0",
      "model_name": "DescriptionStyleModel",
      "state": {
       "description_width": ""
      }
     },
     "68c08330e7ef46c29359843dd15e2227": {
      "model_module": "@jupyter-widgets/base",
      "model_module_version": "1.1.0",
      "model_name": "LayoutModel",
      "state": {}
     },
     "68db214bdf6d407fa55ada9d3888c436": {
      "model_module": "@jupyter-widgets/controls",
      "model_module_version": "1.4.0",
      "model_name": "DescriptionStyleModel",
      "state": {
       "description_width": ""
      }
     },
     "69aa6b62e61244fd80337937869dcdfa": {
      "model_module": "@jupyter-widgets/base",
      "model_module_version": "1.1.0",
      "model_name": "LayoutModel",
      "state": {
       "align_items": "center"
      }
     },
     "69eae6288c7a444183fa01b667900e22": {
      "model_module": "@jupyter-widgets/base",
      "model_module_version": "1.1.0",
      "model_name": "LayoutModel",
      "state": {
       "width": "auto"
      }
     },
     "6a888f5685da485ab728f1785e267cf5": {
      "model_module": "@jupyter-widgets/controls",
      "model_module_version": "1.4.0",
      "model_name": "FloatSliderModel",
      "state": {
       "layout": "IPY_MODEL_e20e407426c14c91bd80c70c9c7c9560",
       "max": 1,
       "step": 0.05,
       "style": "IPY_MODEL_8422eabf1b2d41f88c529315a69e5aa1",
       "value": 0.5
      }
     },
     "6b56929e38bf482989ad225c612c5faa": {
      "model_module": "@jupyter-widgets/controls",
      "model_module_version": "1.4.0",
      "model_name": "HBoxModel",
      "state": {
       "children": [
        "IPY_MODEL_175ec8581d97425ab796b4b8ba9fc30a",
        "IPY_MODEL_574b50db4f304330aea60453b7506470"
       ],
       "layout": "IPY_MODEL_538f70641dd74260b7b13f0fa3609cc2"
      }
     },
     "6b61eb100d1349cc8a35b52af5400a38": {
      "model_module": "@jupyter-widgets/base",
      "model_module_version": "1.1.0",
      "model_name": "LayoutModel",
      "state": {}
     },
     "6bd3b1ea2539490f91ace557e45d216b": {
      "model_module": "@jupyter-widgets/controls",
      "model_module_version": "1.4.0",
      "model_name": "LabelModel",
      "state": {
       "layout": "IPY_MODEL_1eef45cf490941e298ca961feda87449",
       "style": "IPY_MODEL_484b105443384ea5bd85ecbedb3366d6",
       "value": "    "
      }
     },
     "6c1267c853274e6fa7052f303d393ec6": {
      "model_module": "@jupyter-widgets/controls",
      "model_module_version": "1.4.0",
      "model_name": "HTMLModel",
      "state": {
       "layout": "IPY_MODEL_746d576669434a1cb13cfcc7e956ec55",
       "style": "IPY_MODEL_0f98bbe7febb45f486e511cd3d4671d2",
       "value": "<h3 class='text-center' style='color:red'>Error in .html File</h3>"
      }
     },
     "6c5c6af7deb94133934f48e15808e697": {
      "model_module": "@jupyter-widgets/controls",
      "model_module_version": "1.4.0",
      "model_name": "ColorPickerModel",
      "state": {
       "disabled": false,
       "layout": "IPY_MODEL_0effcd38d5c94a0e849f35d22a21ac42",
       "style": "IPY_MODEL_9dc68ecb29e14a79b5e93b73ebc5a514"
      }
     },
     "6caefc9fe92640c9a67a4bd853988106": {
      "model_module": "@jupyter-widgets/controls",
      "model_module_version": "1.4.0",
      "model_name": "DropdownModel",
      "state": {
       "_options_labels": [
        "none",
        "triangle",
        "tee",
        "diamond",
        "square",
        "circle",
        "vee",
        "triangle-tee"
       ],
       "index": 0,
       "layout": "IPY_MODEL_0e43575217d34007b2674d2868ee739b",
       "style": "IPY_MODEL_276ad2774efc43b6980e694c937db8c5"
      }
     },
     "6cbfa9fbf16d49109e79e9898b8876cb": {
      "model_module": "@jupyter-widgets/controls",
      "model_module_version": "1.4.0",
      "model_name": "ButtonStyleModel",
      "state": {}
     },
     "6cd45c7d8aa5497da672ff910db56fb6": {
      "model_module": "@jupyter-widgets/controls",
      "model_module_version": "1.4.0",
      "model_name": "TextModel",
      "state": {
       "description": "Name :",
       "layout": "IPY_MODEL_99ef22e54f984d76bba2321e2041bbb5",
       "placeholder": "Network Name",
       "style": "IPY_MODEL_960c8462761b4e1dbca0e631a621f45c"
      }
     },
     "6cf23e5c64c74c86bb220695b3f2dde3": {
      "model_module": "@jupyter-widgets/controls",
      "model_module_version": "1.4.0",
      "model_name": "HBoxModel",
      "state": {
       "children": [
        "IPY_MODEL_d846f91dbe704509a9763d5900219d1a",
        "IPY_MODEL_505659ac808b408093c706bc80334123"
       ],
       "layout": "IPY_MODEL_5b01f1b0033c40fcb45c2e5b8d68f959"
      }
     },
     "6d63eeccdafb4224b90f9b2629a38764": {
      "model_module": "@jupyter-widgets/base",
      "model_module_version": "1.1.0",
      "model_name": "LayoutModel",
      "state": {
       "padding": "10px 0px 0px 0px"
      }
     },
     "6d78104ea700491e984d8cdbd134d8b6": {
      "model_module": "@jupyter-widgets/controls",
      "model_module_version": "1.4.0",
      "model_name": "DescriptionStyleModel",
      "state": {
       "description_width": ""
      }
     },
     "6d7ecba644854c4185f930cb8d2d6284": {
      "model_module": "@jupyter-widgets/controls",
      "model_module_version": "1.4.0",
      "model_name": "HBoxModel",
      "state": {
       "children": [
        "IPY_MODEL_dde4c04b955d403ca4dbc3fd3a53c809",
        "IPY_MODEL_97a6bd9f033f4bea8ecf5e2330d85dbe",
        "IPY_MODEL_9e1857feca8349da96c4e0f13e6c1ade"
       ],
       "layout": "IPY_MODEL_ffd9095e1f6340dc8d856792c3ae684d"
      }
     },
     "6ddca6db1d934e1aabc835e7d1fd32cd": {
      "model_module": "@jupyter-widgets/base",
      "model_module_version": "1.1.0",
      "model_name": "LayoutModel",
      "state": {
       "margin": "10px 0 0 0",
       "width": "auto"
      }
     },
     "6df249da60534b4ca264c8f6af42dff4": {
      "model_module": "@jupyter-widgets/controls",
      "model_module_version": "1.4.0",
      "model_name": "HBoxModel",
      "state": {
       "children": [
        "IPY_MODEL_2a7229b0bed54b35ba70b6a9b064d5c8"
       ],
       "layout": "IPY_MODEL_93326c560cbc41c3b2ca91c5e5ce2a25"
      }
     },
     "6eb52b55ae82459f95c0840db15cc55d": {
      "model_module": "@jupyter-widgets/controls",
      "model_module_version": "1.4.0",
      "model_name": "ButtonModel",
      "state": {
       "button_style": "success",
       "description": "Upload",
       "layout": "IPY_MODEL_5c92189fbbd1408683ffb845b9312ad0",
       "style": "IPY_MODEL_6cbfa9fbf16d49109e79e9898b8876cb"
      }
     },
     "6edb99ebd0fe49b0b18c65fd830f4740": {
      "model_module": "@jupyter-widgets/controls",
      "model_module_version": "1.4.0",
      "model_name": "ButtonStyleModel",
      "state": {}
     },
     "70726ff7455a4531a25d36b238af4fc3": {
      "model_module": "@jupyter-widgets/controls",
      "model_module_version": "1.4.0",
      "model_name": "HTMLModel",
      "state": {
       "layout": "IPY_MODEL_63555ba676cb4484a09e8564fde577d3",
       "style": "IPY_MODEL_0d1047f6fd094ae59d030e3c6a5c613c",
       "value": "<h1 class='text-center text-success' style='margin:0'>Saved!</h1>"
      }
     },
     "71f4c7c7b5ad4107a61f9092d64bb392": {
      "model_module": "@jupyter-widgets/base",
      "model_module_version": "1.1.0",
      "model_name": "LayoutModel",
      "state": {
       "width": "auto"
      }
     },
     "725dcf26c8e346b1ab1e59b8a766b3ab": {
      "model_module": "@jupyter-widgets/base",
      "model_module_version": "1.1.0",
      "model_name": "LayoutModel",
      "state": {
       "margin": "0px 0px 0px 5px",
       "min_width": "30px"
      }
     },
     "72f95e4582774210ab07216bc37f409e": {
      "model_module": "@jupyter-widgets/controls",
      "model_module_version": "1.4.0",
      "model_name": "DescriptionStyleModel",
      "state": {
       "description_width": ""
      }
     },
     "7358e25dbf99472e87e53dab72049b51": {
      "model_module": "@jupyter-widgets/controls",
      "model_module_version": "1.4.0",
      "model_name": "DescriptionStyleModel",
      "state": {
       "description_width": ""
      }
     },
     "745ed79b81374d3f89d61d17117b2c11": {
      "model_module": "@jupyter-widgets/controls",
      "model_module_version": "1.4.0",
      "model_name": "HTMLModel",
      "state": {
       "layout": "IPY_MODEL_b5de489a519343ec8ae008b59dae71b6",
       "style": "IPY_MODEL_2efd2fdb682849a68e192262a6d55076",
       "value": "<h5>Description</h5>"
      }
     },
     "746d576669434a1cb13cfcc7e956ec55": {
      "model_module": "@jupyter-widgets/base",
      "model_module_version": "1.1.0",
      "model_name": "LayoutModel",
      "state": {
       "visibility": "hidden"
      }
     },
     "746fc9f15f8445e388fe86b2f346dc12": {
      "model_module": "@jupyter-widgets/controls",
      "model_module_version": "1.4.0",
      "model_name": "HTMLModel",
      "state": {
       "layout": "IPY_MODEL_9a52c5bdae8d4c55b4b036f18db47532",
       "style": "IPY_MODEL_4b718c9f11be4d85ab4c51c9871a7605",
       "value": "<h4 style='color:DarkKhaki'>Node :</h4>"
      }
     },
     "74d4096700174d789dbce8c00b0749db": {
      "model_module": "@jupyter-widgets/controls",
      "model_module_version": "1.4.0",
      "model_name": "ToggleButtonModel",
      "state": {
       "button_style": "primary",
       "description": "Box",
       "layout": "IPY_MODEL_0f6d7fa726c047ae9560b11136894e03",
       "style": "IPY_MODEL_433a9709399b481eac65163b63c28b8b"
      }
     },
     "74e601a835664dbcb8e95883b6a53ecf": {
      "model_module": "@jupyter-widgets/base",
      "model_module_version": "1.1.0",
      "model_name": "LayoutModel",
      "state": {}
     },
     "7533e21f151c42a4ad26783a6a93d4d0": {
      "model_module": "@jupyter-widgets/base",
      "model_module_version": "1.1.0",
      "model_name": "LayoutModel",
      "state": {
       "padding": "10px 0px 0px 0px"
      }
     },
     "7558c630fa5c4485a166fe94d701b8c9": {
      "model_module": "@jupyter-widgets/base",
      "model_module_version": "1.1.0",
      "model_name": "LayoutModel",
      "state": {}
     },
     "7587d393acb84d5c8353d123803cbe76": {
      "model_module": "@jupyter-widgets/base",
      "model_module_version": "1.1.0",
      "model_name": "LayoutModel",
      "state": {}
     },
     "758faccb3417480285a2492e475554a1": {
      "model_module": "@jupyter-widgets/base",
      "model_module_version": "1.1.0",
      "model_name": "LayoutModel",
      "state": {
       "padding": "0 15px 0 35px"
      }
     },
     "75bd7fe99f4441188ee95dfcfae2bd3c": {
      "model_module": "@jupyter-widgets/base",
      "model_module_version": "1.1.0",
      "model_name": "LayoutModel",
      "state": {}
     },
     "75d07e432b164600916d4a204e052fbd": {
      "model_module": "@jupyter-widgets/base",
      "model_module_version": "1.1.0",
      "model_name": "LayoutModel",
      "state": {}
     },
     "764c3c6a448b48ab949371a2930c3c9a": {
      "model_module": "@jupyter-widgets/base",
      "model_module_version": "1.1.0",
      "model_name": "LayoutModel",
      "state": {
       "width": "auto"
      }
     },
     "76773ee8302a48159b82a4b4c2dd400a": {
      "model_module": "@jupyter-widgets/base",
      "model_module_version": "1.1.0",
      "model_name": "LayoutModel",
      "state": {
       "justify_content": "center"
      }
     },
     "77493056781741eca12f1a357ef31b29": {
      "model_module": "@jupyter-widgets/controls",
      "model_module_version": "1.4.0",
      "model_name": "HBoxModel",
      "state": {
       "children": [
        "IPY_MODEL_a76f21e8e4a74089a762cb9c2313dcb9"
       ],
       "layout": "IPY_MODEL_099406f84a8441319dc256b1780ef0cd"
      }
     },
     "7815a186a3f24b9ca8198a1df6364646": {
      "model_module": "@jupyter-widgets/controls",
      "model_module_version": "1.4.0",
      "model_name": "HTMLModel",
      "state": {
       "layout": "IPY_MODEL_82d25ca7cba44410bbb97d6ac68649be",
       "style": "IPY_MODEL_bffb23ead3964445a816ebd8d42b6f9a",
       "value": "<h4 style='color:purple'>Edge :</h4>"
      }
     },
     "78cf253e8ce0477e9d80886ce23bd9a8": {
      "model_module": "@jupyter-widgets/controls",
      "model_module_version": "1.4.0",
      "model_name": "LabelModel",
      "state": {
       "layout": "IPY_MODEL_d10283349a0b43d1abb1454e21cfbe41",
       "style": "IPY_MODEL_b7f98b31523d4689bc1928f08c1e0b8f",
       "value": "Text :"
      }
     },
     "7923037da2214f63bed8ff70db8f692d": {
      "model_module": "@jupyter-widgets/controls",
      "model_module_version": "1.4.0",
      "model_name": "HTMLModel",
      "state": {
       "layout": "IPY_MODEL_f02d404f7cf44bc7a16383c32def2609",
       "style": "IPY_MODEL_bc25cf4608744e4091e468d55f0550a5",
       "value": "<h5>Here you save your graph as a <a href='https://www.datacamp.com/community/tutorials/pandas-tutorial-dataframe-python'>Pandas DataFrame</a>.\nType the name of the <font color=\"blue\">Python variable</font> you want.</h5>"
      }
     },
     "792a4c0201a744b7bd153d2f41997baf": {
      "model_module": "@jupyter-widgets/base",
      "model_module_version": "1.1.0",
      "model_name": "LayoutModel",
      "state": {}
     },
     "798861e2795440818d045ad8d49ffaed": {
      "model_module": "@jupyter-widgets/base",
      "model_module_version": "1.1.0",
      "model_name": "LayoutModel",
      "state": {
       "padding": "10px 0px 0px 0px"
      }
     },
     "79b46390f03b4960a4d89690e41c7eae": {
      "model_module": "@jupyter-widgets/controls",
      "model_module_version": "1.4.0",
      "model_name": "LabelModel",
      "state": {
       "layout": "IPY_MODEL_5f7af5db0790498bbe1e66026a9af9bd",
       "style": "IPY_MODEL_672c1c383057472fb04f90d20f73426a",
       "value": "Start"
      }
     },
     "7a2e250df5434e32b6bb32a61567e0f7": {
      "model_module": "@jupyter-widgets/controls",
      "model_module_version": "1.4.0",
      "model_name": "LabelModel",
      "state": {
       "layout": "IPY_MODEL_3b71d54cc26b4015bd8e82f2476ae0c8",
       "style": "IPY_MODEL_d9cccf78d6bd4ad4b6e9489717307c71",
       "value": "Start"
      }
     },
     "7aaaaa905edd43aabf0e2bd737c6084c": {
      "model_module": "@jupyter-widgets/controls",
      "model_module_version": "1.4.0",
      "model_name": "IntSliderModel",
      "state": {
       "layout": "IPY_MODEL_def4a5e085bd47ecb7d24aa7b2fe747d",
       "max": 60,
       "min": 6,
       "style": "IPY_MODEL_976c7efe483e40bd8960dc4e48106434",
       "value": 16
      }
     },
     "7ba231f408c04bc1ab077f7cabe579a6": {
      "model_module": "@jupyter-widgets/base",
      "model_module_version": "1.1.0",
      "model_name": "LayoutModel",
      "state": {
       "width": "auto"
      }
     },
     "7bf41439f0d94126b546ffaaaff55e8f": {
      "model_module": "@jupyter-widgets/base",
      "model_module_version": "1.1.0",
      "model_name": "LayoutModel",
      "state": {}
     },
     "7c1896117d2d4e5c87c2db5cdaf07d71": {
      "model_module": "@jupyter-widgets/base",
      "model_module_version": "1.1.0",
      "model_name": "LayoutModel",
      "state": {}
     },
     "7d7ac283a844447ab139ca98b334333a": {
      "model_module": "@jupyter-widgets/controls",
      "model_module_version": "1.4.0",
      "model_name": "VBoxModel",
      "state": {
       "layout": "IPY_MODEL_3fa51bec49aa4a6d82c8c1d2e7f2fe42"
      }
     },
     "7db701653dd047079eace006a833b2ca": {
      "model_module": "@jupyter-widgets/controls",
      "model_module_version": "1.4.0",
      "model_name": "LabelModel",
      "state": {
       "layout": "IPY_MODEL_0eda6c0068a64fa2b145bcf97d8b9f99",
       "style": "IPY_MODEL_c580e82963234b5e8d1e9557f5f088aa",
       "value": "Style"
      }
     },
     "7e957cd92e204a6cb9dcff7cd00f4b69": {
      "model_module": "@jupyter-widgets/controls",
      "model_module_version": "1.4.0",
      "model_name": "DescriptionStyleModel",
      "state": {
       "description_width": ""
      }
     },
     "7f59f7b678814efea0df111955e908a0": {
      "model_module": "@jupyter-widgets/base",
      "model_module_version": "1.1.0",
      "model_name": "LayoutModel",
      "state": {}
     },
     "7f7bc1c517d54cc0b5df89a7c1de86ce": {
      "model_module": "@jupyter-widgets/controls",
      "model_module_version": "1.4.0",
      "model_name": "HTMLModel",
      "state": {
       "layout": "IPY_MODEL_495d6be234904002ac3df4da36d0539b",
       "style": "IPY_MODEL_c552f0a19b254a1887baa81837793934",
       "value": "<h2 class='text-danger text-center'>Coming Soon! Wait for Update</h2>"
      }
     },
     "806086a611664dd1993ae620baa5f1cf": {
      "model_module": "@jupyter-widgets/base",
      "model_module_version": "1.1.0",
      "model_name": "LayoutModel",
      "state": {}
     },
     "812d05fc7087438c9d237e1104520621": {
      "model_module": "@jupyter-widgets/controls",
      "model_module_version": "1.4.0",
      "model_name": "PasswordModel",
      "state": {
       "description": "Password :",
       "layout": "IPY_MODEL_d199cdc4c9cd40279426f85e22534892",
       "style": "IPY_MODEL_a90847e3fa3c4d67b0667f774238dd80"
      }
     },
     "81849db3cfda444b87da42a3f26b6b4d": {
      "model_module": "@jupyter-widgets/controls",
      "model_module_version": "1.4.0",
      "model_name": "DescriptionStyleModel",
      "state": {
       "description_width": ""
      }
     },
     "81a7fdb6a5b6467b8bc9143f8e125910": {
      "model_module": "@jupyter-widgets/base",
      "model_module_version": "1.1.0",
      "model_name": "LayoutModel",
      "state": {
       "display": "none"
      }
     },
     "8251dd8af2b641f79d1abda23b7f2b7a": {
      "model_module": "@jupyter-widgets/controls",
      "model_module_version": "1.4.0",
      "model_name": "HTMLModel",
      "state": {
       "layout": "IPY_MODEL_209cbfdec42f4d35bdae3502db1aade2",
       "style": "IPY_MODEL_5a17921f95664cd08d7a6b5d0dc54890",
       "value": "<h5>Name  &nbsp</h5> "
      }
     },
     "827c9b3d9fcd40f99964bc01d144e060": {
      "model_module": "@jupyter-widgets/controls",
      "model_module_version": "1.4.0",
      "model_name": "HBoxModel",
      "state": {
       "children": [
        "IPY_MODEL_7db701653dd047079eace006a833b2ca",
        "IPY_MODEL_65a2311509b24fcebe690320709bbe3e"
       ],
       "layout": "IPY_MODEL_8592063ac25b4a72872c528fbb68504b"
      }
     },
     "82d25ca7cba44410bbb97d6ac68649be": {
      "model_module": "@jupyter-widgets/base",
      "model_module_version": "1.1.0",
      "model_name": "LayoutModel",
      "state": {}
     },
     "83649c448f4d4f21bea29860b0717237": {
      "model_module": "@jupyter-widgets/controls",
      "model_module_version": "1.4.0",
      "model_name": "DropdownModel",
      "state": {
       "_options_labels": [
        "center",
        "top",
        "bottom",
        "left",
        "right"
       ],
       "index": 0,
       "layout": "IPY_MODEL_ca0531c296004d3fba0ff4aac3f420bd",
       "style": "IPY_MODEL_ebaeecd1359c4944a07e1ca8e7c5f614"
      }
     },
     "8395c12e6e5744439eef901ed7d59a63": {
      "model_module": "@jupyter-widgets/controls",
      "model_module_version": "1.4.0",
      "model_name": "PasswordModel",
      "state": {
       "description": "Password :",
       "layout": "IPY_MODEL_67d714b6060c47c9a9334b1301586abf",
       "style": "IPY_MODEL_bd0d3595377c48c8825fca3312e94224"
      }
     },
     "83a1bd76f6924b399a5beb5d3db48d68": {
      "model_module": "@jupyter-widgets/base",
      "model_module_version": "1.1.0",
      "model_name": "LayoutModel",
      "state": {
       "height": "40px",
       "min_width": "50px",
       "width": "10%"
      }
     },
     "83f92fc0f9c64a6baf8accd33cf13f06": {
      "model_module": "@jupyter-widgets/controls",
      "model_module_version": "1.4.0",
      "model_name": "SliderStyleModel",
      "state": {
       "description_width": ""
      }
     },
     "84144dbc45ef4e239a2ed43a1b031a68": {
      "model_module": "@jupyter-widgets/base",
      "model_module_version": "1.1.0",
      "model_name": "LayoutModel",
      "state": {}
     },
     "8422eabf1b2d41f88c529315a69e5aa1": {
      "model_module": "@jupyter-widgets/controls",
      "model_module_version": "1.4.0",
      "model_name": "SliderStyleModel",
      "state": {
       "description_width": ""
      }
     },
     "8493956bbca547dfa1552c65599f50bd": {
      "model_module": "@jupyter-widgets/controls",
      "model_module_version": "1.4.0",
      "model_name": "DescriptionStyleModel",
      "state": {
       "description_width": ""
      }
     },
     "858a07759af54280b3b295017eb4a27f": {
      "model_module": "@jupyter-widgets/controls",
      "model_module_version": "1.4.0",
      "model_name": "HBoxModel",
      "state": {
       "children": [
        "IPY_MODEL_74d4096700174d789dbce8c00b0749db"
       ],
       "layout": "IPY_MODEL_c993c3b1ce9f4bc08f1db70ff0ebcd33"
      }
     },
     "8592063ac25b4a72872c528fbb68504b": {
      "model_module": "@jupyter-widgets/base",
      "model_module_version": "1.1.0",
      "model_name": "LayoutModel",
      "state": {
       "padding": "10px 0px 0px 0px"
      }
     },
     "87542ed5d10b40dc823812cb2d93eb3e": {
      "model_module": "@jupyter-widgets/base",
      "model_module_version": "1.1.0",
      "model_name": "LayoutModel",
      "state": {
       "justify_content": "center",
       "padding": "0px 0px 10px 0px"
      }
     },
     "875a597ab6064a33baaccf680a3e8b39": {
      "model_module": "@jupyter-widgets/base",
      "model_module_version": "1.1.0",
      "model_name": "LayoutModel",
      "state": {}
     },
     "8786cdf9656d47368fd081aa75141edc": {
      "model_module": "@jupyter-widgets/controls",
      "model_module_version": "1.4.0",
      "model_name": "VBoxModel",
      "state": {
       "children": [
        "IPY_MODEL_ff1df091e12f4be5bcd8b7f8a00a89c9",
        "IPY_MODEL_1f547060dff6438192c1f8e4522897f0",
        "IPY_MODEL_6c1267c853274e6fa7052f303d393ec6"
       ],
       "layout": "IPY_MODEL_fa5858afa4de4afd937efbfc3ef0f0e9"
      }
     },
     "878dcbc2bf4944168f90bc923226ae19": {
      "model_module": "@jupyter-widgets/controls",
      "model_module_version": "1.4.0",
      "model_name": "VBoxModel",
      "state": {
       "children": [
        "IPY_MODEL_2649eb5a53904f56a9a27b3dfd638245",
        "IPY_MODEL_bbab0627aebb41b69a1f5ab5b9aba23f",
        "IPY_MODEL_8786cdf9656d47368fd081aa75141edc"
       ],
       "layout": "IPY_MODEL_2b428c25cc5844c3bcff67941b292763"
      }
     },
     "87b6f546f81a4033980b9728fa25bfaa": {
      "model_module": "@jupyter-widgets/controls",
      "model_module_version": "1.4.0",
      "model_name": "TextModel",
      "state": {
       "continuous_update": false,
       "layout": "IPY_MODEL_3863fbae6a004fd2a5995ba861a1e773",
       "style": "IPY_MODEL_56873ccfb6ee4fadb733b103bae38f86"
      }
     },
     "87b768c59a4340b292d0fc739ade4549": {
      "model_module": "@jupyter-widgets/controls",
      "model_module_version": "1.4.0",
      "model_name": "DescriptionStyleModel",
      "state": {
       "description_width": ""
      }
     },
     "87e91fc2d4ca4f979fc6d308a9f9528d": {
      "model_module": "@jupyter-widgets/base",
      "model_module_version": "1.1.0",
      "model_name": "LayoutModel",
      "state": {
       "justify_content": "center",
       "padding": "10px 0px 0px 0px"
      }
     },
     "88cd4178c9614260acd3715ecedcfb2a": {
      "model_module": "@jupyter-widgets/base",
      "model_module_version": "1.1.0",
      "model_name": "LayoutModel",
      "state": {
       "padding": "0px 0px 10px 0px"
      }
     },
     "893ca311595f45a0956d8350089d6e9b": {
      "model_module": "@jupyter-widgets/base",
      "model_module_version": "1.1.0",
      "model_name": "LayoutModel",
      "state": {}
     },
     "8997274d94644cb58392f723f5b08e24": {
      "model_module": "@jupyter-widgets/controls",
      "model_module_version": "1.4.0",
      "model_name": "DescriptionStyleModel",
      "state": {
       "description_width": ""
      }
     },
     "89ea211b3e944f7799f8d276cf36c1db": {
      "model_module": "@jupyter-widgets/controls",
      "model_module_version": "1.4.0",
      "model_name": "SliderStyleModel",
      "state": {
       "description_width": ""
      }
     },
     "89ec2c4ad66b479c981f8b2144c6b619": {
      "model_module": "@jupyter-widgets/controls",
      "model_module_version": "1.4.0",
      "model_name": "IntSliderModel",
      "state": {
       "layout": "IPY_MODEL_f28ef02f11c04c188cf25a3ff98da303",
       "max": 200,
       "min": 1,
       "style": "IPY_MODEL_89ea211b3e944f7799f8d276cf36c1db",
       "value": 30
      }
     },
     "8addb12b2f404de5995fe910445d0c26": {
      "model_module": "@jupyter-widgets/controls",
      "model_module_version": "1.4.0",
      "model_name": "DescriptionStyleModel",
      "state": {
       "description_width": ""
      }
     },
     "8b4f0c5cde2c4966a0a6718e60bf116d": {
      "model_module": "@jupyter-widgets/controls",
      "model_module_version": "1.4.0",
      "model_name": "VBoxModel",
      "state": {
       "children": [
        "IPY_MODEL_7923037da2214f63bed8ff70db8f692d",
        "IPY_MODEL_2e7964500b2d4c9a935deb3bcb6cfd04"
       ],
       "layout": "IPY_MODEL_98a3a588eec94565b4eb7ca220ace7f4"
      }
     },
     "8badc3816cfd4f4e8a5706b98c407b7a": {
      "model_module": "@jupyter-widgets/base",
      "model_module_version": "1.1.0",
      "model_name": "LayoutModel",
      "state": {}
     },
     "8bbc6203bcb84b8881abe523f5ea9f7a": {
      "model_module": "@jupyter-widgets/base",
      "model_module_version": "1.1.0",
      "model_name": "LayoutModel",
      "state": {}
     },
     "8c06515bbdd144b882b54a1964bc065a": {
      "model_module": "@jupyter-widgets/controls",
      "model_module_version": "1.4.0",
      "model_name": "ButtonModel",
      "state": {
       "button_style": "primary",
       "description": "Load",
       "layout": "IPY_MODEL_764c3c6a448b48ab949371a2930c3c9a",
       "style": "IPY_MODEL_bbcb91998e0242d8a0e6f5d27a5e673e"
      }
     },
     "8d6648389cbc4700adce47aeecb5ef9e": {
      "model_module": "@jupyter-widgets/controls",
      "model_module_version": "1.4.0",
      "model_name": "IntSliderModel",
      "state": {
       "layout": "IPY_MODEL_d44cb5b1171e458495a8f02e3f4361ba",
       "max": 5,
       "min": 1,
       "style": "IPY_MODEL_0e91cf2ca5d547d3a75862ddedc23443",
       "value": 1
      }
     },
     "8d8be250674041c29b3bafebb8be3369": {
      "model_module": "@jupyter-widgets/base",
      "model_module_version": "1.1.0",
      "model_name": "LayoutModel",
      "state": {
       "justify_content": "center",
       "padding": "0px 20px 5px 0px"
      }
     },
     "8dc27b9fab124b2c98b36f58a2040035": {
      "model_module": "@jupyter-widgets/controls",
      "model_module_version": "1.4.0",
      "model_name": "VBoxModel",
      "state": {
       "children": [
        "IPY_MODEL_b9f1e8d4684d4e70b4657d56b8caff40",
        "IPY_MODEL_47512ec5acbf4ba995a1420fceb6669f",
        "IPY_MODEL_9be20fe186c741bf980733645d4fc4dc"
       ],
       "layout": "IPY_MODEL_00b35682873f4f55bdc9007e50214ed1"
      }
     },
     "8dcb2259d57c4977821a1199a904bf68": {
      "model_module": "@jupyter-widgets/controls",
      "model_module_version": "1.4.0",
      "model_name": "TextModel",
      "state": {
       "description": "Name :",
       "layout": "IPY_MODEL_4847c1eab80945baacb38fd2aa1eda04",
       "placeholder": "Network Name",
       "style": "IPY_MODEL_d28c267eff8646838ddea0603efe0085"
      }
     },
     "8dfb2c516ade413caf0e07012041f35f": {
      "model_module": "@jupyter-widgets/controls",
      "model_module_version": "1.4.0",
      "model_name": "HTMLModel",
      "state": {
       "layout": "IPY_MODEL_a1e740ace54c4171b843df1791f4cf30",
       "style": "IPY_MODEL_099145f8d03f4ea6af480c35e048e441",
       "value": "<h1 class='text-center text-success' style='margin:0'>Saved!</h1>"
      }
     },
     "8e32bde32ec84b40814d92d9a60c76ab": {
      "model_module": "@jupyter-widgets/base",
      "model_module_version": "1.1.0",
      "model_name": "LayoutModel",
      "state": {
       "height": "40px",
       "min_width": "50px",
       "width": "10%"
      }
     },
     "8ef3406d2f1a4ea7ad9a4380ad8a83e7": {
      "model_module": "@jupyter-widgets/controls",
      "model_module_version": "1.4.0",
      "model_name": "SliderStyleModel",
      "state": {
       "description_width": ""
      }
     },
     "8f3b2b00c4454e43b15eb6ae17b98691": {
      "model_module": "@jupyter-widgets/base",
      "model_module_version": "1.1.0",
      "model_name": "LayoutModel",
      "state": {}
     },
     "8f78018c9f7a4a8da0a38fd58483710c": {
      "model_module": "@jupyter-widgets/controls",
      "model_module_version": "1.4.0",
      "model_name": "HBoxModel",
      "state": {
       "children": [
        "IPY_MODEL_0da5a35577b647559617682bb2362b53",
        "IPY_MODEL_9d7e945cce3943a9b26a90f8c4ba014f"
       ],
       "layout": "IPY_MODEL_798861e2795440818d045ad8d49ffaed"
      }
     },
     "8fad508d08784d8d83b229c2d60d57f1": {
      "model_module": "@jupyter-widgets/base",
      "model_module_version": "1.1.0",
      "model_name": "LayoutModel",
      "state": {
       "padding": "0 15px 0 35px"
      }
     },
     "9028e4a1b7a44cc188c7146427da6658": {
      "model_module": "@jupyter-widgets/controls",
      "model_module_version": "1.4.0",
      "model_name": "HTMLModel",
      "state": {
       "layout": "IPY_MODEL_c6172d53e1d3435f849398aed99bcb7c",
       "style": "IPY_MODEL_a58479d7215f467a8b890c17ed319341",
       "value": "<h5>Here you can load a <a href='https://www.datacamp.com/community/tutorials/pandas-tutorial-dataframe-python'>Pandas DataFrame</a>\n by typing the name of a <font color=\"blue\">Python Variable</font> .</h5>"
      }
     },
     "9045edafb63d4e9eac37a05b7f392d79": {
      "model_module": "@jupyter-widgets/base",
      "model_module_version": "1.1.0",
      "model_name": "LayoutModel",
      "state": {
       "margin": "2px 25px 2px 0px",
       "width": "auto"
      }
     },
     "90b970e79f514ad3b324ed9ded350417": {
      "model_module": "@jupyter-widgets/controls",
      "model_module_version": "1.4.0",
      "model_name": "DescriptionStyleModel",
      "state": {
       "description_width": ""
      }
     },
     "91376dbf9e31417eaec8ca2b6b2ba0e1": {
      "model_module": "@jupyter-widgets/controls",
      "model_module_version": "1.4.0",
      "model_name": "VBoxModel",
      "state": {
       "children": [
        "IPY_MODEL_e878a3b5094948b4a4f04a9269b97ca7",
        "IPY_MODEL_d0d19f2352ea4a918bd3d1051239b303"
       ],
       "layout": "IPY_MODEL_74e601a835664dbcb8e95883b6a53ecf"
      }
     },
     "91f5997ca4da4fa1a2db7d78a8b6f4ac": {
      "model_module": "@jupyter-widgets/controls",
      "model_module_version": "1.4.0",
      "model_name": "DescriptionStyleModel",
      "state": {
       "description_width": ""
      }
     },
     "9200e0930cae422aa9c6c290dd6bd26b": {
      "model_module": "@jupyter-widgets/base",
      "model_module_version": "1.1.0",
      "model_name": "LayoutModel",
      "state": {
       "display": "none"
      }
     },
     "923e8fff94624145b405bdb35df7c894": {
      "model_module": "@jupyter-widgets/controls",
      "model_module_version": "1.4.0",
      "model_name": "DescriptionStyleModel",
      "state": {
       "description_width": ""
      }
     },
     "929368e9405443fc8ffcaa918d2d038f": {
      "model_module": "@jupyter-widgets/controls",
      "model_module_version": "1.4.0",
      "model_name": "DescriptionStyleModel",
      "state": {
       "description_width": ""
      }
     },
     "92a1077a5b48463f8432909c3f769f67": {
      "model_module": "@jupyter-widgets/base",
      "model_module_version": "1.1.0",
      "model_name": "LayoutModel",
      "state": {}
     },
     "932f490d1902419f87fa51aef2fab567": {
      "model_module": "@jupyter-widgets/base",
      "model_module_version": "1.1.0",
      "model_name": "LayoutModel",
      "state": {}
     },
     "93326c560cbc41c3b2ca91c5e5ce2a25": {
      "model_module": "@jupyter-widgets/base",
      "model_module_version": "1.1.0",
      "model_name": "LayoutModel",
      "state": {
       "justify_content": "center"
      }
     },
     "933c02254adb44ed9da49d1e7d04ab17": {
      "model_module": "@jupyter-widgets/base",
      "model_module_version": "1.1.0",
      "model_name": "LayoutModel",
      "state": {}
     },
     "937f0a808fe34b58a8ea283335b7adb0": {
      "model_module": "@jupyter-widgets/base",
      "model_module_version": "1.1.0",
      "model_name": "LayoutModel",
      "state": {}
     },
     "9457b9dfd0f845ba9d714dbe1d07349e": {
      "model_module": "@jupyter-widgets/controls",
      "model_module_version": "1.4.0",
      "model_name": "SelectModel",
      "state": {
       "_options_labels": [
        "Number",
        "Text"
       ],
       "index": 0,
       "layout": "IPY_MODEL_53cec4d1f9174bb2aad1e957da7655ce",
       "style": "IPY_MODEL_efeaedb8a5384fb09d636ed569896a76"
      }
     },
     "94b89dd16f604c0e80e44ef425304889": {
      "model_module": "@jupyter-widgets/base",
      "model_module_version": "1.1.0",
      "model_name": "LayoutModel",
      "state": {}
     },
     "9569af4d414b4624bc215589af7cbbde": {
      "model_module": "@jupyter-widgets/base",
      "model_module_version": "1.1.0",
      "model_name": "LayoutModel",
      "state": {
       "align_items": "center"
      }
     },
     "960c8462761b4e1dbca0e631a621f45c": {
      "model_module": "@jupyter-widgets/controls",
      "model_module_version": "1.4.0",
      "model_name": "DescriptionStyleModel",
      "state": {
       "description_width": ""
      }
     },
     "96cb1dcb8aee4db388a2163cff9bc8bd": {
      "model_module": "@jupyter-widgets/controls",
      "model_module_version": "1.4.0",
      "model_name": "ButtonModel",
      "state": {
       "button_style": "primary",
       "description": "Download",
       "layout": "IPY_MODEL_92a1077a5b48463f8432909c3f769f67",
       "style": "IPY_MODEL_fb1a815165674b9caa6b5ec72b02ca7a"
      }
     },
     "9751e9eff9c74ae39ef493f60d90b87c": {
      "model_module": "@jupyter-widgets/base",
      "model_module_version": "1.1.0",
      "model_name": "LayoutModel",
      "state": {
       "width": "auto"
      }
     },
     "976c7efe483e40bd8960dc4e48106434": {
      "model_module": "@jupyter-widgets/controls",
      "model_module_version": "1.4.0",
      "model_name": "SliderStyleModel",
      "state": {
       "description_width": ""
      }
     },
     "97a6bd9f033f4bea8ecf5e2330d85dbe": {
      "model_module": "@jupyter-widgets/controls",
      "model_module_version": "1.4.0",
      "model_name": "FloatSliderModel",
      "state": {
       "layout": "IPY_MODEL_bdfd446daa64494789026df65f40311e",
       "max": 1,
       "step": 0.05,
       "style": "IPY_MODEL_2301428ee48b4a9db0b98a8efc961ecd",
       "value": 0.5
      }
     },
     "97eae941ae474d3db54db1506e1e7b14": {
      "model_module": "@jupyter-widgets/controls",
      "model_module_version": "1.4.0",
      "model_name": "LabelModel",
      "state": {
       "layout": "IPY_MODEL_ed6e26e964b246f59c0a3ae82183e29f",
       "style": "IPY_MODEL_68db214bdf6d407fa55ada9d3888c436",
       "value": "Style"
      }
     },
     "98a3a588eec94565b4eb7ca220ace7f4": {
      "model_module": "@jupyter-widgets/base",
      "model_module_version": "1.1.0",
      "model_name": "LayoutModel",
      "state": {}
     },
     "98a7829971944fa6a8ba5e19b92f3c16": {
      "model_module": "@jupyter-widgets/controls",
      "model_module_version": "1.4.0",
      "model_name": "VBoxModel",
      "state": {
       "children": [
        "IPY_MODEL_ae968b173d9844ab8508a50c52c18b07",
        "IPY_MODEL_a953a37402134e45911c35300182fdc6",
        "IPY_MODEL_6289192ea444474080a45028cc14ccfb"
       ],
       "layout": "IPY_MODEL_f06fbce7ed204930bd2b71bd887bb9db"
      }
     },
     "99ef22e54f984d76bba2321e2041bbb5": {
      "model_module": "@jupyter-widgets/base",
      "model_module_version": "1.1.0",
      "model_name": "LayoutModel",
      "state": {}
     },
     "9a52c5bdae8d4c55b4b036f18db47532": {
      "model_module": "@jupyter-widgets/base",
      "model_module_version": "1.1.0",
      "model_name": "LayoutModel",
      "state": {}
     },
     "9ac89df4d0534f418fa6ed621edab420": {
      "model_module": "@jupyter-widgets/controls",
      "model_module_version": "1.4.0",
      "model_name": "DescriptionStyleModel",
      "state": {
       "description_width": ""
      }
     },
     "9b7e741094da400ea7a84841c2efdbe6": {
      "model_module": "@jupyter-widgets/controls",
      "model_module_version": "1.4.0",
      "model_name": "HBoxModel",
      "state": {
       "children": [
        "IPY_MODEL_e3fd786c02694bd3942119163f031564",
        "IPY_MODEL_1f38d905caae4906b2ba7a42e6973740",
        "IPY_MODEL_5300f5a9bd8340f89eb112e799ec9e6b",
        "IPY_MODEL_eedeb390b03241db93cba65f526e6d70"
       ],
       "layout": "IPY_MODEL_d644d47fcd7c47b0804112a9ec259bce"
      }
     },
     "9b9b2ac5546447c7beb5f650913e449f": {
      "model_module": "@jupyter-widgets/base",
      "model_module_version": "1.1.0",
      "model_name": "LayoutModel",
      "state": {}
     },
     "9be20fe186c741bf980733645d4fc4dc": {
      "model_module": "@jupyter-widgets/controls",
      "model_module_version": "1.4.0",
      "model_name": "VBoxModel",
      "state": {
       "children": [
        "IPY_MODEL_9f742d386fdb489e8e576a2134ec43a0",
        "IPY_MODEL_4e17b3bd818d43698429693d28c46776",
        "IPY_MODEL_514bc61a0c214909b5a57fe5434b30c1"
       ],
       "layout": "IPY_MODEL_a4ce0812d95a41a084678db0b005253a"
      }
     },
     "9c731c700b654dd88c6b6e5be0f049ca": {
      "model_module": "@jupyter-widgets/controls",
      "model_module_version": "1.4.0",
      "model_name": "TextModel",
      "state": {
       "layout": "IPY_MODEL_3b249f7082ba496f82154097d4674508",
       "style": "IPY_MODEL_0d92da17de35433badd18eea3cc6efc9"
      }
     },
     "9d1f84a8c64b4bac9ab3766b8f05ee53": {
      "model_module": "@jupyter-widgets/controls",
      "model_module_version": "1.4.0",
      "model_name": "ButtonModel",
      "state": {
       "button_style": "danger",
       "icon": "image",
       "layout": "IPY_MODEL_35150dce57a24024b45b38690a7ef9e9",
       "style": "IPY_MODEL_393c22eeaa57472e989ec862bf0f9cc1"
      }
     },
     "9d30623fb987492796f00b9141a4dc87": {
      "model_module": "@jupyter-widgets/controls",
      "model_module_version": "1.4.0",
      "model_name": "HBoxModel",
      "state": {
       "children": [
        "IPY_MODEL_203545e807624ffda232d9df49dacdb3",
        "IPY_MODEL_4cedd42910e04e07be8026bc8da02502"
       ],
       "layout": "IPY_MODEL_f928d5f01603498e8ab61e4bc3dfd027"
      }
     },
     "9d7e945cce3943a9b26a90f8c4ba014f": {
      "model_module": "@jupyter-widgets/controls",
      "model_module_version": "1.4.0",
      "model_name": "DropdownModel",
      "state": {
       "_options_labels": [
        "none",
        "triangle",
        "tee",
        "diamond",
        "square",
        "circle",
        "vee",
        "triangle-tee"
       ],
       "index": 0,
       "layout": "IPY_MODEL_1badf437f35f4356b465c37e610bb582",
       "style": "IPY_MODEL_dbf1f7754c944d25a2cab53b7b4119b9"
      }
     },
     "9dc68ecb29e14a79b5e93b73ebc5a514": {
      "model_module": "@jupyter-widgets/controls",
      "model_module_version": "1.4.0",
      "model_name": "DescriptionStyleModel",
      "state": {
       "description_width": ""
      }
     },
     "9e1102a287da4c049e898d37035c0be7": {
      "model_module": "@jupyter-widgets/base",
      "model_module_version": "1.1.0",
      "model_name": "LayoutModel",
      "state": {}
     },
     "9e1857feca8349da96c4e0f13e6c1ade": {
      "model_module": "@jupyter-widgets/controls",
      "model_module_version": "1.4.0",
      "model_name": "ToggleButtonModel",
      "state": {
       "button_style": "info",
       "description": "Border",
       "layout": "IPY_MODEL_f1e6e5fedd3247728db2fd6baecdd105",
       "style": "IPY_MODEL_c5cbf0fb9e8447ba8941f7c56325eeba"
      }
     },
     "9ea4dff79e434b75abd9748fa57594c2": {
      "model_module": "@jupyter-widgets/base",
      "model_module_version": "1.1.0",
      "model_name": "LayoutModel",
      "state": {
       "width": "auto"
      }
     },
     "9ecd1ecc73ae44e98c84a92f59bc5033": {
      "model_module": "@jupyter-widgets/base",
      "model_module_version": "1.1.0",
      "model_name": "LayoutModel",
      "state": {}
     },
     "9f6797a9defe4430887715e57d6f3abe": {
      "model_module": "@jupyter-widgets/controls",
      "model_module_version": "1.4.0",
      "model_name": "DescriptionStyleModel",
      "state": {
       "description_width": ""
      }
     },
     "9f742d386fdb489e8e576a2134ec43a0": {
      "model_module": "@jupyter-widgets/controls",
      "model_module_version": "1.4.0",
      "model_name": "HTMLModel",
      "state": {
       "layout": "IPY_MODEL_758faccb3417480285a2492e475554a1",
       "style": "IPY_MODEL_f6761af5c82d4327ba579cb1f5963e44",
       "value": "<h5>Here you can load in a cytoscape <font color='darkKhaki'>.html</font> file. \nPut the file you want to load into the same place as this notebook, then load it in! </h5>"
      }
     },
     "9ff23ce514e44899ba523b6ad96f6313": {
      "model_module": "@jupyter-widgets/base",
      "model_module_version": "1.1.0",
      "model_name": "LayoutModel",
      "state": {}
     },
     "a0576997da7d40648b7f11cddb8a1058": {
      "model_module": "@jupyter-widgets/base",
      "model_module_version": "1.1.0",
      "model_name": "LayoutModel",
      "state": {
       "width": "auto"
      }
     },
     "a064789ac5f244d4978cc80232c067fd": {
      "model_module": "@jupyter-widgets/controls",
      "model_module_version": "1.4.0",
      "model_name": "ColorPickerModel",
      "state": {
       "disabled": false,
       "layout": "IPY_MODEL_ee25322ecf70435a873b42b99b261349",
       "style": "IPY_MODEL_b42e1355b3e149b793d1e575c2033b64"
      }
     },
     "a0ba20be06f343d598c787db11a88373": {
      "model_module": "@jupyter-widgets/controls",
      "model_module_version": "1.4.0",
      "model_name": "DescriptionStyleModel",
      "state": {
       "description_width": ""
      }
     },
     "a0dc1733539c486595d9621371726a34": {
      "model_module": "@jupyter-widgets/controls",
      "model_module_version": "1.4.0",
      "model_name": "HBoxModel",
      "state": {
       "children": [
        "IPY_MODEL_b0246b1b2c984d7997851bad1e4acfe4",
        "IPY_MODEL_d4fe7901516c459eb9175e3440c266f9"
       ],
       "layout": "IPY_MODEL_56cf1bc0992441d7ba0e8ced71a93063"
      }
     },
     "a1e740ace54c4171b843df1791f4cf30": {
      "model_module": "@jupyter-widgets/base",
      "model_module_version": "1.1.0",
      "model_name": "LayoutModel",
      "state": {
       "visibility": "hidden"
      }
     },
     "a3055c213ad448ce86417447e51f9aa0": {
      "model_module": "@jupyter-widgets/controls",
      "model_module_version": "1.4.0",
      "model_name": "HTMLModel",
      "state": {
       "layout": "IPY_MODEL_f8a9d9f463d24109809ceeda5541efcf",
       "style": "IPY_MODEL_7e957cd92e204a6cb9dcff7cd00f4b69",
       "value": "<h5>Name  &nbsp</h5> "
      }
     },
     "a31705bd402d4eb2ba635f8fd356adc4": {
      "model_module": "@jupyter-widgets/controls",
      "model_module_version": "1.4.0",
      "model_name": "DescriptionStyleModel",
      "state": {
       "description_width": ""
      }
     },
     "a3d00cde2c2e49e58a1bbfe283348f9b": {
      "model_module": "@jupyter-widgets/controls",
      "model_module_version": "1.4.0",
      "model_name": "DescriptionStyleModel",
      "state": {
       "description_width": ""
      }
     },
     "a435202718d945ccaf5e75d5da6b906d": {
      "model_module": "@jupyter-widgets/base",
      "model_module_version": "1.1.0",
      "model_name": "LayoutModel",
      "state": {}
     },
     "a4ac1e872959402a928657b272595514": {
      "model_module": "@jupyter-widgets/controls",
      "model_module_version": "1.4.0",
      "model_name": "DescriptionStyleModel",
      "state": {
       "description_width": ""
      }
     },
     "a4ce0812d95a41a084678db0b005253a": {
      "model_module": "@jupyter-widgets/base",
      "model_module_version": "1.1.0",
      "model_name": "LayoutModel",
      "state": {}
     },
     "a4fe5b958ed14a99a6a7a175d4aa07b1": {
      "model_module": "@jupyter-widgets/base",
      "model_module_version": "1.1.0",
      "model_name": "LayoutModel",
      "state": {
       "justify_content": "center",
       "margin": "0 0 15px 0"
      }
     },
     "a58479d7215f467a8b890c17ed319341": {
      "model_module": "@jupyter-widgets/controls",
      "model_module_version": "1.4.0",
      "model_name": "DescriptionStyleModel",
      "state": {
       "description_width": ""
      }
     },
     "a595218df5bb47a89ad6bb8930a5efb6": {
      "model_module": "@jupyter-widgets/base",
      "model_module_version": "1.1.0",
      "model_name": "LayoutModel",
      "state": {}
     },
     "a5b893c831314c91a1f2f31020eef5ed": {
      "model_module": "@jupyter-widgets/base",
      "model_module_version": "1.1.0",
      "model_name": "LayoutModel",
      "state": {}
     },
     "a641317b7e5740d69ca824432513c95f": {
      "model_module": "@jupyter-widgets/base",
      "model_module_version": "1.1.0",
      "model_name": "LayoutModel",
      "state": {
       "margin": "0 15px 0 0px",
       "width": "auto"
      }
     },
     "a654a5510e614f14879b5adb5a53cfd0": {
      "model_module": "@jupyter-widgets/controls",
      "model_module_version": "1.4.0",
      "model_name": "LabelModel",
      "state": {
       "layout": "IPY_MODEL_0429a7d36b234bf19ff14033d7126c89",
       "style": "IPY_MODEL_91f5997ca4da4fa1a2db7d78a8b6f4ac",
       "value": "Color :"
      }
     },
     "a6d153f04bb34e3098af6e7a2c21908a": {
      "model_module": "@jupyter-widgets/controls",
      "model_module_version": "1.4.0",
      "model_name": "ButtonModel",
      "state": {
       "button_style": "primary",
       "description": "Undo",
       "disabled": true,
       "layout": "IPY_MODEL_a9f0abfbfc5840a79826fd41ca1cc073",
       "style": "IPY_MODEL_244c41aaf5b34e2396700d2187265ef4"
      }
     },
     "a7392ed5051f4c7fb6fc18625b963d2c": {
      "model_module": "@jupyter-widgets/controls",
      "model_module_version": "1.4.0",
      "model_name": "HTMLModel",
      "state": {
       "layout": "IPY_MODEL_f6972e87f5fd474988d4bd8895dfd6ca",
       "style": "IPY_MODEL_ef7c5028689c4ba89bd742f990616c29",
       "value": "<h3> </h3>"
      }
     },
     "a76f21e8e4a74089a762cb9c2313dcb9": {
      "model_module": "@jupyter-widgets/controls",
      "model_module_version": "1.4.0",
      "model_name": "ButtonModel",
      "state": {
       "button_style": "success",
       "description": "Upload",
       "layout": "IPY_MODEL_dbf8a907f83642f89e21a9ff6002988c",
       "style": "IPY_MODEL_3fe35040912346c9904744bee9e2625f"
      }
     },
     "a825d2bbf3f1486b9bc9d2829d3b222a": {
      "model_module": "@jupyter-widgets/controls",
      "model_module_version": "1.4.0",
      "model_name": "HTMLModel",
      "state": {
       "layout": "IPY_MODEL_3a244642cf6d46c782a414face7fd8ea",
       "style": "IPY_MODEL_8997274d94644cb58392f723f5b08e24",
       "value": "<hr style='padding: 2px; margin: 2px'>"
      }
     },
     "a86ba42b5c9547549bb8ec80320e27e0": {
      "model_module": "@jupyter-widgets/controls",
      "model_module_version": "1.4.0",
      "model_name": "HBoxModel",
      "state": {
       "children": [
        "IPY_MODEL_6799efd8682d441c8408a0d549d9004b",
        "IPY_MODEL_4f95b76c0e794ce08793f76520d95f78"
       ],
       "layout": "IPY_MODEL_4e8eb262daa6434490dd7848859927c8"
      }
     },
     "a8c65d84606d43e88098702f0cbabd18": {
      "model_module": "@jupyter-widgets/controls",
      "model_module_version": "1.4.0",
      "model_name": "DescriptionStyleModel",
      "state": {
       "description_width": ""
      }
     },
     "a90847e3fa3c4d67b0667f774238dd80": {
      "model_module": "@jupyter-widgets/controls",
      "model_module_version": "1.4.0",
      "model_name": "DescriptionStyleModel",
      "state": {
       "description_width": ""
      }
     },
     "a953a37402134e45911c35300182fdc6": {
      "model_module": "@jupyter-widgets/controls",
      "model_module_version": "1.4.0",
      "model_name": "VBoxModel",
      "state": {
       "children": [
        "IPY_MODEL_eb1b48d400a54881ab9516862f96cc28",
        "IPY_MODEL_c08fcfd2e3ac45c6a2f786d740f43cdb",
        "IPY_MODEL_db10e2ac44a341d0ae16615bc3cca3f4",
        "IPY_MODEL_1efc2fbc0ad3400991cfd8602a9aa29c",
        "IPY_MODEL_0e303d84043845b3b3de5dcf33392f05",
        "IPY_MODEL_70726ff7455a4531a25d36b238af4fc3"
       ],
       "layout": "IPY_MODEL_5da155307aac4bc9b8a7ba85ccdd8a2c"
      }
     },
     "a998925f1d3f458c88f4f5692b758530": {
      "model_module": "@jupyter-widgets/controls",
      "model_module_version": "1.4.0",
      "model_name": "ButtonModel",
      "state": {
       "button_style": "primary",
       "description": "Create",
       "layout": "IPY_MODEL_7ba231f408c04bc1ab077f7cabe579a6",
       "style": "IPY_MODEL_177857ca6d984c20a0da337846d4169a"
      }
     },
     "a9da136204bb44c8ac9aafaf823ac495": {
      "model_module": "@jupyter-widgets/controls",
      "model_module_version": "1.4.0",
      "model_name": "LabelModel",
      "state": {
       "layout": "IPY_MODEL_3e0f40bd04fe4917a04c96abeeeb6248",
       "style": "IPY_MODEL_923e8fff94624145b405bdb35df7c894",
       "value": "Image : "
      }
     },
     "a9f0abfbfc5840a79826fd41ca1cc073": {
      "model_module": "@jupyter-widgets/base",
      "model_module_version": "1.1.0",
      "model_name": "LayoutModel",
      "state": {}
     },
     "aa2d147dd3184f1d8eaeab64501a2c55": {
      "model_module": "@jupyter-widgets/controls",
      "model_module_version": "1.4.0",
      "model_name": "HBoxModel",
      "state": {
       "children": [
        "IPY_MODEL_e729b643020847a0bc74f9beed556eda",
        "IPY_MODEL_02e7a7498a0341419b87d3faead9a2e5"
       ],
       "layout": "IPY_MODEL_d9ee05cbfae4416eb195d5713367c3c7"
      }
     },
     "aa621250e17c44dfb08ff1239ff987c1": {
      "model_module": "@jupyter-widgets/base",
      "model_module_version": "1.1.0",
      "model_name": "LayoutModel",
      "state": {}
     },
     "ab0fb83f231c4da3a915e52c6ff9064c": {
      "model_module": "@jupyter-widgets/base",
      "model_module_version": "1.1.0",
      "model_name": "LayoutModel",
      "state": {}
     },
     "ab4ea0c13c5845caa726f3c2a7c20845": {
      "model_module": "@jupyter-widgets/base",
      "model_module_version": "1.1.0",
      "model_name": "LayoutModel",
      "state": {}
     },
     "ab9a4bc317b14c7483aec0fe5a607650": {
      "model_module": "@jupyter-widgets/controls",
      "model_module_version": "1.4.0",
      "model_name": "DescriptionStyleModel",
      "state": {
       "description_width": ""
      }
     },
     "ac7c43b9d37e4182a320f717178a0eb5": {
      "model_module": "@jupyter-widgets/controls",
      "model_module_version": "1.4.0",
      "model_name": "DescriptionStyleModel",
      "state": {
       "description_width": ""
      }
     },
     "ad9baddbc3d1447cbfaea88a375ad0a9": {
      "model_module": "@jupyter-widgets/controls",
      "model_module_version": "1.4.0",
      "model_name": "DescriptionStyleModel",
      "state": {
       "description_width": ""
      }
     },
     "ae968b173d9844ab8508a50c52c18b07": {
      "model_module": "@jupyter-widgets/controls",
      "model_module_version": "1.4.0",
      "model_name": "ToggleButtonsModel",
      "state": {
       "_options_labels": [
        "Python",
        "HTML"
       ],
       "button_style": "danger",
       "icons": [],
       "index": 1,
       "layout": "IPY_MODEL_5738f643e48d421985162c080337bf89",
       "style": "IPY_MODEL_046db71167ab421192438d276a3a5839",
       "tooltips": []
      }
     },
     "aeb4f8b59ee14ffca858f66ca2254e3c": {
      "model_module": "@jupyter-widgets/controls",
      "model_module_version": "1.4.0",
      "model_name": "ToggleButtonsStyleModel",
      "state": {
       "button_width": "",
       "description_width": ""
      }
     },
     "af900fac9b384c5c845deb9834252d96": {
      "model_module": "@jupyter-widgets/base",
      "model_module_version": "1.1.0",
      "model_name": "LayoutModel",
      "state": {
       "padding": "10px 0px 0px 0px"
      }
     },
     "aff23590b7ee4b55a83fc7a13f02e264": {
      "model_module": "@jupyter-widgets/controls",
      "model_module_version": "1.4.0",
      "model_name": "HTMLModel",
      "state": {
       "layout": "IPY_MODEL_3089864c1e5e462f88e689e4ca2e990e",
       "style": "IPY_MODEL_5670c49381c8416c85ef84b17b6c20b8",
       "value": "<h5>Fill out the info below to upload data to <a href='http://www.ndexbio.org/'>NDEx</a></h5>"
      }
     },
     "b0246b1b2c984d7997851bad1e4acfe4": {
      "model_module": "@jupyter-widgets/controls",
      "model_module_version": "1.4.0",
      "model_name": "VBoxModel",
      "state": {
       "children": [
        "IPY_MODEL_205812700a8e4b8e8fc5ebbf3b1b3017",
        "IPY_MODEL_812d05fc7087438c9d237e1104520621"
       ],
       "layout": "IPY_MODEL_9ecd1ecc73ae44e98c84a92f59bc5033"
      }
     },
     "b08f4aed0bff4afe856ad548075d59b9": {
      "model_module": "@jupyter-widgets/controls",
      "model_module_version": "1.4.0",
      "model_name": "HTMLModel",
      "state": {
       "layout": "IPY_MODEL_14d1105fb7d349f19b9bc288e018418f",
       "style": "IPY_MODEL_d4f8ff5211a345a3bed65445db7bdca9",
       "value": "<h4 style='color: DarkKhaki'>Nodes</h4>"
      }
     },
     "b0a608b7609049ae8f0806872acd1a68": {
      "model_module": "@jupyter-widgets/controls",
      "model_module_version": "1.4.0",
      "model_name": "ButtonModel",
      "state": {
       "button_style": "primary",
       "description": "Load",
       "layout": "IPY_MODEL_9751e9eff9c74ae39ef493f60d90b87c",
       "style": "IPY_MODEL_21e1d17730934987b3cc38946883bf1e"
      }
     },
     "b0da4733147b4bfea1e1f22b7e6915bb": {
      "model_module": "@jupyter-widgets/controls",
      "model_module_version": "1.4.0",
      "model_name": "LabelModel",
      "state": {
       "layout": "IPY_MODEL_49967a2005494e74956e8473020b1699",
       "style": "IPY_MODEL_9f6797a9defe4430887715e57d6f3abe",
       "value": "Color :"
      }
     },
     "b0fd540775f64a638007f1f9c40f41f4": {
      "model_module": "@jupyter-widgets/base",
      "model_module_version": "1.1.0",
      "model_name": "LayoutModel",
      "state": {}
     },
     "b148dc992ed047b0943193e32f540abe": {
      "model_module": "@jupyter-widgets/base",
      "model_module_version": "1.1.0",
      "model_name": "LayoutModel",
      "state": {
       "padding": "0 15px 0 35px"
      }
     },
     "b170194695b04277b01ace0c5c7b9875": {
      "model_module": "@jupyter-widgets/controls",
      "model_module_version": "1.4.0",
      "model_name": "VBoxModel",
      "state": {
       "children": [
        "IPY_MODEL_a86ba42b5c9547549bb8ec80320e27e0",
        "IPY_MODEL_62e0ede29997497c870fc6a9fab28c7a",
        "IPY_MODEL_2e22605a5e754b5ea01a88cede1480b9",
        "IPY_MODEL_f28e81b636b2495299bc73c52264190b",
        "IPY_MODEL_2bd5971fe4344be1839d15d975991018",
        "IPY_MODEL_28e62f9fb25a4712a6c3ce8edc83dd97"
       ],
       "layout": "IPY_MODEL_6199d97e0eb24aa49405daa2409da3af"
      }
     },
     "b1cb3684f9ac4b1ebe31071860e1c76a": {
      "model_module": "@jupyter-widgets/controls",
      "model_module_version": "1.4.0",
      "model_name": "DescriptionStyleModel",
      "state": {
       "description_width": ""
      }
     },
     "b1fe33a0815144c8a6ddaa597007b70c": {
      "model_module": "@jupyter-widgets/base",
      "model_module_version": "1.1.0",
      "model_name": "LayoutModel",
      "state": {}
     },
     "b33c2be08854444b9df69671ea38a13b": {
      "model_module": "@jupyter-widgets/controls",
      "model_module_version": "1.4.0",
      "model_name": "DescriptionStyleModel",
      "state": {
       "description_width": ""
      }
     },
     "b37d4bd546154f00b6c4876c25937591": {
      "model_module": "@jupyter-widgets/base",
      "model_module_version": "1.1.0",
      "model_name": "LayoutModel",
      "state": {
       "padding": "10px 0px 0px 0px"
      }
     },
     "b3ad9be56d7a4590900cfdded268e07f": {
      "model_module": "@jupyter-widgets/controls",
      "model_module_version": "1.4.0",
      "model_name": "HBoxModel",
      "state": {
       "children": [
        "IPY_MODEL_1dd00f91b47045a8811effe52a2c83cb"
       ],
       "layout": "IPY_MODEL_76773ee8302a48159b82a4b4c2dd400a"
      }
     },
     "b3d9ef4bef0148b382e4ef3a4a70ac55": {
      "model_module": "@jupyter-widgets/controls",
      "model_module_version": "1.4.0",
      "model_name": "VBoxModel",
      "state": {
       "children": [
        "IPY_MODEL_6395a669a51a49ff8899ea9e364bbb74",
        "IPY_MODEL_8395c12e6e5744439eef901ed7d59a63"
       ],
       "layout": "IPY_MODEL_676f0539ac204d4e9cc27b5ea84656d9"
      }
     },
     "b42e1355b3e149b793d1e575c2033b64": {
      "model_module": "@jupyter-widgets/controls",
      "model_module_version": "1.4.0",
      "model_name": "DescriptionStyleModel",
      "state": {
       "description_width": ""
      }
     },
     "b4897ae9247e4d73bb7ac0610f119288": {
      "model_module": "@jupyter-widgets/controls",
      "model_module_version": "1.4.0",
      "model_name": "HBoxModel",
      "state": {
       "children": [
        "IPY_MODEL_7a2e250df5434e32b6bb32a61567e0f7",
        "IPY_MODEL_6caefc9fe92640c9a67a4bd853988106"
       ],
       "layout": "IPY_MODEL_efcc8da78cc64af693cda11d311b8f01"
      }
     },
     "b4901392f072474c9e80e4bcdea7330e": {
      "model_module": "@jupyter-widgets/controls",
      "model_module_version": "1.4.0",
      "model_name": "HBoxModel",
      "state": {
       "children": [
        "IPY_MODEL_0e066f5f1fce464a94991504ef78b8ad",
        "IPY_MODEL_cd134a6583554cd9bc169e14cb6cae36"
       ],
       "layout": "IPY_MODEL_fd911bb0554b488ca5984b506e25f04a"
      }
     },
     "b5a4cffb840446bdab8a2da94c48a736": {
      "model_module": "@jupyter-widgets/base",
      "model_module_version": "1.1.0",
      "model_name": "LayoutModel",
      "state": {
       "align_items": "center"
      }
     },
     "b5d400c6a65b45baa01e32a02d94a4f8": {
      "model_module": "@jupyter-widgets/controls",
      "model_module_version": "1.4.0",
      "model_name": "DescriptionStyleModel",
      "state": {
       "description_width": ""
      }
     },
     "b5de489a519343ec8ae008b59dae71b6": {
      "model_module": "@jupyter-widgets/base",
      "model_module_version": "1.1.0",
      "model_name": "LayoutModel",
      "state": {}
     },
     "b605de7fffcf4968a762f89db755aef6": {
      "model_module": "@jupyter-widgets/controls",
      "model_module_version": "1.4.0",
      "model_name": "DescriptionStyleModel",
      "state": {
       "description_width": ""
      }
     },
     "b60c041a2d4342e981b1c5b7c1824167": {
      "model_module": "@jupyter-widgets/controls",
      "model_module_version": "1.4.0",
      "model_name": "ButtonStyleModel",
      "state": {}
     },
     "b69d8e15db6a4bef886acbd05a241c3d": {
      "model_module": "@jupyter-widgets/controls",
      "model_module_version": "1.4.0",
      "model_name": "DescriptionStyleModel",
      "state": {
       "description_width": ""
      }
     },
     "b6fb5623a71d4151ad6431f12528e3a2": {
      "model_module": "@jupyter-widgets/base",
      "model_module_version": "1.1.0",
      "model_name": "LayoutModel",
      "state": {}
     },
     "b743a056e4104c409211fce2858d50f1": {
      "model_module": "@jupyter-widgets/base",
      "model_module_version": "1.1.0",
      "model_name": "LayoutModel",
      "state": {}
     },
     "b7f98b31523d4689bc1928f08c1e0b8f": {
      "model_module": "@jupyter-widgets/controls",
      "model_module_version": "1.4.0",
      "model_name": "DescriptionStyleModel",
      "state": {
       "description_width": ""
      }
     },
     "b81905dfaae349a4bec4d0aef7ec1186": {
      "model_module": "@jupyter-widgets/base",
      "model_module_version": "1.1.0",
      "model_name": "LayoutModel",
      "state": {}
     },
     "b84469eaa2c64d02b60ce7708995123b": {
      "model_module": "@jupyter-widgets/base",
      "model_module_version": "1.1.0",
      "model_name": "LayoutModel",
      "state": {}
     },
     "b90e0e3d03d54f70ab81da5f7280e7a6": {
      "model_module": "@jupyter-widgets/controls",
      "model_module_version": "1.4.0",
      "model_name": "HTMLModel",
      "state": {
       "layout": "IPY_MODEL_660e76c1222f4640a62cbc240179f06e",
       "style": "IPY_MODEL_72f95e4582774210ab07216bc37f409e",
       "value": "<h4 style='color:DarkKhaki'>Node :</h4>"
      }
     },
     "b9d5b67566cc4a87a95ddd86277b59eb": {
      "model_module": "@jupyter-widgets/controls",
      "model_module_version": "1.4.0",
      "model_name": "DescriptionStyleModel",
      "state": {
       "description_width": ""
      }
     },
     "b9edfa1959bb462aa578a90827b88634": {
      "model_module": "@jupyter-widgets/controls",
      "model_module_version": "1.4.0",
      "model_name": "ButtonStyleModel",
      "state": {}
     },
     "b9f1e8d4684d4e70b4657d56b8caff40": {
      "model_module": "@jupyter-widgets/controls",
      "model_module_version": "1.4.0",
      "model_name": "ToggleButtonsModel",
      "state": {
       "_options_labels": [
        "Python",
        "HTML"
       ],
       "button_style": "success",
       "icons": [],
       "index": 1,
       "layout": "IPY_MODEL_52e88881416648be8f0fabcc11a3c362",
       "style": "IPY_MODEL_aeb4f8b59ee14ffca858f66ca2254e3c",
       "tooltips": []
      }
     },
     "ba24b3fcea724b1da47978796e953d39": {
      "model_module": "@jupyter-widgets/controls",
      "model_module_version": "1.4.0",
      "model_name": "HBoxModel",
      "state": {
       "children": [
        "IPY_MODEL_05aec32c81704d07ae24234d72d9ecd2",
        "IPY_MODEL_4342be458ea944088d99f655a0151d64",
        "IPY_MODEL_1e3898599a604bcbbe8e744cb90d2b87"
       ],
       "layout": "IPY_MODEL_3adb47bc3cb5437b9788cb0f2bee1894"
      }
     },
     "ba82711c279f46deabd3cee52b26063b": {
      "model_module": "@jupyter-widgets/controls",
      "model_module_version": "1.4.0",
      "model_name": "VBoxModel",
      "state": {
       "children": [
        "IPY_MODEL_ce1b32560acb499d99e3f33702b31ec8",
        "IPY_MODEL_ca5831637c6447b699c36986b8c5990d",
        "IPY_MODEL_77493056781741eca12f1a357ef31b29",
        "IPY_MODEL_a7392ed5051f4c7fb6fc18625b963d2c"
       ],
       "layout": "IPY_MODEL_ab0fb83f231c4da3a915e52c6ff9064c"
      }
     },
     "ba9d8de056e7484bb043a87ba6daec31": {
      "model_module": "@jupyter-widgets/base",
      "model_module_version": "1.1.0",
      "model_name": "LayoutModel",
      "state": {}
     },
     "baca24aa157d4edbbb24289735eae18f": {
      "model_module": "@jupyter-widgets/base",
      "model_module_version": "1.1.0",
      "model_name": "LayoutModel",
      "state": {}
     },
     "bb30d0c945e4475893416cb6118f2b01": {
      "model_module": "@jupyter-widgets/base",
      "model_module_version": "1.1.0",
      "model_name": "LayoutModel",
      "state": {
       "justify_content": "center",
       "padding": "0px 0px 10px 0px"
      }
     },
     "bbab0627aebb41b69a1f5ab5b9aba23f": {
      "model_module": "@jupyter-widgets/controls",
      "model_module_version": "1.4.0",
      "model_name": "VBoxModel",
      "state": {
       "children": [
        "IPY_MODEL_ee3adddab8e94e93b63043e3e510f0dc",
        "IPY_MODEL_d5acd9239bab438a9963c25cdfd51d62",
        "IPY_MODEL_640c60ac9a7943bb9a61a82c8ce66466"
       ],
       "layout": "IPY_MODEL_f4d1a10ca3fe4843ae073ce5dd0f55a7"
      }
     },
     "bbcb91998e0242d8a0e6f5d27a5e673e": {
      "model_module": "@jupyter-widgets/controls",
      "model_module_version": "1.4.0",
      "model_name": "ButtonStyleModel",
      "state": {}
     },
     "bc05f4aff5544733b4f454c7dade735e": {
      "model_module": "@jupyter-widgets/base",
      "model_module_version": "1.1.0",
      "model_name": "LayoutModel",
      "state": {}
     },
     "bc25cf4608744e4091e468d55f0550a5": {
      "model_module": "@jupyter-widgets/controls",
      "model_module_version": "1.4.0",
      "model_name": "DescriptionStyleModel",
      "state": {
       "description_width": ""
      }
     },
     "bc9a5167dffa4dacb49ffe617e37f841": {
      "model_module": "@jupyter-widgets/base",
      "model_module_version": "1.1.0",
      "model_name": "LayoutModel",
      "state": {}
     },
     "bd04a4a1375949298f87ec92e9583812": {
      "model_module": "@jupyter-widgets/controls",
      "model_module_version": "1.4.0",
      "model_name": "ToggleButtonsStyleModel",
      "state": {
       "button_width": "",
       "description_width": ""
      }
     },
     "bd0d3595377c48c8825fca3312e94224": {
      "model_module": "@jupyter-widgets/controls",
      "model_module_version": "1.4.0",
      "model_name": "DescriptionStyleModel",
      "state": {
       "description_width": ""
      }
     },
     "bdd015eb072b44e49e24006649b5d739": {
      "model_module": "@jupyter-widgets/base",
      "model_module_version": "1.1.0",
      "model_name": "LayoutModel",
      "state": {
       "justify_content": "center",
       "padding": "10px 0px 0px 0px"
      }
     },
     "bdfd446daa64494789026df65f40311e": {
      "model_module": "@jupyter-widgets/base",
      "model_module_version": "1.1.0",
      "model_name": "LayoutModel",
      "state": {}
     },
     "be55bd17cc2d441f926f5028ebe04a8c": {
      "model_module": "@jupyter-widgets/controls",
      "model_module_version": "1.4.0",
      "model_name": "HTMLModel",
      "state": {
       "layout": "IPY_MODEL_03c8d08d4f3443fbb5597b2eca74ca7f",
       "style": "IPY_MODEL_34eb312611024827bbb6a543929a88c6",
       "value": "<hr style='padding: 2px; margin: 2px'>"
      }
     },
     "bed571d1b85c444bb4e6e65c9de8d85d": {
      "model_module": "@jupyter-widgets/controls",
      "model_module_version": "1.4.0",
      "model_name": "DescriptionStyleModel",
      "state": {
       "description_width": ""
      }
     },
     "beee22842070443991785cdecde542e9": {
      "model_module": "@jupyter-widgets/base",
      "model_module_version": "1.1.0",
      "model_name": "LayoutModel",
      "state": {
       "padding": "0 15px 0 35px"
      }
     },
     "bf3e18e6bcac4193bbff68fc12fc2bd3": {
      "model_module": "@jupyter-widgets/base",
      "model_module_version": "1.1.0",
      "model_name": "LayoutModel",
      "state": {
       "padding": "10px 0px 0px 0px"
      }
     },
     "bf77b3fe593a46d5a4cd2406dd6dfa02": {
      "model_module": "@jupyter-widgets/controls",
      "model_module_version": "1.4.0",
      "model_name": "TextModel",
      "state": {
       "layout": "IPY_MODEL_937f0a808fe34b58a8ea283335b7adb0",
       "style": "IPY_MODEL_a3d00cde2c2e49e58a1bbfe283348f9b"
      }
     },
     "bffb23ead3964445a816ebd8d42b6f9a": {
      "model_module": "@jupyter-widgets/controls",
      "model_module_version": "1.4.0",
      "model_name": "DescriptionStyleModel",
      "state": {
       "description_width": ""
      }
     },
     "c02290ce206d4b0f8a75b96e015f599b": {
      "model_module": "@jupyter-widgets/base",
      "model_module_version": "1.1.0",
      "model_name": "LayoutModel",
      "state": {
       "visibility": "hidden"
      }
     },
     "c08fcfd2e3ac45c6a2f786d740f43cdb": {
      "model_module": "@jupyter-widgets/controls",
      "model_module_version": "1.4.0",
      "model_name": "HBoxModel",
      "state": {
       "children": [
        "IPY_MODEL_42599e92aa2b462b8a3bf1e3e828d80c",
        "IPY_MODEL_1891cf28341a47489cb34d5b0f523227"
       ],
       "layout": "IPY_MODEL_b5a4cffb840446bdab8a2da94c48a736"
      }
     },
     "c09c8f5707124570a27b3e2a90b6ca48": {
      "model_module": "@jupyter-widgets/controls",
      "model_module_version": "1.4.0",
      "model_name": "ButtonStyleModel",
      "state": {}
     },
     "c0a9454accb34394b81c685408b465f6": {
      "model_module": "@jupyter-widgets/controls",
      "model_module_version": "1.4.0",
      "model_name": "DescriptionStyleModel",
      "state": {
       "description_width": ""
      }
     },
     "c1d97365ff144367b5926e5a98ed4e24": {
      "model_module": "@jupyter-widgets/controls",
      "model_module_version": "1.4.0",
      "model_name": "HTMLModel",
      "state": {
       "layout": "IPY_MODEL_b81905dfaae349a4bec4d0aef7ec1186",
       "style": "IPY_MODEL_0dc29736e5404d5d9f695cec2b8a269b",
       "value": "<hr style='padding: 2px; margin: 2px'>"
      }
     },
     "c222716075b64d9bb86781d426d5401a": {
      "model_module": "@jupyter-widgets/controls",
      "model_module_version": "1.4.0",
      "model_name": "DescriptionStyleModel",
      "state": {
       "description_width": ""
      }
     },
     "c3720cb6fafa4f67ad23e082e13e4827": {
      "model_module": "@jupyter-widgets/base",
      "model_module_version": "1.1.0",
      "model_name": "LayoutModel",
      "state": {}
     },
     "c374022ac2984a7abed3f674392021b3": {
      "model_module": "@jupyter-widgets/base",
      "model_module_version": "1.1.0",
      "model_name": "LayoutModel",
      "state": {
       "display": "none"
      }
     },
     "c4bdeaf256f5454d96b8c116e3183ecc": {
      "model_module": "@jupyter-widgets/controls",
      "model_module_version": "1.4.0",
      "model_name": "DescriptionStyleModel",
      "state": {
       "description_width": ""
      }
     },
     "c532de52d16e41549be8516caed80afd": {
      "model_module": "@jupyter-widgets/base",
      "model_module_version": "1.1.0",
      "model_name": "LayoutModel",
      "state": {}
     },
     "c548742e9b704585abd428919b34a630": {
      "model_module": "@jupyter-widgets/controls",
      "model_module_version": "1.4.0",
      "model_name": "DescriptionStyleModel",
      "state": {
       "description_width": ""
      }
     },
     "c552f0a19b254a1887baa81837793934": {
      "model_module": "@jupyter-widgets/controls",
      "model_module_version": "1.4.0",
      "model_name": "DescriptionStyleModel",
      "state": {
       "description_width": ""
      }
     },
     "c580e82963234b5e8d1e9557f5f088aa": {
      "model_module": "@jupyter-widgets/controls",
      "model_module_version": "1.4.0",
      "model_name": "DescriptionStyleModel",
      "state": {
       "description_width": ""
      }
     },
     "c5cbf0fb9e8447ba8941f7c56325eeba": {
      "model_module": "@jupyter-widgets/controls",
      "model_module_version": "1.4.0",
      "model_name": "DescriptionStyleModel",
      "state": {
       "description_width": ""
      }
     },
     "c6172d53e1d3435f849398aed99bcb7c": {
      "model_module": "@jupyter-widgets/base",
      "model_module_version": "1.1.0",
      "model_name": "LayoutModel",
      "state": {
       "padding": "0 15px 0 35px"
      }
     },
     "c69308d112fb47bf821837e203115fd2": {
      "model_module": "@jupyter-widgets/controls",
      "model_module_version": "1.4.0",
      "model_name": "DescriptionStyleModel",
      "state": {
       "description_width": ""
      }
     },
     "c6c2418938ff49308419ddf2b6012bba": {
      "model_module": "@jupyter-widgets/controls",
      "model_module_version": "1.4.0",
      "model_name": "VBoxModel",
      "state": {
       "children": [
        "IPY_MODEL_eeec0da8e1fd48d3a3ce07330cbfe582",
        "IPY_MODEL_be55bd17cc2d441f926f5028ebe04a8c",
        "IPY_MODEL_b08f4aed0bff4afe856ad548075d59b9",
        "IPY_MODEL_d06f26f541ce41ec8492e703d15d60a6",
        "IPY_MODEL_f8560e80ccdd4106b9bd8ae5263b086a",
        "IPY_MODEL_5140bb0335f74fa8a7cee8fa597060b8"
       ],
       "layout": "IPY_MODEL_dca27356b76241c19f3ba85d81856c78"
      }
     },
     "c7483a2c0fab479f97f40138d79a3247": {
      "model_module": "@jupyter-widgets/base",
      "model_module_version": "1.1.0",
      "model_name": "LayoutModel",
      "state": {}
     },
     "c75fd5148f5a4154be037e01c93c4d48": {
      "model_module": "@jupyter-widgets/base",
      "model_module_version": "1.1.0",
      "model_name": "LayoutModel",
      "state": {
       "width": "auto"
      }
     },
     "c857f87d49f34a9ca27b959066bb6e3a": {
      "model_module": "@jupyter-widgets/controls",
      "model_module_version": "1.4.0",
      "model_name": "DescriptionStyleModel",
      "state": {
       "description_width": ""
      }
     },
     "c88e7b7138964ed1a20fb94255c0a01c": {
      "model_module": "@jupyter-widgets/controls",
      "model_module_version": "1.4.0",
      "model_name": "ButtonModel",
      "state": {
       "button_style": "info",
       "icon": "refresh",
       "layout": "IPY_MODEL_299b0da4ca804d71b4444ef486abdf9a",
       "style": "IPY_MODEL_2717929d98ea4c86b27ebb012f68bcca"
      }
     },
     "c8b746df5b0242fd86487a3b3168f0b3": {
      "model_module": "@jupyter-widgets/controls",
      "model_module_version": "1.4.0",
      "model_name": "HBoxModel",
      "state": {
       "children": [
        "IPY_MODEL_fc7be78a4c984493adc2b3b3263e0aed",
        "IPY_MODEL_65a2311509b24fcebe690320709bbe3e"
       ],
       "layout": "IPY_MODEL_af900fac9b384c5c845deb9834252d96"
      }
     },
     "c9559fe05a3c45d8936cbb55190b722d": {
      "model_module": "@jupyter-widgets/base",
      "model_module_version": "1.1.0",
      "model_name": "LayoutModel",
      "state": {}
     },
     "c972359979bf4a1a900d299203800a86": {
      "model_module": "@jupyter-widgets/controls",
      "model_module_version": "1.4.0",
      "model_name": "SelectModel",
      "state": {
       "_options_labels": [
        "Node",
        "Edge"
       ],
       "index": 0,
       "layout": "IPY_MODEL_48edd7e36b904c43977966e576fb13f0",
       "style": "IPY_MODEL_eab68e9177ae4602a220544a12c9505d"
      }
     },
     "c97e0b0e4bb744d496cdcbe8d9c3efaa": {
      "model_module": "@jupyter-widgets/controls",
      "model_module_version": "1.4.0",
      "model_name": "ButtonStyleModel",
      "state": {}
     },
     "c993c3b1ce9f4bc08f1db70ff0ebcd33": {
      "model_module": "@jupyter-widgets/base",
      "model_module_version": "1.1.0",
      "model_name": "LayoutModel",
      "state": {
       "justify_content": "center",
       "padding": "10px 0px 0px 0px"
      }
     },
     "ca0531c296004d3fba0ff4aac3f420bd": {
      "model_module": "@jupyter-widgets/base",
      "model_module_version": "1.1.0",
      "model_name": "LayoutModel",
      "state": {}
     },
     "ca102f32bcdf4520b1b1e760fb659db8": {
      "model_module": "@jupyter-widgets/controls",
      "model_module_version": "1.4.0",
      "model_name": "ToggleButtonsModel",
      "state": {
       "_options_labels": [
        "Python",
        "HTML"
       ],
       "button_style": "danger",
       "icons": [],
       "index": 0,
       "layout": "IPY_MODEL_ef9370b9a63f486f88deabc5ac70b3a9",
       "style": "IPY_MODEL_bd04a4a1375949298f87ec92e9583812",
       "tooltips": []
      }
     },
     "ca5831637c6447b699c36986b8c5990d": {
      "model_module": "@jupyter-widgets/controls",
      "model_module_version": "1.4.0",
      "model_name": "HBoxModel",
      "state": {
       "children": [
        "IPY_MODEL_91376dbf9e31417eaec8ca2b6b2ba0e1",
        "IPY_MODEL_6cd45c7d8aa5497da672ff910db56fb6"
       ],
       "layout": "IPY_MODEL_26744fb268554b449ad73f7d3f0600c3"
      }
     },
     "cab392f3acee46ae93cd251d6976c50b": {
      "model_module": "@jupyter-widgets/controls",
      "model_module_version": "1.4.0",
      "model_name": "DescriptionStyleModel",
      "state": {
       "description_width": ""
      }
     },
     "cae19a3b28d849d6bf177cea019573a0": {
      "model_module": "@jupyter-widgets/controls",
      "model_module_version": "1.4.0",
      "model_name": "DescriptionStyleModel",
      "state": {
       "description_width": ""
      }
     },
     "cb65c1707aec4d44b82e7ddf98d79a18": {
      "model_module": "@jupyter-widgets/controls",
      "model_module_version": "1.4.0",
      "model_name": "DescriptionStyleModel",
      "state": {
       "description_width": ""
      }
     },
     "cc17e4ce3b394d7ead0ed4e3be394019": {
      "model_module": "@jupyter-widgets/controls",
      "model_module_version": "1.4.0",
      "model_name": "HBoxModel",
      "state": {
       "children": [
        "IPY_MODEL_34115bc3b63f4bed968b8f80b08f757b",
        "IPY_MODEL_0c816aa3c262402385f951f889dc36a1"
       ],
       "layout": "IPY_MODEL_576583077e2f4c3ea2d43e6f3081e330"
      }
     },
     "cc19992e799d42ef854a953d84faeb63": {
      "model_module": "@jupyter-widgets/base",
      "model_module_version": "1.1.0",
      "model_name": "LayoutModel",
      "state": {
       "align_items": "center"
      }
     },
     "cd134a6583554cd9bc169e14cb6cae36": {
      "model_module": "@jupyter-widgets/controls",
      "model_module_version": "1.4.0",
      "model_name": "IntSliderModel",
      "state": {
       "layout": "IPY_MODEL_080f554436dd46f191722d580cd1acfb",
       "max": 5,
       "min": 1,
       "style": "IPY_MODEL_477aa80517454221a73a7f943b187fd6",
       "value": 1
      }
     },
     "cd2d040a4de54935bb686911024f6c2e": {
      "model_module": "@jupyter-widgets/controls",
      "model_module_version": "1.4.0",
      "model_name": "SliderStyleModel",
      "state": {
       "description_width": ""
      }
     },
     "ce061e57dc324e018bb8b891886d5bdb": {
      "model_module": "@jupyter-widgets/base",
      "model_module_version": "1.1.0",
      "model_name": "LayoutModel",
      "state": {}
     },
     "ce1b32560acb499d99e3f33702b31ec8": {
      "model_module": "@jupyter-widgets/controls",
      "model_module_version": "1.4.0",
      "model_name": "HTMLModel",
      "state": {
       "layout": "IPY_MODEL_ed61f5df191a4bcc8e28b3d6548eb35d",
       "style": "IPY_MODEL_f041d739b91d4521b6ceb525433a8a1e",
       "value": "<h5>Fill out the info below to upload data to <a href='http://www.ndexbio.org/'>NDEx</a></h5>"
      }
     },
     "ce50436dac13434aa0647bd0fe644d9c": {
      "model_module": "@jupyter-widgets/base",
      "model_module_version": "1.1.0",
      "model_name": "LayoutModel",
      "state": {}
     },
     "ce673defe5a6467094e059fddce3d207": {
      "model_module": "@jupyter-widgets/controls",
      "model_module_version": "1.4.0",
      "model_name": "DescriptionStyleModel",
      "state": {
       "description_width": ""
      }
     },
     "ce95b7faa7764fae80a5a38deba64241": {
      "model_module": "@jupyter-widgets/base",
      "model_module_version": "1.1.0",
      "model_name": "LayoutModel",
      "state": {
       "padding": "10px 0px 0px 0px"
      }
     },
     "cf2de666333a4de283f3bb61f79bde6a": {
      "model_module": "@jupyter-widgets/controls",
      "model_module_version": "1.4.0",
      "model_name": "DescriptionStyleModel",
      "state": {
       "description_width": ""
      }
     },
     "cf485375bdf4442e8bf64abc5ff1469f": {
      "model_module": "@jupyter-widgets/controls",
      "model_module_version": "1.4.0",
      "model_name": "ButtonModel",
      "state": {
       "button_style": "danger",
       "description": "Delete",
       "layout": "IPY_MODEL_a5b893c831314c91a1f2f31020eef5ed",
       "style": "IPY_MODEL_6edb99ebd0fe49b0b18c65fd830f4740"
      }
     },
     "cfc872cdf75d4232a1512fc3526c7739": {
      "model_module": "@jupyter-widgets/controls",
      "model_module_version": "1.4.0",
      "model_name": "HBoxModel",
      "state": {
       "children": [
        "IPY_MODEL_97eae941ae474d3db54db1506e1e7b14",
        "IPY_MODEL_505659ac808b408093c706bc80334123"
       ],
       "layout": "IPY_MODEL_bf3e18e6bcac4193bbff68fc12fc2bd3"
      }
     },
     "d06f26f541ce41ec8492e703d15d60a6": {
      "model_module": "@jupyter-widgets/controls",
      "model_module_version": "1.4.0",
      "model_name": "VBoxModel",
      "state": {
       "layout": "IPY_MODEL_2217c0f1f7b74e4f950d75373ad35e42"
      }
     },
     "d09b19c371fa4d439307e1e65c69e38d": {
      "model_module": "@jupyter-widgets/controls",
      "model_module_version": "1.4.0",
      "model_name": "DescriptionStyleModel",
      "state": {
       "description_width": ""
      }
     },
     "d09b4d7433914e43aa68a162242b0324": {
      "model_module": "@jupyter-widgets/controls",
      "model_module_version": "1.4.0",
      "model_name": "DescriptionStyleModel",
      "state": {
       "description_width": ""
      }
     },
     "d0cadc15863d4b9492828fc1eaeeaa8e": {
      "model_module": "@jupyter-widgets/base",
      "model_module_version": "1.1.0",
      "model_name": "LayoutModel",
      "state": {}
     },
     "d0d19f2352ea4a918bd3d1051239b303": {
      "model_module": "@jupyter-widgets/controls",
      "model_module_version": "1.4.0",
      "model_name": "PasswordModel",
      "state": {
       "description": "Password :",
       "layout": "IPY_MODEL_08c2385168354c9cba7301be5763c110",
       "style": "IPY_MODEL_0382e5c2d78e487d9e3d407712b5677f"
      }
     },
     "d10283349a0b43d1abb1454e21cfbe41": {
      "model_module": "@jupyter-widgets/base",
      "model_module_version": "1.1.0",
      "model_name": "LayoutModel",
      "state": {}
     },
     "d11eec8432df42a09484315bc1e04d92": {
      "model_module": "@jupyter-widgets/controls",
      "model_module_version": "1.4.0",
      "model_name": "DescriptionStyleModel",
      "state": {
       "description_width": ""
      }
     },
     "d12775bde18246ef87af2c16c7b7a729": {
      "model_module": "@jupyter-widgets/base",
      "model_module_version": "1.1.0",
      "model_name": "LayoutModel",
      "state": {}
     },
     "d199cdc4c9cd40279426f85e22534892": {
      "model_module": "@jupyter-widgets/base",
      "model_module_version": "1.1.0",
      "model_name": "LayoutModel",
      "state": {}
     },
     "d1bb02d22cd54fcaac241637cb0fc322": {
      "model_module": "@jupyter-widgets/controls",
      "model_module_version": "1.4.0",
      "model_name": "VBoxModel",
      "state": {
       "children": [
        "IPY_MODEL_02d56bc916404c1e8576bda1613f85a3",
        "IPY_MODEL_aa2d147dd3184f1d8eaeab64501a2c55",
        "IPY_MODEL_fdb82ad3c36f4913bb79e8c258c92e03",
        "IPY_MODEL_17c37f38866440b4ad22987985f52da1"
       ],
       "layout": "IPY_MODEL_3ef044f0555c41aa81e60bc6f74fdf5d"
      }
     },
     "d25ce1a4f6ed486f92154cbe9988a4eb": {
      "model_module": "@jupyter-widgets/base",
      "model_module_version": "1.1.0",
      "model_name": "LayoutModel",
      "state": {
       "padding": "10px 0px 0px 0px"
      }
     },
     "d28c267eff8646838ddea0603efe0085": {
      "model_module": "@jupyter-widgets/controls",
      "model_module_version": "1.4.0",
      "model_name": "DescriptionStyleModel",
      "state": {
       "description_width": ""
      }
     },
     "d29d9b9d05344356ab1fac2e6d2acfb7": {
      "model_module": "@jupyter-widgets/base",
      "model_module_version": "1.1.0",
      "model_name": "LayoutModel",
      "state": {}
     },
     "d2ac2b215f70459ba7909cf91ebd46f6": {
      "model_module": "@jupyter-widgets/controls",
      "model_module_version": "1.4.0",
      "model_name": "LabelModel",
      "state": {
       "layout": "IPY_MODEL_4977b19efb7e42b38b70c29b4855e78c",
       "style": "IPY_MODEL_ad9baddbc3d1447cbfaea88a375ad0a9",
       "value": "Shape :"
      }
     },
     "d3881deb592f4c98a8aafc430c47f6c2": {
      "model_module": "@jupyter-widgets/controls",
      "model_module_version": "1.4.0",
      "model_name": "ButtonStyleModel",
      "state": {}
     },
     "d44cb5b1171e458495a8f02e3f4361ba": {
      "model_module": "@jupyter-widgets/base",
      "model_module_version": "1.1.0",
      "model_name": "LayoutModel",
      "state": {}
     },
     "d474cf175b744e4297ae75f1cd41abe7": {
      "model_module": "@jupyter-widgets/controls",
      "model_module_version": "1.4.0",
      "model_name": "ButtonModel",
      "state": {
       "button_style": "success",
       "icon": "image",
       "layout": "IPY_MODEL_34e5f439f06b433e8855d9e1ad4b0737",
       "style": "IPY_MODEL_10dcb9f67d2641949475ecf0796060d1"
      }
     },
     "d4f8ff5211a345a3bed65445db7bdca9": {
      "model_module": "@jupyter-widgets/controls",
      "model_module_version": "1.4.0",
      "model_name": "DescriptionStyleModel",
      "state": {
       "description_width": ""
      }
     },
     "d4fe7901516c459eb9175e3440c266f9": {
      "model_module": "@jupyter-widgets/controls",
      "model_module_version": "1.4.0",
      "model_name": "TextModel",
      "state": {
       "description": "URL :",
       "layout": "IPY_MODEL_64ad680118164fa6a7e577f7b5ae8205",
       "style": "IPY_MODEL_4fbe6e6b0c8f4cfd9e37d7678e74526c"
      }
     },
     "d551dc2569df4fd8abbe15ac34a52100": {
      "model_module": "@jupyter-widgets/base",
      "model_module_version": "1.1.0",
      "model_name": "LayoutModel",
      "state": {
       "align_items": "center"
      }
     },
     "d5acd9239bab438a9963c25cdfd51d62": {
      "model_module": "@jupyter-widgets/controls",
      "model_module_version": "1.4.0",
      "model_name": "HBoxModel",
      "state": {
       "children": [
        "IPY_MODEL_40dc687279fd4750b75572d0689cbfe5",
        "IPY_MODEL_bf77b3fe593a46d5a4cd2406dd6dfa02",
        "IPY_MODEL_0ca3f3db8860401b9a74643d8a61cfd3"
       ],
       "layout": "IPY_MODEL_69aa6b62e61244fd80337937869dcdfa"
      }
     },
     "d644d47fcd7c47b0804112a9ec259bce": {
      "model_module": "@jupyter-widgets/base",
      "model_module_version": "1.1.0",
      "model_name": "LayoutModel",
      "state": {}
     },
     "d7185bdd23a6488980ae02bdcaeb4dd8": {
      "model_module": "@jupyter-widgets/controls",
      "model_module_version": "1.4.0",
      "model_name": "HBoxModel",
      "state": {
       "children": [
        "IPY_MODEL_f4b3eb97fcf04a4c834acdb52cb38cc0",
        "IPY_MODEL_83649c448f4d4f21bea29860b0717237"
       ],
       "layout": "IPY_MODEL_b37d4bd546154f00b6c4876c25937591"
      }
     },
     "d7aaed7df95a4fd39d876552b6ee625c": {
      "model_module": "@jupyter-widgets/controls",
      "model_module_version": "1.4.0",
      "model_name": "DescriptionStyleModel",
      "state": {
       "description_width": ""
      }
     },
     "d846f91dbe704509a9763d5900219d1a": {
      "model_module": "@jupyter-widgets/controls",
      "model_module_version": "1.4.0",
      "model_name": "LabelModel",
      "state": {
       "layout": "IPY_MODEL_0a01d2581944437fb952e0d0c34a688c",
       "style": "IPY_MODEL_1b5ede00d1954814be3fb1d2ca3179eb",
       "value": "Line Style :"
      }
     },
     "d86527763b214f208d81413e433a7dd7": {
      "model_module": "@jupyter-widgets/controls",
      "model_module_version": "1.4.0",
      "model_name": "ButtonStyleModel",
      "state": {}
     },
     "d871fe6ee38248dc97b190720d0633fe": {
      "model_module": "@jupyter-widgets/base",
      "model_module_version": "1.1.0",
      "model_name": "LayoutModel",
      "state": {
       "visibility": "hidden"
      }
     },
     "d96aeb0a5c8c4a9e851cff116e306fa6": {
      "model_module": "@jupyter-widgets/controls",
      "model_module_version": "1.4.0",
      "model_name": "ButtonStyleModel",
      "state": {}
     },
     "d988c293d43d4995ae521fbcde69d735": {
      "model_module": "@jupyter-widgets/controls",
      "model_module_version": "1.4.0",
      "model_name": "DescriptionStyleModel",
      "state": {
       "description_width": ""
      }
     },
     "d9cccf78d6bd4ad4b6e9489717307c71": {
      "model_module": "@jupyter-widgets/controls",
      "model_module_version": "1.4.0",
      "model_name": "DescriptionStyleModel",
      "state": {
       "description_width": ""
      }
     },
     "d9ee05cbfae4416eb195d5713367c3c7": {
      "model_module": "@jupyter-widgets/base",
      "model_module_version": "1.1.0",
      "model_name": "LayoutModel",
      "state": {}
     },
     "da087fe14ee94eea9cb69eb31cc19ee7": {
      "model_module": "@jupyter-widgets/controls",
      "model_module_version": "1.4.0",
      "model_name": "DescriptionStyleModel",
      "state": {
       "description_width": ""
      }
     },
     "da4ac300423647bb978e3f237142aa00": {
      "model_module": "@jupyter-widgets/base",
      "model_module_version": "1.1.0",
      "model_name": "LayoutModel",
      "state": {}
     },
     "da7c3632e8484abdb0c7e6a0881fc427": {
      "model_module": "@jupyter-widgets/base",
      "model_module_version": "1.1.0",
      "model_name": "LayoutModel",
      "state": {}
     },
     "db10e2ac44a341d0ae16615bc3cca3f4": {
      "model_module": "@jupyter-widgets/controls",
      "model_module_version": "1.4.0",
      "model_name": "HTMLModel",
      "state": {
       "layout": "IPY_MODEL_0b1bb1a907f84e42bc4b1fdb69a9791a",
       "style": "IPY_MODEL_04989df5530146879231208e84ecd536",
       "value": "<h5>Description</h5>"
      }
     },
     "dbf1f7754c944d25a2cab53b7b4119b9": {
      "model_module": "@jupyter-widgets/controls",
      "model_module_version": "1.4.0",
      "model_name": "DescriptionStyleModel",
      "state": {
       "description_width": ""
      }
     },
     "dbf8a907f83642f89e21a9ff6002988c": {
      "model_module": "@jupyter-widgets/base",
      "model_module_version": "1.1.0",
      "model_name": "LayoutModel",
      "state": {}
     },
     "dc1806a3a56a420989350207da92d99a": {
      "model_module": "@jupyter-widgets/base",
      "model_module_version": "1.1.0",
      "model_name": "LayoutModel",
      "state": {}
     },
     "dca27356b76241c19f3ba85d81856c78": {
      "model_module": "@jupyter-widgets/base",
      "model_module_version": "1.1.0",
      "model_name": "LayoutModel",
      "state": {}
     },
     "dccfefe93254489e8cbb295d5d98111d": {
      "model_module": "@jupyter-widgets/base",
      "model_module_version": "1.1.0",
      "model_name": "LayoutModel",
      "state": {
       "visibility": "hidden"
      }
     },
     "dcebc3419a2e4d64b23352beb4ab74eb": {
      "model_module": "@jupyter-widgets/controls",
      "model_module_version": "1.4.0",
      "model_name": "LabelModel",
      "state": {
       "layout": "IPY_MODEL_baca24aa157d4edbbb24289735eae18f",
       "style": "IPY_MODEL_365f89469c4d4da0bef6f94be6a91ff3",
       "value": "Behind/In-Front :"
      }
     },
     "ddb9c2f67dd844dea765aa1a6a90c340": {
      "model_module": "@jupyter-widgets/controls",
      "model_module_version": "1.4.0",
      "model_name": "HTMLModel",
      "state": {
       "layout": "IPY_MODEL_9ff23ce514e44899ba523b6ad96f6313",
       "style": "IPY_MODEL_5a94f0f0072e44cab824551e1a4f7984",
       "value": "<h5>Variable   &nbsp</h5> "
      }
     },
     "dde4c04b955d403ca4dbc3fd3a53c809": {
      "model_module": "@jupyter-widgets/controls",
      "model_module_version": "1.4.0",
      "model_name": "LabelModel",
      "state": {
       "layout": "IPY_MODEL_53613068312043b5b783b489efccb308",
       "style": "IPY_MODEL_009bc34bc9d0489699d20e0bdb6ba379",
       "value": "See-Through :"
      }
     },
     "de00e7ae77b24844869f75b8126cb275": {
      "model_module": "@jupyter-widgets/base",
      "model_module_version": "1.1.0",
      "model_name": "LayoutModel",
      "state": {}
     },
     "def4276d4a65452c95ddd35b39560202": {
      "model_module": "@jupyter-widgets/controls",
      "model_module_version": "1.4.0",
      "model_name": "HTMLModel",
      "state": {
       "layout": "IPY_MODEL_da7c3632e8484abdb0c7e6a0881fc427",
       "style": "IPY_MODEL_6d78104ea700491e984d8cdbd134d8b6",
       "value": "<b><p>Variable &nbsp </p> </b>"
      }
     },
     "def4a5e085bd47ecb7d24aa7b2fe747d": {
      "model_module": "@jupyter-widgets/base",
      "model_module_version": "1.1.0",
      "model_name": "LayoutModel",
      "state": {}
     },
     "e0dee39e323844ee83d2ad8ba689923c": {
      "model_module": "@jupyter-widgets/controls",
      "model_module_version": "1.4.0",
      "model_name": "ButtonStyleModel",
      "state": {}
     },
     "e1518a7a8d014dfebc651f7a811852bc": {
      "model_module": "@jupyter-widgets/controls",
      "model_module_version": "1.4.0",
      "model_name": "ToggleButtonModel",
      "state": {
       "button_style": "info",
       "description": "Border",
       "layout": "IPY_MODEL_9ea4dff79e434b75abd9748fa57594c2",
       "style": "IPY_MODEL_3e525043661448e59aba4e1c8f47ab16"
      }
     },
     "e17ed2c0f39648a2af6047d7a6f0032d": {
      "model_module": "@jupyter-widgets/controls",
      "model_module_version": "1.4.0",
      "model_name": "HBoxModel",
      "state": {
       "children": [
        "IPY_MODEL_78cf253e8ce0477e9d80886ce23bd9a8",
        "IPY_MODEL_e90cdce74c904b80b6f8adc709a7a485"
       ],
       "layout": "IPY_MODEL_da4ac300423647bb978e3f237142aa00"
      }
     },
     "e1bc2027748b4123bae6dae0e610ad26": {
      "model_module": "@jupyter-widgets/base",
      "model_module_version": "1.1.0",
      "model_name": "LayoutModel",
      "state": {
       "visibility": "hidden"
      }
     },
     "e20e407426c14c91bd80c70c9c7c9560": {
      "model_module": "@jupyter-widgets/base",
      "model_module_version": "1.1.0",
      "model_name": "LayoutModel",
      "state": {}
     },
     "e278421b8de34b25849a71574783d948": {
      "model_module": "@jupyter-widgets/base",
      "model_module_version": "1.1.0",
      "model_name": "LayoutModel",
      "state": {}
     },
     "e28117f459d140aeb238604d97a5e87a": {
      "model_module": "@jupyter-widgets/controls",
      "model_module_version": "1.4.0",
      "model_name": "VBoxModel",
      "state": {
       "children": [
        "IPY_MODEL_ca102f32bcdf4520b1b1e760fb659db8",
        "IPY_MODEL_fdfc717ef11c496096537a32b92ac5c1",
        "IPY_MODEL_8b4f0c5cde2c4966a0a6718e60bf116d"
       ],
       "layout": "IPY_MODEL_932f490d1902419f87fa51aef2fab567"
      }
     },
     "e32a2f08d0eb4696a96daa6281d7ecba": {
      "model_module": "@jupyter-widgets/controls",
      "model_module_version": "1.4.0",
      "model_name": "HTMLModel",
      "state": {
       "layout": "IPY_MODEL_c374022ac2984a7abed3f674392021b3",
       "style": "IPY_MODEL_3f480269c4f94d38973f114c37be9c95",
       "value": "<h2 class='text-danger text-center'>Coming Soon! Wait for Update</h2>"
      }
     },
     "e33e19cbc08741deaa7f35ddcf20edc0": {
      "model_module": "@jupyter-widgets/controls",
      "model_module_version": "1.4.0",
      "model_name": "HTMLModel",
      "state": {
       "layout": "IPY_MODEL_2662b490f96a4343b4d8913067b68335",
       "style": "IPY_MODEL_0d3934e21ed1473db345bf712c065fc6",
       "value": "<h5>You can save your graph as a <font color='darkKhaki'>index.html</font> file.\n<font color='darkKhaki'>index.html</font> files have lots of cool features, as explained in the intro video.\n<span style='color:red;'>Do not use \" or ' they cause errors.</span></h5>"
      }
     },
     "e3661a440e0d48a781956c680eb0e1ff": {
      "model_module": "@jupyter-widgets/base",
      "model_module_version": "1.1.0",
      "model_name": "LayoutModel",
      "state": {}
     },
     "e3932f3fa0b647538dae6b830e82e678": {
      "model_module": "@jupyter-widgets/controls",
      "model_module_version": "1.4.0",
      "model_name": "DescriptionStyleModel",
      "state": {
       "description_width": ""
      }
     },
     "e3fd786c02694bd3942119163f031564": {
      "model_module": "@jupyter-widgets/controls",
      "model_module_version": "1.4.0",
      "model_name": "LabelModel",
      "state": {
       "layout": "IPY_MODEL_ba9d8de056e7484bb043a87ba6daec31",
       "style": "IPY_MODEL_f20bf5fb61ba49ccb0f91e3b775a7b21",
       "value": "Color :"
      }
     },
     "e4b8af8e2f58416498a35885811c8222": {
      "model_module": "@jupyter-widgets/base",
      "model_module_version": "1.1.0",
      "model_name": "LayoutModel",
      "state": {}
     },
     "e54311d81c8a453e8255e1716d4ec67e": {
      "model_module": "@jupyter-widgets/base",
      "model_module_version": "1.1.0",
      "model_name": "LayoutModel",
      "state": {}
     },
     "e5dd553618b945298415b21f4d411db1": {
      "model_module": "@jupyter-widgets/controls",
      "model_module_version": "1.4.0",
      "model_name": "DescriptionStyleModel",
      "state": {
       "description_width": ""
      }
     },
     "e60cc8c2e1734e5a9d7298b637fae0d0": {
      "model_module": "@jupyter-widgets/base",
      "model_module_version": "1.1.0",
      "model_name": "LayoutModel",
      "state": {}
     },
     "e6f4d5beff21463ebaa98b3afb49c5b8": {
      "model_module": "@jupyter-widgets/base",
      "model_module_version": "1.1.0",
      "model_name": "LayoutModel",
      "state": {
       "display": "none"
      }
     },
     "e729b643020847a0bc74f9beed556eda": {
      "model_module": "@jupyter-widgets/controls",
      "model_module_version": "1.4.0",
      "model_name": "VBoxModel",
      "state": {
       "children": [
        "IPY_MODEL_1784f7e9a3dc4490ac09362ed1a65bad",
        "IPY_MODEL_316cafba560a4e41bbb6939b7a7a332d"
       ],
       "layout": "IPY_MODEL_ffded2d4f5a04661857f56de29140a10"
      }
     },
     "e73d6df7b38d4842931a21c496df6481": {
      "model_module": "@jupyter-widgets/controls",
      "model_module_version": "1.4.0",
      "model_name": "HBoxModel",
      "state": {
       "children": [
        "IPY_MODEL_18f540aff3ed4600820db855f6cd13b7",
        "IPY_MODEL_6a888f5685da485ab728f1785e267cf5"
       ],
       "layout": "IPY_MODEL_7533e21f151c42a4ad26783a6a93d4d0"
      }
     },
     "e7613bfff2964e68a9e91a0d5bf526a8": {
      "model_module": "@jupyter-widgets/controls",
      "model_module_version": "1.4.0",
      "model_name": "ToggleButtonModel",
      "state": {
       "icon": "eye",
       "layout": "IPY_MODEL_269c66f041404eb8b5da99ae5e665275",
       "style": "IPY_MODEL_0d0438c4038e42c39495f3d2cf5008a2"
      }
     },
     "e7ff891d950546a690a44e0066b2147c": {
      "model_module": "@jupyter-widgets/controls",
      "model_module_version": "1.4.0",
      "model_name": "SliderStyleModel",
      "state": {
       "description_width": ""
      }
     },
     "e819caf51a064926bed452b7a142ebe8": {
      "model_module": "@jupyter-widgets/base",
      "model_module_version": "1.1.0",
      "model_name": "LayoutModel",
      "state": {}
     },
     "e878a3b5094948b4a4f04a9269b97ca7": {
      "model_module": "@jupyter-widgets/controls",
      "model_module_version": "1.4.0",
      "model_name": "TextModel",
      "state": {
       "description": "Username :",
       "layout": "IPY_MODEL_e4b8af8e2f58416498a35885811c8222",
       "style": "IPY_MODEL_51538267b52049a2aa76c0b7b5f97d7f"
      }
     },
     "e90cdce74c904b80b6f8adc709a7a485": {
      "model_module": "@jupyter-widgets/controls",
      "model_module_version": "1.4.0",
      "model_name": "TextModel",
      "state": {
       "layout": "IPY_MODEL_875a597ab6064a33baaccf680a3e8b39",
       "style": "IPY_MODEL_ea522f23a29b4cf6bf89c3be215d3bc6"
      }
     },
     "e920fe689b9a4a2e9e0e76f41d240676": {
      "model_module": "@jupyter-widgets/base",
      "model_module_version": "1.1.0",
      "model_name": "LayoutModel",
      "state": {}
     },
     "e99b64bf90d9453db06ac5753aff1b10": {
      "model_module": "@jupyter-widgets/controls",
      "model_module_version": "1.4.0",
      "model_name": "HBoxModel",
      "state": {
       "children": [
        "IPY_MODEL_05f93aba908c4dfa8acb76bcd994efdc",
        "IPY_MODEL_1cc462e016e8432288c92518c13c2c40",
        "IPY_MODEL_632d7fc454d946b1a63a5d50f778718b",
        "IPY_MODEL_60279c442b794015be99fd74ec59425a"
       ],
       "layout": "IPY_MODEL_8d8be250674041c29b3bafebb8be3369"
      }
     },
     "ea522f23a29b4cf6bf89c3be215d3bc6": {
      "model_module": "@jupyter-widgets/controls",
      "model_module_version": "1.4.0",
      "model_name": "DescriptionStyleModel",
      "state": {
       "description_width": ""
      }
     },
     "eab68e9177ae4602a220544a12c9505d": {
      "model_module": "@jupyter-widgets/controls",
      "model_module_version": "1.4.0",
      "model_name": "DescriptionStyleModel",
      "state": {
       "description_width": ""
      }
     },
     "eb1b48d400a54881ab9516862f96cc28": {
      "model_module": "@jupyter-widgets/controls",
      "model_module_version": "1.4.0",
      "model_name": "HTMLModel",
      "state": {
       "layout": "IPY_MODEL_beee22842070443991785cdecde542e9",
       "style": "IPY_MODEL_d09b19c371fa4d439307e1e65c69e38d",
       "value": "<h5>You can save your graph as a <font color='darkKhaki'>index.html</font> file.\n<font color='darkKhaki'>index.html</font> files have lots of cool features, as explained in the intro video.\n<span style='color:red;'>Do not use \" or ' they cause errors.</span></h5>"
      }
     },
     "eb73b6e4d584416d8da3d7721d28455e": {
      "model_module": "@jupyter-widgets/controls",
      "model_module_version": "1.4.0",
      "model_name": "HTMLModel",
      "state": {
       "layout": "IPY_MODEL_e1bc2027748b4123bae6dae0e610ad26",
       "style": "IPY_MODEL_b69d8e15db6a4bef886acbd05a241c3d",
       "value": "<h3 class='text-center' style='color:red'>Error in Dataframe</h3>"
      }
     },
     "eb806057db5144c790795eff7c87ffe3": {
      "model_module": "@jupyter-widgets/controls",
      "model_module_version": "1.4.0",
      "model_name": "HBoxModel",
      "state": {
       "children": [
        "IPY_MODEL_b0da4733147b4bfea1e1f22b7e6915bb",
        "IPY_MODEL_53a2b0d4dab642558a3897d6f813952b",
        "IPY_MODEL_6bd3b1ea2539490f91ace557e45d216b",
        "IPY_MODEL_9d1f84a8c64b4bac9ab3766b8f05ee53"
       ],
       "layout": "IPY_MODEL_7558c630fa5c4485a166fe94d701b8c9"
      }
     },
     "ebaeecd1359c4944a07e1ca8e7c5f614": {
      "model_module": "@jupyter-widgets/controls",
      "model_module_version": "1.4.0",
      "model_name": "DescriptionStyleModel",
      "state": {
       "description_width": ""
      }
     },
     "ebe2b9be30764fb293c92b5e54839592": {
      "model_module": "@jupyter-widgets/controls",
      "model_module_version": "1.4.0",
      "model_name": "HBoxModel",
      "state": {
       "children": [
        "IPY_MODEL_ddb9c2f67dd844dea765aa1a6a90c340",
        "IPY_MODEL_29bca2b8eb324beca68916b300e7a4e8",
        "IPY_MODEL_024f204bc3f9404d838ebcb54382e94f"
       ],
       "layout": "IPY_MODEL_d551dc2569df4fd8abbe15ac34a52100"
      }
     },
     "ec99326d3f914f07a373a6a8d5bbc694": {
      "model_module": "@jupyter-widgets/base",
      "model_module_version": "1.1.0",
      "model_name": "LayoutModel",
      "state": {}
     },
     "ec99bd523eaa438280fdef99f08bce10": {
      "model_module": "@jupyter-widgets/base",
      "model_module_version": "1.1.0",
      "model_name": "LayoutModel",
      "state": {
       "display": "none"
      }
     },
     "ed1bcb7b35594b53acc979b4a18e4d8f": {
      "model_module": "@jupyter-widgets/controls",
      "model_module_version": "1.4.0",
      "model_name": "DescriptionStyleModel",
      "state": {
       "description_width": ""
      }
     },
     "ed353a8928624911bd27d9ee913e52d0": {
      "model_module": "@jupyter-widgets/controls",
      "model_module_version": "1.4.0",
      "model_name": "DescriptionStyleModel",
      "state": {
       "description_width": ""
      }
     },
     "ed532c60328c461fb74e6eabd8c85f3d": {
      "model_module": "@jupyter-widgets/controls",
      "model_module_version": "1.4.0",
      "model_name": "HBoxModel",
      "state": {
       "children": [
        "IPY_MODEL_17a28ef023d2497f8dde6e24ce465c2e",
        "IPY_MODEL_1c9b49b5ef7446db8f8c6f1fded164be",
        "IPY_MODEL_e1518a7a8d014dfebc651f7a811852bc"
       ],
       "layout": "IPY_MODEL_378da36e2f4349ef9c067a6cd50ee8f5"
      }
     },
     "ed61f5df191a4bcc8e28b3d6548eb35d": {
      "model_module": "@jupyter-widgets/base",
      "model_module_version": "1.1.0",
      "model_name": "LayoutModel",
      "state": {}
     },
     "ed6e26e964b246f59c0a3ae82183e29f": {
      "model_module": "@jupyter-widgets/base",
      "model_module_version": "1.1.0",
      "model_name": "LayoutModel",
      "state": {
       "min_width": "30px"
      }
     },
     "ee25322ecf70435a873b42b99b261349": {
      "model_module": "@jupyter-widgets/base",
      "model_module_version": "1.1.0",
      "model_name": "LayoutModel",
      "state": {}
     },
     "ee3621a58c734af9a63390cabfe349cc": {
      "model_module": "@jupyter-widgets/controls",
      "model_module_version": "1.4.0",
      "model_name": "DescriptionStyleModel",
      "state": {
       "description_width": ""
      }
     },
     "ee3adddab8e94e93b63043e3e510f0dc": {
      "model_module": "@jupyter-widgets/controls",
      "model_module_version": "1.4.0",
      "model_name": "HTMLModel",
      "state": {
       "layout": "IPY_MODEL_8fad508d08784d8d83b229c2d60d57f1",
       "style": "IPY_MODEL_a31705bd402d4eb2ba635f8fd356adc4",
       "value": "<h5>Here you can load a <a href='https://www.datacamp.com/community/tutorials/pandas-tutorial-dataframe-python'>Pandas DataFrame</a>\n by typing the name of a <font color=\"blue\">Python Variable</font> .</h5>"
      }
     },
     "ee6c615944fe4f2c8047b37fb0698a09": {
      "model_module": "@jupyter-widgets/controls",
      "model_module_version": "1.4.0",
      "model_name": "DescriptionStyleModel",
      "state": {
       "description_width": ""
      }
     },
     "ee9b4a013a9c45878b61b77e2baaf06e": {
      "model_module": "@jupyter-widgets/controls",
      "model_module_version": "1.4.0",
      "model_name": "DescriptionStyleModel",
      "state": {
       "description_width": ""
      }
     },
     "eedeb390b03241db93cba65f526e6d70": {
      "model_module": "@jupyter-widgets/controls",
      "model_module_version": "1.4.0",
      "model_name": "ButtonModel",
      "state": {
       "button_style": "danger",
       "icon": "image",
       "layout": "IPY_MODEL_3d6384a637b24e26a508cb212f6136a7",
       "style": "IPY_MODEL_1a9daffac30c421990fada9d458093cb"
      }
     },
     "eeec0da8e1fd48d3a3ce07330cbfe582": {
      "model_module": "@jupyter-widgets/controls",
      "model_module_version": "1.4.0",
      "model_name": "HBoxModel",
      "state": {
       "children": [
        "IPY_MODEL_3b35b80a8a6d4e4bb735e0a4baa4cd25",
        "IPY_MODEL_5f964796087745399857bba9afa4c584",
        "IPY_MODEL_12947dd661314463a72da581beed6d3a",
        "IPY_MODEL_a998925f1d3f458c88f4f5692b758530"
       ],
       "layout": "IPY_MODEL_33c63c4fde784db9b388b3cd8760e6e6"
      }
     },
     "ef2a08e820c2495091b0071bd2965062": {
      "model_module": "@jupyter-widgets/controls",
      "model_module_version": "1.4.0",
      "model_name": "ButtonModel",
      "state": {
       "button_style": "primary",
       "description": "Create",
       "layout": "IPY_MODEL_47488b50bfcd46f290f8be76fe131260",
       "style": "IPY_MODEL_0b06846ea0084104ae9bea42b6ab3dff"
      }
     },
     "ef7c5028689c4ba89bd742f990616c29": {
      "model_module": "@jupyter-widgets/controls",
      "model_module_version": "1.4.0",
      "model_name": "DescriptionStyleModel",
      "state": {
       "description_width": ""
      }
     },
     "ef9370b9a63f486f88deabc5ac70b3a9": {
      "model_module": "@jupyter-widgets/base",
      "model_module_version": "1.1.0",
      "model_name": "LayoutModel",
      "state": {
       "justify_content": "center",
       "margin": "0 0 15px 0"
      }
     },
     "efcc8da78cc64af693cda11d311b8f01": {
      "model_module": "@jupyter-widgets/base",
      "model_module_version": "1.1.0",
      "model_name": "LayoutModel",
      "state": {}
     },
     "efdeb78f563143a0bc962b1db8c83195": {
      "model_module": "@jupyter-widgets/controls",
      "model_module_version": "1.4.0",
      "model_name": "ToggleButtonModel",
      "state": {
       "button_style": "primary",
       "description": "Box",
       "layout": "IPY_MODEL_c75fd5148f5a4154be037e01c93c4d48",
       "style": "IPY_MODEL_0c1df777360f48caac2f12e16812a895"
      }
     },
     "efe5b267affb4737a3612f50569a8efd": {
      "model_module": "@jupyter-widgets/base",
      "model_module_version": "1.1.0",
      "model_name": "LayoutModel",
      "state": {}
     },
     "efeaedb8a5384fb09d636ed569896a76": {
      "model_module": "@jupyter-widgets/controls",
      "model_module_version": "1.4.0",
      "model_name": "DescriptionStyleModel",
      "state": {
       "description_width": ""
      }
     },
     "f02d404f7cf44bc7a16383c32def2609": {
      "model_module": "@jupyter-widgets/base",
      "model_module_version": "1.1.0",
      "model_name": "LayoutModel",
      "state": {
       "padding": "0 15px 0 35px"
      }
     },
     "f041d739b91d4521b6ceb525433a8a1e": {
      "model_module": "@jupyter-widgets/controls",
      "model_module_version": "1.4.0",
      "model_name": "DescriptionStyleModel",
      "state": {
       "description_width": ""
      }
     },
     "f0479841ac614f418a90da09c6a30826": {
      "model_module": "@jupyter-widgets/controls",
      "model_module_version": "1.4.0",
      "model_name": "HTMLModel",
      "state": {
       "layout": "IPY_MODEL_59a9ab852ec244d0be27a9af6ba06d0e",
       "style": "IPY_MODEL_56ff9af4af994922b775f1d6c4b12794",
       "value": "<h4 style='color: DarkKhaki'>Nodes</h4>"
      }
     },
     "f06fbce7ed204930bd2b71bd887bb9db": {
      "model_module": "@jupyter-widgets/base",
      "model_module_version": "1.1.0",
      "model_name": "LayoutModel",
      "state": {}
     },
     "f080ee82a6de4c77a31d0d6e934122fe": {
      "model_module": "@jupyter-widgets/base",
      "model_module_version": "1.1.0",
      "model_name": "LayoutModel",
      "state": {
       "padding": "0px 0px 10px 0px"
      }
     },
     "f1107ec05859436b9f6e7c5993adc4af": {
      "model_module": "@jupyter-widgets/base",
      "model_module_version": "1.1.0",
      "model_name": "LayoutModel",
      "state": {
       "padding": "10px 0px 0px 0px"
      }
     },
     "f11777034610439eba4ce828427bb173": {
      "model_module": "@jupyter-widgets/base",
      "model_module_version": "1.1.0",
      "model_name": "LayoutModel",
      "state": {}
     },
     "f185ffee9e264e698d1bb6f29effa261": {
      "model_module": "@jupyter-widgets/controls",
      "model_module_version": "1.4.0",
      "model_name": "DescriptionStyleModel",
      "state": {
       "description_width": ""
      }
     },
     "f1e6e5fedd3247728db2fd6baecdd105": {
      "model_module": "@jupyter-widgets/base",
      "model_module_version": "1.1.0",
      "model_name": "LayoutModel",
      "state": {
       "width": "auto"
      }
     },
     "f20bf5fb61ba49ccb0f91e3b775a7b21": {
      "model_module": "@jupyter-widgets/controls",
      "model_module_version": "1.4.0",
      "model_name": "DescriptionStyleModel",
      "state": {
       "description_width": ""
      }
     },
     "f28e81b636b2495299bc73c52264190b": {
      "model_module": "@jupyter-widgets/controls",
      "model_module_version": "1.4.0",
      "model_name": "HBoxModel",
      "state": {
       "children": [
        "IPY_MODEL_1ff2ed8190d1464aa3ccc61ef8b2d7f2",
        "IPY_MODEL_7aaaaa905edd43aabf0e2bd737c6084c"
       ],
       "layout": "IPY_MODEL_d25ce1a4f6ed486f92154cbe9988a4eb"
      }
     },
     "f28ef02f11c04c188cf25a3ff98da303": {
      "model_module": "@jupyter-widgets/base",
      "model_module_version": "1.1.0",
      "model_name": "LayoutModel",
      "state": {}
     },
     "f29ae5a092b543d183870666ea5bc6b4": {
      "model_module": "@jupyter-widgets/controls",
      "model_module_version": "1.4.0",
      "model_name": "ButtonModel",
      "state": {
       "button_style": "danger",
       "description": "Delete",
       "layout": "IPY_MODEL_c9559fe05a3c45d8936cbb55190b722d",
       "style": "IPY_MODEL_d96aeb0a5c8c4a9e851cff116e306fa6"
      }
     },
     "f2bb50a77798449186ad2f63b6b33e15": {
      "model_module": "@jupyter-widgets/controls",
      "model_module_version": "1.4.0",
      "model_name": "HTMLModel",
      "state": {
       "layout": "IPY_MODEL_c02290ce206d4b0f8a75b96e015f599b",
       "style": "IPY_MODEL_b605de7fffcf4968a762f89db755aef6",
       "value": " <h3 class='text-center text-success' style='margin:0'> Saved!</h3>"
      }
     },
     "f3cd680432254caea7ff87579600c239": {
      "model_module": "@jupyter-widgets/controls",
      "model_module_version": "1.4.0",
      "model_name": "DescriptionStyleModel",
      "state": {
       "description_width": ""
      }
     },
     "f44b904036e34f0e8f173aab79edf73d": {
      "model_module": "@jupyter-widgets/controls",
      "model_module_version": "1.4.0",
      "model_name": "DescriptionStyleModel",
      "state": {
       "description_width": ""
      }
     },
     "f455b7f0e79f4280b244f9d262ca96f5": {
      "model_module": "@jupyter-widgets/controls",
      "model_module_version": "1.4.0",
      "model_name": "TextareaModel",
      "state": {
       "layout": "IPY_MODEL_313b7e51af104473b8a4f60ba4a1e05b",
       "style": "IPY_MODEL_ab9a4bc317b14c7483aec0fe5a607650"
      }
     },
     "f4b3eb97fcf04a4c834acdb52cb38cc0": {
      "model_module": "@jupyter-widgets/controls",
      "model_module_version": "1.4.0",
      "model_name": "LabelModel",
      "state": {
       "layout": "IPY_MODEL_27107ae3605a4b178e9057253967ea61",
       "style": "IPY_MODEL_cb65c1707aec4d44b82e7ddf98d79a18",
       "value": "Position :"
      }
     },
     "f4d1a10ca3fe4843ae073ce5dd0f55a7": {
      "model_module": "@jupyter-widgets/base",
      "model_module_version": "1.1.0",
      "model_name": "LayoutModel",
      "state": {}
     },
     "f6761af5c82d4327ba579cb1f5963e44": {
      "model_module": "@jupyter-widgets/controls",
      "model_module_version": "1.4.0",
      "model_name": "DescriptionStyleModel",
      "state": {
       "description_width": ""
      }
     },
     "f6972e87f5fd474988d4bd8895dfd6ca": {
      "model_module": "@jupyter-widgets/base",
      "model_module_version": "1.1.0",
      "model_name": "LayoutModel",
      "state": {}
     },
     "f7bec23c069c49b4845bb22280fba593": {
      "model_module": "@jupyter-widgets/controls",
      "model_module_version": "1.4.0",
      "model_name": "AccordionModel",
      "state": {
       "_titles": {
        "0": "Load",
        "1": "Save"
       },
       "children": [
        "IPY_MODEL_8dc27b9fab124b2c98b36f58a2040035",
        "IPY_MODEL_e28117f459d140aeb238604d97a5e87a"
       ],
       "layout": "IPY_MODEL_6b61eb100d1349cc8a35b52af5400a38"
      }
     },
     "f84a4d6d683e4491a5d04096de73917e": {
      "model_module": "@jupyter-widgets/controls",
      "model_module_version": "1.4.0",
      "model_name": "ButtonStyleModel",
      "state": {}
     },
     "f8560e80ccdd4106b9bd8ae5263b086a": {
      "model_module": "@jupyter-widgets/controls",
      "model_module_version": "1.4.0",
      "model_name": "HTMLModel",
      "state": {
       "layout": "IPY_MODEL_a595218df5bb47a89ad6bb8930a5efb6",
       "style": "IPY_MODEL_f185ffee9e264e698d1bb6f29effa261",
       "value": "<h4 style='color: purple' >Edges</h4>"
      }
     },
     "f8a9d9f463d24109809ceeda5541efcf": {
      "model_module": "@jupyter-widgets/base",
      "model_module_version": "1.1.0",
      "model_name": "LayoutModel",
      "state": {}
     },
     "f928d5f01603498e8ab61e4bc3dfd027": {
      "model_module": "@jupyter-widgets/base",
      "model_module_version": "1.1.0",
      "model_name": "LayoutModel",
      "state": {
       "padding": "10px 0px 0px 0px"
      }
     },
     "f9aa89bfc7da48fbac68b7ebf99585eb": {
      "model_module": "@jupyter-widgets/base",
      "model_module_version": "1.1.0",
      "model_name": "LayoutModel",
      "state": {}
     },
     "fa5858afa4de4afd937efbfc3ef0f0e9": {
      "model_module": "@jupyter-widgets/base",
      "model_module_version": "1.1.0",
      "model_name": "LayoutModel",
      "state": {
       "display": "none"
      }
     },
     "faa02ad83c764fb09928948b2875deb9": {
      "model_module": "@jupyter-widgets/controls",
      "model_module_version": "1.4.0",
      "model_name": "ButtonModel",
      "state": {
       "button_style": "primary",
       "description": "Undo",
       "disabled": true,
       "layout": "IPY_MODEL_9e1102a287da4c049e898d37035c0be7",
       "style": "IPY_MODEL_4d4e0db645024f96a786e5b2119e2372"
      }
     },
     "fb1a815165674b9caa6b5ec72b02ca7a": {
      "model_module": "@jupyter-widgets/controls",
      "model_module_version": "1.4.0",
      "model_name": "ButtonStyleModel",
      "state": {}
     },
     "fb2b8542e55d416788ff721d98e589b3": {
      "model_module": "@jupyter-widgets/base",
      "model_module_version": "1.1.0",
      "model_name": "LayoutModel",
      "state": {
       "margin": "0 15px 0 0px",
       "width": "auto"
      }
     },
     "fc2dda469af1485c9104f0c265099502": {
      "model_module": "@jupyter-widgets/base",
      "model_module_version": "1.1.0",
      "model_name": "LayoutModel",
      "state": {}
     },
     "fc7be78a4c984493adc2b3b3263e0aed": {
      "model_module": "@jupyter-widgets/controls",
      "model_module_version": "1.4.0",
      "model_name": "LabelModel",
      "state": {
       "layout": "IPY_MODEL_68c08330e7ef46c29359843dd15e2227",
       "style": "IPY_MODEL_929368e9405443fc8ffcaa918d2d038f",
       "value": "Line Style :"
      }
     },
     "fcdc276984a8492487c9949582fd524b": {
      "model_module": "@jupyter-widgets/base",
      "model_module_version": "1.1.0",
      "model_name": "LayoutModel",
      "state": {
       "padding": "10px 0px 0px 0px"
      }
     },
     "fd911bb0554b488ca5984b506e25f04a": {
      "model_module": "@jupyter-widgets/base",
      "model_module_version": "1.1.0",
      "model_name": "LayoutModel",
      "state": {
       "padding": "10px 0px 0px 0px"
      }
     },
     "fdb82ad3c36f4913bb79e8c258c92e03": {
      "model_module": "@jupyter-widgets/controls",
      "model_module_version": "1.4.0",
      "model_name": "HBoxModel",
      "state": {
       "children": [
        "IPY_MODEL_297b561b79a5481f86b3d2145d0d31a7"
       ],
       "layout": "IPY_MODEL_87e91fc2d4ca4f979fc6d308a9f9528d"
      }
     },
     "fdd32ffcef054b00a339351267101472": {
      "model_module": "@jupyter-widgets/controls",
      "model_module_version": "1.4.0",
      "model_name": "DescriptionStyleModel",
      "state": {
       "description_width": ""
      }
     },
     "fdfc717ef11c496096537a32b92ac5c1": {
      "model_module": "@jupyter-widgets/controls",
      "model_module_version": "1.4.0",
      "model_name": "VBoxModel",
      "state": {
       "children": [
        "IPY_MODEL_e33e19cbc08741deaa7f35ddcf20edc0",
        "IPY_MODEL_6b56929e38bf482989ad225c612c5faa",
        "IPY_MODEL_745ed79b81374d3f89d61d17117b2c11",
        "IPY_MODEL_f455b7f0e79f4280b244f9d262ca96f5",
        "IPY_MODEL_3c95220afd254eb5b3482a38524c68ff",
        "IPY_MODEL_8dfb2c516ade413caf0e07012041f35f"
       ],
       "layout": "IPY_MODEL_4212afb0225e42ba88fa1f6af68e8ee4"
      }
     },
     "fed483c8b0a447f794e88943d5564edf": {
      "model_module": "@jupyter-widgets/controls",
      "model_module_version": "1.4.0",
      "model_name": "VBoxModel",
      "state": {
       "children": [
        "IPY_MODEL_355886a9ca8d4577ae1d3d89c6676c9f",
        "IPY_MODEL_367cbd20b9614a20889ae6ce37f0989a"
       ],
       "layout": "IPY_MODEL_5f1ba99523b9412a9b044bbc1b52c5b0"
      }
     },
     "fed7b1fffb274492b087b31c7769442e": {
      "model_module": "@jupyter-widgets/base",
      "model_module_version": "1.1.0",
      "model_name": "LayoutModel",
      "state": {
       "width": "auto"
      }
     },
     "ff1df091e12f4be5bcd8b7f8a00a89c9": {
      "model_module": "@jupyter-widgets/controls",
      "model_module_version": "1.4.0",
      "model_name": "HTMLModel",
      "state": {
       "layout": "IPY_MODEL_547fa39214e4412fb2e61cfa233d5849",
       "style": "IPY_MODEL_ac7c43b9d37e4182a320f717178a0eb5",
       "value": "<h5>Here you can load in a cytoscape <font color='darkKhaki'>.html</font> file. \nPut the file you want to load into the same place as this notebook, then load it in! </h5>"
      }
     },
     "ffd9095e1f6340dc8d856792c3ae684d": {
      "model_module": "@jupyter-widgets/base",
      "model_module_version": "1.1.0",
      "model_name": "LayoutModel",
      "state": {
       "padding": "10px 0px 0px 0px"
      }
     },
     "ffded2d4f5a04661857f56de29140a10": {
      "model_module": "@jupyter-widgets/base",
      "model_module_version": "1.1.0",
      "model_name": "LayoutModel",
      "state": {}
     },
     "fffaadb6bc9a4132a40357839ce290f0": {
      "model_module": "@jupyter-widgets/base",
      "model_module_version": "1.1.0",
      "model_name": "LayoutModel",
      "state": {}
     }
    },
    "version_major": 2,
    "version_minor": 0
   }
  }
 },
 "nbformat": 4,
 "nbformat_minor": 2
}
