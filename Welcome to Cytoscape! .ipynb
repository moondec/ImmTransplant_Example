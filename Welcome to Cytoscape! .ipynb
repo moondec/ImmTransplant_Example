{
 "cells": [
  {
   "cell_type": "code",
   "execution_count": null,
   "metadata": {},
   "outputs": [],
   "source": [
    "%run ~/Apps/Cytoscape/embed.ipynb  #<-- Loads Cytoscape"
   ]
  },
  {
   "cell_type": "code",
   "execution_count": null,
   "metadata": {
    "cell_style": "center"
   },
   "outputs": [],
   "source": [
    "HTML(\"\"\"\n",
    "<div class=\"row\"><div class=\"col-xs-12 col-md-offset-3 col-md-6\">\n",
    "<div class=\"embed-responsive embed-responsive-16by9\">\n",
    "  <iframe class=\"embed-responsive-item\"\n",
    "  src='https://www.youtube.com/embed/lA1-lHms0I0'></iframe></div>\n",
    "</div></div>\n",
    "\"\"\")"
   ]
  },
  {
   "cell_type": "markdown",
   "metadata": {},
   "source": [
    "<img class=\"img-responsive\" width=\"30%\" src=\"https://storage.googleapis.com/bakar-data/cytoscape/cytoscape_logo.png\">\n"
   ]
  },
  {
   "cell_type": "code",
   "execution_count": null,
   "metadata": {
    "cell_style": "split"
   },
   "outputs": [],
   "source": [
    "display( Graph.html.cy )"
   ]
  },
  {
   "cell_type": "code",
   "execution_count": null,
   "metadata": {
    "cell_style": "split",
    "scrolled": false
   },
   "outputs": [],
   "source": [
    "display( Graph.box.editor )"
   ]
  },
  {
   "cell_type": "code",
   "execution_count": null,
   "metadata": {
    "cell_style": "split",
    "scrolled": true
   },
   "outputs": [],
   "source": [
    "display( Graph.html.table )"
   ]
  },
  {
   "cell_type": "code",
   "execution_count": null,
   "metadata": {
    "cell_style": "split",
    "scrolled": false
   },
   "outputs": [],
   "source": [
    "display( Graph.box.loadSave )"
   ]
  },
  {
   "cell_type": "code",
   "execution_count": null,
   "metadata": {},
   "outputs": [],
   "source": [
    "Graph.js.load()"
   ]
  },
  {
   "cell_type": "code",
   "execution_count": null,
   "metadata": {},
   "outputs": [],
   "source": []
  },
  {
   "cell_type": "code",
   "execution_count": null,
   "metadata": {},
   "outputs": [],
   "source": []
  }
 ],
 "metadata": {
  "hide_input": false,
  "kernelspec": {
   "display_name": "Python 3",
   "language": "python",
   "name": "python3"
  },
  "language_info": {
   "codemirror_mode": {
    "name": "ipython",
    "version": 3
   },
   "file_extension": ".py",
   "mimetype": "text/x-python",
   "name": "python",
   "nbconvert_exporter": "python",
   "pygments_lexer": "ipython3",
   "version": "3.7.3"
  },
  "toc": {
   "base_numbering": 1,
   "nav_menu": {},
   "number_sections": true,
   "sideBar": true,
   "skip_h1_title": false,
   "title_cell": "Table of Contents",
   "title_sidebar": "Contents",
   "toc_cell": false,
   "toc_position": {},
   "toc_section_display": true,
   "toc_window_display": false
  },
  "varInspector": {
   "cols": {
    "lenName": 16,
    "lenType": 16,
    "lenVar": 40
   },
   "kernels_config": {
    "python": {
     "delete_cmd_postfix": "",
     "delete_cmd_prefix": "del ",
     "library": "var_list.py",
     "varRefreshCmd": "print(var_dic_list())"
    },
    "r": {
     "delete_cmd_postfix": ") ",
     "delete_cmd_prefix": "rm(",
     "library": "var_list.r",
     "varRefreshCmd": "cat(var_dic_list()) "
    }
   },
   "types_to_exclude": [
    "module",
    "function",
    "builtin_function_or_method",
    "instance",
    "_Feature"
   ],
   "window_display": false
  },
  "widgets": {
   "application/vnd.jupyter.widget-state+json": {
    "state": {
     "0009d09149964c2bb1da1fb3b3ce95fb": {
      "model_module": "@jupyter-widgets/base",
      "model_module_version": "1.1.0",
      "model_name": "LayoutModel",
      "state": {}
     },
     "0066ec48f0ca4878a683b0c8e76cd010": {
      "model_module": "@jupyter-widgets/controls",
      "model_module_version": "1.4.0",
      "model_name": "DescriptionStyleModel",
      "state": {
       "description_width": ""
      }
     },
     "007c5086069147369ab92e2d1d17692a": {
      "model_module": "@jupyter-widgets/base",
      "model_module_version": "1.1.0",
      "model_name": "LayoutModel",
      "state": {}
     },
     "009080def48842dd933865f220e1d861": {
      "model_module": "@jupyter-widgets/base",
      "model_module_version": "1.1.0",
      "model_name": "LayoutModel",
      "state": {}
     },
     "0094adac066a4894a4aa42a0e44ac974": {
      "model_module": "@jupyter-widgets/controls",
      "model_module_version": "1.4.0",
      "model_name": "DescriptionStyleModel",
      "state": {
       "description_width": ""
      }
     },
     "01b1547a3c6246c88e50dc75b581084d": {
      "model_module": "@jupyter-widgets/controls",
      "model_module_version": "1.4.0",
      "model_name": "DescriptionStyleModel",
      "state": {
       "description_width": ""
      }
     },
     "01d1a8587eb247909c03e67fd2e50c0a": {
      "model_module": "@jupyter-widgets/controls",
      "model_module_version": "1.4.0",
      "model_name": "HTMLModel",
      "state": {
       "layout": "IPY_MODEL_1a6fb73eb6944534af93a3065a41a2a5",
       "style": "IPY_MODEL_d3daa122c91441f9a734cea90c8367f3",
       "value": "<font size=3 style='justify-content: center;'>PartnerOfMultiEdgedNodePairs : </font>"
      }
     },
     "020d425327cf49f48cf9a01b43334637": {
      "model_module": "@jupyter-widgets/base",
      "model_module_version": "1.1.0",
      "model_name": "LayoutModel",
      "state": {}
     },
     "026343c598d6414bbfa329c56d627300": {
      "model_module": "@jupyter-widgets/controls",
      "model_module_version": "1.4.0",
      "model_name": "VBoxModel",
      "state": {
       "children": [
        "IPY_MODEL_772fc0a2108f48e4b71dfbc37cf16d96",
        "IPY_MODEL_e77903822781457e9de740c3ffc44fc7",
        "IPY_MODEL_6afb665e79014a68bd41cc14d8c57348"
       ],
       "layout": "IPY_MODEL_bfe84662b0b441c6a8586acd6391a477"
      }
     },
     "0266afa9534c44ccbd4d936f15de383a": {
      "model_module": "@jupyter-widgets/base",
      "model_module_version": "1.1.0",
      "model_name": "LayoutModel",
      "state": {
       "width": "auto"
      }
     },
     "02bf211dca0f4ab1982fdaddaf470aa7": {
      "model_module": "@jupyter-widgets/controls",
      "model_module_version": "1.4.0",
      "model_name": "HBoxModel",
      "state": {
       "children": [
        "IPY_MODEL_27878a370d8c424f96a9e714ac170ca4"
       ],
       "layout": "IPY_MODEL_09cbeb34e22a4cccb392e22ab3ee2206"
      }
     },
     "02d1a25cf8894945b83718e4c00ac602": {
      "model_module": "@jupyter-widgets/controls",
      "model_module_version": "1.4.0",
      "model_name": "TextModel",
      "state": {
       "description": "URL :",
       "layout": "IPY_MODEL_1436f32d909d4c9c9fc9ddd69f66beeb",
       "style": "IPY_MODEL_bf441491ef344e62ac5835daa7338ed6"
      }
     },
     "031e42e3fef046b69f69354ef05751ef": {
      "model_module": "@jupyter-widgets/controls",
      "model_module_version": "1.4.0",
      "model_name": "ButtonModel",
      "state": {
       "button_style": "danger",
       "description": "Remove",
       "layout": "IPY_MODEL_e805880b6f1f42d18ba14647321f0c66",
       "style": "IPY_MODEL_8eb92f7a32ed49e5b11d8452e6464422"
      }
     },
     "0321d5a7614a4fd6bcf161293e20659e": {
      "model_module": "@jupyter-widgets/controls",
      "model_module_version": "1.4.0",
      "model_name": "ButtonStyleModel",
      "state": {}
     },
     "0354df9d89e44e03b4614b59f6082c8e": {
      "model_module": "@jupyter-widgets/controls",
      "model_module_version": "1.4.0",
      "model_name": "SliderStyleModel",
      "state": {
       "description_width": ""
      }
     },
     "035b78406d364102880ee66d110eabd3": {
      "model_module": "@jupyter-widgets/controls",
      "model_module_version": "1.4.0",
      "model_name": "FloatTextModel",
      "state": {
       "continuous_update": true,
       "layout": "IPY_MODEL_c430169607e440cfa9d90c4a0acd14c9",
       "step": null,
       "style": "IPY_MODEL_15a7cb6d33cf4f938dd918dda6bf28a1"
      }
     },
     "036a628fb042428ab58deca3a62999fc": {
      "model_module": "@jupyter-widgets/controls",
      "model_module_version": "1.4.0",
      "model_name": "LabelModel",
      "state": {
       "layout": "IPY_MODEL_0b0f295a52744cebbb8770f32504b12f",
       "style": "IPY_MODEL_1ea623d8c3fa46958f8d284e7f6ac0ad",
       "value": "Text :"
      }
     },
     "03b82ad826f1476e91cbf6022f294c91": {
      "model_module": "@jupyter-widgets/base",
      "model_module_version": "1.1.0",
      "model_name": "LayoutModel",
      "state": {}
     },
     "03e321b4255f4e829f4b5cee7fc50e30": {
      "model_module": "@jupyter-widgets/base",
      "model_module_version": "1.1.0",
      "model_name": "LayoutModel",
      "state": {}
     },
     "04500fcc35ee4e6e8bed18f5f7c1a48d": {
      "model_module": "@jupyter-widgets/base",
      "model_module_version": "1.1.0",
      "model_name": "LayoutModel",
      "state": {
       "padding": "0 15px 0 35px"
      }
     },
     "046177fd295f402eb0fb0a924177d480": {
      "model_module": "@jupyter-widgets/controls",
      "model_module_version": "1.4.0",
      "model_name": "DescriptionStyleModel",
      "state": {
       "description_width": ""
      }
     },
     "0471709209bd451b835ddbf9a9b01a6b": {
      "model_module": "@jupyter-widgets/base",
      "model_module_version": "1.1.0",
      "model_name": "LayoutModel",
      "state": {
       "padding": "0 15px 0 35px"
      }
     },
     "04b53b24c5104ac2bd367d77a592abda": {
      "model_module": "@jupyter-widgets/base",
      "model_module_version": "1.1.0",
      "model_name": "LayoutModel",
      "state": {}
     },
     "04d55748a3494c3993aa82259c949eaa": {
      "model_module": "@jupyter-widgets/controls",
      "model_module_version": "1.4.0",
      "model_name": "DescriptionStyleModel",
      "state": {
       "description_width": ""
      }
     },
     "04e209451168459e938a4b20eae8631a": {
      "model_module": "@jupyter-widgets/controls",
      "model_module_version": "1.4.0",
      "model_name": "DescriptionStyleModel",
      "state": {
       "description_width": ""
      }
     },
     "04e3cad53f7a45cb8b4fcba05ecb0d14": {
      "model_module": "@jupyter-widgets/controls",
      "model_module_version": "1.4.0",
      "model_name": "HTMLModel",
      "state": {
       "layout": "IPY_MODEL_4981ee80c32a41a2ba1cf0f60b6afd61",
       "style": "IPY_MODEL_c3f7021384dd443f87d47f32da30b6b1",
       "value": "<font size=3 style='justify-content: center;'>name : </font>"
      }
     },
     "04e48422a0354922af7b9d123a4660fc": {
      "model_module": "@jupyter-widgets/base",
      "model_module_version": "1.1.0",
      "model_name": "LayoutModel",
      "state": {}
     },
     "051d703915c340b3830be331a3338606": {
      "model_module": "@jupyter-widgets/controls",
      "model_module_version": "1.4.0",
      "model_name": "HBoxModel",
      "state": {
       "children": [
        "IPY_MODEL_902833844f3943dc8a5cab0565b657f5",
        "IPY_MODEL_5d6cb7e19762487f9d7ba7df1ebef3a1",
        "IPY_MODEL_69cd84180cd9463eb1542130439c0e61"
       ],
       "layout": "IPY_MODEL_94fb5ada296e4ca2bc4ec0670fdf255f"
      }
     },
     "0523dceb385d4f8eb23012259d00ef20": {
      "model_module": "@jupyter-widgets/base",
      "model_module_version": "1.1.0",
      "model_name": "LayoutModel",
      "state": {
       "width": "auto"
      }
     },
     "0534198d910a4b63a72827e891781e92": {
      "model_module": "@jupyter-widgets/controls",
      "model_module_version": "1.4.0",
      "model_name": "FloatTextModel",
      "state": {
       "continuous_update": true,
       "layout": "IPY_MODEL_6b5b884f6e6b4b87a7378985126b08aa",
       "step": null,
       "style": "IPY_MODEL_46652e78e95349fa9d372f8846b5aac4"
      }
     },
     "0556315f44f64b27aba565fe0d6b57b9": {
      "model_module": "@jupyter-widgets/controls",
      "model_module_version": "1.4.0",
      "model_name": "VBoxModel",
      "state": {
       "children": [
        "IPY_MODEL_af7fcc64cd9f4985b1dbfe894ca0312f",
        "IPY_MODEL_3903c4dc19994534bcc600a7e0620775",
        "IPY_MODEL_4d7d4ba039084384b9dadef7070cf3ad",
        "IPY_MODEL_bbd930e02c474e1eaa347df062549cb0"
       ],
       "layout": "IPY_MODEL_458e60e881474ccba51dbd3fab60829c"
      }
     },
     "055ce99086dc40d48623ed5e4ea18a5c": {
      "model_module": "@jupyter-widgets/controls",
      "model_module_version": "1.4.0",
      "model_name": "IntSliderModel",
      "state": {
       "layout": "IPY_MODEL_80d68a3e77aa47aca957d2f11cb78b7a",
       "max": 60,
       "min": 6,
       "style": "IPY_MODEL_55517e2185274dc3aac86f261710459f",
       "value": 16
      }
     },
     "056ee43106484aabade34594cfb6a4b5": {
      "model_module": "@jupyter-widgets/base",
      "model_module_version": "1.1.0",
      "model_name": "LayoutModel",
      "state": {}
     },
     "05b4327b7ebf4665bb2edad19b305232": {
      "model_module": "@jupyter-widgets/controls",
      "model_module_version": "1.4.0",
      "model_name": "ButtonModel",
      "state": {
       "button_style": "danger",
       "description": "Remove",
       "layout": "IPY_MODEL_0266afa9534c44ccbd4d936f15de383a",
       "style": "IPY_MODEL_66074736336e480ab6955f09463696bd"
      }
     },
     "05ca0da73afd4cd4a5a41671fcaea1c2": {
      "model_module": "@jupyter-widgets/controls",
      "model_module_version": "1.4.0",
      "model_name": "TextModel",
      "state": {
       "description": "Name :",
       "layout": "IPY_MODEL_8fbb8313980c41cfac0c93edeadfd402",
       "placeholder": "Network Name",
       "style": "IPY_MODEL_e66bfd4dd777405bae9417e28af3da21"
      }
     },
     "05dd0356498f472498ab2b3789ae5f24": {
      "model_module": "@jupyter-widgets/controls",
      "model_module_version": "1.4.0",
      "model_name": "LabelModel",
      "state": {
       "layout": "IPY_MODEL_449d03017c694dde995b51c04764774a",
       "style": "IPY_MODEL_60409315613c4297b920370459d7a6ca",
       "value": "Position :"
      }
     },
     "05fb2bad62224710b0959d30f5e1369e": {
      "model_module": "@jupyter-widgets/base",
      "model_module_version": "1.1.0",
      "model_name": "LayoutModel",
      "state": {
       "width": "auto"
      }
     },
     "066a76dd64b34ceaa8d58d29ebfb31cb": {
      "model_module": "@jupyter-widgets/base",
      "model_module_version": "1.1.0",
      "model_name": "LayoutModel",
      "state": {}
     },
     "0698aedb34e347b9a89ad2c140436983": {
      "model_module": "@jupyter-widgets/base",
      "model_module_version": "1.1.0",
      "model_name": "LayoutModel",
      "state": {
       "justify_content": "center",
       "padding": "0px 20px 5px 0px"
      }
     },
     "06b38609695b4962912473255f549b7d": {
      "model_module": "@jupyter-widgets/controls",
      "model_module_version": "1.4.0",
      "model_name": "ButtonStyleModel",
      "state": {}
     },
     "06c9f66dfa90475783132f1fc215efea": {
      "model_module": "@jupyter-widgets/base",
      "model_module_version": "1.1.0",
      "model_name": "LayoutModel",
      "state": {
       "width": "auto"
      }
     },
     "072c01dcfaff4f57a3cfa80d563bc8e2": {
      "model_module": "@jupyter-widgets/controls",
      "model_module_version": "1.4.0",
      "model_name": "LabelModel",
      "state": {
       "layout": "IPY_MODEL_8869f5d44b414f8da5c537928e202eb3",
       "style": "IPY_MODEL_9e13b03a5daa47c68c347aab7de1579f",
       "value": "See-Through :"
      }
     },
     "07600b6ad059408787866a5a85417ff8": {
      "model_module": "@jupyter-widgets/base",
      "model_module_version": "1.1.0",
      "model_name": "LayoutModel",
      "state": {}
     },
     "078331bc5b4746ffb68ceb5ebe25511f": {
      "model_module": "@jupyter-widgets/controls",
      "model_module_version": "1.4.0",
      "model_name": "ButtonModel",
      "state": {
       "button_style": "danger",
       "icon": "image",
       "layout": "IPY_MODEL_fe8e937776954f75a92d6e13bb59b103",
       "style": "IPY_MODEL_c70abfbc9ba2438ebcd753f39ec770ee"
      }
     },
     "0806df7f02ce4877959af94a743a1e65": {
      "model_module": "@jupyter-widgets/base",
      "model_module_version": "1.1.0",
      "model_name": "LayoutModel",
      "state": {
       "width": "auto"
      }
     },
     "081b16a817334a6d925fabd5ede3ecd3": {
      "model_module": "@jupyter-widgets/base",
      "model_module_version": "1.1.0",
      "model_name": "LayoutModel",
      "state": {}
     },
     "0866d064c97441638215ae1ace5587b7": {
      "model_module": "@jupyter-widgets/controls",
      "model_module_version": "1.4.0",
      "model_name": "DescriptionStyleModel",
      "state": {
       "description_width": ""
      }
     },
     "086c146ba63641cf80d7048179c8cbf2": {
      "model_module": "@jupyter-widgets/base",
      "model_module_version": "1.1.0",
      "model_name": "LayoutModel",
      "state": {}
     },
     "0883443f4f2e4a028f22b4249ecab63f": {
      "model_module": "@jupyter-widgets/base",
      "model_module_version": "1.1.0",
      "model_name": "LayoutModel",
      "state": {}
     },
     "088ebefa0371490786fbbc992c9eee3b": {
      "model_module": "@jupyter-widgets/controls",
      "model_module_version": "1.4.0",
      "model_name": "ButtonModel",
      "state": {
       "button_style": "danger",
       "description": "Remove",
       "layout": "IPY_MODEL_4b906c485e12426fba2c0c6b38dc916c",
       "style": "IPY_MODEL_d4ac807f9a624a1dab37e29df62b6bc6"
      }
     },
     "08ae0fa4bbd54289951edc07576cc13d": {
      "model_module": "@jupyter-widgets/base",
      "model_module_version": "1.1.0",
      "model_name": "LayoutModel",
      "state": {}
     },
     "08d81099706749df8af9a952d3e798bc": {
      "model_module": "@jupyter-widgets/controls",
      "model_module_version": "1.4.0",
      "model_name": "HBoxModel",
      "state": {
       "children": [
        "IPY_MODEL_626936afd7254f9f85951fb83077ceea",
        "IPY_MODEL_2f0b033040f54ad0a032e79cb1b67f94",
        "IPY_MODEL_214ca67defd648a397a184bbb373b6d2"
       ],
       "layout": "IPY_MODEL_99fa1bdf121b40028b691045d5cf8948"
      }
     },
     "08db529b19d846a980dba94988dd2b7a": {
      "model_module": "@jupyter-widgets/controls",
      "model_module_version": "1.4.0",
      "model_name": "HBoxModel",
      "state": {
       "children": [
        "IPY_MODEL_f628f80937914eef934ba9af5afa537d",
        "IPY_MODEL_af0e6781f4064a37a91c1c974e2aa241"
       ],
       "layout": "IPY_MODEL_373135e5ef644bd89aecc17ec2593369"
      }
     },
     "08de2d309b4e4b4c8dd7ef24bccd96a1": {
      "model_module": "@jupyter-widgets/base",
      "model_module_version": "1.1.0",
      "model_name": "LayoutModel",
      "state": {}
     },
     "090fe08b16994c73b3c10de0e47aeb61": {
      "model_module": "@jupyter-widgets/controls",
      "model_module_version": "1.4.0",
      "model_name": "DescriptionStyleModel",
      "state": {
       "description_width": ""
      }
     },
     "091529478c0443f98b429ae43fe4024e": {
      "model_module": "@jupyter-widgets/base",
      "model_module_version": "1.1.0",
      "model_name": "LayoutModel",
      "state": {
       "width": "auto"
      }
     },
     "092670a952974f14b7be7aebb7174918": {
      "model_module": "@jupyter-widgets/controls",
      "model_module_version": "1.4.0",
      "model_name": "DescriptionStyleModel",
      "state": {
       "description_width": ""
      }
     },
     "09312bdc169b408b83e194eebf9d331b": {
      "model_module": "@jupyter-widgets/controls",
      "model_module_version": "1.4.0",
      "model_name": "HTMLModel",
      "state": {
       "layout": "IPY_MODEL_27f0f5cb34c747c48e5aa0e25a5cf7d5",
       "style": "IPY_MODEL_ea935750a2eb4fceb928533eaeb1eb4c",
       "value": "<h4 style='color:DarkKhaki'>Node :</h4>"
      }
     },
     "094812bbb24640b5862f4498bab7507c": {
      "model_module": "@jupyter-widgets/base",
      "model_module_version": "1.1.0",
      "model_name": "LayoutModel",
      "state": {
       "padding": "10px 0px 0px 0px"
      }
     },
     "09497c51d57e4743b629126f8480c85a": {
      "model_module": "@jupyter-widgets/base",
      "model_module_version": "1.1.0",
      "model_name": "LayoutModel",
      "state": {}
     },
     "099ad38d35ff463e96abe047cda58085": {
      "model_module": "@jupyter-widgets/base",
      "model_module_version": "1.1.0",
      "model_name": "LayoutModel",
      "state": {}
     },
     "099e5d389da64ea784eebef1b0ac99da": {
      "model_module": "@jupyter-widgets/controls",
      "model_module_version": "1.4.0",
      "model_name": "HBoxModel",
      "state": {
       "children": [
        "IPY_MODEL_8d0f725c15a34a0a9fc8da45cc2fd1b4",
        "IPY_MODEL_e4811f7799034b7885e25a3fa87c5cba",
        "IPY_MODEL_088ebefa0371490786fbbc992c9eee3b"
       ],
       "layout": "IPY_MODEL_62f32cc655004bbb9347f682c93c9907"
      }
     },
     "09cbeb34e22a4cccb392e22ab3ee2206": {
      "model_module": "@jupyter-widgets/base",
      "model_module_version": "1.1.0",
      "model_name": "LayoutModel",
      "state": {
       "justify_content": "center"
      }
     },
     "09ed93240ca54963b8c131e0c97e4c32": {
      "model_module": "@jupyter-widgets/base",
      "model_module_version": "1.1.0",
      "model_name": "LayoutModel",
      "state": {}
     },
     "09f4f6666ba945fe8aec9b16d5109f2d": {
      "model_module": "@jupyter-widgets/controls",
      "model_module_version": "1.4.0",
      "model_name": "HTMLModel",
      "state": {
       "layout": "IPY_MODEL_a600e1d9c35a495cb2ee171e5046cf4e",
       "style": "IPY_MODEL_67ecd894e1ba470894fd381d116983da",
       "value": "<h1 class='text-center text-success' style='margin:0'>Saved!</h1>"
      }
     },
     "0a355ebbafe44055a7c70ca3d2298105": {
      "model_module": "@jupyter-widgets/controls",
      "model_module_version": "1.4.0",
      "model_name": "HBoxModel",
      "state": {
       "children": [
        "IPY_MODEL_b8af51ff8b3a43db9df08e7bdc481cce",
        "IPY_MODEL_99f60036106143d78f51917d63a1dd83"
       ],
       "layout": "IPY_MODEL_5ae03901f9f6481c8252815570b32a69"
      }
     },
     "0a44078b66bd4da681db665c051ac3dc": {
      "model_module": "@jupyter-widgets/controls",
      "model_module_version": "1.4.0",
      "model_name": "HTMLModel",
      "state": {
       "layout": "IPY_MODEL_fb41b6f76b44412e859d93b9c10c28ab",
       "style": "IPY_MODEL_319ddb8cb0b54e3cae161debe73ac6ed",
       "value": "<h5>Title  &nbsp</h5> "
      }
     },
     "0adfa667b92340e6aac67f2c1bd331e7": {
      "model_module": "@jupyter-widgets/controls",
      "model_module_version": "1.4.0",
      "model_name": "ButtonStyleModel",
      "state": {}
     },
     "0b0f295a52744cebbb8770f32504b12f": {
      "model_module": "@jupyter-widgets/base",
      "model_module_version": "1.1.0",
      "model_name": "LayoutModel",
      "state": {}
     },
     "0b6a635e7e2049dca544f4375bd7713c": {
      "model_module": "@jupyter-widgets/controls",
      "model_module_version": "1.4.0",
      "model_name": "DescriptionStyleModel",
      "state": {
       "description_width": ""
      }
     },
     "0bb3ba0311774b86a18d21631ecb6616": {
      "model_module": "@jupyter-widgets/controls",
      "model_module_version": "1.4.0",
      "model_name": "VBoxModel",
      "state": {
       "children": [
        "IPY_MODEL_665fdf559f7c4ce1b3405f7ec8b791fa",
        "IPY_MODEL_c66aba40418940be9be6fde9eeb76529"
       ],
       "layout": "IPY_MODEL_6707f8fd53644959ab29f559ed2fefd1"
      }
     },
     "0bf484a59e1540d3b04c51653912cc4a": {
      "model_module": "@jupyter-widgets/controls",
      "model_module_version": "1.4.0",
      "model_name": "DescriptionStyleModel",
      "state": {
       "description_width": ""
      }
     },
     "0c0113f5011041abaf33a85f22493f89": {
      "model_module": "@jupyter-widgets/controls",
      "model_module_version": "1.4.0",
      "model_name": "VBoxModel",
      "state": {
       "children": [
        "IPY_MODEL_bfdc89f67566442b8b400ac00ffcc1b1",
        "IPY_MODEL_b529a59b26304ce3aa9c26c67801b8a9",
        "IPY_MODEL_2d8a27cd50ae4e3a9da32eec4b3f472f",
        "IPY_MODEL_68f64a388d9b44509288aa1c7d660d1c",
        "IPY_MODEL_e36d94e35fa844c683c6f081510ad55f",
        "IPY_MODEL_4da069a0b0514d1e8758f567e25b030a"
       ],
       "layout": "IPY_MODEL_6e1caa51f0334a08ba22850df99b30ef"
      }
     },
     "0c34b0696dff483a974607e60f3c6601": {
      "model_module": "@jupyter-widgets/base",
      "model_module_version": "1.1.0",
      "model_name": "LayoutModel",
      "state": {}
     },
     "0c424c3914c344a38406589dbd5177dc": {
      "model_module": "@jupyter-widgets/controls",
      "model_module_version": "1.4.0",
      "model_name": "DescriptionStyleModel",
      "state": {
       "description_width": ""
      }
     },
     "0c4bc6372a1c466eb5cf2c53f6a97f4d": {
      "model_module": "@jupyter-widgets/base",
      "model_module_version": "1.1.0",
      "model_name": "LayoutModel",
      "state": {}
     },
     "0c8ece21ab7140bb8bca9171dfab0e13": {
      "model_module": "@jupyter-widgets/base",
      "model_module_version": "1.1.0",
      "model_name": "LayoutModel",
      "state": {}
     },
     "0cacd015056b4c55b1eb76e9731446f6": {
      "model_module": "@jupyter-widgets/controls",
      "model_module_version": "1.4.0",
      "model_name": "ButtonModel",
      "state": {
       "button_style": "danger",
       "description": "Remove",
       "layout": "IPY_MODEL_0806df7f02ce4877959af94a743a1e65",
       "style": "IPY_MODEL_155d3834e43f4723be57efba428d959e"
      }
     },
     "0cc772ab701d4be696b2bdadf98362bd": {
      "model_module": "@jupyter-widgets/controls",
      "model_module_version": "1.4.0",
      "model_name": "FloatTextModel",
      "state": {
       "continuous_update": true,
       "layout": "IPY_MODEL_6a23eac0c57d479ca41745c857360fb8",
       "step": null,
       "style": "IPY_MODEL_a3eb10122e704e2bb28b0ce969303f8c"
      }
     },
     "0cd081be9c30439c9c3a9decee5be70a": {
      "model_module": "@jupyter-widgets/controls",
      "model_module_version": "1.4.0",
      "model_name": "DescriptionStyleModel",
      "state": {
       "description_width": ""
      }
     },
     "0cf0ec05053148a7bef2707946517b10": {
      "model_module": "@jupyter-widgets/controls",
      "model_module_version": "1.4.0",
      "model_name": "ButtonModel",
      "state": {
       "button_style": "primary",
       "description": "Load",
       "layout": "IPY_MODEL_6d333f4dd4aa47df9aeb37e77832459f",
       "style": "IPY_MODEL_ba84665b9c344ec0b0b40c8fe013b30c"
      }
     },
     "0d4f3e3d01524e8b97259b95f23083b8": {
      "model_module": "@jupyter-widgets/base",
      "model_module_version": "1.1.0",
      "model_name": "LayoutModel",
      "state": {}
     },
     "0da3dc4a03e44370b4260a4f04d56a34": {
      "model_module": "@jupyter-widgets/controls",
      "model_module_version": "1.4.0",
      "model_name": "HBoxModel",
      "state": {
       "children": [
        "IPY_MODEL_2c9ea35746f241c0ab4c26a1340746e6",
        "IPY_MODEL_149e913b8c1d4f6fb30192fceb331bd7",
        "IPY_MODEL_583f8fc492a44accbfa61edd0660225b"
       ],
       "layout": "IPY_MODEL_c2e82d5824464f02b8e9d66b18ce16e6"
      }
     },
     "0dd890df9acc4abe8ae25b145afc10e3": {
      "model_module": "@jupyter-widgets/base",
      "model_module_version": "1.1.0",
      "model_name": "LayoutModel",
      "state": {}
     },
     "0ddbb934bc1043148faa7eb525d9843a": {
      "model_module": "@jupyter-widgets/controls",
      "model_module_version": "1.4.0",
      "model_name": "ButtonStyleModel",
      "state": {}
     },
     "0e2454a4cb3a4850a2d93fae7c3fceeb": {
      "model_module": "@jupyter-widgets/base",
      "model_module_version": "1.1.0",
      "model_name": "LayoutModel",
      "state": {}
     },
     "0e46ba281dfe4adbbe42def850daa229": {
      "model_module": "@jupyter-widgets/controls",
      "model_module_version": "1.4.0",
      "model_name": "DescriptionStyleModel",
      "state": {
       "description_width": ""
      }
     },
     "0ede254661e143769dcc3b2d6fb16a70": {
      "model_module": "@jupyter-widgets/base",
      "model_module_version": "1.1.0",
      "model_name": "LayoutModel",
      "state": {}
     },
     "0f099145a98c4e01a661b9c81c5dc4eb": {
      "model_module": "@jupyter-widgets/controls",
      "model_module_version": "1.4.0",
      "model_name": "HTMLModel",
      "state": {
       "layout": "IPY_MODEL_93632773e80f4ada95d69310d7e72c19",
       "style": "IPY_MODEL_e81197d83c0c4cf99669582ffecdb85e",
       "value": "<p>&nbsp&nbsp&nbsp&nbsp&nbsp</p>"
      }
     },
     "0f275916c5914f848c0011e5c6dd67aa": {
      "model_module": "@jupyter-widgets/controls",
      "model_module_version": "1.4.0",
      "model_name": "DescriptionStyleModel",
      "state": {
       "description_width": ""
      }
     },
     "0f4968b4f7944640bdcb8d51c3c428bb": {
      "model_module": "@jupyter-widgets/base",
      "model_module_version": "1.1.0",
      "model_name": "LayoutModel",
      "state": {}
     },
     "0f540a41f51b4f7c956b461d4a36788b": {
      "model_module": "@jupyter-widgets/controls",
      "model_module_version": "1.4.0",
      "model_name": "DropdownModel",
      "state": {
       "_options_labels": [
        "none",
        "triangle",
        "tee",
        "diamond",
        "square",
        "circle",
        "vee",
        "triangle-tee"
       ],
       "index": 0,
       "layout": "IPY_MODEL_cfd595bdb5b44614b855c0a29febb2ef",
       "style": "IPY_MODEL_5296512971564e1bb45075f1a01c3673"
      }
     },
     "0f7d4b534362487d9dbeb671c86fac93": {
      "model_module": "@jupyter-widgets/base",
      "model_module_version": "1.1.0",
      "model_name": "LayoutModel",
      "state": {
       "width": "auto"
      }
     },
     "0f7f3168bb08445c88ec6588e970d322": {
      "model_module": "@jupyter-widgets/base",
      "model_module_version": "1.1.0",
      "model_name": "LayoutModel",
      "state": {
       "width": "auto"
      }
     },
     "0fa8d39f7e204679922d501e5dffc718": {
      "model_module": "@jupyter-widgets/base",
      "model_module_version": "1.1.0",
      "model_name": "LayoutModel",
      "state": {
       "justify_content": "center",
       "margin": "0 0 15px 0"
      }
     },
     "10202720803f4c308de57810ec9cbbc7": {
      "model_module": "@jupyter-widgets/base",
      "model_module_version": "1.1.0",
      "model_name": "LayoutModel",
      "state": {}
     },
     "102f9a9a3dac418dbbc0f82a47a8ac4e": {
      "model_module": "@jupyter-widgets/base",
      "model_module_version": "1.1.0",
      "model_name": "LayoutModel",
      "state": {
       "padding": "10px 0px 0px 0px"
      }
     },
     "10375abd4f114f3abba45339ffbba6c8": {
      "model_module": "@jupyter-widgets/base",
      "model_module_version": "1.1.0",
      "model_name": "LayoutModel",
      "state": {
       "padding": "10px 0px 0px 0px"
      }
     },
     "10a516496dc94410acae9822ab79f783": {
      "model_module": "@jupyter-widgets/base",
      "model_module_version": "1.1.0",
      "model_name": "LayoutModel",
      "state": {}
     },
     "10c8888f5c5a4e9f9667d90317838804": {
      "model_module": "@jupyter-widgets/controls",
      "model_module_version": "1.4.0",
      "model_name": "HTMLModel",
      "state": {
       "layout": "IPY_MODEL_47eb3abda7b041f8927c3e5ae13a5421",
       "style": "IPY_MODEL_b195c0f5396641fa9805a0c49980853a",
       "value": "<h5>Description</h5>"
      }
     },
     "1107a7d7ba7b41878ceb03c536f9f2b3": {
      "model_module": "@jupyter-widgets/base",
      "model_module_version": "1.1.0",
      "model_name": "LayoutModel",
      "state": {}
     },
     "11283e74f758488a96f6baa8889ad740": {
      "model_module": "@jupyter-widgets/controls",
      "model_module_version": "1.4.0",
      "model_name": "HBoxModel",
      "state": {
       "children": [
        "IPY_MODEL_61d8c908b0f24e21b86054088533cb29",
        "IPY_MODEL_587c5dcb558c460d9df8936e209c6f65",
        "IPY_MODEL_d157365a63fa4419ba9f7a6c6680b479"
       ],
       "layout": "IPY_MODEL_fd5b4b49e2e844ca9ae068a8096f7641"
      }
     },
     "112f52bc95d84f16aa1aa774a2a401c6": {
      "model_module": "@jupyter-widgets/controls",
      "model_module_version": "1.4.0",
      "model_name": "HBoxModel",
      "state": {
       "children": [
        "IPY_MODEL_036a628fb042428ab58deca3a62999fc",
        "IPY_MODEL_f35d6853d0c74f8b9d52c3c12beb64ac"
       ],
       "layout": "IPY_MODEL_b9ff0e930d42494483657d82c18e0289"
      }
     },
     "113d8429fc044d06a2813a242d1a24ee": {
      "model_module": "@jupyter-widgets/controls",
      "model_module_version": "1.4.0",
      "model_name": "DescriptionStyleModel",
      "state": {
       "description_width": ""
      }
     },
     "113ee0b323a84a8f8e8171698b4deb6d": {
      "model_module": "@jupyter-widgets/controls",
      "model_module_version": "1.4.0",
      "model_name": "DescriptionStyleModel",
      "state": {
       "description_width": ""
      }
     },
     "11a0f820ce054f98898abfb05f2a1b93": {
      "model_module": "@jupyter-widgets/base",
      "model_module_version": "1.1.0",
      "model_name": "LayoutModel",
      "state": {}
     },
     "11db9bda9b51404ab676394634e4e59c": {
      "model_module": "@jupyter-widgets/controls",
      "model_module_version": "1.4.0",
      "model_name": "ButtonStyleModel",
      "state": {}
     },
     "1203936f956c43cca19f040b0ccf174a": {
      "model_module": "@jupyter-widgets/controls",
      "model_module_version": "1.4.0",
      "model_name": "ButtonStyleModel",
      "state": {}
     },
     "12106981104c4884b04e117a4974f366": {
      "model_module": "@jupyter-widgets/controls",
      "model_module_version": "1.4.0",
      "model_name": "ButtonModel",
      "state": {
       "button_style": "danger",
       "description": "Remove",
       "layout": "IPY_MODEL_3ce12bb3c8354ea39a0ded9db02369f2",
       "style": "IPY_MODEL_a3a93aeafef74f089541a091905a7b12"
      }
     },
     "1215088553b94a90b6701ce5d9842aaa": {
      "model_module": "@jupyter-widgets/base",
      "model_module_version": "1.1.0",
      "model_name": "LayoutModel",
      "state": {}
     },
     "1281f4a085f04836a606a9508c6917b3": {
      "model_module": "@jupyter-widgets/base",
      "model_module_version": "1.1.0",
      "model_name": "LayoutModel",
      "state": {}
     },
     "12db8bb6f8ef48f38641d7bea01d754d": {
      "model_module": "@jupyter-widgets/controls",
      "model_module_version": "1.4.0",
      "model_name": "DescriptionStyleModel",
      "state": {
       "description_width": ""
      }
     },
     "12dd88f206894387b53f7c7812f9d905": {
      "model_module": "@jupyter-widgets/base",
      "model_module_version": "1.1.0",
      "model_name": "LayoutModel",
      "state": {}
     },
     "12e9f430605b452086aab46ef688acfa": {
      "model_module": "@jupyter-widgets/controls",
      "model_module_version": "1.4.0",
      "model_name": "HTMLModel",
      "state": {
       "layout": "IPY_MODEL_b55e04202e344b69bd034e68dc14878a",
       "style": "IPY_MODEL_88a3c25c35154bec90bf02d8860f8ad4",
       "value": "<h5>Here you save your graph as a <a href='https://www.datacamp.com/community/tutorials/pandas-tutorial-dataframe-python'>Pandas DataFrame</a>.\nType the name of the <font color=\"blue\">Python variable</font> you want.</h5>"
      }
     },
     "12ed01d41f644080ac8c939507fb0603": {
      "model_module": "@jupyter-widgets/controls",
      "model_module_version": "1.4.0",
      "model_name": "DescriptionStyleModel",
      "state": {
       "description_width": ""
      }
     },
     "1323129144294b3dba1b8c7c0fb4eb81": {
      "model_module": "@jupyter-widgets/base",
      "model_module_version": "1.1.0",
      "model_name": "LayoutModel",
      "state": {}
     },
     "1329916cdfda44b9b2602b0be9430126": {
      "model_module": "@jupyter-widgets/controls",
      "model_module_version": "1.4.0",
      "model_name": "HTMLModel",
      "state": {
       "layout": "IPY_MODEL_148dc8f78a324be59e84dbf81b126e33",
       "style": "IPY_MODEL_78058a4971ce46a6b2457be064b375ba",
       "value": "<h5>Here you can load in a cytoscape <font color='darkKhaki'>.html</font> file. \nPut the file you want to load into the same place as this notebook, then load it in! </h5>"
      }
     },
     "132f47f1e2224868892dca940fbd4e29": {
      "model_module": "@jupyter-widgets/controls",
      "model_module_version": "1.4.0",
      "model_name": "TextModel",
      "state": {
       "layout": "IPY_MODEL_83f72a05d49f4f199c2cc31e32a35641",
       "placeholder": "Variable Name:",
       "style": "IPY_MODEL_2cef9e351d8b4a21966970c6632f1adb",
       "value": "SUID"
      }
     },
     "133459d1570a4ec49a6984a29b59cc10": {
      "model_module": "@jupyter-widgets/controls",
      "model_module_version": "1.4.0",
      "model_name": "DescriptionStyleModel",
      "state": {
       "description_width": ""
      }
     },
     "13648c22b24b4650912ce030a4a9f3f3": {
      "model_module": "@jupyter-widgets/controls",
      "model_module_version": "1.4.0",
      "model_name": "DescriptionStyleModel",
      "state": {
       "description_width": ""
      }
     },
     "1370ed48447049f8b48ec7c43af90565": {
      "model_module": "@jupyter-widgets/base",
      "model_module_version": "1.1.0",
      "model_name": "LayoutModel",
      "state": {}
     },
     "1393e638116747d2af4afe9fc267fde4": {
      "model_module": "@jupyter-widgets/base",
      "model_module_version": "1.1.0",
      "model_name": "LayoutModel",
      "state": {}
     },
     "13edf28bd3684817a739c1fa428ea0c3": {
      "model_module": "@jupyter-widgets/controls",
      "model_module_version": "1.4.0",
      "model_name": "DescriptionStyleModel",
      "state": {
       "description_width": ""
      }
     },
     "13fe8a847b6948fca50dbef0ff8e78d9": {
      "model_module": "@jupyter-widgets/base",
      "model_module_version": "1.1.0",
      "model_name": "LayoutModel",
      "state": {
       "align_items": "center",
       "display": "none"
      }
     },
     "140978fa587640c4867d41bcd0763e24": {
      "model_module": "@jupyter-widgets/base",
      "model_module_version": "1.1.0",
      "model_name": "LayoutModel",
      "state": {
       "padding": "10px 0px 0px 0px"
      }
     },
     "141a89290bb849558ec852b180b0813f": {
      "model_module": "@jupyter-widgets/controls",
      "model_module_version": "1.4.0",
      "model_name": "ButtonStyleModel",
      "state": {}
     },
     "1436f32d909d4c9c9fc9ddd69f66beeb": {
      "model_module": "@jupyter-widgets/base",
      "model_module_version": "1.1.0",
      "model_name": "LayoutModel",
      "state": {}
     },
     "14825668b890492eb9d358017fe4f92d": {
      "model_module": "@jupyter-widgets/controls",
      "model_module_version": "1.4.0",
      "model_name": "DescriptionStyleModel",
      "state": {
       "description_width": ""
      }
     },
     "148dc8f78a324be59e84dbf81b126e33": {
      "model_module": "@jupyter-widgets/base",
      "model_module_version": "1.1.0",
      "model_name": "LayoutModel",
      "state": {
       "padding": "0 15px 0 35px"
      }
     },
     "149e913b8c1d4f6fb30192fceb331bd7": {
      "model_module": "@jupyter-widgets/controls",
      "model_module_version": "1.4.0",
      "model_name": "TextModel",
      "state": {
       "layout": "IPY_MODEL_6208bbbc149f42979a51f39517cd793d",
       "style": "IPY_MODEL_38c0621a56c941eabd80a7f44c79c4ac"
      }
     },
     "14a633a0f5ed4c37b0411d5bd49d7077": {
      "model_module": "@jupyter-widgets/controls",
      "model_module_version": "1.4.0",
      "model_name": "HTMLModel",
      "state": {
       "layout": "IPY_MODEL_c3c37c5e0f5242fd94067b064ece38f8",
       "style": "IPY_MODEL_a5e6ca88f39e49f29ae8d3a3bdd4018a",
       "value": "<font size=3 style='justify-content: center;'>interaction : </font>"
      }
     },
     "150c27d908a54902a1d0b0f2612c994e": {
      "model_module": "@jupyter-widgets/controls",
      "model_module_version": "1.4.0",
      "model_name": "VBoxModel",
      "state": {
       "children": [
        "IPY_MODEL_5a55b6e4b9df46a496d259af94179452",
        "IPY_MODEL_3583f68d37c442e28f1d09db7faa0f09"
       ],
       "layout": "IPY_MODEL_aeddd7c8b0db45cb838587707d578da6"
      }
     },
     "155d3834e43f4723be57efba428d959e": {
      "model_module": "@jupyter-widgets/controls",
      "model_module_version": "1.4.0",
      "model_name": "ButtonStyleModel",
      "state": {}
     },
     "155ebda5612648c09743f0cd37918a30": {
      "model_module": "@jupyter-widgets/base",
      "model_module_version": "1.1.0",
      "model_name": "LayoutModel",
      "state": {
       "align_items": "center",
       "justify_content": "center"
      }
     },
     "1575b43a7d604174b468045ad845cc64": {
      "model_module": "@jupyter-widgets/controls",
      "model_module_version": "1.4.0",
      "model_name": "DescriptionStyleModel",
      "state": {
       "description_width": ""
      }
     },
     "1594e644e4984047946cdaec06463fb0": {
      "model_module": "@jupyter-widgets/controls",
      "model_module_version": "1.4.0",
      "model_name": "ButtonModel",
      "state": {
       "button_style": "danger",
       "description": "Remove",
       "layout": "IPY_MODEL_62404124a1b04ab3a244fc2d7eaefd5e",
       "style": "IPY_MODEL_c74945e2404e4f8f8a657a33c48c1a88"
      }
     },
     "1596f86441564dbe817664a69aaf0993": {
      "model_module": "@jupyter-widgets/controls",
      "model_module_version": "1.4.0",
      "model_name": "HTMLModel",
      "state": {
       "layout": "IPY_MODEL_fbf192c5b549490589674bb82eeb9136",
       "style": "IPY_MODEL_31ef2dac52e843dcaff38c0e52f63b63",
       "value": "<h5>Title  &nbsp</h5> "
      }
     },
     "15a7cb6d33cf4f938dd918dda6bf28a1": {
      "model_module": "@jupyter-widgets/controls",
      "model_module_version": "1.4.0",
      "model_name": "DescriptionStyleModel",
      "state": {
       "description_width": ""
      }
     },
     "15b4e3b7af564493b47fa79206e3163c": {
      "model_module": "@jupyter-widgets/controls",
      "model_module_version": "1.4.0",
      "model_name": "DescriptionStyleModel",
      "state": {
       "description_width": ""
      }
     },
     "15d02b34c8e64c6e89f65a645211bf87": {
      "model_module": "@jupyter-widgets/controls",
      "model_module_version": "1.4.0",
      "model_name": "HBoxModel",
      "state": {
       "children": [
        "IPY_MODEL_d6528e7761704a5fb7fc88971ea38782",
        "IPY_MODEL_84dbae5424964d378517ec1a43a6808a",
        "IPY_MODEL_c7fc8f841ab245abacc64b8197bdd8e8"
       ],
       "layout": "IPY_MODEL_db96402334e442ca80b2fa6608dfe87b"
      }
     },
     "15d2867b595c4ff98cd41b3c839183a5": {
      "model_module": "@jupyter-widgets/controls",
      "model_module_version": "1.4.0",
      "model_name": "ButtonModel",
      "state": {
       "button_style": "primary",
       "description": "Load",
       "layout": "IPY_MODEL_0523dceb385d4f8eb23012259d00ef20",
       "style": "IPY_MODEL_b7b74cb796fd4f989329ea891c42fb0a"
      }
     },
     "15e3b71b47694e8ca82d2899a3458d2b": {
      "model_module": "@jupyter-widgets/base",
      "model_module_version": "1.1.0",
      "model_name": "LayoutModel",
      "state": {}
     },
     "162c5398cb7043159210cb6bc11f1dee": {
      "model_module": "@jupyter-widgets/controls",
      "model_module_version": "1.4.0",
      "model_name": "FloatTextModel",
      "state": {
       "continuous_update": true,
       "layout": "IPY_MODEL_31da47f69f9c45f7bc97b18dcac8d94f",
       "step": null,
       "style": "IPY_MODEL_a48ceafade9a433dae527de6b99b9302"
      }
     },
     "16372eced5124598819971efef3b79ec": {
      "model_module": "@jupyter-widgets/base",
      "model_module_version": "1.1.0",
      "model_name": "LayoutModel",
      "state": {
       "padding": "10px 0px 0px 0px"
      }
     },
     "163ac34797dd4b1abd5e9089e66e6a98": {
      "model_module": "@jupyter-widgets/base",
      "model_module_version": "1.1.0",
      "model_name": "LayoutModel",
      "state": {}
     },
     "164eb75b86da400caf69d9e03e9fd3bb": {
      "model_module": "@jupyter-widgets/base",
      "model_module_version": "1.1.0",
      "model_name": "LayoutModel",
      "state": {}
     },
     "169870cb01af4ede86b354da02acc68b": {
      "model_module": "@jupyter-widgets/base",
      "model_module_version": "1.1.0",
      "model_name": "LayoutModel",
      "state": {}
     },
     "16bb08fd2d9141a18295a20427cc9f0c": {
      "model_module": "@jupyter-widgets/controls",
      "model_module_version": "1.4.0",
      "model_name": "HBoxModel",
      "state": {
       "children": [
        "IPY_MODEL_688a47b7be5c4f26bf67f046e4d81559",
        "IPY_MODEL_74f542800cb8450ab4f08f2cce172b12",
        "IPY_MODEL_6ef991df793740a9a51c883170c6a269"
       ],
       "layout": "IPY_MODEL_b5e1a9856f944ee4bd0941d1df537288"
      }
     },
     "16d17a23a7934ce1bf66170bded265a2": {
      "model_module": "@jupyter-widgets/controls",
      "model_module_version": "1.4.0",
      "model_name": "ButtonModel",
      "state": {
       "button_style": "danger",
       "description": "Remove",
       "layout": "IPY_MODEL_0f7d4b534362487d9dbeb671c86fac93",
       "style": "IPY_MODEL_67889ed0da1a4b1ea3643a06a2371b9b"
      }
     },
     "16d1ec6671f74490bb401132663400e1": {
      "model_module": "@jupyter-widgets/controls",
      "model_module_version": "1.4.0",
      "model_name": "ButtonModel",
      "state": {
       "button_style": "danger",
       "description": "Remove",
       "layout": "IPY_MODEL_748a2fb8998c4c1eb42bdafd8e5edb42",
       "style": "IPY_MODEL_ecacf55c5add463da97f2dee5c080fa2"
      }
     },
     "16ef74440d7c4f33bbc2f50d7f092cc1": {
      "model_module": "@jupyter-widgets/controls",
      "model_module_version": "1.4.0",
      "model_name": "ButtonStyleModel",
      "state": {}
     },
     "173017f3ec924d4caac3971a1c8b74e6": {
      "model_module": "@jupyter-widgets/controls",
      "model_module_version": "1.4.0",
      "model_name": "HBoxModel",
      "state": {
       "children": [
        "IPY_MODEL_3f5326f910614fd283e67509dd11aed1",
        "IPY_MODEL_73868965958c474fad86bfd0fc709f3c",
        "IPY_MODEL_d7e88b716f4645df9be835b95865655f"
       ],
       "layout": "IPY_MODEL_6c5324f28ffe4f5696944fb594683d41"
      }
     },
     "17408773eb114009b8f8b1859d65117a": {
      "model_module": "@jupyter-widgets/controls",
      "model_module_version": "1.4.0",
      "model_name": "DescriptionStyleModel",
      "state": {
       "description_width": ""
      }
     },
     "17b18f1a93f14570a84382256688bbf6": {
      "model_module": "@jupyter-widgets/base",
      "model_module_version": "1.1.0",
      "model_name": "LayoutModel",
      "state": {}
     },
     "1805384293984d0daf19296c9e4e40c1": {
      "model_module": "@jupyter-widgets/base",
      "model_module_version": "1.1.0",
      "model_name": "LayoutModel",
      "state": {}
     },
     "1819130233924458bb65ac02beb3a511": {
      "model_module": "@jupyter-widgets/controls",
      "model_module_version": "1.4.0",
      "model_name": "ToggleButtonModel",
      "state": {
       "button_style": "primary",
       "description": "Box",
       "layout": "IPY_MODEL_6a80f8596be14799a07f5bf5beaa620a",
       "style": "IPY_MODEL_e20c519273694a0982f39422dce0cbec"
      }
     },
     "184e51644f844533a6c837f73e32e5f7": {
      "model_module": "@jupyter-widgets/base",
      "model_module_version": "1.1.0",
      "model_name": "LayoutModel",
      "state": {}
     },
     "186284caefbb4ac38168075e3353a09b": {
      "model_module": "@jupyter-widgets/controls",
      "model_module_version": "1.4.0",
      "model_name": "DescriptionStyleModel",
      "state": {
       "description_width": ""
      }
     },
     "18638ff6cffb4cac8583e4eeac9a1af0": {
      "model_module": "@jupyter-widgets/controls",
      "model_module_version": "1.4.0",
      "model_name": "HTMLModel",
      "state": {
       "layout": "IPY_MODEL_23efb5ba4bdc4660a682cee1d1925fb5",
       "style": "IPY_MODEL_3a46ce3775644f97ab41f007a1aa8ff5",
       "value": "<font size=3 style='justify-content: center;'>Indegree : </font>"
      }
     },
     "18c7853ebd094c39b54fab48a5ce97bf": {
      "model_module": "@jupyter-widgets/base",
      "model_module_version": "1.1.0",
      "model_name": "LayoutModel",
      "state": {}
     },
     "18eb31eaf3c84f9cbd7af1beef829700": {
      "model_module": "@jupyter-widgets/controls",
      "model_module_version": "1.4.0",
      "model_name": "VBoxModel",
      "state": {
       "children": [
        "IPY_MODEL_9e1e9577b1b549788f60f39558063d7e",
        "IPY_MODEL_bf9b33d07243411a8aad6ab30ee17195",
        "IPY_MODEL_9c88bd3e73314403a66561642b323637",
        "IPY_MODEL_44b1d0e171a7464bb8805b86abdf22cc",
        "IPY_MODEL_5de9ed894dfc4f50bab223fc72a2dd01",
        "IPY_MODEL_ec7b33c0036545909166088dce15788b",
        "IPY_MODEL_81cd67f0c7f5472faad1c2a72f2de239",
        "IPY_MODEL_ff3b1fa3f2f74c819781716cb7b07b29",
        "IPY_MODEL_8df7801c1e8149658a88cf27669add99",
        "IPY_MODEL_1d5c79d497644c1495fb52aca8d39df5",
        "IPY_MODEL_76fc7b495fa247958f12e6bb8f0c7b5f"
       ],
       "layout": "IPY_MODEL_a1f992102145402ba2bc2065ef3ee7f0"
      }
     },
     "19284480a8384f009aceca06a1779075": {
      "model_module": "@jupyter-widgets/controls",
      "model_module_version": "1.4.0",
      "model_name": "HBoxModel",
      "state": {
       "children": [
        "IPY_MODEL_e4dc529d87164a0a9fcc909ac01285be",
        "IPY_MODEL_88966ce2fbe64c29bd8608891c2733e2",
        "IPY_MODEL_4412c3b2ac4a43ee8d17e08460d9c2fc",
        "IPY_MODEL_49c838ac0ae448c59d0ab3e953ceb298"
       ],
       "layout": "IPY_MODEL_c158874ada9f48cfbcc27357b2759d59"
      }
     },
     "1984ddee0514425581c9d0e58440e41c": {
      "model_module": "@jupyter-widgets/base",
      "model_module_version": "1.1.0",
      "model_name": "LayoutModel",
      "state": {}
     },
     "19d8047c2ff34d288a9732d1b70e60e6": {
      "model_module": "@jupyter-widgets/controls",
      "model_module_version": "1.4.0",
      "model_name": "ButtonStyleModel",
      "state": {}
     },
     "19ed18ce08ea432fb6aef52a2eb1aba6": {
      "model_module": "@jupyter-widgets/controls",
      "model_module_version": "1.4.0",
      "model_name": "DescriptionStyleModel",
      "state": {
       "description_width": ""
      }
     },
     "1a08785eeffd4ef99daef85236f7c5a4": {
      "model_module": "@jupyter-widgets/base",
      "model_module_version": "1.1.0",
      "model_name": "LayoutModel",
      "state": {
       "margin": "10px 0 0 0",
       "width": "auto"
      }
     },
     "1a6fb73eb6944534af93a3065a41a2a5": {
      "model_module": "@jupyter-widgets/base",
      "model_module_version": "1.1.0",
      "model_name": "LayoutModel",
      "state": {}
     },
     "1aa659a440f548fb8a6f2793858d0af4": {
      "model_module": "@jupyter-widgets/base",
      "model_module_version": "1.1.0",
      "model_name": "LayoutModel",
      "state": {
       "width": "auto"
      }
     },
     "1aaa2e01de2c4a4580e6924058a5b1b0": {
      "model_module": "@jupyter-widgets/base",
      "model_module_version": "1.1.0",
      "model_name": "LayoutModel",
      "state": {}
     },
     "1ad2a551689a41c3a1124f2dd9e66974": {
      "model_module": "@jupyter-widgets/controls",
      "model_module_version": "1.4.0",
      "model_name": "DescriptionStyleModel",
      "state": {
       "description_width": ""
      }
     },
     "1ae57acc6a6e43dca0fdf6771398afc7": {
      "model_module": "@jupyter-widgets/controls",
      "model_module_version": "1.4.0",
      "model_name": "FloatTextModel",
      "state": {
       "continuous_update": true,
       "layout": "IPY_MODEL_f9636f572f9d4c1593a19a720282d4e3",
       "step": null,
       "style": "IPY_MODEL_4e7ac585a5b14f0786f3a5644568c23c"
      }
     },
     "1ae93d78948d49a6a794af514338fe4c": {
      "model_module": "@jupyter-widgets/base",
      "model_module_version": "1.1.0",
      "model_name": "LayoutModel",
      "state": {
       "width": "auto"
      }
     },
     "1ae9db95954a499e9c10eebac17c4c2b": {
      "model_module": "@jupyter-widgets/controls",
      "model_module_version": "1.4.0",
      "model_name": "TextModel",
      "state": {
       "layout": "IPY_MODEL_6c883ab42b3248c5abe712eae48f90a8",
       "placeholder": "Variable Name:",
       "style": "IPY_MODEL_ece310ce48f04cb4bb571a5d35bcf704"
      }
     },
     "1b0925a3510d40fdac292878437e748d": {
      "model_module": "@jupyter-widgets/controls",
      "model_module_version": "1.4.0",
      "model_name": "HBoxModel",
      "state": {
       "children": [
        "IPY_MODEL_5788caa4d7a04c67905c97f536219715"
       ],
       "layout": "IPY_MODEL_750629c3d81b4cb19e9791575e408678"
      }
     },
     "1b1145f05393464ab388a1cf9135d7ff": {
      "model_module": "@jupyter-widgets/base",
      "model_module_version": "1.1.0",
      "model_name": "LayoutModel",
      "state": {}
     },
     "1b1982554ec84724ab29bd038091a02c": {
      "model_module": "@jupyter-widgets/controls",
      "model_module_version": "1.4.0",
      "model_name": "HTMLModel",
      "state": {
       "layout": "IPY_MODEL_5c19d203380a4e45a124de8c8a3dd5cd",
       "style": "IPY_MODEL_58ddbb1839d4427081dc37028325eb1f",
       "value": "<font size=3 style='justify-content: center;'>SUID : </font>"
      }
     },
     "1b3507e416744b7aac9d67e704f2f570": {
      "model_module": "@jupyter-widgets/base",
      "model_module_version": "1.1.0",
      "model_name": "LayoutModel",
      "state": {}
     },
     "1b3939b69d8742ef807bfc2ecc0c4f9d": {
      "model_module": "@jupyter-widgets/base",
      "model_module_version": "1.1.0",
      "model_name": "LayoutModel",
      "state": {}
     },
     "1b79be4c1d474959a8ac840ddf4ee251": {
      "model_module": "@jupyter-widgets/base",
      "model_module_version": "1.1.0",
      "model_name": "LayoutModel",
      "state": {
       "width": "auto"
      }
     },
     "1b91b1fe81df49c2a89823fc44acb783": {
      "model_module": "@jupyter-widgets/controls",
      "model_module_version": "1.4.0",
      "model_name": "VBoxModel",
      "state": {
       "children": [
        "IPY_MODEL_4a49b697789d4718a27e783af030d6fe",
        "IPY_MODEL_df7fd4abc9074d97a579840eb3433f84"
       ],
       "layout": "IPY_MODEL_f9f0d5234258480dbcb7d4a3634a7e64"
      }
     },
     "1bc38e394302434e8152e554996dcb74": {
      "model_module": "@jupyter-widgets/base",
      "model_module_version": "1.1.0",
      "model_name": "LayoutModel",
      "state": {
       "visibility": "hidden"
      }
     },
     "1bd5de71708f4637b6ebef50257d3bba": {
      "model_module": "@jupyter-widgets/base",
      "model_module_version": "1.1.0",
      "model_name": "LayoutModel",
      "state": {}
     },
     "1be6f870dc9e42a6bae67219488bed76": {
      "model_module": "@jupyter-widgets/controls",
      "model_module_version": "1.4.0",
      "model_name": "DescriptionStyleModel",
      "state": {
       "description_width": ""
      }
     },
     "1be8fc2b722a4bb1836c8ca6a8d6364a": {
      "model_module": "@jupyter-widgets/controls",
      "model_module_version": "1.4.0",
      "model_name": "ColorPickerModel",
      "state": {
       "disabled": false,
       "layout": "IPY_MODEL_e5e7f54d40df4b4982dd46eaf132eb94",
       "style": "IPY_MODEL_b644a3d24d8240ae9c58085f34589b50"
      }
     },
     "1c3fd2f1f93c497fb6412b2693964487": {
      "model_module": "@jupyter-widgets/controls",
      "model_module_version": "1.4.0",
      "model_name": "LabelModel",
      "state": {
       "layout": "IPY_MODEL_3d08b69afe974bcca11c36f2bea170e0",
       "style": "IPY_MODEL_42c35c23070f4f3c9573a3b81e16e69e",
       "value": "Line Style :"
      }
     },
     "1c976e6863ff4d6b8f1974acbb1d4f71": {
      "model_module": "@jupyter-widgets/base",
      "model_module_version": "1.1.0",
      "model_name": "LayoutModel",
      "state": {
       "align_items": "center",
       "justify_content": "center"
      }
     },
     "1cb30e3ed76443c8b48955194e6dd4ac": {
      "model_module": "@jupyter-widgets/base",
      "model_module_version": "1.1.0",
      "model_name": "LayoutModel",
      "state": {}
     },
     "1cd08399b90d4f6796a350ce24718bd0": {
      "model_module": "@jupyter-widgets/base",
      "model_module_version": "1.1.0",
      "model_name": "LayoutModel",
      "state": {}
     },
     "1ced5dd0477e46e8a930f11ecd0fc7e7": {
      "model_module": "@jupyter-widgets/controls",
      "model_module_version": "1.4.0",
      "model_name": "ButtonStyleModel",
      "state": {}
     },
     "1d057aa3223d43d2b6fc5c86206eef9f": {
      "model_module": "@jupyter-widgets/controls",
      "model_module_version": "1.4.0",
      "model_name": "HBoxModel",
      "state": {
       "children": [
        "IPY_MODEL_1c3fd2f1f93c497fb6412b2693964487",
        "IPY_MODEL_6611e8c908bb4b198c34cebe7ebc9de9"
       ],
       "layout": "IPY_MODEL_5930d17e07aa48318d75e8b578094179"
      }
     },
     "1d28367fe1dd4324afc08a689a24afaf": {
      "model_module": "@jupyter-widgets/controls",
      "model_module_version": "1.4.0",
      "model_name": "TextareaModel",
      "state": {
       "layout": "IPY_MODEL_58172127b46148e287a6584f313f46c5",
       "style": "IPY_MODEL_96c638be0c4148e598309c9fc1bf91a3"
      }
     },
     "1d2f163737b24934a77b339e6ac0b825": {
      "model_module": "@jupyter-widgets/controls",
      "model_module_version": "1.4.0",
      "model_name": "PasswordModel",
      "state": {
       "description": "Password :",
       "layout": "IPY_MODEL_22937aaef2b24ef193fb631b9c9652d3",
       "style": "IPY_MODEL_510ebd5558cf4d2fb831e8e5c3b0bf34"
      }
     },
     "1d487f3ea55545d483aeb3e72b624864": {
      "model_module": "@jupyter-widgets/base",
      "model_module_version": "1.1.0",
      "model_name": "LayoutModel",
      "state": {}
     },
     "1d5c79d497644c1495fb52aca8d39df5": {
      "model_module": "@jupyter-widgets/controls",
      "model_module_version": "1.4.0",
      "model_name": "HBoxModel",
      "state": {
       "children": [
        "IPY_MODEL_ccae4eafb1824ded94bf432a13c34251",
        "IPY_MODEL_0f540a41f51b4f7c956b461d4a36788b"
       ],
       "layout": "IPY_MODEL_4db8cb8b81da4f7e80a8c305c81549f0"
      }
     },
     "1d5db6a5be7d4d8fb1db9528045757b9": {
      "model_module": "@jupyter-widgets/base",
      "model_module_version": "1.1.0",
      "model_name": "LayoutModel",
      "state": {}
     },
     "1d5f15fafe864dbdb37f96e6c3db81f2": {
      "model_module": "@jupyter-widgets/controls",
      "model_module_version": "1.4.0",
      "model_name": "FloatTextModel",
      "state": {
       "continuous_update": true,
       "layout": "IPY_MODEL_1215088553b94a90b6701ce5d9842aaa",
       "step": null,
       "style": "IPY_MODEL_2785bfffc72244fd89ecf7a01ccc4019"
      }
     },
     "1d8100f1108543dd895ec038a60f3e9e": {
      "model_module": "@jupyter-widgets/controls",
      "model_module_version": "1.4.0",
      "model_name": "DescriptionStyleModel",
      "state": {
       "description_width": ""
      }
     },
     "1d95030e13624195b84ce85f1871ff0e": {
      "model_module": "@jupyter-widgets/controls",
      "model_module_version": "1.4.0",
      "model_name": "DescriptionStyleModel",
      "state": {
       "description_width": ""
      }
     },
     "1d96f5ec30e540d9a462972c93e77ec7": {
      "model_module": "@jupyter-widgets/base",
      "model_module_version": "1.1.0",
      "model_name": "LayoutModel",
      "state": {
       "width": "auto"
      }
     },
     "1e17116f4ac54edebf37e17a816effcf": {
      "model_module": "@jupyter-widgets/base",
      "model_module_version": "1.1.0",
      "model_name": "LayoutModel",
      "state": {}
     },
     "1e26e2e3fa2c4e8d8e4684f58e063c30": {
      "model_module": "@jupyter-widgets/base",
      "model_module_version": "1.1.0",
      "model_name": "LayoutModel",
      "state": {}
     },
     "1e9fe191d2f047f399dbcd835f3f9cdd": {
      "model_module": "@jupyter-widgets/controls",
      "model_module_version": "1.4.0",
      "model_name": "ButtonStyleModel",
      "state": {}
     },
     "1ea623d8c3fa46958f8d284e7f6ac0ad": {
      "model_module": "@jupyter-widgets/controls",
      "model_module_version": "1.4.0",
      "model_name": "DescriptionStyleModel",
      "state": {
       "description_width": ""
      }
     },
     "1efc421b0a00417f90ab0f9606a6971d": {
      "model_module": "@jupyter-widgets/controls",
      "model_module_version": "1.4.0",
      "model_name": "DescriptionStyleModel",
      "state": {
       "description_width": ""
      }
     },
     "1f383384b40e4fb086c0d76631d9ee79": {
      "model_module": "@jupyter-widgets/controls",
      "model_module_version": "1.4.0",
      "model_name": "DescriptionStyleModel",
      "state": {
       "description_width": ""
      }
     },
     "1f67fc636466499585f9393aa8b47ea4": {
      "model_module": "@jupyter-widgets/controls",
      "model_module_version": "1.4.0",
      "model_name": "DescriptionStyleModel",
      "state": {
       "description_width": ""
      }
     },
     "1f8532c6b87a4ed899164b47daa8f7d3": {
      "model_module": "@jupyter-widgets/base",
      "model_module_version": "1.1.0",
      "model_name": "LayoutModel",
      "state": {}
     },
     "1fc80a5c363a42ed97cf06e3f51f2ab4": {
      "model_module": "@jupyter-widgets/base",
      "model_module_version": "1.1.0",
      "model_name": "LayoutModel",
      "state": {}
     },
     "20087d3d40714b3f863023ede31cc631": {
      "model_module": "@jupyter-widgets/controls",
      "model_module_version": "1.4.0",
      "model_name": "TextModel",
      "state": {
       "layout": "IPY_MODEL_10a516496dc94410acae9822ab79f783",
       "style": "IPY_MODEL_ce1d6e2ff0a34635ba86df5bec4d0151"
      }
     },
     "2030af172acf43d3b9a37e33ee6b3590": {
      "model_module": "@jupyter-widgets/base",
      "model_module_version": "1.1.0",
      "model_name": "LayoutModel",
      "state": {}
     },
     "20c3af37231d4e13b5aa3c52d75045f7": {
      "model_module": "@jupyter-widgets/base",
      "model_module_version": "1.1.0",
      "model_name": "LayoutModel",
      "state": {
       "width": "auto"
      }
     },
     "20f408866d4446648c5e5cbe18a09af6": {
      "model_module": "@jupyter-widgets/controls",
      "model_module_version": "1.4.0",
      "model_name": "HBoxModel",
      "state": {
       "children": [
        "IPY_MODEL_9c75f430b773451fbbce9157c5f023c0",
        "IPY_MODEL_dcd9f3c00bc04e2db931c5b6ed5b0c47",
        "IPY_MODEL_9b9e3094e5ce487190522c1209caa603"
       ],
       "layout": "IPY_MODEL_4f24a864681540dba9c78b6ad442933e"
      }
     },
     "210f56f16aa342e58f378e660aae7d4f": {
      "model_module": "@jupyter-widgets/base",
      "model_module_version": "1.1.0",
      "model_name": "LayoutModel",
      "state": {}
     },
     "214ca67defd648a397a184bbb373b6d2": {
      "model_module": "@jupyter-widgets/controls",
      "model_module_version": "1.4.0",
      "model_name": "ButtonModel",
      "state": {
       "button_style": "danger",
       "description": "Remove",
       "layout": "IPY_MODEL_f200776c42274cb896ee60664dd85abf",
       "style": "IPY_MODEL_6b09f37814524f9aad3cb4bb985d3f3c"
      }
     },
     "21c7e5556e28429fa98e1c721c0673d9": {
      "model_module": "@jupyter-widgets/controls",
      "model_module_version": "1.4.0",
      "model_name": "DescriptionStyleModel",
      "state": {
       "description_width": ""
      }
     },
     "21c858151eaf47b997fc897d5061d08c": {
      "model_module": "@jupyter-widgets/base",
      "model_module_version": "1.1.0",
      "model_name": "LayoutModel",
      "state": {
       "align_items": "center",
       "display": "none"
      }
     },
     "21cd3b801cfc4de68ea56c4cedee3166": {
      "model_module": "@jupyter-widgets/controls",
      "model_module_version": "1.4.0",
      "model_name": "DropdownModel",
      "state": {
       "_options_labels": [
        "ellipse",
        "triangle",
        "rectangle",
        "rhomboid",
        "diamond",
        "pentagon",
        "hexagon",
        "concavehexagon",
        "heptagon",
        "octagon",
        "star",
        "tag",
        "vee"
       ],
       "index": 0,
       "layout": "IPY_MODEL_a69d8f224220408cb46e979ecea76e68",
       "style": "IPY_MODEL_bd3365f5c6b74378ab8fe80d44eb8b8f"
      }
     },
     "2208cc48883040f795b0daf0ced9d05a": {
      "model_module": "@jupyter-widgets/controls",
      "model_module_version": "1.4.0",
      "model_name": "DescriptionStyleModel",
      "state": {
       "description_width": ""
      }
     },
     "2248448660e84ce594809f74110faa49": {
      "model_module": "@jupyter-widgets/controls",
      "model_module_version": "1.4.0",
      "model_name": "LabelModel",
      "state": {
       "layout": "IPY_MODEL_30a16f10a1374e71be50a4954300fc3c",
       "style": "IPY_MODEL_86ea3dafa1fd45c7bf6af7dbd2422ebd",
       "value": "Start"
      }
     },
     "22937aaef2b24ef193fb631b9c9652d3": {
      "model_module": "@jupyter-widgets/base",
      "model_module_version": "1.1.0",
      "model_name": "LayoutModel",
      "state": {}
     },
     "229ee69b5a7345eaa0c4c830679e35cb": {
      "model_module": "@jupyter-widgets/base",
      "model_module_version": "1.1.0",
      "model_name": "LayoutModel",
      "state": {}
     },
     "22ced50b32e7475aa144f773ab48618e": {
      "model_module": "@jupyter-widgets/controls",
      "model_module_version": "1.4.0",
      "model_name": "FloatTextModel",
      "state": {
       "continuous_update": true,
       "layout": "IPY_MODEL_c201442184d04fc7ae8931d0b015c64e",
       "step": null,
       "style": "IPY_MODEL_113d8429fc044d06a2813a242d1a24ee"
      }
     },
     "2321f7daa69e4c84b3a4fa4fcbb19c8f": {
      "model_module": "@jupyter-widgets/base",
      "model_module_version": "1.1.0",
      "model_name": "LayoutModel",
      "state": {
       "width": "auto"
      }
     },
     "2392a2e024d141fa9ab530689ee76771": {
      "model_module": "@jupyter-widgets/controls",
      "model_module_version": "1.4.0",
      "model_name": "VBoxModel",
      "state": {
       "children": [
        "IPY_MODEL_e759ca830bac40968c53e8afdf0a5135",
        "IPY_MODEL_bf66d3e7915b43e4ae133f06b1e0cf00",
        "IPY_MODEL_4065f8a42b5b440fb4770be1325802ab"
       ],
       "layout": "IPY_MODEL_1aaa2e01de2c4a4580e6924058a5b1b0"
      }
     },
     "23d25d8fdf8c49e8a6a88e12ecd76e25": {
      "model_module": "@jupyter-widgets/base",
      "model_module_version": "1.1.0",
      "model_name": "LayoutModel",
      "state": {}
     },
     "23efb5ba4bdc4660a682cee1d1925fb5": {
      "model_module": "@jupyter-widgets/base",
      "model_module_version": "1.1.0",
      "model_name": "LayoutModel",
      "state": {}
     },
     "2438fe05f6aa41b9905b20dbad814bef": {
      "model_module": "@jupyter-widgets/controls",
      "model_module_version": "1.4.0",
      "model_name": "DescriptionStyleModel",
      "state": {
       "description_width": ""
      }
     },
     "2455065e0f2e4d69825b3ecf54ac14ba": {
      "model_module": "@jupyter-widgets/base",
      "model_module_version": "1.1.0",
      "model_name": "LayoutModel",
      "state": {}
     },
     "24863a04dbbb48e784be53ab4cdb47fe": {
      "model_module": "@jupyter-widgets/controls",
      "model_module_version": "1.4.0",
      "model_name": "ButtonModel",
      "state": {
       "button_style": "danger",
       "description": "Remove",
       "layout": "IPY_MODEL_b651be0a3ed444868c018f1175aad1b7",
       "style": "IPY_MODEL_c0f0dcf85f1146a88205ac15c2429335"
      }
     },
     "249a696ce14040789c5ec5deb2c7d301": {
      "model_module": "@jupyter-widgets/base",
      "model_module_version": "1.1.0",
      "model_name": "LayoutModel",
      "state": {}
     },
     "24ed203f20094bd3a5714a73e5b6c5ff": {
      "model_module": "@jupyter-widgets/controls",
      "model_module_version": "1.4.0",
      "model_name": "HBoxModel",
      "state": {
       "children": [
        "IPY_MODEL_db82d1647e3c4fa4a01f49cca453a23e",
        "IPY_MODEL_055ce99086dc40d48623ed5e4ea18a5c"
       ],
       "layout": "IPY_MODEL_ef36ffa81f534119bd2c9c547aa32131"
      }
     },
     "24f353d5509844f7a966381412980469": {
      "model_module": "@jupyter-widgets/controls",
      "model_module_version": "1.4.0",
      "model_name": "TextareaModel",
      "state": {
       "layout": "IPY_MODEL_5c35150507ae4c709d42264074084354",
       "style": "IPY_MODEL_c68f8637e75042e19497ff86a5c693e5",
       "value": "asdf asdf asdf asd f"
      }
     },
     "250967855e134da0b77e44eaea2b6be1": {
      "model_module": "@jupyter-widgets/controls",
      "model_module_version": "1.4.0",
      "model_name": "LabelModel",
      "state": {
       "layout": "IPY_MODEL_ee9d4a576d394632a44ad5fd46cc790c",
       "style": "IPY_MODEL_87a198cfb94943d998c87dc20cc840f6",
       "value": "Behind/In-Front :"
      }
     },
     "2536e8562a9b40d4a2c38d086d3e83b7": {
      "model_module": "@jupyter-widgets/controls",
      "model_module_version": "1.4.0",
      "model_name": "HTMLModel",
      "state": {
       "layout": "IPY_MODEL_ad0da11587e647cd96150e85a4c21d92",
       "style": "IPY_MODEL_f31a005fd3f8444bba13564e01799221",
       "value": "<h5>Title  &nbsp</h5> "
      }
     },
     "256aae208ca34f7ea2645f60072c0a93": {
      "model_module": "@jupyter-widgets/controls",
      "model_module_version": "1.4.0",
      "model_name": "DescriptionStyleModel",
      "state": {
       "description_width": ""
      }
     },
     "259a82acab3541aeb194dc23081e2164": {
      "model_module": "@jupyter-widgets/controls",
      "model_module_version": "1.4.0",
      "model_name": "SelectModel",
      "state": {
       "_options_labels": [
        "Number",
        "Text"
       ],
       "index": 0,
       "layout": "IPY_MODEL_3215778e20fe481c902cc2c9380ef80e",
       "style": "IPY_MODEL_8c29449bdeb4491aaa8ebb17af62fd12"
      }
     },
     "25abbe36a41e4a6493c1fbda32d940b9": {
      "model_module": "@jupyter-widgets/controls",
      "model_module_version": "1.4.0",
      "model_name": "ButtonStyleModel",
      "state": {}
     },
     "25c343d3a9a6459d8c9a8725c1e889a0": {
      "model_module": "@jupyter-widgets/controls",
      "model_module_version": "1.4.0",
      "model_name": "HBoxModel",
      "state": {
       "children": [
        "IPY_MODEL_61c5a689bee048fa80e22636c2fdea1b",
        "IPY_MODEL_ac40d4fe94ff4cc6b96a303dede7356f"
       ],
       "layout": "IPY_MODEL_b5e578112d324757b25461295c4824fa"
      }
     },
     "25cdd918fec34a3aaa7f69d0df5aa4cb": {
      "model_module": "@jupyter-widgets/base",
      "model_module_version": "1.1.0",
      "model_name": "LayoutModel",
      "state": {}
     },
     "25cfb2bc515e436c867f4eb7b58e21a1": {
      "model_module": "@jupyter-widgets/base",
      "model_module_version": "1.1.0",
      "model_name": "LayoutModel",
      "state": {}
     },
     "25d04888e674407fb8a8a8efa0f7f4e9": {
      "model_module": "@jupyter-widgets/controls",
      "model_module_version": "1.4.0",
      "model_name": "DescriptionStyleModel",
      "state": {
       "description_width": ""
      }
     },
     "2617795d319e4c61a6018e84b05730c3": {
      "model_module": "@jupyter-widgets/controls",
      "model_module_version": "1.4.0",
      "model_name": "DescriptionStyleModel",
      "state": {
       "description_width": ""
      }
     },
     "26178552880f4e6d80ef8ad8d57ef201": {
      "model_module": "@jupyter-widgets/base",
      "model_module_version": "1.1.0",
      "model_name": "LayoutModel",
      "state": {
       "margin": "2px 25px 2px 0px",
       "width": "auto"
      }
     },
     "2632b78d811c4753b592c57ba38eb0ab": {
      "model_module": "@jupyter-widgets/controls",
      "model_module_version": "1.4.0",
      "model_name": "TextModel",
      "state": {
       "layout": "IPY_MODEL_c8a037e495af4cc89d79258b5b52481f",
       "style": "IPY_MODEL_f544c5c6b2644422bb3feae73b9c4307"
      }
     },
     "263645406f514424a0338eca31e3c51c": {
      "model_module": "@jupyter-widgets/controls",
      "model_module_version": "1.4.0",
      "model_name": "ToggleButtonsStyleModel",
      "state": {
       "button_width": "",
       "description_width": ""
      }
     },
     "265342974dbc457d9e41eb6c3f516657": {
      "model_module": "@jupyter-widgets/controls",
      "model_module_version": "1.4.0",
      "model_name": "HBoxModel",
      "state": {
       "children": [
        "IPY_MODEL_7a6d5b803013409a99790586fc06a480",
        "IPY_MODEL_9411a4399ab5433bad09f1c24266dfe1",
        "IPY_MODEL_619b1240e6694ed19d20fa52ca45a157"
       ],
       "layout": "IPY_MODEL_2f8bf6d1de664edeabfdde58c4d69570"
      }
     },
     "269a29aaf2ea40fe8275a8cb5751e754": {
      "model_module": "@jupyter-widgets/base",
      "model_module_version": "1.1.0",
      "model_name": "LayoutModel",
      "state": {}
     },
     "26eb699bdc6445fca97add5463e40d01": {
      "model_module": "@jupyter-widgets/controls",
      "model_module_version": "1.4.0",
      "model_name": "ButtonStyleModel",
      "state": {}
     },
     "27263a0ce9304efbb568bcd1807331f4": {
      "model_module": "@jupyter-widgets/controls",
      "model_module_version": "1.4.0",
      "model_name": "VBoxModel",
      "state": {
       "children": [
        "IPY_MODEL_f59dae033dbd467383146ad1528be696",
        "IPY_MODEL_a1f93ca3b9cd47abafbccb9c4f4cd6d0"
       ],
       "layout": "IPY_MODEL_3d11d91e191346e1a85863d4a9f915ce"
      }
     },
     "275f2bf24aff485faaecccbf1de568f9": {
      "model_module": "@jupyter-widgets/controls",
      "model_module_version": "1.4.0",
      "model_name": "LabelModel",
      "state": {
       "layout": "IPY_MODEL_1b3507e416744b7aac9d67e704f2f570",
       "style": "IPY_MODEL_64fa9d4916374977941155000edcc5d2",
       "value": "Text :"
      }
     },
     "2785bfffc72244fd89ecf7a01ccc4019": {
      "model_module": "@jupyter-widgets/controls",
      "model_module_version": "1.4.0",
      "model_name": "DescriptionStyleModel",
      "state": {
       "description_width": ""
      }
     },
     "27878a370d8c424f96a9e714ac170ca4": {
      "model_module": "@jupyter-widgets/controls",
      "model_module_version": "1.4.0",
      "model_name": "ButtonModel",
      "state": {
       "button_style": "warning",
       "description": "Start Cytoscape!",
       "layout": "IPY_MODEL_c7fe0dade03940eaa096f95ceb45ac8a",
       "style": "IPY_MODEL_06b38609695b4962912473255f549b7d"
      }
     },
     "27b83e55e7514567b91b5fc2a2468dd8": {
      "model_module": "@jupyter-widgets/base",
      "model_module_version": "1.1.0",
      "model_name": "LayoutModel",
      "state": {}
     },
     "27ccdafb0c9a4cbaa8b6680d4b75429c": {
      "model_module": "@jupyter-widgets/controls",
      "model_module_version": "1.4.0",
      "model_name": "DescriptionStyleModel",
      "state": {
       "description_width": ""
      }
     },
     "27d7e807d40640818442110db16ca28f": {
      "model_module": "@jupyter-widgets/controls",
      "model_module_version": "1.4.0",
      "model_name": "DescriptionStyleModel",
      "state": {
       "description_width": ""
      }
     },
     "27dd0c8319f0456493241a010606632f": {
      "model_module": "@jupyter-widgets/controls",
      "model_module_version": "1.4.0",
      "model_name": "HBoxModel",
      "state": {
       "children": [
        "IPY_MODEL_2d6093c09c9b40228529c436bed0f1d9",
        "IPY_MODEL_8925e66e9f6149439f325d675e6d773b",
        "IPY_MODEL_5a02c14d59e648f6ba0950bbc465933d"
       ],
       "layout": "IPY_MODEL_5af1533d7293431aa2877a102a9167d0"
      }
     },
     "27f0f5cb34c747c48e5aa0e25a5cf7d5": {
      "model_module": "@jupyter-widgets/base",
      "model_module_version": "1.1.0",
      "model_name": "LayoutModel",
      "state": {}
     },
     "27f501397f804ff69cfa8d680c689a4c": {
      "model_module": "@jupyter-widgets/base",
      "model_module_version": "1.1.0",
      "model_name": "LayoutModel",
      "state": {}
     },
     "2823d8c397d4421eb21c4c53b2141bda": {
      "model_module": "@jupyter-widgets/base",
      "model_module_version": "1.1.0",
      "model_name": "LayoutModel",
      "state": {}
     },
     "283a9ddaed3d456089cd51971687d7c2": {
      "model_module": "@jupyter-widgets/controls",
      "model_module_version": "1.4.0",
      "model_name": "HTMLModel",
      "state": {
       "layout": "IPY_MODEL_3ece5c05791748cabde2a1a940aa45c7",
       "style": "IPY_MODEL_a70b89ad1f6d4d748f67229e82b07826",
       "value": "<h1 class='text-center text-success' style='margin:0'>Saved!</h1>"
      }
     },
     "2881edc76fbd4bcfbd9847b1fe8bbf1f": {
      "model_module": "@jupyter-widgets/base",
      "model_module_version": "1.1.0",
      "model_name": "LayoutModel",
      "state": {}
     },
     "28bd5de4cd0e40c6afc82802691280bc": {
      "model_module": "@jupyter-widgets/controls",
      "model_module_version": "1.4.0",
      "model_name": "HTMLModel",
      "state": {
       "layout": "IPY_MODEL_e4be05415cca4cea8709656e66f367ba",
       "style": "IPY_MODEL_04d55748a3494c3993aa82259c949eaa",
       "value": "<font size=3 style='justify-content: center;'>edgelength_median : </font>"
      }
     },
     "28d2a89d472941f2bc5062f447fd0b0b": {
      "model_module": "@jupyter-widgets/controls",
      "model_module_version": "1.4.0",
      "model_name": "DescriptionStyleModel",
      "state": {
       "description_width": ""
      }
     },
     "28e847bfdc62424cb4e1b4e014460292": {
      "model_module": "@jupyter-widgets/controls",
      "model_module_version": "1.4.0",
      "model_name": "HTMLModel",
      "state": {
       "layout": "IPY_MODEL_89d000d4f6574ba597cf4761a946c1eb",
       "style": "IPY_MODEL_7d9ba81afc444831abb3af6dda8d007f",
       "value": "<h5>Name  &nbsp</h5> "
      }
     },
     "2913b55fb0394ac193391f5ebba1e87e": {
      "model_module": "@jupyter-widgets/base",
      "model_module_version": "1.1.0",
      "model_name": "LayoutModel",
      "state": {
       "display": "none"
      }
     },
     "291ed7a68dd442069492d29bef331482": {
      "model_module": "@jupyter-widgets/controls",
      "model_module_version": "1.4.0",
      "model_name": "ButtonModel",
      "state": {
       "button_style": "danger",
       "description": "Remove",
       "layout": "IPY_MODEL_a9ff9b15501b4bbe94274a881ffcf899",
       "style": "IPY_MODEL_38afe52061a845c0b682e46e5e649174"
      }
     },
     "2945f457d973400e8ac909028086fc03": {
      "model_module": "@jupyter-widgets/base",
      "model_module_version": "1.1.0",
      "model_name": "LayoutModel",
      "state": {
       "padding": "10px 0px 0px 0px"
      }
     },
     "29528cc4efad478eadab56a3ac68e521": {
      "model_module": "@jupyter-widgets/controls",
      "model_module_version": "1.4.0",
      "model_name": "DescriptionStyleModel",
      "state": {
       "description_width": ""
      }
     },
     "2972dcfe0c294320a6b20d8a0819137b": {
      "model_module": "@jupyter-widgets/controls",
      "model_module_version": "1.4.0",
      "model_name": "HBoxModel",
      "state": {
       "children": [
        "IPY_MODEL_7863a6f7d37b45d38b034789e8d764da",
        "IPY_MODEL_33ef2875d7014ee2b2745f236229b552",
        "IPY_MODEL_a270c9d273bd4fe581e8aa3eb4b962eb"
       ],
       "layout": "IPY_MODEL_fdd4bf166b1043a68a3de388149cd4f8"
      }
     },
     "297d80590be447d894c2e7c1b11da359": {
      "model_module": "@jupyter-widgets/controls",
      "model_module_version": "1.4.0",
      "model_name": "ToggleButtonsStyleModel",
      "state": {
       "button_width": "",
       "description_width": ""
      }
     },
     "297f105f3e564fe4b368e6ada09d82a4": {
      "model_module": "@jupyter-widgets/base",
      "model_module_version": "1.1.0",
      "model_name": "LayoutModel",
      "state": {
       "visibility": "hidden"
      }
     },
     "29c58ff588ed45ceb6c21af6f43007c4": {
      "model_module": "@jupyter-widgets/base",
      "model_module_version": "1.1.0",
      "model_name": "LayoutModel",
      "state": {
       "display": "none"
      }
     },
     "2a031fb76d374bfdb29e4218bd1e02ae": {
      "model_module": "@jupyter-widgets/controls",
      "model_module_version": "1.4.0",
      "model_name": "DescriptionStyleModel",
      "state": {
       "description_width": ""
      }
     },
     "2a0375ebb51840a3bb5a809bd8f99156": {
      "model_module": "@jupyter-widgets/base",
      "model_module_version": "1.1.0",
      "model_name": "LayoutModel",
      "state": {}
     },
     "2a22e350b902450da6e5ef52be4f3003": {
      "model_module": "@jupyter-widgets/controls",
      "model_module_version": "1.4.0",
      "model_name": "FloatSliderModel",
      "state": {
       "layout": "IPY_MODEL_7db0b7a82ccb450bb63db5e0a98e0d55",
       "max": 1,
       "step": 0.05,
       "style": "IPY_MODEL_d8838c74c2e545878cad75d7dacd6606",
       "value": 0.5
      }
     },
     "2a554cda08324413a86a23aa0e4be8e2": {
      "model_module": "@jupyter-widgets/base",
      "model_module_version": "1.1.0",
      "model_name": "LayoutModel",
      "state": {
       "height": "80px",
       "width": "99%"
      }
     },
     "2aa73f4f6fb0423ba2314de2be8c7cc5": {
      "model_module": "@jupyter-widgets/base",
      "model_module_version": "1.1.0",
      "model_name": "LayoutModel",
      "state": {}
     },
     "2aadb27cd2d941c19e8df9ee0a4668f5": {
      "model_module": "@jupyter-widgets/controls",
      "model_module_version": "1.4.0",
      "model_name": "VBoxModel",
      "state": {
       "children": [
        "IPY_MODEL_d646125516ff48378b7a167a8c67815f",
        "IPY_MODEL_cf1c8aa8e00a4ee2bb9454427c8d3c21"
       ],
       "layout": "IPY_MODEL_e36aee04f5cb42c68cb0e0c41361756b"
      }
     },
     "2ae9d0ea97f345288f413f99036ee96b": {
      "model_module": "@jupyter-widgets/base",
      "model_module_version": "1.1.0",
      "model_name": "LayoutModel",
      "state": {}
     },
     "2c4191babd5d43338752272fe1f20245": {
      "model_module": "@jupyter-widgets/base",
      "model_module_version": "1.1.0",
      "model_name": "LayoutModel",
      "state": {}
     },
     "2c635721028b471c9c56558eb54ca203": {
      "model_module": "@jupyter-widgets/base",
      "model_module_version": "1.1.0",
      "model_name": "LayoutModel",
      "state": {}
     },
     "2c9db2dcc00f48fd9e7e4636d0a750ad": {
      "model_module": "@jupyter-widgets/base",
      "model_module_version": "1.1.0",
      "model_name": "LayoutModel",
      "state": {}
     },
     "2c9ea35746f241c0ab4c26a1340746e6": {
      "model_module": "@jupyter-widgets/controls",
      "model_module_version": "1.4.0",
      "model_name": "HTMLModel",
      "state": {
       "layout": "IPY_MODEL_df02a4f97109445c9f9d8367087042d8",
       "style": "IPY_MODEL_afeed8439d334cb1a91eda54bf23d8f6",
       "value": "<font size=3 style='justify-content: center;'>shared_name : </font>"
      }
     },
     "2cbc95ade70b475693e231c72a32af19": {
      "model_module": "@jupyter-widgets/controls",
      "model_module_version": "1.4.0",
      "model_name": "SliderStyleModel",
      "state": {
       "description_width": ""
      }
     },
     "2ce11d4af3d642508b694226f078e443": {
      "model_module": "@jupyter-widgets/controls",
      "model_module_version": "1.4.0",
      "model_name": "DescriptionStyleModel",
      "state": {
       "description_width": ""
      }
     },
     "2cef9e351d8b4a21966970c6632f1adb": {
      "model_module": "@jupyter-widgets/controls",
      "model_module_version": "1.4.0",
      "model_name": "DescriptionStyleModel",
      "state": {
       "description_width": ""
      }
     },
     "2cfc2a6a16ce41ba9cfa0ea52593b877": {
      "model_module": "@jupyter-widgets/base",
      "model_module_version": "1.1.0",
      "model_name": "LayoutModel",
      "state": {}
     },
     "2d01549cf9024b17be92273c190f9415": {
      "model_module": "@jupyter-widgets/base",
      "model_module_version": "1.1.0",
      "model_name": "LayoutModel",
      "state": {}
     },
     "2d14b2d71b9f4bc5a3700b5a75714928": {
      "model_module": "@jupyter-widgets/controls",
      "model_module_version": "1.4.0",
      "model_name": "VBoxModel",
      "state": {
       "children": [
        "IPY_MODEL_50962b116ffc49878c260d2d0ea9dbde",
        "IPY_MODEL_6b6e3935d9c94f7597f0e3fe0ec8bf99",
        "IPY_MODEL_d0ab506acda648d2ac9e23fecbc3758d",
        "IPY_MODEL_fcd74ff1aa3b43f09dcaa81d6949a884",
        "IPY_MODEL_cd78243d07c54e6792b4cdbff3b07ad2",
        "IPY_MODEL_9935d21ad0e04b8fb4d1fa202b122856",
        "IPY_MODEL_de77ed68575345f292ca6d75eba9db75",
        "IPY_MODEL_a067ff874f9343bea8e6578567a9f90b",
        "IPY_MODEL_c6ade00405b84e30829524eab8b9c38a",
        "IPY_MODEL_66a17c64f79349929da186d73e496b7d",
        "IPY_MODEL_379b8fff9ba144cf9aea5f1672ff50c6"
       ],
       "layout": "IPY_MODEL_086c146ba63641cf80d7048179c8cbf2"
      }
     },
     "2d1568ab1e41427e89ca18620a474045": {
      "model_module": "@jupyter-widgets/base",
      "model_module_version": "1.1.0",
      "model_name": "LayoutModel",
      "state": {
       "justify_content": "center",
       "padding": "10px 0px 0px 0px"
      }
     },
     "2d6093c09c9b40228529c436bed0f1d9": {
      "model_module": "@jupyter-widgets/controls",
      "model_module_version": "1.4.0",
      "model_name": "HTMLModel",
      "state": {
       "layout": "IPY_MODEL_5aff47ed277e4d5d92b19bb94070dd59",
       "style": "IPY_MODEL_62f8be7824b743b4b8fcd5b9f354cd82",
       "value": "<font size=3 style='justify-content: center;'>label_new : </font>"
      }
     },
     "2d6fd0a9f3c34ed69f7164902ad65adf": {
      "model_module": "@jupyter-widgets/base",
      "model_module_version": "1.1.0",
      "model_name": "LayoutModel",
      "state": {
       "width": "auto"
      }
     },
     "2d8a27cd50ae4e3a9da32eec4b3f472f": {
      "model_module": "@jupyter-widgets/controls",
      "model_module_version": "1.4.0",
      "model_name": "HTMLModel",
      "state": {
       "layout": "IPY_MODEL_b3a03af31b394f1aa5d0a5c459fc5f44",
       "style": "IPY_MODEL_c93bb4c907c14032baa06dc54bdc54f6",
       "value": "<h4 style='color: DarkKhaki'>Nodes</h4>"
      }
     },
     "2ddf45a08731472587f92d3f44b48f93": {
      "model_module": "@jupyter-widgets/base",
      "model_module_version": "1.1.0",
      "model_name": "LayoutModel",
      "state": {}
     },
     "2df5dc0410ce4a718a2704bdbda40d81": {
      "model_module": "@jupyter-widgets/controls",
      "model_module_version": "1.4.0",
      "model_name": "DescriptionStyleModel",
      "state": {
       "description_width": ""
      }
     },
     "2df83aea328e447083af2a9a7a5b6050": {
      "model_module": "@jupyter-widgets/controls",
      "model_module_version": "1.4.0",
      "model_name": "ButtonStyleModel",
      "state": {}
     },
     "2e19929cf9a343c4b9695cbd065260ef": {
      "model_module": "@jupyter-widgets/controls",
      "model_module_version": "1.4.0",
      "model_name": "LabelModel",
      "state": {
       "layout": "IPY_MODEL_89022742e9644dd58fe6070820e32861",
       "style": "IPY_MODEL_f0c08b8db17b4eb5a2ea6183e837fd20",
       "value": "Color :"
      }
     },
     "2e1a05be9c0a4713aede15a8d4b0d91b": {
      "model_module": "@jupyter-widgets/controls",
      "model_module_version": "1.4.0",
      "model_name": "DescriptionStyleModel",
      "state": {
       "description_width": ""
      }
     },
     "2e1f83da2d224cb1b6beb694f067a1c9": {
      "model_module": "@jupyter-widgets/controls",
      "model_module_version": "1.4.0",
      "model_name": "DescriptionStyleModel",
      "state": {
       "description_width": ""
      }
     },
     "2e3678e215df4a13aa4fd05aa1d605f6": {
      "model_module": "@jupyter-widgets/controls",
      "model_module_version": "1.4.0",
      "model_name": "DescriptionStyleModel",
      "state": {
       "description_width": ""
      }
     },
     "2e4249fee3434c7bbe8cb6f061d0293e": {
      "model_module": "@jupyter-widgets/base",
      "model_module_version": "1.1.0",
      "model_name": "LayoutModel",
      "state": {
       "align_items": "center"
      }
     },
     "2edd892341e64b4894951168075d24e9": {
      "model_module": "@jupyter-widgets/controls",
      "model_module_version": "1.4.0",
      "model_name": "DescriptionStyleModel",
      "state": {
       "description_width": ""
      }
     },
     "2f0b033040f54ad0a032e79cb1b67f94": {
      "model_module": "@jupyter-widgets/controls",
      "model_module_version": "1.4.0",
      "model_name": "FloatTextModel",
      "state": {
       "continuous_update": true,
       "layout": "IPY_MODEL_2030af172acf43d3b9a37e33ee6b3590",
       "step": null,
       "style": "IPY_MODEL_a351aa76fced4932a95e9c80cf8c3c54"
      }
     },
     "2f39cde769c24970a68f4d5362181f70": {
      "model_module": "@jupyter-widgets/controls",
      "model_module_version": "1.4.0",
      "model_name": "DescriptionStyleModel",
      "state": {
       "description_width": ""
      }
     },
     "2f658b16b3334ad790238156975957de": {
      "model_module": "@jupyter-widgets/controls",
      "model_module_version": "1.4.0",
      "model_name": "ButtonStyleModel",
      "state": {}
     },
     "2f8bf6d1de664edeabfdde58c4d69570": {
      "model_module": "@jupyter-widgets/base",
      "model_module_version": "1.1.0",
      "model_name": "LayoutModel",
      "state": {}
     },
     "2fa15b83de8e45b6ba9b0102fd8ec790": {
      "model_module": "@jupyter-widgets/controls",
      "model_module_version": "1.4.0",
      "model_name": "ButtonModel",
      "state": {
       "button_style": "danger",
       "description": "Remove",
       "layout": "IPY_MODEL_eff2de0f937f48a4aef2037abb3bed9d",
       "style": "IPY_MODEL_59a3862735b546f68511b31dbde34d59"
      }
     },
     "2fce28e32c89406c96a89c8def4a3d87": {
      "model_module": "@jupyter-widgets/base",
      "model_module_version": "1.1.0",
      "model_name": "LayoutModel",
      "state": {
       "padding": "10px 0px 0px 0px"
      }
     },
     "301a16e9fa1c48848c5996b0c2f7b50b": {
      "model_module": "@jupyter-widgets/base",
      "model_module_version": "1.1.0",
      "model_name": "LayoutModel",
      "state": {
       "display": "none"
      }
     },
     "30203e5bc1eb43c5955ad3af08218fa6": {
      "model_module": "@jupyter-widgets/controls",
      "model_module_version": "1.4.0",
      "model_name": "HBoxModel",
      "state": {
       "children": [
        "IPY_MODEL_451a5c846de54b5d8973bf36a0146977",
        "IPY_MODEL_f383600971824401b25608d9fb3cc499",
        "IPY_MODEL_f4ee1b8b0f1b4a5082703d458dab3604",
        "IPY_MODEL_33c354b9cd91410eae86baec5b5b0ab5"
       ],
       "layout": "IPY_MODEL_3215ecfdd6494d45aae27cc5433b1845"
      }
     },
     "304ca541d5b24e81827ac816dffb8fd8": {
      "model_module": "@jupyter-widgets/controls",
      "model_module_version": "1.4.0",
      "model_name": "DescriptionStyleModel",
      "state": {
       "description_width": ""
      }
     },
     "30a16f10a1374e71be50a4954300fc3c": {
      "model_module": "@jupyter-widgets/base",
      "model_module_version": "1.1.0",
      "model_name": "LayoutModel",
      "state": {
       "min_width": "30px"
      }
     },
     "30a3f6c8f203441699fcc4cc56e000e2": {
      "model_module": "@jupyter-widgets/base",
      "model_module_version": "1.1.0",
      "model_name": "LayoutModel",
      "state": {}
     },
     "3145ceb6eb1645b3a7f3d3ae9980f61f": {
      "model_module": "@jupyter-widgets/base",
      "model_module_version": "1.1.0",
      "model_name": "LayoutModel",
      "state": {
       "padding": "0 15px 0 35px"
      }
     },
     "319ddb8cb0b54e3cae161debe73ac6ed": {
      "model_module": "@jupyter-widgets/controls",
      "model_module_version": "1.4.0",
      "model_name": "DescriptionStyleModel",
      "state": {
       "description_width": ""
      }
     },
     "31a0326cde46400892cf500c78335cea": {
      "model_module": "@jupyter-widgets/controls",
      "model_module_version": "1.4.0",
      "model_name": "HBoxModel",
      "state": {
       "children": [
        "IPY_MODEL_7c0754de4ab540d6b6dca34c15573172",
        "IPY_MODEL_9e0190fb8d894f03a941745749f2ef76",
        "IPY_MODEL_16d17a23a7934ce1bf66170bded265a2"
       ],
       "layout": "IPY_MODEL_46be63148a1243c18b5d7748830ec7ad"
      }
     },
     "31a585358bc3478ab6cfd0c5c361bdbb": {
      "model_module": "@jupyter-widgets/controls",
      "model_module_version": "1.4.0",
      "model_name": "DescriptionStyleModel",
      "state": {
       "description_width": ""
      }
     },
     "31da47f69f9c45f7bc97b18dcac8d94f": {
      "model_module": "@jupyter-widgets/base",
      "model_module_version": "1.1.0",
      "model_name": "LayoutModel",
      "state": {}
     },
     "31ef2dac52e843dcaff38c0e52f63b63": {
      "model_module": "@jupyter-widgets/controls",
      "model_module_version": "1.4.0",
      "model_name": "DescriptionStyleModel",
      "state": {
       "description_width": ""
      }
     },
     "31fa12ef98cf4541ae045d70c345b29c": {
      "model_module": "@jupyter-widgets/base",
      "model_module_version": "1.1.0",
      "model_name": "LayoutModel",
      "state": {}
     },
     "3215778e20fe481c902cc2c9380ef80e": {
      "model_module": "@jupyter-widgets/base",
      "model_module_version": "1.1.0",
      "model_name": "LayoutModel",
      "state": {
       "height": "40px",
       "min_width": "50px",
       "width": "10%"
      }
     },
     "3215ecfdd6494d45aae27cc5433b1845": {
      "model_module": "@jupyter-widgets/base",
      "model_module_version": "1.1.0",
      "model_name": "LayoutModel",
      "state": {
       "align_items": "center"
      }
     },
     "3261f4c9195e4174959e8f23ada341e4": {
      "model_module": "@jupyter-widgets/base",
      "model_module_version": "1.1.0",
      "model_name": "LayoutModel",
      "state": {}
     },
     "329477cdfded467da9c4e3de78d7e174": {
      "model_module": "@jupyter-widgets/controls",
      "model_module_version": "1.4.0",
      "model_name": "HBoxModel",
      "state": {
       "children": [
        "IPY_MODEL_275f2bf24aff485faaecccbf1de568f9",
        "IPY_MODEL_77e3e1f2bdf8407f9550786c6085c9ba"
       ],
       "layout": "IPY_MODEL_aa096aa3976a49a69827301c51ec1286"
      }
     },
     "32b194eb8775429a80f4289361847200": {
      "model_module": "@jupyter-widgets/base",
      "model_module_version": "1.1.0",
      "model_name": "LayoutModel",
      "state": {}
     },
     "32ca7115106a4bebb2b42ad8faf5b08c": {
      "model_module": "@jupyter-widgets/controls",
      "model_module_version": "1.4.0",
      "model_name": "ButtonModel",
      "state": {
       "button_style": "danger",
       "description": "Remove",
       "layout": "IPY_MODEL_e962814df705491787e73ea377263ec6",
       "style": "IPY_MODEL_90cc27b8add64a78bbc777221605b12e"
      }
     },
     "333b0a2776544daf8b5746e27259a6d3": {
      "model_module": "@jupyter-widgets/controls",
      "model_module_version": "1.4.0",
      "model_name": "ToggleButtonModel",
      "state": {
       "button_style": "primary",
       "description": "Box",
       "layout": "IPY_MODEL_4e78d00f3642493c829a17c7ec908f66",
       "style": "IPY_MODEL_3ed245d3eb9e457387c5d330bdf407e8"
      }
     },
     "333b163a25fd49fe9daa5cb0a232cb4c": {
      "model_module": "@jupyter-widgets/controls",
      "model_module_version": "1.4.0",
      "model_name": "DescriptionStyleModel",
      "state": {
       "description_width": ""
      }
     },
     "335067815c834a00b1e390ad8dd2d3d1": {
      "model_module": "@jupyter-widgets/controls",
      "model_module_version": "1.4.0",
      "model_name": "DescriptionStyleModel",
      "state": {
       "description_width": ""
      }
     },
     "339a947dc2f44099be5063770f2fe2cc": {
      "model_module": "@jupyter-widgets/controls",
      "model_module_version": "1.4.0",
      "model_name": "HTMLModel",
      "state": {
       "layout": "IPY_MODEL_6c7e69aab3634e36bc2089a1c1cc7dd1",
       "style": "IPY_MODEL_ee7f266eed4448a3bf8690054388ab98",
       "value": "<font size=3 style='justify-content: center;'>SelfLoops : </font>"
      }
     },
     "339a9f5b32244266af1388e74d7645dd": {
      "model_module": "@jupyter-widgets/controls",
      "model_module_version": "1.4.0",
      "model_name": "DescriptionStyleModel",
      "state": {
       "description_width": ""
      }
     },
     "33c354b9cd91410eae86baec5b5b0ab5": {
      "model_module": "@jupyter-widgets/controls",
      "model_module_version": "1.4.0",
      "model_name": "ButtonModel",
      "state": {
       "button_style": "primary",
       "description": "Create",
       "layout": "IPY_MODEL_d3d501e8343d488c83d2a2d264c05ffd",
       "style": "IPY_MODEL_4247e8b54f15444f8390bfd6cef3121b"
      }
     },
     "33ef2875d7014ee2b2745f236229b552": {
      "model_module": "@jupyter-widgets/controls",
      "model_module_version": "1.4.0",
      "model_name": "TextModel",
      "state": {
       "layout": "IPY_MODEL_08ae0fa4bbd54289951edc07576cc13d",
       "style": "IPY_MODEL_feb0965ddeef41659046fc015804a95a"
      }
     },
     "3410401fbd124e4484a8725a9ac9dcdf": {
      "model_module": "@jupyter-widgets/controls",
      "model_module_version": "1.4.0",
      "model_name": "HTMLModel",
      "state": {
       "layout": "IPY_MODEL_f16db649a3044c0aa3d6c9d724f89895",
       "style": "IPY_MODEL_7a039df67aae400e9a0cfb146cf60614",
       "value": "<h5>Here you can load a <a href='https://www.datacamp.com/community/tutorials/pandas-tutorial-dataframe-python'>Pandas DataFrame</a>\n by typing the name of a <font color=\"blue\">Python Variable</font> .</h5>"
      }
     },
     "34219cd7fb3d40f1b12bf519c6ac161c": {
      "model_module": "@jupyter-widgets/controls",
      "model_module_version": "1.4.0",
      "model_name": "VBoxModel",
      "state": {
       "children": [
        "IPY_MODEL_2aadb27cd2d941c19e8df9ee0a4668f5",
        "IPY_MODEL_a1e90cecb7544bd39b3fbefbf23e4262"
       ],
       "layout": "IPY_MODEL_3444f82f22684a24bb69fd38d8b53cae"
      }
     },
     "3444f82f22684a24bb69fd38d8b53cae": {
      "model_module": "@jupyter-widgets/base",
      "model_module_version": "1.1.0",
      "model_name": "LayoutModel",
      "state": {}
     },
     "34521a76b9584a4abec8c19f3a9a15c6": {
      "model_module": "@jupyter-widgets/controls",
      "model_module_version": "1.4.0",
      "model_name": "HTMLModel",
      "state": {
       "layout": "IPY_MODEL_6f2c88a894bf4e19b76f82dbaeb85699",
       "style": "IPY_MODEL_ca69b9c98ef4448aaf3304d0f389c6a9",
       "value": "<font size=3 style='justify-content: center;'>Outdegree : </font>"
      }
     },
     "3468d28c4cee402db0c3cceeefca47a2": {
      "model_module": "@jupyter-widgets/base",
      "model_module_version": "1.1.0",
      "model_name": "LayoutModel",
      "state": {}
     },
     "3481d8fa75004f41b5ac1758814e5828": {
      "model_module": "@jupyter-widgets/controls",
      "model_module_version": "1.4.0",
      "model_name": "DropdownModel",
      "state": {
       "_options_labels": [
        "center",
        "top",
        "bottom",
        "left",
        "right"
       ],
       "index": 0,
       "layout": "IPY_MODEL_e54db1d32b534a079bf9b4c05d88d566",
       "style": "IPY_MODEL_ef7d06676cc545749ecd452d8bfccd76"
      }
     },
     "34c897a0ba8c4dcfbd6310081e792dac": {
      "model_module": "@jupyter-widgets/controls",
      "model_module_version": "1.4.0",
      "model_name": "HTMLModel",
      "state": {
       "layout": "IPY_MODEL_b3b57a0483dc477b8abd0e4828856e50",
       "style": "IPY_MODEL_2438fe05f6aa41b9905b20dbad814bef",
       "value": "<h3 class='text-center' style='color:red'>Error in .html File</h3>"
      }
     },
     "34e0418d5c1d4a8da8bd47889d5039f6": {
      "model_module": "@jupyter-widgets/base",
      "model_module_version": "1.1.0",
      "model_name": "LayoutModel",
      "state": {}
     },
     "34fed0a69ef14421a2c0ea3b548a090f": {
      "model_module": "@jupyter-widgets/base",
      "model_module_version": "1.1.0",
      "model_name": "LayoutModel",
      "state": {}
     },
     "3515aba3dd6c4c668637fff1c5f7c12b": {
      "model_module": "@jupyter-widgets/controls",
      "model_module_version": "1.4.0",
      "model_name": "DescriptionStyleModel",
      "state": {
       "description_width": ""
      }
     },
     "35803e8f6c654c53b9844c727ac617f2": {
      "model_module": "@jupyter-widgets/controls",
      "model_module_version": "1.4.0",
      "model_name": "VBoxModel",
      "state": {
       "layout": "IPY_MODEL_210f56f16aa342e58f378e660aae7d4f"
      }
     },
     "3583f68d37c442e28f1d09db7faa0f09": {
      "model_module": "@jupyter-widgets/controls",
      "model_module_version": "1.4.0",
      "model_name": "PasswordModel",
      "state": {
       "description": "Password :",
       "layout": "IPY_MODEL_f7e80b43cb794ebfb702c142c2bdd525",
       "style": "IPY_MODEL_f8b3f5b864004e5c9de8102872fe31a1"
      }
     },
     "35a3650d2fd34cad90b0f56bea85d67c": {
      "model_module": "@jupyter-widgets/base",
      "model_module_version": "1.1.0",
      "model_name": "LayoutModel",
      "state": {}
     },
     "35a55090ad414dd2b85d53aec90f1cef": {
      "model_module": "@jupyter-widgets/base",
      "model_module_version": "1.1.0",
      "model_name": "LayoutModel",
      "state": {}
     },
     "35e1cdf0c98c4b53bbd463a77a9e1b95": {
      "model_module": "@jupyter-widgets/controls",
      "model_module_version": "1.4.0",
      "model_name": "DescriptionStyleModel",
      "state": {
       "description_width": ""
      }
     },
     "365d2085603e493ab893d6e7aa2e3759": {
      "model_module": "@jupyter-widgets/controls",
      "model_module_version": "1.4.0",
      "model_name": "LabelModel",
      "state": {
       "layout": "IPY_MODEL_49048d1080dc4026bcc442b74ccc81a6",
       "style": "IPY_MODEL_94f67fa82064418b9b37e2a712cf2f39",
       "value": "End"
      }
     },
     "36b3455b541b4da0943ea286d4da7712": {
      "model_module": "@jupyter-widgets/controls",
      "model_module_version": "1.4.0",
      "model_name": "HBoxModel",
      "state": {
       "children": [
        "IPY_MODEL_3c25332d3afc4cc98100f9346de6c34b",
        "IPY_MODEL_8417ceb990654d9f8705c5883addb3fd",
        "IPY_MODEL_7b6c3aa928724558b6c52060230b145e"
       ],
       "layout": "IPY_MODEL_bdc53899499c452f9001db7d950b91e1"
      }
     },
     "36c76824cbc84f91ac69d9a1310b8e7e": {
      "model_module": "@jupyter-widgets/controls",
      "model_module_version": "1.4.0",
      "model_name": "ButtonModel",
      "state": {
       "button_style": "danger",
       "description": "Remove",
       "layout": "IPY_MODEL_f6352f56feb347419e24afa494844df0",
       "style": "IPY_MODEL_a65bbd29f91e406b849ad5e82f255f30"
      }
     },
     "3726f5fef2434badb89aee36eeb368cc": {
      "model_module": "@jupyter-widgets/base",
      "model_module_version": "1.1.0",
      "model_name": "LayoutModel",
      "state": {}
     },
     "373135e5ef644bd89aecc17ec2593369": {
      "model_module": "@jupyter-widgets/base",
      "model_module_version": "1.1.0",
      "model_name": "LayoutModel",
      "state": {}
     },
     "37668ae6b05546ab8ec4024f639c19f6": {
      "model_module": "@jupyter-widgets/controls",
      "model_module_version": "1.4.0",
      "model_name": "DescriptionStyleModel",
      "state": {
       "description_width": ""
      }
     },
     "379b8fff9ba144cf9aea5f1672ff50c6": {
      "model_module": "@jupyter-widgets/controls",
      "model_module_version": "1.4.0",
      "model_name": "HBoxModel",
      "state": {
       "children": [
        "IPY_MODEL_862f911b8e4c44c398b17e619d13bad8",
        "IPY_MODEL_cb4ddf309b424a58aaed76d87de5cbc6"
       ],
       "layout": "IPY_MODEL_c30be8cd547e4c5a82d5f18437422fdb"
      }
     },
     "37ead5f138514146b44e7c1571a90271": {
      "model_module": "@jupyter-widgets/base",
      "model_module_version": "1.1.0",
      "model_name": "LayoutModel",
      "state": {}
     },
     "37ffe6ed10bb4ab9bd79016a44bc9208": {
      "model_module": "@jupyter-widgets/controls",
      "model_module_version": "1.4.0",
      "model_name": "DescriptionStyleModel",
      "state": {
       "description_width": ""
      }
     },
     "38a500b707844987a17a692e11fcdec7": {
      "model_module": "@jupyter-widgets/controls",
      "model_module_version": "1.4.0",
      "model_name": "DescriptionStyleModel",
      "state": {
       "description_width": ""
      }
     },
     "38a9609fa0c4404cb4987cc801286b9e": {
      "model_module": "@jupyter-widgets/controls",
      "model_module_version": "1.4.0",
      "model_name": "HTMLModel",
      "state": {
       "layout": "IPY_MODEL_297f105f3e564fe4b368e6ada09d82a4",
       "style": "IPY_MODEL_a3e4cf13629241f09b9d8101ae9366b5",
       "value": " <h3 class='text-center text-success' style='margin:0'> Saved!</h3>"
      }
     },
     "38afe52061a845c0b682e46e5e649174": {
      "model_module": "@jupyter-widgets/controls",
      "model_module_version": "1.4.0",
      "model_name": "ButtonStyleModel",
      "state": {}
     },
     "38c0621a56c941eabd80a7f44c79c4ac": {
      "model_module": "@jupyter-widgets/controls",
      "model_module_version": "1.4.0",
      "model_name": "DescriptionStyleModel",
      "state": {
       "description_width": ""
      }
     },
     "38e033e139f44b079cb37f04b27c56b4": {
      "model_module": "@jupyter-widgets/controls",
      "model_module_version": "1.4.0",
      "model_name": "DescriptionStyleModel",
      "state": {
       "description_width": ""
      }
     },
     "3903c4dc19994534bcc600a7e0620775": {
      "model_module": "@jupyter-widgets/controls",
      "model_module_version": "1.4.0",
      "model_name": "HBoxModel",
      "state": {
       "children": [
        "IPY_MODEL_0bb3ba0311774b86a18d21631ecb6616",
        "IPY_MODEL_a968fa4649524ff09f06d55b748ad6a4"
       ],
       "layout": "IPY_MODEL_7861540814c34d0bb621072d7cdff86c"
      }
     },
     "3940e06ab3814f1ea455c9040213a56e": {
      "model_module": "@jupyter-widgets/controls",
      "model_module_version": "1.4.0",
      "model_name": "HTMLModel",
      "state": {
       "layout": "IPY_MODEL_3145ceb6eb1645b3a7f3d3ae9980f61f",
       "style": "IPY_MODEL_9268cb1ea8144d6697a5b8dc0789c43e",
       "value": "<h5>Here you save your graph as a <a href='https://www.datacamp.com/community/tutorials/pandas-tutorial-dataframe-python'>Pandas DataFrame</a>.\nType the name of the <font color=\"blue\">Python variable</font> you want.</h5>"
      }
     },
     "395d3f47b49a48b68b5bcd81e5273747": {
      "model_module": "@jupyter-widgets/base",
      "model_module_version": "1.1.0",
      "model_name": "LayoutModel",
      "state": {}
     },
     "39955932fe6d4376a2c02517a06a5bed": {
      "model_module": "@jupyter-widgets/base",
      "model_module_version": "1.1.0",
      "model_name": "LayoutModel",
      "state": {}
     },
     "399a0be12bdc486093737044433c7905": {
      "model_module": "@jupyter-widgets/base",
      "model_module_version": "1.1.0",
      "model_name": "LayoutModel",
      "state": {}
     },
     "39dbcc1f100c4c4c8947564a8e6fb50f": {
      "model_module": "@jupyter-widgets/controls",
      "model_module_version": "1.4.0",
      "model_name": "ButtonStyleModel",
      "state": {}
     },
     "39e20a7e5314441cad3f3accd02b6eb1": {
      "model_module": "@jupyter-widgets/controls",
      "model_module_version": "1.4.0",
      "model_name": "ButtonModel",
      "state": {
       "button_style": "danger",
       "description": "Remove",
       "layout": "IPY_MODEL_9b223d4f35544ed4b6c974b406250144",
       "style": "IPY_MODEL_ccfa02bd3b7e49579dc1d9da414e6236"
      }
     },
     "3a166762bb914978bd6a05a59d7ef667": {
      "model_module": "@jupyter-widgets/base",
      "model_module_version": "1.1.0",
      "model_name": "LayoutModel",
      "state": {}
     },
     "3a46ce3775644f97ab41f007a1aa8ff5": {
      "model_module": "@jupyter-widgets/controls",
      "model_module_version": "1.4.0",
      "model_name": "DescriptionStyleModel",
      "state": {
       "description_width": ""
      }
     },
     "3a4f72789b114d06918f6e2f7b9b0680": {
      "model_module": "@jupyter-widgets/controls",
      "model_module_version": "1.4.0",
      "model_name": "TextModel",
      "state": {
       "description": "Username :",
       "layout": "IPY_MODEL_25cfb2bc515e436c867f4eb7b58e21a1",
       "style": "IPY_MODEL_35e1cdf0c98c4b53bbd463a77a9e1b95"
      }
     },
     "3a66f89eeba0443b84f37e55d3407b25": {
      "model_module": "@jupyter-widgets/base",
      "model_module_version": "1.1.0",
      "model_name": "LayoutModel",
      "state": {}
     },
     "3a9606f7d16445d7b50ae087b4395b51": {
      "model_module": "@jupyter-widgets/controls",
      "model_module_version": "1.4.0",
      "model_name": "ButtonStyleModel",
      "state": {}
     },
     "3ad66ba7aab94827bbd7538290fe4e85": {
      "model_module": "@jupyter-widgets/controls",
      "model_module_version": "1.4.0",
      "model_name": "LabelModel",
      "state": {
       "layout": "IPY_MODEL_d20d58cbd7fd481f9ab906dd86596881",
       "style": "IPY_MODEL_fa1011e0e30e442a82c62044c87c9aaf",
       "value": "Size :"
      }
     },
     "3af30e7731e44c90a5b3a125f7c42611": {
      "model_module": "@jupyter-widgets/controls",
      "model_module_version": "1.4.0",
      "model_name": "DropdownModel",
      "state": {
       "_options_labels": [
        "ellipse",
        "triangle",
        "rectangle",
        "rhomboid",
        "diamond",
        "pentagon",
        "hexagon",
        "concavehexagon",
        "heptagon",
        "octagon",
        "star",
        "tag",
        "vee"
       ],
       "index": 0,
       "layout": "IPY_MODEL_f888a3e945b84280bd48bc97a7184a60",
       "style": "IPY_MODEL_a8c5748abe5245118e3fd2bcceb734ab"
      }
     },
     "3afd6babca8c4508bda7e0b500aa8045": {
      "model_module": "@jupyter-widgets/controls",
      "model_module_version": "1.4.0",
      "model_name": "HBoxModel",
      "state": {
       "children": [
        "IPY_MODEL_18638ff6cffb4cac8583e4eeac9a1af0",
        "IPY_MODEL_ab1945c74e03499b93636bb7f6eee9d9",
        "IPY_MODEL_16d1ec6671f74490bb401132663400e1"
       ],
       "layout": "IPY_MODEL_ab8d8cfca2674c93a6708ab07366b595"
      }
     },
     "3b23822fc48b4fa6a505991821d1b921": {
      "model_module": "@jupyter-widgets/controls",
      "model_module_version": "1.4.0",
      "model_name": "HBoxModel",
      "state": {
       "children": [
        "IPY_MODEL_db502f9dae5640399e0a407de10b25bb"
       ],
       "layout": "IPY_MODEL_721f5a37b7194442aba901c086670faa"
      }
     },
     "3b40c67e1ec246b6b917d54527cb38b1": {
      "model_module": "@jupyter-widgets/base",
      "model_module_version": "1.1.0",
      "model_name": "LayoutModel",
      "state": {
       "padding": "10px 0px 0px 0px"
      }
     },
     "3bb09a071c7140a79ae8a2659d6d4707": {
      "model_module": "@jupyter-widgets/controls",
      "model_module_version": "1.4.0",
      "model_name": "ButtonModel",
      "state": {
       "button_style": "danger",
       "description": "Remove",
       "layout": "IPY_MODEL_091529478c0443f98b429ae43fe4024e",
       "style": "IPY_MODEL_2df83aea328e447083af2a9a7a5b6050"
      }
     },
     "3bb2f7466b7f429c894500ea9682c8f4": {
      "model_module": "@jupyter-widgets/controls",
      "model_module_version": "1.4.0",
      "model_name": "ToggleButtonModel",
      "state": {
       "button_style": "info",
       "description": "Border",
       "layout": "IPY_MODEL_9745f82d836b4d9590a45b98ddfeaffa",
       "style": "IPY_MODEL_afeb138332c0461897f98d2e16dbf70a"
      }
     },
     "3bc752b5f65d411ebed7294c74ab9943": {
      "model_module": "@jupyter-widgets/controls",
      "model_module_version": "1.4.0",
      "model_name": "DescriptionStyleModel",
      "state": {
       "description_width": ""
      }
     },
     "3bd9f1bebe794ffe803a89d56d900b6b": {
      "model_module": "@jupyter-widgets/base",
      "model_module_version": "1.1.0",
      "model_name": "LayoutModel",
      "state": {}
     },
     "3be504abcce3466c88d8c1ca3dd60dbe": {
      "model_module": "@jupyter-widgets/base",
      "model_module_version": "1.1.0",
      "model_name": "LayoutModel",
      "state": {}
     },
     "3bf3d7755f03489ebec6960bc6e8c6e8": {
      "model_module": "@jupyter-widgets/controls",
      "model_module_version": "1.4.0",
      "model_name": "DescriptionStyleModel",
      "state": {
       "description_width": ""
      }
     },
     "3c25332d3afc4cc98100f9346de6c34b": {
      "model_module": "@jupyter-widgets/controls",
      "model_module_version": "1.4.0",
      "model_name": "HTMLModel",
      "state": {
       "layout": "IPY_MODEL_c802b313d9964c338d946ca857c6d2fe",
       "style": "IPY_MODEL_12db8bb6f8ef48f38641d7bea01d754d",
       "value": "<font size=3 style='justify-content: center;'>AverageShortestPathLength : </font>"
      }
     },
     "3c2e1818d1ff4e7a80593412dcb991fe": {
      "model_module": "@jupyter-widgets/base",
      "model_module_version": "1.1.0",
      "model_name": "LayoutModel",
      "state": {}
     },
     "3c990e2188a84157b8df1fa8afadfc60": {
      "model_module": "@jupyter-widgets/base",
      "model_module_version": "1.1.0",
      "model_name": "LayoutModel",
      "state": {}
     },
     "3cd5547f5be14d4d965790519010f166": {
      "model_module": "@jupyter-widgets/controls",
      "model_module_version": "1.4.0",
      "model_name": "ButtonModel",
      "state": {
       "button_style": "danger",
       "description": "Remove",
       "layout": "IPY_MODEL_7ea0b4629b444097a6b299f6b8d7df9b",
       "style": "IPY_MODEL_3a9606f7d16445d7b50ae087b4395b51"
      }
     },
     "3cd6ddacfc0140e290f6e4b0059f63b4": {
      "model_module": "@jupyter-widgets/controls",
      "model_module_version": "1.4.0",
      "model_name": "HTMLModel",
      "state": {
       "layout": "IPY_MODEL_99e49cdfca164c4c931108555770e1ce",
       "style": "IPY_MODEL_8520b8a39f184cad938fa9ad18532475",
       "value": "<font size=3 style='justify-content: center;'>ClusteringCoefficient : </font>"
      }
     },
     "3ce12bb3c8354ea39a0ded9db02369f2": {
      "model_module": "@jupyter-widgets/base",
      "model_module_version": "1.1.0",
      "model_name": "LayoutModel",
      "state": {
       "width": "auto"
      }
     },
     "3d08b69afe974bcca11c36f2bea170e0": {
      "model_module": "@jupyter-widgets/base",
      "model_module_version": "1.1.0",
      "model_name": "LayoutModel",
      "state": {}
     },
     "3d11d91e191346e1a85863d4a9f915ce": {
      "model_module": "@jupyter-widgets/base",
      "model_module_version": "1.1.0",
      "model_name": "LayoutModel",
      "state": {}
     },
     "3d43f2fb0742408081d8cadc6b46c272": {
      "model_module": "@jupyter-widgets/base",
      "model_module_version": "1.1.0",
      "model_name": "LayoutModel",
      "state": {
       "padding": "0px 0px 10px 0px"
      }
     },
     "3d45496dd2f84aa98142d0bfc5bc3ed2": {
      "model_module": "@jupyter-widgets/controls",
      "model_module_version": "1.4.0",
      "model_name": "AccordionModel",
      "state": {
       "_titles": {
        "0": "Style",
        "1": "Label",
        "2": "Variables"
       },
       "children": [
        "IPY_MODEL_de5dbae7fdd142f1a3601a2732240b6d",
        "IPY_MODEL_4ffc0d0ddb0d46d3b3a5a99078ffb929",
        "IPY_MODEL_741d75bc713e47e3b16ce136dbd281db"
       ],
       "layout": "IPY_MODEL_7d26dd89c8af47b3a95b9aafc18855e6"
      }
     },
     "3d52f29de8a04ff8a10f68979f820fc0": {
      "model_module": "@jupyter-widgets/controls",
      "model_module_version": "1.4.0",
      "model_name": "DescriptionStyleModel",
      "state": {
       "description_width": ""
      }
     },
     "3d5f7bf3847d4456affe17d59d65a0fd": {
      "model_module": "@jupyter-widgets/controls",
      "model_module_version": "1.4.0",
      "model_name": "ButtonModel",
      "state": {
       "button_style": "danger",
       "description": "Remove",
       "layout": "IPY_MODEL_dcdcaa5012664455995b09034f82902e",
       "style": "IPY_MODEL_e17fdb39c1d845ebbff9333c4b975c4d"
      }
     },
     "3d6bb881ca51406f91ff51e7c689efb8": {
      "model_module": "@jupyter-widgets/controls",
      "model_module_version": "1.4.0",
      "model_name": "DescriptionStyleModel",
      "state": {
       "description_width": ""
      }
     },
     "3d939b3b6abd41c09fe8316521dc7ec9": {
      "model_module": "@jupyter-widgets/controls",
      "model_module_version": "1.4.0",
      "model_name": "HBoxModel",
      "state": {
       "children": [
        "IPY_MODEL_dca5ea25b46e47648c5c399321465c64",
        "IPY_MODEL_46dfb702d63c4f028b74ac4bfa2e5322",
        "IPY_MODEL_9e7360be7583413e8bb6541741c8c385"
       ],
       "layout": "IPY_MODEL_2e4249fee3434c7bbe8cb6f061d0293e"
      }
     },
     "3dfa4f477d77448999abf5b33fdb5b63": {
      "model_module": "@jupyter-widgets/base",
      "model_module_version": "1.1.0",
      "model_name": "LayoutModel",
      "state": {
       "width": "auto"
      }
     },
     "3dfedbc00da2408b8f17d0baee8ec3c6": {
      "model_module": "@jupyter-widgets/base",
      "model_module_version": "1.1.0",
      "model_name": "LayoutModel",
      "state": {
       "margin": "10px 0 0 0",
       "width": "auto"
      }
     },
     "3e648ef05a7b412cae09788ec640367a": {
      "model_module": "@jupyter-widgets/base",
      "model_module_version": "1.1.0",
      "model_name": "LayoutModel",
      "state": {}
     },
     "3e6c43b08b2b4a5d92f9bef5ed7fa832": {
      "model_module": "@jupyter-widgets/base",
      "model_module_version": "1.1.0",
      "model_name": "LayoutModel",
      "state": {
       "padding": "10px 0px 0px 0px"
      }
     },
     "3e951cc2c384456d9bd117357bbc3100": {
      "model_module": "@jupyter-widgets/controls",
      "model_module_version": "1.4.0",
      "model_name": "DescriptionStyleModel",
      "state": {
       "description_width": ""
      }
     },
     "3eb3d46db78e43ffba48af1e45b692e9": {
      "model_module": "@jupyter-widgets/base",
      "model_module_version": "1.1.0",
      "model_name": "LayoutModel",
      "state": {}
     },
     "3ece5c05791748cabde2a1a940aa45c7": {
      "model_module": "@jupyter-widgets/base",
      "model_module_version": "1.1.0",
      "model_name": "LayoutModel",
      "state": {
       "visibility": "hidden"
      }
     },
     "3ed245d3eb9e457387c5d330bdf407e8": {
      "model_module": "@jupyter-widgets/controls",
      "model_module_version": "1.4.0",
      "model_name": "DescriptionStyleModel",
      "state": {
       "description_width": ""
      }
     },
     "3f5326f910614fd283e67509dd11aed1": {
      "model_module": "@jupyter-widgets/controls",
      "model_module_version": "1.4.0",
      "model_name": "HTMLModel",
      "state": {
       "layout": "IPY_MODEL_ad13811be85e4b829972a70dcca1c54d",
       "style": "IPY_MODEL_4870cc53d67a4fbc9d84418b61f349df",
       "value": "<font size=3 style='justify-content: center;'>EdgeBetweenness : </font>"
      }
     },
     "3fa857ba7b7c43fb89cc0a311f7dee34": {
      "model_module": "@jupyter-widgets/base",
      "model_module_version": "1.1.0",
      "model_name": "LayoutModel",
      "state": {}
     },
     "3fdaf958ec994f3b8b695eaa1107ebf3": {
      "model_module": "@jupyter-widgets/controls",
      "model_module_version": "1.4.0",
      "model_name": "HBoxModel",
      "state": {
       "children": [
        "IPY_MODEL_28e847bfdc62424cb4e1b4e014460292",
        "IPY_MODEL_58b02c6cd1464ea5b2550951a66e1644",
        "IPY_MODEL_584838c336014376ac612fa48f3d0b26",
        "IPY_MODEL_e2b22dbf137e4816a710058879867148"
       ],
       "layout": "IPY_MODEL_b60abc1f86ba4ea4b65111aa733e5cfc"
      }
     },
     "3ffb8017cb6b4439a5803dd241a6526a": {
      "model_module": "@jupyter-widgets/base",
      "model_module_version": "1.1.0",
      "model_name": "LayoutModel",
      "state": {
       "padding": "10px 0px 0px 0px"
      }
     },
     "400207539cef4bcbb34a7058f342f1e4": {
      "model_module": "@jupyter-widgets/controls",
      "model_module_version": "1.4.0",
      "model_name": "DescriptionStyleModel",
      "state": {
       "description_width": ""
      }
     },
     "4008ca58c837423793ebea0ba8f8d664": {
      "model_module": "@jupyter-widgets/base",
      "model_module_version": "1.1.0",
      "model_name": "LayoutModel",
      "state": {
       "width": "auto"
      }
     },
     "4035f6c4767d4e648cdb60db1a20c3fb": {
      "model_module": "@jupyter-widgets/controls",
      "model_module_version": "1.4.0",
      "model_name": "DescriptionStyleModel",
      "state": {
       "description_width": ""
      }
     },
     "405fc21dbf0c4660acf9d2392b7d5ce0": {
      "model_module": "@jupyter-widgets/controls",
      "model_module_version": "1.4.0",
      "model_name": "ToggleButtonModel",
      "state": {
       "button_style": "info",
       "description": "Border",
       "layout": "IPY_MODEL_b22c51fefc5b44b890256d619e325999",
       "style": "IPY_MODEL_74e5f4ecafac452084e3c41e509ae643"
      }
     },
     "4065f8a42b5b440fb4770be1325802ab": {
      "model_module": "@jupyter-widgets/controls",
      "model_module_version": "1.4.0",
      "model_name": "VBoxModel",
      "state": {
       "children": [
        "IPY_MODEL_f7226cec57754dfca71b9dfd824013f6",
        "IPY_MODEL_3fdaf958ec994f3b8b695eaa1107ebf3",
        "IPY_MODEL_76f0a616243c4bc195a1fd6930f0eeb1"
       ],
       "layout": "IPY_MODEL_f86f327c781f49e98965390d0f4ad7af"
      }
     },
     "406eb9fe457a498aa581e811774824d7": {
      "model_module": "@jupyter-widgets/controls",
      "model_module_version": "1.4.0",
      "model_name": "DescriptionStyleModel",
      "state": {
       "description_width": ""
      }
     },
     "4075f88c86e343b086c7ec75f2a52154": {
      "model_module": "@jupyter-widgets/controls",
      "model_module_version": "1.4.0",
      "model_name": "DescriptionStyleModel",
      "state": {
       "description_width": ""
      }
     },
     "40813680aac34cc4abd353e2536bb475": {
      "model_module": "@jupyter-widgets/controls",
      "model_module_version": "1.4.0",
      "model_name": "LabelModel",
      "state": {
       "layout": "IPY_MODEL_4a2de12c7d9c42689b6cab44c62af7e2",
       "style": "IPY_MODEL_d019a839497540b1a971623a8b9a2202",
       "value": "    "
      }
     },
     "40c4d2bad9864357b36bafb3156ccec9": {
      "model_module": "@jupyter-widgets/controls",
      "model_module_version": "1.4.0",
      "model_name": "ButtonStyleModel",
      "state": {}
     },
     "40ef3a2b022c45d69efd9a90e3523232": {
      "model_module": "@jupyter-widgets/controls",
      "model_module_version": "1.4.0",
      "model_name": "HTMLModel",
      "state": {
       "layout": "IPY_MODEL_6fa9b1cf574c41a3887a6e9a68e0a6e1",
       "style": "IPY_MODEL_c020f7956aa84fb5b0bd4dbc91fc3af9",
       "value": "<font size=3 style='justify-content: center;'>degree_layout : </font>"
      }
     },
     "40f8c8add99f427dbf5e05376ecf5251": {
      "model_module": "@jupyter-widgets/base",
      "model_module_version": "1.1.0",
      "model_name": "LayoutModel",
      "state": {}
     },
     "41633c3dfbf243e6b560d2423b5d32f7": {
      "model_module": "@jupyter-widgets/base",
      "model_module_version": "1.1.0",
      "model_name": "LayoutModel",
      "state": {}
     },
     "417a74955f0e4272baec5a5dfaa82c4d": {
      "model_module": "@jupyter-widgets/controls",
      "model_module_version": "1.4.0",
      "model_name": "ButtonStyleModel",
      "state": {}
     },
     "41db3b9fb56347ddb9017e1aa06082c7": {
      "model_module": "@jupyter-widgets/base",
      "model_module_version": "1.1.0",
      "model_name": "LayoutModel",
      "state": {}
     },
     "41e627ecc2514339a670aedf1dd25598": {
      "model_module": "@jupyter-widgets/controls",
      "model_module_version": "1.4.0",
      "model_name": "ButtonModel",
      "state": {
       "button_style": "success",
       "description": "Save",
       "layout": "IPY_MODEL_db75f07180544db5a46dcf67a171c746",
       "style": "IPY_MODEL_7502dd631b8a4a7daeb24d69752fd736"
      }
     },
     "41fa7f42bc454b8d9b2524bdafe363ed": {
      "model_module": "@jupyter-widgets/controls",
      "model_module_version": "1.4.0",
      "model_name": "HBoxModel",
      "state": {
       "children": [
        "IPY_MODEL_34521a76b9584a4abec8c19f3a9a15c6",
        "IPY_MODEL_6ef9596ba7064e57973d2a30e5aaf321",
        "IPY_MODEL_d302b06e0c3f466793716e09c97bfd47"
       ],
       "layout": "IPY_MODEL_d72cac4b46064ecdbf956b3851b63d11"
      }
     },
     "42090f2a5ac24d50a6ed4fc01e8c1bfb": {
      "model_module": "@jupyter-widgets/base",
      "model_module_version": "1.1.0",
      "model_name": "LayoutModel",
      "state": {}
     },
     "421caa96dcc744bba8e64c92cf8d205e": {
      "model_module": "@jupyter-widgets/controls",
      "model_module_version": "1.4.0",
      "model_name": "SliderStyleModel",
      "state": {
       "description_width": ""
      }
     },
     "423deb8ae0764e87ae8d907d7da2637e": {
      "model_module": "@jupyter-widgets/controls",
      "model_module_version": "1.4.0",
      "model_name": "LabelModel",
      "state": {
       "layout": "IPY_MODEL_b9c741b5f336413f800e4b852b540059",
       "style": "IPY_MODEL_090fe08b16994c73b3c10de0e47aeb61",
       "value": "Style"
      }
     },
     "4247e8b54f15444f8390bfd6cef3121b": {
      "model_module": "@jupyter-widgets/controls",
      "model_module_version": "1.4.0",
      "model_name": "ButtonStyleModel",
      "state": {}
     },
     "4292642ba4ba41599dd524ecb3bc4d2b": {
      "model_module": "@jupyter-widgets/controls",
      "model_module_version": "1.4.0",
      "model_name": "DescriptionStyleModel",
      "state": {
       "description_width": ""
      }
     },
     "42c35c23070f4f3c9573a3b81e16e69e": {
      "model_module": "@jupyter-widgets/controls",
      "model_module_version": "1.4.0",
      "model_name": "DescriptionStyleModel",
      "state": {
       "description_width": ""
      }
     },
     "42f8ea0339194107aadc71c69402f6c9": {
      "model_module": "@jupyter-widgets/base",
      "model_module_version": "1.1.0",
      "model_name": "LayoutModel",
      "state": {
       "visibility": "hidden"
      }
     },
     "430e4f03e62b4022813b5fa47ddd2e6d": {
      "model_module": "@jupyter-widgets/controls",
      "model_module_version": "1.4.0",
      "model_name": "HBoxModel",
      "state": {
       "children": [
        "IPY_MODEL_92c9165e303b493ba00f626dafb11c2e",
        "IPY_MODEL_a92853492ec94af2aea1a8d0e418489d"
       ],
       "layout": "IPY_MODEL_16372eced5124598819971efef3b79ec"
      }
     },
     "433862a36b4b4ec8b11717fade13dc7e": {
      "model_module": "@jupyter-widgets/base",
      "model_module_version": "1.1.0",
      "model_name": "LayoutModel",
      "state": {}
     },
     "4363327d7bc24fc39407b796061e53fa": {
      "model_module": "@jupyter-widgets/controls",
      "model_module_version": "1.4.0",
      "model_name": "HBoxModel",
      "state": {
       "children": [
        "IPY_MODEL_339a947dc2f44099be5063770f2fe2cc",
        "IPY_MODEL_4671b2e3e189473b993a8e0242b75aee",
        "IPY_MODEL_65d3cba7d5024eb584afad242309785b"
       ],
       "layout": "IPY_MODEL_e88a804679d84152ae915d6b1e25e353"
      }
     },
     "4383a7aadfb447abb786033971d2ed08": {
      "model_module": "@jupyter-widgets/base",
      "model_module_version": "1.1.0",
      "model_name": "LayoutModel",
      "state": {}
     },
     "43960048de0e4f6995719f218186bad7": {
      "model_module": "@jupyter-widgets/controls",
      "model_module_version": "1.4.0",
      "model_name": "HBoxModel",
      "state": {
       "children": [
        "IPY_MODEL_14a633a0f5ed4c37b0411d5bd49d7077",
        "IPY_MODEL_91b5c65fdfea48c8a1a424ef4d9b3396",
        "IPY_MODEL_9f627c7c1e4b45d8b6e47d76ce904360"
       ],
       "layout": "IPY_MODEL_917d9da426034fb3a9069a1416c81bb7"
      }
     },
     "4412c3b2ac4a43ee8d17e08460d9c2fc": {
      "model_module": "@jupyter-widgets/controls",
      "model_module_version": "1.4.0",
      "model_name": "ButtonModel",
      "state": {
       "button_style": "info",
       "icon": "refresh",
       "layout": "IPY_MODEL_f505393989b34fc1a0d24f9267d1a66d",
       "style": "IPY_MODEL_2f658b16b3334ad790238156975957de"
      }
     },
     "448c7eba74da4e539e18f3c8b52dc113": {
      "model_module": "@jupyter-widgets/controls",
      "model_module_version": "1.4.0",
      "model_name": "ButtonModel",
      "state": {
       "button_style": "danger",
       "description": "Remove",
       "layout": "IPY_MODEL_2321f7daa69e4c84b3a4fa4fcbb19c8f",
       "style": "IPY_MODEL_ae31e083f9214839b432665d473ea352"
      }
     },
     "449d03017c694dde995b51c04764774a": {
      "model_module": "@jupyter-widgets/base",
      "model_module_version": "1.1.0",
      "model_name": "LayoutModel",
      "state": {}
     },
     "449dbd89d3834ec5803500b36dff4b92": {
      "model_module": "@jupyter-widgets/base",
      "model_module_version": "1.1.0",
      "model_name": "LayoutModel",
      "state": {}
     },
     "44b1d0e171a7464bb8805b86abdf22cc": {
      "model_module": "@jupyter-widgets/controls",
      "model_module_version": "1.4.0",
      "model_name": "HBoxModel",
      "state": {
       "children": [
        "IPY_MODEL_250967855e134da0b77e44eaea2b6be1",
        "IPY_MODEL_4fa1a1474e284364bbb63b0b36d8553f"
       ],
       "layout": "IPY_MODEL_ff9152e138d542f983dcfd523b72e1be"
      }
     },
     "44c2822f24b64adaac7f0790937f2b3d": {
      "model_module": "@jupyter-widgets/base",
      "model_module_version": "1.1.0",
      "model_name": "LayoutModel",
      "state": {
       "width": "auto"
      }
     },
     "44d806ff78fc43298cd33304170adbfa": {
      "model_module": "@jupyter-widgets/base",
      "model_module_version": "1.1.0",
      "model_name": "LayoutModel",
      "state": {}
     },
     "451a5c846de54b5d8973bf36a0146977": {
      "model_module": "@jupyter-widgets/controls",
      "model_module_version": "1.4.0",
      "model_name": "SelectModel",
      "state": {
       "_options_labels": [
        "Node",
        "Edge"
       ],
       "index": 1,
       "layout": "IPY_MODEL_de2c9105e52342faa02deb061248d53b",
       "style": "IPY_MODEL_4bd0cacd38754447aaa962416a067a2e"
      }
     },
     "451dafdfb648433f8a8462947cb2b48f": {
      "model_module": "@jupyter-widgets/base",
      "model_module_version": "1.1.0",
      "model_name": "LayoutModel",
      "state": {}
     },
     "4554a1e720394868b878303ea45f1f8f": {
      "model_module": "@jupyter-widgets/controls",
      "model_module_version": "1.4.0",
      "model_name": "SliderStyleModel",
      "state": {
       "description_width": ""
      }
     },
     "4588770dbdee4f1aa6e31389e992981f": {
      "model_module": "@jupyter-widgets/controls",
      "model_module_version": "1.4.0",
      "model_name": "ButtonStyleModel",
      "state": {}
     },
     "458e60e881474ccba51dbd3fab60829c": {
      "model_module": "@jupyter-widgets/base",
      "model_module_version": "1.1.0",
      "model_name": "LayoutModel",
      "state": {
       "display": "none"
      }
     },
     "4600669d3f004df19715a24ddec35985": {
      "model_module": "@jupyter-widgets/controls",
      "model_module_version": "1.4.0",
      "model_name": "HTMLModel",
      "state": {
       "layout": "IPY_MODEL_5c9814bd1128468697f5c112b1b17b33",
       "style": "IPY_MODEL_a6bc564df70242728db685749eaff1fb",
       "value": "<font size=3 style='justify-content: center;'>Eccentricity : </font>"
      }
     },
     "46652e78e95349fa9d372f8846b5aac4": {
      "model_module": "@jupyter-widgets/controls",
      "model_module_version": "1.4.0",
      "model_name": "DescriptionStyleModel",
      "state": {
       "description_width": ""
      }
     },
     "4671b2e3e189473b993a8e0242b75aee": {
      "model_module": "@jupyter-widgets/controls",
      "model_module_version": "1.4.0",
      "model_name": "FloatTextModel",
      "state": {
       "continuous_update": true,
       "layout": "IPY_MODEL_85644da9257346118a22dcc437cff2b8",
       "step": null,
       "style": "IPY_MODEL_943d2d9609cf44ce9fc9ca549743e64b"
      }
     },
     "4695974905d34f74a9a2caf52b5fbded": {
      "model_module": "@jupyter-widgets/controls",
      "model_module_version": "1.4.0",
      "model_name": "FloatTextModel",
      "state": {
       "continuous_update": true,
       "layout": "IPY_MODEL_74630a82cf0247caa72bf1ba3d1847eb",
       "step": null,
       "style": "IPY_MODEL_5ba32b5c669a43b2aa915729369f1fe8"
      }
     },
     "46b967a760be49ffaa0c66b8b20e87da": {
      "model_module": "@jupyter-widgets/base",
      "model_module_version": "1.1.0",
      "model_name": "LayoutModel",
      "state": {
       "width": "auto"
      }
     },
     "46be63148a1243c18b5d7748830ec7ad": {
      "model_module": "@jupyter-widgets/base",
      "model_module_version": "1.1.0",
      "model_name": "LayoutModel",
      "state": {}
     },
     "46dfb702d63c4f028b74ac4bfa2e5322": {
      "model_module": "@jupyter-widgets/controls",
      "model_module_version": "1.4.0",
      "model_name": "TextModel",
      "state": {
       "layout": "IPY_MODEL_1370ed48447049f8b48ec7c43af90565",
       "style": "IPY_MODEL_fda7e98370cd4a3aa9be79780f931f5f"
      }
     },
     "47122d9cdc5b4c64a6a8a4836f285317": {
      "model_module": "@jupyter-widgets/controls",
      "model_module_version": "1.4.0",
      "model_name": "HTMLModel",
      "state": {
       "layout": "IPY_MODEL_f4233559a7c643b9ade1598f1f4a5cc2",
       "style": "IPY_MODEL_25d04888e674407fb8a8a8efa0f7f4e9",
       "value": "<h3> </h3>"
      }
     },
     "4735643e2aaf404abe1cef784458b46c": {
      "model_module": "@jupyter-widgets/base",
      "model_module_version": "1.1.0",
      "model_name": "LayoutModel",
      "state": {}
     },
     "47a63684a5724d19a317c9e5a7e37767": {
      "model_module": "@jupyter-widgets/controls",
      "model_module_version": "1.4.0",
      "model_name": "VBoxModel",
      "state": {
       "children": [
        "IPY_MODEL_3a4f72789b114d06918f6e2f7b9b0680",
        "IPY_MODEL_1d2f163737b24934a77b339e6ac0b825"
       ],
       "layout": "IPY_MODEL_b063d6164e17478bb0cd8bd57e82c03f"
      }
     },
     "47eb3abda7b041f8927c3e5ae13a5421": {
      "model_module": "@jupyter-widgets/base",
      "model_module_version": "1.1.0",
      "model_name": "LayoutModel",
      "state": {}
     },
     "47efaf1d15bc4bc8ac3356bfb769c650": {
      "model_module": "@jupyter-widgets/controls",
      "model_module_version": "1.4.0",
      "model_name": "DescriptionStyleModel",
      "state": {
       "description_width": ""
      }
     },
     "47f5b718410d44bba2e67672f12a4073": {
      "model_module": "@jupyter-widgets/controls",
      "model_module_version": "1.4.0",
      "model_name": "HBoxModel",
      "state": {
       "children": [
        "IPY_MODEL_ca099e3760c545d1bebe2ef5672d2161",
        "IPY_MODEL_2632b78d811c4753b592c57ba38eb0ab",
        "IPY_MODEL_ee96b597653b4b9080e3c10b3c76b62c"
       ],
       "layout": "IPY_MODEL_ff2482449aa5405ea9833782d9eaece1"
      }
     },
     "47fcd23d685740f9acc8a72b0e1f4f67": {
      "model_module": "@jupyter-widgets/controls",
      "model_module_version": "1.4.0",
      "model_name": "HTMLModel",
      "state": {
       "layout": "IPY_MODEL_34fed0a69ef14421a2c0ea3b548a090f",
       "style": "IPY_MODEL_480f2dee768244d8acbc417e4568bf6e",
       "value": "<font size=3 style='justify-content: center;'>Stress : </font>"
      }
     },
     "480ab89fd46d4be895b4b6437ff04a90": {
      "model_module": "@jupyter-widgets/base",
      "model_module_version": "1.1.0",
      "model_name": "LayoutModel",
      "state": {}
     },
     "480f2dee768244d8acbc417e4568bf6e": {
      "model_module": "@jupyter-widgets/controls",
      "model_module_version": "1.4.0",
      "model_name": "DescriptionStyleModel",
      "state": {
       "description_width": ""
      }
     },
     "4868d37aa46a4f46a6050edea6e02d37": {
      "model_module": "@jupyter-widgets/controls",
      "model_module_version": "1.4.0",
      "model_name": "HTMLModel",
      "state": {
       "layout": "IPY_MODEL_04500fcc35ee4e6e8bed18f5f7c1a48d",
       "style": "IPY_MODEL_63a3a1b014404cedb470681c2f070e2f",
       "value": "<h5>You can save your graph as a <font color='darkKhaki'>index.html</font> file.\n<font color='darkKhaki'>index.html</font> files have lots of cool features, as explained in the intro video.\n<span style='color:red;'>Do not use \" or ' they cause errors.</span></h5>"
      }
     },
     "4870b4ac31aa4db6968044df177bfa0d": {
      "model_module": "@jupyter-widgets/controls",
      "model_module_version": "1.4.0",
      "model_name": "ButtonStyleModel",
      "state": {}
     },
     "4870cc53d67a4fbc9d84418b61f349df": {
      "model_module": "@jupyter-widgets/controls",
      "model_module_version": "1.4.0",
      "model_name": "DescriptionStyleModel",
      "state": {
       "description_width": ""
      }
     },
     "4889f7ca56eb47c08bf47995ba15aafa": {
      "model_module": "@jupyter-widgets/controls",
      "model_module_version": "1.4.0",
      "model_name": "HTMLModel",
      "state": {
       "layout": "IPY_MODEL_2aa73f4f6fb0423ba2314de2be8c7cc5",
       "style": "IPY_MODEL_256aae208ca34f7ea2645f60072c0a93",
       "value": "<h2 class='text-danger text-center'>Coming Soon! Wait for Update</h2>"
      }
     },
     "488bf860a3874c388493f849cb631b7e": {
      "model_module": "@jupyter-widgets/controls",
      "model_module_version": "1.4.0",
      "model_name": "DescriptionStyleModel",
      "state": {
       "description_width": ""
      }
     },
     "49048d1080dc4026bcc442b74ccc81a6": {
      "model_module": "@jupyter-widgets/base",
      "model_module_version": "1.1.0",
      "model_name": "LayoutModel",
      "state": {
       "margin": "0px 0px 0px 5px",
       "min_width": "30px"
      }
     },
     "490b144ab7604b03b3549679e1971f24": {
      "model_module": "@jupyter-widgets/controls",
      "model_module_version": "1.4.0",
      "model_name": "HBoxModel",
      "state": {
       "children": [
        "IPY_MODEL_47a63684a5724d19a317c9e5a7e37767",
        "IPY_MODEL_4fcc10aae6204fd09465e8b59acc3dc6"
       ],
       "layout": "IPY_MODEL_b30d6a3edcfc40819b866c82f659f9be"
      }
     },
     "491440cfa7304719a0fcccfd92a882a9": {
      "model_module": "@jupyter-widgets/controls",
      "model_module_version": "1.4.0",
      "model_name": "DescriptionStyleModel",
      "state": {
       "description_width": ""
      }
     },
     "4981ee80c32a41a2ba1cf0f60b6afd61": {
      "model_module": "@jupyter-widgets/base",
      "model_module_version": "1.1.0",
      "model_name": "LayoutModel",
      "state": {}
     },
     "499ddbcc44c74abd8f4463565675e130": {
      "model_module": "@jupyter-widgets/base",
      "model_module_version": "1.1.0",
      "model_name": "LayoutModel",
      "state": {}
     },
     "49aed32e6d20458c9bf8cea266cf3314": {
      "model_module": "@jupyter-widgets/base",
      "model_module_version": "1.1.0",
      "model_name": "LayoutModel",
      "state": {}
     },
     "49c838ac0ae448c59d0ab3e953ceb298": {
      "model_module": "@jupyter-widgets/controls",
      "model_module_version": "1.4.0",
      "model_name": "ButtonModel",
      "state": {
       "button_style": "primary",
       "description": "Load",
       "layout": "IPY_MODEL_e741d7023d1646fcb8090535751c94b5",
       "style": "IPY_MODEL_a9aa7728bb8e43c78793331a402ea9fa"
      }
     },
     "49ca4e7550f2400b8e3447a2e06c101d": {
      "model_module": "@jupyter-widgets/controls",
      "model_module_version": "1.4.0",
      "model_name": "LabelModel",
      "state": {
       "layout": "IPY_MODEL_74fa49896edd434984f81fafbf4bba97",
       "style": "IPY_MODEL_ce0fb31f1be84dbbaf4d3e46854d021b",
       "value": "Start"
      }
     },
     "49df26aa973b4a6eb541fb9db506e103": {
      "model_module": "@jupyter-widgets/controls",
      "model_module_version": "1.4.0",
      "model_name": "FloatTextModel",
      "state": {
       "continuous_update": true,
       "layout": "IPY_MODEL_3eb3d46db78e43ffba48af1e45b692e9",
       "step": null,
       "style": "IPY_MODEL_9d7ed1ddd31a45a996ff2b17bde6e4c5"
      }
     },
     "4a14a3fb79b34fd4ae69c7f8294280b2": {
      "model_module": "@jupyter-widgets/controls",
      "model_module_version": "1.4.0",
      "model_name": "DescriptionStyleModel",
      "state": {
       "description_width": ""
      }
     },
     "4a23cdb7b3014183986ef60901d5f410": {
      "model_module": "@jupyter-widgets/controls",
      "model_module_version": "1.4.0",
      "model_name": "DescriptionStyleModel",
      "state": {
       "description_width": ""
      }
     },
     "4a2b79f2c9aa43638315c02e5625f07c": {
      "model_module": "@jupyter-widgets/controls",
      "model_module_version": "1.4.0",
      "model_name": "DescriptionStyleModel",
      "state": {
       "description_width": ""
      }
     },
     "4a2de12c7d9c42689b6cab44c62af7e2": {
      "model_module": "@jupyter-widgets/base",
      "model_module_version": "1.1.0",
      "model_name": "LayoutModel",
      "state": {}
     },
     "4a49b697789d4718a27e783af030d6fe": {
      "model_module": "@jupyter-widgets/controls",
      "model_module_version": "1.4.0",
      "model_name": "HBoxModel",
      "state": {
       "children": [
        "IPY_MODEL_68a484509ae046a3be58d65060d1db48",
        "IPY_MODEL_9179b5c5f6a14c88a213bf04186793da",
        "IPY_MODEL_dd279f7d02a346b7a11e39d67694fbcb",
        "IPY_MODEL_0f099145a98c4e01a661b9c81c5dc4eb"
       ],
       "layout": "IPY_MODEL_53685249af274deba256e29f692e3fc9"
      }
     },
     "4a50df0d84af42c39e9f6b4db19231a8": {
      "model_module": "@jupyter-widgets/controls",
      "model_module_version": "1.4.0",
      "model_name": "HBoxModel",
      "state": {
       "children": [
        "IPY_MODEL_a3a27384aa6d4baebb8cb33fd0a18244",
        "IPY_MODEL_8935116d127242b2a0b8f0b9dff32b98",
        "IPY_MODEL_9066c5fb131947608e29878b3b6a81ef"
       ],
       "layout": "IPY_MODEL_2881edc76fbd4bcfbd9847b1fe8bbf1f"
      }
     },
     "4a607e266385406a8e0c2e7709fda257": {
      "model_module": "@jupyter-widgets/controls",
      "model_module_version": "1.4.0",
      "model_name": "HBoxModel",
      "state": {
       "children": [
        "IPY_MODEL_c57a1a2fe82143e09b948c017c8f5e18",
        "IPY_MODEL_ca079267cb604a27a3eb106c738fb108",
        "IPY_MODEL_995ca4dac19d41909a6aec7fb4821d91"
       ],
       "layout": "IPY_MODEL_9a8e1332617645a6bbb5dd8a57775d77"
      }
     },
     "4a71779d9b6a4b1a902d2ecd928bba31": {
      "model_module": "@jupyter-widgets/controls",
      "model_module_version": "1.4.0",
      "model_name": "HTMLModel",
      "state": {
       "layout": "IPY_MODEL_e81f5418696e4becaba067a8e7f3bea9",
       "style": "IPY_MODEL_f1158a7d00c74e5ea1e96556c13fde22",
       "value": "<h5>Paste the <a>NDEx URL</a> of the dataset to download :</h5>"
      }
     },
     "4a726b1b768744c88a1d01a748e2612e": {
      "model_module": "@jupyter-widgets/base",
      "model_module_version": "1.1.0",
      "model_name": "LayoutModel",
      "state": {}
     },
     "4af1cea5caa0427a8ce5e9f7659162fe": {
      "model_module": "@jupyter-widgets/controls",
      "model_module_version": "1.4.0",
      "model_name": "HTMLModel",
      "state": {
       "layout": "IPY_MODEL_7806c4aafcd54471bc6f288daf34e8ff",
       "style": "IPY_MODEL_8827c57aab1d4c1f8a6cf497d73bec27",
       "value": "<h5>Paste the <a>NDEx URL</a> of the dataset to download :</h5>"
      }
     },
     "4b802a6aa0e94ee184f24c9ce2c76180": {
      "model_module": "@jupyter-widgets/controls",
      "model_module_version": "1.4.0",
      "model_name": "DescriptionStyleModel",
      "state": {
       "description_width": ""
      }
     },
     "4b888720199a4a2fb18db1c304ae4617": {
      "model_module": "@jupyter-widgets/base",
      "model_module_version": "1.1.0",
      "model_name": "LayoutModel",
      "state": {
       "width": "auto"
      }
     },
     "4b906c485e12426fba2c0c6b38dc916c": {
      "model_module": "@jupyter-widgets/base",
      "model_module_version": "1.1.0",
      "model_name": "LayoutModel",
      "state": {
       "width": "auto"
      }
     },
     "4ba58250de08451980a49f5212e661a1": {
      "model_module": "@jupyter-widgets/controls",
      "model_module_version": "1.4.0",
      "model_name": "HTMLModel",
      "state": {
       "layout": "IPY_MODEL_11a0f820ce054f98898abfb05f2a1b93",
       "style": "IPY_MODEL_37ffe6ed10bb4ab9bd79016a44bc9208",
       "value": "<font size=3 style='justify-content: center;'>Eccentricity : </font>"
      }
     },
     "4bab94e23b46495c99da724fef38c62a": {
      "model_module": "@jupyter-widgets/base",
      "model_module_version": "1.1.0",
      "model_name": "LayoutModel",
      "state": {}
     },
     "4bb0fe806fca4f8ba84bb7d2447aa685": {
      "model_module": "@jupyter-widgets/base",
      "model_module_version": "1.1.0",
      "model_name": "LayoutModel",
      "state": {
       "height": "40px",
       "min_width": "50px",
       "width": "10%"
      }
     },
     "4bb950df6fde437ab60b0708edd400cd": {
      "model_module": "@jupyter-widgets/controls",
      "model_module_version": "1.4.0",
      "model_name": "DescriptionStyleModel",
      "state": {
       "description_width": ""
      }
     },
     "4bc3f823771a4bfb90fba94d55b43130": {
      "model_module": "@jupyter-widgets/controls",
      "model_module_version": "1.4.0",
      "model_name": "DescriptionStyleModel",
      "state": {
       "description_width": ""
      }
     },
     "4bd0cacd38754447aaa962416a067a2e": {
      "model_module": "@jupyter-widgets/controls",
      "model_module_version": "1.4.0",
      "model_name": "DescriptionStyleModel",
      "state": {
       "description_width": ""
      }
     },
     "4c3efa80a7184811a9471c22099350f3": {
      "model_module": "@jupyter-widgets/controls",
      "model_module_version": "1.4.0",
      "model_name": "HTMLModel",
      "state": {
       "layout": "IPY_MODEL_8159f37e0b2e4f8a84230a3257818141",
       "style": "IPY_MODEL_113ee0b323a84a8f8e8171698b4deb6d",
       "value": "<font size=3 style='justify-content: center;'>EdgeBetweenness : </font>"
      }
     },
     "4c66857bc731433a9c0cf2ffba02f275": {
      "model_module": "@jupyter-widgets/base",
      "model_module_version": "1.1.0",
      "model_name": "LayoutModel",
      "state": {}
     },
     "4c99a493117442acaeffaac5edefedc6": {
      "model_module": "@jupyter-widgets/controls",
      "model_module_version": "1.4.0",
      "model_name": "DescriptionStyleModel",
      "state": {
       "description_width": ""
      }
     },
     "4cc832326f314df7a90508359f5ce3fb": {
      "model_module": "@jupyter-widgets/base",
      "model_module_version": "1.1.0",
      "model_name": "LayoutModel",
      "state": {}
     },
     "4cee7d4fa7104099b7aaba050e4f36f6": {
      "model_module": "@jupyter-widgets/controls",
      "model_module_version": "1.4.0",
      "model_name": "TextModel",
      "state": {
       "layout": "IPY_MODEL_d5c54cec94274f4c8fd1a8ca31d9ab0c",
       "style": "IPY_MODEL_3d52f29de8a04ff8a10f68979f820fc0"
      }
     },
     "4d03cb4a49f942d8838ae8c9f3e094d3": {
      "model_module": "@jupyter-widgets/controls",
      "model_module_version": "1.4.0",
      "model_name": "ButtonStyleModel",
      "state": {}
     },
     "4d20cb6532944ca896026ff0929afcc9": {
      "model_module": "@jupyter-widgets/base",
      "model_module_version": "1.1.0",
      "model_name": "LayoutModel",
      "state": {}
     },
     "4d57bdb81595422ca8c8795b4aeb1f21": {
      "model_module": "@jupyter-widgets/base",
      "model_module_version": "1.1.0",
      "model_name": "LayoutModel",
      "state": {}
     },
     "4d7d4ba039084384b9dadef7070cf3ad": {
      "model_module": "@jupyter-widgets/controls",
      "model_module_version": "1.4.0",
      "model_name": "HBoxModel",
      "state": {
       "children": [
        "IPY_MODEL_ef4e08e4b5b64724a6f92c27e8ef8be9"
       ],
       "layout": "IPY_MODEL_69fa31fee97745b19b81a75286107270"
      }
     },
     "4da069a0b0514d1e8758f567e25b030a": {
      "model_module": "@jupyter-widgets/controls",
      "model_module_version": "1.4.0",
      "model_name": "VBoxModel",
      "state": {
       "children": [
        "IPY_MODEL_9a72f31c72bb41e1957bbe4c4f757e94",
        "IPY_MODEL_4a50df0d84af42c39e9f6b4db19231a8",
        "IPY_MODEL_0da3dc4a03e44370b4260a4f04d56a34",
        "IPY_MODEL_173017f3ec924d4caac3971a1c8b74e6",
        "IPY_MODEL_08d81099706749df8af9a952d3e798bc",
        "IPY_MODEL_2972dcfe0c294320a6b20d8a0819137b",
        "IPY_MODEL_ac046f8b7d52458ab8d934028e91a03a",
        "IPY_MODEL_051d703915c340b3830be331a3338606"
       ],
       "layout": "IPY_MODEL_4d20cb6532944ca896026ff0929afcc9"
      }
     },
     "4db8cb8b81da4f7e80a8c305c81549f0": {
      "model_module": "@jupyter-widgets/base",
      "model_module_version": "1.1.0",
      "model_name": "LayoutModel",
      "state": {
       "padding": "10px 0px 0px 0px"
      }
     },
     "4dc703e2d28240ddaec2b4eb1a23aec7": {
      "model_module": "@jupyter-widgets/controls",
      "model_module_version": "1.4.0",
      "model_name": "VBoxModel",
      "state": {
       "children": [
        "IPY_MODEL_b0eca1db247a4b87857736ba80a43905",
        "IPY_MODEL_df0b8f6d4d5e47a2b86bb2d576f94535",
        "IPY_MODEL_65e9d262188f4070a392f420f738f3c9"
       ],
       "layout": "IPY_MODEL_99aaa503e2e74c5a90f98a1209a79a05"
      }
     },
     "4ddcb9d42faa447f92e8c63bb06e1a30": {
      "model_module": "@jupyter-widgets/base",
      "model_module_version": "1.1.0",
      "model_name": "LayoutModel",
      "state": {}
     },
     "4df0165ff5ae4a6ba68c9205f19faaf0": {
      "model_module": "@jupyter-widgets/controls",
      "model_module_version": "1.4.0",
      "model_name": "ToggleButtonsModel",
      "state": {
       "_options_labels": [
        "Python",
        "HTML"
       ],
       "button_style": "success",
       "icons": [],
       "index": 1,
       "layout": "IPY_MODEL_8aa72d97317644e3a5e199eee4b3f99b",
       "style": "IPY_MODEL_8469a1f4c2de4d19ae5a2e6525e6b01d",
       "tooltips": []
      }
     },
     "4e78d00f3642493c829a17c7ec908f66": {
      "model_module": "@jupyter-widgets/base",
      "model_module_version": "1.1.0",
      "model_name": "LayoutModel",
      "state": {
       "width": "auto"
      }
     },
     "4e7ac585a5b14f0786f3a5644568c23c": {
      "model_module": "@jupyter-widgets/controls",
      "model_module_version": "1.4.0",
      "model_name": "DescriptionStyleModel",
      "state": {
       "description_width": ""
      }
     },
     "4e8ecb673f3842a4b87e7540dbdaa31a": {
      "model_module": "@jupyter-widgets/base",
      "model_module_version": "1.1.0",
      "model_name": "LayoutModel",
      "state": {}
     },
     "4edaa994344848e5b7c15d74dc18d492": {
      "model_module": "@jupyter-widgets/base",
      "model_module_version": "1.1.0",
      "model_name": "LayoutModel",
      "state": {}
     },
     "4f0c0fa835db41ee9cd5112e6328e4d4": {
      "model_module": "@jupyter-widgets/controls",
      "model_module_version": "1.4.0",
      "model_name": "LabelModel",
      "state": {
       "layout": "IPY_MODEL_1805384293984d0daf19296c9e4e40c1",
       "style": "IPY_MODEL_a837dd63ca89432ca1cb82db7408442a",
       "value": "    "
      }
     },
     "4f24a864681540dba9c78b6ad442933e": {
      "model_module": "@jupyter-widgets/base",
      "model_module_version": "1.1.0",
      "model_name": "LayoutModel",
      "state": {
       "align_items": "center"
      }
     },
     "4f2a82c52e634ac4baafbb3ce01adf12": {
      "model_module": "@jupyter-widgets/controls",
      "model_module_version": "1.4.0",
      "model_name": "ButtonStyleModel",
      "state": {}
     },
     "4f523796f9a5486ea6e2c5d292ac4f2f": {
      "model_module": "@jupyter-widgets/controls",
      "model_module_version": "1.4.0",
      "model_name": "HBoxModel",
      "state": {
       "children": [
        "IPY_MODEL_fa76c28d7c384e6ea9af60ed30f21eb0",
        "IPY_MODEL_0534198d910a4b63a72827e891781e92",
        "IPY_MODEL_d03c1eaff05b404c8df02ef95e96f855"
       ],
       "layout": "IPY_MODEL_d9b69a7aa97e43889c458eaa26fa7386"
      }
     },
     "4f53a561fa6e45ba9c67aca6f572a684": {
      "model_module": "@jupyter-widgets/base",
      "model_module_version": "1.1.0",
      "model_name": "LayoutModel",
      "state": {
       "visibility": "hidden"
      }
     },
     "4f618219cb2a4af1a2d055ccc9c3574d": {
      "model_module": "@jupyter-widgets/controls",
      "model_module_version": "1.4.0",
      "model_name": "FloatTextModel",
      "state": {
       "continuous_update": true,
       "layout": "IPY_MODEL_64f4ec10ed7b494a9c89490f775c977b",
       "step": null,
       "style": "IPY_MODEL_f3342062945e442cb94eb9b0d0300c13"
      }
     },
     "4f9bc8600f494381a39d2356f4234c96": {
      "model_module": "@jupyter-widgets/controls",
      "model_module_version": "1.4.0",
      "model_name": "HTMLModel",
      "state": {
       "layout": "IPY_MODEL_4e8ecb673f3842a4b87e7540dbdaa31a",
       "style": "IPY_MODEL_9caa9f54787a4dccb3e92a06a7529676",
       "value": "<b><p><a href='http://js.cytoscape.org/#selectors'>Search:</a></p></b>"
      }
     },
     "4fa1a1474e284364bbb63b0b36d8553f": {
      "model_module": "@jupyter-widgets/controls",
      "model_module_version": "1.4.0",
      "model_name": "IntSliderModel",
      "state": {
       "layout": "IPY_MODEL_27b83e55e7514567b91b5fc2a2468dd8",
       "max": 5,
       "min": 1,
       "style": "IPY_MODEL_de51ed0a0e624efe9e8070d3cac92b2b",
       "value": 1
      }
     },
     "4fb66e4a59a24b35bbb03d26daf09cf1": {
      "model_module": "@jupyter-widgets/base",
      "model_module_version": "1.1.0",
      "model_name": "LayoutModel",
      "state": {
       "justify_content": "center"
      }
     },
     "4fcc10aae6204fd09465e8b59acc3dc6": {
      "model_module": "@jupyter-widgets/controls",
      "model_module_version": "1.4.0",
      "model_name": "TextModel",
      "state": {
       "description": "Name :",
       "layout": "IPY_MODEL_395d3f47b49a48b68b5bcd81e5273747",
       "placeholder": "Network Name",
       "style": "IPY_MODEL_bf2004096c4a4e2eaad4680c194e595d"
      }
     },
     "4fdf502f65a341399bb951cc343daf55": {
      "model_module": "@jupyter-widgets/controls",
      "model_module_version": "1.4.0",
      "model_name": "DescriptionStyleModel",
      "state": {
       "description_width": ""
      }
     },
     "4ffc0d0ddb0d46d3b3a5a99078ffb929": {
      "model_module": "@jupyter-widgets/controls",
      "model_module_version": "1.4.0",
      "model_name": "VBoxModel",
      "state": {
       "children": [
        "IPY_MODEL_329477cdfded467da9c4e3de78d7e174",
        "IPY_MODEL_bfa774fd07f84d15a0be01c9d1bf48dc",
        "IPY_MODEL_25c343d3a9a6459d8c9a8725c1e889a0",
        "IPY_MODEL_24ed203f20094bd3a5714a73e5b6c5ff",
        "IPY_MODEL_be51c801650d47588e6713e3dc2c2105",
        "IPY_MODEL_be521799db8b46f1a4504e3b23c3bf12"
       ],
       "layout": "IPY_MODEL_facb1dae0ce6475d8a911353edd634b1"
      }
     },
     "5014cbd2678847838bcdfe9227370a18": {
      "model_module": "@jupyter-widgets/controls",
      "model_module_version": "1.4.0",
      "model_name": "TextModel",
      "state": {
       "continuous_update": false,
       "layout": "IPY_MODEL_269a29aaf2ea40fe8275a8cb5751e754",
       "style": "IPY_MODEL_a0351387411d4afc84afe71dd28c53ec"
      }
     },
     "5080357e202b41ed868d98c6b72080b8": {
      "model_module": "@jupyter-widgets/controls",
      "model_module_version": "1.4.0",
      "model_name": "DescriptionStyleModel",
      "state": {
       "description_width": ""
      }
     },
     "5082c31a39aa4d9abb58f90b21cbb876": {
      "model_module": "@jupyter-widgets/controls",
      "model_module_version": "1.4.0",
      "model_name": "DescriptionStyleModel",
      "state": {
       "description_width": ""
      }
     },
     "50962b116ffc49878c260d2d0ea9dbde": {
      "model_module": "@jupyter-widgets/controls",
      "model_module_version": "1.4.0",
      "model_name": "HBoxModel",
      "state": {
       "children": [
        "IPY_MODEL_f5b5889a7eb64bb792037a32cd173fb8",
        "IPY_MODEL_b49428eb7ec944b78c5c207b9dbae233",
        "IPY_MODEL_40813680aac34cc4abd353e2536bb475",
        "IPY_MODEL_078331bc5b4746ffb68ceb5ebe25511f"
       ],
       "layout": "IPY_MODEL_4383a7aadfb447abb786033971d2ed08"
      }
     },
     "510ebd5558cf4d2fb831e8e5c3b0bf34": {
      "model_module": "@jupyter-widgets/controls",
      "model_module_version": "1.4.0",
      "model_name": "DescriptionStyleModel",
      "state": {
       "description_width": ""
      }
     },
     "516db098be824b1aa09f23b5b8ebea04": {
      "model_module": "@jupyter-widgets/controls",
      "model_module_version": "1.4.0",
      "model_name": "HBoxModel",
      "state": {
       "children": [
        "IPY_MODEL_05dd0356498f472498ab2b3789ae5f24",
        "IPY_MODEL_be51c801650d47588e6713e3dc2c2105"
       ],
       "layout": "IPY_MODEL_140978fa587640c4867d41bcd0763e24"
      }
     },
     "51a7b08aa4bc4617affb960e3cf8163f": {
      "model_module": "@jupyter-widgets/base",
      "model_module_version": "1.1.0",
      "model_name": "LayoutModel",
      "state": {
       "width": "auto"
      }
     },
     "51f25db2db834860bcdd5c20586a0d25": {
      "model_module": "@jupyter-widgets/controls",
      "model_module_version": "1.4.0",
      "model_name": "HBoxModel",
      "state": {
       "children": [
        "IPY_MODEL_2e19929cf9a343c4b9695cbd065260ef",
        "IPY_MODEL_61fe17e1db0449e8897a8735539aad0a",
        "IPY_MODEL_4f0c0fa835db41ee9cd5112e6328e4d4",
        "IPY_MODEL_cab0b332822d45bc8990579ffeb104e2"
       ],
       "layout": "IPY_MODEL_ac2816684cea4c87a835105f0f679413"
      }
     },
     "524f8f1779224241bf8c4cf03941b6a1": {
      "model_module": "@jupyter-widgets/controls",
      "model_module_version": "1.4.0",
      "model_name": "TextModel",
      "state": {
       "layout": "IPY_MODEL_1281f4a085f04836a606a9508c6917b3",
       "style": "IPY_MODEL_0066ec48f0ca4878a683b0c8e76cd010"
      }
     },
     "528931a3b0d84c85b514026c1190157d": {
      "model_module": "@jupyter-widgets/controls",
      "model_module_version": "1.4.0",
      "model_name": "IntSliderModel",
      "state": {
       "layout": "IPY_MODEL_0dd890df9acc4abe8ae25b145afc10e3",
       "max": 5,
       "min": 1,
       "style": "IPY_MODEL_a4233c3fc84546aeb3e876482cfefa48",
       "value": 1
      }
     },
     "5296512971564e1bb45075f1a01c3673": {
      "model_module": "@jupyter-widgets/controls",
      "model_module_version": "1.4.0",
      "model_name": "DescriptionStyleModel",
      "state": {
       "description_width": ""
      }
     },
     "53685249af274deba256e29f692e3fc9": {
      "model_module": "@jupyter-widgets/base",
      "model_module_version": "1.1.0",
      "model_name": "LayoutModel",
      "state": {
       "justify_content": "center",
       "padding": "0px 20px 5px 0px"
      }
     },
     "53692e257bc3420db0d05995999fa369": {
      "model_module": "@jupyter-widgets/base",
      "model_module_version": "1.1.0",
      "model_name": "LayoutModel",
      "state": {}
     },
     "5397f992fbb042509a4088381dd860df": {
      "model_module": "@jupyter-widgets/controls",
      "model_module_version": "1.4.0",
      "model_name": "DescriptionStyleModel",
      "state": {
       "description_width": ""
      }
     },
     "53db1c5eb39f494a8fa267ccd85ce8ab": {
      "model_module": "@jupyter-widgets/base",
      "model_module_version": "1.1.0",
      "model_name": "LayoutModel",
      "state": {}
     },
     "540261d6db354cdf8a62c69c5e524e30": {
      "model_module": "@jupyter-widgets/controls",
      "model_module_version": "1.4.0",
      "model_name": "TextModel",
      "state": {
       "layout": "IPY_MODEL_eb011452ccfb4c6cb4d8c75fd3113450",
       "style": "IPY_MODEL_8ea59734bd394392baeb4d34d38b611b"
      }
     },
     "5487d4b57d44449b879008a5b05073a7": {
      "model_module": "@jupyter-widgets/controls",
      "model_module_version": "1.4.0",
      "model_name": "HTMLModel",
      "state": {
       "layout": "IPY_MODEL_79625b91ac6f4746ba83d14eeed5ad5a",
       "style": "IPY_MODEL_ed22f2dc7ad14581b70c8ba2ec10ce5b",
       "value": "<font size=3 style='justify-content: center;'>nodesize : </font>"
      }
     },
     "5493149f78c144b0b434a857affcd0b6": {
      "model_module": "@jupyter-widgets/controls",
      "model_module_version": "1.4.0",
      "model_name": "DescriptionStyleModel",
      "state": {
       "description_width": ""
      }
     },
     "54dfd21df7114065abadb5fdf381a5ab": {
      "model_module": "@jupyter-widgets/base",
      "model_module_version": "1.1.0",
      "model_name": "LayoutModel",
      "state": {
       "display": "none"
      }
     },
     "5544c5de13ec4ff891239a4adfb82c9e": {
      "model_module": "@jupyter-widgets/base",
      "model_module_version": "1.1.0",
      "model_name": "LayoutModel",
      "state": {
       "align_items": "center"
      }
     },
     "55517e2185274dc3aac86f261710459f": {
      "model_module": "@jupyter-widgets/controls",
      "model_module_version": "1.4.0",
      "model_name": "SliderStyleModel",
      "state": {
       "description_width": ""
      }
     },
     "5573ee8f115d4728a278cf47b5776967": {
      "model_module": "@jupyter-widgets/controls",
      "model_module_version": "1.4.0",
      "model_name": "HBoxModel",
      "state": {
       "children": [
        "IPY_MODEL_1596f86441564dbe817664a69aaf0993",
        "IPY_MODEL_b9699a160fcd4365874a50b270146c91"
       ],
       "layout": "IPY_MODEL_bf5f04d15369488283b869a13c29eb1b"
      }
     },
     "55abc59f4897416789aff15d295715ef": {
      "model_module": "@jupyter-widgets/controls",
      "model_module_version": "1.4.0",
      "model_name": "DescriptionStyleModel",
      "state": {
       "description_width": ""
      }
     },
     "55dabd8288a3452eb4c81daa2768a313": {
      "model_module": "@jupyter-widgets/controls",
      "model_module_version": "1.4.0",
      "model_name": "HTMLModel",
      "state": {
       "layout": "IPY_MODEL_63c5c99da3f543ab908aab7db9670610",
       "style": "IPY_MODEL_bd183e9cd17a4d56a00402b8dd3f3323",
       "value": " <h3 class='text-center text-success' style='margin:0'> Saved!</h3>"
      }
     },
     "56605850549b4a138444b8a03f425386": {
      "model_module": "@jupyter-widgets/base",
      "model_module_version": "1.1.0",
      "model_name": "LayoutModel",
      "state": {}
     },
     "56611fb51f6d46d58b55468555e161ff": {
      "model_module": "@jupyter-widgets/controls",
      "model_module_version": "1.4.0",
      "model_name": "ButtonModel",
      "state": {
       "button_style": "success",
       "description": "Upload",
       "layout": "IPY_MODEL_f7b756ea624947d4a1f229cbcbde326f",
       "style": "IPY_MODEL_e5edb209215c4ed49c2e619cc5d7c71a"
      }
     },
     "56881d5795104e4fb114e7b25950ca03": {
      "model_module": "@jupyter-widgets/base",
      "model_module_version": "1.1.0",
      "model_name": "LayoutModel",
      "state": {}
     },
     "5735ef397dab4eb689ec0319233952b4": {
      "model_module": "@jupyter-widgets/controls",
      "model_module_version": "1.4.0",
      "model_name": "HBoxModel",
      "state": {
       "children": [
        "IPY_MODEL_c7f6bf8ba0644ae4bce81e39cd300231"
       ],
       "layout": "IPY_MODEL_e32916a2c030434ea40d56257feb37e2"
      }
     },
     "574c921e949f4f93976accccd3e991c6": {
      "model_module": "@jupyter-widgets/controls",
      "model_module_version": "1.4.0",
      "model_name": "FloatSliderModel",
      "state": {
       "layout": "IPY_MODEL_d483ce77ee2a407d8b2b7b45992e5646",
       "max": 1,
       "step": 0.05,
       "style": "IPY_MODEL_421caa96dcc744bba8e64c92cf8d205e",
       "value": 0.5
      }
     },
     "574f9a313ed143928c4d8fdcebc7c6d0": {
      "model_module": "@jupyter-widgets/controls",
      "model_module_version": "1.4.0",
      "model_name": "HTMLModel",
      "state": {
       "layout": "IPY_MODEL_c2b5c22a1b9b477fb0ca6b06296609d8",
       "style": "IPY_MODEL_2e1f83da2d224cb1b6beb694f067a1c9",
       "value": "<font size=3 style='justify-content: center;'>name : </font>"
      }
     },
     "5757076e8a6b43129aba0e7b703b5264": {
      "model_module": "@jupyter-widgets/controls",
      "model_module_version": "1.4.0",
      "model_name": "VBoxModel",
      "state": {
       "children": [
        "IPY_MODEL_1b91b1fe81df49c2a89823fc44acb783",
        "IPY_MODEL_c9560da4723a4a53a783d9c6e072170a"
       ],
       "layout": "IPY_MODEL_1d487f3ea55545d483aeb3e72b624864"
      }
     },
     "576506414fee4d69a08840e9953eb952": {
      "model_module": "@jupyter-widgets/controls",
      "model_module_version": "1.4.0",
      "model_name": "HTMLModel",
      "state": {
       "layout": "IPY_MODEL_b7cd75403f244a82a5aca22716090caf",
       "style": "IPY_MODEL_c2bdc77c47214584b620b9c6555f2a2b",
       "value": "<font size=3 style='justify-content: center;'>label_new : </font>"
      }
     },
     "5788caa4d7a04c67905c97f536219715": {
      "model_module": "@jupyter-widgets/controls",
      "model_module_version": "1.4.0",
      "model_name": "ButtonModel",
      "state": {
       "button_style": "warning",
       "description": "Start Cytoscape!",
       "layout": "IPY_MODEL_8a0c00ea7cf34058b6eda78a1bbc3ced",
       "style": "IPY_MODEL_d79e4fcf0ba142f5a29da19a330548a0"
      }
     },
     "5797799c87f94bcebd41037652060d41": {
      "model_module": "@jupyter-widgets/base",
      "model_module_version": "1.1.0",
      "model_name": "LayoutModel",
      "state": {}
     },
     "57e22288ccc847c5aac396bdfcecba8d": {
      "model_module": "@jupyter-widgets/controls",
      "model_module_version": "1.4.0",
      "model_name": "ButtonModel",
      "state": {
       "button_style": "danger",
       "description": "Delete",
       "layout": "IPY_MODEL_2c635721028b471c9c56558eb54ca203",
       "style": "IPY_MODEL_6f0fbfab47d14ff0ac72797b499c02fc"
      }
     },
     "58172127b46148e287a6584f313f46c5": {
      "model_module": "@jupyter-widgets/base",
      "model_module_version": "1.1.0",
      "model_name": "LayoutModel",
      "state": {
       "height": "80px",
       "width": "99%"
      }
     },
     "583f8fc492a44accbfa61edd0660225b": {
      "model_module": "@jupyter-widgets/controls",
      "model_module_version": "1.4.0",
      "model_name": "ButtonModel",
      "state": {
       "button_style": "danger",
       "description": "Remove",
       "layout": "IPY_MODEL_a0d0828c62574d84b2b7b53f4a797956",
       "style": "IPY_MODEL_e8050472c2264b539dc5914e885857f3"
      }
     },
     "5846523e8da64ca796716aba77b3e72f": {
      "model_module": "@jupyter-widgets/base",
      "model_module_version": "1.1.0",
      "model_name": "LayoutModel",
      "state": {}
     },
     "584838c336014376ac612fa48f3d0b26": {
      "model_module": "@jupyter-widgets/controls",
      "model_module_version": "1.4.0",
      "model_name": "ButtonModel",
      "state": {
       "button_style": "info",
       "icon": "refresh",
       "layout": "IPY_MODEL_26178552880f4e6d80ef8ad8d57ef201",
       "style": "IPY_MODEL_bfba5adfe4cd4d44a07ee7f06c5aac9f"
      }
     },
     "585ec2e04e734bffad128c0192a69da9": {
      "model_module": "@jupyter-widgets/controls",
      "model_module_version": "1.4.0",
      "model_name": "DescriptionStyleModel",
      "state": {
       "description_width": ""
      }
     },
     "587c0bee062842ffbeec04e92f127bb5": {
      "model_module": "@jupyter-widgets/controls",
      "model_module_version": "1.4.0",
      "model_name": "ButtonStyleModel",
      "state": {}
     },
     "587c5dcb558c460d9df8936e209c6f65": {
      "model_module": "@jupyter-widgets/controls",
      "model_module_version": "1.4.0",
      "model_name": "FloatTextModel",
      "state": {
       "continuous_update": true,
       "layout": "IPY_MODEL_2823d8c397d4421eb21c4c53b2141bda",
       "step": null,
       "style": "IPY_MODEL_739b9ac3ba18434fa7ece06239f06cb7"
      }
     },
     "58a4a4ae154d4d5b927a001f5fbbcff6": {
      "model_module": "@jupyter-widgets/controls",
      "model_module_version": "1.4.0",
      "model_name": "HBoxModel",
      "state": {
       "children": [
        "IPY_MODEL_4600669d3f004df19715a24ddec35985",
        "IPY_MODEL_61ecdde2ce454c40a703fcd4c602625c",
        "IPY_MODEL_f451c1ddcb834180b8c57369707428a4"
       ],
       "layout": "IPY_MODEL_4bab94e23b46495c99da724fef38c62a"
      }
     },
     "58b02c6cd1464ea5b2550951a66e1644": {
      "model_module": "@jupyter-widgets/controls",
      "model_module_version": "1.4.0",
      "model_name": "DropdownModel",
      "state": {
       "_options_labels": [
        "index2.html",
        "index3.html",
        "index.html"
       ],
       "index": 2,
       "layout": "IPY_MODEL_1d5db6a5be7d4d8fb1db9528045757b9",
       "style": "IPY_MODEL_12ed01d41f644080ac8c939507fb0603"
      }
     },
     "58bc2169d6b245c5a053926ac273646d": {
      "model_module": "@jupyter-widgets/base",
      "model_module_version": "1.1.0",
      "model_name": "LayoutModel",
      "state": {
       "margin": "0 15px 0 0px",
       "width": "auto"
      }
     },
     "58ddbb1839d4427081dc37028325eb1f": {
      "model_module": "@jupyter-widgets/controls",
      "model_module_version": "1.4.0",
      "model_name": "DescriptionStyleModel",
      "state": {
       "description_width": ""
      }
     },
     "58e64da4e4934103ae60d40ee46d865d": {
      "model_module": "@jupyter-widgets/controls",
      "model_module_version": "1.4.0",
      "model_name": "HBoxModel",
      "state": {
       "children": [
        "IPY_MODEL_27263a0ce9304efbb568bcd1807331f4",
        "IPY_MODEL_05ca0da73afd4cd4a5a41671fcaea1c2"
       ],
       "layout": "IPY_MODEL_1f8532c6b87a4ed899164b47daa8f7d3"
      }
     },
     "58f98d7b9bdc4158bd15cdc45ac4840b": {
      "model_module": "@jupyter-widgets/base",
      "model_module_version": "1.1.0",
      "model_name": "LayoutModel",
      "state": {
       "padding": "10px 0px 0px 0px"
      }
     },
     "590cdd7f59414c6fa26508e1903d7dea": {
      "model_module": "@jupyter-widgets/controls",
      "model_module_version": "1.4.0",
      "model_name": "HTMLModel",
      "state": {
       "layout": "IPY_MODEL_8bf7df1522ff460e97f32bdd61e6525f",
       "style": "IPY_MODEL_afa5e35143ed4bc7975186c24b1e49d8",
       "value": "<h2 class='text-danger text-center'>Coming Soon! Wait for Update</h2>"
      }
     },
     "591f1002d7dd45ff8469ff284862d359": {
      "model_module": "@jupyter-widgets/controls",
      "model_module_version": "1.4.0",
      "model_name": "VBoxModel",
      "state": {
       "children": [
        "IPY_MODEL_4af1cea5caa0427a8ce5e9f7659162fe",
        "IPY_MODEL_660f43bfb4164b6fae019213390cde03",
        "IPY_MODEL_f4b43677cd4647e5ae601b1d3b3f957a",
        "IPY_MODEL_9bb3e07436aa476489781c113433d183"
       ],
       "layout": "IPY_MODEL_9ed80f2bab3c4306966b6120d9f55ccf"
      }
     },
     "5930d17e07aa48318d75e8b578094179": {
      "model_module": "@jupyter-widgets/base",
      "model_module_version": "1.1.0",
      "model_name": "LayoutModel",
      "state": {
       "padding": "10px 0px 0px 0px"
      }
     },
     "5970a88fe94d47949d6fb5b0f321450e": {
      "model_module": "@jupyter-widgets/controls",
      "model_module_version": "1.4.0",
      "model_name": "IntSliderModel",
      "state": {
       "layout": "IPY_MODEL_72d39ad6eb0c465880ea6b153546713c",
       "max": 60,
       "min": 6,
       "style": "IPY_MODEL_67066fce119c4f74973d62a63b8b4636",
       "value": 16
      }
     },
     "5978c1e853d140e7ad4bd6206500bff4": {
      "model_module": "@jupyter-widgets/base",
      "model_module_version": "1.1.0",
      "model_name": "LayoutModel",
      "state": {
       "margin": "2px 25px 2px 0px",
       "width": "auto"
      }
     },
     "59a3862735b546f68511b31dbde34d59": {
      "model_module": "@jupyter-widgets/controls",
      "model_module_version": "1.4.0",
      "model_name": "ButtonStyleModel",
      "state": {}
     },
     "59b8327751864b6caac0e9c872b740c0": {
      "model_module": "@jupyter-widgets/controls",
      "model_module_version": "1.4.0",
      "model_name": "ButtonStyleModel",
      "state": {}
     },
     "59c5fb2f399d4c51b52ec37c3fbb3347": {
      "model_module": "@jupyter-widgets/controls",
      "model_module_version": "1.4.0",
      "model_name": "TextModel",
      "state": {
       "description": "Name :",
       "layout": "IPY_MODEL_3e648ef05a7b412cae09788ec640367a",
       "placeholder": "Network Name",
       "style": "IPY_MODEL_82d0b8ab04e74dd3a0068d37b549615c"
      }
     },
     "5a00600abab340a086a7c0f30185774c": {
      "model_module": "@jupyter-widgets/base",
      "model_module_version": "1.1.0",
      "model_name": "LayoutModel",
      "state": {}
     },
     "5a02c14d59e648f6ba0950bbc465933d": {
      "model_module": "@jupyter-widgets/controls",
      "model_module_version": "1.4.0",
      "model_name": "ButtonModel",
      "state": {
       "button_style": "danger",
       "description": "Remove",
       "layout": "IPY_MODEL_05fb2bad62224710b0959d30f5e1369e",
       "style": "IPY_MODEL_16ef74440d7c4f33bbc2f50d7f092cc1"
      }
     },
     "5a55b6e4b9df46a496d259af94179452": {
      "model_module": "@jupyter-widgets/controls",
      "model_module_version": "1.4.0",
      "model_name": "TextModel",
      "state": {
       "description": "Username :",
       "layout": "IPY_MODEL_937c5e85f1e642e5acafe46fcdbd998c",
       "style": "IPY_MODEL_836ce6eddc134d3a8e6bce909e7ec4a1"
      }
     },
     "5a5de8f2d6654f2dbdb5299db088f727": {
      "model_module": "@jupyter-widgets/base",
      "model_module_version": "1.1.0",
      "model_name": "LayoutModel",
      "state": {
       "visibility": "hidden"
      }
     },
     "5a71848d2db54b5eab0df73f8c0812b4": {
      "model_module": "@jupyter-widgets/controls",
      "model_module_version": "1.4.0",
      "model_name": "SelectModel",
      "state": {
       "_options_labels": [
        "Node",
        "Edge"
       ],
       "index": 1,
       "layout": "IPY_MODEL_d31a1ec6f32d4f4596b8351662e15c09",
       "style": "IPY_MODEL_4292642ba4ba41599dd524ecb3bc4d2b"
      }
     },
     "5a8799b377464cdaae624c5c52252347": {
      "model_module": "@jupyter-widgets/controls",
      "model_module_version": "1.4.0",
      "model_name": "ButtonStyleModel",
      "state": {}
     },
     "5abfc689d1b34f80a551fe2cde3d93de": {
      "model_module": "@jupyter-widgets/base",
      "model_module_version": "1.1.0",
      "model_name": "LayoutModel",
      "state": {
       "width": "auto"
      }
     },
     "5ac12e19f2254a54b2a06d029ada70f9": {
      "model_module": "@jupyter-widgets/controls",
      "model_module_version": "1.4.0",
      "model_name": "DescriptionStyleModel",
      "state": {
       "description_width": ""
      }
     },
     "5ad22c56e70f4419980d1b61e48c6407": {
      "model_module": "@jupyter-widgets/controls",
      "model_module_version": "1.4.0",
      "model_name": "VBoxModel",
      "state": {
       "children": [
        "IPY_MODEL_6d3af8c178eb4276a6cf618cef483f8f",
        "IPY_MODEL_026343c598d6414bbfa329c56d627300",
        "IPY_MODEL_692021f85b3f4b849fdafca1ec8f5f51"
       ],
       "layout": "IPY_MODEL_d251ddea27cb45feb2f28280292c6297"
      }
     },
     "5ae03901f9f6481c8252815570b32a69": {
      "model_module": "@jupyter-widgets/base",
      "model_module_version": "1.1.0",
      "model_name": "LayoutModel",
      "state": {
       "padding": "10px 0px 0px 0px"
      }
     },
     "5af1533d7293431aa2877a102a9167d0": {
      "model_module": "@jupyter-widgets/base",
      "model_module_version": "1.1.0",
      "model_name": "LayoutModel",
      "state": {}
     },
     "5aff47ed277e4d5d92b19bb94070dd59": {
      "model_module": "@jupyter-widgets/base",
      "model_module_version": "1.1.0",
      "model_name": "LayoutModel",
      "state": {}
     },
     "5b0be16c5d5641e6af2847672bb19244": {
      "model_module": "@jupyter-widgets/controls",
      "model_module_version": "1.4.0",
      "model_name": "FloatTextModel",
      "state": {
       "continuous_update": true,
       "layout": "IPY_MODEL_b289508af4814a0f98da9259bd3b81c1",
       "step": null,
       "style": "IPY_MODEL_b06b7e4eb9a246d3ad0605c46c36ee5e"
      }
     },
     "5b3679a0732546df9125b7616ee9211b": {
      "model_module": "@jupyter-widgets/base",
      "model_module_version": "1.1.0",
      "model_name": "LayoutModel",
      "state": {}
     },
     "5ba32b5c669a43b2aa915729369f1fe8": {
      "model_module": "@jupyter-widgets/controls",
      "model_module_version": "1.4.0",
      "model_name": "DescriptionStyleModel",
      "state": {
       "description_width": ""
      }
     },
     "5bdfa8ad85af40018051276a6d30ea27": {
      "model_module": "@jupyter-widgets/controls",
      "model_module_version": "1.4.0",
      "model_name": "DescriptionStyleModel",
      "state": {
       "description_width": ""
      }
     },
     "5c1192661c2d44309690a0b07ab342d9": {
      "model_module": "@jupyter-widgets/controls",
      "model_module_version": "1.4.0",
      "model_name": "DescriptionStyleModel",
      "state": {
       "description_width": ""
      }
     },
     "5c19d203380a4e45a124de8c8a3dd5cd": {
      "model_module": "@jupyter-widgets/base",
      "model_module_version": "1.1.0",
      "model_name": "LayoutModel",
      "state": {}
     },
     "5c28b13f13ea4ecca8f0ff1206a65bf6": {
      "model_module": "@jupyter-widgets/base",
      "model_module_version": "1.1.0",
      "model_name": "LayoutModel",
      "state": {
       "width": "auto"
      }
     },
     "5c35150507ae4c709d42264074084354": {
      "model_module": "@jupyter-widgets/base",
      "model_module_version": "1.1.0",
      "model_name": "LayoutModel",
      "state": {
       "height": "80px",
       "width": "99%"
      }
     },
     "5c507c73d964425886c2e43e906f573b": {
      "model_module": "@jupyter-widgets/base",
      "model_module_version": "1.1.0",
      "model_name": "LayoutModel",
      "state": {}
     },
     "5c55967fb7534853856180a50aacd479": {
      "model_module": "@jupyter-widgets/controls",
      "model_module_version": "1.4.0",
      "model_name": "ButtonStyleModel",
      "state": {}
     },
     "5c6a019783d644868cc9546bc06b5b92": {
      "model_module": "@jupyter-widgets/controls",
      "model_module_version": "1.4.0",
      "model_name": "HTMLModel",
      "state": {
       "layout": "IPY_MODEL_713a725d36274570a031331969958692",
       "style": "IPY_MODEL_0c424c3914c344a38406589dbd5177dc",
       "value": "<font size=3 style='justify-content: center;'>AverageShortestPathLength : </font>"
      }
     },
     "5c78babbf5104f028300f48c411aadcf": {
      "model_module": "@jupyter-widgets/base",
      "model_module_version": "1.1.0",
      "model_name": "LayoutModel",
      "state": {}
     },
     "5c9814bd1128468697f5c112b1b17b33": {
      "model_module": "@jupyter-widgets/base",
      "model_module_version": "1.1.0",
      "model_name": "LayoutModel",
      "state": {}
     },
     "5c9a9bc099a04c64af28174dbea20ba2": {
      "model_module": "@jupyter-widgets/base",
      "model_module_version": "1.1.0",
      "model_name": "LayoutModel",
      "state": {}
     },
     "5d6cb7e19762487f9d7ba7df1ebef3a1": {
      "model_module": "@jupyter-widgets/controls",
      "model_module_version": "1.4.0",
      "model_name": "FloatTextModel",
      "state": {
       "continuous_update": true,
       "layout": "IPY_MODEL_ec8d3caf23f04062ae7dc7cbbca59b82",
       "step": null,
       "style": "IPY_MODEL_3e951cc2c384456d9bd117357bbc3100"
      }
     },
     "5d6f095915ad45ac96d1f6c94784d6e7": {
      "model_module": "@jupyter-widgets/base",
      "model_module_version": "1.1.0",
      "model_name": "LayoutModel",
      "state": {}
     },
     "5d90229ef9954a799d4183c2c36e16d3": {
      "model_module": "@jupyter-widgets/controls",
      "model_module_version": "1.4.0",
      "model_name": "TextModel",
      "state": {
       "layout": "IPY_MODEL_099ad38d35ff463e96abe047cda58085",
       "style": "IPY_MODEL_c1922c66d95e4253ba3e8ae090df18cc",
       "value": "asdf asdf asdf "
      }
     },
     "5d923bd29b4b4fe38af1a9252539761e": {
      "model_module": "@jupyter-widgets/controls",
      "model_module_version": "1.4.0",
      "model_name": "DescriptionStyleModel",
      "state": {
       "description_width": ""
      }
     },
     "5dbe7845eb2a4e4f86347b7f11dbf05a": {
      "model_module": "@jupyter-widgets/controls",
      "model_module_version": "1.4.0",
      "model_name": "DescriptionStyleModel",
      "state": {
       "description_width": ""
      }
     },
     "5dbfe8180f5c4ddeb17f6884d48c163b": {
      "model_module": "@jupyter-widgets/base",
      "model_module_version": "1.1.0",
      "model_name": "LayoutModel",
      "state": {}
     },
     "5dd2991c33cc45c5b9564516a883968b": {
      "model_module": "@jupyter-widgets/controls",
      "model_module_version": "1.4.0",
      "model_name": "DescriptionStyleModel",
      "state": {
       "description_width": ""
      }
     },
     "5de9ed894dfc4f50bab223fc72a2dd01": {
      "model_module": "@jupyter-widgets/controls",
      "model_module_version": "1.4.0",
      "model_name": "HTMLModel",
      "state": {
       "layout": "IPY_MODEL_449dbd89d3834ec5803500b36dff4b92",
       "style": "IPY_MODEL_b9ec32a824b64370959631f94a30237e",
       "value": "<h4 style='color:DarkKhaki'>Node :</h4>"
      }
     },
     "5dec0e90c6d14768848ceb8dad8b8fd3": {
      "model_module": "@jupyter-widgets/base",
      "model_module_version": "1.1.0",
      "model_name": "LayoutModel",
      "state": {}
     },
     "5e045ab6479f4cef9b6e7b05d4f77769": {
      "model_module": "@jupyter-widgets/controls",
      "model_module_version": "1.4.0",
      "model_name": "DescriptionStyleModel",
      "state": {
       "description_width": ""
      }
     },
     "5e09c861b3674f2aacb84f38095ccb4b": {
      "model_module": "@jupyter-widgets/base",
      "model_module_version": "1.1.0",
      "model_name": "LayoutModel",
      "state": {}
     },
     "5e8d250d328848c0826056cf17cc908f": {
      "model_module": "@jupyter-widgets/controls",
      "model_module_version": "1.4.0",
      "model_name": "HTMLModel",
      "state": {
       "layout": "IPY_MODEL_e4ccd482f897459084608ef28aafe3e6",
       "style": "IPY_MODEL_db8e8d4b812d4a30bcd3e688621d2b24",
       "value": "<hr style='padding: 2px; margin: 2px'>"
      }
     },
     "5e9da6d83d7742abbf699dc8506335b0": {
      "model_module": "@jupyter-widgets/controls",
      "model_module_version": "1.4.0",
      "model_name": "ButtonStyleModel",
      "state": {}
     },
     "5ec8ca8d5a084f999d54be774acb721e": {
      "model_module": "@jupyter-widgets/controls",
      "model_module_version": "1.4.0",
      "model_name": "DescriptionStyleModel",
      "state": {
       "description_width": ""
      }
     },
     "5f2c09bcdc1a4e81968ecdd1765cc326": {
      "model_module": "@jupyter-widgets/controls",
      "model_module_version": "1.4.0",
      "model_name": "ButtonStyleModel",
      "state": {}
     },
     "5fa787d8a3584c0ea1ad69192afd212a": {
      "model_module": "@jupyter-widgets/controls",
      "model_module_version": "1.4.0",
      "model_name": "ButtonStyleModel",
      "state": {}
     },
     "5fe4cd5d41d9469c9236a6b4d98ac20b": {
      "model_module": "@jupyter-widgets/base",
      "model_module_version": "1.1.0",
      "model_name": "LayoutModel",
      "state": {}
     },
     "6011fc5c89c4429c8c76252b81922db9": {
      "model_module": "@jupyter-widgets/base",
      "model_module_version": "1.1.0",
      "model_name": "LayoutModel",
      "state": {
       "height": "40px",
       "min_width": "50px",
       "width": "10%"
      }
     },
     "60409315613c4297b920370459d7a6ca": {
      "model_module": "@jupyter-widgets/controls",
      "model_module_version": "1.4.0",
      "model_name": "DescriptionStyleModel",
      "state": {
       "description_width": ""
      }
     },
     "60841ce52ea049f2b197932e32895a07": {
      "model_module": "@jupyter-widgets/controls",
      "model_module_version": "1.4.0",
      "model_name": "ButtonModel",
      "state": {
       "button_style": "danger",
       "description": "Remove",
       "layout": "IPY_MODEL_1b79be4c1d474959a8ac840ddf4ee251",
       "style": "IPY_MODEL_675c29a168af4cf1996098373a260475"
      }
     },
     "60bb3c681ba84ea490c628786239decd": {
      "model_module": "@jupyter-widgets/base",
      "model_module_version": "1.1.0",
      "model_name": "LayoutModel",
      "state": {}
     },
     "6109117499894bbba7523450d7843e51": {
      "model_module": "@jupyter-widgets/controls",
      "model_module_version": "1.4.0",
      "model_name": "HBoxModel",
      "state": {
       "children": [
        "IPY_MODEL_3ad66ba7aab94827bbd7538290fe4e85",
        "IPY_MODEL_aa340c96dad940fca4f9a43651b4923e"
       ],
       "layout": "IPY_MODEL_10375abd4f114f3abba45339ffbba6c8"
      }
     },
     "619b1240e6694ed19d20fa52ca45a157": {
      "model_module": "@jupyter-widgets/controls",
      "model_module_version": "1.4.0",
      "model_name": "ButtonModel",
      "state": {
       "button_style": "danger",
       "description": "Remove",
       "layout": "IPY_MODEL_94ee93f8df924413bfbb765ddf180753",
       "style": "IPY_MODEL_0321d5a7614a4fd6bcf161293e20659e"
      }
     },
     "61a3bb529157412b9bbf1867454f6de8": {
      "model_module": "@jupyter-widgets/controls",
      "model_module_version": "1.4.0",
      "model_name": "DescriptionStyleModel",
      "state": {
       "description_width": ""
      }
     },
     "61b3ca28917741d5b963895b23f7f34a": {
      "model_module": "@jupyter-widgets/controls",
      "model_module_version": "1.4.0",
      "model_name": "AccordionModel",
      "state": {
       "_titles": {
        "0": "Load",
        "1": "Save"
       },
       "children": [
        "IPY_MODEL_2392a2e024d141fa9ab530689ee76771",
        "IPY_MODEL_7c276b22f05d4d31b6b18d83fa489b3a"
       ],
       "layout": "IPY_MODEL_4ddcb9d42faa447f92e8c63bb06e1a30"
      }
     },
     "61c5a689bee048fa80e22636c2fdea1b": {
      "model_module": "@jupyter-widgets/controls",
      "model_module_version": "1.4.0",
      "model_name": "LabelModel",
      "state": {
       "layout": "IPY_MODEL_f9e6451511d84dde9f7bf5129aa9796c",
       "style": "IPY_MODEL_38e033e139f44b079cb37f04b27c56b4",
       "value": "Color :"
      }
     },
     "61c7c66f8470452fb03ca7907db0937c": {
      "model_module": "@jupyter-widgets/base",
      "model_module_version": "1.1.0",
      "model_name": "LayoutModel",
      "state": {
       "justify_content": "center",
       "padding": "10px 0px 0px 0px"
      }
     },
     "61d8c908b0f24e21b86054088533cb29": {
      "model_module": "@jupyter-widgets/controls",
      "model_module_version": "1.4.0",
      "model_name": "HTMLModel",
      "state": {
       "layout": "IPY_MODEL_70e38dc8853540a68718a7fdaffdd85a",
       "style": "IPY_MODEL_a7a3be8c1f514a9db69e8c55f2dd8192",
       "value": "<font size=3 style='justify-content: center;'>SUID : </font>"
      }
     },
     "61e08ef5225c44e38a6702e76ed41e58": {
      "model_module": "@jupyter-widgets/base",
      "model_module_version": "1.1.0",
      "model_name": "LayoutModel",
      "state": {}
     },
     "61ecdde2ce454c40a703fcd4c602625c": {
      "model_module": "@jupyter-widgets/controls",
      "model_module_version": "1.4.0",
      "model_name": "FloatTextModel",
      "state": {
       "continuous_update": true,
       "layout": "IPY_MODEL_53692e257bc3420db0d05995999fa369",
       "step": null,
       "style": "IPY_MODEL_b2a596355f1446668b0884c1074187d3"
      }
     },
     "61f56c2437ff457db3b026da1649071a": {
      "model_module": "@jupyter-widgets/controls",
      "model_module_version": "1.4.0",
      "model_name": "TextModel",
      "state": {
       "layout": "IPY_MODEL_cd968103bf1b4c5eb89389b89ff8a6aa",
       "style": "IPY_MODEL_5080357e202b41ed868d98c6b72080b8"
      }
     },
     "61fe17e1db0449e8897a8735539aad0a": {
      "model_module": "@jupyter-widgets/controls",
      "model_module_version": "1.4.0",
      "model_name": "ColorPickerModel",
      "state": {
       "disabled": false,
       "layout": "IPY_MODEL_3c2e1818d1ff4e7a80593412dcb991fe",
       "style": "IPY_MODEL_e0a7648796374e5fb373baa9e0cbc949"
      }
     },
     "6201c0cafd3f416d8482dd3eda690ab5": {
      "model_module": "@jupyter-widgets/controls",
      "model_module_version": "1.4.0",
      "model_name": "HBoxModel",
      "state": {
       "children": [
        "IPY_MODEL_576506414fee4d69a08840e9953eb952",
        "IPY_MODEL_20087d3d40714b3f863023ede31cc631",
        "IPY_MODEL_e2d69e9e5c6b4eae8571e09728a6d352"
       ],
       "layout": "IPY_MODEL_ea388b5f968047d4b5bba660fe9d1f55"
      }
     },
     "6208bbbc149f42979a51f39517cd793d": {
      "model_module": "@jupyter-widgets/base",
      "model_module_version": "1.1.0",
      "model_name": "LayoutModel",
      "state": {}
     },
     "620d7d01ef15407bb2a2055c4195146c": {
      "model_module": "@jupyter-widgets/base",
      "model_module_version": "1.1.0",
      "model_name": "LayoutModel",
      "state": {
       "min_width": "30px"
      }
     },
     "621a6ed1956a4fdaa9665c1b6cb45c03": {
      "model_module": "@jupyter-widgets/base",
      "model_module_version": "1.1.0",
      "model_name": "LayoutModel",
      "state": {}
     },
     "62203e87340049728e54c26934ec5ed9": {
      "model_module": "@jupyter-widgets/base",
      "model_module_version": "1.1.0",
      "model_name": "LayoutModel",
      "state": {}
     },
     "62404124a1b04ab3a244fc2d7eaefd5e": {
      "model_module": "@jupyter-widgets/base",
      "model_module_version": "1.1.0",
      "model_name": "LayoutModel",
      "state": {
       "width": "auto"
      }
     },
     "6254ad8c22db4d62a4afaa3d4f5c86c2": {
      "model_module": "@jupyter-widgets/base",
      "model_module_version": "1.1.0",
      "model_name": "LayoutModel",
      "state": {
       "justify_content": "center",
       "padding": "10px 0px 0px 0px"
      }
     },
     "626936afd7254f9f85951fb83077ceea": {
      "model_module": "@jupyter-widgets/controls",
      "model_module_version": "1.4.0",
      "model_name": "HTMLModel",
      "state": {
       "layout": "IPY_MODEL_cdc621247b3041b7925b29507c932ac8",
       "style": "IPY_MODEL_f66fbea24b41414192061f67ea9b3625",
       "value": "<font size=3 style='justify-content: center;'>width_full : </font>"
      }
     },
     "62d07013c38646e0af15d583c57175cc": {
      "model_module": "@jupyter-widgets/base",
      "model_module_version": "1.1.0",
      "model_name": "LayoutModel",
      "state": {}
     },
     "62f32cc655004bbb9347f682c93c9907": {
      "model_module": "@jupyter-widgets/base",
      "model_module_version": "1.1.0",
      "model_name": "LayoutModel",
      "state": {}
     },
     "62f8be7824b743b4b8fcd5b9f354cd82": {
      "model_module": "@jupyter-widgets/controls",
      "model_module_version": "1.4.0",
      "model_name": "DescriptionStyleModel",
      "state": {
       "description_width": ""
      }
     },
     "6368da25b20642959be7f7df7238e836": {
      "model_module": "@jupyter-widgets/controls",
      "model_module_version": "1.4.0",
      "model_name": "SliderStyleModel",
      "state": {
       "description_width": ""
      }
     },
     "63a3a1b014404cedb470681c2f070e2f": {
      "model_module": "@jupyter-widgets/controls",
      "model_module_version": "1.4.0",
      "model_name": "DescriptionStyleModel",
      "state": {
       "description_width": ""
      }
     },
     "63c5c99da3f543ab908aab7db9670610": {
      "model_module": "@jupyter-widgets/base",
      "model_module_version": "1.1.0",
      "model_name": "LayoutModel",
      "state": {
       "visibility": "hidden"
      }
     },
     "64251c62081d466d9f0692be8cf2936a": {
      "model_module": "@jupyter-widgets/base",
      "model_module_version": "1.1.0",
      "model_name": "LayoutModel",
      "state": {
       "width": "auto"
      }
     },
     "6441fa423da543fc9a14b554fea03538": {
      "model_module": "@jupyter-widgets/base",
      "model_module_version": "1.1.0",
      "model_name": "LayoutModel",
      "state": {}
     },
     "64789740b45041689ddb76a6f5d2aa4d": {
      "model_module": "@jupyter-widgets/controls",
      "model_module_version": "1.4.0",
      "model_name": "HTMLModel",
      "state": {
       "layout": "IPY_MODEL_007c5086069147369ab92e2d1d17692a",
       "style": "IPY_MODEL_8e7d038005874cf1a34560f9a536e738",
       "value": "<font size=3 style='justify-content: center;'>PartnerOfMultiEdgedNodePairs : </font>"
      }
     },
     "6487d4db8895466ba235c637ef3e8bba": {
      "model_module": "@jupyter-widgets/base",
      "model_module_version": "1.1.0",
      "model_name": "LayoutModel",
      "state": {}
     },
     "648b9a9143774853a59c329fa5b74f04": {
      "model_module": "@jupyter-widgets/base",
      "model_module_version": "1.1.0",
      "model_name": "LayoutModel",
      "state": {
       "padding": "0 15px 0 35px"
      }
     },
     "64ee90ba90694f73b5462460c5d9deba": {
      "model_module": "@jupyter-widgets/controls",
      "model_module_version": "1.4.0",
      "model_name": "DescriptionStyleModel",
      "state": {
       "description_width": ""
      }
     },
     "64f4ec10ed7b494a9c89490f775c977b": {
      "model_module": "@jupyter-widgets/base",
      "model_module_version": "1.1.0",
      "model_name": "LayoutModel",
      "state": {}
     },
     "64fa9d4916374977941155000edcc5d2": {
      "model_module": "@jupyter-widgets/controls",
      "model_module_version": "1.4.0",
      "model_name": "DescriptionStyleModel",
      "state": {
       "description_width": ""
      }
     },
     "6507641845974baba35042cc72f889d5": {
      "model_module": "@jupyter-widgets/controls",
      "model_module_version": "1.4.0",
      "model_name": "HBoxModel",
      "state": {
       "children": [
        "IPY_MODEL_c66f05b790224235a4eebbdf7422cb4d",
        "IPY_MODEL_035b78406d364102880ee66d110eabd3",
        "IPY_MODEL_ba5abcb674ef4cf89ec384bdc68103b1"
       ],
       "layout": "IPY_MODEL_e2a1c6bdacde4fdda6ebbc8c50d6ec87"
      }
     },
     "65450d55dcfc4b48b700c679d829491d": {
      "model_module": "@jupyter-widgets/controls",
      "model_module_version": "1.4.0",
      "model_name": "LabelModel",
      "state": {
       "layout": "IPY_MODEL_25cdd918fec34a3aaa7f69d0df5aa4cb",
       "style": "IPY_MODEL_afd9f68f2faf4d329072120bd8389c70",
       "value": "Size :"
      }
     },
     "65493a5d1d014019ac8dacea4f4ae3e9": {
      "model_module": "@jupyter-widgets/base",
      "model_module_version": "1.1.0",
      "model_name": "LayoutModel",
      "state": {}
     },
     "659d70ccbeb84a7ca99e4f111d543e56": {
      "model_module": "@jupyter-widgets/base",
      "model_module_version": "1.1.0",
      "model_name": "LayoutModel",
      "state": {}
     },
     "65d3cba7d5024eb584afad242309785b": {
      "model_module": "@jupyter-widgets/controls",
      "model_module_version": "1.4.0",
      "model_name": "ButtonModel",
      "state": {
       "button_style": "danger",
       "description": "Remove",
       "layout": "IPY_MODEL_3dfa4f477d77448999abf5b33fdb5b63",
       "style": "IPY_MODEL_19d8047c2ff34d288a9732d1b70e60e6"
      }
     },
     "65e9d262188f4070a392f420f738f3c9": {
      "model_module": "@jupyter-widgets/controls",
      "model_module_version": "1.4.0",
      "model_name": "VBoxModel",
      "state": {
       "children": [
        "IPY_MODEL_12e9f430605b452086aab46ef688acfa",
        "IPY_MODEL_7ca3a3ad8ecd408c99377e313ea942fe"
       ],
       "layout": "IPY_MODEL_29c58ff588ed45ceb6c21af6f43007c4"
      }
     },
     "65eb659427be465286282736eecb5f89": {
      "model_module": "@jupyter-widgets/base",
      "model_module_version": "1.1.0",
      "model_name": "LayoutModel",
      "state": {}
     },
     "66074736336e480ab6955f09463696bd": {
      "model_module": "@jupyter-widgets/controls",
      "model_module_version": "1.4.0",
      "model_name": "ButtonStyleModel",
      "state": {}
     },
     "660ca09a7b9747bc9428050994ed4f0d": {
      "model_module": "@jupyter-widgets/controls",
      "model_module_version": "1.4.0",
      "model_name": "HBoxModel",
      "state": {
       "children": [
        "IPY_MODEL_aedc87381e8a4ee7886f8c24d818b6a4",
        "IPY_MODEL_6e9cce5d8a9143288b3d41d248e7ceae"
       ],
       "layout": "IPY_MODEL_a37bad3625024d1fade82fa1363bcf82"
      }
     },
     "660f43bfb4164b6fae019213390cde03": {
      "model_module": "@jupyter-widgets/controls",
      "model_module_version": "1.4.0",
      "model_name": "HBoxModel",
      "state": {
       "children": [
        "IPY_MODEL_150c27d908a54902a1d0b0f2612c994e",
        "IPY_MODEL_02d1a25cf8894945b83718e4c00ac602"
       ],
       "layout": "IPY_MODEL_61e08ef5225c44e38a6702e76ed41e58"
      }
     },
     "6611e8c908bb4b198c34cebe7ebc9de9": {
      "model_module": "@jupyter-widgets/controls",
      "model_module_version": "1.4.0",
      "model_name": "DropdownModel",
      "state": {
       "_options_labels": [
        "solid",
        "dotted",
        "dashed"
       ],
       "index": 0,
       "layout": "IPY_MODEL_164eb75b86da400caf69d9e03e9fd3bb",
       "style": "IPY_MODEL_2e3678e215df4a13aa4fd05aa1d605f6"
      }
     },
     "665fdf559f7c4ce1b3405f7ec8b791fa": {
      "model_module": "@jupyter-widgets/controls",
      "model_module_version": "1.4.0",
      "model_name": "TextModel",
      "state": {
       "description": "Username :",
       "layout": "IPY_MODEL_7866e8fe24b94fec85588fa2a0bc461a",
       "style": "IPY_MODEL_0cd081be9c30439c9c3a9decee5be70a"
      }
     },
     "66702800da6444bf906059d694a2e0d9": {
      "model_module": "@jupyter-widgets/controls",
      "model_module_version": "1.4.0",
      "model_name": "HTMLModel",
      "state": {
       "layout": "IPY_MODEL_0c4bc6372a1c466eb5cf2c53f6a97f4d",
       "style": "IPY_MODEL_88ecf3ac53ce487785a83ee00153c9ba",
       "value": "<font size=3 style='justify-content: center;'>shared_name : </font>"
      }
     },
     "6696e05954f8465f98beaedef9efe197": {
      "model_module": "@jupyter-widgets/controls",
      "model_module_version": "1.4.0",
      "model_name": "DropdownModel",
      "state": {
       "_options_labels": [
        "none",
        "triangle",
        "tee",
        "diamond",
        "square",
        "circle",
        "vee",
        "triangle-tee"
       ],
       "index": 0,
       "layout": "IPY_MODEL_ab896355d7cf4b9a8bf939f0a0ebf500",
       "style": "IPY_MODEL_5493149f78c144b0b434a857affcd0b6"
      }
     },
     "669fe33da7a44237aea7bdf36bd4f7cd": {
      "model_module": "@jupyter-widgets/base",
      "model_module_version": "1.1.0",
      "model_name": "LayoutModel",
      "state": {
       "justify_content": "center",
       "margin": "0 0 15px 0"
      }
     },
     "66a17c64f79349929da186d73e496b7d": {
      "model_module": "@jupyter-widgets/controls",
      "model_module_version": "1.4.0",
      "model_name": "HBoxModel",
      "state": {
       "children": [
        "IPY_MODEL_365d2085603e493ab893d6e7aa2e3759",
        "IPY_MODEL_6696e05954f8465f98beaedef9efe197"
       ],
       "layout": "IPY_MODEL_f600849f0d39485f9ceb182cfd2253c6"
      }
     },
     "67066fce119c4f74973d62a63b8b4636": {
      "model_module": "@jupyter-widgets/controls",
      "model_module_version": "1.4.0",
      "model_name": "SliderStyleModel",
      "state": {
       "description_width": ""
      }
     },
     "6707f8fd53644959ab29f559ed2fefd1": {
      "model_module": "@jupyter-widgets/base",
      "model_module_version": "1.1.0",
      "model_name": "LayoutModel",
      "state": {}
     },
     "675c29a168af4cf1996098373a260475": {
      "model_module": "@jupyter-widgets/controls",
      "model_module_version": "1.4.0",
      "model_name": "ButtonStyleModel",
      "state": {}
     },
     "676754c13def4cf79308978535165af3": {
      "model_module": "@jupyter-widgets/controls",
      "model_module_version": "1.4.0",
      "model_name": "HTMLModel",
      "state": {
       "layout": "IPY_MODEL_a423ca4ae84744e8a7c7e35b4a2f97b4",
       "style": "IPY_MODEL_2edd892341e64b4894951168075d24e9",
       "value": "<h4 style='color: DarkKhaki'>Nodes</h4>"
      }
     },
     "6781d07b79c54981b4661c7d071fe61d": {
      "model_module": "@jupyter-widgets/controls",
      "model_module_version": "1.4.0",
      "model_name": "HBoxModel",
      "state": {
       "children": [
        "IPY_MODEL_7a9788e4d1404365905786c5d1ac204c"
       ],
       "layout": "IPY_MODEL_4fb66e4a59a24b35bbb03d26daf09cf1"
      }
     },
     "67889ed0da1a4b1ea3643a06a2371b9b": {
      "model_module": "@jupyter-widgets/controls",
      "model_module_version": "1.4.0",
      "model_name": "ButtonStyleModel",
      "state": {}
     },
     "67c909fa380a4365a47c3678600afb5d": {
      "model_module": "@jupyter-widgets/controls",
      "model_module_version": "1.4.0",
      "model_name": "HTMLModel",
      "state": {
       "layout": "IPY_MODEL_73aa34c69ad941109b26eb3ca03b0b21",
       "style": "IPY_MODEL_01b1547a3c6246c88e50dc75b581084d",
       "value": "<h5>Here you can load in a cytoscape <font color='darkKhaki'>.html</font> file. \nPut the file you want to load into the same place as this notebook, then load it in! </h5>"
      }
     },
     "67ecd894e1ba470894fd381d116983da": {
      "model_module": "@jupyter-widgets/controls",
      "model_module_version": "1.4.0",
      "model_name": "DescriptionStyleModel",
      "state": {
       "description_width": ""
      }
     },
     "6843702ec0c94b7ebb8c85b95d8b164f": {
      "model_module": "@jupyter-widgets/base",
      "model_module_version": "1.1.0",
      "model_name": "LayoutModel",
      "state": {}
     },
     "6857a0181da5493499972bc1b7d61bb6": {
      "model_module": "@jupyter-widgets/base",
      "model_module_version": "1.1.0",
      "model_name": "LayoutModel",
      "state": {}
     },
     "6875bca5c0d4478a8259aa87ee9a2b51": {
      "model_module": "@jupyter-widgets/base",
      "model_module_version": "1.1.0",
      "model_name": "LayoutModel",
      "state": {
       "width": "auto"
      }
     },
     "687ba25ff64248b1b180be3715aca529": {
      "model_module": "@jupyter-widgets/base",
      "model_module_version": "1.1.0",
      "model_name": "LayoutModel",
      "state": {
       "width": "auto"
      }
     },
     "688a47b7be5c4f26bf67f046e4d81559": {
      "model_module": "@jupyter-widgets/controls",
      "model_module_version": "1.4.0",
      "model_name": "HTMLModel",
      "state": {
       "layout": "IPY_MODEL_c4edb571b78c461b8e750e52d8738b02",
       "style": "IPY_MODEL_9b72a4d0f5e84b53b29f6a4a1e6ef6e9",
       "value": "<font size=3 style='justify-content: center;'>degree_layout : </font>"
      }
     },
     "68a484509ae046a3be58d65060d1db48": {
      "model_module": "@jupyter-widgets/controls",
      "model_module_version": "1.4.0",
      "model_name": "HTMLModel",
      "state": {
       "layout": "IPY_MODEL_5c9a9bc099a04c64af28174dbea20ba2",
       "style": "IPY_MODEL_a2f1cf5bc6a041f1b675a19e80c3680d",
       "value": "<b><p><a href='http://js.cytoscape.org/#selectors'>Search:</a></p></b>"
      }
     },
     "68bcec272cfb4e6e83428acb98b8abe8": {
      "model_module": "@jupyter-widgets/base",
      "model_module_version": "1.1.0",
      "model_name": "LayoutModel",
      "state": {}
     },
     "68f64a388d9b44509288aa1c7d660d1c": {
      "model_module": "@jupyter-widgets/controls",
      "model_module_version": "1.4.0",
      "model_name": "VBoxModel",
      "state": {
       "children": [
        "IPY_MODEL_c9b0d0aa46fe4534ae5e8a79adf9d675",
        "IPY_MODEL_31a0326cde46400892cf500c78335cea",
        "IPY_MODEL_8082a2985e44432d9c8a67e5c1b0c802",
        "IPY_MODEL_27dd0c8319f0456493241a010606632f",
        "IPY_MODEL_79c98bd11c5246c9a30f0cbdeadb2cde",
        "IPY_MODEL_4363327d7bc24fc39407b796061e53fa",
        "IPY_MODEL_16bb08fd2d9141a18295a20427cc9f0c",
        "IPY_MODEL_f09e5b15b81d4f92ab24009bcbc1cb16",
        "IPY_MODEL_872bbb1bffd44a92b3531909fff8284c",
        "IPY_MODEL_ebb1cf65277147ef82176e47a57bd8e2",
        "IPY_MODEL_4a607e266385406a8e0c2e7709fda257",
        "IPY_MODEL_c7a8192f343141998a8c83fe38ec0bf3",
        "IPY_MODEL_de28eb1eb7024d16b14772f442282d1b",
        "IPY_MODEL_4f523796f9a5486ea6e2c5d292ac4f2f",
        "IPY_MODEL_099e5d389da64ea784eebef1b0ac99da",
        "IPY_MODEL_a2c76013a7fa422abb845f7d30d87e4c",
        "IPY_MODEL_716140379cc3437cbdef4cbbb5892940",
        "IPY_MODEL_c1120f404a674664a257057046d3fa68",
        "IPY_MODEL_ebdb9a1003454d039a55a484d86f137c",
        "IPY_MODEL_36b3455b541b4da0943ea286d4da7712",
        "IPY_MODEL_6507641845974baba35042cc72f889d5"
       ],
       "layout": "IPY_MODEL_56605850549b4a138444b8a03f425386"
      }
     },
     "6915ae61cb5b499dadb000c99d7c379f": {
      "model_module": "@jupyter-widgets/controls",
      "model_module_version": "1.4.0",
      "model_name": "DropdownModel",
      "state": {
       "_options_labels": [
        "none",
        "triangle",
        "tee",
        "diamond",
        "square",
        "circle",
        "vee",
        "triangle-tee"
       ],
       "index": 0,
       "layout": "IPY_MODEL_f74ee89e857247a1bf84eedb3e31fc89",
       "style": "IPY_MODEL_d0b6aafd0a7a40d4b8b3aecda956a1c3"
      }
     },
     "692021f85b3f4b849fdafca1ec8f5f51": {
      "model_module": "@jupyter-widgets/controls",
      "model_module_version": "1.4.0",
      "model_name": "VBoxModel",
      "state": {
       "children": [
        "IPY_MODEL_67c909fa380a4365a47c3678600afb5d",
        "IPY_MODEL_19284480a8384f009aceca06a1779075",
        "IPY_MODEL_34c897a0ba8c4dcfbd6310081e792dac"
       ],
       "layout": "IPY_MODEL_c6528029b041485e8a017acef50f3008"
      }
     },
     "694db13f2a934c00bcb182834225385e": {
      "model_module": "@jupyter-widgets/controls",
      "model_module_version": "1.4.0",
      "model_name": "ButtonStyleModel",
      "state": {}
     },
     "6951d414614e4833bde63cbb9efa8bb8": {
      "model_module": "@jupyter-widgets/controls",
      "model_module_version": "1.4.0",
      "model_name": "ToggleButtonModel",
      "state": {
       "icon": "eye",
       "layout": "IPY_MODEL_51a7b08aa4bc4617affb960e3cf8163f",
       "style": "IPY_MODEL_999d8511bcff4e39a687ede8f0d8a6d9"
      }
     },
     "697c371f68cc4f5d8c261dcd228a3efa": {
      "model_module": "@jupyter-widgets/controls",
      "model_module_version": "1.4.0",
      "model_name": "DescriptionStyleModel",
      "state": {
       "description_width": ""
      }
     },
     "69cd84180cd9463eb1542130439c0e61": {
      "model_module": "@jupyter-widgets/controls",
      "model_module_version": "1.4.0",
      "model_name": "ButtonModel",
      "state": {
       "button_style": "danger",
       "description": "Remove",
       "layout": "IPY_MODEL_be07b34857314128aa9ea9bfdb327929",
       "style": "IPY_MODEL_f928f0e3d8c94fe7a7d4ed1bb9a6094d"
      }
     },
     "69e43b073e20466d818b435738366aba": {
      "model_module": "@jupyter-widgets/controls",
      "model_module_version": "1.4.0",
      "model_name": "LabelModel",
      "state": {
       "layout": "IPY_MODEL_081b16a817334a6d925fabd5ede3ecd3",
       "style": "IPY_MODEL_5bdfa8ad85af40018051276a6d30ea27",
       "value": "Image : "
      }
     },
     "69fa31fee97745b19b81a75286107270": {
      "model_module": "@jupyter-widgets/base",
      "model_module_version": "1.1.0",
      "model_name": "LayoutModel",
      "state": {
       "justify_content": "center",
       "padding": "10px 0px 0px 0px"
      }
     },
     "6a23eac0c57d479ca41745c857360fb8": {
      "model_module": "@jupyter-widgets/base",
      "model_module_version": "1.1.0",
      "model_name": "LayoutModel",
      "state": {}
     },
     "6a64708522634e20bf55379080ea4d18": {
      "model_module": "@jupyter-widgets/base",
      "model_module_version": "1.1.0",
      "model_name": "LayoutModel",
      "state": {}
     },
     "6a75d140509842059cabe0de5682144e": {
      "model_module": "@jupyter-widgets/base",
      "model_module_version": "1.1.0",
      "model_name": "LayoutModel",
      "state": {
       "padding": "10px 0px 0px 0px"
      }
     },
     "6a80f8596be14799a07f5bf5beaa620a": {
      "model_module": "@jupyter-widgets/base",
      "model_module_version": "1.1.0",
      "model_name": "LayoutModel",
      "state": {
       "width": "auto"
      }
     },
     "6ac04e30a024413b887128c25354508b": {
      "model_module": "@jupyter-widgets/controls",
      "model_module_version": "1.4.0",
      "model_name": "VBoxModel",
      "state": {
       "children": [
        "IPY_MODEL_c1e1027702fc433ebc306afc8aa379e0",
        "IPY_MODEL_490b144ab7604b03b3549679e1971f24",
        "IPY_MODEL_7933d5a5122045d5ab9a9f94f0b55c93",
        "IPY_MODEL_78593479ac6048a7be4c664321db9159"
       ],
       "layout": "IPY_MODEL_2c4191babd5d43338752272fe1f20245"
      }
     },
     "6ac2401397ad4e31b943a9f1b6477dff": {
      "model_module": "@jupyter-widgets/controls",
      "model_module_version": "1.4.0",
      "model_name": "SelectModel",
      "state": {
       "_options_labels": [
        "Number",
        "Text"
       ],
       "index": 0,
       "layout": "IPY_MODEL_bdc8baebff9d4ef0a535d85304888470",
       "style": "IPY_MODEL_0bf484a59e1540d3b04c51653912cc4a"
      }
     },
     "6af60bd87d97470aba9ce295aac83393": {
      "model_module": "@jupyter-widgets/controls",
      "model_module_version": "1.4.0",
      "model_name": "ButtonModel",
      "state": {
       "button_style": "danger",
       "description": "Remove",
       "layout": "IPY_MODEL_1ae93d78948d49a6a794af514338fe4c",
       "style": "IPY_MODEL_d4f580e3e4f8432683d0257c96c990ef"
      }
     },
     "6afb665e79014a68bd41cc14d8c57348": {
      "model_module": "@jupyter-widgets/controls",
      "model_module_version": "1.4.0",
      "model_name": "HTMLModel",
      "state": {
       "layout": "IPY_MODEL_4f53a561fa6e45ba9c67aca6f572a684",
       "style": "IPY_MODEL_840addf01e7e4a888d46bda7da5fe327",
       "value": "<h3 class='text-center' style='color:red'>Error in Dataframe</h3>"
      }
     },
     "6b09f37814524f9aad3cb4bb985d3f3c": {
      "model_module": "@jupyter-widgets/controls",
      "model_module_version": "1.4.0",
      "model_name": "ButtonStyleModel",
      "state": {}
     },
     "6b0e892bf8364205b50a64b03cfae2e5": {
      "model_module": "@jupyter-widgets/controls",
      "model_module_version": "1.4.0",
      "model_name": "DescriptionStyleModel",
      "state": {
       "description_width": ""
      }
     },
     "6b5b884f6e6b4b87a7378985126b08aa": {
      "model_module": "@jupyter-widgets/base",
      "model_module_version": "1.1.0",
      "model_name": "LayoutModel",
      "state": {}
     },
     "6b6e3935d9c94f7597f0e3fe0ec8bf99": {
      "model_module": "@jupyter-widgets/controls",
      "model_module_version": "1.4.0",
      "model_name": "HBoxModel",
      "state": {
       "children": [
        "IPY_MODEL_65450d55dcfc4b48b700c679d829491d",
        "IPY_MODEL_bfab1c3280074dfdbf7648f2fd3d54c4"
       ],
       "layout": "IPY_MODEL_bf35071279aa42189a99cf08c2cc0bb4"
      }
     },
     "6bc542128a69487c851db141cafab3d1": {
      "model_module": "@jupyter-widgets/controls",
      "model_module_version": "1.4.0",
      "model_name": "DescriptionStyleModel",
      "state": {
       "description_width": ""
      }
     },
     "6c084935f78249f59261545e7676b95e": {
      "model_module": "@jupyter-widgets/controls",
      "model_module_version": "1.4.0",
      "model_name": "DescriptionStyleModel",
      "state": {
       "description_width": ""
      }
     },
     "6c5324f28ffe4f5696944fb594683d41": {
      "model_module": "@jupyter-widgets/base",
      "model_module_version": "1.1.0",
      "model_name": "LayoutModel",
      "state": {}
     },
     "6c7e69aab3634e36bc2089a1c1cc7dd1": {
      "model_module": "@jupyter-widgets/base",
      "model_module_version": "1.1.0",
      "model_name": "LayoutModel",
      "state": {}
     },
     "6c883ab42b3248c5abe712eae48f90a8": {
      "model_module": "@jupyter-widgets/base",
      "model_module_version": "1.1.0",
      "model_name": "LayoutModel",
      "state": {}
     },
     "6cb696fa1b004b8ab54870782310f439": {
      "model_module": "@jupyter-widgets/base",
      "model_module_version": "1.1.0",
      "model_name": "LayoutModel",
      "state": {
       "align_items": "center"
      }
     },
     "6d333f4dd4aa47df9aeb37e77832459f": {
      "model_module": "@jupyter-widgets/base",
      "model_module_version": "1.1.0",
      "model_name": "LayoutModel",
      "state": {
       "width": "auto"
      }
     },
     "6d3af8c178eb4276a6cf618cef483f8f": {
      "model_module": "@jupyter-widgets/controls",
      "model_module_version": "1.4.0",
      "model_name": "ToggleButtonsModel",
      "state": {
       "_options_labels": [
        "Python",
        "HTML"
       ],
       "button_style": "success",
       "icons": [],
       "index": 1,
       "layout": "IPY_MODEL_a63884d94f7e40a88fb1311a3a15beca",
       "style": "IPY_MODEL_297d80590be447d894c2e7c1b11da359",
       "tooltips": []
      }
     },
     "6e1caa51f0334a08ba22850df99b30ef": {
      "model_module": "@jupyter-widgets/base",
      "model_module_version": "1.1.0",
      "model_name": "LayoutModel",
      "state": {}
     },
     "6e3c454ce8e148eeab41a071803d5cbf": {
      "model_module": "@jupyter-widgets/base",
      "model_module_version": "1.1.0",
      "model_name": "LayoutModel",
      "state": {}
     },
     "6e52bd9919ec40b7bdd48bd7cf6bdfe2": {
      "model_module": "@jupyter-widgets/controls",
      "model_module_version": "1.4.0",
      "model_name": "HTMLModel",
      "state": {
       "layout": "IPY_MODEL_c1ec1a89a0014084a946f9c96b77850e",
       "style": "IPY_MODEL_c56d08a386c44a839109e4d2ec80ef9f",
       "value": "<h5>You can save your graph as a <font color='darkKhaki'>index.html</font> file.\n<font color='darkKhaki'>index.html</font> files have lots of cool features, as explained in the intro video.\n<span style='color:red;'>Do not use \" or ' they cause errors.</span></h5>"
      }
     },
     "6e87885ea0f54affb79be12f77c6a48c": {
      "model_module": "@jupyter-widgets/base",
      "model_module_version": "1.1.0",
      "model_name": "LayoutModel",
      "state": {
       "margin": "0px 0px 0px 5px",
       "min_width": "30px"
      }
     },
     "6e97a1c48833434882d3b5c6c1463f9e": {
      "model_module": "@jupyter-widgets/controls",
      "model_module_version": "1.4.0",
      "model_name": "FloatTextModel",
      "state": {
       "continuous_update": true,
       "layout": "IPY_MODEL_0d4f3e3d01524e8b97259b95f23083b8",
       "step": null,
       "style": "IPY_MODEL_e12e58e7316745cfa823a66d67272ae7"
      }
     },
     "6e9cce5d8a9143288b3d41d248e7ceae": {
      "model_module": "@jupyter-widgets/controls",
      "model_module_version": "1.4.0",
      "model_name": "TextModel",
      "state": {
       "layout": "IPY_MODEL_d0eaf93129fe49c6bcbb2a5f7cb9cdbd",
       "style": "IPY_MODEL_fc3c1b7b71794ac3b6e58f743c6455cc"
      }
     },
     "6ebf3b1f48f9474dbee7aef9334e6e34": {
      "model_module": "@jupyter-widgets/base",
      "model_module_version": "1.1.0",
      "model_name": "LayoutModel",
      "state": {}
     },
     "6ebf5689a87946348f06bd0fee02796e": {
      "model_module": "@jupyter-widgets/controls",
      "model_module_version": "1.4.0",
      "model_name": "ButtonStyleModel",
      "state": {}
     },
     "6ed80ad0f79a4790801f9698f279485e": {
      "model_module": "@jupyter-widgets/base",
      "model_module_version": "1.1.0",
      "model_name": "LayoutModel",
      "state": {}
     },
     "6ef9596ba7064e57973d2a30e5aaf321": {
      "model_module": "@jupyter-widgets/controls",
      "model_module_version": "1.4.0",
      "model_name": "FloatTextModel",
      "state": {
       "continuous_update": true,
       "layout": "IPY_MODEL_833edd3ea23844c4a3522018b6e615cf",
       "step": null,
       "style": "IPY_MODEL_7270ad9e484440afbe03c256cb1fdef1"
      }
     },
     "6ef991df793740a9a51c883170c6a269": {
      "model_module": "@jupyter-widgets/controls",
      "model_module_version": "1.4.0",
      "model_name": "ButtonModel",
      "state": {
       "button_style": "danger",
       "description": "Remove",
       "layout": "IPY_MODEL_a750ab5bb51a42bc897975065018c0a5",
       "style": "IPY_MODEL_1203936f956c43cca19f040b0ccf174a"
      }
     },
     "6f0fbfab47d14ff0ac72797b499c02fc": {
      "model_module": "@jupyter-widgets/controls",
      "model_module_version": "1.4.0",
      "model_name": "ButtonStyleModel",
      "state": {}
     },
     "6f10701d201e4e27b70aa80c919181dc": {
      "model_module": "@jupyter-widgets/base",
      "model_module_version": "1.1.0",
      "model_name": "LayoutModel",
      "state": {}
     },
     "6f2c88a894bf4e19b76f82dbaeb85699": {
      "model_module": "@jupyter-widgets/base",
      "model_module_version": "1.1.0",
      "model_name": "LayoutModel",
      "state": {}
     },
     "6f6dca11026943918f7c216d0400da95": {
      "model_module": "@jupyter-widgets/controls",
      "model_module_version": "1.4.0",
      "model_name": "FloatTextModel",
      "state": {
       "continuous_update": true,
       "layout": "IPY_MODEL_b1ad7094d19c494193cd3a2a8a7d21a5",
       "step": null,
       "style": "IPY_MODEL_b2338dbfa62d46ad801927d147dd3f29"
      }
     },
     "6f9ead4558cc465abd01947e7ca8ff40": {
      "model_module": "@jupyter-widgets/controls",
      "model_module_version": "1.4.0",
      "model_name": "DescriptionStyleModel",
      "state": {
       "description_width": ""
      }
     },
     "6fa9b1cf574c41a3887a6e9a68e0a6e1": {
      "model_module": "@jupyter-widgets/base",
      "model_module_version": "1.1.0",
      "model_name": "LayoutModel",
      "state": {}
     },
     "6fbdb2fbd26a488cbe25dcda80be8f6c": {
      "model_module": "@jupyter-widgets/controls",
      "model_module_version": "1.4.0",
      "model_name": "HBoxModel",
      "state": {
       "children": [
        "IPY_MODEL_5c6a019783d644868cc9546bc06b5b92",
        "IPY_MODEL_a01838174a234ca28de1b36a1d7809e0",
        "IPY_MODEL_0cacd015056b4c55b1eb76e9731446f6"
       ],
       "layout": "IPY_MODEL_70b38175016a4994b7296885ac01b744"
      }
     },
     "6fd03088090d48ea9fda4e6068339924": {
      "model_module": "@jupyter-widgets/controls",
      "model_module_version": "1.4.0",
      "model_name": "ButtonModel",
      "state": {
       "button_style": "danger",
       "description": "Remove",
       "layout": "IPY_MODEL_7f5d4555a702434dbbf43c8254afd745",
       "style": "IPY_MODEL_26eb699bdc6445fca97add5463e40d01"
      }
     },
     "7002d636f8c24424975ef793125c749f": {
      "model_module": "@jupyter-widgets/base",
      "model_module_version": "1.1.0",
      "model_name": "LayoutModel",
      "state": {
       "padding": "0px 0px 10px 0px"
      }
     },
     "7020b77caac54a0b92d4e45e45cf9f35": {
      "model_module": "@jupyter-widgets/controls",
      "model_module_version": "1.4.0",
      "model_name": "HBoxModel",
      "state": {
       "children": [
        "IPY_MODEL_94d95ef60f8b4e2f9ba477d0cac5862f",
        "IPY_MODEL_21cd3b801cfc4de68ea56c4cedee3166"
       ],
       "layout": "IPY_MODEL_3d43f2fb0742408081d8cadc6b46c272"
      }
     },
     "705b30bcb099451cb0545200575bc7b4": {
      "model_module": "@jupyter-widgets/controls",
      "model_module_version": "1.4.0",
      "model_name": "VBoxModel",
      "state": {
       "children": [
        "IPY_MODEL_3940e06ab3814f1ea455c9040213a56e",
        "IPY_MODEL_a5ec719046474a80bfb4a70b93f71458"
       ],
       "layout": "IPY_MODEL_c400798c79e940b4ad86bf31f9579d2b"
      }
     },
     "70647f14d8614aabb37a44d51df7dc32": {
      "model_module": "@jupyter-widgets/base",
      "model_module_version": "1.1.0",
      "model_name": "LayoutModel",
      "state": {}
     },
     "7071f150210c47cfa961e3022a13ad8a": {
      "model_module": "@jupyter-widgets/controls",
      "model_module_version": "1.4.0",
      "model_name": "HBoxModel",
      "state": {
       "children": [
        "IPY_MODEL_92cf4fad14e445eb992903c9e3f6db01",
        "IPY_MODEL_df32fd0107f740759e9312f0fec427cd"
       ],
       "layout": "IPY_MODEL_9035b8ffae894735b1694e2895c4c533"
      }
     },
     "70b38175016a4994b7296885ac01b744": {
      "model_module": "@jupyter-widgets/base",
      "model_module_version": "1.1.0",
      "model_name": "LayoutModel",
      "state": {}
     },
     "70c89b4170864f53a3555ee724e132f4": {
      "model_module": "@jupyter-widgets/base",
      "model_module_version": "1.1.0",
      "model_name": "LayoutModel",
      "state": {
       "width": "auto"
      }
     },
     "70dd66a6546848768e342f6171a53c7c": {
      "model_module": "@jupyter-widgets/base",
      "model_module_version": "1.1.0",
      "model_name": "LayoutModel",
      "state": {
       "padding": "10px 0px 0px 0px"
      }
     },
     "70e38dc8853540a68718a7fdaffdd85a": {
      "model_module": "@jupyter-widgets/base",
      "model_module_version": "1.1.0",
      "model_name": "LayoutModel",
      "state": {}
     },
     "713a725d36274570a031331969958692": {
      "model_module": "@jupyter-widgets/base",
      "model_module_version": "1.1.0",
      "model_name": "LayoutModel",
      "state": {}
     },
     "716140379cc3437cbdef4cbbb5892940": {
      "model_module": "@jupyter-widgets/controls",
      "model_module_version": "1.4.0",
      "model_name": "HBoxModel",
      "state": {
       "children": [
        "IPY_MODEL_e23682d84e104105b958684932315765",
        "IPY_MODEL_5b0be16c5d5641e6af2847672bb19244",
        "IPY_MODEL_6fd03088090d48ea9fda4e6068339924"
       ],
       "layout": "IPY_MODEL_3a66f89eeba0443b84f37e55d3407b25"
      }
     },
     "717fdda1de004ae2a46b7fb1da94cee6": {
      "model_module": "@jupyter-widgets/controls",
      "model_module_version": "1.4.0",
      "model_name": "ButtonModel",
      "state": {
       "button_style": "success",
       "description": "Save",
       "layout": "IPY_MODEL_58bc2169d6b245c5a053926ac273646d",
       "style": "IPY_MODEL_1ced5dd0477e46e8a930f11ecd0fc7e7"
      }
     },
     "71bce872fa4e4bad90df36c7ab62144e": {
      "model_module": "@jupyter-widgets/controls",
      "model_module_version": "1.4.0",
      "model_name": "ButtonModel",
      "state": {
       "button_style": "danger",
       "description": "Remove",
       "layout": "IPY_MODEL_4008ca58c837423793ebea0ba8f8d664",
       "style": "IPY_MODEL_e4a3d683626d4f278b4a14cbd2f6db9e"
      }
     },
     "721f5a37b7194442aba901c086670faa": {
      "model_module": "@jupyter-widgets/base",
      "model_module_version": "1.1.0",
      "model_name": "LayoutModel",
      "state": {
       "justify_content": "center",
       "padding": "10px 0px 0px 0px"
      }
     },
     "722c1a67008f4297b2069da5f7c60e60": {
      "model_module": "@jupyter-widgets/controls",
      "model_module_version": "1.4.0",
      "model_name": "DescriptionStyleModel",
      "state": {
       "description_width": ""
      }
     },
     "7241dd97f18c437e81236e48409e9130": {
      "model_module": "@jupyter-widgets/controls",
      "model_module_version": "1.4.0",
      "model_name": "LabelModel",
      "state": {
       "layout": "IPY_MODEL_249a696ce14040789c5ec5deb2c7d301",
       "style": "IPY_MODEL_8a30e152c9d74e358ff1ded8a6cb18bc",
       "value": "See-Through :"
      }
     },
     "7251eadccb4549d1abaaa05d2c7d37d0": {
      "model_module": "@jupyter-widgets/base",
      "model_module_version": "1.1.0",
      "model_name": "LayoutModel",
      "state": {
       "width": "auto"
      }
     },
     "7270ad9e484440afbe03c256cb1fdef1": {
      "model_module": "@jupyter-widgets/controls",
      "model_module_version": "1.4.0",
      "model_name": "DescriptionStyleModel",
      "state": {
       "description_width": ""
      }
     },
     "72ce4c7104ca4a819433d871e23f08fb": {
      "model_module": "@jupyter-widgets/controls",
      "model_module_version": "1.4.0",
      "model_name": "FloatTextModel",
      "state": {
       "continuous_update": true,
       "layout": "IPY_MODEL_9cf2e3faccfb42419db03033a3feef9d",
       "step": null,
       "style": "IPY_MODEL_c4418f8bd6ee4dec9561cffe4287f1bb"
      }
     },
     "72d39ad6eb0c465880ea6b153546713c": {
      "model_module": "@jupyter-widgets/base",
      "model_module_version": "1.1.0",
      "model_name": "LayoutModel",
      "state": {}
     },
     "72d970c58be04ecaba0a3b656620f29c": {
      "model_module": "@jupyter-widgets/base",
      "model_module_version": "1.1.0",
      "model_name": "LayoutModel",
      "state": {
       "width": "auto"
      }
     },
     "730284c14a124d6795588a123b34942d": {
      "model_module": "@jupyter-widgets/base",
      "model_module_version": "1.1.0",
      "model_name": "LayoutModel",
      "state": {}
     },
     "7316eb7ff8734da899b056e6a0efad1a": {
      "model_module": "@jupyter-widgets/controls",
      "model_module_version": "1.4.0",
      "model_name": "ToggleButtonModel",
      "state": {
       "button_style": "primary",
       "description": "Box",
       "layout": "IPY_MODEL_e8061e182177453e81f55c2a4e2b483e",
       "style": "IPY_MODEL_e9714201d08e4d5aae9cec359d428b4a"
      }
     },
     "73868965958c474fad86bfd0fc709f3c": {
      "model_module": "@jupyter-widgets/controls",
      "model_module_version": "1.4.0",
      "model_name": "FloatTextModel",
      "state": {
       "continuous_update": true,
       "layout": "IPY_MODEL_fb5fe3b9fa4942028b8ea220e99539e1",
       "step": null,
       "style": "IPY_MODEL_27d7e807d40640818442110db16ca28f"
      }
     },
     "739b9ac3ba18434fa7ece06239f06cb7": {
      "model_module": "@jupyter-widgets/controls",
      "model_module_version": "1.4.0",
      "model_name": "DescriptionStyleModel",
      "state": {
       "description_width": ""
      }
     },
     "73aa34c69ad941109b26eb3ca03b0b21": {
      "model_module": "@jupyter-widgets/base",
      "model_module_version": "1.1.0",
      "model_name": "LayoutModel",
      "state": {
       "padding": "0 15px 0 35px"
      }
     },
     "73c8734d96d2459786e46780d133f048": {
      "model_module": "@jupyter-widgets/base",
      "model_module_version": "1.1.0",
      "model_name": "LayoutModel",
      "state": {
       "min_width": "30px"
      }
     },
     "73e332b2d9524ac0b8b613f7f42b5aa1": {
      "model_module": "@jupyter-widgets/base",
      "model_module_version": "1.1.0",
      "model_name": "LayoutModel",
      "state": {}
     },
     "740a2f79416741c7809699ec79d0b497": {
      "model_module": "@jupyter-widgets/base",
      "model_module_version": "1.1.0",
      "model_name": "LayoutModel",
      "state": {}
     },
     "741d75bc713e47e3b16ce136dbd281db": {
      "model_module": "@jupyter-widgets/controls",
      "model_module_version": "1.4.0",
      "model_name": "VBoxModel",
      "state": {
       "children": [
        "IPY_MODEL_30203e5bc1eb43c5955ad3af08218fa6",
        "IPY_MODEL_bfadd9080e0541edb90e70b6809c2b0c",
        "IPY_MODEL_c0154b6a0c90421cb1d8014bc0a5344e",
        "IPY_MODEL_bb942fe1fe52481a91d6de4906ce780b",
        "IPY_MODEL_f9229b88801846e7a36fbde587386bf3",
        "IPY_MODEL_779dbef4f04a409ba1e78ec02d1a3492"
       ],
       "layout": "IPY_MODEL_a92a084560204b1882c083ac78373442"
      }
     },
     "7432a9fae2f841e592232332a5efb133": {
      "model_module": "@jupyter-widgets/base",
      "model_module_version": "1.1.0",
      "model_name": "LayoutModel",
      "state": {}
     },
     "7433097a38b247e2aaf2760e0aed054c": {
      "model_module": "@jupyter-widgets/controls",
      "model_module_version": "1.4.0",
      "model_name": "DescriptionStyleModel",
      "state": {
       "description_width": ""
      }
     },
     "74630a82cf0247caa72bf1ba3d1847eb": {
      "model_module": "@jupyter-widgets/base",
      "model_module_version": "1.1.0",
      "model_name": "LayoutModel",
      "state": {}
     },
     "74670cb4efcd412dba3590936addd9f0": {
      "model_module": "@jupyter-widgets/base",
      "model_module_version": "1.1.0",
      "model_name": "LayoutModel",
      "state": {
       "width": "auto"
      }
     },
     "747ae194a06b44b1809372b34b6d95f3": {
      "model_module": "@jupyter-widgets/base",
      "model_module_version": "1.1.0",
      "model_name": "LayoutModel",
      "state": {}
     },
     "748a2fb8998c4c1eb42bdafd8e5edb42": {
      "model_module": "@jupyter-widgets/base",
      "model_module_version": "1.1.0",
      "model_name": "LayoutModel",
      "state": {
       "width": "auto"
      }
     },
     "74e5f4ecafac452084e3c41e509ae643": {
      "model_module": "@jupyter-widgets/controls",
      "model_module_version": "1.4.0",
      "model_name": "DescriptionStyleModel",
      "state": {
       "description_width": ""
      }
     },
     "74f542800cb8450ab4f08f2cce172b12": {
      "model_module": "@jupyter-widgets/controls",
      "model_module_version": "1.4.0",
      "model_name": "FloatTextModel",
      "state": {
       "continuous_update": true,
       "layout": "IPY_MODEL_18c7853ebd094c39b54fab48a5ce97bf",
       "step": null,
       "style": "IPY_MODEL_339a9f5b32244266af1388e74d7645dd"
      }
     },
     "74f9283e50594f7c8beb43b8155cfdd2": {
      "model_module": "@jupyter-widgets/base",
      "model_module_version": "1.1.0",
      "model_name": "LayoutModel",
      "state": {
       "align_items": "center"
      }
     },
     "74fa49896edd434984f81fafbf4bba97": {
      "model_module": "@jupyter-widgets/base",
      "model_module_version": "1.1.0",
      "model_name": "LayoutModel",
      "state": {
       "min_width": "30px"
      }
     },
     "7502dd631b8a4a7daeb24d69752fd736": {
      "model_module": "@jupyter-widgets/controls",
      "model_module_version": "1.4.0",
      "model_name": "ButtonStyleModel",
      "state": {}
     },
     "750629c3d81b4cb19e9791575e408678": {
      "model_module": "@jupyter-widgets/base",
      "model_module_version": "1.1.0",
      "model_name": "LayoutModel",
      "state": {
       "justify_content": "center"
      }
     },
     "75177e78f9a5401a9f27906ae23e727f": {
      "model_module": "@jupyter-widgets/base",
      "model_module_version": "1.1.0",
      "model_name": "LayoutModel",
      "state": {
       "width": "auto"
      }
     },
     "75ba9f6d2dbb444dbe696249c9b5866a": {
      "model_module": "@jupyter-widgets/controls",
      "model_module_version": "1.4.0",
      "model_name": "HTMLModel",
      "state": {
       "layout": "IPY_MODEL_be966c6ea55e426db57d09f13a8b6326",
       "style": "IPY_MODEL_b4eeed99f5d543508194ad777c262497",
       "value": "<h3> </h3>"
      }
     },
     "75e7852a67c5463dab9effc3fb7d8425": {
      "model_module": "@jupyter-widgets/base",
      "model_module_version": "1.1.0",
      "model_name": "LayoutModel",
      "state": {}
     },
     "75e83216ef554219a279cc654b97c97a": {
      "model_module": "@jupyter-widgets/base",
      "model_module_version": "1.1.0",
      "model_name": "LayoutModel",
      "state": {}
     },
     "75fc5ee7273d42cbac7c0824b4fb97d1": {
      "model_module": "@jupyter-widgets/controls",
      "model_module_version": "1.4.0",
      "model_name": "HTMLModel",
      "state": {
       "layout": "IPY_MODEL_54dfd21df7114065abadb5fdf381a5ab",
       "style": "IPY_MODEL_988ccde7b88c43cb9a57a31135da5322",
       "value": "<h2 class='text-danger text-center'>Coming Soon! Wait for Update</h2>"
      }
     },
     "76627b38a1fb426ab7c739cd501281fe": {
      "model_module": "@jupyter-widgets/controls",
      "model_module_version": "1.4.0",
      "model_name": "DescriptionStyleModel",
      "state": {
       "description_width": ""
      }
     },
     "767368f0efc34cbcb14226fe31283925": {
      "model_module": "@jupyter-widgets/base",
      "model_module_version": "1.1.0",
      "model_name": "LayoutModel",
      "state": {}
     },
     "76d2cd1096ee4537afe2ee7eda127025": {
      "model_module": "@jupyter-widgets/controls",
      "model_module_version": "1.4.0",
      "model_name": "HTMLModel",
      "state": {
       "layout": "IPY_MODEL_af889f0e448e4f1089d418f25b8b3a8a",
       "style": "IPY_MODEL_fb92a6edff1443e5ad5a7851b42c63d9",
       "value": "<font size=3 style='justify-content: center;'>definition : </font>"
      }
     },
     "76f0a616243c4bc195a1fd6930f0eeb1": {
      "model_module": "@jupyter-widgets/controls",
      "model_module_version": "1.4.0",
      "model_name": "HTMLModel",
      "state": {
       "layout": "IPY_MODEL_5a5de8f2d6654f2dbdb5299db088f727",
       "style": "IPY_MODEL_3515aba3dd6c4c668637fff1c5f7c12b",
       "value": "<h3 class='text-center' style='color:red'>Error in .html File</h3>"
      }
     },
     "76fc7b495fa247958f12e6bb8f0c7b5f": {
      "model_module": "@jupyter-widgets/controls",
      "model_module_version": "1.4.0",
      "model_name": "HBoxModel",
      "state": {
       "children": [
        "IPY_MODEL_423deb8ae0764e87ae8d907d7da2637e",
        "IPY_MODEL_fba5101864af4019b8606083b58253ae"
       ],
       "layout": "IPY_MODEL_70dd66a6546848768e342f6171a53c7c"
      }
     },
     "7703b6cac12e43ff9430ed1c04cfcf10": {
      "model_module": "@jupyter-widgets/base",
      "model_module_version": "1.1.0",
      "model_name": "LayoutModel",
      "state": {
       "margin": "0 15px 0 0px",
       "width": "auto"
      }
     },
     "772fc0a2108f48e4b71dfbc37cf16d96": {
      "model_module": "@jupyter-widgets/controls",
      "model_module_version": "1.4.0",
      "model_name": "HTMLModel",
      "state": {
       "layout": "IPY_MODEL_0471709209bd451b835ddbf9a9b01a6b",
       "style": "IPY_MODEL_bfb3aae6d3304ae4b84d4bd2bbf55465",
       "value": "<h5>Here you can load a <a href='https://www.datacamp.com/community/tutorials/pandas-tutorial-dataframe-python'>Pandas DataFrame</a>\n by typing the name of a <font color=\"blue\">Python Variable</font> .</h5>"
      }
     },
     "779c8e3008a3443f82fc726f531cede9": {
      "model_module": "@jupyter-widgets/controls",
      "model_module_version": "1.4.0",
      "model_name": "DescriptionStyleModel",
      "state": {
       "description_width": ""
      }
     },
     "779dbef4f04a409ba1e78ec02d1a3492": {
      "model_module": "@jupyter-widgets/controls",
      "model_module_version": "1.4.0",
      "model_name": "VBoxModel",
      "state": {
       "children": [
        "IPY_MODEL_265342974dbc457d9e41eb6c3f516657",
        "IPY_MODEL_43960048de0e4f6995719f218186bad7",
        "IPY_MODEL_94d90140645b4771bc115cf8302ef707",
        "IPY_MODEL_c08a70cc94094c7c9362ac912da11261",
        "IPY_MODEL_d30cd8099fe94c7193b675bfb31a27c8",
        "IPY_MODEL_e35daff6034444eb93904e12b092748b",
        "IPY_MODEL_7ab294d83c664255b0dc2d41d6d099ff",
        "IPY_MODEL_15d02b34c8e64c6e89f65a645211bf87"
       ],
       "layout": "IPY_MODEL_1984ddee0514425581c9d0e58440e41c"
      }
     },
     "77e3e1f2bdf8407f9550786c6085c9ba": {
      "model_module": "@jupyter-widgets/controls",
      "model_module_version": "1.4.0",
      "model_name": "TextModel",
      "state": {
       "layout": "IPY_MODEL_99154dd678104ae49ddddc7ea637026a",
       "style": "IPY_MODEL_7a03894ca6d846a48c2cc41e4b4982ea"
      }
     },
     "78058a4971ce46a6b2457be064b375ba": {
      "model_module": "@jupyter-widgets/controls",
      "model_module_version": "1.4.0",
      "model_name": "DescriptionStyleModel",
      "state": {
       "description_width": ""
      }
     },
     "7806c4aafcd54471bc6f288daf34e8ff": {
      "model_module": "@jupyter-widgets/base",
      "model_module_version": "1.1.0",
      "model_name": "LayoutModel",
      "state": {}
     },
     "7807c3705171497f89787ec6072b5284": {
      "model_module": "@jupyter-widgets/controls",
      "model_module_version": "1.4.0",
      "model_name": "HTMLModel",
      "state": {
       "layout": "IPY_MODEL_90f4c3c935074f9d90f7c4c6862313a2",
       "style": "IPY_MODEL_6b0e892bf8364205b50a64b03cfae2e5",
       "value": "<font size=3 style='justify-content: center;'>edgelength_median : </font>"
      }
     },
     "78515879367a4205ab96090715254ba6": {
      "model_module": "@jupyter-widgets/controls",
      "model_module_version": "1.4.0",
      "model_name": "ButtonModel",
      "state": {
       "button_style": "success",
       "description": "Upload",
       "layout": "IPY_MODEL_3a166762bb914978bd6a05a59d7ef667",
       "style": "IPY_MODEL_8c32852dfaba4ffa835855c64b59b6a9"
      }
     },
     "78593479ac6048a7be4c664321db9159": {
      "model_module": "@jupyter-widgets/controls",
      "model_module_version": "1.4.0",
      "model_name": "HTMLModel",
      "state": {
       "layout": "IPY_MODEL_37ead5f138514146b44e7c1571a90271",
       "style": "IPY_MODEL_ae7c709b38ec4f5c90cf9faab3ed0f00",
       "value": "<h3> </h3>"
      }
     },
     "7861540814c34d0bb621072d7cdff86c": {
      "model_module": "@jupyter-widgets/base",
      "model_module_version": "1.1.0",
      "model_name": "LayoutModel",
      "state": {}
     },
     "7863a6f7d37b45d38b034789e8d764da": {
      "model_module": "@jupyter-widgets/controls",
      "model_module_version": "1.4.0",
      "model_name": "HTMLModel",
      "state": {
       "layout": "IPY_MODEL_480ab89fd46d4be895b4b6437ff04a90",
       "style": "IPY_MODEL_92faaa3c1f154988b5ae2523245e0a6f",
       "value": "<font size=3 style='justify-content: center;'>shared_interaction : </font>"
      }
     },
     "7866e8fe24b94fec85588fa2a0bc461a": {
      "model_module": "@jupyter-widgets/base",
      "model_module_version": "1.1.0",
      "model_name": "LayoutModel",
      "state": {}
     },
     "788222aa6e554f8cba15e25b90a31be7": {
      "model_module": "@jupyter-widgets/base",
      "model_module_version": "1.1.0",
      "model_name": "LayoutModel",
      "state": {}
     },
     "7890db4d0b604e6d9d1efb03d2d31379": {
      "model_module": "@jupyter-widgets/controls",
      "model_module_version": "1.4.0",
      "model_name": "ButtonModel",
      "state": {
       "button_style": "danger",
       "description": "Remove",
       "layout": "IPY_MODEL_b857b2f3bc904aeab3feff144d1d2604",
       "style": "IPY_MODEL_d5eb2654dd2d4fcfad56150ea5c97835"
      }
     },
     "78a52210290c45a68d56991a2f3b2c40": {
      "model_module": "@jupyter-widgets/base",
      "model_module_version": "1.1.0",
      "model_name": "LayoutModel",
      "state": {}
     },
     "78abe320576940339c9e31f5bdd39f87": {
      "model_module": "@jupyter-widgets/controls",
      "model_module_version": "1.4.0",
      "model_name": "HTMLModel",
      "state": {
       "layout": "IPY_MODEL_a16216418ad84409a16d4efaae43b6c6",
       "style": "IPY_MODEL_304ca541d5b24e81827ac816dffb8fd8",
       "value": "<h3 class='text-center' style='color:red'>Error in Dataframe</h3>"
      }
     },
     "78cbf5cfef164a11995885892ddc20c4": {
      "model_module": "@jupyter-widgets/controls",
      "model_module_version": "1.4.0",
      "model_name": "VBoxModel",
      "state": {
       "children": [
        "IPY_MODEL_660ca09a7b9747bc9428050994ed4f0d",
        "IPY_MODEL_5e8d250d328848c0826056cf17cc908f",
        "IPY_MODEL_b1acd5cd767e4c3c84ac168f8a4f42e8",
        "IPY_MODEL_430e4f03e62b4022813b5fa47ddd2e6d",
        "IPY_MODEL_99f60036106143d78f51917d63a1dd83",
        "IPY_MODEL_ba5781b6479d4148991de77602d09dd6"
       ],
       "layout": "IPY_MODEL_04e48422a0354922af7b9d123a4660fc"
      }
     },
     "79164b42f59140879e552656e6c188c2": {
      "model_module": "@jupyter-widgets/base",
      "model_module_version": "1.1.0",
      "model_name": "LayoutModel",
      "state": {}
     },
     "7933d5a5122045d5ab9a9f94f0b55c93": {
      "model_module": "@jupyter-widgets/controls",
      "model_module_version": "1.4.0",
      "model_name": "HBoxModel",
      "state": {
       "children": [
        "IPY_MODEL_56611fb51f6d46d58b55468555e161ff"
       ],
       "layout": "IPY_MODEL_c740cae6dc0c47289db20a28c2967ee5"
      }
     },
     "794b8fa53f074a6ab94729eeb9358a12": {
      "model_module": "@jupyter-widgets/controls",
      "model_module_version": "1.4.0",
      "model_name": "HTMLModel",
      "state": {
       "layout": "IPY_MODEL_34e0418d5c1d4a8da8bd47889d5039f6",
       "style": "IPY_MODEL_a39b55995ae645a9b77701177e2082e2",
       "value": "<b><p><a href='http://js.cytoscape.org/#selectors'>Search:</a></p></b>"
      }
     },
     "79625b91ac6f4746ba83d14eeed5ad5a": {
      "model_module": "@jupyter-widgets/base",
      "model_module_version": "1.1.0",
      "model_name": "LayoutModel",
      "state": {}
     },
     "799d884fd826421996fd1ea2294b9d68": {
      "model_module": "@jupyter-widgets/controls",
      "model_module_version": "1.4.0",
      "model_name": "HTMLModel",
      "state": {
       "layout": "IPY_MODEL_b86fc21e14b5442ebbb949fcd9b0eb9e",
       "style": "IPY_MODEL_a73e6eece0824ef0a862dd4d9f65cca5",
       "value": "<h5>Description</h5>"
      }
     },
     "79c98bd11c5246c9a30f0cbdeadb2cde": {
      "model_module": "@jupyter-widgets/controls",
      "model_module_version": "1.4.0",
      "model_name": "HBoxModel",
      "state": {
       "children": [
        "IPY_MODEL_7807c3705171497f89787ec6072b5284",
        "IPY_MODEL_4f618219cb2a4af1a2d055ccc9c3574d",
        "IPY_MODEL_8368a0a6bbde4dc0ab5915e779eae8fe"
       ],
       "layout": "IPY_MODEL_9fabd323be4046ae90755281dd3154cc"
      }
     },
     "79e96a693a4f49a2814c6fe98c6787f0": {
      "model_module": "@jupyter-widgets/controls",
      "model_module_version": "1.4.0",
      "model_name": "PasswordModel",
      "state": {
       "description": "Password :",
       "layout": "IPY_MODEL_9b70effb61314af78655e52ac4fb899b",
       "style": "IPY_MODEL_ba2d4d964cc14fb7b2d55d0a229bfc31"
      }
     },
     "79f28f884057476e98d7409e2feb8c9e": {
      "model_module": "@jupyter-widgets/controls",
      "model_module_version": "1.4.0",
      "model_name": "DescriptionStyleModel",
      "state": {
       "description_width": ""
      }
     },
     "7a03894ca6d846a48c2cc41e4b4982ea": {
      "model_module": "@jupyter-widgets/controls",
      "model_module_version": "1.4.0",
      "model_name": "DescriptionStyleModel",
      "state": {
       "description_width": ""
      }
     },
     "7a039df67aae400e9a0cfb146cf60614": {
      "model_module": "@jupyter-widgets/controls",
      "model_module_version": "1.4.0",
      "model_name": "DescriptionStyleModel",
      "state": {
       "description_width": ""
      }
     },
     "7a26cacdd7a4450687d0caecebf93513": {
      "model_module": "@jupyter-widgets/controls",
      "model_module_version": "1.4.0",
      "model_name": "LabelModel",
      "state": {
       "layout": "IPY_MODEL_09497c51d57e4743b629126f8480c85a",
       "style": "IPY_MODEL_a235f5cf850e4e378ec20eb98ecc6d44",
       "value": "See-Through :"
      }
     },
     "7a3d9c9def4b40d090be2792cc57c048": {
      "model_module": "@jupyter-widgets/controls",
      "model_module_version": "1.4.0",
      "model_name": "HTMLModel",
      "state": {
       "layout": "IPY_MODEL_cc1f2a5c0f9545f1b9b81df916795529",
       "style": "IPY_MODEL_accb5429b17c4058babd05783f2fb299",
       "value": "<h5>Here you can load a <a href='https://www.datacamp.com/community/tutorials/pandas-tutorial-dataframe-python'>Pandas DataFrame</a>\n by typing the name of a <font color=\"blue\">Python Variable</font> .</h5>"
      }
     },
     "7a3eb614ae6e4c0e8b363fe2b1e36f51": {
      "model_module": "@jupyter-widgets/controls",
      "model_module_version": "1.4.0",
      "model_name": "HBoxModel",
      "state": {
       "children": [
        "IPY_MODEL_94773131ee634c7a9132e3cc0150bed9",
        "IPY_MODEL_6f6dca11026943918f7c216d0400da95",
        "IPY_MODEL_39e20a7e5314441cad3f3accd02b6eb1"
       ],
       "layout": "IPY_MODEL_1cd08399b90d4f6796a350ce24718bd0"
      }
     },
     "7a6d5b803013409a99790586fc06a480": {
      "model_module": "@jupyter-widgets/controls",
      "model_module_version": "1.4.0",
      "model_name": "HTMLModel",
      "state": {
       "layout": "IPY_MODEL_95fa0379611647d4bf58bff76084f27b",
       "style": "IPY_MODEL_13edf28bd3684817a739c1fa428ea0c3",
       "value": "<font size=3 style='justify-content: center;'>width : </font>"
      }
     },
     "7a9788e4d1404365905786c5d1ac204c": {
      "model_module": "@jupyter-widgets/controls",
      "model_module_version": "1.4.0",
      "model_name": "ButtonModel",
      "state": {
       "button_style": "warning",
       "description": "Start Cytoscape!",
       "layout": "IPY_MODEL_c3fd461dcd854a85a63290b26151ef45",
       "style": "IPY_MODEL_8eef8643afe243a0a677e10f42272f8e"
      }
     },
     "7aa2f39cbe1c41a3a23fe61f2d423f64": {
      "model_module": "@jupyter-widgets/base",
      "model_module_version": "1.1.0",
      "model_name": "LayoutModel",
      "state": {}
     },
     "7aa573f8fa7b483abc201e5c2d789f89": {
      "model_module": "@jupyter-widgets/base",
      "model_module_version": "1.1.0",
      "model_name": "LayoutModel",
      "state": {
       "align_items": "center"
      }
     },
     "7ab20997079e4a34a22086eb5f90d21d": {
      "model_module": "@jupyter-widgets/controls",
      "model_module_version": "1.4.0",
      "model_name": "ButtonModel",
      "state": {
       "button_style": "danger",
       "description": "Remove",
       "layout": "IPY_MODEL_9133549bc2ff4c3b8ce3a8a338ead182",
       "style": "IPY_MODEL_c2e79a52f9d346cebbf73a27639bba18"
      }
     },
     "7ab294d83c664255b0dc2d41d6d099ff": {
      "model_module": "@jupyter-widgets/controls",
      "model_module_version": "1.4.0",
      "model_name": "HBoxModel",
      "state": {
       "children": [
        "IPY_MODEL_574f9a313ed143928c4d8fdcebc7c6d0",
        "IPY_MODEL_ac52bd4a86a3445dab63986fb1b903d9",
        "IPY_MODEL_b1ada90ea67248a5bccb16470c255946"
       ],
       "layout": "IPY_MODEL_3261f4c9195e4174959e8f23ada341e4"
      }
     },
     "7abe0d9a6de0497aa95cf12e4fc71d06": {
      "model_module": "@jupyter-widgets/controls",
      "model_module_version": "1.4.0",
      "model_name": "HBoxModel",
      "state": {
       "children": [
        "IPY_MODEL_072c01dcfaff4f57a3cfa80d563bc8e2",
        "IPY_MODEL_ba510766efd242849dbc05639e1f294a"
       ],
       "layout": "IPY_MODEL_92f89f15a46d46a4b3749020bdbcae23"
      }
     },
     "7b19a44c731a4812a9f34173b46e7a2b": {
      "model_module": "@jupyter-widgets/base",
      "model_module_version": "1.1.0",
      "model_name": "LayoutModel",
      "state": {
       "padding": "0 15px 0 35px"
      }
     },
     "7b4dca01ef7842b7a348c0dd6a4d74b9": {
      "model_module": "@jupyter-widgets/controls",
      "model_module_version": "1.4.0",
      "model_name": "DescriptionStyleModel",
      "state": {
       "description_width": ""
      }
     },
     "7b6c3aa928724558b6c52060230b145e": {
      "model_module": "@jupyter-widgets/controls",
      "model_module_version": "1.4.0",
      "model_name": "ButtonModel",
      "state": {
       "button_style": "danger",
       "description": "Remove",
       "layout": "IPY_MODEL_20c3af37231d4e13b5aa3c52d75045f7",
       "style": "IPY_MODEL_fc8a5204225c4e9fbb897e03187fec31"
      }
     },
     "7b7fcc5dba9a4ee48f2e6f71bb058072": {
      "model_module": "@jupyter-widgets/controls",
      "model_module_version": "1.4.0",
      "model_name": "SelectModel",
      "state": {
       "_options_labels": [
        "Node",
        "Edge"
       ],
       "index": 0,
       "layout": "IPY_MODEL_4bb0fe806fca4f8ba84bb7d2447aa685",
       "style": "IPY_MODEL_13648c22b24b4650912ce030a4a9f3f3"
      }
     },
     "7b81dc5fd7c146a5af3439eb75f7fabc": {
      "model_module": "@jupyter-widgets/base",
      "model_module_version": "1.1.0",
      "model_name": "LayoutModel",
      "state": {
       "width": "auto"
      }
     },
     "7bd14949c6ff49c9830836c8d709e595": {
      "model_module": "@jupyter-widgets/base",
      "model_module_version": "1.1.0",
      "model_name": "LayoutModel",
      "state": {}
     },
     "7c0754de4ab540d6b6dca34c15573172": {
      "model_module": "@jupyter-widgets/controls",
      "model_module_version": "1.4.0",
      "model_name": "HTMLModel",
      "state": {
       "layout": "IPY_MODEL_6441fa423da543fc9a14b554fea03538",
       "style": "IPY_MODEL_5397f992fbb042509a4088381dd860df",
       "value": "<font size=3 style='justify-content: center;'>Indegree : </font>"
      }
     },
     "7c12e2e40d2d46418a158131d1cb0f61": {
      "model_module": "@jupyter-widgets/controls",
      "model_module_version": "1.4.0",
      "model_name": "HTMLModel",
      "state": {
       "layout": "IPY_MODEL_ca9b584d7ce145b6835d7ba0c1a34b82",
       "style": "IPY_MODEL_133459d1570a4ec49a6984a29b59cc10",
       "value": "<h5>Fill out the info below to upload data to <a href='http://www.ndexbio.org/'>NDEx</a></h5>"
      }
     },
     "7c276b22f05d4d31b6b18d83fa489b3a": {
      "model_module": "@jupyter-widgets/controls",
      "model_module_version": "1.4.0",
      "model_name": "VBoxModel",
      "state": {
       "children": [
        "IPY_MODEL_cbfb071ee46d41ba937962ea7b6aacf8",
        "IPY_MODEL_dc424c47c8bc4a34a46270268348000d",
        "IPY_MODEL_705b30bcb099451cb0545200575bc7b4"
       ],
       "layout": "IPY_MODEL_9858d04f8fa34d57bc3cb42a71e9398b"
      }
     },
     "7c4428e9401149049eb924bbb11b5546": {
      "model_module": "@jupyter-widgets/controls",
      "model_module_version": "1.4.0",
      "model_name": "LabelModel",
      "state": {
       "layout": "IPY_MODEL_399a0be12bdc486093737044433c7905",
       "style": "IPY_MODEL_f15b4f412ee84f60a5da43ef5a2f2ef8",
       "value": "Image : "
      }
     },
     "7c4ce58fbce24fc191904d3946754e9a": {
      "model_module": "@jupyter-widgets/base",
      "model_module_version": "1.1.0",
      "model_name": "LayoutModel",
      "state": {}
     },
     "7ca3a3ad8ecd408c99377e313ea942fe": {
      "model_module": "@jupyter-widgets/controls",
      "model_module_version": "1.4.0",
      "model_name": "HBoxModel",
      "state": {
       "children": [
        "IPY_MODEL_97a9644bc57648a887116b6f774afa65",
        "IPY_MODEL_a2052b91848d44339d6e4cf6b587882d",
        "IPY_MODEL_717fdda1de004ae2a46b7fb1da94cee6",
        "IPY_MODEL_55dabd8288a3452eb4c81daa2768a313"
       ],
       "layout": "IPY_MODEL_155ebda5612648c09743f0cd37918a30"
      }
     },
     "7cbb64518f6347e8a6c73e667be92a8a": {
      "model_module": "@jupyter-widgets/controls",
      "model_module_version": "1.4.0",
      "model_name": "DescriptionStyleModel",
      "state": {
       "description_width": ""
      }
     },
     "7ce15f63e5fc44ed823692a75a8ad5a6": {
      "model_module": "@jupyter-widgets/base",
      "model_module_version": "1.1.0",
      "model_name": "LayoutModel",
      "state": {}
     },
     "7d040c0a38a34b93b0854e1d56f486b8": {
      "model_module": "@jupyter-widgets/controls",
      "model_module_version": "1.4.0",
      "model_name": "ButtonStyleModel",
      "state": {}
     },
     "7d26dd89c8af47b3a95b9aafc18855e6": {
      "model_module": "@jupyter-widgets/base",
      "model_module_version": "1.1.0",
      "model_name": "LayoutModel",
      "state": {}
     },
     "7d6c867b91604260956af207c4cd4024": {
      "model_module": "@jupyter-widgets/controls",
      "model_module_version": "1.4.0",
      "model_name": "ButtonModel",
      "state": {
       "button_style": "danger",
       "description": "Remove",
       "layout": "IPY_MODEL_06c9f66dfa90475783132f1fc215efea",
       "style": "IPY_MODEL_5f2c09bcdc1a4e81968ecdd1765cc326"
      }
     },
     "7d9ba81afc444831abb3af6dda8d007f": {
      "model_module": "@jupyter-widgets/controls",
      "model_module_version": "1.4.0",
      "model_name": "DescriptionStyleModel",
      "state": {
       "description_width": ""
      }
     },
     "7db0b7a82ccb450bb63db5e0a98e0d55": {
      "model_module": "@jupyter-widgets/base",
      "model_module_version": "1.1.0",
      "model_name": "LayoutModel",
      "state": {}
     },
     "7e489766c4424e9cbd6b42a686bdb74b": {
      "model_module": "@jupyter-widgets/controls",
      "model_module_version": "1.4.0",
      "model_name": "DescriptionStyleModel",
      "state": {
       "description_width": ""
      }
     },
     "7ea0b4629b444097a6b299f6b8d7df9b": {
      "model_module": "@jupyter-widgets/base",
      "model_module_version": "1.1.0",
      "model_name": "LayoutModel",
      "state": {
       "width": "auto"
      }
     },
     "7eb2eada97264dddae16aeadc4c7b074": {
      "model_module": "@jupyter-widgets/controls",
      "model_module_version": "1.4.0",
      "model_name": "DescriptionStyleModel",
      "state": {
       "description_width": ""
      }
     },
     "7f5d4555a702434dbbf43c8254afd745": {
      "model_module": "@jupyter-widgets/base",
      "model_module_version": "1.1.0",
      "model_name": "LayoutModel",
      "state": {
       "width": "auto"
      }
     },
     "7fa75cbe7bc146468166a20c896f5bf7": {
      "model_module": "@jupyter-widgets/controls",
      "model_module_version": "1.4.0",
      "model_name": "DropdownModel",
      "state": {
       "_options_labels": [
        "none",
        "triangle",
        "tee",
        "diamond",
        "square",
        "circle",
        "vee",
        "triangle-tee"
       ],
       "index": 0,
       "layout": "IPY_MODEL_70647f14d8614aabb37a44d51df7dc32",
       "style": "IPY_MODEL_1ad2a551689a41c3a1124f2dd9e66974"
      }
     },
     "8082a2985e44432d9c8a67e5c1b0c802": {
      "model_module": "@jupyter-widgets/controls",
      "model_module_version": "1.4.0",
      "model_name": "HBoxModel",
      "state": {
       "children": [
        "IPY_MODEL_ae6e4ed9eada4e27b776b05f107af162",
        "IPY_MODEL_6e97a1c48833434882d3b5c6c1463f9e",
        "IPY_MODEL_c811650dadd64446b37d45120dbac561"
       ],
       "layout": "IPY_MODEL_07600b6ad059408787866a5a85417ff8"
      }
     },
     "80d68a3e77aa47aca957d2f11cb78b7a": {
      "model_module": "@jupyter-widgets/base",
      "model_module_version": "1.1.0",
      "model_name": "LayoutModel",
      "state": {}
     },
     "8105f639f9a743709c47ababdc4b6982": {
      "model_module": "@jupyter-widgets/base",
      "model_module_version": "1.1.0",
      "model_name": "LayoutModel",
      "state": {
       "visibility": "hidden"
      }
     },
     "8159f37e0b2e4f8a84230a3257818141": {
      "model_module": "@jupyter-widgets/base",
      "model_module_version": "1.1.0",
      "model_name": "LayoutModel",
      "state": {}
     },
     "81cd67f0c7f5472faad1c2a72f2de239": {
      "model_module": "@jupyter-widgets/controls",
      "model_module_version": "1.4.0",
      "model_name": "HBoxModel",
      "state": {
       "children": [
        "IPY_MODEL_69e43b073e20466d818b435738366aba",
        "IPY_MODEL_e8a18f741f314843ae6df2bbc7daab6b",
        "IPY_MODEL_8645a1239b644dad832eae618e6d447a"
       ],
       "layout": "IPY_MODEL_58f98d7b9bdc4158bd15cdc45ac4840b"
      }
     },
     "81f1188466ec4616bc6bb55f73604aed": {
      "model_module": "@jupyter-widgets/base",
      "model_module_version": "1.1.0",
      "model_name": "LayoutModel",
      "state": {}
     },
     "82029356d5c44d0dbf2f1dbcc30d74d4": {
      "model_module": "@jupyter-widgets/base",
      "model_module_version": "1.1.0",
      "model_name": "LayoutModel",
      "state": {}
     },
     "828fa075149c467b853ab0a4829c9bb8": {
      "model_module": "@jupyter-widgets/controls",
      "model_module_version": "1.4.0",
      "model_name": "HTMLModel",
      "state": {
       "layout": "IPY_MODEL_89c1fdac63cc4f5eaba13ccb60fb95b2",
       "style": "IPY_MODEL_920d0a1bf5cd4e5ea83237c1547cd90f",
       "value": "<font size=3 style='justify-content: center;'>width : </font>"
      }
     },
     "82a718be391645fa95e48a2221669e6b": {
      "model_module": "@jupyter-widgets/controls",
      "model_module_version": "1.4.0",
      "model_name": "ButtonStyleModel",
      "state": {}
     },
     "82d0b8ab04e74dd3a0068d37b549615c": {
      "model_module": "@jupyter-widgets/controls",
      "model_module_version": "1.4.0",
      "model_name": "DescriptionStyleModel",
      "state": {
       "description_width": ""
      }
     },
     "833edd3ea23844c4a3522018b6e615cf": {
      "model_module": "@jupyter-widgets/base",
      "model_module_version": "1.1.0",
      "model_name": "LayoutModel",
      "state": {}
     },
     "8368a0a6bbde4dc0ab5915e779eae8fe": {
      "model_module": "@jupyter-widgets/controls",
      "model_module_version": "1.4.0",
      "model_name": "ButtonModel",
      "state": {
       "button_style": "danger",
       "description": "Remove",
       "layout": "IPY_MODEL_7b81dc5fd7c146a5af3439eb75f7fabc",
       "style": "IPY_MODEL_5e9da6d83d7742abbf699dc8506335b0"
      }
     },
     "836ce6eddc134d3a8e6bce909e7ec4a1": {
      "model_module": "@jupyter-widgets/controls",
      "model_module_version": "1.4.0",
      "model_name": "DescriptionStyleModel",
      "state": {
       "description_width": ""
      }
     },
     "83e33571c81c4d1185064eb75699d147": {
      "model_module": "@jupyter-widgets/controls",
      "model_module_version": "1.4.0",
      "model_name": "HBoxModel",
      "state": {
       "children": [
        "IPY_MODEL_fa9b802daae14a158bf07e151edf9924",
        "IPY_MODEL_fba5101864af4019b8606083b58253ae"
       ],
       "layout": "IPY_MODEL_102f9a9a3dac418dbbc0f82a47a8ac4e"
      }
     },
     "83f72a05d49f4f199c2cc31e32a35641": {
      "model_module": "@jupyter-widgets/base",
      "model_module_version": "1.1.0",
      "model_name": "LayoutModel",
      "state": {}
     },
     "840addf01e7e4a888d46bda7da5fe327": {
      "model_module": "@jupyter-widgets/controls",
      "model_module_version": "1.4.0",
      "model_name": "DescriptionStyleModel",
      "state": {
       "description_width": ""
      }
     },
     "8417ceb990654d9f8705c5883addb3fd": {
      "model_module": "@jupyter-widgets/controls",
      "model_module_version": "1.4.0",
      "model_name": "FloatTextModel",
      "state": {
       "continuous_update": true,
       "layout": "IPY_MODEL_9d7b1ed8ddda4bc28cf00a38b8c5eab5",
       "step": null,
       "style": "IPY_MODEL_1d8100f1108543dd895ec038a60f3e9e"
      }
     },
     "8469a1f4c2de4d19ae5a2e6525e6b01d": {
      "model_module": "@jupyter-widgets/controls",
      "model_module_version": "1.4.0",
      "model_name": "ToggleButtonsStyleModel",
      "state": {
       "button_width": "",
       "description_width": ""
      }
     },
     "8499b38bbfac41feae8a48785e302b32": {
      "model_module": "@jupyter-widgets/controls",
      "model_module_version": "1.4.0",
      "model_name": "ButtonModel",
      "state": {
       "button_style": "danger",
       "description": "Remove",
       "layout": "IPY_MODEL_7251eadccb4549d1abaaa05d2c7d37d0",
       "style": "IPY_MODEL_aeb34af99c5443ed884ca77542e4eaf9"
      }
     },
     "84dbae5424964d378517ec1a43a6808a": {
      "model_module": "@jupyter-widgets/controls",
      "model_module_version": "1.4.0",
      "model_name": "FloatTextModel",
      "state": {
       "continuous_update": true,
       "layout": "IPY_MODEL_a74d6902c00e47fe8327bc221fac3e9b",
       "step": null,
       "style": "IPY_MODEL_f2234b60986748288df418cee6c791da"
      }
     },
     "8500e9d6075642da86880c186ae66bfe": {
      "model_module": "@jupyter-widgets/controls",
      "model_module_version": "1.4.0",
      "model_name": "ButtonStyleModel",
      "state": {}
     },
     "8520b8a39f184cad938fa9ad18532475": {
      "model_module": "@jupyter-widgets/controls",
      "model_module_version": "1.4.0",
      "model_name": "DescriptionStyleModel",
      "state": {
       "description_width": ""
      }
     },
     "852ad65f76bb4c92aedc71ebd6201de3": {
      "model_module": "@jupyter-widgets/controls",
      "model_module_version": "1.4.0",
      "model_name": "LabelModel",
      "state": {
       "layout": "IPY_MODEL_6ebf3b1f48f9474dbee7aef9334e6e34",
       "style": "IPY_MODEL_bd9c9ce1fc6a4afbaaf9aa8319b608c1",
       "value": "Position :"
      }
     },
     "852be6fcd09d437db689e3c1c7018573": {
      "model_module": "@jupyter-widgets/controls",
      "model_module_version": "1.4.0",
      "model_name": "TextModel",
      "state": {
       "layout": "IPY_MODEL_6843702ec0c94b7ebb8c85b95d8b164f",
       "style": "IPY_MODEL_333b163a25fd49fe9daa5cb0a232cb4c"
      }
     },
     "85644da9257346118a22dcc437cff2b8": {
      "model_module": "@jupyter-widgets/base",
      "model_module_version": "1.1.0",
      "model_name": "LayoutModel",
      "state": {}
     },
     "858962db800b4c848f5de7740a6a61cd": {
      "model_module": "@jupyter-widgets/controls",
      "model_module_version": "1.4.0",
      "model_name": "HTMLModel",
      "state": {
       "layout": "IPY_MODEL_53db1c5eb39f494a8fa267ccd85ce8ab",
       "style": "IPY_MODEL_bdf19a4022bf42f6b1a1c242d6259279",
       "value": "<font size=3 style='justify-content: center;'>ClusteringCoefficient : </font>"
      }
     },
     "858d4adeef354c759e5bc02aea4b3a29": {
      "model_module": "@jupyter-widgets/controls",
      "model_module_version": "1.4.0",
      "model_name": "FloatTextModel",
      "state": {
       "continuous_update": true,
       "layout": "IPY_MODEL_8600abfb331b4821956ce414515ae45d",
       "step": null,
       "style": "IPY_MODEL_fa10e694ca6741bd8fc3cb22308f8c7d"
      }
     },
     "85dde226ec654f9199b18d22050ae3ae": {
      "model_module": "@jupyter-widgets/base",
      "model_module_version": "1.1.0",
      "model_name": "LayoutModel",
      "state": {}
     },
     "8600abfb331b4821956ce414515ae45d": {
      "model_module": "@jupyter-widgets/base",
      "model_module_version": "1.1.0",
      "model_name": "LayoutModel",
      "state": {}
     },
     "8602849542e849679a6f3954a4d25ca2": {
      "model_module": "@jupyter-widgets/controls",
      "model_module_version": "1.4.0",
      "model_name": "DescriptionStyleModel",
      "state": {
       "description_width": ""
      }
     },
     "860cc8262d0948edbbf5f49044af6c59": {
      "model_module": "@jupyter-widgets/base",
      "model_module_version": "1.1.0",
      "model_name": "LayoutModel",
      "state": {}
     },
     "8610f95277214a1eb35ed07a1526bf7a": {
      "model_module": "@jupyter-widgets/base",
      "model_module_version": "1.1.0",
      "model_name": "LayoutModel",
      "state": {}
     },
     "8621e80747bd4153b4529ab9b1adbd27": {
      "model_module": "@jupyter-widgets/base",
      "model_module_version": "1.1.0",
      "model_name": "LayoutModel",
      "state": {}
     },
     "862f911b8e4c44c398b17e619d13bad8": {
      "model_module": "@jupyter-widgets/controls",
      "model_module_version": "1.4.0",
      "model_name": "LabelModel",
      "state": {
       "layout": "IPY_MODEL_620d7d01ef15407bb2a2055c4195146c",
       "style": "IPY_MODEL_f4a994675f054f0a956fc29030b82886",
       "value": "Style"
      }
     },
     "8645a1239b644dad832eae618e6d447a": {
      "model_module": "@jupyter-widgets/controls",
      "model_module_version": "1.4.0",
      "model_name": "ButtonModel",
      "state": {
       "button_style": "success",
       "icon": "image",
       "layout": "IPY_MODEL_70c89b4170864f53a3555ee724e132f4",
       "style": "IPY_MODEL_8500e9d6075642da86880c186ae66bfe"
      }
     },
     "86ea3dafa1fd45c7bf6af7dbd2422ebd": {
      "model_module": "@jupyter-widgets/controls",
      "model_module_version": "1.4.0",
      "model_name": "DescriptionStyleModel",
      "state": {
       "description_width": ""
      }
     },
     "871a7aa825f2427086d49e271a8201ab": {
      "model_module": "@jupyter-widgets/controls",
      "model_module_version": "1.4.0",
      "model_name": "HBoxModel",
      "state": {
       "children": [
        "IPY_MODEL_1819130233924458bb65ac02beb3a511"
       ],
       "layout": "IPY_MODEL_fa279c8a67fc4ce991de1b26f8c1bf59"
      }
     },
     "872bbb1bffd44a92b3531909fff8284c": {
      "model_module": "@jupyter-widgets/controls",
      "model_module_version": "1.4.0",
      "model_name": "HBoxModel",
      "state": {
       "children": [
        "IPY_MODEL_5487d4b57d44449b879008a5b05073a7",
        "IPY_MODEL_e9a5e6ce7da145a8a97ebb29c3815ddb",
        "IPY_MODEL_291ed7a68dd442069492d29bef331482"
       ],
       "layout": "IPY_MODEL_9a1c27379cc24755b441aad8cfd48204"
      }
     },
     "877f3be218ca4bf58e3a66b2b37df034": {
      "model_module": "@jupyter-widgets/controls",
      "model_module_version": "1.4.0",
      "model_name": "HTMLModel",
      "state": {
       "layout": "IPY_MODEL_8105f639f9a743709c47ababdc4b6982",
       "style": "IPY_MODEL_4bb950df6fde437ab60b0708edd400cd",
       "value": " <h3 class='text-center text-success' style='margin:0'> Saved!</h3>"
      }
     },
     "87a198cfb94943d998c87dc20cc840f6": {
      "model_module": "@jupyter-widgets/controls",
      "model_module_version": "1.4.0",
      "model_name": "DescriptionStyleModel",
      "state": {
       "description_width": ""
      }
     },
     "8827c57aab1d4c1f8a6cf497d73bec27": {
      "model_module": "@jupyter-widgets/controls",
      "model_module_version": "1.4.0",
      "model_name": "DescriptionStyleModel",
      "state": {
       "description_width": ""
      }
     },
     "8869f5d44b414f8da5c537928e202eb3": {
      "model_module": "@jupyter-widgets/base",
      "model_module_version": "1.1.0",
      "model_name": "LayoutModel",
      "state": {}
     },
     "888164dc2b124008afc211877dfd6f0a": {
      "model_module": "@jupyter-widgets/controls",
      "model_module_version": "1.4.0",
      "model_name": "ButtonModel",
      "state": {
       "button_style": "danger",
       "description": "Remove",
       "layout": "IPY_MODEL_a0a8ebb048cc4cb796681b188d30765b",
       "style": "IPY_MODEL_39dbcc1f100c4c4c8947564a8e6fb50f"
      }
     },
     "88966ce2fbe64c29bd8608891c2733e2": {
      "model_module": "@jupyter-widgets/controls",
      "model_module_version": "1.4.0",
      "model_name": "DropdownModel",
      "state": {
       "_options_labels": [
        "index2.html",
        "index3.html",
        "index.html",
        "try2_1.html",
        "try2_2.html",
        "try2_3.html"
       ],
       "index": 5,
       "layout": "IPY_MODEL_0c34b0696dff483a974607e60f3c6601",
       "style": "IPY_MODEL_af868a93de4444a2ae2f4e492c5904fd"
      }
     },
     "88a229ccc9fc4af58705c96dcbe2e7ff": {
      "model_module": "@jupyter-widgets/controls",
      "model_module_version": "1.4.0",
      "model_name": "HTMLModel",
      "state": {
       "layout": "IPY_MODEL_2913b55fb0394ac193391f5ebba1e87e",
       "style": "IPY_MODEL_ef78f1aba3454e258ab984d5ee515c53",
       "value": "<h2 class='text-danger text-center'>Coming Soon! Wait for Update</h2>"
      }
     },
     "88a3c25c35154bec90bf02d8860f8ad4": {
      "model_module": "@jupyter-widgets/controls",
      "model_module_version": "1.4.0",
      "model_name": "DescriptionStyleModel",
      "state": {
       "description_width": ""
      }
     },
     "88ecf3ac53ce487785a83ee00153c9ba": {
      "model_module": "@jupyter-widgets/controls",
      "model_module_version": "1.4.0",
      "model_name": "DescriptionStyleModel",
      "state": {
       "description_width": ""
      }
     },
     "89022742e9644dd58fe6070820e32861": {
      "model_module": "@jupyter-widgets/base",
      "model_module_version": "1.1.0",
      "model_name": "LayoutModel",
      "state": {}
     },
     "8925e66e9f6149439f325d675e6d773b": {
      "model_module": "@jupyter-widgets/controls",
      "model_module_version": "1.4.0",
      "model_name": "TextModel",
      "state": {
       "layout": "IPY_MODEL_5dec0e90c6d14768848ceb8dad8b8fd3",
       "style": "IPY_MODEL_f9e8adade4174d42a0f48dde193bb9d2"
      }
     },
     "8935116d127242b2a0b8f0b9dff32b98": {
      "model_module": "@jupyter-widgets/controls",
      "model_module_version": "1.4.0",
      "model_name": "TextModel",
      "state": {
       "layout": "IPY_MODEL_1107a7d7ba7b41878ceb03c536f9f2b3",
       "style": "IPY_MODEL_7eb2eada97264dddae16aeadc4c7b074"
      }
     },
     "89ab03a4bfe443a1828a5c8ce2e06dc2": {
      "model_module": "@jupyter-widgets/controls",
      "model_module_version": "1.4.0",
      "model_name": "ButtonModel",
      "state": {
       "button_style": "danger",
       "description": "Remove",
       "layout": "IPY_MODEL_1aa659a440f548fb8a6f2793858d0af4",
       "style": "IPY_MODEL_4d03cb4a49f942d8838ae8c9f3e094d3"
      }
     },
     "89c1fdac63cc4f5eaba13ccb60fb95b2": {
      "model_module": "@jupyter-widgets/base",
      "model_module_version": "1.1.0",
      "model_name": "LayoutModel",
      "state": {}
     },
     "89c53ae61b254326836ad07033749d7d": {
      "model_module": "@jupyter-widgets/controls",
      "model_module_version": "1.4.0",
      "model_name": "DescriptionStyleModel",
      "state": {
       "description_width": ""
      }
     },
     "89d000d4f6574ba597cf4761a946c1eb": {
      "model_module": "@jupyter-widgets/base",
      "model_module_version": "1.1.0",
      "model_name": "LayoutModel",
      "state": {}
     },
     "8a0c00ea7cf34058b6eda78a1bbc3ced": {
      "model_module": "@jupyter-widgets/base",
      "model_module_version": "1.1.0",
      "model_name": "LayoutModel",
      "state": {}
     },
     "8a30e152c9d74e358ff1ded8a6cb18bc": {
      "model_module": "@jupyter-widgets/controls",
      "model_module_version": "1.4.0",
      "model_name": "DescriptionStyleModel",
      "state": {
       "description_width": ""
      }
     },
     "8a67dc29bfa541dbbbe01c13fc7d04b3": {
      "model_module": "@jupyter-widgets/controls",
      "model_module_version": "1.4.0",
      "model_name": "DescriptionStyleModel",
      "state": {
       "description_width": ""
      }
     },
     "8aa72d97317644e3a5e199eee4b3f99b": {
      "model_module": "@jupyter-widgets/base",
      "model_module_version": "1.1.0",
      "model_name": "LayoutModel",
      "state": {
       "justify_content": "center",
       "margin": "0 0 15px 0"
      }
     },
     "8ad0c3d4f5bf47e295cd055783901259": {
      "model_module": "@jupyter-widgets/controls",
      "model_module_version": "1.4.0",
      "model_name": "DescriptionStyleModel",
      "state": {
       "description_width": ""
      }
     },
     "8adafa45ba3549d9993facb4bdc8b9e2": {
      "model_module": "@jupyter-widgets/controls",
      "model_module_version": "1.4.0",
      "model_name": "DescriptionStyleModel",
      "state": {
       "description_width": ""
      }
     },
     "8af5b5828e5f4d27ab5497d5a0caea6f": {
      "model_module": "@jupyter-widgets/controls",
      "model_module_version": "1.4.0",
      "model_name": "ButtonStyleModel",
      "state": {}
     },
     "8b40ff8d6f8943fabf6f71f4b390a9ea": {
      "model_module": "@jupyter-widgets/controls",
      "model_module_version": "1.4.0",
      "model_name": "VBoxModel",
      "state": {
       "children": [
        "IPY_MODEL_4df0165ff5ae4a6ba68c9205f19faaf0",
        "IPY_MODEL_efa422be0cac45c9b107565459f51384",
        "IPY_MODEL_b6b6caa781304c16b3b59193fdb0e4c5"
       ],
       "layout": "IPY_MODEL_c055ea6d3dbb492587915bd74a6bce19"
      }
     },
     "8b42f9b8052f46d6866d83a6c71b1573": {
      "model_module": "@jupyter-widgets/base",
      "model_module_version": "1.1.0",
      "model_name": "LayoutModel",
      "state": {}
     },
     "8b52a09cdba242188f489af5851d7f1c": {
      "model_module": "@jupyter-widgets/base",
      "model_module_version": "1.1.0",
      "model_name": "LayoutModel",
      "state": {
       "width": "auto"
      }
     },
     "8bf7df1522ff460e97f32bdd61e6525f": {
      "model_module": "@jupyter-widgets/base",
      "model_module_version": "1.1.0",
      "model_name": "LayoutModel",
      "state": {
       "display": "none"
      }
     },
     "8c29449bdeb4491aaa8ebb17af62fd12": {
      "model_module": "@jupyter-widgets/controls",
      "model_module_version": "1.4.0",
      "model_name": "DescriptionStyleModel",
      "state": {
       "description_width": ""
      }
     },
     "8c32852dfaba4ffa835855c64b59b6a9": {
      "model_module": "@jupyter-widgets/controls",
      "model_module_version": "1.4.0",
      "model_name": "ButtonStyleModel",
      "state": {}
     },
     "8d0f725c15a34a0a9fc8da45cc2fd1b4": {
      "model_module": "@jupyter-widgets/controls",
      "model_module_version": "1.4.0",
      "model_name": "HTMLModel",
      "state": {
       "layout": "IPY_MODEL_e0f39bb5b15f48619739acde2ba0d6dd",
       "style": "IPY_MODEL_e0c9483f48d643f0b12f8f286d824f02",
       "value": "<font size=3 style='justify-content: center;'>shared_name : </font>"
      }
     },
     "8d677825698d40e5803c603161b788c8": {
      "model_module": "@jupyter-widgets/controls",
      "model_module_version": "1.4.0",
      "model_name": "ButtonModel",
      "state": {
       "button_style": "danger",
       "description": "Delete",
       "layout": "IPY_MODEL_65eb659427be465286282736eecb5f89",
       "style": "IPY_MODEL_b0b9329fe1f2488281ab22dfb44f14d5"
      }
     },
     "8df7801c1e8149658a88cf27669add99": {
      "model_module": "@jupyter-widgets/controls",
      "model_module_version": "1.4.0",
      "model_name": "HBoxModel",
      "state": {
       "children": [
        "IPY_MODEL_2248448660e84ce594809f74110faa49",
        "IPY_MODEL_927f419e6b694cda9d78785875848434"
       ],
       "layout": "IPY_MODEL_1bd5de71708f4637b6ebef50257d3bba"
      }
     },
     "8e2fb75b6ff5471da95fc2b5ee45c018": {
      "model_module": "@jupyter-widgets/base",
      "model_module_version": "1.1.0",
      "model_name": "LayoutModel",
      "state": {}
     },
     "8e6ce11168e64251b9ef5ace9e13c000": {
      "model_module": "@jupyter-widgets/controls",
      "model_module_version": "1.4.0",
      "model_name": "HTMLModel",
      "state": {
       "layout": "IPY_MODEL_3c990e2188a84157b8df1fa8afadfc60",
       "style": "IPY_MODEL_d430834c80154634ad5160a9afd2e14e",
       "value": "<h5>Name  &nbsp</h5> "
      }
     },
     "8e7d038005874cf1a34560f9a536e738": {
      "model_module": "@jupyter-widgets/controls",
      "model_module_version": "1.4.0",
      "model_name": "DescriptionStyleModel",
      "state": {
       "description_width": ""
      }
     },
     "8e8bfc45c5994024baaec195790dd745": {
      "model_module": "@jupyter-widgets/controls",
      "model_module_version": "1.4.0",
      "model_name": "HBoxModel",
      "state": {
       "children": [
        "IPY_MODEL_cf4f6bdb33ab4eb09c996fc9cea75641",
        "IPY_MODEL_a86d6cd2077b4555886ef075e467bc32",
        "IPY_MODEL_05b4327b7ebf4665bb2edad19b305232"
       ],
       "layout": "IPY_MODEL_f7290cf82b9f4d40b2c77c6562ab5b55"
      }
     },
     "8ea5325d95904b919f38dd5db4d05d78": {
      "model_module": "@jupyter-widgets/controls",
      "model_module_version": "1.4.0",
      "model_name": "HTMLModel",
      "state": {
       "layout": "IPY_MODEL_ecdf402c03f741bfba9afac99cbdbf1c",
       "style": "IPY_MODEL_f2d22842c5164ce68fae20eef6975d2b",
       "value": "<h5>Here you save your graph as a <a href='https://www.datacamp.com/community/tutorials/pandas-tutorial-dataframe-python'>Pandas DataFrame</a>.\nType the name of the <font color=\"blue\">Python variable</font> you want.</h5>"
      }
     },
     "8ea59734bd394392baeb4d34d38b611b": {
      "model_module": "@jupyter-widgets/controls",
      "model_module_version": "1.4.0",
      "model_name": "DescriptionStyleModel",
      "state": {
       "description_width": ""
      }
     },
     "8eb92f7a32ed49e5b11d8452e6464422": {
      "model_module": "@jupyter-widgets/controls",
      "model_module_version": "1.4.0",
      "model_name": "ButtonStyleModel",
      "state": {}
     },
     "8eef8643afe243a0a677e10f42272f8e": {
      "model_module": "@jupyter-widgets/controls",
      "model_module_version": "1.4.0",
      "model_name": "ButtonStyleModel",
      "state": {}
     },
     "8f2f95e6fac74ff6a0dff3e5f15dbc3f": {
      "model_module": "@jupyter-widgets/base",
      "model_module_version": "1.1.0",
      "model_name": "LayoutModel",
      "state": {
       "width": "auto"
      }
     },
     "8f6f6ae189c54a86aed40c4384b57848": {
      "model_module": "@jupyter-widgets/controls",
      "model_module_version": "1.4.0",
      "model_name": "ButtonModel",
      "state": {
       "button_style": "danger",
       "description": "Remove",
       "layout": "IPY_MODEL_dfa7d132d85d46ca842f5685190a0302",
       "style": "IPY_MODEL_d75d7ad5c042458f8b4b7ca00cd35a05"
      }
     },
     "8f829c12de6c429486f32d7028375d96": {
      "model_module": "@jupyter-widgets/controls",
      "model_module_version": "1.4.0",
      "model_name": "HBoxModel",
      "state": {
       "children": [
        "IPY_MODEL_78515879367a4205ab96090715254ba6"
       ],
       "layout": "IPY_MODEL_6254ad8c22db4d62a4afaa3d4f5c86c2"
      }
     },
     "8fbb8313980c41cfac0c93edeadfd402": {
      "model_module": "@jupyter-widgets/base",
      "model_module_version": "1.1.0",
      "model_name": "LayoutModel",
      "state": {}
     },
     "8ff11b1fed85449f9545b1d88738593a": {
      "model_module": "@jupyter-widgets/controls",
      "model_module_version": "1.4.0",
      "model_name": "DescriptionStyleModel",
      "state": {
       "description_width": ""
      }
     },
     "8ff24aa10316495aa66b9e04c4c4adbd": {
      "model_module": "@jupyter-widgets/base",
      "model_module_version": "1.1.0",
      "model_name": "LayoutModel",
      "state": {
       "padding": "10px 0px 0px 0px"
      }
     },
     "90220f725b494a69989c96861f8a256c": {
      "model_module": "@jupyter-widgets/controls",
      "model_module_version": "1.4.0",
      "model_name": "ToggleButtonsStyleModel",
      "state": {
       "button_width": "",
       "description_width": ""
      }
     },
     "90258190711c43e7b9ff165b4e313710": {
      "model_module": "@jupyter-widgets/controls",
      "model_module_version": "1.4.0",
      "model_name": "HBoxModel",
      "state": {
       "children": [
        "IPY_MODEL_c78a357a2fbb4e0c9a941ce4aea65ab4",
        "IPY_MODEL_ca9cfab1f47f46bc9f619b33d3806c4e",
        "IPY_MODEL_dd099b886af54212b3e99a4277a7c333",
        "IPY_MODEL_877f3be218ca4bf58e3a66b2b37df034"
       ],
       "layout": "IPY_MODEL_f047dcd4d7ae43b8b8650f6ef98a47d2"
      }
     },
     "902833844f3943dc8a5cab0565b657f5": {
      "model_module": "@jupyter-widgets/controls",
      "model_module_version": "1.4.0",
      "model_name": "HTMLModel",
      "state": {
       "layout": "IPY_MODEL_6f10701d201e4e27b70aa80c919181dc",
       "style": "IPY_MODEL_b866a8ccc40a4f69afbb2414e82b594e",
       "value": "<font size=3 style='justify-content: center;'>SUID : </font>"
      }
     },
     "9035b8ffae894735b1694e2895c4c533": {
      "model_module": "@jupyter-widgets/base",
      "model_module_version": "1.1.0",
      "model_name": "LayoutModel",
      "state": {
       "justify_content": "center",
       "padding": "0px 0px 10px 0px"
      }
     },
     "9066c5fb131947608e29878b3b6a81ef": {
      "model_module": "@jupyter-widgets/controls",
      "model_module_version": "1.4.0",
      "model_name": "ButtonModel",
      "state": {
       "button_style": "danger",
       "description": "Remove",
       "layout": "IPY_MODEL_6875bca5c0d4478a8259aa87ee9a2b51",
       "style": "IPY_MODEL_ceb3d5ba6964414cb6e784eb990afb57"
      }
     },
     "907bd51712f044ba85914bb71645971f": {
      "model_module": "@jupyter-widgets/controls",
      "model_module_version": "1.4.0",
      "model_name": "DescriptionStyleModel",
      "state": {
       "description_width": ""
      }
     },
     "907da86ee6ab4c65ae06c34fc4f8a3bd": {
      "model_module": "@jupyter-widgets/base",
      "model_module_version": "1.1.0",
      "model_name": "LayoutModel",
      "state": {}
     },
     "908b553f367e497cb2fd7e778e206624": {
      "model_module": "@jupyter-widgets/controls",
      "model_module_version": "1.4.0",
      "model_name": "DescriptionStyleModel",
      "state": {
       "description_width": ""
      }
     },
     "90b8a7ecdfbc41949f32ed9733c29c01": {
      "model_module": "@jupyter-widgets/base",
      "model_module_version": "1.1.0",
      "model_name": "LayoutModel",
      "state": {
       "width": "auto"
      }
     },
     "90cc27b8add64a78bbc777221605b12e": {
      "model_module": "@jupyter-widgets/controls",
      "model_module_version": "1.4.0",
      "model_name": "ButtonStyleModel",
      "state": {}
     },
     "90dcece97c43487f8302fd424639b21e": {
      "model_module": "@jupyter-widgets/controls",
      "model_module_version": "1.4.0",
      "model_name": "DescriptionStyleModel",
      "state": {
       "description_width": ""
      }
     },
     "90f4c3c935074f9d90f7c4c6862313a2": {
      "model_module": "@jupyter-widgets/base",
      "model_module_version": "1.1.0",
      "model_name": "LayoutModel",
      "state": {}
     },
     "9133549bc2ff4c3b8ce3a8a338ead182": {
      "model_module": "@jupyter-widgets/base",
      "model_module_version": "1.1.0",
      "model_name": "LayoutModel",
      "state": {
       "width": "auto"
      }
     },
     "9179b5c5f6a14c88a213bf04186793da": {
      "model_module": "@jupyter-widgets/controls",
      "model_module_version": "1.4.0",
      "model_name": "TextModel",
      "state": {
       "continuous_update": false,
       "layout": "IPY_MODEL_163ac34797dd4b1abd5e9089e66e6a98",
       "style": "IPY_MODEL_e78d2e20e3c9466eb8e35fffdc70df21"
      }
     },
     "917d9da426034fb3a9069a1416c81bb7": {
      "model_module": "@jupyter-widgets/base",
      "model_module_version": "1.1.0",
      "model_name": "LayoutModel",
      "state": {}
     },
     "91b5c65fdfea48c8a1a424ef4d9b3396": {
      "model_module": "@jupyter-widgets/controls",
      "model_module_version": "1.4.0",
      "model_name": "TextModel",
      "state": {
       "layout": "IPY_MODEL_747ae194a06b44b1809372b34b6d95f3",
       "style": "IPY_MODEL_dfb13e45094345818ac0015b4c45d4ac"
      }
     },
     "920d0a1bf5cd4e5ea83237c1547cd90f": {
      "model_module": "@jupyter-widgets/controls",
      "model_module_version": "1.4.0",
      "model_name": "DescriptionStyleModel",
      "state": {
       "description_width": ""
      }
     },
     "9268cb1ea8144d6697a5b8dc0789c43e": {
      "model_module": "@jupyter-widgets/controls",
      "model_module_version": "1.4.0",
      "model_name": "DescriptionStyleModel",
      "state": {
       "description_width": ""
      }
     },
     "927f419e6b694cda9d78785875848434": {
      "model_module": "@jupyter-widgets/controls",
      "model_module_version": "1.4.0",
      "model_name": "DropdownModel",
      "state": {
       "_options_labels": [
        "none",
        "triangle",
        "tee",
        "diamond",
        "square",
        "circle",
        "vee",
        "triangle-tee"
       ],
       "index": 0,
       "layout": "IPY_MODEL_ed787fb5d8214a0789bcb0aa0a29490e",
       "style": "IPY_MODEL_b58858d9e5a1451b967047eb459841f2"
      }
     },
     "92aa8b387ce54905856ba4fd324cef1f": {
      "model_module": "@jupyter-widgets/controls",
      "model_module_version": "1.4.0",
      "model_name": "HBoxModel",
      "state": {
       "children": [
        "IPY_MODEL_a0044d5ea5ce426092dae63ee507d465",
        "IPY_MODEL_cb4ddf309b424a58aaed76d87de5cbc6"
       ],
       "layout": "IPY_MODEL_2945f457d973400e8ac909028086fc03"
      }
     },
     "92c9165e303b493ba00f626dafb11c2e": {
      "model_module": "@jupyter-widgets/controls",
      "model_module_version": "1.4.0",
      "model_name": "LabelModel",
      "state": {
       "layout": "IPY_MODEL_d3bf3eb9fc014339bfb5145e5b086531",
       "style": "IPY_MODEL_eb18a29238644532a6cf841ebd850dc3",
       "value": "Size :"
      }
     },
     "92cf4fad14e445eb992903c9e3f6db01": {
      "model_module": "@jupyter-widgets/controls",
      "model_module_version": "1.4.0",
      "model_name": "ButtonModel",
      "state": {
       "button_style": "danger",
       "description": "Delete",
       "layout": "IPY_MODEL_edd0505eac7145f993f12aa568108c07",
       "style": "IPY_MODEL_40c4d2bad9864357b36bafb3156ccec9"
      }
     },
     "92f89f15a46d46a4b3749020bdbcae23": {
      "model_module": "@jupyter-widgets/base",
      "model_module_version": "1.1.0",
      "model_name": "LayoutModel",
      "state": {
       "padding": "10px 0px 0px 0px"
      }
     },
     "92faaa3c1f154988b5ae2523245e0a6f": {
      "model_module": "@jupyter-widgets/controls",
      "model_module_version": "1.4.0",
      "model_name": "DescriptionStyleModel",
      "state": {
       "description_width": ""
      }
     },
     "9300789abe3147e3a8e3f57ee1a6f162": {
      "model_module": "@jupyter-widgets/controls",
      "model_module_version": "1.4.0",
      "model_name": "DescriptionStyleModel",
      "state": {
       "description_width": ""
      }
     },
     "933a7afb50e14ae9820de9450c8e1990": {
      "model_module": "@jupyter-widgets/controls",
      "model_module_version": "1.4.0",
      "model_name": "DescriptionStyleModel",
      "state": {
       "description_width": ""
      }
     },
     "93632773e80f4ada95d69310d7e72c19": {
      "model_module": "@jupyter-widgets/base",
      "model_module_version": "1.1.0",
      "model_name": "LayoutModel",
      "state": {}
     },
     "937c5e85f1e642e5acafe46fcdbd998c": {
      "model_module": "@jupyter-widgets/base",
      "model_module_version": "1.1.0",
      "model_name": "LayoutModel",
      "state": {}
     },
     "93913d29c1ac417dbc6b9cac1c359048": {
      "model_module": "@jupyter-widgets/base",
      "model_module_version": "1.1.0",
      "model_name": "LayoutModel",
      "state": {}
     },
     "93f991100cf442648ca4ed6a0a7c527e": {
      "model_module": "@jupyter-widgets/base",
      "model_module_version": "1.1.0",
      "model_name": "LayoutModel",
      "state": {}
     },
     "9411a4399ab5433bad09f1c24266dfe1": {
      "model_module": "@jupyter-widgets/controls",
      "model_module_version": "1.4.0",
      "model_name": "FloatTextModel",
      "state": {
       "continuous_update": true,
       "layout": "IPY_MODEL_dab384c3e015497b90b025100b8499e5",
       "step": null,
       "style": "IPY_MODEL_8602849542e849679a6f3954a4d25ca2"
      }
     },
     "94341bce5dd946b0b0a183b44b5d9547": {
      "model_module": "@jupyter-widgets/base",
      "model_module_version": "1.1.0",
      "model_name": "LayoutModel",
      "state": {}
     },
     "943d2d9609cf44ce9fc9ca549743e64b": {
      "model_module": "@jupyter-widgets/controls",
      "model_module_version": "1.4.0",
      "model_name": "DescriptionStyleModel",
      "state": {
       "description_width": ""
      }
     },
     "944d3325079d4083b64341c98f87483d": {
      "model_module": "@jupyter-widgets/controls",
      "model_module_version": "1.4.0",
      "model_name": "DescriptionStyleModel",
      "state": {
       "description_width": ""
      }
     },
     "94773131ee634c7a9132e3cc0150bed9": {
      "model_module": "@jupyter-widgets/controls",
      "model_module_version": "1.4.0",
      "model_name": "HTMLModel",
      "state": {
       "layout": "IPY_MODEL_a6e9ed12c90c42f1838ee524e2e7eee9",
       "style": "IPY_MODEL_89c53ae61b254326836ad07033749d7d",
       "value": "<font size=3 style='justify-content: center;'>ClosenessCentrality : </font>"
      }
     },
     "94862af073b54d8abbf95a2c16cdd890": {
      "model_module": "@jupyter-widgets/base",
      "model_module_version": "1.1.0",
      "model_name": "LayoutModel",
      "state": {}
     },
     "94d90140645b4771bc115cf8302ef707": {
      "model_module": "@jupyter-widgets/controls",
      "model_module_version": "1.4.0",
      "model_name": "HBoxModel",
      "state": {
       "children": [
        "IPY_MODEL_a631ab827c1f4a6ba783803f2988ba8b",
        "IPY_MODEL_ce651c34cad444258dc72aedd3a473d8",
        "IPY_MODEL_6af60bd87d97470aba9ce295aac83393"
       ],
       "layout": "IPY_MODEL_9618582d17c54003a35936d06b0a09c6"
      }
     },
     "94d95ef60f8b4e2f9ba477d0cac5862f": {
      "model_module": "@jupyter-widgets/controls",
      "model_module_version": "1.4.0",
      "model_name": "LabelModel",
      "state": {
       "layout": "IPY_MODEL_f7abfb167ca34cc290277403ddd70a3c",
       "style": "IPY_MODEL_a7b98a8bc5bc4fb390a3ede5f2aeb388",
       "value": "Shape :"
      }
     },
     "94ee93f8df924413bfbb765ddf180753": {
      "model_module": "@jupyter-widgets/base",
      "model_module_version": "1.1.0",
      "model_name": "LayoutModel",
      "state": {
       "width": "auto"
      }
     },
     "94f67fa82064418b9b37e2a712cf2f39": {
      "model_module": "@jupyter-widgets/controls",
      "model_module_version": "1.4.0",
      "model_name": "DescriptionStyleModel",
      "state": {
       "description_width": ""
      }
     },
     "94fb5ada296e4ca2bc4ec0670fdf255f": {
      "model_module": "@jupyter-widgets/base",
      "model_module_version": "1.1.0",
      "model_name": "LayoutModel",
      "state": {}
     },
     "956f1c0d0fa2439d9062d3d05bb222e5": {
      "model_module": "@jupyter-widgets/controls",
      "model_module_version": "1.4.0",
      "model_name": "ButtonStyleModel",
      "state": {}
     },
     "95a38b4f04ae4afd9bc829ba64b2f402": {
      "model_module": "@jupyter-widgets/base",
      "model_module_version": "1.1.0",
      "model_name": "LayoutModel",
      "state": {
       "width": "auto"
      }
     },
     "95fa0379611647d4bf58bff76084f27b": {
      "model_module": "@jupyter-widgets/base",
      "model_module_version": "1.1.0",
      "model_name": "LayoutModel",
      "state": {}
     },
     "9618582d17c54003a35936d06b0a09c6": {
      "model_module": "@jupyter-widgets/base",
      "model_module_version": "1.1.0",
      "model_name": "LayoutModel",
      "state": {}
     },
     "965c55be23ba4dcba743630b496350eb": {
      "model_module": "@jupyter-widgets/controls",
      "model_module_version": "1.4.0",
      "model_name": "SliderStyleModel",
      "state": {
       "description_width": ""
      }
     },
     "96c638be0c4148e598309c9fc1bf91a3": {
      "model_module": "@jupyter-widgets/controls",
      "model_module_version": "1.4.0",
      "model_name": "DescriptionStyleModel",
      "state": {
       "description_width": ""
      }
     },
     "96e762cb4cab4298b90586ea010ca7c8": {
      "model_module": "@jupyter-widgets/base",
      "model_module_version": "1.1.0",
      "model_name": "LayoutModel",
      "state": {
       "width": "auto"
      }
     },
     "9745f82d836b4d9590a45b98ddfeaffa": {
      "model_module": "@jupyter-widgets/base",
      "model_module_version": "1.1.0",
      "model_name": "LayoutModel",
      "state": {
       "width": "auto"
      }
     },
     "97a9644bc57648a887116b6f774afa65": {
      "model_module": "@jupyter-widgets/controls",
      "model_module_version": "1.4.0",
      "model_name": "HTMLModel",
      "state": {
       "layout": "IPY_MODEL_1b3939b69d8742ef807bfc2ecc0c4f9d",
       "style": "IPY_MODEL_f81e01a2e8634efaaa197d8c0bd8e46e",
       "value": "<b><p>Variable &nbsp </p> </b>"
      }
     },
     "97da00533cee4d9eb3760c561f662a04": {
      "model_module": "@jupyter-widgets/base",
      "model_module_version": "1.1.0",
      "model_name": "LayoutModel",
      "state": {}
     },
     "983d4be422a247258cef581125c2567d": {
      "model_module": "@jupyter-widgets/controls",
      "model_module_version": "1.4.0",
      "model_name": "HTMLModel",
      "state": {
       "layout": "IPY_MODEL_39955932fe6d4376a2c02517a06a5bed",
       "style": "IPY_MODEL_15b4e3b7af564493b47fa79206e3163c",
       "value": "<font size=3 style='justify-content: center;'>shared_interaction : </font>"
      }
     },
     "9858d04f8fa34d57bc3cb42a71e9398b": {
      "model_module": "@jupyter-widgets/base",
      "model_module_version": "1.1.0",
      "model_name": "LayoutModel",
      "state": {}
     },
     "988ccde7b88c43cb9a57a31135da5322": {
      "model_module": "@jupyter-widgets/controls",
      "model_module_version": "1.4.0",
      "model_name": "DescriptionStyleModel",
      "state": {
       "description_width": ""
      }
     },
     "9894b39edb544d2b8cb630acf33b2fa6": {
      "model_module": "@jupyter-widgets/controls",
      "model_module_version": "1.4.0",
      "model_name": "ButtonModel",
      "state": {
       "button_style": "primary",
       "description": "Download",
       "layout": "IPY_MODEL_78a52210290c45a68d56991a2f3b2c40",
       "style": "IPY_MODEL_d76ef5181b3a4a10b66224bd0651f489"
      }
     },
     "98ae9af0647147d99f367cdd72dc039d": {
      "model_module": "@jupyter-widgets/controls",
      "model_module_version": "1.4.0",
      "model_name": "ButtonModel",
      "state": {
       "button_style": "primary",
       "description": "Undo",
       "disabled": true,
       "layout": "IPY_MODEL_afd53354497a45599428f07fd21b6716",
       "style": "IPY_MODEL_11db9bda9b51404ab676394634e4e59c"
      }
     },
     "99143fa1f8c54230b94824460e347200": {
      "model_module": "@jupyter-widgets/controls",
      "model_module_version": "1.4.0",
      "model_name": "VBoxModel",
      "state": {
       "children": [
        "IPY_MODEL_4a71779d9b6a4b1a902d2ecd928bba31",
        "IPY_MODEL_08db529b19d846a980dba94988dd2b7a",
        "IPY_MODEL_3b23822fc48b4fa6a505991821d1b921",
        "IPY_MODEL_c1b60a37433545b784756e79628553b3"
       ],
       "layout": "IPY_MODEL_ebabee29240f4e32835c267d137c0828"
      }
     },
     "99154dd678104ae49ddddc7ea637026a": {
      "model_module": "@jupyter-widgets/base",
      "model_module_version": "1.1.0",
      "model_name": "LayoutModel",
      "state": {}
     },
     "9935d21ad0e04b8fb4d1fa202b122856": {
      "model_module": "@jupyter-widgets/controls",
      "model_module_version": "1.4.0",
      "model_name": "HBoxModel",
      "state": {
       "children": [
        "IPY_MODEL_f28175952b194242a218c0990a33b449",
        "IPY_MODEL_3af30e7731e44c90a5b3a125f7c42611"
       ],
       "layout": "IPY_MODEL_d506969a4fe1493cba15fb535395d74a"
      }
     },
     "995ca4dac19d41909a6aec7fb4821d91": {
      "model_module": "@jupyter-widgets/controls",
      "model_module_version": "1.4.0",
      "model_name": "ButtonModel",
      "state": {
       "button_style": "danger",
       "description": "Remove",
       "layout": "IPY_MODEL_64251c62081d466d9f0692be8cf2936a",
       "style": "IPY_MODEL_1e9fe191d2f047f399dbcd835f3f9cdd"
      }
     },
     "997e4f25e94c4220a03f56f36040f7cb": {
      "model_module": "@jupyter-widgets/controls",
      "model_module_version": "1.4.0",
      "model_name": "HBoxModel",
      "state": {
       "children": [
        "IPY_MODEL_e5ab2511db7b4e4f9224141b4845dcfe",
        "IPY_MODEL_9f67f545eea244fd83e10f7bdf477365",
        "IPY_MODEL_9ff6d96fcd1a4980801d46718e66c8c4"
       ],
       "layout": "IPY_MODEL_1393e638116747d2af4afe9fc267fde4"
      }
     },
     "999d8511bcff4e39a687ede8f0d8a6d9": {
      "model_module": "@jupyter-widgets/controls",
      "model_module_version": "1.4.0",
      "model_name": "DescriptionStyleModel",
      "state": {
       "description_width": ""
      }
     },
     "99aaa503e2e74c5a90f98a1209a79a05": {
      "model_module": "@jupyter-widgets/base",
      "model_module_version": "1.1.0",
      "model_name": "LayoutModel",
      "state": {}
     },
     "99b9c014e663436f8e8a2c19d4eb3381": {
      "model_module": "@jupyter-widgets/base",
      "model_module_version": "1.1.0",
      "model_name": "LayoutModel",
      "state": {}
     },
     "99e49cdfca164c4c931108555770e1ce": {
      "model_module": "@jupyter-widgets/base",
      "model_module_version": "1.1.0",
      "model_name": "LayoutModel",
      "state": {}
     },
     "99f084a3478e4dcb983a215f0d5adcae": {
      "model_module": "@jupyter-widgets/base",
      "model_module_version": "1.1.0",
      "model_name": "LayoutModel",
      "state": {}
     },
     "99f60036106143d78f51917d63a1dd83": {
      "model_module": "@jupyter-widgets/controls",
      "model_module_version": "1.4.0",
      "model_name": "DropdownModel",
      "state": {
       "_options_labels": [
        "center",
        "top",
        "bottom",
        "left",
        "right"
       ],
       "index": 0,
       "layout": "IPY_MODEL_e214304c1c0a4f95a1b7c2420858ab40",
       "style": "IPY_MODEL_fa32c1cc909b4326b9dda65f2bb0b2c0"
      }
     },
     "99fa1bdf121b40028b691045d5cf8948": {
      "model_module": "@jupyter-widgets/base",
      "model_module_version": "1.1.0",
      "model_name": "LayoutModel",
      "state": {}
     },
     "9a1c27379cc24755b441aad8cfd48204": {
      "model_module": "@jupyter-widgets/base",
      "model_module_version": "1.1.0",
      "model_name": "LayoutModel",
      "state": {}
     },
     "9a5cb18c1f5445db9b67b3e5f39fd1f0": {
      "model_module": "@jupyter-widgets/controls",
      "model_module_version": "1.4.0",
      "model_name": "ButtonModel",
      "state": {
       "button_style": "danger",
       "description": "Remove",
       "layout": "IPY_MODEL_5abfc689d1b34f80a551fe2cde3d93de",
       "style": "IPY_MODEL_0adfa667b92340e6aac67f2c1bd331e7"
      }
     },
     "9a72f31c72bb41e1957bbe4c4f757e94": {
      "model_module": "@jupyter-widgets/controls",
      "model_module_version": "1.4.0",
      "model_name": "HBoxModel",
      "state": {
       "children": [
        "IPY_MODEL_828fa075149c467b853ab0a4829c9bb8",
        "IPY_MODEL_1d5f15fafe864dbdb37f96e6c3db81f2",
        "IPY_MODEL_71bce872fa4e4bad90df36c7ab62144e"
       ],
       "layout": "IPY_MODEL_020d425327cf49f48cf9a01b43334637"
      }
     },
     "9a8e1332617645a6bbb5dd8a57775d77": {
      "model_module": "@jupyter-widgets/base",
      "model_module_version": "1.1.0",
      "model_name": "LayoutModel",
      "state": {}
     },
     "9b214e2235f84d5d830c9cab10befaa7": {
      "model_module": "@jupyter-widgets/controls",
      "model_module_version": "1.4.0",
      "model_name": "FloatTextModel",
      "state": {
       "continuous_update": true,
       "layout": "IPY_MODEL_b95d2c02e55440b3875a0a3e8f7dfd56",
       "step": null,
       "style": "IPY_MODEL_6f9ead4558cc465abd01947e7ca8ff40"
      }
     },
     "9b223d4f35544ed4b6c974b406250144": {
      "model_module": "@jupyter-widgets/base",
      "model_module_version": "1.1.0",
      "model_name": "LayoutModel",
      "state": {
       "width": "auto"
      }
     },
     "9b50ddaf725e4271885a03cb57aba695": {
      "model_module": "@jupyter-widgets/base",
      "model_module_version": "1.1.0",
      "model_name": "LayoutModel",
      "state": {}
     },
     "9b63eaaefaac4a20b12e6560d7aa8e4d": {
      "model_module": "@jupyter-widgets/controls",
      "model_module_version": "1.4.0",
      "model_name": "ButtonStyleModel",
      "state": {}
     },
     "9b70effb61314af78655e52ac4fb899b": {
      "model_module": "@jupyter-widgets/base",
      "model_module_version": "1.1.0",
      "model_name": "LayoutModel",
      "state": {}
     },
     "9b72a4d0f5e84b53b29f6a4a1e6ef6e9": {
      "model_module": "@jupyter-widgets/controls",
      "model_module_version": "1.4.0",
      "model_name": "DescriptionStyleModel",
      "state": {
       "description_width": ""
      }
     },
     "9b7b28ee70c04663add47fd1674afcfb": {
      "model_module": "@jupyter-widgets/controls",
      "model_module_version": "1.4.0",
      "model_name": "TextareaModel",
      "state": {
       "layout": "IPY_MODEL_2a554cda08324413a86a23aa0e4be8e2",
       "style": "IPY_MODEL_908b553f367e497cb2fd7e778e206624"
      }
     },
     "9b9716f500e5451abae5b8eaac6910b8": {
      "model_module": "@jupyter-widgets/controls",
      "model_module_version": "1.4.0",
      "model_name": "ButtonStyleModel",
      "state": {}
     },
     "9b9e3094e5ce487190522c1209caa603": {
      "model_module": "@jupyter-widgets/controls",
      "model_module_version": "1.4.0",
      "model_name": "ButtonModel",
      "state": {
       "button_style": "primary",
       "description": "Load",
       "layout": "IPY_MODEL_95a38b4f04ae4afd9bc829ba64b2f402",
       "style": "IPY_MODEL_5c55967fb7534853856180a50aacd479"
      }
     },
     "9bb3e07436aa476489781c113433d183": {
      "model_module": "@jupyter-widgets/controls",
      "model_module_version": "1.4.0",
      "model_name": "HTMLModel",
      "state": {
       "layout": "IPY_MODEL_cab79f166f0a420ba0f6ba2485ff2d1c",
       "style": "IPY_MODEL_55abc59f4897416789aff15d295715ef",
       "value": "<h3> </h3>"
      }
     },
     "9bd105dd9b71459cb7e13f1516be41a9": {
      "model_module": "@jupyter-widgets/base",
      "model_module_version": "1.1.0",
      "model_name": "LayoutModel",
      "state": {}
     },
     "9c29f82cb12745538189813de437a1d8": {
      "model_module": "@jupyter-widgets/base",
      "model_module_version": "1.1.0",
      "model_name": "LayoutModel",
      "state": {}
     },
     "9c75f430b773451fbbce9157c5f023c0": {
      "model_module": "@jupyter-widgets/controls",
      "model_module_version": "1.4.0",
      "model_name": "HTMLModel",
      "state": {
       "layout": "IPY_MODEL_75e7852a67c5463dab9effc3fb7d8425",
       "style": "IPY_MODEL_2df5dc0410ce4a718a2704bdbda40d81",
       "value": "<h5>Variable   &nbsp</h5> "
      }
     },
     "9c88bd3e73314403a66561642b323637": {
      "model_module": "@jupyter-widgets/controls",
      "model_module_version": "1.4.0",
      "model_name": "HBoxModel",
      "state": {
       "children": [
        "IPY_MODEL_f824fb0e1ba04a88aaf5b5959965ac0c",
        "IPY_MODEL_2a22e350b902450da6e5ef52be4f3003",
        "IPY_MODEL_405fc21dbf0c4660acf9d2392b7d5ce0"
       ],
       "layout": "IPY_MODEL_e070de3c29ec45a4b0f47a216e34688b"
      }
     },
     "9caa9f54787a4dccb3e92a06a7529676": {
      "model_module": "@jupyter-widgets/controls",
      "model_module_version": "1.4.0",
      "model_name": "DescriptionStyleModel",
      "state": {
       "description_width": ""
      }
     },
     "9cf2e3faccfb42419db03033a3feef9d": {
      "model_module": "@jupyter-widgets/base",
      "model_module_version": "1.1.0",
      "model_name": "LayoutModel",
      "state": {}
     },
     "9d7b1ed8ddda4bc28cf00a38b8c5eab5": {
      "model_module": "@jupyter-widgets/base",
      "model_module_version": "1.1.0",
      "model_name": "LayoutModel",
      "state": {}
     },
     "9d7ed1ddd31a45a996ff2b17bde6e4c5": {
      "model_module": "@jupyter-widgets/controls",
      "model_module_version": "1.4.0",
      "model_name": "DescriptionStyleModel",
      "state": {
       "description_width": ""
      }
     },
     "9dd3e39321744a358e074290c5cb9ab0": {
      "model_module": "@jupyter-widgets/base",
      "model_module_version": "1.1.0",
      "model_name": "LayoutModel",
      "state": {}
     },
     "9e0190fb8d894f03a941745749f2ef76": {
      "model_module": "@jupyter-widgets/controls",
      "model_module_version": "1.4.0",
      "model_name": "FloatTextModel",
      "state": {
       "continuous_update": true,
       "layout": "IPY_MODEL_b9d7139d50c14b37896c9fe2526a2880",
       "step": null,
       "style": "IPY_MODEL_d53480737bb4438e905fc5da5f8d74ce"
      }
     },
     "9e0e9f58f1c445beb753ecca037cf535": {
      "model_module": "@jupyter-widgets/controls",
      "model_module_version": "1.4.0",
      "model_name": "HTMLModel",
      "state": {
       "layout": "IPY_MODEL_32b194eb8775429a80f4289361847200",
       "style": "IPY_MODEL_2ce11d4af3d642508b694226f078e443",
       "value": "<hr style='padding: 2px; margin: 2px'>"
      }
     },
     "9e13b03a5daa47c68c347aab7de1579f": {
      "model_module": "@jupyter-widgets/controls",
      "model_module_version": "1.4.0",
      "model_name": "DescriptionStyleModel",
      "state": {
       "description_width": ""
      }
     },
     "9e1450c6f4d848eabc06b268d3e2944f": {
      "model_module": "@jupyter-widgets/base",
      "model_module_version": "1.1.0",
      "model_name": "LayoutModel",
      "state": {}
     },
     "9e1e9577b1b549788f60f39558063d7e": {
      "model_module": "@jupyter-widgets/controls",
      "model_module_version": "1.4.0",
      "model_name": "HBoxModel",
      "state": {
       "children": [
        "IPY_MODEL_e26edeec481f447d999f998d93f6242b",
        "IPY_MODEL_1be8fc2b722a4bb1836c8ca6a8d6364a",
        "IPY_MODEL_e606a5a7cea7403888f7ec5272a49148",
        "IPY_MODEL_b3373ce16f854aeea693873aa8ac0b38"
       ],
       "layout": "IPY_MODEL_9bd105dd9b71459cb7e13f1516be41a9"
      }
     },
     "9e7360be7583413e8bb6541741c8c385": {
      "model_module": "@jupyter-widgets/controls",
      "model_module_version": "1.4.0",
      "model_name": "ButtonModel",
      "state": {
       "button_style": "primary",
       "description": "Load",
       "layout": "IPY_MODEL_687ba25ff64248b1b180be3715aca529",
       "style": "IPY_MODEL_59b8327751864b6caac0e9c872b740c0"
      }
     },
     "9eb58c6ef0a14ae98c1c547f69ea9763": {
      "model_module": "@jupyter-widgets/base",
      "model_module_version": "1.1.0",
      "model_name": "LayoutModel",
      "state": {}
     },
     "9ed80f2bab3c4306966b6120d9f55ccf": {
      "model_module": "@jupyter-widgets/base",
      "model_module_version": "1.1.0",
      "model_name": "LayoutModel",
      "state": {
       "display": "none"
      }
     },
     "9ee7d9900a354117963bf9e6890e97f8": {
      "model_module": "@jupyter-widgets/controls",
      "model_module_version": "1.4.0",
      "model_name": "VBoxModel",
      "state": {
       "children": [
        "IPY_MODEL_e72b3544744143a6bbfa7b1c4141abc6",
        "IPY_MODEL_f60c5576e1fb4b45b36d1a60c73be0e0",
        "IPY_MODEL_5735ef397dab4eb689ec0319233952b4",
        "IPY_MODEL_75ba9f6d2dbb444dbe696249c9b5866a"
       ],
       "layout": "IPY_MODEL_184e51644f844533a6c837f73e32e5f7"
      }
     },
     "9f60bd79e38345aa98cea2c2ea32b46f": {
      "model_module": "@jupyter-widgets/controls",
      "model_module_version": "1.4.0",
      "model_name": "HBoxModel",
      "state": {
       "children": [
        "IPY_MODEL_47fcd23d685740f9acc8a72b0e1f4f67",
        "IPY_MODEL_dc1c890891eb44d3a51f01c0c4e1a804",
        "IPY_MODEL_448c7eba74da4e539e18f3c8b52dc113"
       ],
       "layout": "IPY_MODEL_5797799c87f94bcebd41037652060d41"
      }
     },
     "9f627c7c1e4b45d8b6e47d76ce904360": {
      "model_module": "@jupyter-widgets/controls",
      "model_module_version": "1.4.0",
      "model_name": "ButtonModel",
      "state": {
       "button_style": "danger",
       "description": "Remove",
       "layout": "IPY_MODEL_b8d78597d7eb4ee8b377504010867696",
       "style": "IPY_MODEL_ded16a10329b434f8177abd88bb42da8"
      }
     },
     "9f67f545eea244fd83e10f7bdf477365": {
      "model_module": "@jupyter-widgets/controls",
      "model_module_version": "1.4.0",
      "model_name": "FloatTextModel",
      "state": {
       "continuous_update": true,
       "layout": "IPY_MODEL_ea8e85fbb79d4cd3982976edc4bbc879",
       "step": null,
       "style": "IPY_MODEL_b819b967d3ec4f52988b8499e5af678e"
      }
     },
     "9f8820332d914567893f79c4edd9acd7": {
      "model_module": "@jupyter-widgets/controls",
      "model_module_version": "1.4.0",
      "model_name": "DescriptionStyleModel",
      "state": {
       "description_width": ""
      }
     },
     "9fabd323be4046ae90755281dd3154cc": {
      "model_module": "@jupyter-widgets/base",
      "model_module_version": "1.1.0",
      "model_name": "LayoutModel",
      "state": {}
     },
     "9fe9154fda604e58a84a700d32627a19": {
      "model_module": "@jupyter-widgets/controls",
      "model_module_version": "1.4.0",
      "model_name": "HBoxModel",
      "state": {
       "children": [
        "IPY_MODEL_f5efa4630954408490b84e983f0c765b",
        "IPY_MODEL_d2786aa27f3443c4baae2797819b1028",
        "IPY_MODEL_7d6c867b91604260956af207c4cd4024"
       ],
       "layout": "IPY_MODEL_5c78babbf5104f028300f48c411aadcf"
      }
     },
     "9ff6d96fcd1a4980801d46718e66c8c4": {
      "model_module": "@jupyter-widgets/controls",
      "model_module_version": "1.4.0",
      "model_name": "ButtonModel",
      "state": {
       "button_style": "danger",
       "description": "Remove",
       "layout": "IPY_MODEL_0f7f3168bb08445c88ec6588e970d322",
       "style": "IPY_MODEL_82a718be391645fa95e48a2221669e6b"
      }
     },
     "a0044d5ea5ce426092dae63ee507d465": {
      "model_module": "@jupyter-widgets/controls",
      "model_module_version": "1.4.0",
      "model_name": "LabelModel",
      "state": {
       "layout": "IPY_MODEL_62d07013c38646e0af15d583c57175cc",
       "style": "IPY_MODEL_dda4ace8296544b8b5ec015a75f8c762",
       "value": "Line Style :"
      }
     },
     "a01838174a234ca28de1b36a1d7809e0": {
      "model_module": "@jupyter-widgets/controls",
      "model_module_version": "1.4.0",
      "model_name": "FloatTextModel",
      "state": {
       "continuous_update": true,
       "layout": "IPY_MODEL_3726f5fef2434badb89aee36eeb368cc",
       "step": null,
       "style": "IPY_MODEL_ff69e22c20004cf9b70a25c4c7e59e64"
      }
     },
     "a0351387411d4afc84afe71dd28c53ec": {
      "model_module": "@jupyter-widgets/controls",
      "model_module_version": "1.4.0",
      "model_name": "DescriptionStyleModel",
      "state": {
       "description_width": ""
      }
     },
     "a067ff874f9343bea8e6578567a9f90b": {
      "model_module": "@jupyter-widgets/controls",
      "model_module_version": "1.4.0",
      "model_name": "HTMLModel",
      "state": {
       "layout": "IPY_MODEL_5fe4cd5d41d9469c9236a6b4d98ac20b",
       "style": "IPY_MODEL_c11f29bd03a34547a55dda37a59c5583",
       "value": "<h4 style='color:purple'>Edge :</h4>"
      }
     },
     "a0a8ebb048cc4cb796681b188d30765b": {
      "model_module": "@jupyter-widgets/base",
      "model_module_version": "1.1.0",
      "model_name": "LayoutModel",
      "state": {
       "width": "auto"
      }
     },
     "a0d0828c62574d84b2b7b53f4a797956": {
      "model_module": "@jupyter-widgets/base",
      "model_module_version": "1.1.0",
      "model_name": "LayoutModel",
      "state": {
       "width": "auto"
      }
     },
     "a0e3a38ae7bd452fb7ad22a2478f9a9a": {
      "model_module": "@jupyter-widgets/controls",
      "model_module_version": "1.4.0",
      "model_name": "LabelModel",
      "state": {
       "layout": "IPY_MODEL_c25ca8078d9a451da89bc59742e48fe1",
       "style": "IPY_MODEL_28d2a89d472941f2bc5062f447fd0b0b",
       "value": "End"
      }
     },
     "a112533a68004eea86f8b2cc33ea905e": {
      "model_module": "@jupyter-widgets/controls",
      "model_module_version": "1.4.0",
      "model_name": "ButtonStyleModel",
      "state": {}
     },
     "a13ee1d8196e487394fecee6db1ea6b7": {
      "model_module": "@jupyter-widgets/controls",
      "model_module_version": "1.4.0",
      "model_name": "DescriptionStyleModel",
      "state": {
       "description_width": ""
      }
     },
     "a16216418ad84409a16d4efaae43b6c6": {
      "model_module": "@jupyter-widgets/base",
      "model_module_version": "1.1.0",
      "model_name": "LayoutModel",
      "state": {
       "visibility": "hidden"
      }
     },
     "a1a4057c35d44f50b7683798fbbeda37": {
      "model_module": "@jupyter-widgets/controls",
      "model_module_version": "1.4.0",
      "model_name": "DescriptionStyleModel",
      "state": {
       "description_width": ""
      }
     },
     "a1e90cecb7544bd39b3fbefbf23e4262": {
      "model_module": "@jupyter-widgets/controls",
      "model_module_version": "1.4.0",
      "model_name": "AccordionModel",
      "state": {
       "_titles": {
        "0": "Style",
        "1": "Label",
        "2": "Variables"
       },
       "children": [
        "IPY_MODEL_2d14b2d71b9f4bc5a3700b5a75714928",
        "IPY_MODEL_78cbf5cfef164a11995885892ddc20c4",
        "IPY_MODEL_0c0113f5011041abaf33a85f22493f89"
       ],
       "layout": "IPY_MODEL_229ee69b5a7345eaa0c4c830679e35cb",
       "selected_index": 2
      }
     },
     "a1f93ca3b9cd47abafbccb9c4f4cd6d0": {
      "model_module": "@jupyter-widgets/controls",
      "model_module_version": "1.4.0",
      "model_name": "PasswordModel",
      "state": {
       "description": "Password :",
       "layout": "IPY_MODEL_e6217162aaa447919f9a4d5ade2405c8",
       "style": "IPY_MODEL_90dcece97c43487f8302fd424639b21e"
      }
     },
     "a1f992102145402ba2bc2065ef3ee7f0": {
      "model_module": "@jupyter-widgets/base",
      "model_module_version": "1.1.0",
      "model_name": "LayoutModel",
      "state": {}
     },
     "a2052b91848d44339d6e4cf6b587882d": {
      "model_module": "@jupyter-widgets/controls",
      "model_module_version": "1.4.0",
      "model_name": "TextModel",
      "state": {
       "layout": "IPY_MODEL_73e332b2d9524ac0b8b613f7f42b5aa1",
       "style": "IPY_MODEL_f293d53fd29746788e5b0baee0ece5ab"
      }
     },
     "a235f5cf850e4e378ec20eb98ecc6d44": {
      "model_module": "@jupyter-widgets/controls",
      "model_module_version": "1.4.0",
      "model_name": "DescriptionStyleModel",
      "state": {
       "description_width": ""
      }
     },
     "a270c9d273bd4fe581e8aa3eb4b962eb": {
      "model_module": "@jupyter-widgets/controls",
      "model_module_version": "1.4.0",
      "model_name": "ButtonModel",
      "state": {
       "button_style": "danger",
       "description": "Remove",
       "layout": "IPY_MODEL_1d96f5ec30e540d9a462972c93e77ec7",
       "style": "IPY_MODEL_a112533a68004eea86f8b2cc33ea905e"
      }
     },
     "a2c76013a7fa422abb845f7d30d87e4c": {
      "model_module": "@jupyter-widgets/controls",
      "model_module_version": "1.4.0",
      "model_name": "HBoxModel",
      "state": {
       "children": [
        "IPY_MODEL_3cd6ddacfc0140e290f6e4b0059f63b4",
        "IPY_MODEL_49df26aa973b4a6eb541fb9db506e103",
        "IPY_MODEL_888164dc2b124008afc211877dfd6f0a"
       ],
       "layout": "IPY_MODEL_d2dbaf1af74e4d469c277b5150aac5d1"
      }
     },
     "a2f1cf5bc6a041f1b675a19e80c3680d": {
      "model_module": "@jupyter-widgets/controls",
      "model_module_version": "1.4.0",
      "model_name": "DescriptionStyleModel",
      "state": {
       "description_width": ""
      }
     },
     "a339695fdd5b4622a353e740ee4c9677": {
      "model_module": "@jupyter-widgets/controls",
      "model_module_version": "1.4.0",
      "model_name": "DescriptionStyleModel",
      "state": {
       "description_width": ""
      }
     },
     "a351aa76fced4932a95e9c80cf8c3c54": {
      "model_module": "@jupyter-widgets/controls",
      "model_module_version": "1.4.0",
      "model_name": "DescriptionStyleModel",
      "state": {
       "description_width": ""
      }
     },
     "a365652193ac4df589e361d20e6fa3fb": {
      "model_module": "@jupyter-widgets/base",
      "model_module_version": "1.1.0",
      "model_name": "LayoutModel",
      "state": {
       "justify_content": "center",
       "padding": "0px 0px 10px 0px"
      }
     },
     "a37bad3625024d1fade82fa1363bcf82": {
      "model_module": "@jupyter-widgets/base",
      "model_module_version": "1.1.0",
      "model_name": "LayoutModel",
      "state": {}
     },
     "a39b55995ae645a9b77701177e2082e2": {
      "model_module": "@jupyter-widgets/controls",
      "model_module_version": "1.4.0",
      "model_name": "DescriptionStyleModel",
      "state": {
       "description_width": ""
      }
     },
     "a3a27384aa6d4baebb8cb33fd0a18244": {
      "model_module": "@jupyter-widgets/controls",
      "model_module_version": "1.4.0",
      "model_name": "HTMLModel",
      "state": {
       "layout": "IPY_MODEL_af08e064e38c449b987c551af35fa580",
       "style": "IPY_MODEL_5d923bd29b4b4fe38af1a9252539761e",
       "value": "<font size=3 style='justify-content: center;'>interaction : </font>"
      }
     },
     "a3a93aeafef74f089541a091905a7b12": {
      "model_module": "@jupyter-widgets/controls",
      "model_module_version": "1.4.0",
      "model_name": "ButtonStyleModel",
      "state": {}
     },
     "a3e4cf13629241f09b9d8101ae9366b5": {
      "model_module": "@jupyter-widgets/controls",
      "model_module_version": "1.4.0",
      "model_name": "DescriptionStyleModel",
      "state": {
       "description_width": ""
      }
     },
     "a3eb10122e704e2bb28b0ce969303f8c": {
      "model_module": "@jupyter-widgets/controls",
      "model_module_version": "1.4.0",
      "model_name": "DescriptionStyleModel",
      "state": {
       "description_width": ""
      }
     },
     "a40f0bf273bd4bb888e997bb6076e2e9": {
      "model_module": "@jupyter-widgets/base",
      "model_module_version": "1.1.0",
      "model_name": "LayoutModel",
      "state": {}
     },
     "a4233c3fc84546aeb3e876482cfefa48": {
      "model_module": "@jupyter-widgets/controls",
      "model_module_version": "1.4.0",
      "model_name": "SliderStyleModel",
      "state": {
       "description_width": ""
      }
     },
     "a423ca4ae84744e8a7c7e35b4a2f97b4": {
      "model_module": "@jupyter-widgets/base",
      "model_module_version": "1.1.0",
      "model_name": "LayoutModel",
      "state": {}
     },
     "a47ce8f3d86c461795b1ff025cbdfb89": {
      "model_module": "@jupyter-widgets/base",
      "model_module_version": "1.1.0",
      "model_name": "LayoutModel",
      "state": {
       "justify_content": "center",
       "padding": "10px 0px 0px 0px"
      }
     },
     "a48ceafade9a433dae527de6b99b9302": {
      "model_module": "@jupyter-widgets/controls",
      "model_module_version": "1.4.0",
      "model_name": "DescriptionStyleModel",
      "state": {
       "description_width": ""
      }
     },
     "a4fcd00ca8124078989af80702caae5b": {
      "model_module": "@jupyter-widgets/controls",
      "model_module_version": "1.4.0",
      "model_name": "DescriptionStyleModel",
      "state": {
       "description_width": ""
      }
     },
     "a4ff289343e4457795ef778e1a00c01b": {
      "model_module": "@jupyter-widgets/controls",
      "model_module_version": "1.4.0",
      "model_name": "FloatSliderModel",
      "state": {
       "layout": "IPY_MODEL_d75075e71a194f82b369750fa1778af2",
       "max": 1,
       "step": 0.05,
       "style": "IPY_MODEL_bce9fb5d283b479a9bc945a10021bd48",
       "value": 0.5
      }
     },
     "a5113a68b40147a9b7f7aa5cbc0dc5df": {
      "model_module": "@jupyter-widgets/controls",
      "model_module_version": "1.4.0",
      "model_name": "DescriptionStyleModel",
      "state": {
       "description_width": ""
      }
     },
     "a5338a88ace84a6da873c9515248bfca": {
      "model_module": "@jupyter-widgets/controls",
      "model_module_version": "1.4.0",
      "model_name": "TextModel",
      "state": {
       "layout": "IPY_MODEL_f08d7a19b5224cb7a31ddaa7d9bb1c5c",
       "style": "IPY_MODEL_abd520aa39824cbbb373ce9cff220f41"
      }
     },
     "a5c34fc2afec4d1886415a904cd31a8a": {
      "model_module": "@jupyter-widgets/controls",
      "model_module_version": "1.4.0",
      "model_name": "HBoxModel",
      "state": {
       "children": [
        "IPY_MODEL_7c4428e9401149049eb924bbb11b5546",
        "IPY_MODEL_e6fdeb451c4a4b12be478a4f3919614c",
        "IPY_MODEL_f2081a30eef84874a22ecb46e63d155d"
       ],
       "layout": "IPY_MODEL_094812bbb24640b5862f4498bab7507c"
      }
     },
     "a5dce27ea77b4890a455c24e23647b38": {
      "model_module": "@jupyter-widgets/controls",
      "model_module_version": "1.4.0",
      "model_name": "ButtonStyleModel",
      "state": {}
     },
     "a5e6ca88f39e49f29ae8d3a3bdd4018a": {
      "model_module": "@jupyter-widgets/controls",
      "model_module_version": "1.4.0",
      "model_name": "DescriptionStyleModel",
      "state": {
       "description_width": ""
      }
     },
     "a5ec719046474a80bfb4a70b93f71458": {
      "model_module": "@jupyter-widgets/controls",
      "model_module_version": "1.4.0",
      "model_name": "HBoxModel",
      "state": {
       "children": [
        "IPY_MODEL_a636640e18444f8694f57cf18a9201eb",
        "IPY_MODEL_61f56c2437ff457db3b026da1649071a",
        "IPY_MODEL_dfe225dddbb2411c8ce310979ac45f47",
        "IPY_MODEL_38a9609fa0c4404cb4987cc801286b9e"
       ],
       "layout": "IPY_MODEL_1c976e6863ff4d6b8f1974acbb1d4f71"
      }
     },
     "a600e1d9c35a495cb2ee171e5046cf4e": {
      "model_module": "@jupyter-widgets/base",
      "model_module_version": "1.1.0",
      "model_name": "LayoutModel",
      "state": {
       "visibility": "visible"
      }
     },
     "a60504e665944df787d7bddb6df8f7b5": {
      "model_module": "@jupyter-widgets/controls",
      "model_module_version": "1.4.0",
      "model_name": "DescriptionStyleModel",
      "state": {
       "description_width": ""
      }
     },
     "a631ab827c1f4a6ba783803f2988ba8b": {
      "model_module": "@jupyter-widgets/controls",
      "model_module_version": "1.4.0",
      "model_name": "HTMLModel",
      "state": {
       "layout": "IPY_MODEL_5d6f095915ad45ac96d1f6c94784d6e7",
       "style": "IPY_MODEL_3bc752b5f65d411ebed7294c74ab9943",
       "value": "<font size=3 style='justify-content: center;'>shared_name : </font>"
      }
     },
     "a636640e18444f8694f57cf18a9201eb": {
      "model_module": "@jupyter-widgets/controls",
      "model_module_version": "1.4.0",
      "model_name": "HTMLModel",
      "state": {
       "layout": "IPY_MODEL_3be504abcce3466c88d8c1ca3dd60dbe",
       "style": "IPY_MODEL_1575b43a7d604174b468045ad845cc64",
       "value": "<b><p>Variable &nbsp </p> </b>"
      }
     },
     "a63884d94f7e40a88fb1311a3a15beca": {
      "model_module": "@jupyter-widgets/base",
      "model_module_version": "1.1.0",
      "model_name": "LayoutModel",
      "state": {
       "justify_content": "center",
       "margin": "0 0 15px 0"
      }
     },
     "a65bbd29f91e406b849ad5e82f255f30": {
      "model_module": "@jupyter-widgets/controls",
      "model_module_version": "1.4.0",
      "model_name": "ButtonStyleModel",
      "state": {}
     },
     "a69d8f224220408cb46e979ecea76e68": {
      "model_module": "@jupyter-widgets/base",
      "model_module_version": "1.1.0",
      "model_name": "LayoutModel",
      "state": {}
     },
     "a6bc564df70242728db685749eaff1fb": {
      "model_module": "@jupyter-widgets/controls",
      "model_module_version": "1.4.0",
      "model_name": "DescriptionStyleModel",
      "state": {
       "description_width": ""
      }
     },
     "a6cebadf9a864db8b7871e4d8468cb3c": {
      "model_module": "@jupyter-widgets/controls",
      "model_module_version": "1.4.0",
      "model_name": "AccordionModel",
      "state": {
       "_titles": {
        "0": "Load",
        "1": "Save"
       },
       "children": [
        "IPY_MODEL_8b40ff8d6f8943fabf6f71f4b390a9ea",
        "IPY_MODEL_c0f00639384b4df9950bac46bea6be8a"
       ],
       "layout": "IPY_MODEL_79164b42f59140879e552656e6c188c2"
      }
     },
     "a6e9ed12c90c42f1838ee524e2e7eee9": {
      "model_module": "@jupyter-widgets/base",
      "model_module_version": "1.1.0",
      "model_name": "LayoutModel",
      "state": {}
     },
     "a70b89ad1f6d4d748f67229e82b07826": {
      "model_module": "@jupyter-widgets/controls",
      "model_module_version": "1.4.0",
      "model_name": "DescriptionStyleModel",
      "state": {
       "description_width": ""
      }
     },
     "a73e6eece0824ef0a862dd4d9f65cca5": {
      "model_module": "@jupyter-widgets/controls",
      "model_module_version": "1.4.0",
      "model_name": "DescriptionStyleModel",
      "state": {
       "description_width": ""
      }
     },
     "a74d6902c00e47fe8327bc221fac3e9b": {
      "model_module": "@jupyter-widgets/base",
      "model_module_version": "1.1.0",
      "model_name": "LayoutModel",
      "state": {}
     },
     "a750ab5bb51a42bc897975065018c0a5": {
      "model_module": "@jupyter-widgets/base",
      "model_module_version": "1.1.0",
      "model_name": "LayoutModel",
      "state": {
       "width": "auto"
      }
     },
     "a774f2c7a24d44dd8777f1090db4582d": {
      "model_module": "@jupyter-widgets/base",
      "model_module_version": "1.1.0",
      "model_name": "LayoutModel",
      "state": {
       "padding": "10px 0px 0px 0px"
      }
     },
     "a7a3be8c1f514a9db69e8c55f2dd8192": {
      "model_module": "@jupyter-widgets/controls",
      "model_module_version": "1.4.0",
      "model_name": "DescriptionStyleModel",
      "state": {
       "description_width": ""
      }
     },
     "a7b98a8bc5bc4fb390a3ede5f2aeb388": {
      "model_module": "@jupyter-widgets/controls",
      "model_module_version": "1.4.0",
      "model_name": "DescriptionStyleModel",
      "state": {
       "description_width": ""
      }
     },
     "a7ff8558970c4e74bb6ff93c044101f5": {
      "model_module": "@jupyter-widgets/controls",
      "model_module_version": "1.4.0",
      "model_name": "HTMLModel",
      "state": {
       "layout": "IPY_MODEL_09ed93240ca54963b8c131e0c97e4c32",
       "style": "IPY_MODEL_0b6a635e7e2049dca544f4375bd7713c",
       "value": "<p>&nbsp&nbsp&nbsp&nbsp&nbsp</p>"
      }
     },
     "a837dd63ca89432ca1cb82db7408442a": {
      "model_module": "@jupyter-widgets/controls",
      "model_module_version": "1.4.0",
      "model_name": "DescriptionStyleModel",
      "state": {
       "description_width": ""
      }
     },
     "a86d6cd2077b4555886ef075e467bc32": {
      "model_module": "@jupyter-widgets/controls",
      "model_module_version": "1.4.0",
      "model_name": "FloatTextModel",
      "state": {
       "continuous_update": true,
       "layout": "IPY_MODEL_f0b1be237f094b25a5da76d22d311746",
       "step": null,
       "style": "IPY_MODEL_722c1a67008f4297b2069da5f7c60e60"
      }
     },
     "a8bb443c500b49d8b24f7209378b2254": {
      "model_module": "@jupyter-widgets/controls",
      "model_module_version": "1.4.0",
      "model_name": "ButtonStyleModel",
      "state": {}
     },
     "a8c5748abe5245118e3fd2bcceb734ab": {
      "model_module": "@jupyter-widgets/controls",
      "model_module_version": "1.4.0",
      "model_name": "DescriptionStyleModel",
      "state": {
       "description_width": ""
      }
     },
     "a8cfd27589db4319a4d2a2ec8ce3f5eb": {
      "model_module": "@jupyter-widgets/controls",
      "model_module_version": "1.4.0",
      "model_name": "ButtonModel",
      "state": {
       "button_style": "success",
       "icon": "image",
       "layout": "IPY_MODEL_5c28b13f13ea4ecca8f0ff1206a65bf6",
       "style": "IPY_MODEL_5fa787d8a3584c0ea1ad69192afd212a"
      }
     },
     "a918276fd0ec41d5be2042aaadcbd808": {
      "model_module": "@jupyter-widgets/controls",
      "model_module_version": "1.4.0",
      "model_name": "HBoxModel",
      "state": {
       "children": [
        "IPY_MODEL_bd530531c491484986542ce7b320ff25",
        "IPY_MODEL_c5a7f1212bda4c4c9462b28a41a0782d"
       ],
       "layout": "IPY_MODEL_fed23fbf9669427d8c1d83920da65968"
      }
     },
     "a9270d86d35d4c19ad99a5811499e17e": {
      "model_module": "@jupyter-widgets/controls",
      "model_module_version": "1.4.0",
      "model_name": "HTMLModel",
      "state": {
       "layout": "IPY_MODEL_1bc38e394302434e8152e554996dcb74",
       "style": "IPY_MODEL_f66a4ef43e0d443293fb13c840ddff49",
       "value": "<h3 class='text-center' style='color:red'>Error in .html File</h3>"
      }
     },
     "a92853492ec94af2aea1a8d0e418489d": {
      "model_module": "@jupyter-widgets/controls",
      "model_module_version": "1.4.0",
      "model_name": "IntSliderModel",
      "state": {
       "layout": "IPY_MODEL_767368f0efc34cbcb14226fe31283925",
       "max": 60,
       "min": 6,
       "style": "IPY_MODEL_4554a1e720394868b878303ea45f1f8f",
       "value": 16
      }
     },
     "a92a084560204b1882c083ac78373442": {
      "model_module": "@jupyter-widgets/base",
      "model_module_version": "1.1.0",
      "model_name": "LayoutModel",
      "state": {}
     },
     "a9644ad74bb447059d5a086bc374bbcf": {
      "model_module": "@jupyter-widgets/controls",
      "model_module_version": "1.4.0",
      "model_name": "HTMLModel",
      "state": {
       "layout": "IPY_MODEL_c4afda0bbf1042298cb9fa0d44d1f795",
       "style": "IPY_MODEL_d6ff1066ab3a4a04ac2f07a1ae8b8bf3",
       "value": "<hr style='padding: 2px; margin: 2px'>"
      }
     },
     "a968fa4649524ff09f06d55b748ad6a4": {
      "model_module": "@jupyter-widgets/controls",
      "model_module_version": "1.4.0",
      "model_name": "TextModel",
      "state": {
       "description": "URL :",
       "layout": "IPY_MODEL_b08aefe43e4a41f99190385515ab89c9",
       "style": "IPY_MODEL_8ad0c3d4f5bf47e295cd055783901259"
      }
     },
     "a9aa7728bb8e43c78793331a402ea9fa": {
      "model_module": "@jupyter-widgets/controls",
      "model_module_version": "1.4.0",
      "model_name": "ButtonStyleModel",
      "state": {}
     },
     "a9ff9b15501b4bbe94274a881ffcf899": {
      "model_module": "@jupyter-widgets/base",
      "model_module_version": "1.1.0",
      "model_name": "LayoutModel",
      "state": {
       "width": "auto"
      }
     },
     "aa096aa3976a49a69827301c51ec1286": {
      "model_module": "@jupyter-widgets/base",
      "model_module_version": "1.1.0",
      "model_name": "LayoutModel",
      "state": {}
     },
     "aa340c96dad940fca4f9a43651b4923e": {
      "model_module": "@jupyter-widgets/controls",
      "model_module_version": "1.4.0",
      "model_name": "IntSliderModel",
      "state": {
       "layout": "IPY_MODEL_1fc80a5c363a42ed97cf06e3f51f2ab4",
       "max": 200,
       "min": 1,
       "style": "IPY_MODEL_2cbc95ade70b475693e231c72a32af19",
       "value": 30
      }
     },
     "aa4324e6db294d908ebd0acb85e2db1e": {
      "model_module": "@jupyter-widgets/controls",
      "model_module_version": "1.4.0",
      "model_name": "VBoxModel",
      "state": {
       "children": [
        "IPY_MODEL_112f52bc95d84f16aa1aa774a2a401c6",
        "IPY_MODEL_9e0e9f58f1c445beb753ecca037cf535",
        "IPY_MODEL_a918276fd0ec41d5be2042aaadcbd808",
        "IPY_MODEL_aead340874714d7bb53a1f28653ab348",
        "IPY_MODEL_3481d8fa75004f41b5ac1758814e5828",
        "IPY_MODEL_871a7aa825f2427086d49e271a8201ab"
       ],
       "layout": "IPY_MODEL_2cfc2a6a16ce41ba9cfa0ea52593b877"
      }
     },
     "aa6fe64272714904a8216a67da4cc933": {
      "model_module": "@jupyter-widgets/controls",
      "model_module_version": "1.4.0",
      "model_name": "DropdownModel",
      "state": {
       "_options_labels": [
        "index2.html",
        "index3.html",
        "index.html",
        "try2_1.html",
        "try2_2.html",
        "try2_3.html"
       ],
       "index": 5,
       "layout": "IPY_MODEL_41633c3dfbf243e6b560d2423b5d32f7",
       "style": "IPY_MODEL_4a2b79f2c9aa43638315c02e5625f07c"
      }
     },
     "aabaa1675aac4a0e83b4af2fbc6103c4": {
      "model_module": "@jupyter-widgets/controls",
      "model_module_version": "1.4.0",
      "model_name": "ToggleButtonsStyleModel",
      "state": {
       "button_width": "",
       "description_width": ""
      }
     },
     "ab1945c74e03499b93636bb7f6eee9d9": {
      "model_module": "@jupyter-widgets/controls",
      "model_module_version": "1.4.0",
      "model_name": "FloatTextModel",
      "state": {
       "continuous_update": true,
       "layout": "IPY_MODEL_b80a15d80f9447c7af0703687e683233",
       "step": null,
       "style": "IPY_MODEL_37668ae6b05546ab8ec4024f639c19f6"
      }
     },
     "ab25cbe5d9ed4a8882a0f58a0be12fb6": {
      "model_module": "@jupyter-widgets/base",
      "model_module_version": "1.1.0",
      "model_name": "LayoutModel",
      "state": {}
     },
     "ab29265d7794450698e96dd75395ab9c": {
      "model_module": "@jupyter-widgets/controls",
      "model_module_version": "1.4.0",
      "model_name": "IntSliderModel",
      "state": {
       "layout": "IPY_MODEL_1b1145f05393464ab388a1cf9135d7ff",
       "max": 5,
       "min": 1,
       "style": "IPY_MODEL_965c55be23ba4dcba743630b496350eb",
       "value": 1
      }
     },
     "ab7b16e4cab4487fbc53efdf37b745c1": {
      "model_module": "@jupyter-widgets/base",
      "model_module_version": "1.1.0",
      "model_name": "LayoutModel",
      "state": {}
     },
     "ab896355d7cf4b9a8bf939f0a0ebf500": {
      "model_module": "@jupyter-widgets/base",
      "model_module_version": "1.1.0",
      "model_name": "LayoutModel",
      "state": {}
     },
     "ab8d8cfca2674c93a6708ab07366b595": {
      "model_module": "@jupyter-widgets/base",
      "model_module_version": "1.1.0",
      "model_name": "LayoutModel",
      "state": {}
     },
     "abd520aa39824cbbb373ce9cff220f41": {
      "model_module": "@jupyter-widgets/controls",
      "model_module_version": "1.4.0",
      "model_name": "DescriptionStyleModel",
      "state": {
       "description_width": ""
      }
     },
     "ac046f8b7d52458ab8d934028e91a03a": {
      "model_module": "@jupyter-widgets/controls",
      "model_module_version": "1.4.0",
      "model_name": "HBoxModel",
      "state": {
       "children": [
        "IPY_MODEL_cf64a55eb8ad4c0781901a6812004826",
        "IPY_MODEL_bfd16625902547e6afaa74970cc9cdf1",
        "IPY_MODEL_8499b38bbfac41feae8a48785e302b32"
       ],
       "layout": "IPY_MODEL_433862a36b4b4ec8b11717fade13dc7e"
      }
     },
     "ac1172d61da84633a4a03a5433847a13": {
      "model_module": "@jupyter-widgets/controls",
      "model_module_version": "1.4.0",
      "model_name": "LabelModel",
      "state": {
       "layout": "IPY_MODEL_73c8734d96d2459786e46780d133f048",
       "style": "IPY_MODEL_5dbe7845eb2a4e4f86347b7f11dbf05a",
       "value": "Style"
      }
     },
     "ac2816684cea4c87a835105f0f679413": {
      "model_module": "@jupyter-widgets/base",
      "model_module_version": "1.1.0",
      "model_name": "LayoutModel",
      "state": {}
     },
     "ac28495606da4c7aa008fa810e9ef2dd": {
      "model_module": "@jupyter-widgets/controls",
      "model_module_version": "1.4.0",
      "model_name": "FloatTextModel",
      "state": {
       "continuous_update": true,
       "layout": "IPY_MODEL_451dafdfb648433f8a8462947cb2b48f",
       "step": null,
       "style": "IPY_MODEL_5e045ab6479f4cef9b6e7b05d4f77769"
      }
     },
     "ac40d4fe94ff4cc6b96a303dede7356f": {
      "model_module": "@jupyter-widgets/controls",
      "model_module_version": "1.4.0",
      "model_name": "ColorPickerModel",
      "state": {
       "disabled": false,
       "layout": "IPY_MODEL_99f084a3478e4dcb983a215f0d5adcae",
       "style": "IPY_MODEL_bd66dc8a6c0a4fa5af2b21e714aea1b3"
      }
     },
     "ac52bd4a86a3445dab63986fb1b903d9": {
      "model_module": "@jupyter-widgets/controls",
      "model_module_version": "1.4.0",
      "model_name": "TextModel",
      "state": {
       "layout": "IPY_MODEL_e84e8093d26e450390f324c3eea026ed",
       "style": "IPY_MODEL_17408773eb114009b8f8b1859d65117a"
      }
     },
     "ac9944c53f1f48ae9e52e2ab1cf34de1": {
      "model_module": "@jupyter-widgets/controls",
      "model_module_version": "1.4.0",
      "model_name": "VBoxModel",
      "state": {
       "children": [
        "IPY_MODEL_6e52bd9919ec40b7bdd48bd7cf6bdfe2",
        "IPY_MODEL_e1dda13e7d2c4c0fa98ed7ad456963fc",
        "IPY_MODEL_799d884fd826421996fd1ea2294b9d68",
        "IPY_MODEL_9b7b28ee70c04663add47fd1674afcfb",
        "IPY_MODEL_41e627ecc2514339a670aedf1dd25598",
        "IPY_MODEL_dce7a0fc26e54e6f8ddee30182e970fa"
       ],
       "layout": "IPY_MODEL_13fe8a847b6948fca50dbef0ff8e78d9"
      }
     },
     "accb5429b17c4058babd05783f2fb299": {
      "model_module": "@jupyter-widgets/controls",
      "model_module_version": "1.4.0",
      "model_name": "DescriptionStyleModel",
      "state": {
       "description_width": ""
      }
     },
     "ad0da11587e647cd96150e85a4c21d92": {
      "model_module": "@jupyter-widgets/base",
      "model_module_version": "1.1.0",
      "model_name": "LayoutModel",
      "state": {}
     },
     "ad13811be85e4b829972a70dcca1c54d": {
      "model_module": "@jupyter-widgets/base",
      "model_module_version": "1.1.0",
      "model_name": "LayoutModel",
      "state": {}
     },
     "ada722cc9a27429d968c0b8f59839292": {
      "model_module": "@jupyter-widgets/controls",
      "model_module_version": "1.4.0",
      "model_name": "DropdownModel",
      "state": {
       "_options_labels": [
        "none",
        "triangle",
        "tee",
        "diamond",
        "square",
        "circle",
        "vee",
        "triangle-tee"
       ],
       "index": 0,
       "layout": "IPY_MODEL_d4ccd3872894485082cd73b3f9045df1",
       "style": "IPY_MODEL_488bf860a3874c388493f849cb631b7e"
      }
     },
     "add41809ac274f6280fd3e973fa5a5c0": {
      "model_module": "@jupyter-widgets/controls",
      "model_module_version": "1.4.0",
      "model_name": "DescriptionStyleModel",
      "state": {
       "description_width": ""
      }
     },
     "ae31e083f9214839b432665d473ea352": {
      "model_module": "@jupyter-widgets/controls",
      "model_module_version": "1.4.0",
      "model_name": "ButtonStyleModel",
      "state": {}
     },
     "ae6e4ed9eada4e27b776b05f107af162": {
      "model_module": "@jupyter-widgets/controls",
      "model_module_version": "1.4.0",
      "model_name": "HTMLModel",
      "state": {
       "layout": "IPY_MODEL_35a3650d2fd34cad90b0f56bea85d67c",
       "style": "IPY_MODEL_ec1fc15db7f347eb841ef9370ad46e4b",
       "value": "<font size=3 style='justify-content: center;'>ClosenessCentrality : </font>"
      }
     },
     "ae7c709b38ec4f5c90cf9faab3ed0f00": {
      "model_module": "@jupyter-widgets/controls",
      "model_module_version": "1.4.0",
      "model_name": "DescriptionStyleModel",
      "state": {
       "description_width": ""
      }
     },
     "aea4292d93f74e98bff988b08cdc1b95": {
      "model_module": "@jupyter-widgets/base",
      "model_module_version": "1.1.0",
      "model_name": "LayoutModel",
      "state": {}
     },
     "aead340874714d7bb53a1f28653ab348": {
      "model_module": "@jupyter-widgets/controls",
      "model_module_version": "1.4.0",
      "model_name": "HBoxModel",
      "state": {
       "children": [
        "IPY_MODEL_f37518f0b82948f7be3fb726173699bf",
        "IPY_MODEL_5970a88fe94d47949d6fb5b0f321450e"
       ],
       "layout": "IPY_MODEL_3e6c43b08b2b4a5d92f9bef5ed7fa832"
      }
     },
     "aeb34af99c5443ed884ca77542e4eaf9": {
      "model_module": "@jupyter-widgets/controls",
      "model_module_version": "1.4.0",
      "model_name": "ButtonStyleModel",
      "state": {}
     },
     "aebbf87c1cc14d64833340aa512cc7a5": {
      "model_module": "@jupyter-widgets/controls",
      "model_module_version": "1.4.0",
      "model_name": "DescriptionStyleModel",
      "state": {
       "description_width": ""
      }
     },
     "aec41963c572494ea6dc25100a27c9c5": {
      "model_module": "@jupyter-widgets/base",
      "model_module_version": "1.1.0",
      "model_name": "LayoutModel",
      "state": {}
     },
     "aedc87381e8a4ee7886f8c24d818b6a4": {
      "model_module": "@jupyter-widgets/controls",
      "model_module_version": "1.4.0",
      "model_name": "LabelModel",
      "state": {
       "layout": "IPY_MODEL_94341bce5dd946b0b0a183b44b5d9547",
       "style": "IPY_MODEL_ea6067ab60b54ce6b83f7ace12e6e57a",
       "value": "Text :"
      }
     },
     "aeddd7c8b0db45cb838587707d578da6": {
      "model_module": "@jupyter-widgets/base",
      "model_module_version": "1.1.0",
      "model_name": "LayoutModel",
      "state": {}
     },
     "aeed1954377e44c2a15be40c750a4a39": {
      "model_module": "@jupyter-widgets/controls",
      "model_module_version": "1.4.0",
      "model_name": "HBoxModel",
      "state": {
       "children": [
        "IPY_MODEL_c8c75fad0a86448a91fe6472f57c5fc4",
        "IPY_MODEL_72ce4c7104ca4a819433d871e23f08fb",
        "IPY_MODEL_dadc1b7c04f14cde976f002edddacace"
       ],
       "layout": "IPY_MODEL_b627e3b5730d4c9e84dc551e9cbabe40"
      }
     },
     "af08e064e38c449b987c551af35fa580": {
      "model_module": "@jupyter-widgets/base",
      "model_module_version": "1.1.0",
      "model_name": "LayoutModel",
      "state": {}
     },
     "af0e6781f4064a37a91c1c974e2aa241": {
      "model_module": "@jupyter-widgets/controls",
      "model_module_version": "1.4.0",
      "model_name": "TextModel",
      "state": {
       "description": "URL :",
       "layout": "IPY_MODEL_08de2d309b4e4b4c8dd7ef24bccd96a1",
       "style": "IPY_MODEL_400207539cef4bcbb34a7058f342f1e4"
      }
     },
     "af36c76c217f437a8b29ce04ec923b65": {
      "model_module": "@jupyter-widgets/base",
      "model_module_version": "1.1.0",
      "model_name": "LayoutModel",
      "state": {
       "justify_content": "center",
       "padding": "0px 0px 10px 0px"
      }
     },
     "af7fcc64cd9f4985b1dbfe894ca0312f": {
      "model_module": "@jupyter-widgets/controls",
      "model_module_version": "1.4.0",
      "model_name": "HTMLModel",
      "state": {
       "layout": "IPY_MODEL_c9f00b22aa04434e8cf5f19e04db5698",
       "style": "IPY_MODEL_186284caefbb4ac38168075e3353a09b",
       "value": "<h5>Paste the <a>NDEx URL</a> of the dataset to download :</h5>"
      }
     },
     "af868a93de4444a2ae2f4e492c5904fd": {
      "model_module": "@jupyter-widgets/controls",
      "model_module_version": "1.4.0",
      "model_name": "DescriptionStyleModel",
      "state": {
       "description_width": ""
      }
     },
     "af889f0e448e4f1089d418f25b8b3a8a": {
      "model_module": "@jupyter-widgets/base",
      "model_module_version": "1.1.0",
      "model_name": "LayoutModel",
      "state": {}
     },
     "af93fa4c67814c58a31cf183c7294f5e": {
      "model_module": "@jupyter-widgets/controls",
      "model_module_version": "1.4.0",
      "model_name": "HTMLModel",
      "state": {
       "layout": "IPY_MODEL_03b82ad826f1476e91cbf6022f294c91",
       "style": "IPY_MODEL_5ac12e19f2254a54b2a06d029ada70f9",
       "value": "<font size=3 style='justify-content: center;'>definition : </font>"
      }
     },
     "afa5e35143ed4bc7975186c24b1e49d8": {
      "model_module": "@jupyter-widgets/controls",
      "model_module_version": "1.4.0",
      "model_name": "DescriptionStyleModel",
      "state": {
       "description_width": ""
      }
     },
     "afd53354497a45599428f07fd21b6716": {
      "model_module": "@jupyter-widgets/base",
      "model_module_version": "1.1.0",
      "model_name": "LayoutModel",
      "state": {}
     },
     "afd9f68f2faf4d329072120bd8389c70": {
      "model_module": "@jupyter-widgets/controls",
      "model_module_version": "1.4.0",
      "model_name": "DescriptionStyleModel",
      "state": {
       "description_width": ""
      }
     },
     "afeb138332c0461897f98d2e16dbf70a": {
      "model_module": "@jupyter-widgets/controls",
      "model_module_version": "1.4.0",
      "model_name": "DescriptionStyleModel",
      "state": {
       "description_width": ""
      }
     },
     "afeed8439d334cb1a91eda54bf23d8f6": {
      "model_module": "@jupyter-widgets/controls",
      "model_module_version": "1.4.0",
      "model_name": "DescriptionStyleModel",
      "state": {
       "description_width": ""
      }
     },
     "b04051250ada4ab2899f05951aa101ca": {
      "model_module": "@jupyter-widgets/base",
      "model_module_version": "1.1.0",
      "model_name": "LayoutModel",
      "state": {}
     },
     "b063d6164e17478bb0cd8bd57e82c03f": {
      "model_module": "@jupyter-widgets/base",
      "model_module_version": "1.1.0",
      "model_name": "LayoutModel",
      "state": {}
     },
     "b06b7e4eb9a246d3ad0605c46c36ee5e": {
      "model_module": "@jupyter-widgets/controls",
      "model_module_version": "1.4.0",
      "model_name": "DescriptionStyleModel",
      "state": {
       "description_width": ""
      }
     },
     "b08aefe43e4a41f99190385515ab89c9": {
      "model_module": "@jupyter-widgets/base",
      "model_module_version": "1.1.0",
      "model_name": "LayoutModel",
      "state": {}
     },
     "b0b9329fe1f2488281ab22dfb44f14d5": {
      "model_module": "@jupyter-widgets/controls",
      "model_module_version": "1.4.0",
      "model_name": "ButtonStyleModel",
      "state": {}
     },
     "b0c5ac266ca84bd1b43593e233e0211f": {
      "model_module": "@jupyter-widgets/controls",
      "model_module_version": "1.4.0",
      "model_name": "DescriptionStyleModel",
      "state": {
       "description_width": ""
      }
     },
     "b0eca1db247a4b87857736ba80a43905": {
      "model_module": "@jupyter-widgets/controls",
      "model_module_version": "1.4.0",
      "model_name": "ToggleButtonsModel",
      "state": {
       "_options_labels": [
        "Python",
        "HTML"
       ],
       "button_style": "danger",
       "icons": [],
       "index": 1,
       "layout": "IPY_MODEL_f990cbdb8e734aa5ad1845f24760e6b1",
       "style": "IPY_MODEL_263645406f514424a0338eca31e3c51c",
       "tooltips": []
      }
     },
     "b15bf50b72554fad96ccda03a64c39db": {
      "model_module": "@jupyter-widgets/controls",
      "model_module_version": "1.4.0",
      "model_name": "FloatSliderModel",
      "state": {
       "layout": "IPY_MODEL_12dd88f206894387b53f7c7812f9d905",
       "max": 1,
       "step": 0.05,
       "style": "IPY_MODEL_cb4e79868d854697999bc2dfb8163f9e",
       "value": 0.5
      }
     },
     "b1633ca607a641dd8177af512e559cb0": {
      "model_module": "@jupyter-widgets/base",
      "model_module_version": "1.1.0",
      "model_name": "LayoutModel",
      "state": {}
     },
     "b17688462b1e4a38aaefe565ad1ee608": {
      "model_module": "@jupyter-widgets/base",
      "model_module_version": "1.1.0",
      "model_name": "LayoutModel",
      "state": {
       "min_width": "30px"
      }
     },
     "b195c0f5396641fa9805a0c49980853a": {
      "model_module": "@jupyter-widgets/controls",
      "model_module_version": "1.4.0",
      "model_name": "DescriptionStyleModel",
      "state": {
       "description_width": ""
      }
     },
     "b1acd5cd767e4c3c84ac168f8a4f42e8": {
      "model_module": "@jupyter-widgets/controls",
      "model_module_version": "1.4.0",
      "model_name": "HBoxModel",
      "state": {
       "children": [
        "IPY_MODEL_ce958b5800a748508943c2b446629535",
        "IPY_MODEL_fd8bb5bee94942fc9b83e686dd4094d7"
       ],
       "layout": "IPY_MODEL_860cc8262d0948edbbf5f49044af6c59"
      }
     },
     "b1ad7094d19c494193cd3a2a8a7d21a5": {
      "model_module": "@jupyter-widgets/base",
      "model_module_version": "1.1.0",
      "model_name": "LayoutModel",
      "state": {}
     },
     "b1ada90ea67248a5bccb16470c255946": {
      "model_module": "@jupyter-widgets/controls",
      "model_module_version": "1.4.0",
      "model_name": "ButtonModel",
      "state": {
       "button_style": "danger",
       "description": "Remove",
       "layout": "IPY_MODEL_f3775e69ccee4e36a9b058dc9b03424b",
       "style": "IPY_MODEL_0ddbb934bc1043148faa7eb525d9843a"
      }
     },
     "b22c51fefc5b44b890256d619e325999": {
      "model_module": "@jupyter-widgets/base",
      "model_module_version": "1.1.0",
      "model_name": "LayoutModel",
      "state": {
       "width": "auto"
      }
     },
     "b2338dbfa62d46ad801927d147dd3f29": {
      "model_module": "@jupyter-widgets/controls",
      "model_module_version": "1.4.0",
      "model_name": "DescriptionStyleModel",
      "state": {
       "description_width": ""
      }
     },
     "b258025981bf4a1d92df56fa13db964d": {
      "model_module": "@jupyter-widgets/controls",
      "model_module_version": "1.4.0",
      "model_name": "HBoxModel",
      "state": {
       "children": [
        "IPY_MODEL_858962db800b4c848f5de7740a6a61cd",
        "IPY_MODEL_4695974905d34f74a9a2caf52b5fbded",
        "IPY_MODEL_9a5cb18c1f5445db9b67b3e5f39fd1f0"
       ],
       "layout": "IPY_MODEL_0e2454a4cb3a4850a2d93fae7c3fceeb"
      }
     },
     "b289508af4814a0f98da9259bd3b81c1": {
      "model_module": "@jupyter-widgets/base",
      "model_module_version": "1.1.0",
      "model_name": "LayoutModel",
      "state": {}
     },
     "b2a596355f1446668b0884c1074187d3": {
      "model_module": "@jupyter-widgets/controls",
      "model_module_version": "1.4.0",
      "model_name": "DescriptionStyleModel",
      "state": {
       "description_width": ""
      }
     },
     "b30d6a3edcfc40819b866c82f659f9be": {
      "model_module": "@jupyter-widgets/base",
      "model_module_version": "1.1.0",
      "model_name": "LayoutModel",
      "state": {}
     },
     "b314597494e944299d36c767954570ba": {
      "model_module": "@jupyter-widgets/controls",
      "model_module_version": "1.4.0",
      "model_name": "HBoxModel",
      "state": {
       "children": [
        "IPY_MODEL_76d2cd1096ee4537afe2ee7eda127025",
        "IPY_MODEL_540261d6db354cdf8a62c69c5e524e30",
        "IPY_MODEL_1594e644e4984047946cdaec06463fb0"
       ],
       "layout": "IPY_MODEL_15e3b71b47694e8ca82d2899a3458d2b"
      }
     },
     "b3373ce16f854aeea693873aa8ac0b38": {
      "model_module": "@jupyter-widgets/controls",
      "model_module_version": "1.4.0",
      "model_name": "ButtonModel",
      "state": {
       "button_style": "danger",
       "icon": "image",
       "layout": "IPY_MODEL_8b52a09cdba242188f489af5851d7f1c",
       "style": "IPY_MODEL_417a74955f0e4272baec5a5dfaa82c4d"
      }
     },
     "b393ba2f376a4860a575285690879a24": {
      "model_module": "@jupyter-widgets/base",
      "model_module_version": "1.1.0",
      "model_name": "LayoutModel",
      "state": {
       "width": "auto"
      }
     },
     "b3a03af31b394f1aa5d0a5c459fc5f44": {
      "model_module": "@jupyter-widgets/base",
      "model_module_version": "1.1.0",
      "model_name": "LayoutModel",
      "state": {}
     },
     "b3a927dfd66c423eb663a270d6bc6c21": {
      "model_module": "@jupyter-widgets/controls",
      "model_module_version": "1.4.0",
      "model_name": "VBoxModel",
      "state": {
       "layout": "IPY_MODEL_740a2f79416741c7809699ec79d0b497"
      }
     },
     "b3b57a0483dc477b8abd0e4828856e50": {
      "model_module": "@jupyter-widgets/base",
      "model_module_version": "1.1.0",
      "model_name": "LayoutModel",
      "state": {
       "visibility": "hidden"
      }
     },
     "b46a6d5a8b0f455a822d1f00bb2dd1f3": {
      "model_module": "@jupyter-widgets/base",
      "model_module_version": "1.1.0",
      "model_name": "LayoutModel",
      "state": {
       "padding": "10px 0px 0px 0px"
      }
     },
     "b49428eb7ec944b78c5c207b9dbae233": {
      "model_module": "@jupyter-widgets/controls",
      "model_module_version": "1.4.0",
      "model_name": "ColorPickerModel",
      "state": {
       "disabled": false,
       "layout": "IPY_MODEL_ef3fcba580424eac99644e8746a640e8",
       "style": "IPY_MODEL_64ee90ba90694f73b5462460c5d9deba"
      }
     },
     "b4eeed99f5d543508194ad777c262497": {
      "model_module": "@jupyter-widgets/controls",
      "model_module_version": "1.4.0",
      "model_name": "DescriptionStyleModel",
      "state": {
       "description_width": ""
      }
     },
     "b529a59b26304ce3aa9c26c67801b8a9": {
      "model_module": "@jupyter-widgets/controls",
      "model_module_version": "1.4.0",
      "model_name": "HTMLModel",
      "state": {
       "layout": "IPY_MODEL_7432a9fae2f841e592232332a5efb133",
       "style": "IPY_MODEL_29528cc4efad478eadab56a3ac68e521",
       "value": "<hr style='padding: 2px; margin: 2px'>"
      }
     },
     "b55e04202e344b69bd034e68dc14878a": {
      "model_module": "@jupyter-widgets/base",
      "model_module_version": "1.1.0",
      "model_name": "LayoutModel",
      "state": {
       "padding": "0 15px 0 35px"
      }
     },
     "b56d96679ff046c88e9437b77bbd25f2": {
      "model_module": "@jupyter-widgets/controls",
      "model_module_version": "1.4.0",
      "model_name": "HBoxModel",
      "state": {
       "children": [
        "IPY_MODEL_e7ea6491d8c74703b1c112439b13653f",
        "IPY_MODEL_ce53177f70a247388b13acbe44d7b470",
        "IPY_MODEL_24863a04dbbb48e784be53ab4cdb47fe"
       ],
       "layout": "IPY_MODEL_42090f2a5ac24d50a6ed4fc01e8c1bfb"
      }
     },
     "b58858d9e5a1451b967047eb459841f2": {
      "model_module": "@jupyter-widgets/controls",
      "model_module_version": "1.4.0",
      "model_name": "DescriptionStyleModel",
      "state": {
       "description_width": ""
      }
     },
     "b5a33df7d8714673af7dc49b1c6bf84f": {
      "model_module": "@jupyter-widgets/controls",
      "model_module_version": "1.4.0",
      "model_name": "HBoxModel",
      "state": {
       "children": [
        "IPY_MODEL_2536e8562a9b40d4a2c38d086d3e83b7",
        "IPY_MODEL_5d90229ef9954a799d4183c2c36e16d3"
       ],
       "layout": "IPY_MODEL_b6f8430fa7ed4b48ab92198008f8af60"
      }
     },
     "b5a5cf37e440445ca668dc02685456f2": {
      "model_module": "@jupyter-widgets/controls",
      "model_module_version": "1.4.0",
      "model_name": "ButtonStyleModel",
      "state": {}
     },
     "b5e1a9856f944ee4bd0941d1df537288": {
      "model_module": "@jupyter-widgets/base",
      "model_module_version": "1.1.0",
      "model_name": "LayoutModel",
      "state": {}
     },
     "b5e578112d324757b25461295c4824fa": {
      "model_module": "@jupyter-widgets/base",
      "model_module_version": "1.1.0",
      "model_name": "LayoutModel",
      "state": {}
     },
     "b60abc1f86ba4ea4b65111aa733e5cfc": {
      "model_module": "@jupyter-widgets/base",
      "model_module_version": "1.1.0",
      "model_name": "LayoutModel",
      "state": {
       "align_items": "center"
      }
     },
     "b627e3b5730d4c9e84dc551e9cbabe40": {
      "model_module": "@jupyter-widgets/base",
      "model_module_version": "1.1.0",
      "model_name": "LayoutModel",
      "state": {}
     },
     "b644a3d24d8240ae9c58085f34589b50": {
      "model_module": "@jupyter-widgets/controls",
      "model_module_version": "1.4.0",
      "model_name": "DescriptionStyleModel",
      "state": {
       "description_width": ""
      }
     },
     "b651be0a3ed444868c018f1175aad1b7": {
      "model_module": "@jupyter-widgets/base",
      "model_module_version": "1.1.0",
      "model_name": "LayoutModel",
      "state": {
       "width": "auto"
      }
     },
     "b6b6caa781304c16b3b59193fdb0e4c5": {
      "model_module": "@jupyter-widgets/controls",
      "model_module_version": "1.4.0",
      "model_name": "VBoxModel",
      "state": {
       "children": [
        "IPY_MODEL_1329916cdfda44b9b2602b0be9430126",
        "IPY_MODEL_d060ac8f50a746a0b2919ce25c55b006",
        "IPY_MODEL_a9270d86d35d4c19ad99a5811499e17e"
       ],
       "layout": "IPY_MODEL_009080def48842dd933865f220e1d861"
      }
     },
     "b6c0e8c8417c40879d3940e5e7402a80": {
      "model_module": "@jupyter-widgets/base",
      "model_module_version": "1.1.0",
      "model_name": "LayoutModel",
      "state": {
       "width": "auto"
      }
     },
     "b6f8430fa7ed4b48ab92198008f8af60": {
      "model_module": "@jupyter-widgets/base",
      "model_module_version": "1.1.0",
      "model_name": "LayoutModel",
      "state": {
       "align_items": "center"
      }
     },
     "b7048403c4fd4c0ba42e085ca6305ef5": {
      "model_module": "@jupyter-widgets/base",
      "model_module_version": "1.1.0",
      "model_name": "LayoutModel",
      "state": {}
     },
     "b77e9e01f904453c8e5db2b012a89e3a": {
      "model_module": "@jupyter-widgets/controls",
      "model_module_version": "1.4.0",
      "model_name": "TextModel",
      "state": {
       "layout": "IPY_MODEL_f45a687b25d74497a2f586a2786a5457",
       "style": "IPY_MODEL_27ccdafb0c9a4cbaa8b6680d4b75429c"
      }
     },
     "b7b74cb796fd4f989329ea891c42fb0a": {
      "model_module": "@jupyter-widgets/controls",
      "model_module_version": "1.4.0",
      "model_name": "ButtonStyleModel",
      "state": {}
     },
     "b7cd75403f244a82a5aca22716090caf": {
      "model_module": "@jupyter-widgets/base",
      "model_module_version": "1.1.0",
      "model_name": "LayoutModel",
      "state": {}
     },
     "b80a15d80f9447c7af0703687e683233": {
      "model_module": "@jupyter-widgets/base",
      "model_module_version": "1.1.0",
      "model_name": "LayoutModel",
      "state": {}
     },
     "b80f229b67eb45fe9fc1f733ce63c124": {
      "model_module": "@jupyter-widgets/base",
      "model_module_version": "1.1.0",
      "model_name": "LayoutModel",
      "state": {}
     },
     "b81211c6fc904e80a7a0bf0f740220cd": {
      "model_module": "@jupyter-widgets/base",
      "model_module_version": "1.1.0",
      "model_name": "LayoutModel",
      "state": {}
     },
     "b819b967d3ec4f52988b8499e5af678e": {
      "model_module": "@jupyter-widgets/controls",
      "model_module_version": "1.4.0",
      "model_name": "DescriptionStyleModel",
      "state": {
       "description_width": ""
      }
     },
     "b8287ad845cf4304a78189649dce7191": {
      "model_module": "@jupyter-widgets/base",
      "model_module_version": "1.1.0",
      "model_name": "LayoutModel",
      "state": {}
     },
     "b83af7892aa9453c8ce2ec06d4f7de49": {
      "model_module": "@jupyter-widgets/base",
      "model_module_version": "1.1.0",
      "model_name": "LayoutModel",
      "state": {
       "width": "auto"
      }
     },
     "b84655cce8f142f3afc9ab4e85df455b": {
      "model_module": "@jupyter-widgets/controls",
      "model_module_version": "1.4.0",
      "model_name": "HTMLModel",
      "state": {
       "layout": "IPY_MODEL_7b19a44c731a4812a9f34173b46e7a2b",
       "style": "IPY_MODEL_e8e926985e9b404383e8645e612a550e",
       "value": "<h5>You can save your graph as a <font color='darkKhaki'>index.html</font> file.\n<font color='darkKhaki'>index.html</font> files have lots of cool features, as explained in the intro video.\n<span style='color:red;'>Do not use \" or ' they cause errors.</span></h5>"
      }
     },
     "b851763a484c4bb0a04a7f8917ae3936": {
      "model_module": "@jupyter-widgets/base",
      "model_module_version": "1.1.0",
      "model_name": "LayoutModel",
      "state": {
       "width": "auto"
      }
     },
     "b857b2f3bc904aeab3feff144d1d2604": {
      "model_module": "@jupyter-widgets/base",
      "model_module_version": "1.1.0",
      "model_name": "LayoutModel",
      "state": {
       "width": "auto"
      }
     },
     "b866a8ccc40a4f69afbb2414e82b594e": {
      "model_module": "@jupyter-widgets/controls",
      "model_module_version": "1.4.0",
      "model_name": "DescriptionStyleModel",
      "state": {
       "description_width": ""
      }
     },
     "b86fc21e14b5442ebbb949fcd9b0eb9e": {
      "model_module": "@jupyter-widgets/base",
      "model_module_version": "1.1.0",
      "model_name": "LayoutModel",
      "state": {}
     },
     "b8af51ff8b3a43db9df08e7bdc481cce": {
      "model_module": "@jupyter-widgets/controls",
      "model_module_version": "1.4.0",
      "model_name": "LabelModel",
      "state": {
       "layout": "IPY_MODEL_c2aafc4efca54dc8a7fe5d4193427dc3",
       "style": "IPY_MODEL_d43d891ceb0146b894460c91e2ef1384",
       "value": "Position :"
      }
     },
     "b8d78597d7eb4ee8b377504010867696": {
      "model_module": "@jupyter-widgets/base",
      "model_module_version": "1.1.0",
      "model_name": "LayoutModel",
      "state": {
       "width": "auto"
      }
     },
     "b8f80fc8eacb4205bfa7d30f0d60551d": {
      "model_module": "@jupyter-widgets/base",
      "model_module_version": "1.1.0",
      "model_name": "LayoutModel",
      "state": {}
     },
     "b8fbb5fa78844cefbcd42df24e193b3b": {
      "model_module": "@jupyter-widgets/base",
      "model_module_version": "1.1.0",
      "model_name": "LayoutModel",
      "state": {}
     },
     "b95d2c02e55440b3875a0a3e8f7dfd56": {
      "model_module": "@jupyter-widgets/base",
      "model_module_version": "1.1.0",
      "model_name": "LayoutModel",
      "state": {}
     },
     "b9699a160fcd4365874a50b270146c91": {
      "model_module": "@jupyter-widgets/controls",
      "model_module_version": "1.4.0",
      "model_name": "TextModel",
      "state": {
       "layout": "IPY_MODEL_e94dcec96438425c9c212c4ea347b292",
       "style": "IPY_MODEL_4bc3f823771a4bfb90fba94d55b43130"
      }
     },
     "b9c741b5f336413f800e4b852b540059": {
      "model_module": "@jupyter-widgets/base",
      "model_module_version": "1.1.0",
      "model_name": "LayoutModel",
      "state": {
       "min_width": "30px"
      }
     },
     "b9d7139d50c14b37896c9fe2526a2880": {
      "model_module": "@jupyter-widgets/base",
      "model_module_version": "1.1.0",
      "model_name": "LayoutModel",
      "state": {}
     },
     "b9eb71dff4894e9097f74e0cffa3cd09": {
      "model_module": "@jupyter-widgets/base",
      "model_module_version": "1.1.0",
      "model_name": "LayoutModel",
      "state": {
       "margin": "0 15px 0 0px",
       "width": "auto"
      }
     },
     "b9ec32a824b64370959631f94a30237e": {
      "model_module": "@jupyter-widgets/controls",
      "model_module_version": "1.4.0",
      "model_name": "DescriptionStyleModel",
      "state": {
       "description_width": ""
      }
     },
     "b9ff0e930d42494483657d82c18e0289": {
      "model_module": "@jupyter-widgets/base",
      "model_module_version": "1.1.0",
      "model_name": "LayoutModel",
      "state": {}
     },
     "ba2d4d964cc14fb7b2d55d0a229bfc31": {
      "model_module": "@jupyter-widgets/controls",
      "model_module_version": "1.4.0",
      "model_name": "DescriptionStyleModel",
      "state": {
       "description_width": ""
      }
     },
     "ba510766efd242849dbc05639e1f294a": {
      "model_module": "@jupyter-widgets/controls",
      "model_module_version": "1.4.0",
      "model_name": "FloatSliderModel",
      "state": {
       "layout": "IPY_MODEL_27f501397f804ff69cfa8d680c689a4c",
       "max": 1,
       "step": 0.05,
       "style": "IPY_MODEL_f4654cfe3d8748a9bfbeb13c12d08d7b",
       "value": 0.5
      }
     },
     "ba5781b6479d4148991de77602d09dd6": {
      "model_module": "@jupyter-widgets/controls",
      "model_module_version": "1.4.0",
      "model_name": "HBoxModel",
      "state": {
       "children": [
        "IPY_MODEL_333b0a2776544daf8b5746e27259a6d3"
       ],
       "layout": "IPY_MODEL_2d1568ab1e41427e89ca18620a474045"
      }
     },
     "ba5abcb674ef4cf89ec384bdc68103b1": {
      "model_module": "@jupyter-widgets/controls",
      "model_module_version": "1.4.0",
      "model_name": "ButtonModel",
      "state": {
       "button_style": "danger",
       "description": "Remove",
       "layout": "IPY_MODEL_b851763a484c4bb0a04a7f8917ae3936",
       "style": "IPY_MODEL_4f2a82c52e634ac4baafbb3ce01adf12"
      }
     },
     "ba84665b9c344ec0b0b40c8fe013b30c": {
      "model_module": "@jupyter-widgets/controls",
      "model_module_version": "1.4.0",
      "model_name": "ButtonStyleModel",
      "state": {}
     },
     "bb942fe1fe52481a91d6de4906ce780b": {
      "model_module": "@jupyter-widgets/controls",
      "model_module_version": "1.4.0",
      "model_name": "VBoxModel",
      "state": {
       "children": [
        "IPY_MODEL_d4ddec6e027c4dc9a27ca70cc5836c75",
        "IPY_MODEL_3afd6babca8c4508bda7e0b500aa8045",
        "IPY_MODEL_7a3eb614ae6e4c0e8b363fe2b1e36f51",
        "IPY_MODEL_6201c0cafd3f416d8482dd3eda690ab5",
        "IPY_MODEL_eff76e82b2a14d51a249d7c02fb3ed25",
        "IPY_MODEL_aeed1954377e44c2a15be40c750a4a39",
        "IPY_MODEL_dffbcf9357764b01b6b323e0da0b6fca",
        "IPY_MODEL_f6cbe71d5bb448bca85ce13c00523099",
        "IPY_MODEL_9fe9154fda604e58a84a700d32627a19",
        "IPY_MODEL_b314597494e944299d36c767954570ba",
        "IPY_MODEL_8e8bfc45c5994024baaec195790dd745",
        "IPY_MODEL_47f5b718410d44bba2e67672f12a4073",
        "IPY_MODEL_11283e74f758488a96f6baa8889ad740",
        "IPY_MODEL_997e4f25e94c4220a03f56f36040f7cb",
        "IPY_MODEL_eb86dfc7a60e4d13bf5c25b3f27f5064",
        "IPY_MODEL_b258025981bf4a1d92df56fa13db964d",
        "IPY_MODEL_9f60bd79e38345aa98cea2c2ea32b46f",
        "IPY_MODEL_b56d96679ff046c88e9437b77bbd25f2",
        "IPY_MODEL_58a4a4ae154d4d5b927a001f5fbbcff6",
        "IPY_MODEL_6fbdb2fbd26a488cbe25dcda80be8f6c",
        "IPY_MODEL_41fa7f42bc454b8d9b2524bdafe363ed"
       ],
       "layout": "IPY_MODEL_1e17116f4ac54edebf37e17a816effcf"
      }
     },
     "bbd930e02c474e1eaa347df062549cb0": {
      "model_module": "@jupyter-widgets/controls",
      "model_module_version": "1.4.0",
      "model_name": "HTMLModel",
      "state": {
       "layout": "IPY_MODEL_d7cff2c8467647449d43bbbca04e8f20",
       "style": "IPY_MODEL_fe845e1632c94ef197f4e6adeccd2b3a",
       "value": "<h3> </h3>"
      }
     },
     "bc2469ec291c4b3db752d103f856fff7": {
      "model_module": "@jupyter-widgets/base",
      "model_module_version": "1.1.0",
      "model_name": "LayoutModel",
      "state": {}
     },
     "bccf9521785749449c135aac95d83db8": {
      "model_module": "@jupyter-widgets/controls",
      "model_module_version": "1.4.0",
      "model_name": "HTMLModel",
      "state": {
       "layout": "IPY_MODEL_4edaa994344848e5b7c15d74dc18d492",
       "style": "IPY_MODEL_8a67dc29bfa541dbbbe01c13fc7d04b3",
       "value": "<font size=3 style='justify-content: center;'>width_full : </font>"
      }
     },
     "bce9fb5d283b479a9bc945a10021bd48": {
      "model_module": "@jupyter-widgets/controls",
      "model_module_version": "1.4.0",
      "model_name": "SliderStyleModel",
      "state": {
       "description_width": ""
      }
     },
     "bd183e9cd17a4d56a00402b8dd3f3323": {
      "model_module": "@jupyter-widgets/controls",
      "model_module_version": "1.4.0",
      "model_name": "DescriptionStyleModel",
      "state": {
       "description_width": ""
      }
     },
     "bd1ca55128b04280aa543afc59f48975": {
      "model_module": "@jupyter-widgets/controls",
      "model_module_version": "1.4.0",
      "model_name": "HTMLModel",
      "state": {
       "layout": "IPY_MODEL_62203e87340049728e54c26934ec5ed9",
       "style": "IPY_MODEL_4075f88c86e343b086c7ec75f2a52154",
       "value": "<font size=3 style='justify-content: center;'>EdgeCount : </font>"
      }
     },
     "bd3015c498b644ceaa0a3bc657e32fd9": {
      "model_module": "@jupyter-widgets/controls",
      "model_module_version": "1.4.0",
      "model_name": "VBoxModel",
      "state": {
       "children": [
        "IPY_MODEL_8ea5325d95904b919f38dd5db4d05d78",
        "IPY_MODEL_90258190711c43e7b9ff165b4e313710"
       ],
       "layout": "IPY_MODEL_ab7b16e4cab4487fbc53efdf37b745c1"
      }
     },
     "bd3365f5c6b74378ab8fe80d44eb8b8f": {
      "model_module": "@jupyter-widgets/controls",
      "model_module_version": "1.4.0",
      "model_name": "DescriptionStyleModel",
      "state": {
       "description_width": ""
      }
     },
     "bd530531c491484986542ce7b320ff25": {
      "model_module": "@jupyter-widgets/controls",
      "model_module_version": "1.4.0",
      "model_name": "LabelModel",
      "state": {
       "layout": "IPY_MODEL_7ce15f63e5fc44ed823692a75a8ad5a6",
       "style": "IPY_MODEL_1f67fc636466499585f9393aa8b47ea4",
       "value": "Color :"
      }
     },
     "bd66dc8a6c0a4fa5af2b21e714aea1b3": {
      "model_module": "@jupyter-widgets/controls",
      "model_module_version": "1.4.0",
      "model_name": "DescriptionStyleModel",
      "state": {
       "description_width": ""
      }
     },
     "bd9c9ce1fc6a4afbaaf9aa8319b608c1": {
      "model_module": "@jupyter-widgets/controls",
      "model_module_version": "1.4.0",
      "model_name": "DescriptionStyleModel",
      "state": {
       "description_width": ""
      }
     },
     "bdc53899499c452f9001db7d950b91e1": {
      "model_module": "@jupyter-widgets/base",
      "model_module_version": "1.1.0",
      "model_name": "LayoutModel",
      "state": {}
     },
     "bdc8baebff9d4ef0a535d85304888470": {
      "model_module": "@jupyter-widgets/base",
      "model_module_version": "1.1.0",
      "model_name": "LayoutModel",
      "state": {
       "height": "40px",
       "min_width": "50px",
       "width": "10%"
      }
     },
     "bdf19a4022bf42f6b1a1c242d6259279": {
      "model_module": "@jupyter-widgets/controls",
      "model_module_version": "1.4.0",
      "model_name": "DescriptionStyleModel",
      "state": {
       "description_width": ""
      }
     },
     "be07b34857314128aa9ea9bfdb327929": {
      "model_module": "@jupyter-widgets/base",
      "model_module_version": "1.1.0",
      "model_name": "LayoutModel",
      "state": {
       "width": "auto"
      }
     },
     "be4b6d088bc842fea4546214f0440618": {
      "model_module": "@jupyter-widgets/controls",
      "model_module_version": "1.4.0",
      "model_name": "HBoxModel",
      "state": {
       "children": [
        "IPY_MODEL_a0e3a38ae7bd452fb7ad22a2478f9a9a",
        "IPY_MODEL_ada722cc9a27429d968c0b8f59839292"
       ],
       "layout": "IPY_MODEL_fe166ad5e48644cdaded5e245a5768ad"
      }
     },
     "be51c801650d47588e6713e3dc2c2105": {
      "model_module": "@jupyter-widgets/controls",
      "model_module_version": "1.4.0",
      "model_name": "DropdownModel",
      "state": {
       "_options_labels": [
        "center",
        "top",
        "bottom",
        "left",
        "right"
       ],
       "index": 0,
       "layout": "IPY_MODEL_93913d29c1ac417dbc6b9cac1c359048",
       "style": "IPY_MODEL_f070e2eb6393498d9f4069e4b443a98c"
      }
     },
     "be521799db8b46f1a4504e3b23c3bf12": {
      "model_module": "@jupyter-widgets/controls",
      "model_module_version": "1.4.0",
      "model_name": "HBoxModel",
      "state": {
       "children": [
        "IPY_MODEL_7316eb7ff8734da899b056e6a0efad1a"
       ],
       "layout": "IPY_MODEL_a47ce8f3d86c461795b1ff025cbdfb89"
      }
     },
     "be966c6ea55e426db57d09f13a8b6326": {
      "model_module": "@jupyter-widgets/base",
      "model_module_version": "1.1.0",
      "model_name": "LayoutModel",
      "state": {}
     },
     "beed3d21aca4423790538726a28fac25": {
      "model_module": "@jupyter-widgets/controls",
      "model_module_version": "1.4.0",
      "model_name": "HTMLModel",
      "state": {
       "layout": "IPY_MODEL_bc2469ec291c4b3db752d103f856fff7",
       "style": "IPY_MODEL_3bf3d7755f03489ebec6960bc6e8c6e8",
       "value": "<h2 class='text-danger text-center'>Coming Soon! Wait for Update</h2>"
      }
     },
     "bf2004096c4a4e2eaad4680c194e595d": {
      "model_module": "@jupyter-widgets/controls",
      "model_module_version": "1.4.0",
      "model_name": "DescriptionStyleModel",
      "state": {
       "description_width": ""
      }
     },
     "bf35071279aa42189a99cf08c2cc0bb4": {
      "model_module": "@jupyter-widgets/base",
      "model_module_version": "1.1.0",
      "model_name": "LayoutModel",
      "state": {
       "padding": "10px 0px 0px 0px"
      }
     },
     "bf441491ef344e62ac5835daa7338ed6": {
      "model_module": "@jupyter-widgets/controls",
      "model_module_version": "1.4.0",
      "model_name": "DescriptionStyleModel",
      "state": {
       "description_width": ""
      }
     },
     "bf5f04d15369488283b869a13c29eb1b": {
      "model_module": "@jupyter-widgets/base",
      "model_module_version": "1.1.0",
      "model_name": "LayoutModel",
      "state": {
       "align_items": "center"
      }
     },
     "bf66d3e7915b43e4ae133f06b1e0cf00": {
      "model_module": "@jupyter-widgets/controls",
      "model_module_version": "1.4.0",
      "model_name": "VBoxModel",
      "state": {
       "children": [
        "IPY_MODEL_3410401fbd124e4484a8725a9ac9dcdf",
        "IPY_MODEL_3d939b3b6abd41c09fe8316521dc7ec9",
        "IPY_MODEL_c93838910f094e19b4c25acc46f61d88"
       ],
       "layout": "IPY_MODEL_ef2c5ea6845544f1afa969eb9dec1d51"
      }
     },
     "bf9b33d07243411a8aad6ab30ee17195": {
      "model_module": "@jupyter-widgets/controls",
      "model_module_version": "1.4.0",
      "model_name": "HBoxModel",
      "state": {
       "children": [
        "IPY_MODEL_ffca0512f1ed43a2ade2bf80faf01f6a",
        "IPY_MODEL_d14e0894ff4e4821b93a76e7b74aae0b"
       ],
       "layout": "IPY_MODEL_8ff24aa10316495aa66b9e04c4c4adbd"
      }
     },
     "bfa774fd07f84d15a0be01c9d1bf48dc": {
      "model_module": "@jupyter-widgets/controls",
      "model_module_version": "1.4.0",
      "model_name": "HTMLModel",
      "state": {
       "layout": "IPY_MODEL_03e321b4255f4e829f4b5cee7fc50e30",
       "style": "IPY_MODEL_1be6f870dc9e42a6bae67219488bed76",
       "value": "<hr style='padding: 2px; margin: 2px'>"
      }
     },
     "bfab1c3280074dfdbf7648f2fd3d54c4": {
      "model_module": "@jupyter-widgets/controls",
      "model_module_version": "1.4.0",
      "model_name": "IntSliderModel",
      "state": {
       "layout": "IPY_MODEL_30a3f6c8f203441699fcc4cc56e000e2",
       "max": 200,
       "min": 1,
       "style": "IPY_MODEL_6368da25b20642959be7f7df7238e836",
       "value": 30
      }
     },
     "bfadd9080e0541edb90e70b6809c2b0c": {
      "model_module": "@jupyter-widgets/controls",
      "model_module_version": "1.4.0",
      "model_name": "HTMLModel",
      "state": {
       "layout": "IPY_MODEL_fd34bae1abf941e5b2f15b9443eae073",
       "style": "IPY_MODEL_046177fd295f402eb0fb0a924177d480",
       "value": "<hr style='padding: 2px; margin: 2px'>"
      }
     },
     "bfb3aae6d3304ae4b84d4bd2bbf55465": {
      "model_module": "@jupyter-widgets/controls",
      "model_module_version": "1.4.0",
      "model_name": "DescriptionStyleModel",
      "state": {
       "description_width": ""
      }
     },
     "bfba5adfe4cd4d44a07ee7f06c5aac9f": {
      "model_module": "@jupyter-widgets/controls",
      "model_module_version": "1.4.0",
      "model_name": "ButtonStyleModel",
      "state": {}
     },
     "bfc62006de3d4fc49490c5b55c5053ed": {
      "model_module": "@jupyter-widgets/controls",
      "model_module_version": "1.4.0",
      "model_name": "TextModel",
      "state": {
       "description": "Username :",
       "layout": "IPY_MODEL_8610f95277214a1eb35ed07a1526bf7a",
       "style": "IPY_MODEL_5dd2991c33cc45c5b9564516a883968b"
      }
     },
     "bfd16625902547e6afaa74970cc9cdf1": {
      "model_module": "@jupyter-widgets/controls",
      "model_module_version": "1.4.0",
      "model_name": "TextModel",
      "state": {
       "layout": "IPY_MODEL_b8f80fc8eacb4205bfa7d30f0d60551d",
       "style": "IPY_MODEL_df11dd4778e44c2292d2cd09f252d8b7"
      }
     },
     "bfdc89f67566442b8b400ac00ffcc1b1": {
      "model_module": "@jupyter-widgets/controls",
      "model_module_version": "1.4.0",
      "model_name": "HBoxModel",
      "state": {
       "children": [
        "IPY_MODEL_5a71848d2db54b5eab0df73f8c0812b4",
        "IPY_MODEL_6ac2401397ad4e31b943a9f1b6477dff",
        "IPY_MODEL_132f47f1e2224868892dca940fbd4e29",
        "IPY_MODEL_cd30f4ab3b1640e1bbac31a5fc8c2f7b"
       ],
       "layout": "IPY_MODEL_74f9283e50594f7c8beb43b8155cfdd2"
      }
     },
     "bfe398923c2e4787883b22095028a9bb": {
      "model_module": "@jupyter-widgets/controls",
      "model_module_version": "1.4.0",
      "model_name": "ButtonStyleModel",
      "state": {}
     },
     "bfe84662b0b441c6a8586acd6391a477": {
      "model_module": "@jupyter-widgets/base",
      "model_module_version": "1.1.0",
      "model_name": "LayoutModel",
      "state": {
       "display": "none"
      }
     },
     "c0154b6a0c90421cb1d8014bc0a5344e": {
      "model_module": "@jupyter-widgets/controls",
      "model_module_version": "1.4.0",
      "model_name": "HTMLModel",
      "state": {
       "layout": "IPY_MODEL_6857a0181da5493499972bc1b7d61bb6",
       "style": "IPY_MODEL_e6346b278e8c4d62beab795788e5952f",
       "value": "<h4 style='color: DarkKhaki'>Nodes</h4>"
      }
     },
     "c020f7956aa84fb5b0bd4dbc91fc3af9": {
      "model_module": "@jupyter-widgets/controls",
      "model_module_version": "1.4.0",
      "model_name": "DescriptionStyleModel",
      "state": {
       "description_width": ""
      }
     },
     "c055ea6d3dbb492587915bd74a6bce19": {
      "model_module": "@jupyter-widgets/base",
      "model_module_version": "1.1.0",
      "model_name": "LayoutModel",
      "state": {}
     },
     "c08a70cc94094c7c9362ac912da11261": {
      "model_module": "@jupyter-widgets/controls",
      "model_module_version": "1.4.0",
      "model_name": "HBoxModel",
      "state": {
       "children": [
        "IPY_MODEL_4c3efa80a7184811a9471c22099350f3",
        "IPY_MODEL_858d4adeef354c759e5bc02aea4b3a29",
        "IPY_MODEL_60841ce52ea049f2b197932e32895a07"
       ],
       "layout": "IPY_MODEL_40f8c8add99f427dbf5e05376ecf5251"
      }
     },
     "c0f00639384b4df9950bac46bea6be8a": {
      "model_module": "@jupyter-widgets/controls",
      "model_module_version": "1.4.0",
      "model_name": "VBoxModel",
      "state": {
       "children": [
        "IPY_MODEL_e498c89b2ae94dae98acabf4986439e0",
        "IPY_MODEL_ac9944c53f1f48ae9e52e2ab1cf34de1",
        "IPY_MODEL_bd3015c498b644ceaa0a3bc657e32fd9"
       ],
       "layout": "IPY_MODEL_68bcec272cfb4e6e83428acb98b8abe8"
      }
     },
     "c0f0dcf85f1146a88205ac15c2429335": {
      "model_module": "@jupyter-widgets/controls",
      "model_module_version": "1.4.0",
      "model_name": "ButtonStyleModel",
      "state": {}
     },
     "c1120f404a674664a257057046d3fa68": {
      "model_module": "@jupyter-widgets/controls",
      "model_module_version": "1.4.0",
      "model_name": "HBoxModel",
      "state": {
       "children": [
        "IPY_MODEL_bd1ca55128b04280aa543afc59f48975",
        "IPY_MODEL_22ced50b32e7475aa144f773ab48618e",
        "IPY_MODEL_89ab03a4bfe443a1828a5c8ce2e06dc2"
       ],
       "layout": "IPY_MODEL_1cb30e3ed76443c8b48955194e6dd4ac"
      }
     },
     "c11f29bd03a34547a55dda37a59c5583": {
      "model_module": "@jupyter-widgets/controls",
      "model_module_version": "1.4.0",
      "model_name": "DescriptionStyleModel",
      "state": {
       "description_width": ""
      }
     },
     "c12be8cb8ef341bfaf7f30255ace4c97": {
      "model_module": "@jupyter-widgets/controls",
      "model_module_version": "1.4.0",
      "model_name": "HTMLModel",
      "state": {
       "layout": "IPY_MODEL_2d01549cf9024b17be92273c190f9415",
       "style": "IPY_MODEL_76627b38a1fb426ab7c739cd501281fe",
       "value": "<h5>Description</h5>"
      }
     },
     "c14bf9b9fecf416ea33db2c3d0f6ecf8": {
      "model_module": "@jupyter-widgets/controls",
      "model_module_version": "1.4.0",
      "model_name": "HTMLModel",
      "state": {
       "layout": "IPY_MODEL_d7a16186f26941d8871df9f9fa9d6ea6",
       "style": "IPY_MODEL_6c084935f78249f59261545e7676b95e",
       "value": "<font size=3 style='justify-content: center;'>edgelength_mean : </font>"
      }
     },
     "c158874ada9f48cfbcc27357b2759d59": {
      "model_module": "@jupyter-widgets/base",
      "model_module_version": "1.1.0",
      "model_name": "LayoutModel",
      "state": {
       "align_items": "center"
      }
     },
     "c1922c66d95e4253ba3e8ae090df18cc": {
      "model_module": "@jupyter-widgets/controls",
      "model_module_version": "1.4.0",
      "model_name": "DescriptionStyleModel",
      "state": {
       "description_width": ""
      }
     },
     "c1b60a37433545b784756e79628553b3": {
      "model_module": "@jupyter-widgets/controls",
      "model_module_version": "1.4.0",
      "model_name": "HTMLModel",
      "state": {
       "layout": "IPY_MODEL_99b9c014e663436f8e8a2c19d4eb3381",
       "style": "IPY_MODEL_8ff11b1fed85449f9545b1d88738593a",
       "value": "<h3> </h3>"
      }
     },
     "c1e1027702fc433ebc306afc8aa379e0": {
      "model_module": "@jupyter-widgets/controls",
      "model_module_version": "1.4.0",
      "model_name": "HTMLModel",
      "state": {
       "layout": "IPY_MODEL_2c9db2dcc00f48fd9e7e4636d0a750ad",
       "style": "IPY_MODEL_a13ee1d8196e487394fecee6db1ea6b7",
       "value": "<h5>Fill out the info below to upload data to <a href='http://www.ndexbio.org/'>NDEx</a></h5>"
      }
     },
     "c1ec1a89a0014084a946f9c96b77850e": {
      "model_module": "@jupyter-widgets/base",
      "model_module_version": "1.1.0",
      "model_name": "LayoutModel",
      "state": {
       "padding": "0 15px 0 35px"
      }
     },
     "c201442184d04fc7ae8931d0b015c64e": {
      "model_module": "@jupyter-widgets/base",
      "model_module_version": "1.1.0",
      "model_name": "LayoutModel",
      "state": {}
     },
     "c22e1893767648a6898eda189fb95d51": {
      "model_module": "@jupyter-widgets/base",
      "model_module_version": "1.1.0",
      "model_name": "LayoutModel",
      "state": {
       "align_items": "center"
      }
     },
     "c25ca8078d9a451da89bc59742e48fe1": {
      "model_module": "@jupyter-widgets/base",
      "model_module_version": "1.1.0",
      "model_name": "LayoutModel",
      "state": {
       "margin": "0px 0px 0px 5px",
       "min_width": "30px"
      }
     },
     "c2aafc4efca54dc8a7fe5d4193427dc3": {
      "model_module": "@jupyter-widgets/base",
      "model_module_version": "1.1.0",
      "model_name": "LayoutModel",
      "state": {}
     },
     "c2b5c22a1b9b477fb0ca6b06296609d8": {
      "model_module": "@jupyter-widgets/base",
      "model_module_version": "1.1.0",
      "model_name": "LayoutModel",
      "state": {}
     },
     "c2bdc77c47214584b620b9c6555f2a2b": {
      "model_module": "@jupyter-widgets/controls",
      "model_module_version": "1.4.0",
      "model_name": "DescriptionStyleModel",
      "state": {
       "description_width": ""
      }
     },
     "c2e79a52f9d346cebbf73a27639bba18": {
      "model_module": "@jupyter-widgets/controls",
      "model_module_version": "1.4.0",
      "model_name": "ButtonStyleModel",
      "state": {}
     },
     "c2e82d5824464f02b8e9d66b18ce16e6": {
      "model_module": "@jupyter-widgets/base",
      "model_module_version": "1.1.0",
      "model_name": "LayoutModel",
      "state": {}
     },
     "c30be8cd547e4c5a82d5f18437422fdb": {
      "model_module": "@jupyter-widgets/base",
      "model_module_version": "1.1.0",
      "model_name": "LayoutModel",
      "state": {
       "padding": "10px 0px 0px 0px"
      }
     },
     "c329de6f6804413eab3097ba30fcdb83": {
      "model_module": "@jupyter-widgets/controls",
      "model_module_version": "1.4.0",
      "model_name": "DescriptionStyleModel",
      "state": {
       "description_width": ""
      }
     },
     "c34472f154ad4f3d91fb5d335f790a03": {
      "model_module": "@jupyter-widgets/base",
      "model_module_version": "1.1.0",
      "model_name": "LayoutModel",
      "state": {
       "width": "auto"
      }
     },
     "c3901044804a499da88e41f777224211": {
      "model_module": "@jupyter-widgets/base",
      "model_module_version": "1.1.0",
      "model_name": "LayoutModel",
      "state": {
       "width": "auto"
      }
     },
     "c3b3ecf3d1704469b54468b2ce3c490f": {
      "model_module": "@jupyter-widgets/controls",
      "model_module_version": "1.4.0",
      "model_name": "FloatTextModel",
      "state": {
       "continuous_update": true,
       "layout": "IPY_MODEL_b8287ad845cf4304a78189649dce7191",
       "step": null,
       "style": "IPY_MODEL_779c8e3008a3443f82fc726f531cede9"
      }
     },
     "c3c37c5e0f5242fd94067b064ece38f8": {
      "model_module": "@jupyter-widgets/base",
      "model_module_version": "1.1.0",
      "model_name": "LayoutModel",
      "state": {}
     },
     "c3db9bb17c8c4216af49012fdca98a00": {
      "model_module": "@jupyter-widgets/base",
      "model_module_version": "1.1.0",
      "model_name": "LayoutModel",
      "state": {}
     },
     "c3f7021384dd443f87d47f32da30b6b1": {
      "model_module": "@jupyter-widgets/controls",
      "model_module_version": "1.4.0",
      "model_name": "DescriptionStyleModel",
      "state": {
       "description_width": ""
      }
     },
     "c3fd461dcd854a85a63290b26151ef45": {
      "model_module": "@jupyter-widgets/base",
      "model_module_version": "1.1.0",
      "model_name": "LayoutModel",
      "state": {}
     },
     "c400798c79e940b4ad86bf31f9579d2b": {
      "model_module": "@jupyter-widgets/base",
      "model_module_version": "1.1.0",
      "model_name": "LayoutModel",
      "state": {}
     },
     "c430169607e440cfa9d90c4a0acd14c9": {
      "model_module": "@jupyter-widgets/base",
      "model_module_version": "1.1.0",
      "model_name": "LayoutModel",
      "state": {}
     },
     "c4418f8bd6ee4dec9561cffe4287f1bb": {
      "model_module": "@jupyter-widgets/controls",
      "model_module_version": "1.4.0",
      "model_name": "DescriptionStyleModel",
      "state": {
       "description_width": ""
      }
     },
     "c4afda0bbf1042298cb9fa0d44d1f795": {
      "model_module": "@jupyter-widgets/base",
      "model_module_version": "1.1.0",
      "model_name": "LayoutModel",
      "state": {}
     },
     "c4edb571b78c461b8e750e52d8738b02": {
      "model_module": "@jupyter-widgets/base",
      "model_module_version": "1.1.0",
      "model_name": "LayoutModel",
      "state": {}
     },
     "c50ff92a5636440996be3f5bd85f89b3": {
      "model_module": "@jupyter-widgets/base",
      "model_module_version": "1.1.0",
      "model_name": "LayoutModel",
      "state": {
       "align_items": "center"
      }
     },
     "c56d08a386c44a839109e4d2ec80ef9f": {
      "model_module": "@jupyter-widgets/controls",
      "model_module_version": "1.4.0",
      "model_name": "DescriptionStyleModel",
      "state": {
       "description_width": ""
      }
     },
     "c57a1a2fe82143e09b948c017c8f5e18": {
      "model_module": "@jupyter-widgets/controls",
      "model_module_version": "1.4.0",
      "model_name": "HTMLModel",
      "state": {
       "layout": "IPY_MODEL_7bd14949c6ff49c9830836c8d709e595",
       "style": "IPY_MODEL_f9e1ca8730194506ad67087e575733c4",
       "value": "<font size=3 style='justify-content: center;'>NeighborhoodConnectivity : </font>"
      }
     },
     "c5a7f1212bda4c4c9462b28a41a0782d": {
      "model_module": "@jupyter-widgets/controls",
      "model_module_version": "1.4.0",
      "model_name": "ColorPickerModel",
      "state": {
       "disabled": false,
       "layout": "IPY_MODEL_e97441b47d754c46a7f18ebdcc0ea88f",
       "style": "IPY_MODEL_add41809ac274f6280fd3e973fa5a5c0"
      }
     },
     "c5d8ba3f81bd46c49e0eac4889b39850": {
      "model_module": "@jupyter-widgets/base",
      "model_module_version": "1.1.0",
      "model_name": "LayoutModel",
      "state": {
       "justify_content": "center",
       "padding": "0px 20px 5px 0px"
      }
     },
     "c5ddc463b70a4338b09474b79f9da990": {
      "model_module": "@jupyter-widgets/controls",
      "model_module_version": "1.4.0",
      "model_name": "DescriptionStyleModel",
      "state": {
       "description_width": ""
      }
     },
     "c5fce4dddd014f27afcf356f079bd1d8": {
      "model_module": "@jupyter-widgets/controls",
      "model_module_version": "1.4.0",
      "model_name": "DescriptionStyleModel",
      "state": {
       "description_width": ""
      }
     },
     "c6528029b041485e8a017acef50f3008": {
      "model_module": "@jupyter-widgets/base",
      "model_module_version": "1.1.0",
      "model_name": "LayoutModel",
      "state": {}
     },
     "c66aba40418940be9be6fde9eeb76529": {
      "model_module": "@jupyter-widgets/controls",
      "model_module_version": "1.4.0",
      "model_name": "PasswordModel",
      "state": {
       "description": "Password :",
       "layout": "IPY_MODEL_dc496196b7dd4c3ca7eb54204923414e",
       "style": "IPY_MODEL_14825668b890492eb9d358017fe4f92d"
      }
     },
     "c66f05b790224235a4eebbdf7422cb4d": {
      "model_module": "@jupyter-widgets/controls",
      "model_module_version": "1.4.0",
      "model_name": "HTMLModel",
      "state": {
       "layout": "IPY_MODEL_b80f229b67eb45fe9fc1f733ce63c124",
       "style": "IPY_MODEL_2208cc48883040f795b0daf0ced9d05a",
       "value": "<font size=3 style='justify-content: center;'>Outdegree : </font>"
      }
     },
     "c68f8637e75042e19497ff86a5c693e5": {
      "model_module": "@jupyter-widgets/controls",
      "model_module_version": "1.4.0",
      "model_name": "DescriptionStyleModel",
      "state": {
       "description_width": ""
      }
     },
     "c6ade00405b84e30829524eab8b9c38a": {
      "model_module": "@jupyter-widgets/controls",
      "model_module_version": "1.4.0",
      "model_name": "HBoxModel",
      "state": {
       "children": [
        "IPY_MODEL_da51026f3a12445faf0ee331a1b452be",
        "IPY_MODEL_7fa75cbe7bc146468166a20c896f5bf7"
       ],
       "layout": "IPY_MODEL_44d806ff78fc43298cd33304170adbfa"
      }
     },
     "c70abfbc9ba2438ebcd753f39ec770ee": {
      "model_module": "@jupyter-widgets/controls",
      "model_module_version": "1.4.0",
      "model_name": "ButtonStyleModel",
      "state": {}
     },
     "c738db504bd84d75b26bf563b56d77b1": {
      "model_module": "@jupyter-widgets/base",
      "model_module_version": "1.1.0",
      "model_name": "LayoutModel",
      "state": {}
     },
     "c740cae6dc0c47289db20a28c2967ee5": {
      "model_module": "@jupyter-widgets/base",
      "model_module_version": "1.1.0",
      "model_name": "LayoutModel",
      "state": {
       "justify_content": "center",
       "padding": "10px 0px 0px 0px"
      }
     },
     "c74945e2404e4f8f8a657a33c48c1a88": {
      "model_module": "@jupyter-widgets/controls",
      "model_module_version": "1.4.0",
      "model_name": "ButtonStyleModel",
      "state": {}
     },
     "c78a357a2fbb4e0c9a941ce4aea65ab4": {
      "model_module": "@jupyter-widgets/controls",
      "model_module_version": "1.4.0",
      "model_name": "HTMLModel",
      "state": {
       "layout": "IPY_MODEL_b04051250ada4ab2899f05951aa101ca",
       "style": "IPY_MODEL_933a7afb50e14ae9820de9450c8e1990",
       "value": "<b><p>Variable &nbsp </p> </b>"
      }
     },
     "c7a8192f343141998a8c83fe38ec0bf3": {
      "model_module": "@jupyter-widgets/controls",
      "model_module_version": "1.4.0",
      "model_name": "HBoxModel",
      "state": {
       "children": [
        "IPY_MODEL_04e3cad53f7a45cb8b4fcba05ecb0d14",
        "IPY_MODEL_852be6fcd09d437db689e3c1c7018573",
        "IPY_MODEL_7ab20997079e4a34a22086eb5f90d21d"
       ],
       "layout": "IPY_MODEL_9b50ddaf725e4271885a03cb57aba695"
      }
     },
     "c7f6bf8ba0644ae4bce81e39cd300231": {
      "model_module": "@jupyter-widgets/controls",
      "model_module_version": "1.4.0",
      "model_name": "ButtonModel",
      "state": {
       "button_style": "success",
       "description": "Upload",
       "layout": "IPY_MODEL_659d70ccbeb84a7ca99e4f111d543e56",
       "style": "IPY_MODEL_cd9e9eef0b62494bad4669f5225b5d95"
      }
     },
     "c7fc8f841ab245abacc64b8197bdd8e8": {
      "model_module": "@jupyter-widgets/controls",
      "model_module_version": "1.4.0",
      "model_name": "ButtonModel",
      "state": {
       "button_style": "danger",
       "description": "Remove",
       "layout": "IPY_MODEL_cbf2184223d246bfaf816d9bd08a2964",
       "style": "IPY_MODEL_bfe398923c2e4787883b22095028a9bb"
      }
     },
     "c7fe0dade03940eaa096f95ceb45ac8a": {
      "model_module": "@jupyter-widgets/base",
      "model_module_version": "1.1.0",
      "model_name": "LayoutModel",
      "state": {}
     },
     "c802b313d9964c338d946ca857c6d2fe": {
      "model_module": "@jupyter-widgets/base",
      "model_module_version": "1.1.0",
      "model_name": "LayoutModel",
      "state": {}
     },
     "c8072d9783ca475a8f08814b2591462d": {
      "model_module": "@jupyter-widgets/base",
      "model_module_version": "1.1.0",
      "model_name": "LayoutModel",
      "state": {}
     },
     "c811650dadd64446b37d45120dbac561": {
      "model_module": "@jupyter-widgets/controls",
      "model_module_version": "1.4.0",
      "model_name": "ButtonModel",
      "state": {
       "button_style": "danger",
       "description": "Remove",
       "layout": "IPY_MODEL_8f2f95e6fac74ff6a0dff3e5f15dbc3f",
       "style": "IPY_MODEL_feb75a0bf8964ff7b61510a2eff25bbb"
      }
     },
     "c8a037e495af4cc89d79258b5b52481f": {
      "model_module": "@jupyter-widgets/base",
      "model_module_version": "1.1.0",
      "model_name": "LayoutModel",
      "state": {}
     },
     "c8c1c01e908b4c7d95031ab4dca18211": {
      "model_module": "@jupyter-widgets/base",
      "model_module_version": "1.1.0",
      "model_name": "LayoutModel",
      "state": {
       "width": "auto"
      }
     },
     "c8c75fad0a86448a91fe6472f57c5fc4": {
      "model_module": "@jupyter-widgets/controls",
      "model_module_version": "1.4.0",
      "model_name": "HTMLModel",
      "state": {
       "layout": "IPY_MODEL_aea4292d93f74e98bff988b08cdc1b95",
       "style": "IPY_MODEL_7e489766c4424e9cbd6b42a686bdb74b",
       "value": "<font size=3 style='justify-content: center;'>SelfLoops : </font>"
      }
     },
     "c926d4e18ec3427eb7ac22339844be13": {
      "model_module": "@jupyter-widgets/controls",
      "model_module_version": "1.4.0",
      "model_name": "HTMLModel",
      "state": {
       "layout": "IPY_MODEL_1323129144294b3dba1b8c7c0fb4eb81",
       "style": "IPY_MODEL_a339695fdd5b4622a353e740ee4c9677",
       "value": "<h2 class='text-danger text-center'>Coming Soon! Wait for Update</h2>"
      }
     },
     "c93838910f094e19b4c25acc46f61d88": {
      "model_module": "@jupyter-widgets/controls",
      "model_module_version": "1.4.0",
      "model_name": "HTMLModel",
      "state": {
       "layout": "IPY_MODEL_dba46db67bb3466498cd9040413460b9",
       "style": "IPY_MODEL_f53c3fbeb44d4cdab5b47e1080bd6fad",
       "value": "<h3 class='text-center' style='color:red'>Error in Dataframe</h3>"
      }
     },
     "c93bb4c907c14032baa06dc54bdc54f6": {
      "model_module": "@jupyter-widgets/controls",
      "model_module_version": "1.4.0",
      "model_name": "DescriptionStyleModel",
      "state": {
       "description_width": ""
      }
     },
     "c945f283aeb845d9ad7cc2714bd9bb09": {
      "model_module": "@jupyter-widgets/controls",
      "model_module_version": "1.4.0",
      "model_name": "VBoxModel",
      "state": {
       "children": [
        "IPY_MODEL_ef85d6648acf4ff2916999e956ff62fd",
        "IPY_MODEL_3d45496dd2f84aa98142d0bfc5bc3ed2"
       ],
       "layout": "IPY_MODEL_5b3679a0732546df9125b7616ee9211b"
      }
     },
     "c9560da4723a4a53a783d9c6e072170a": {
      "model_module": "@jupyter-widgets/controls",
      "model_module_version": "1.4.0",
      "model_name": "AccordionModel",
      "state": {
       "_titles": {
        "0": "Style",
        "1": "Label",
        "2": "Variables"
       },
       "children": [
        "IPY_MODEL_18eb31eaf3c84f9cbd7af1beef829700",
        "IPY_MODEL_aa4324e6db294d908ebd0acb85e2db1e",
        "IPY_MODEL_e830ea3e238141f28ff3ac4d38c54179"
       ],
       "layout": "IPY_MODEL_0ede254661e143769dcc3b2d6fb16a70"
      }
     },
     "c9b0d0aa46fe4534ae5e8a79adf9d675": {
      "model_module": "@jupyter-widgets/controls",
      "model_module_version": "1.4.0",
      "model_name": "HBoxModel",
      "state": {
       "children": [
        "IPY_MODEL_64789740b45041689ddb76a6f5d2aa4d",
        "IPY_MODEL_162c5398cb7043159210cb6bc11f1dee",
        "IPY_MODEL_3d5f7bf3847d4456affe17d59d65a0fd"
       ],
       "layout": "IPY_MODEL_cbc861b0e04a4389b7a3667dd011968e"
      }
     },
     "c9f00b22aa04434e8cf5f19e04db5698": {
      "model_module": "@jupyter-widgets/base",
      "model_module_version": "1.1.0",
      "model_name": "LayoutModel",
      "state": {}
     },
     "ca079267cb604a27a3eb106c738fb108": {
      "model_module": "@jupyter-widgets/controls",
      "model_module_version": "1.4.0",
      "model_name": "FloatTextModel",
      "state": {
       "continuous_update": true,
       "layout": "IPY_MODEL_60bb3c681ba84ea490c628786239decd",
       "step": null,
       "style": "IPY_MODEL_7b4dca01ef7842b7a348c0dd6a4d74b9"
      }
     },
     "ca099e3760c545d1bebe2ef5672d2161": {
      "model_module": "@jupyter-widgets/controls",
      "model_module_version": "1.4.0",
      "model_name": "HTMLModel",
      "state": {
       "layout": "IPY_MODEL_2455065e0f2e4d69825b3ecf54ac14ba",
       "style": "IPY_MODEL_d4d48003137246338c20e6a43f671d68",
       "value": "<font size=3 style='justify-content: center;'>name : </font>"
      }
     },
     "ca69b9c98ef4448aaf3304d0f389c6a9": {
      "model_module": "@jupyter-widgets/controls",
      "model_module_version": "1.4.0",
      "model_name": "DescriptionStyleModel",
      "state": {
       "description_width": ""
      }
     },
     "ca8bed4640cc48c298f8e0c9715527e6": {
      "model_module": "@jupyter-widgets/base",
      "model_module_version": "1.1.0",
      "model_name": "LayoutModel",
      "state": {}
     },
     "ca9b19a360bf45dd8d4522c653954a91": {
      "model_module": "@jupyter-widgets/controls",
      "model_module_version": "1.4.0",
      "model_name": "ButtonStyleModel",
      "state": {}
     },
     "ca9b584d7ce145b6835d7ba0c1a34b82": {
      "model_module": "@jupyter-widgets/base",
      "model_module_version": "1.1.0",
      "model_name": "LayoutModel",
      "state": {}
     },
     "ca9cfab1f47f46bc9f619b33d3806c4e": {
      "model_module": "@jupyter-widgets/controls",
      "model_module_version": "1.4.0",
      "model_name": "TextModel",
      "state": {
       "layout": "IPY_MODEL_ab25cbe5d9ed4a8882a0f58a0be12fb6",
       "style": "IPY_MODEL_d11712449224493da658c82cc767303d"
      }
     },
     "cab0b332822d45bc8990579ffeb104e2": {
      "model_module": "@jupyter-widgets/controls",
      "model_module_version": "1.4.0",
      "model_name": "ButtonModel",
      "state": {
       "button_style": "danger",
       "icon": "image",
       "layout": "IPY_MODEL_c34472f154ad4f3d91fb5d335f790a03",
       "style": "IPY_MODEL_7d040c0a38a34b93b0854e1d56f486b8"
      }
     },
     "cab79f166f0a420ba0f6ba2485ff2d1c": {
      "model_module": "@jupyter-widgets/base",
      "model_module_version": "1.1.0",
      "model_name": "LayoutModel",
      "state": {}
     },
     "cacd1f45694c4d7d91bd889ad9614e99": {
      "model_module": "@jupyter-widgets/base",
      "model_module_version": "1.1.0",
      "model_name": "LayoutModel",
      "state": {}
     },
     "cb4ddf309b424a58aaed76d87de5cbc6": {
      "model_module": "@jupyter-widgets/controls",
      "model_module_version": "1.4.0",
      "model_name": "DropdownModel",
      "state": {
       "_options_labels": [
        "solid",
        "dotted",
        "dashed"
       ],
       "index": 0,
       "layout": "IPY_MODEL_0c8ece21ab7140bb8bca9171dfab0e13",
       "style": "IPY_MODEL_21c7e5556e28429fa98e1c721c0673d9"
      }
     },
     "cb4e79868d854697999bc2dfb8163f9e": {
      "model_module": "@jupyter-widgets/controls",
      "model_module_version": "1.4.0",
      "model_name": "SliderStyleModel",
      "state": {
       "description_width": ""
      }
     },
     "cbc861b0e04a4389b7a3667dd011968e": {
      "model_module": "@jupyter-widgets/base",
      "model_module_version": "1.1.0",
      "model_name": "LayoutModel",
      "state": {}
     },
     "cbd571fb24b8486c8c60f3ebcfaa7ae8": {
      "model_module": "@jupyter-widgets/controls",
      "model_module_version": "1.4.0",
      "model_name": "DescriptionStyleModel",
      "state": {
       "description_width": ""
      }
     },
     "cbf2184223d246bfaf816d9bd08a2964": {
      "model_module": "@jupyter-widgets/base",
      "model_module_version": "1.1.0",
      "model_name": "LayoutModel",
      "state": {
       "width": "auto"
      }
     },
     "cbfb071ee46d41ba937962ea7b6aacf8": {
      "model_module": "@jupyter-widgets/controls",
      "model_module_version": "1.4.0",
      "model_name": "ToggleButtonsModel",
      "state": {
       "_options_labels": [
        "Python",
        "HTML"
       ],
       "button_style": "danger",
       "icons": [],
       "index": 0,
       "layout": "IPY_MODEL_0fa8d39f7e204679922d501e5dffc718",
       "style": "IPY_MODEL_ce21527401244008ad6da64e68b0f564",
       "tooltips": []
      }
     },
     "cc06ca95dc6e433193904d05f811baa2": {
      "model_module": "@jupyter-widgets/controls",
      "model_module_version": "1.4.0",
      "model_name": "ButtonModel",
      "state": {
       "button_style": "danger",
       "description": "Remove",
       "layout": "IPY_MODEL_e846605f776b4f15a33f69d968f95e36",
       "style": "IPY_MODEL_a5dce27ea77b4890a455c24e23647b38"
      }
     },
     "cc11043cedda40c1b90e160b963eeb28": {
      "model_module": "@jupyter-widgets/base",
      "model_module_version": "1.1.0",
      "model_name": "LayoutModel",
      "state": {}
     },
     "cc1f2a5c0f9545f1b9b81df916795529": {
      "model_module": "@jupyter-widgets/base",
      "model_module_version": "1.1.0",
      "model_name": "LayoutModel",
      "state": {
       "padding": "0 15px 0 35px"
      }
     },
     "cca953bc3e114dcc9f21bec317e0f9b2": {
      "model_module": "@jupyter-widgets/base",
      "model_module_version": "1.1.0",
      "model_name": "LayoutModel",
      "state": {}
     },
     "ccae4eafb1824ded94bf432a13c34251": {
      "model_module": "@jupyter-widgets/controls",
      "model_module_version": "1.4.0",
      "model_name": "LabelModel",
      "state": {
       "layout": "IPY_MODEL_6e87885ea0f54affb79be12f77c6a48c",
       "style": "IPY_MODEL_ddedeb3d69924f29965e58b6ed26d17d",
       "value": "End"
      }
     },
     "ccfa02bd3b7e49579dc1d9da414e6236": {
      "model_module": "@jupyter-widgets/controls",
      "model_module_version": "1.4.0",
      "model_name": "ButtonStyleModel",
      "state": {}
     },
     "cd120183a3154edb80121978d307d11d": {
      "model_module": "@jupyter-widgets/controls",
      "model_module_version": "1.4.0",
      "model_name": "DescriptionStyleModel",
      "state": {
       "description_width": ""
      }
     },
     "cd30f4ab3b1640e1bbac31a5fc8c2f7b": {
      "model_module": "@jupyter-widgets/controls",
      "model_module_version": "1.4.0",
      "model_name": "ButtonModel",
      "state": {
       "button_style": "primary",
       "description": "Create",
       "layout": "IPY_MODEL_46b967a760be49ffaa0c66b8b20e87da",
       "style": "IPY_MODEL_8af5b5828e5f4d27ab5497d5a0caea6f"
      }
     },
     "cd78243d07c54e6792b4cdbff3b07ad2": {
      "model_module": "@jupyter-widgets/controls",
      "model_module_version": "1.4.0",
      "model_name": "HTMLModel",
      "state": {
       "layout": "IPY_MODEL_2ddf45a08731472587f92d3f44b48f93",
       "style": "IPY_MODEL_e7d8ac4e43cd4c568b53b659e564c33c",
       "value": "<h4 style='color:DarkKhaki'>Node :</h4>"
      }
     },
     "cd85919e2e584719a5aa0c47e9420077": {
      "model_module": "@jupyter-widgets/base",
      "model_module_version": "1.1.0",
      "model_name": "LayoutModel",
      "state": {
       "width": "auto"
      }
     },
     "cd968103bf1b4c5eb89389b89ff8a6aa": {
      "model_module": "@jupyter-widgets/base",
      "model_module_version": "1.1.0",
      "model_name": "LayoutModel",
      "state": {}
     },
     "cd9e9eef0b62494bad4669f5225b5d95": {
      "model_module": "@jupyter-widgets/controls",
      "model_module_version": "1.4.0",
      "model_name": "ButtonStyleModel",
      "state": {}
     },
     "cdb4b5e0079242238fb02c99620c6392": {
      "model_module": "@jupyter-widgets/controls",
      "model_module_version": "1.4.0",
      "model_name": "ToggleButtonModel",
      "state": {
       "button_style": "info",
       "description": "Border",
       "layout": "IPY_MODEL_b83af7892aa9453c8ce2ec06d4f7de49",
       "style": "IPY_MODEL_d2cd9a2e3b1649bc92d5c57f7bcbe675"
      }
     },
     "cdc621247b3041b7925b29507c932ac8": {
      "model_module": "@jupyter-widgets/base",
      "model_module_version": "1.1.0",
      "model_name": "LayoutModel",
      "state": {}
     },
     "ce0fb31f1be84dbbaf4d3e46854d021b": {
      "model_module": "@jupyter-widgets/controls",
      "model_module_version": "1.4.0",
      "model_name": "DescriptionStyleModel",
      "state": {
       "description_width": ""
      }
     },
     "ce1d6e2ff0a34635ba86df5bec4d0151": {
      "model_module": "@jupyter-widgets/controls",
      "model_module_version": "1.4.0",
      "model_name": "DescriptionStyleModel",
      "state": {
       "description_width": ""
      }
     },
     "ce21527401244008ad6da64e68b0f564": {
      "model_module": "@jupyter-widgets/controls",
      "model_module_version": "1.4.0",
      "model_name": "ToggleButtonsStyleModel",
      "state": {
       "button_width": "",
       "description_width": ""
      }
     },
     "ce53177f70a247388b13acbe44d7b470": {
      "model_module": "@jupyter-widgets/controls",
      "model_module_version": "1.4.0",
      "model_name": "FloatTextModel",
      "state": {
       "continuous_update": true,
       "layout": "IPY_MODEL_6e3c454ce8e148eeab41a071803d5cbf",
       "step": null,
       "style": "IPY_MODEL_2617795d319e4c61a6018e84b05730c3"
      }
     },
     "ce651c34cad444258dc72aedd3a473d8": {
      "model_module": "@jupyter-widgets/controls",
      "model_module_version": "1.4.0",
      "model_name": "TextModel",
      "state": {
       "layout": "IPY_MODEL_4d57bdb81595422ca8c8795b4aeb1f21",
       "style": "IPY_MODEL_df9435f255d94753a43e6f4b49c99760"
      }
     },
     "ce958b5800a748508943c2b446629535": {
      "model_module": "@jupyter-widgets/controls",
      "model_module_version": "1.4.0",
      "model_name": "LabelModel",
      "state": {
       "layout": "IPY_MODEL_c8072d9783ca475a8f08814b2591462d",
       "style": "IPY_MODEL_092670a952974f14b7be7aebb7174918",
       "value": "Color :"
      }
     },
     "ceb3d5ba6964414cb6e784eb990afb57": {
      "model_module": "@jupyter-widgets/controls",
      "model_module_version": "1.4.0",
      "model_name": "ButtonStyleModel",
      "state": {}
     },
     "ceec12db768a4476aaea8b7e47c24d77": {
      "model_module": "@jupyter-widgets/controls",
      "model_module_version": "1.4.0",
      "model_name": "ButtonModel",
      "state": {
       "button_style": "success",
       "description": "Save",
       "layout": "IPY_MODEL_1a08785eeffd4ef99daef85236f7c5a4",
       "style": "IPY_MODEL_694db13f2a934c00bcb182834225385e"
      }
     },
     "cf1c8aa8e00a4ee2bb9454427c8d3c21": {
      "model_module": "@jupyter-widgets/controls",
      "model_module_version": "1.4.0",
      "model_name": "HBoxModel",
      "state": {
       "children": [
        "IPY_MODEL_8d677825698d40e5803c603161b788c8",
        "IPY_MODEL_ff95a6d138e24113a33a85e8b2b524b1"
       ],
       "layout": "IPY_MODEL_a365652193ac4df589e361d20e6fa3fb"
      }
     },
     "cf4f6bdb33ab4eb09c996fc9cea75641": {
      "model_module": "@jupyter-widgets/controls",
      "model_module_version": "1.4.0",
      "model_name": "HTMLModel",
      "state": {
       "layout": "IPY_MODEL_9dd3e39321744a358e074290c5cb9ab0",
       "style": "IPY_MODEL_c5fce4dddd014f27afcf356f079bd1d8",
       "value": "<font size=3 style='justify-content: center;'>NeighborhoodConnectivity : </font>"
      }
     },
     "cf64a55eb8ad4c0781901a6812004826": {
      "model_module": "@jupyter-widgets/controls",
      "model_module_version": "1.4.0",
      "model_name": "HTMLModel",
      "state": {
       "layout": "IPY_MODEL_93f991100cf442648ca4ed6a0a7c527e",
       "style": "IPY_MODEL_c329de6f6804413eab3097ba30fcdb83",
       "value": "<font size=3 style='justify-content: center;'>name : </font>"
      }
     },
     "cfd595bdb5b44614b855c0a29febb2ef": {
      "model_module": "@jupyter-widgets/base",
      "model_module_version": "1.1.0",
      "model_name": "LayoutModel",
      "state": {}
     },
     "d019a839497540b1a971623a8b9a2202": {
      "model_module": "@jupyter-widgets/controls",
      "model_module_version": "1.4.0",
      "model_name": "DescriptionStyleModel",
      "state": {
       "description_width": ""
      }
     },
     "d03c1eaff05b404c8df02ef95e96f855": {
      "model_module": "@jupyter-widgets/controls",
      "model_module_version": "1.4.0",
      "model_name": "ButtonModel",
      "state": {
       "button_style": "danger",
       "description": "Remove",
       "layout": "IPY_MODEL_75177e78f9a5401a9f27906ae23e727f",
       "style": "IPY_MODEL_141a89290bb849558ec852b180b0813f"
      }
     },
     "d060ac8f50a746a0b2919ce25c55b006": {
      "model_module": "@jupyter-widgets/controls",
      "model_module_version": "1.4.0",
      "model_name": "HBoxModel",
      "state": {
       "children": [
        "IPY_MODEL_8e6ce11168e64251b9ef5ace9e13c000",
        "IPY_MODEL_aa6fe64272714904a8216a67da4cc933",
        "IPY_MODEL_e4eaaa43dfa14890be2563c3a3ae22df",
        "IPY_MODEL_0cf0ec05053148a7bef2707946517b10"
       ],
       "layout": "IPY_MODEL_c50ff92a5636440996be3f5bd85f89b3"
      }
     },
     "d0ab506acda648d2ac9e23fecbc3758d": {
      "model_module": "@jupyter-widgets/controls",
      "model_module_version": "1.4.0",
      "model_name": "HBoxModel",
      "state": {
       "children": [
        "IPY_MODEL_7a26cacdd7a4450687d0caecebf93513",
        "IPY_MODEL_b15bf50b72554fad96ccda03a64c39db",
        "IPY_MODEL_cdb4b5e0079242238fb02c99620c6392"
       ],
       "layout": "IPY_MODEL_b46a6d5a8b0f455a822d1f00bb2dd1f3"
      }
     },
     "d0b6aafd0a7a40d4b8b3aecda956a1c3": {
      "model_module": "@jupyter-widgets/controls",
      "model_module_version": "1.4.0",
      "model_name": "DescriptionStyleModel",
      "state": {
       "description_width": ""
      }
     },
     "d0eaf93129fe49c6bcbb2a5f7cb9cdbd": {
      "model_module": "@jupyter-widgets/base",
      "model_module_version": "1.1.0",
      "model_name": "LayoutModel",
      "state": {}
     },
     "d11712449224493da658c82cc767303d": {
      "model_module": "@jupyter-widgets/controls",
      "model_module_version": "1.4.0",
      "model_name": "DescriptionStyleModel",
      "state": {
       "description_width": ""
      }
     },
     "d14e0894ff4e4821b93a76e7b74aae0b": {
      "model_module": "@jupyter-widgets/controls",
      "model_module_version": "1.4.0",
      "model_name": "IntSliderModel",
      "state": {
       "layout": "IPY_MODEL_c3db9bb17c8c4216af49012fdca98a00",
       "max": 200,
       "min": 1,
       "style": "IPY_MODEL_ed74e763abc544e6bed3e169181d822d",
       "value": 30
      }
     },
     "d157365a63fa4419ba9f7a6c6680b479": {
      "model_module": "@jupyter-widgets/controls",
      "model_module_version": "1.4.0",
      "model_name": "ButtonModel",
      "state": {
       "button_style": "danger",
       "description": "Remove",
       "layout": "IPY_MODEL_44c2822f24b64adaac7f0790937f2b3d",
       "style": "IPY_MODEL_5a8799b377464cdaae624c5c52252347"
      }
     },
     "d1723fc6122a4de8934771e9ff055f29": {
      "model_module": "@jupyter-widgets/controls",
      "model_module_version": "1.4.0",
      "model_name": "TextModel",
      "state": {
       "layout": "IPY_MODEL_907da86ee6ab4c65ae06c34fc4f8a3bd",
       "style": "IPY_MODEL_7433097a38b247e2aaf2760e0aed054c"
      }
     },
     "d17373a982ac4d4faaa7e831cf7addec": {
      "model_module": "@jupyter-widgets/controls",
      "model_module_version": "1.4.0",
      "model_name": "ButtonModel",
      "state": {
       "button_style": "success",
       "description": "Save",
       "layout": "IPY_MODEL_3dfedbc00da2408b8f17d0baee8ec3c6",
       "style": "IPY_MODEL_d6187bea71ba451097b22285ec99139a"
      }
     },
     "d20d58cbd7fd481f9ab906dd86596881": {
      "model_module": "@jupyter-widgets/base",
      "model_module_version": "1.1.0",
      "model_name": "LayoutModel",
      "state": {}
     },
     "d251ddea27cb45feb2f28280292c6297": {
      "model_module": "@jupyter-widgets/base",
      "model_module_version": "1.1.0",
      "model_name": "LayoutModel",
      "state": {}
     },
     "d25ebcd9c1a94297be1fb2d4ce1ae08d": {
      "model_module": "@jupyter-widgets/controls",
      "model_module_version": "1.4.0",
      "model_name": "TextModel",
      "state": {
       "continuous_update": false,
       "layout": "IPY_MODEL_0883443f4f2e4a028f22b4249ecab63f",
       "style": "IPY_MODEL_5ec8ca8d5a084f999d54be774acb721e"
      }
     },
     "d2786aa27f3443c4baae2797819b1028": {
      "model_module": "@jupyter-widgets/controls",
      "model_module_version": "1.4.0",
      "model_name": "FloatTextModel",
      "state": {
       "continuous_update": true,
       "layout": "IPY_MODEL_e43d7e84371d483a9ffd37d7bee6ceaa",
       "step": null,
       "style": "IPY_MODEL_b0c5ac266ca84bd1b43593e233e0211f"
      }
     },
     "d2bb4cb0f8e940baa1e00d7d335c1b9e": {
      "model_module": "@jupyter-widgets/base",
      "model_module_version": "1.1.0",
      "model_name": "LayoutModel",
      "state": {
       "width": "auto"
      }
     },
     "d2cd9a2e3b1649bc92d5c57f7bcbe675": {
      "model_module": "@jupyter-widgets/controls",
      "model_module_version": "1.4.0",
      "model_name": "DescriptionStyleModel",
      "state": {
       "description_width": ""
      }
     },
     "d2dbaf1af74e4d469c277b5150aac5d1": {
      "model_module": "@jupyter-widgets/base",
      "model_module_version": "1.1.0",
      "model_name": "LayoutModel",
      "state": {}
     },
     "d302b06e0c3f466793716e09c97bfd47": {
      "model_module": "@jupyter-widgets/controls",
      "model_module_version": "1.4.0",
      "model_name": "ButtonModel",
      "state": {
       "button_style": "danger",
       "description": "Remove",
       "layout": "IPY_MODEL_d2bb4cb0f8e940baa1e00d7d335c1b9e",
       "style": "IPY_MODEL_956f1c0d0fa2439d9062d3d05bb222e5"
      }
     },
     "d30cd8099fe94c7193b675bfb31a27c8": {
      "model_module": "@jupyter-widgets/controls",
      "model_module_version": "1.4.0",
      "model_name": "HBoxModel",
      "state": {
       "children": [
        "IPY_MODEL_bccf9521785749449c135aac95d83db8",
        "IPY_MODEL_f646cdbcf1c7446c8a9e6cbfb23374da",
        "IPY_MODEL_031e42e3fef046b69f69354ef05751ef"
       ],
       "layout": "IPY_MODEL_31fa12ef98cf4541ae045d70c345b29c"
      }
     },
     "d31a1ec6f32d4f4596b8351662e15c09": {
      "model_module": "@jupyter-widgets/base",
      "model_module_version": "1.1.0",
      "model_name": "LayoutModel",
      "state": {
       "height": "40px",
       "min_width": "50px",
       "width": "10%"
      }
     },
     "d342edbd073041b29ab9f5efffcd6c6d": {
      "model_module": "@jupyter-widgets/controls",
      "model_module_version": "1.4.0",
      "model_name": "FloatTextModel",
      "state": {
       "continuous_update": true,
       "layout": "IPY_MODEL_f36b588d8346420cb52d87d49529a434",
       "step": null,
       "style": "IPY_MODEL_9f8820332d914567893f79c4edd9acd7"
      }
     },
     "d38b5ccc4bed4d5aa6178ebc05a1ebb9": {
      "model_module": "@jupyter-widgets/base",
      "model_module_version": "1.1.0",
      "model_name": "LayoutModel",
      "state": {
       "justify_content": "center",
       "margin": "0 0 15px 0"
      }
     },
     "d3bf3eb9fc014339bfb5145e5b086531": {
      "model_module": "@jupyter-widgets/base",
      "model_module_version": "1.1.0",
      "model_name": "LayoutModel",
      "state": {}
     },
     "d3d501e8343d488c83d2a2d264c05ffd": {
      "model_module": "@jupyter-widgets/base",
      "model_module_version": "1.1.0",
      "model_name": "LayoutModel",
      "state": {
       "width": "auto"
      }
     },
     "d3daa122c91441f9a734cea90c8367f3": {
      "model_module": "@jupyter-widgets/controls",
      "model_module_version": "1.4.0",
      "model_name": "DescriptionStyleModel",
      "state": {
       "description_width": ""
      }
     },
     "d430834c80154634ad5160a9afd2e14e": {
      "model_module": "@jupyter-widgets/controls",
      "model_module_version": "1.4.0",
      "model_name": "DescriptionStyleModel",
      "state": {
       "description_width": ""
      }
     },
     "d43d891ceb0146b894460c91e2ef1384": {
      "model_module": "@jupyter-widgets/controls",
      "model_module_version": "1.4.0",
      "model_name": "DescriptionStyleModel",
      "state": {
       "description_width": ""
      }
     },
     "d483ce77ee2a407d8b2b7b45992e5646": {
      "model_module": "@jupyter-widgets/base",
      "model_module_version": "1.1.0",
      "model_name": "LayoutModel",
      "state": {}
     },
     "d4ac807f9a624a1dab37e29df62b6bc6": {
      "model_module": "@jupyter-widgets/controls",
      "model_module_version": "1.4.0",
      "model_name": "ButtonStyleModel",
      "state": {}
     },
     "d4ccd3872894485082cd73b3f9045df1": {
      "model_module": "@jupyter-widgets/base",
      "model_module_version": "1.1.0",
      "model_name": "LayoutModel",
      "state": {}
     },
     "d4d48003137246338c20e6a43f671d68": {
      "model_module": "@jupyter-widgets/controls",
      "model_module_version": "1.4.0",
      "model_name": "DescriptionStyleModel",
      "state": {
       "description_width": ""
      }
     },
     "d4ddec6e027c4dc9a27ca70cc5836c75": {
      "model_module": "@jupyter-widgets/controls",
      "model_module_version": "1.4.0",
      "model_name": "HBoxModel",
      "state": {
       "children": [
        "IPY_MODEL_01d1a8587eb247909c03e67fd2e50c0a",
        "IPY_MODEL_1ae57acc6a6e43dca0fdf6771398afc7",
        "IPY_MODEL_f321bc1a4ee044e3909508acd208f1be"
       ],
       "layout": "IPY_MODEL_1e26e2e3fa2c4e8d8e4684f58e063c30"
      }
     },
     "d4f580e3e4f8432683d0257c96c990ef": {
      "model_module": "@jupyter-widgets/controls",
      "model_module_version": "1.4.0",
      "model_name": "ButtonStyleModel",
      "state": {}
     },
     "d506969a4fe1493cba15fb535395d74a": {
      "model_module": "@jupyter-widgets/base",
      "model_module_version": "1.1.0",
      "model_name": "LayoutModel",
      "state": {
       "padding": "0px 0px 10px 0px"
      }
     },
     "d53480737bb4438e905fc5da5f8d74ce": {
      "model_module": "@jupyter-widgets/controls",
      "model_module_version": "1.4.0",
      "model_name": "DescriptionStyleModel",
      "state": {
       "description_width": ""
      }
     },
     "d5bd8eadd93040c1a19fe924c1af0d8b": {
      "model_module": "@jupyter-widgets/controls",
      "model_module_version": "1.4.0",
      "model_name": "AccordionModel",
      "state": {
       "_titles": {
        "0": "Load",
        "1": "Save"
       },
       "children": [
        "IPY_MODEL_5ad22c56e70f4419980d1b61e48c6407",
        "IPY_MODEL_4dc703e2d28240ddaec2b4eb1a23aec7"
       ],
       "layout": "IPY_MODEL_5dbfe8180f5c4ddeb17f6884d48c163b"
      }
     },
     "d5c54cec94274f4c8fd1a8ca31d9ab0c": {
      "model_module": "@jupyter-widgets/base",
      "model_module_version": "1.1.0",
      "model_name": "LayoutModel",
      "state": {}
     },
     "d5eb2654dd2d4fcfad56150ea5c97835": {
      "model_module": "@jupyter-widgets/controls",
      "model_module_version": "1.4.0",
      "model_name": "ButtonStyleModel",
      "state": {}
     },
     "d611a218b7e94ac2bfaefb7fdd08b4f9": {
      "model_module": "@jupyter-widgets/controls",
      "model_module_version": "1.4.0",
      "model_name": "LabelModel",
      "state": {
       "layout": "IPY_MODEL_5e09c861b3674f2aacb84f38095ccb4b",
       "style": "IPY_MODEL_9300789abe3147e3a8e3f57ee1a6f162",
       "value": "Behind/In-Front :"
      }
     },
     "d6187bea71ba451097b22285ec99139a": {
      "model_module": "@jupyter-widgets/controls",
      "model_module_version": "1.4.0",
      "model_name": "ButtonStyleModel",
      "state": {}
     },
     "d646125516ff48378b7a167a8c67815f": {
      "model_module": "@jupyter-widgets/controls",
      "model_module_version": "1.4.0",
      "model_name": "HBoxModel",
      "state": {
       "children": [
        "IPY_MODEL_4f9bc8600f494381a39d2356f4234c96",
        "IPY_MODEL_5014cbd2678847838bcdfe9227370a18",
        "IPY_MODEL_6951d414614e4833bde63cbb9efa8bb8",
        "IPY_MODEL_f9e9254dd14e4eccb7a32e2e62afa8bf"
       ],
       "layout": "IPY_MODEL_0698aedb34e347b9a89ad2c140436983"
      }
     },
     "d6528e7761704a5fb7fc88971ea38782": {
      "model_module": "@jupyter-widgets/controls",
      "model_module_version": "1.4.0",
      "model_name": "HTMLModel",
      "state": {
       "layout": "IPY_MODEL_75e83216ef554219a279cc654b97c97a",
       "style": "IPY_MODEL_cbd571fb24b8486c8c60f3ebcfaa7ae8",
       "value": "<font size=3 style='justify-content: center;'>SUID : </font>"
      }
     },
     "d6d7d61b522542da8144ff6af65e9ca7": {
      "model_module": "@jupyter-widgets/controls",
      "model_module_version": "1.4.0",
      "model_name": "HTMLModel",
      "state": {
       "layout": "IPY_MODEL_2a0375ebb51840a3bb5a809bd8f99156",
       "style": "IPY_MODEL_e3fcff35e0404dad95811eafdc9184d3",
       "value": "<font size=3 style='justify-content: center;'>edgelength_mean : </font>"
      }
     },
     "d6ff1066ab3a4a04ac2f07a1ae8b8bf3": {
      "model_module": "@jupyter-widgets/controls",
      "model_module_version": "1.4.0",
      "model_name": "DescriptionStyleModel",
      "state": {
       "description_width": ""
      }
     },
     "d72cac4b46064ecdbf956b3851b63d11": {
      "model_module": "@jupyter-widgets/base",
      "model_module_version": "1.1.0",
      "model_name": "LayoutModel",
      "state": {}
     },
     "d73d07c0c12e4ffabc15189135127508": {
      "model_module": "@jupyter-widgets/controls",
      "model_module_version": "1.4.0",
      "model_name": "DescriptionStyleModel",
      "state": {
       "description_width": ""
      }
     },
     "d75075e71a194f82b369750fa1778af2": {
      "model_module": "@jupyter-widgets/base",
      "model_module_version": "1.1.0",
      "model_name": "LayoutModel",
      "state": {}
     },
     "d75d7ad5c042458f8b4b7ca00cd35a05": {
      "model_module": "@jupyter-widgets/controls",
      "model_module_version": "1.4.0",
      "model_name": "ButtonStyleModel",
      "state": {}
     },
     "d76ef5181b3a4a10b66224bd0651f489": {
      "model_module": "@jupyter-widgets/controls",
      "model_module_version": "1.4.0",
      "model_name": "ButtonStyleModel",
      "state": {}
     },
     "d79e4fcf0ba142f5a29da19a330548a0": {
      "model_module": "@jupyter-widgets/controls",
      "model_module_version": "1.4.0",
      "model_name": "ButtonStyleModel",
      "state": {}
     },
     "d7a16186f26941d8871df9f9fa9d6ea6": {
      "model_module": "@jupyter-widgets/base",
      "model_module_version": "1.1.0",
      "model_name": "LayoutModel",
      "state": {}
     },
     "d7cff2c8467647449d43bbbca04e8f20": {
      "model_module": "@jupyter-widgets/base",
      "model_module_version": "1.1.0",
      "model_name": "LayoutModel",
      "state": {}
     },
     "d7e88b716f4645df9be835b95865655f": {
      "model_module": "@jupyter-widgets/controls",
      "model_module_version": "1.4.0",
      "model_name": "ButtonModel",
      "state": {
       "button_style": "danger",
       "description": "Remove",
       "layout": "IPY_MODEL_96e762cb4cab4298b90586ea010ca7c8",
       "style": "IPY_MODEL_9b63eaaefaac4a20b12e6560d7aa8e4d"
      }
     },
     "d879c9bf3cac43eab56ccf784d2e97a0": {
      "model_module": "@jupyter-widgets/controls",
      "model_module_version": "1.4.0",
      "model_name": "HBoxModel",
      "state": {
       "children": [
        "IPY_MODEL_794b8fa53f074a6ab94729eeb9358a12",
        "IPY_MODEL_d25ebcd9c1a94297be1fb2d4ce1ae08d",
        "IPY_MODEL_fe55cd2e8f374eb1b63d7e07784fe291",
        "IPY_MODEL_a7ff8558970c4e74bb6ff93c044101f5"
       ],
       "layout": "IPY_MODEL_c5d8ba3f81bd46c49e0eac4889b39850"
      }
     },
     "d8838c74c2e545878cad75d7dacd6606": {
      "model_module": "@jupyter-widgets/controls",
      "model_module_version": "1.4.0",
      "model_name": "SliderStyleModel",
      "state": {
       "description_width": ""
      }
     },
     "d927f41ede9a4f1c9147417971f472c5": {
      "model_module": "@jupyter-widgets/controls",
      "model_module_version": "1.4.0",
      "model_name": "TextModel",
      "state": {
       "description": "Username :",
       "layout": "IPY_MODEL_169870cb01af4ede86b354da02acc68b",
       "style": "IPY_MODEL_a1a4057c35d44f50b7683798fbbeda37"
      }
     },
     "d994d7cbc6494cd28d34f3d2c9180a99": {
      "model_module": "@jupyter-widgets/base",
      "model_module_version": "1.1.0",
      "model_name": "LayoutModel",
      "state": {}
     },
     "d9b69a7aa97e43889c458eaa26fa7386": {
      "model_module": "@jupyter-widgets/base",
      "model_module_version": "1.1.0",
      "model_name": "LayoutModel",
      "state": {}
     },
     "da51026f3a12445faf0ee331a1b452be": {
      "model_module": "@jupyter-widgets/controls",
      "model_module_version": "1.4.0",
      "model_name": "LabelModel",
      "state": {
       "layout": "IPY_MODEL_b17688462b1e4a38aaefe565ad1ee608",
       "style": "IPY_MODEL_79f28f884057476e98d7409e2feb8c9e",
       "value": "Start"
      }
     },
     "dab384c3e015497b90b025100b8499e5": {
      "model_module": "@jupyter-widgets/base",
      "model_module_version": "1.1.0",
      "model_name": "LayoutModel",
      "state": {}
     },
     "dadc1b7c04f14cde976f002edddacace": {
      "model_module": "@jupyter-widgets/controls",
      "model_module_version": "1.4.0",
      "model_name": "ButtonModel",
      "state": {
       "button_style": "danger",
       "description": "Remove",
       "layout": "IPY_MODEL_2d6fd0a9f3c34ed69f7164902ad65adf",
       "style": "IPY_MODEL_e553e553b2d24125be4543061949fe62"
      }
     },
     "dae47952a25747539c550b6668233ac4": {
      "model_module": "@jupyter-widgets/controls",
      "model_module_version": "1.4.0",
      "model_name": "FloatTextModel",
      "state": {
       "continuous_update": true,
       "layout": "IPY_MODEL_e44adbece7724397aea3e427da0cc256",
       "step": null,
       "style": "IPY_MODEL_0e46ba281dfe4adbbe42def850daa229"
      }
     },
     "db2c744d52884e19a16e177dd654130a": {
      "model_module": "@jupyter-widgets/base",
      "model_module_version": "1.1.0",
      "model_name": "LayoutModel",
      "state": {
       "padding": "10px 0px 0px 0px"
      }
     },
     "db3412b22654453a8c9ad93b42f618a0": {
      "model_module": "@jupyter-widgets/controls",
      "model_module_version": "1.4.0",
      "model_name": "ButtonStyleModel",
      "state": {}
     },
     "db502f9dae5640399e0a407de10b25bb": {
      "model_module": "@jupyter-widgets/controls",
      "model_module_version": "1.4.0",
      "model_name": "ButtonModel",
      "state": {
       "button_style": "primary",
       "description": "Download",
       "layout": "IPY_MODEL_04b53b24c5104ac2bd367d77a592abda",
       "style": "IPY_MODEL_587c0bee062842ffbeec04e92f127bb5"
      }
     },
     "db75f07180544db5a46dcf67a171c746": {
      "model_module": "@jupyter-widgets/base",
      "model_module_version": "1.1.0",
      "model_name": "LayoutModel",
      "state": {
       "margin": "10px 0 0 0",
       "width": "auto"
      }
     },
     "db82d1647e3c4fa4a01f49cca453a23e": {
      "model_module": "@jupyter-widgets/controls",
      "model_module_version": "1.4.0",
      "model_name": "LabelModel",
      "state": {
       "layout": "IPY_MODEL_7c4ce58fbce24fc191904d3946754e9a",
       "style": "IPY_MODEL_e3b5787b4b604478812d5ff9eb81cb1a",
       "value": "Size :"
      }
     },
     "db8e8d4b812d4a30bcd3e688621d2b24": {
      "model_module": "@jupyter-widgets/controls",
      "model_module_version": "1.4.0",
      "model_name": "DescriptionStyleModel",
      "state": {
       "description_width": ""
      }
     },
     "db96402334e442ca80b2fa6608dfe87b": {
      "model_module": "@jupyter-widgets/base",
      "model_module_version": "1.1.0",
      "model_name": "LayoutModel",
      "state": {}
     },
     "dba46db67bb3466498cd9040413460b9": {
      "model_module": "@jupyter-widgets/base",
      "model_module_version": "1.1.0",
      "model_name": "LayoutModel",
      "state": {
       "visibility": "hidden"
      }
     },
     "dc1c890891eb44d3a51f01c0c4e1a804": {
      "model_module": "@jupyter-widgets/controls",
      "model_module_version": "1.4.0",
      "model_name": "FloatTextModel",
      "state": {
       "continuous_update": true,
       "layout": "IPY_MODEL_41db3b9fb56347ddb9017e1aa06082c7",
       "step": null,
       "style": "IPY_MODEL_2e1a05be9c0a4713aede15a8d4b0d91b"
      }
     },
     "dc424c47c8bc4a34a46270268348000d": {
      "model_module": "@jupyter-widgets/controls",
      "model_module_version": "1.4.0",
      "model_name": "VBoxModel",
      "state": {
       "children": [
        "IPY_MODEL_b84655cce8f142f3afc9ab4e85df455b",
        "IPY_MODEL_5573ee8f115d4728a278cf47b5776967",
        "IPY_MODEL_10c8888f5c5a4e9f9667d90317838804",
        "IPY_MODEL_1d28367fe1dd4324afc08a689a24afaf",
        "IPY_MODEL_d17373a982ac4d4faaa7e831cf7addec",
        "IPY_MODEL_283a9ddaed3d456089cd51971687d7c2"
       ],
       "layout": "IPY_MODEL_21c858151eaf47b997fc897d5061d08c"
      }
     },
     "dc496196b7dd4c3ca7eb54204923414e": {
      "model_module": "@jupyter-widgets/base",
      "model_module_version": "1.1.0",
      "model_name": "LayoutModel",
      "state": {}
     },
     "dc7fdd97804347519673741e075c6c75": {
      "model_module": "@jupyter-widgets/base",
      "model_module_version": "1.1.0",
      "model_name": "LayoutModel",
      "state": {
       "padding": "10px 0px 0px 0px"
      }
     },
     "dca5ea25b46e47648c5c399321465c64": {
      "model_module": "@jupyter-widgets/controls",
      "model_module_version": "1.4.0",
      "model_name": "HTMLModel",
      "state": {
       "layout": "IPY_MODEL_621a6ed1956a4fdaa9665c1b6cb45c03",
       "style": "IPY_MODEL_1d95030e13624195b84ce85f1871ff0e",
       "value": "<h5>Variable   &nbsp</h5> "
      }
     },
     "dcd9f3c00bc04e2db931c5b6ed5b0c47": {
      "model_module": "@jupyter-widgets/controls",
      "model_module_version": "1.4.0",
      "model_name": "TextModel",
      "state": {
       "layout": "IPY_MODEL_b7048403c4fd4c0ba42e085ca6305ef5",
       "style": "IPY_MODEL_d73d07c0c12e4ffabc15189135127508"
      }
     },
     "dcdcaa5012664455995b09034f82902e": {
      "model_module": "@jupyter-widgets/base",
      "model_module_version": "1.1.0",
      "model_name": "LayoutModel",
      "state": {
       "width": "auto"
      }
     },
     "dce7a0fc26e54e6f8ddee30182e970fa": {
      "model_module": "@jupyter-widgets/controls",
      "model_module_version": "1.4.0",
      "model_name": "HTMLModel",
      "state": {
       "layout": "IPY_MODEL_42f8ea0339194107aadc71c69402f6c9",
       "style": "IPY_MODEL_4035f6c4767d4e648cdb60db1a20c3fb",
       "value": "<h1 class='text-center text-success' style='margin:0'>Saved!</h1>"
      }
     },
     "dd099b886af54212b3e99a4277a7c333": {
      "model_module": "@jupyter-widgets/controls",
      "model_module_version": "1.4.0",
      "model_name": "ButtonModel",
      "state": {
       "button_style": "success",
       "description": "Save",
       "layout": "IPY_MODEL_b9eb71dff4894e9097f74e0cffa3cd09",
       "style": "IPY_MODEL_a8bb443c500b49d8b24f7209378b2254"
      }
     },
     "dd279f7d02a346b7a11e39d67694fbcb": {
      "model_module": "@jupyter-widgets/controls",
      "model_module_version": "1.4.0",
      "model_name": "ToggleButtonModel",
      "state": {
       "icon": "eye",
       "layout": "IPY_MODEL_90b8a7ecdfbc41949f32ed9733c29c01",
       "style": "IPY_MODEL_aebbf87c1cc14d64833340aa512cc7a5"
      }
     },
     "dda4ace8296544b8b5ec015a75f8c762": {
      "model_module": "@jupyter-widgets/controls",
      "model_module_version": "1.4.0",
      "model_name": "DescriptionStyleModel",
      "state": {
       "description_width": ""
      }
     },
     "ddedeb3d69924f29965e58b6ed26d17d": {
      "model_module": "@jupyter-widgets/controls",
      "model_module_version": "1.4.0",
      "model_name": "DescriptionStyleModel",
      "state": {
       "description_width": ""
      }
     },
     "ddef2ed40a04429aa5d78a2410b2fc15": {
      "model_module": "@jupyter-widgets/controls",
      "model_module_version": "1.4.0",
      "model_name": "HTMLModel",
      "state": {
       "layout": "IPY_MODEL_4c66857bc731433a9c0cf2ffba02f275",
       "style": "IPY_MODEL_4fdf502f65a341399bb951cc343daf55",
       "value": "<h4 style='color:purple'>Edge :</h4>"
      }
     },
     "de28eb1eb7024d16b14772f442282d1b": {
      "model_module": "@jupyter-widgets/controls",
      "model_module_version": "1.4.0",
      "model_name": "HBoxModel",
      "state": {
       "children": [
        "IPY_MODEL_1b1982554ec84724ab29bd038091a02c",
        "IPY_MODEL_d342edbd073041b29ab9f5efffcd6c6d",
        "IPY_MODEL_cc06ca95dc6e433193904d05f811baa2"
       ],
       "layout": "IPY_MODEL_3468d28c4cee402db0c3cceeefca47a2"
      }
     },
     "de2c9105e52342faa02deb061248d53b": {
      "model_module": "@jupyter-widgets/base",
      "model_module_version": "1.1.0",
      "model_name": "LayoutModel",
      "state": {
       "height": "40px",
       "min_width": "50px",
       "width": "10%"
      }
     },
     "de51ed0a0e624efe9e8070d3cac92b2b": {
      "model_module": "@jupyter-widgets/controls",
      "model_module_version": "1.4.0",
      "model_name": "SliderStyleModel",
      "state": {
       "description_width": ""
      }
     },
     "de5dbae7fdd142f1a3601a2732240b6d": {
      "model_module": "@jupyter-widgets/controls",
      "model_module_version": "1.4.0",
      "model_name": "VBoxModel",
      "state": {
       "children": [
        "IPY_MODEL_51f25db2db834860bcdd5c20586a0d25",
        "IPY_MODEL_6109117499894bbba7523450d7843e51",
        "IPY_MODEL_f89940a055de45e980ce890fa954c543",
        "IPY_MODEL_efc7c90c018d45ff817957070d80e15e",
        "IPY_MODEL_09312bdc169b408b83e194eebf9d331b",
        "IPY_MODEL_7020b77caac54a0b92d4e45e45cf9f35",
        "IPY_MODEL_a5c34fc2afec4d1886415a904cd31a8a",
        "IPY_MODEL_ddef2ed40a04429aa5d78a2410b2fc15",
        "IPY_MODEL_f2d153be26b94e788f9aebb79d45a15d",
        "IPY_MODEL_be4b6d088bc842fea4546214f0440618",
        "IPY_MODEL_ed829169f87a42619c46aceef4f57519"
       ],
       "layout": "IPY_MODEL_b81211c6fc904e80a7a0bf0f740220cd"
      }
     },
     "de77ed68575345f292ca6d75eba9db75": {
      "model_module": "@jupyter-widgets/controls",
      "model_module_version": "1.4.0",
      "model_name": "HBoxModel",
      "state": {
       "children": [
        "IPY_MODEL_f41af4ea025344608f36811eee1e08f6",
        "IPY_MODEL_a5338a88ace84a6da873c9515248bfca",
        "IPY_MODEL_a8cfd27589db4319a4d2a2ec8ce3f5eb"
       ],
       "layout": "IPY_MODEL_db2c744d52884e19a16e177dd654130a"
      }
     },
     "ded16a10329b434f8177abd88bb42da8": {
      "model_module": "@jupyter-widgets/controls",
      "model_module_version": "1.4.0",
      "model_name": "ButtonStyleModel",
      "state": {}
     },
     "df02a4f97109445c9f9d8367087042d8": {
      "model_module": "@jupyter-widgets/base",
      "model_module_version": "1.1.0",
      "model_name": "LayoutModel",
      "state": {}
     },
     "df0b8f6d4d5e47a2b86bb2d576f94535": {
      "model_module": "@jupyter-widgets/controls",
      "model_module_version": "1.4.0",
      "model_name": "VBoxModel",
      "state": {
       "children": [
        "IPY_MODEL_4868d37aa46a4f46a6050edea6e02d37",
        "IPY_MODEL_b5a33df7d8714673af7dc49b1c6bf84f",
        "IPY_MODEL_c12be8cb8ef341bfaf7f30255ace4c97",
        "IPY_MODEL_24f353d5509844f7a966381412980469",
        "IPY_MODEL_ceec12db768a4476aaea8b7e47c24d77",
        "IPY_MODEL_09f4f6666ba945fe8aec9b16d5109f2d"
       ],
       "layout": "IPY_MODEL_7aa573f8fa7b483abc201e5c2d789f89"
      }
     },
     "df11dd4778e44c2292d2cd09f252d8b7": {
      "model_module": "@jupyter-widgets/controls",
      "model_module_version": "1.4.0",
      "model_name": "DescriptionStyleModel",
      "state": {
       "description_width": ""
      }
     },
     "df32fd0107f740759e9312f0fec427cd": {
      "model_module": "@jupyter-widgets/controls",
      "model_module_version": "1.4.0",
      "model_name": "ButtonModel",
      "state": {
       "button_style": "primary",
       "description": "Undo",
       "disabled": true,
       "layout": "IPY_MODEL_49aed32e6d20458c9bf8cea266cf3314",
       "style": "IPY_MODEL_f58553f516cb41ccb86997f08e2f9ca4"
      }
     },
     "df7fd4abc9074d97a579840eb3433f84": {
      "model_module": "@jupyter-widgets/controls",
      "model_module_version": "1.4.0",
      "model_name": "HBoxModel",
      "state": {
       "children": [
        "IPY_MODEL_57e22288ccc847c5aac396bdfcecba8d",
        "IPY_MODEL_98ae9af0647147d99f367cdd72dc039d"
       ],
       "layout": "IPY_MODEL_af36c76c217f437a8b29ce04ec923b65"
      }
     },
     "df9435f255d94753a43e6f4b49c99760": {
      "model_module": "@jupyter-widgets/controls",
      "model_module_version": "1.4.0",
      "model_name": "DescriptionStyleModel",
      "state": {
       "description_width": ""
      }
     },
     "dfa7d132d85d46ca842f5685190a0302": {
      "model_module": "@jupyter-widgets/base",
      "model_module_version": "1.1.0",
      "model_name": "LayoutModel",
      "state": {
       "width": "auto"
      }
     },
     "dfb13e45094345818ac0015b4c45d4ac": {
      "model_module": "@jupyter-widgets/controls",
      "model_module_version": "1.4.0",
      "model_name": "DescriptionStyleModel",
      "state": {
       "description_width": ""
      }
     },
     "dfe225dddbb2411c8ce310979ac45f47": {
      "model_module": "@jupyter-widgets/controls",
      "model_module_version": "1.4.0",
      "model_name": "ButtonModel",
      "state": {
       "button_style": "success",
       "description": "Save",
       "layout": "IPY_MODEL_7703b6cac12e43ff9430ed1c04cfcf10",
       "style": "IPY_MODEL_9b9716f500e5451abae5b8eaac6910b8"
      }
     },
     "dffbcf9357764b01b6b323e0da0b6fca": {
      "model_module": "@jupyter-widgets/controls",
      "model_module_version": "1.4.0",
      "model_name": "HBoxModel",
      "state": {
       "children": [
        "IPY_MODEL_40ef3a2b022c45d69efd9a90e3523232",
        "IPY_MODEL_c3b3ecf3d1704469b54468b2ce3c490f",
        "IPY_MODEL_3bb09a071c7140a79ae8a2659d6d4707"
       ],
       "layout": "IPY_MODEL_17b18f1a93f14570a84382256688bbf6"
      }
     },
     "e00abb9279cc43f9bd57e7a969ed486a": {
      "model_module": "@jupyter-widgets/controls",
      "model_module_version": "1.4.0",
      "model_name": "LabelModel",
      "state": {
       "layout": "IPY_MODEL_9c29f82cb12745538189813de437a1d8",
       "style": "IPY_MODEL_31a585358bc3478ab6cfd0c5c361bdbb",
       "value": "Shape :"
      }
     },
     "e038d039d04648998ec71dbc48841c53": {
      "model_module": "@jupyter-widgets/controls",
      "model_module_version": "1.4.0",
      "model_name": "DescriptionStyleModel",
      "state": {
       "description_width": ""
      }
     },
     "e062345fbc6d4b1192eed049caa5f95a": {
      "model_module": "@jupyter-widgets/controls",
      "model_module_version": "1.4.0",
      "model_name": "LabelModel",
      "state": {
       "layout": "IPY_MODEL_e0dac535285f461b8f0bb59b8d3f70b0",
       "style": "IPY_MODEL_907bd51712f044ba85914bb71645971f",
       "value": "See-Through :"
      }
     },
     "e070de3c29ec45a4b0f47a216e34688b": {
      "model_module": "@jupyter-widgets/base",
      "model_module_version": "1.1.0",
      "model_name": "LayoutModel",
      "state": {
       "padding": "10px 0px 0px 0px"
      }
     },
     "e0940496d63a48058bd9f4d3e15eafc2": {
      "model_module": "@jupyter-widgets/controls",
      "model_module_version": "1.4.0",
      "model_name": "ButtonStyleModel",
      "state": {}
     },
     "e0a7648796374e5fb373baa9e0cbc949": {
      "model_module": "@jupyter-widgets/controls",
      "model_module_version": "1.4.0",
      "model_name": "DescriptionStyleModel",
      "state": {
       "description_width": ""
      }
     },
     "e0c9483f48d643f0b12f8f286d824f02": {
      "model_module": "@jupyter-widgets/controls",
      "model_module_version": "1.4.0",
      "model_name": "DescriptionStyleModel",
      "state": {
       "description_width": ""
      }
     },
     "e0dac535285f461b8f0bb59b8d3f70b0": {
      "model_module": "@jupyter-widgets/base",
      "model_module_version": "1.1.0",
      "model_name": "LayoutModel",
      "state": {}
     },
     "e0dc067dbd43499f88a7473c6332da91": {
      "model_module": "@jupyter-widgets/base",
      "model_module_version": "1.1.0",
      "model_name": "LayoutModel",
      "state": {}
     },
     "e0f39bb5b15f48619739acde2ba0d6dd": {
      "model_module": "@jupyter-widgets/base",
      "model_module_version": "1.1.0",
      "model_name": "LayoutModel",
      "state": {}
     },
     "e12e58e7316745cfa823a66d67272ae7": {
      "model_module": "@jupyter-widgets/controls",
      "model_module_version": "1.4.0",
      "model_name": "DescriptionStyleModel",
      "state": {
       "description_width": ""
      }
     },
     "e17fdb39c1d845ebbff9333c4b975c4d": {
      "model_module": "@jupyter-widgets/controls",
      "model_module_version": "1.4.0",
      "model_name": "ButtonStyleModel",
      "state": {}
     },
     "e1dda13e7d2c4c0fa98ed7ad456963fc": {
      "model_module": "@jupyter-widgets/controls",
      "model_module_version": "1.4.0",
      "model_name": "HBoxModel",
      "state": {
       "children": [
        "IPY_MODEL_0a44078b66bd4da681db665c051ac3dc",
        "IPY_MODEL_f1bf3b3cd7d449f081825384470980d6"
       ],
       "layout": "IPY_MODEL_6cb696fa1b004b8ab54870782310f439"
      }
     },
     "e20b7577fde1440e85da1aff7bc1710d": {
      "model_module": "@jupyter-widgets/controls",
      "model_module_version": "1.4.0",
      "model_name": "HBoxModel",
      "state": {
       "children": [
        "IPY_MODEL_7b7fcc5dba9a4ee48f2e6f71bb058072",
        "IPY_MODEL_259a82acab3541aeb194dc23081e2164",
        "IPY_MODEL_1ae9db95954a499e9c10eebac17c4c2b",
        "IPY_MODEL_ef5d1743d6bd4822945db0ce2871e98f"
       ],
       "layout": "IPY_MODEL_5544c5de13ec4ff891239a4adfb82c9e"
      }
     },
     "e20c519273694a0982f39422dce0cbec": {
      "model_module": "@jupyter-widgets/controls",
      "model_module_version": "1.4.0",
      "model_name": "DescriptionStyleModel",
      "state": {
       "description_width": ""
      }
     },
     "e214304c1c0a4f95a1b7c2420858ab40": {
      "model_module": "@jupyter-widgets/base",
      "model_module_version": "1.1.0",
      "model_name": "LayoutModel",
      "state": {}
     },
     "e23682d84e104105b958684932315765": {
      "model_module": "@jupyter-widgets/controls",
      "model_module_version": "1.4.0",
      "model_name": "HTMLModel",
      "state": {
       "layout": "IPY_MODEL_b8fbb5fa78844cefbcd42df24e193b3b",
       "style": "IPY_MODEL_fe20ae72751449be9b1c448d95cc9ef9",
       "value": "<font size=3 style='justify-content: center;'>Stress : </font>"
      }
     },
     "e26edeec481f447d999f998d93f6242b": {
      "model_module": "@jupyter-widgets/controls",
      "model_module_version": "1.4.0",
      "model_name": "LabelModel",
      "state": {
       "layout": "IPY_MODEL_6a64708522634e20bf55379080ea4d18",
       "style": "IPY_MODEL_f0c26a82242e48c9933bb4faaa75c5fe",
       "value": "Color :"
      }
     },
     "e277af2af7834cc88d70c01160bd4b4a": {
      "model_module": "@jupyter-widgets/controls",
      "model_module_version": "1.4.0",
      "model_name": "FloatSliderModel",
      "state": {
       "layout": "IPY_MODEL_d994d7cbc6494cd28d34f3d2c9180a99",
       "max": 1,
       "step": 0.05,
       "style": "IPY_MODEL_0354df9d89e44e03b4614b59f6082c8e",
       "value": 0.5
      }
     },
     "e2a1c6bdacde4fdda6ebbc8c50d6ec87": {
      "model_module": "@jupyter-widgets/base",
      "model_module_version": "1.1.0",
      "model_name": "LayoutModel",
      "state": {}
     },
     "e2b22dbf137e4816a710058879867148": {
      "model_module": "@jupyter-widgets/controls",
      "model_module_version": "1.4.0",
      "model_name": "ButtonModel",
      "state": {
       "button_style": "primary",
       "description": "Load",
       "layout": "IPY_MODEL_c8c1c01e908b4c7d95031ab4dca18211",
       "style": "IPY_MODEL_ee8e3c57653c417999a15a01efe6d821"
      }
     },
     "e2d69e9e5c6b4eae8571e09728a6d352": {
      "model_module": "@jupyter-widgets/controls",
      "model_module_version": "1.4.0",
      "model_name": "ButtonModel",
      "state": {
       "button_style": "danger",
       "description": "Remove",
       "layout": "IPY_MODEL_b393ba2f376a4860a575285690879a24",
       "style": "IPY_MODEL_4870b4ac31aa4db6968044df177bfa0d"
      }
     },
     "e32916a2c030434ea40d56257feb37e2": {
      "model_module": "@jupyter-widgets/base",
      "model_module_version": "1.1.0",
      "model_name": "LayoutModel",
      "state": {
       "justify_content": "center",
       "padding": "10px 0px 0px 0px"
      }
     },
     "e35daff6034444eb93904e12b092748b": {
      "model_module": "@jupyter-widgets/controls",
      "model_module_version": "1.4.0",
      "model_name": "HBoxModel",
      "state": {
       "children": [
        "IPY_MODEL_983d4be422a247258cef581125c2567d",
        "IPY_MODEL_4cee7d4fa7104099b7aaba050e4f36f6",
        "IPY_MODEL_36c76824cbc84f91ac69d9a1310b8e7e"
       ],
       "layout": "IPY_MODEL_5846523e8da64ca796716aba77b3e72f"
      }
     },
     "e36aee04f5cb42c68cb0e0c41361756b": {
      "model_module": "@jupyter-widgets/base",
      "model_module_version": "1.1.0",
      "model_name": "LayoutModel",
      "state": {}
     },
     "e36d94e35fa844c683c6f081510ad55f": {
      "model_module": "@jupyter-widgets/controls",
      "model_module_version": "1.4.0",
      "model_name": "HTMLModel",
      "state": {
       "layout": "IPY_MODEL_94862af073b54d8abbf95a2c16cdd890",
       "style": "IPY_MODEL_491440cfa7304719a0fcccfd92a882a9",
       "value": "<h4 style='color: purple' >Edges</h4>"
      }
     },
     "e3b5787b4b604478812d5ff9eb81cb1a": {
      "model_module": "@jupyter-widgets/controls",
      "model_module_version": "1.4.0",
      "model_name": "DescriptionStyleModel",
      "state": {
       "description_width": ""
      }
     },
     "e3fcff35e0404dad95811eafdc9184d3": {
      "model_module": "@jupyter-widgets/controls",
      "model_module_version": "1.4.0",
      "model_name": "DescriptionStyleModel",
      "state": {
       "description_width": ""
      }
     },
     "e43d7e84371d483a9ffd37d7bee6ceaa": {
      "model_module": "@jupyter-widgets/base",
      "model_module_version": "1.1.0",
      "model_name": "LayoutModel",
      "state": {}
     },
     "e44adbece7724397aea3e427da0cc256": {
      "model_module": "@jupyter-widgets/base",
      "model_module_version": "1.1.0",
      "model_name": "LayoutModel",
      "state": {}
     },
     "e4811f7799034b7885e25a3fa87c5cba": {
      "model_module": "@jupyter-widgets/controls",
      "model_module_version": "1.4.0",
      "model_name": "TextModel",
      "state": {
       "layout": "IPY_MODEL_6487d4db8895466ba235c637ef3e8bba",
       "style": "IPY_MODEL_61a3bb529157412b9bbf1867454f6de8"
      }
     },
     "e498c89b2ae94dae98acabf4986439e0": {
      "model_module": "@jupyter-widgets/controls",
      "model_module_version": "1.4.0",
      "model_name": "ToggleButtonsModel",
      "state": {
       "_options_labels": [
        "Python",
        "HTML"
       ],
       "button_style": "danger",
       "icons": [],
       "index": 0,
       "layout": "IPY_MODEL_d38b5ccc4bed4d5aa6178ebc05a1ebb9",
       "style": "IPY_MODEL_aabaa1675aac4a0e83b4af2fbc6103c4",
       "tooltips": []
      }
     },
     "e4a3d683626d4f278b4a14cbd2f6db9e": {
      "model_module": "@jupyter-widgets/controls",
      "model_module_version": "1.4.0",
      "model_name": "ButtonStyleModel",
      "state": {}
     },
     "e4b6be8c968a448ba5a25c4314e51561": {
      "model_module": "@jupyter-widgets/controls",
      "model_module_version": "1.4.0",
      "model_name": "VBoxModel",
      "state": {
       "children": [
        "IPY_MODEL_7c12e2e40d2d46418a158131d1cb0f61",
        "IPY_MODEL_58e64da4e4934103ae60d40ee46d865d",
        "IPY_MODEL_8f829c12de6c429486f32d7028375d96",
        "IPY_MODEL_47122d9cdc5b4c64a6a8a4836f285317"
       ],
       "layout": "IPY_MODEL_eb2f319e3eb047d099024836dc9480f2"
      }
     },
     "e4be05415cca4cea8709656e66f367ba": {
      "model_module": "@jupyter-widgets/base",
      "model_module_version": "1.1.0",
      "model_name": "LayoutModel",
      "state": {}
     },
     "e4ccd482f897459084608ef28aafe3e6": {
      "model_module": "@jupyter-widgets/base",
      "model_module_version": "1.1.0",
      "model_name": "LayoutModel",
      "state": {}
     },
     "e4dc529d87164a0a9fcc909ac01285be": {
      "model_module": "@jupyter-widgets/controls",
      "model_module_version": "1.4.0",
      "model_name": "HTMLModel",
      "state": {
       "layout": "IPY_MODEL_6ed80ad0f79a4790801f9698f279485e",
       "style": "IPY_MODEL_a5113a68b40147a9b7f7aa5cbc0dc5df",
       "value": "<h5>Name  &nbsp</h5> "
      }
     },
     "e4eaaa43dfa14890be2563c3a3ae22df": {
      "model_module": "@jupyter-widgets/controls",
      "model_module_version": "1.4.0",
      "model_name": "ButtonModel",
      "state": {
       "button_style": "info",
       "icon": "refresh",
       "layout": "IPY_MODEL_5978c1e853d140e7ad4bd6206500bff4",
       "style": "IPY_MODEL_db3412b22654453a8c9ad93b42f618a0"
      }
     },
     "e54db1d32b534a079bf9b4c05d88d566": {
      "model_module": "@jupyter-widgets/base",
      "model_module_version": "1.1.0",
      "model_name": "LayoutModel",
      "state": {}
     },
     "e553e553b2d24125be4543061949fe62": {
      "model_module": "@jupyter-widgets/controls",
      "model_module_version": "1.4.0",
      "model_name": "ButtonStyleModel",
      "state": {}
     },
     "e5ab2511db7b4e4f9224141b4845dcfe": {
      "model_module": "@jupyter-widgets/controls",
      "model_module_version": "1.4.0",
      "model_name": "HTMLModel",
      "state": {
       "layout": "IPY_MODEL_56881d5795104e4fb114e7b25950ca03",
       "style": "IPY_MODEL_04e209451168459e938a4b20eae8631a",
       "value": "<font size=3 style='justify-content: center;'>BetweennessCentrality : </font>"
      }
     },
     "e5e7f54d40df4b4982dd46eaf132eb94": {
      "model_module": "@jupyter-widgets/base",
      "model_module_version": "1.1.0",
      "model_name": "LayoutModel",
      "state": {}
     },
     "e5edb209215c4ed49c2e619cc5d7c71a": {
      "model_module": "@jupyter-widgets/controls",
      "model_module_version": "1.4.0",
      "model_name": "ButtonStyleModel",
      "state": {}
     },
     "e606a5a7cea7403888f7ec5272a49148": {
      "model_module": "@jupyter-widgets/controls",
      "model_module_version": "1.4.0",
      "model_name": "LabelModel",
      "state": {
       "layout": "IPY_MODEL_e0dc067dbd43499f88a7473c6332da91",
       "style": "IPY_MODEL_c5ddc463b70a4338b09474b79f9da990",
       "value": "    "
      }
     },
     "e6217162aaa447919f9a4d5ade2405c8": {
      "model_module": "@jupyter-widgets/base",
      "model_module_version": "1.1.0",
      "model_name": "LayoutModel",
      "state": {}
     },
     "e6346b278e8c4d62beab795788e5952f": {
      "model_module": "@jupyter-widgets/controls",
      "model_module_version": "1.4.0",
      "model_name": "DescriptionStyleModel",
      "state": {
       "description_width": ""
      }
     },
     "e66bfd4dd777405bae9417e28af3da21": {
      "model_module": "@jupyter-widgets/controls",
      "model_module_version": "1.4.0",
      "model_name": "DescriptionStyleModel",
      "state": {
       "description_width": ""
      }
     },
     "e6ad2630dff04eb1a142879819f55520": {
      "model_module": "@jupyter-widgets/base",
      "model_module_version": "1.1.0",
      "model_name": "LayoutModel",
      "state": {}
     },
     "e6e7dd70519c4448ba174b4fd080ba65": {
      "model_module": "@jupyter-widgets/base",
      "model_module_version": "1.1.0",
      "model_name": "LayoutModel",
      "state": {}
     },
     "e6fdeb451c4a4b12be478a4f3919614c": {
      "model_module": "@jupyter-widgets/controls",
      "model_module_version": "1.4.0",
      "model_name": "TextModel",
      "state": {
       "layout": "IPY_MODEL_cca953bc3e114dcc9f21bec317e0f9b2",
       "style": "IPY_MODEL_5c1192661c2d44309690a0b07ab342d9"
      }
     },
     "e72b3544744143a6bbfa7b1c4141abc6": {
      "model_module": "@jupyter-widgets/controls",
      "model_module_version": "1.4.0",
      "model_name": "HTMLModel",
      "state": {
       "layout": "IPY_MODEL_4735643e2aaf404abe1cef784458b46c",
       "style": "IPY_MODEL_47efaf1d15bc4bc8ac3356bfb769c650",
       "value": "<h5>Fill out the info below to upload data to <a href='http://www.ndexbio.org/'>NDEx</a></h5>"
      }
     },
     "e741d7023d1646fcb8090535751c94b5": {
      "model_module": "@jupyter-widgets/base",
      "model_module_version": "1.1.0",
      "model_name": "LayoutModel",
      "state": {
       "width": "auto"
      }
     },
     "e759ca830bac40968c53e8afdf0a5135": {
      "model_module": "@jupyter-widgets/controls",
      "model_module_version": "1.4.0",
      "model_name": "ToggleButtonsModel",
      "state": {
       "_options_labels": [
        "Python",
        "HTML"
       ],
       "button_style": "success",
       "icons": [],
       "index": 1,
       "layout": "IPY_MODEL_669fe33da7a44237aea7bdf36bd4f7cd",
       "style": "IPY_MODEL_90220f725b494a69989c96861f8a256c",
       "tooltips": []
      }
     },
     "e773f165698c4d5ebabc6cde06946c80": {
      "model_module": "@jupyter-widgets/controls",
      "model_module_version": "1.4.0",
      "model_name": "VBoxModel",
      "state": {
       "children": [
        "IPY_MODEL_d927f41ede9a4f1c9147417971f472c5",
        "IPY_MODEL_e857985d53be4a80b1b8faba7ab0ab1b"
       ],
       "layout": "IPY_MODEL_aec41963c572494ea6dc25100a27c9c5"
      }
     },
     "e77903822781457e9de740c3ffc44fc7": {
      "model_module": "@jupyter-widgets/controls",
      "model_module_version": "1.4.0",
      "model_name": "HBoxModel",
      "state": {
       "children": [
        "IPY_MODEL_fa7eff282c0b4572a994cc32b470fe31",
        "IPY_MODEL_524f8f1779224241bf8c4cf03941b6a1",
        "IPY_MODEL_15d2867b595c4ff98cd41b3c839183a5"
       ],
       "layout": "IPY_MODEL_c22e1893767648a6898eda189fb95d51"
      }
     },
     "e78d2e20e3c9466eb8e35fffdc70df21": {
      "model_module": "@jupyter-widgets/controls",
      "model_module_version": "1.4.0",
      "model_name": "DescriptionStyleModel",
      "state": {
       "description_width": ""
      }
     },
     "e7c165bb909d47a9b61bf154b4fcb12c": {
      "model_module": "@jupyter-widgets/controls",
      "model_module_version": "1.4.0",
      "model_name": "DescriptionStyleModel",
      "state": {
       "description_width": ""
      }
     },
     "e7d8ac4e43cd4c568b53b659e564c33c": {
      "model_module": "@jupyter-widgets/controls",
      "model_module_version": "1.4.0",
      "model_name": "DescriptionStyleModel",
      "state": {
       "description_width": ""
      }
     },
     "e7ea6491d8c74703b1c112439b13653f": {
      "model_module": "@jupyter-widgets/controls",
      "model_module_version": "1.4.0",
      "model_name": "HTMLModel",
      "state": {
       "layout": "IPY_MODEL_0f4968b4f7944640bdcb8d51c3c428bb",
       "style": "IPY_MODEL_4b802a6aa0e94ee184f24c9ce2c76180",
       "value": "<font size=3 style='justify-content: center;'>EdgeCount : </font>"
      }
     },
     "e8050472c2264b539dc5914e885857f3": {
      "model_module": "@jupyter-widgets/controls",
      "model_module_version": "1.4.0",
      "model_name": "ButtonStyleModel",
      "state": {}
     },
     "e805880b6f1f42d18ba14647321f0c66": {
      "model_module": "@jupyter-widgets/base",
      "model_module_version": "1.1.0",
      "model_name": "LayoutModel",
      "state": {
       "width": "auto"
      }
     },
     "e8061e182177453e81f55c2a4e2b483e": {
      "model_module": "@jupyter-widgets/base",
      "model_module_version": "1.1.0",
      "model_name": "LayoutModel",
      "state": {
       "width": "auto"
      }
     },
     "e80a65e1c2664d648729486f9334e3ae": {
      "model_module": "@jupyter-widgets/base",
      "model_module_version": "1.1.0",
      "model_name": "LayoutModel",
      "state": {}
     },
     "e81197d83c0c4cf99669582ffecdb85e": {
      "model_module": "@jupyter-widgets/controls",
      "model_module_version": "1.4.0",
      "model_name": "DescriptionStyleModel",
      "state": {
       "description_width": ""
      }
     },
     "e81f5418696e4becaba067a8e7f3bea9": {
      "model_module": "@jupyter-widgets/base",
      "model_module_version": "1.1.0",
      "model_name": "LayoutModel",
      "state": {}
     },
     "e830ea3e238141f28ff3ac4d38c54179": {
      "model_module": "@jupyter-widgets/controls",
      "model_module_version": "1.4.0",
      "model_name": "VBoxModel",
      "state": {
       "children": [
        "IPY_MODEL_e20b7577fde1440e85da1aff7bc1710d",
        "IPY_MODEL_a9644ad74bb447059d5a086bc374bbcf",
        "IPY_MODEL_676754c13def4cf79308978535165af3",
        "IPY_MODEL_b3a927dfd66c423eb663a270d6bc6c21",
        "IPY_MODEL_ee68ef4d093f4682a255f516ce5a3cb8",
        "IPY_MODEL_35803e8f6c654c53b9844c727ac617f2"
       ],
       "layout": "IPY_MODEL_81f1188466ec4616bc6bb55f73604aed"
      }
     },
     "e846605f776b4f15a33f69d968f95e36": {
      "model_module": "@jupyter-widgets/base",
      "model_module_version": "1.1.0",
      "model_name": "LayoutModel",
      "state": {
       "width": "auto"
      }
     },
     "e84e8093d26e450390f324c3eea026ed": {
      "model_module": "@jupyter-widgets/base",
      "model_module_version": "1.1.0",
      "model_name": "LayoutModel",
      "state": {}
     },
     "e857985d53be4a80b1b8faba7ab0ab1b": {
      "model_module": "@jupyter-widgets/controls",
      "model_module_version": "1.4.0",
      "model_name": "PasswordModel",
      "state": {
       "description": "Password :",
       "layout": "IPY_MODEL_a40f0bf273bd4bb888e997bb6076e2e9",
       "style": "IPY_MODEL_697c371f68cc4f5d8c261dcd228a3efa"
      }
     },
     "e88a804679d84152ae915d6b1e25e353": {
      "model_module": "@jupyter-widgets/base",
      "model_module_version": "1.1.0",
      "model_name": "LayoutModel",
      "state": {}
     },
     "e8a18f741f314843ae6df2bbc7daab6b": {
      "model_module": "@jupyter-widgets/controls",
      "model_module_version": "1.4.0",
      "model_name": "TextModel",
      "state": {
       "layout": "IPY_MODEL_8e2fb75b6ff5471da95fc2b5ee45c018",
       "style": "IPY_MODEL_406eb9fe457a498aa581e811774824d7"
      }
     },
     "e8e926985e9b404383e8645e612a550e": {
      "model_module": "@jupyter-widgets/controls",
      "model_module_version": "1.4.0",
      "model_name": "DescriptionStyleModel",
      "state": {
       "description_width": ""
      }
     },
     "e94dcec96438425c9c212c4ea347b292": {
      "model_module": "@jupyter-widgets/base",
      "model_module_version": "1.1.0",
      "model_name": "LayoutModel",
      "state": {}
     },
     "e962814df705491787e73ea377263ec6": {
      "model_module": "@jupyter-widgets/base",
      "model_module_version": "1.1.0",
      "model_name": "LayoutModel",
      "state": {
       "width": "auto"
      }
     },
     "e9714201d08e4d5aae9cec359d428b4a": {
      "model_module": "@jupyter-widgets/controls",
      "model_module_version": "1.4.0",
      "model_name": "DescriptionStyleModel",
      "state": {
       "description_width": ""
      }
     },
     "e97441b47d754c46a7f18ebdcc0ea88f": {
      "model_module": "@jupyter-widgets/base",
      "model_module_version": "1.1.0",
      "model_name": "LayoutModel",
      "state": {}
     },
     "e9a5e6ce7da145a8a97ebb29c3815ddb": {
      "model_module": "@jupyter-widgets/controls",
      "model_module_version": "1.4.0",
      "model_name": "FloatTextModel",
      "state": {
       "continuous_update": true,
       "layout": "IPY_MODEL_35a55090ad414dd2b85d53aec90f1cef",
       "step": null,
       "style": "IPY_MODEL_2a031fb76d374bfdb29e4218bd1e02ae"
      }
     },
     "e9d8dac9262249a8bb44448983048837": {
      "model_module": "@jupyter-widgets/controls",
      "model_module_version": "1.4.0",
      "model_name": "LabelModel",
      "state": {
       "layout": "IPY_MODEL_e6e7dd70519c4448ba174b4fd080ba65",
       "style": "IPY_MODEL_a60504e665944df787d7bddb6df8f7b5",
       "value": "See-Through :"
      }
     },
     "ea388b5f968047d4b5bba660fe9d1f55": {
      "model_module": "@jupyter-widgets/base",
      "model_module_version": "1.1.0",
      "model_name": "LayoutModel",
      "state": {}
     },
     "ea6067ab60b54ce6b83f7ace12e6e57a": {
      "model_module": "@jupyter-widgets/controls",
      "model_module_version": "1.4.0",
      "model_name": "DescriptionStyleModel",
      "state": {
       "description_width": ""
      }
     },
     "ea8ac0aa011142388334fc958ee27da4": {
      "model_module": "@jupyter-widgets/controls",
      "model_module_version": "1.4.0",
      "model_name": "DescriptionStyleModel",
      "state": {
       "description_width": ""
      }
     },
     "ea8e85fbb79d4cd3982976edc4bbc879": {
      "model_module": "@jupyter-widgets/base",
      "model_module_version": "1.1.0",
      "model_name": "LayoutModel",
      "state": {}
     },
     "ea935750a2eb4fceb928533eaeb1eb4c": {
      "model_module": "@jupyter-widgets/controls",
      "model_module_version": "1.4.0",
      "model_name": "DescriptionStyleModel",
      "state": {
       "description_width": ""
      }
     },
     "eb011452ccfb4c6cb4d8c75fd3113450": {
      "model_module": "@jupyter-widgets/base",
      "model_module_version": "1.1.0",
      "model_name": "LayoutModel",
      "state": {}
     },
     "eb18a29238644532a6cf841ebd850dc3": {
      "model_module": "@jupyter-widgets/controls",
      "model_module_version": "1.4.0",
      "model_name": "DescriptionStyleModel",
      "state": {
       "description_width": ""
      }
     },
     "eb24d48fcb7e4191812aa4bb8cf365c9": {
      "model_module": "@jupyter-widgets/base",
      "model_module_version": "1.1.0",
      "model_name": "LayoutModel",
      "state": {}
     },
     "eb2f319e3eb047d099024836dc9480f2": {
      "model_module": "@jupyter-widgets/base",
      "model_module_version": "1.1.0",
      "model_name": "LayoutModel",
      "state": {}
     },
     "eb86dfc7a60e4d13bf5c25b3f27f5064": {
      "model_module": "@jupyter-widgets/controls",
      "model_module_version": "1.4.0",
      "model_name": "HBoxModel",
      "state": {
       "children": [
        "IPY_MODEL_66702800da6444bf906059d694a2e0d9",
        "IPY_MODEL_b77e9e01f904453c8e5db2b012a89e3a",
        "IPY_MODEL_32ca7115106a4bebb2b42ad8faf5b08c"
       ],
       "layout": "IPY_MODEL_4cc832326f314df7a90508359f5ce3fb"
      }
     },
     "ebabee29240f4e32835c267d137c0828": {
      "model_module": "@jupyter-widgets/base",
      "model_module_version": "1.1.0",
      "model_name": "LayoutModel",
      "state": {
       "display": "none"
      }
     },
     "ebb1cf65277147ef82176e47a57bd8e2": {
      "model_module": "@jupyter-widgets/controls",
      "model_module_version": "1.4.0",
      "model_name": "HBoxModel",
      "state": {
       "children": [
        "IPY_MODEL_af93fa4c67814c58a31cf183c7294f5e",
        "IPY_MODEL_d1723fc6122a4de8934771e9ff055f29",
        "IPY_MODEL_7890db4d0b604e6d9d1efb03d2d31379"
       ],
       "layout": "IPY_MODEL_10202720803f4c308de57810ec9cbbc7"
      }
     },
     "ebdb9a1003454d039a55a484d86f137c": {
      "model_module": "@jupyter-widgets/controls",
      "model_module_version": "1.4.0",
      "model_name": "HBoxModel",
      "state": {
       "children": [
        "IPY_MODEL_4ba58250de08451980a49f5212e661a1",
        "IPY_MODEL_0cc772ab701d4be696b2bdadf98362bd",
        "IPY_MODEL_2fa15b83de8e45b6ba9b0102fd8ec790"
       ],
       "layout": "IPY_MODEL_730284c14a124d6795588a123b34942d"
      }
     },
     "ec1fc15db7f347eb841ef9370ad46e4b": {
      "model_module": "@jupyter-widgets/controls",
      "model_module_version": "1.4.0",
      "model_name": "DescriptionStyleModel",
      "state": {
       "description_width": ""
      }
     },
     "ec52c289f9414e82897a79bb14767d29": {
      "model_module": "@jupyter-widgets/base",
      "model_module_version": "1.1.0",
      "model_name": "LayoutModel",
      "state": {}
     },
     "ec7b33c0036545909166088dce15788b": {
      "model_module": "@jupyter-widgets/controls",
      "model_module_version": "1.4.0",
      "model_name": "HBoxModel",
      "state": {
       "children": [
        "IPY_MODEL_e00abb9279cc43f9bd57e7a969ed486a",
        "IPY_MODEL_ee38ad1b56bd441fbd9f03116790b217"
       ],
       "layout": "IPY_MODEL_7002d636f8c24424975ef793125c749f"
      }
     },
     "ec8d3caf23f04062ae7dc7cbbca59b82": {
      "model_module": "@jupyter-widgets/base",
      "model_module_version": "1.1.0",
      "model_name": "LayoutModel",
      "state": {}
     },
     "ecacf55c5add463da97f2dee5c080fa2": {
      "model_module": "@jupyter-widgets/controls",
      "model_module_version": "1.4.0",
      "model_name": "ButtonStyleModel",
      "state": {}
     },
     "ecdf402c03f741bfba9afac99cbdbf1c": {
      "model_module": "@jupyter-widgets/base",
      "model_module_version": "1.1.0",
      "model_name": "LayoutModel",
      "state": {
       "padding": "0 15px 0 35px"
      }
     },
     "ece310ce48f04cb4bb571a5d35bcf704": {
      "model_module": "@jupyter-widgets/controls",
      "model_module_version": "1.4.0",
      "model_name": "DescriptionStyleModel",
      "state": {
       "description_width": ""
      }
     },
     "ed22f2dc7ad14581b70c8ba2ec10ce5b": {
      "model_module": "@jupyter-widgets/controls",
      "model_module_version": "1.4.0",
      "model_name": "DescriptionStyleModel",
      "state": {
       "description_width": ""
      }
     },
     "ed74e763abc544e6bed3e169181d822d": {
      "model_module": "@jupyter-widgets/controls",
      "model_module_version": "1.4.0",
      "model_name": "SliderStyleModel",
      "state": {
       "description_width": ""
      }
     },
     "ed787fb5d8214a0789bcb0aa0a29490e": {
      "model_module": "@jupyter-widgets/base",
      "model_module_version": "1.1.0",
      "model_name": "LayoutModel",
      "state": {}
     },
     "ed829169f87a42619c46aceef4f57519": {
      "model_module": "@jupyter-widgets/controls",
      "model_module_version": "1.4.0",
      "model_name": "HBoxModel",
      "state": {
       "children": [
        "IPY_MODEL_ac1172d61da84633a4a03a5433847a13",
        "IPY_MODEL_6611e8c908bb4b198c34cebe7ebc9de9"
       ],
       "layout": "IPY_MODEL_3b40c67e1ec246b6b917d54527cb38b1"
      }
     },
     "edd0505eac7145f993f12aa568108c07": {
      "model_module": "@jupyter-widgets/base",
      "model_module_version": "1.1.0",
      "model_name": "LayoutModel",
      "state": {}
     },
     "ee38ad1b56bd441fbd9f03116790b217": {
      "model_module": "@jupyter-widgets/controls",
      "model_module_version": "1.4.0",
      "model_name": "DropdownModel",
      "state": {
       "_options_labels": [
        "ellipse",
        "triangle",
        "rectangle",
        "rhomboid",
        "diamond",
        "pentagon",
        "hexagon",
        "concavehexagon",
        "heptagon",
        "octagon",
        "star",
        "tag",
        "vee"
       ],
       "index": 0,
       "layout": "IPY_MODEL_cacd1f45694c4d7d91bd889ad9614e99",
       "style": "IPY_MODEL_ee940c70235b4a3c939bfd7f9172f6e9"
      }
     },
     "ee68ef4d093f4682a255f516ce5a3cb8": {
      "model_module": "@jupyter-widgets/controls",
      "model_module_version": "1.4.0",
      "model_name": "HTMLModel",
      "state": {
       "layout": "IPY_MODEL_65493a5d1d014019ac8dacea4f4ae3e9",
       "style": "IPY_MODEL_2f39cde769c24970a68f4d5362181f70",
       "value": "<h4 style='color: purple' >Edges</h4>"
      }
     },
     "ee7f266eed4448a3bf8690054388ab98": {
      "model_module": "@jupyter-widgets/controls",
      "model_module_version": "1.4.0",
      "model_name": "DescriptionStyleModel",
      "state": {
       "description_width": ""
      }
     },
     "ee8e3c57653c417999a15a01efe6d821": {
      "model_module": "@jupyter-widgets/controls",
      "model_module_version": "1.4.0",
      "model_name": "ButtonStyleModel",
      "state": {}
     },
     "ee940c70235b4a3c939bfd7f9172f6e9": {
      "model_module": "@jupyter-widgets/controls",
      "model_module_version": "1.4.0",
      "model_name": "DescriptionStyleModel",
      "state": {
       "description_width": ""
      }
     },
     "ee96b597653b4b9080e3c10b3c76b62c": {
      "model_module": "@jupyter-widgets/controls",
      "model_module_version": "1.4.0",
      "model_name": "ButtonModel",
      "state": {
       "button_style": "danger",
       "description": "Remove",
       "layout": "IPY_MODEL_cd85919e2e584719a5aa0c47e9420077",
       "style": "IPY_MODEL_4588770dbdee4f1aa6e31389e992981f"
      }
     },
     "ee9d4a576d394632a44ad5fd46cc790c": {
      "model_module": "@jupyter-widgets/base",
      "model_module_version": "1.1.0",
      "model_name": "LayoutModel",
      "state": {}
     },
     "ef2c5ea6845544f1afa969eb9dec1d51": {
      "model_module": "@jupyter-widgets/base",
      "model_module_version": "1.1.0",
      "model_name": "LayoutModel",
      "state": {
       "display": "none"
      }
     },
     "ef36ffa81f534119bd2c9c547aa32131": {
      "model_module": "@jupyter-widgets/base",
      "model_module_version": "1.1.0",
      "model_name": "LayoutModel",
      "state": {
       "padding": "10px 0px 0px 0px"
      }
     },
     "ef3fcba580424eac99644e8746a640e8": {
      "model_module": "@jupyter-widgets/base",
      "model_module_version": "1.1.0",
      "model_name": "LayoutModel",
      "state": {}
     },
     "ef4e08e4b5b64724a6f92c27e8ef8be9": {
      "model_module": "@jupyter-widgets/controls",
      "model_module_version": "1.4.0",
      "model_name": "ButtonModel",
      "state": {
       "button_style": "primary",
       "description": "Download",
       "layout": "IPY_MODEL_f7a36b65eb3e48aeb492d21d13b7af0f",
       "style": "IPY_MODEL_25abbe36a41e4a6493c1fbda32d940b9"
      }
     },
     "ef5d1743d6bd4822945db0ce2871e98f": {
      "model_module": "@jupyter-widgets/controls",
      "model_module_version": "1.4.0",
      "model_name": "ButtonModel",
      "state": {
       "button_style": "primary",
       "description": "Create",
       "layout": "IPY_MODEL_4b888720199a4a2fb18db1c304ae4617",
       "style": "IPY_MODEL_6ebf5689a87946348f06bd0fee02796e"
      }
     },
     "ef78f1aba3454e258ab984d5ee515c53": {
      "model_module": "@jupyter-widgets/controls",
      "model_module_version": "1.4.0",
      "model_name": "DescriptionStyleModel",
      "state": {
       "description_width": ""
      }
     },
     "ef7d06676cc545749ecd452d8bfccd76": {
      "model_module": "@jupyter-widgets/controls",
      "model_module_version": "1.4.0",
      "model_name": "DescriptionStyleModel",
      "state": {
       "description_width": ""
      }
     },
     "ef85d6648acf4ff2916999e956ff62fd": {
      "model_module": "@jupyter-widgets/controls",
      "model_module_version": "1.4.0",
      "model_name": "VBoxModel",
      "state": {
       "children": [
        "IPY_MODEL_d879c9bf3cac43eab56ccf784d2e97a0",
        "IPY_MODEL_7071f150210c47cfa961e3022a13ad8a"
       ],
       "layout": "IPY_MODEL_066a76dd64b34ceaa8d58d29ebfb31cb"
      }
     },
     "ef8a0e5748a5427896e42a9034300219": {
      "model_module": "@jupyter-widgets/base",
      "model_module_version": "1.1.0",
      "model_name": "LayoutModel",
      "state": {}
     },
     "efa422be0cac45c9b107565459f51384": {
      "model_module": "@jupyter-widgets/controls",
      "model_module_version": "1.4.0",
      "model_name": "VBoxModel",
      "state": {
       "children": [
        "IPY_MODEL_7a3d9c9def4b40d090be2792cc57c048",
        "IPY_MODEL_20f408866d4446648c5e5cbe18a09af6",
        "IPY_MODEL_78abe320576940339c9e31f5bdd39f87"
       ],
       "layout": "IPY_MODEL_301a16e9fa1c48848c5996b0c2f7b50b"
      }
     },
     "efc7c90c018d45ff817957070d80e15e": {
      "model_module": "@jupyter-widgets/controls",
      "model_module_version": "1.4.0",
      "model_name": "HBoxModel",
      "state": {
       "children": [
        "IPY_MODEL_f2c0c946e5fc456ea91ce4107bb59b47",
        "IPY_MODEL_528931a3b0d84c85b514026c1190157d"
       ],
       "layout": "IPY_MODEL_3ffb8017cb6b4439a5803dd241a6526a"
      }
     },
     "eff2de0f937f48a4aef2037abb3bed9d": {
      "model_module": "@jupyter-widgets/base",
      "model_module_version": "1.1.0",
      "model_name": "LayoutModel",
      "state": {
       "width": "auto"
      }
     },
     "eff76e82b2a14d51a249d7c02fb3ed25": {
      "model_module": "@jupyter-widgets/controls",
      "model_module_version": "1.4.0",
      "model_name": "HBoxModel",
      "state": {
       "children": [
        "IPY_MODEL_28bd5de4cd0e40c6afc82802691280bc",
        "IPY_MODEL_ac28495606da4c7aa008fa810e9ef2dd",
        "IPY_MODEL_12106981104c4884b04e117a4974f366"
       ],
       "layout": "IPY_MODEL_7aa2f39cbe1c41a3a23fe61f2d423f64"
      }
     },
     "f047dcd4d7ae43b8b8650f6ef98a47d2": {
      "model_module": "@jupyter-widgets/base",
      "model_module_version": "1.1.0",
      "model_name": "LayoutModel",
      "state": {
       "align_items": "center",
       "justify_content": "center"
      }
     },
     "f061d7424c1041ca933371644a1ec9bd": {
      "model_module": "@jupyter-widgets/controls",
      "model_module_version": "1.4.0",
      "model_name": "HBoxModel",
      "state": {
       "children": [
        "IPY_MODEL_7241dd97f18c437e81236e48409e9130",
        "IPY_MODEL_574c921e949f4f93976accccd3e991c6"
       ],
       "layout": "IPY_MODEL_f45b5f62686d4835b9230a9542252fe7"
      }
     },
     "f070e2eb6393498d9f4069e4b443a98c": {
      "model_module": "@jupyter-widgets/controls",
      "model_module_version": "1.4.0",
      "model_name": "DescriptionStyleModel",
      "state": {
       "description_width": ""
      }
     },
     "f08d7a19b5224cb7a31ddaa7d9bb1c5c": {
      "model_module": "@jupyter-widgets/base",
      "model_module_version": "1.1.0",
      "model_name": "LayoutModel",
      "state": {}
     },
     "f09e5b15b81d4f92ab24009bcbc1cb16": {
      "model_module": "@jupyter-widgets/controls",
      "model_module_version": "1.4.0",
      "model_name": "HBoxModel",
      "state": {
       "children": [
        "IPY_MODEL_c14bf9b9fecf416ea33db2c3d0f6ecf8",
        "IPY_MODEL_9b214e2235f84d5d830c9cab10befaa7",
        "IPY_MODEL_3cd5547f5be14d4d965790519010f166"
       ],
       "layout": "IPY_MODEL_5c507c73d964425886c2e43e906f573b"
      }
     },
     "f0b1be237f094b25a5da76d22d311746": {
      "model_module": "@jupyter-widgets/base",
      "model_module_version": "1.1.0",
      "model_name": "LayoutModel",
      "state": {}
     },
     "f0c08b8db17b4eb5a2ea6183e837fd20": {
      "model_module": "@jupyter-widgets/controls",
      "model_module_version": "1.4.0",
      "model_name": "DescriptionStyleModel",
      "state": {
       "description_width": ""
      }
     },
     "f0c26a82242e48c9933bb4faaa75c5fe": {
      "model_module": "@jupyter-widgets/controls",
      "model_module_version": "1.4.0",
      "model_name": "DescriptionStyleModel",
      "state": {
       "description_width": ""
      }
     },
     "f1158a7d00c74e5ea1e96556c13fde22": {
      "model_module": "@jupyter-widgets/controls",
      "model_module_version": "1.4.0",
      "model_name": "DescriptionStyleModel",
      "state": {
       "description_width": ""
      }
     },
     "f15b4f412ee84f60a5da43ef5a2f2ef8": {
      "model_module": "@jupyter-widgets/controls",
      "model_module_version": "1.4.0",
      "model_name": "DescriptionStyleModel",
      "state": {
       "description_width": ""
      }
     },
     "f16db649a3044c0aa3d6c9d724f89895": {
      "model_module": "@jupyter-widgets/base",
      "model_module_version": "1.1.0",
      "model_name": "LayoutModel",
      "state": {
       "padding": "0 15px 0 35px"
      }
     },
     "f1bf3b3cd7d449f081825384470980d6": {
      "model_module": "@jupyter-widgets/controls",
      "model_module_version": "1.4.0",
      "model_name": "TextModel",
      "state": {
       "layout": "IPY_MODEL_3bd9f1bebe794ffe803a89d56d900b6b",
       "style": "IPY_MODEL_e7c165bb909d47a9b61bf154b4fcb12c"
      }
     },
     "f200776c42274cb896ee60664dd85abf": {
      "model_module": "@jupyter-widgets/base",
      "model_module_version": "1.1.0",
      "model_name": "LayoutModel",
      "state": {
       "width": "auto"
      }
     },
     "f2081a30eef84874a22ecb46e63d155d": {
      "model_module": "@jupyter-widgets/controls",
      "model_module_version": "1.4.0",
      "model_name": "ButtonModel",
      "state": {
       "button_style": "success",
       "icon": "image",
       "layout": "IPY_MODEL_c3901044804a499da88e41f777224211",
       "style": "IPY_MODEL_e0940496d63a48058bd9f4d3e15eafc2"
      }
     },
     "f2234b60986748288df418cee6c791da": {
      "model_module": "@jupyter-widgets/controls",
      "model_module_version": "1.4.0",
      "model_name": "DescriptionStyleModel",
      "state": {
       "description_width": ""
      }
     },
     "f28175952b194242a218c0990a33b449": {
      "model_module": "@jupyter-widgets/controls",
      "model_module_version": "1.4.0",
      "model_name": "LabelModel",
      "state": {
       "layout": "IPY_MODEL_e6ad2630dff04eb1a142879819f55520",
       "style": "IPY_MODEL_4a14a3fb79b34fd4ae69c7f8294280b2",
       "value": "Shape :"
      }
     },
     "f293d53fd29746788e5b0baee0ece5ab": {
      "model_module": "@jupyter-widgets/controls",
      "model_module_version": "1.4.0",
      "model_name": "DescriptionStyleModel",
      "state": {
       "description_width": ""
      }
     },
     "f29576404ba34e5895669fd1f934d776": {
      "model_module": "@jupyter-widgets/controls",
      "model_module_version": "1.4.0",
      "model_name": "HBoxModel",
      "state": {
       "children": [
        "IPY_MODEL_e9d8dac9262249a8bb44448983048837",
        "IPY_MODEL_a4ff289343e4457795ef778e1a00c01b"
       ],
       "layout": "IPY_MODEL_a774f2c7a24d44dd8777f1090db4582d"
      }
     },
     "f2c0c946e5fc456ea91ce4107bb59b47": {
      "model_module": "@jupyter-widgets/controls",
      "model_module_version": "1.4.0",
      "model_name": "LabelModel",
      "state": {
       "layout": "IPY_MODEL_ef8a0e5748a5427896e42a9034300219",
       "style": "IPY_MODEL_0094adac066a4894a4aa42a0e44ac974",
       "value": "Behind/In-Front :"
      }
     },
     "f2d153be26b94e788f9aebb79d45a15d": {
      "model_module": "@jupyter-widgets/controls",
      "model_module_version": "1.4.0",
      "model_name": "HBoxModel",
      "state": {
       "children": [
        "IPY_MODEL_49ca4e7550f2400b8e3447a2e06c101d",
        "IPY_MODEL_6915ae61cb5b499dadb000c99d7c379f"
       ],
       "layout": "IPY_MODEL_3fa857ba7b7c43fb89cc0a311f7dee34"
      }
     },
     "f2d22842c5164ce68fae20eef6975d2b": {
      "model_module": "@jupyter-widgets/controls",
      "model_module_version": "1.4.0",
      "model_name": "DescriptionStyleModel",
      "state": {
       "description_width": ""
      }
     },
     "f31a005fd3f8444bba13564e01799221": {
      "model_module": "@jupyter-widgets/controls",
      "model_module_version": "1.4.0",
      "model_name": "DescriptionStyleModel",
      "state": {
       "description_width": ""
      }
     },
     "f321bc1a4ee044e3909508acd208f1be": {
      "model_module": "@jupyter-widgets/controls",
      "model_module_version": "1.4.0",
      "model_name": "ButtonModel",
      "state": {
       "button_style": "danger",
       "description": "Remove",
       "layout": "IPY_MODEL_74670cb4efcd412dba3590936addd9f0",
       "style": "IPY_MODEL_f5f92d713c0846e5b3847ba6ff472c89"
      }
     },
     "f3342062945e442cb94eb9b0d0300c13": {
      "model_module": "@jupyter-widgets/controls",
      "model_module_version": "1.4.0",
      "model_name": "DescriptionStyleModel",
      "state": {
       "description_width": ""
      }
     },
     "f35d6853d0c74f8b9d52c3c12beb64ac": {
      "model_module": "@jupyter-widgets/controls",
      "model_module_version": "1.4.0",
      "model_name": "TextModel",
      "state": {
       "layout": "IPY_MODEL_23d25d8fdf8c49e8a6a88e12ecd76e25",
       "style": "IPY_MODEL_8adafa45ba3549d9993facb4bdc8b9e2"
      }
     },
     "f36b588d8346420cb52d87d49529a434": {
      "model_module": "@jupyter-widgets/base",
      "model_module_version": "1.1.0",
      "model_name": "LayoutModel",
      "state": {}
     },
     "f37518f0b82948f7be3fb726173699bf": {
      "model_module": "@jupyter-widgets/controls",
      "model_module_version": "1.4.0",
      "model_name": "LabelModel",
      "state": {
       "layout": "IPY_MODEL_8b42f9b8052f46d6866d83a6c71b1573",
       "style": "IPY_MODEL_a4fcd00ca8124078989af80702caae5b",
       "value": "Size :"
      }
     },
     "f3775e69ccee4e36a9b058dc9b03424b": {
      "model_module": "@jupyter-widgets/base",
      "model_module_version": "1.1.0",
      "model_name": "LayoutModel",
      "state": {
       "width": "auto"
      }
     },
     "f383600971824401b25608d9fb3cc499": {
      "model_module": "@jupyter-widgets/controls",
      "model_module_version": "1.4.0",
      "model_name": "SelectModel",
      "state": {
       "_options_labels": [
        "Number",
        "Text"
       ],
       "index": 0,
       "layout": "IPY_MODEL_6011fc5c89c4429c8c76252b81922db9",
       "style": "IPY_MODEL_ea8ac0aa011142388334fc958ee27da4"
      }
     },
     "f41af4ea025344608f36811eee1e08f6": {
      "model_module": "@jupyter-widgets/controls",
      "model_module_version": "1.4.0",
      "model_name": "LabelModel",
      "state": {
       "layout": "IPY_MODEL_499ddbcc44c74abd8f4463565675e130",
       "style": "IPY_MODEL_4a23cdb7b3014183986ef60901d5f410",
       "value": "Image : "
      }
     },
     "f4233559a7c643b9ade1598f1f4a5cc2": {
      "model_module": "@jupyter-widgets/base",
      "model_module_version": "1.1.0",
      "model_name": "LayoutModel",
      "state": {}
     },
     "f451c1ddcb834180b8c57369707428a4": {
      "model_module": "@jupyter-widgets/controls",
      "model_module_version": "1.4.0",
      "model_name": "ButtonModel",
      "state": {
       "button_style": "danger",
       "description": "Remove",
       "layout": "IPY_MODEL_b6c0e8c8417c40879d3940e5e7402a80",
       "style": "IPY_MODEL_b5a5cf37e440445ca668dc02685456f2"
      }
     },
     "f45a687b25d74497a2f586a2786a5457": {
      "model_module": "@jupyter-widgets/base",
      "model_module_version": "1.1.0",
      "model_name": "LayoutModel",
      "state": {}
     },
     "f45b5f62686d4835b9230a9542252fe7": {
      "model_module": "@jupyter-widgets/base",
      "model_module_version": "1.1.0",
      "model_name": "LayoutModel",
      "state": {
       "padding": "10px 0px 0px 0px"
      }
     },
     "f4654cfe3d8748a9bfbeb13c12d08d7b": {
      "model_module": "@jupyter-widgets/controls",
      "model_module_version": "1.4.0",
      "model_name": "SliderStyleModel",
      "state": {
       "description_width": ""
      }
     },
     "f4a994675f054f0a956fc29030b82886": {
      "model_module": "@jupyter-widgets/controls",
      "model_module_version": "1.4.0",
      "model_name": "DescriptionStyleModel",
      "state": {
       "description_width": ""
      }
     },
     "f4b43677cd4647e5ae601b1d3b3f957a": {
      "model_module": "@jupyter-widgets/controls",
      "model_module_version": "1.4.0",
      "model_name": "HBoxModel",
      "state": {
       "children": [
        "IPY_MODEL_9894b39edb544d2b8cb630acf33b2fa6"
       ],
       "layout": "IPY_MODEL_61c7c66f8470452fb03ca7907db0937c"
      }
     },
     "f4ee1b8b0f1b4a5082703d458dab3604": {
      "model_module": "@jupyter-widgets/controls",
      "model_module_version": "1.4.0",
      "model_name": "TextModel",
      "state": {
       "layout": "IPY_MODEL_2ae9d0ea97f345288f413f99036ee96b",
       "placeholder": "Variable Name:",
       "style": "IPY_MODEL_6bc542128a69487c851db141cafab3d1",
       "value": "SUID"
      }
     },
     "f505393989b34fc1a0d24f9267d1a66d": {
      "model_module": "@jupyter-widgets/base",
      "model_module_version": "1.1.0",
      "model_name": "LayoutModel",
      "state": {
       "margin": "2px 25px 2px 0px",
       "width": "auto"
      }
     },
     "f53c3fbeb44d4cdab5b47e1080bd6fad": {
      "model_module": "@jupyter-widgets/controls",
      "model_module_version": "1.4.0",
      "model_name": "DescriptionStyleModel",
      "state": {
       "description_width": ""
      }
     },
     "f544c5c6b2644422bb3feae73b9c4307": {
      "model_module": "@jupyter-widgets/controls",
      "model_module_version": "1.4.0",
      "model_name": "DescriptionStyleModel",
      "state": {
       "description_width": ""
      }
     },
     "f58553f516cb41ccb86997f08e2f9ca4": {
      "model_module": "@jupyter-widgets/controls",
      "model_module_version": "1.4.0",
      "model_name": "ButtonStyleModel",
      "state": {}
     },
     "f59dae033dbd467383146ad1528be696": {
      "model_module": "@jupyter-widgets/controls",
      "model_module_version": "1.4.0",
      "model_name": "TextModel",
      "state": {
       "description": "Username :",
       "layout": "IPY_MODEL_97da00533cee4d9eb3760c561f662a04",
       "style": "IPY_MODEL_335067815c834a00b1e390ad8dd2d3d1"
      }
     },
     "f5b5889a7eb64bb792037a32cd173fb8": {
      "model_module": "@jupyter-widgets/controls",
      "model_module_version": "1.4.0",
      "model_name": "LabelModel",
      "state": {
       "layout": "IPY_MODEL_e80a65e1c2664d648729486f9334e3ae",
       "style": "IPY_MODEL_585ec2e04e734bffad128c0192a69da9",
       "value": "Color :"
      }
     },
     "f5efa4630954408490b84e983f0c765b": {
      "model_module": "@jupyter-widgets/controls",
      "model_module_version": "1.4.0",
      "model_name": "HTMLModel",
      "state": {
       "layout": "IPY_MODEL_9e1450c6f4d848eabc06b268d3e2944f",
       "style": "IPY_MODEL_19ed18ce08ea432fb6aef52a2eb1aba6",
       "value": "<font size=3 style='justify-content: center;'>nodesize : </font>"
      }
     },
     "f5f92d713c0846e5b3847ba6ff472c89": {
      "model_module": "@jupyter-widgets/controls",
      "model_module_version": "1.4.0",
      "model_name": "ButtonStyleModel",
      "state": {}
     },
     "f600849f0d39485f9ceb182cfd2253c6": {
      "model_module": "@jupyter-widgets/base",
      "model_module_version": "1.1.0",
      "model_name": "LayoutModel",
      "state": {
       "padding": "10px 0px 0px 0px"
      }
     },
     "f60c5576e1fb4b45b36d1a60c73be0e0": {
      "model_module": "@jupyter-widgets/controls",
      "model_module_version": "1.4.0",
      "model_name": "HBoxModel",
      "state": {
       "children": [
        "IPY_MODEL_e773f165698c4d5ebabc6cde06946c80",
        "IPY_MODEL_59c5fb2f399d4c51b52ec37c3fbb3347"
       ],
       "layout": "IPY_MODEL_9eb58c6ef0a14ae98c1c547f69ea9763"
      }
     },
     "f628f80937914eef934ba9af5afa537d": {
      "model_module": "@jupyter-widgets/controls",
      "model_module_version": "1.4.0",
      "model_name": "VBoxModel",
      "state": {
       "children": [
        "IPY_MODEL_bfc62006de3d4fc49490c5b55c5053ed",
        "IPY_MODEL_79e96a693a4f49a2814c6fe98c6787f0"
       ],
       "layout": "IPY_MODEL_8621e80747bd4153b4529ab9b1adbd27"
      }
     },
     "f6352f56feb347419e24afa494844df0": {
      "model_module": "@jupyter-widgets/base",
      "model_module_version": "1.1.0",
      "model_name": "LayoutModel",
      "state": {
       "width": "auto"
      }
     },
     "f646cdbcf1c7446c8a9e6cbfb23374da": {
      "model_module": "@jupyter-widgets/controls",
      "model_module_version": "1.4.0",
      "model_name": "FloatTextModel",
      "state": {
       "continuous_update": true,
       "layout": "IPY_MODEL_0009d09149964c2bb1da1fb3b3ce95fb",
       "step": null,
       "style": "IPY_MODEL_cd120183a3154edb80121978d307d11d"
      }
     },
     "f66a4ef43e0d443293fb13c840ddff49": {
      "model_module": "@jupyter-widgets/controls",
      "model_module_version": "1.4.0",
      "model_name": "DescriptionStyleModel",
      "state": {
       "description_width": ""
      }
     },
     "f66fbea24b41414192061f67ea9b3625": {
      "model_module": "@jupyter-widgets/controls",
      "model_module_version": "1.4.0",
      "model_name": "DescriptionStyleModel",
      "state": {
       "description_width": ""
      }
     },
     "f6cbe71d5bb448bca85ce13c00523099": {
      "model_module": "@jupyter-widgets/controls",
      "model_module_version": "1.4.0",
      "model_name": "HBoxModel",
      "state": {
       "children": [
        "IPY_MODEL_d6d7d61b522542da8144ff6af65e9ca7",
        "IPY_MODEL_dae47952a25747539c550b6668233ac4",
        "IPY_MODEL_8f6f6ae189c54a86aed40c4384b57848"
       ],
       "layout": "IPY_MODEL_b1633ca607a641dd8177af512e559cb0"
      }
     },
     "f7226cec57754dfca71b9dfd824013f6": {
      "model_module": "@jupyter-widgets/controls",
      "model_module_version": "1.4.0",
      "model_name": "HTMLModel",
      "state": {
       "layout": "IPY_MODEL_648b9a9143774853a59c329fa5b74f04",
       "style": "IPY_MODEL_4c99a493117442acaeffaac5edefedc6",
       "value": "<h5>Here you can load in a cytoscape <font color='darkKhaki'>.html</font> file. \nPut the file you want to load into the same place as this notebook, then load it in! </h5>"
      }
     },
     "f7290cf82b9f4d40b2c77c6562ab5b55": {
      "model_module": "@jupyter-widgets/base",
      "model_module_version": "1.1.0",
      "model_name": "LayoutModel",
      "state": {}
     },
     "f74ee89e857247a1bf84eedb3e31fc89": {
      "model_module": "@jupyter-widgets/base",
      "model_module_version": "1.1.0",
      "model_name": "LayoutModel",
      "state": {}
     },
     "f7a36b65eb3e48aeb492d21d13b7af0f": {
      "model_module": "@jupyter-widgets/base",
      "model_module_version": "1.1.0",
      "model_name": "LayoutModel",
      "state": {}
     },
     "f7abfb167ca34cc290277403ddd70a3c": {
      "model_module": "@jupyter-widgets/base",
      "model_module_version": "1.1.0",
      "model_name": "LayoutModel",
      "state": {}
     },
     "f7b756ea624947d4a1f229cbcbde326f": {
      "model_module": "@jupyter-widgets/base",
      "model_module_version": "1.1.0",
      "model_name": "LayoutModel",
      "state": {}
     },
     "f7e80b43cb794ebfb702c142c2bdd525": {
      "model_module": "@jupyter-widgets/base",
      "model_module_version": "1.1.0",
      "model_name": "LayoutModel",
      "state": {}
     },
     "f81e01a2e8634efaaa197d8c0bd8e46e": {
      "model_module": "@jupyter-widgets/controls",
      "model_module_version": "1.4.0",
      "model_name": "DescriptionStyleModel",
      "state": {
       "description_width": ""
      }
     },
     "f824fb0e1ba04a88aaf5b5959965ac0c": {
      "model_module": "@jupyter-widgets/controls",
      "model_module_version": "1.4.0",
      "model_name": "LabelModel",
      "state": {
       "layout": "IPY_MODEL_ca8bed4640cc48c298f8e0c9715527e6",
       "style": "IPY_MODEL_3d6bb881ca51406f91ff51e7c689efb8",
       "value": "See-Through :"
      }
     },
     "f86f327c781f49e98965390d0f4ad7af": {
      "model_module": "@jupyter-widgets/base",
      "model_module_version": "1.1.0",
      "model_name": "LayoutModel",
      "state": {}
     },
     "f888a3e945b84280bd48bc97a7184a60": {
      "model_module": "@jupyter-widgets/base",
      "model_module_version": "1.1.0",
      "model_name": "LayoutModel",
      "state": {}
     },
     "f89940a055de45e980ce890fa954c543": {
      "model_module": "@jupyter-widgets/controls",
      "model_module_version": "1.4.0",
      "model_name": "HBoxModel",
      "state": {
       "children": [
        "IPY_MODEL_e062345fbc6d4b1192eed049caa5f95a",
        "IPY_MODEL_e277af2af7834cc88d70c01160bd4b4a",
        "IPY_MODEL_3bb2f7466b7f429c894500ea9682c8f4"
       ],
       "layout": "IPY_MODEL_dc7fdd97804347519673741e075c6c75"
      }
     },
     "f8b3f5b864004e5c9de8102872fe31a1": {
      "model_module": "@jupyter-widgets/controls",
      "model_module_version": "1.4.0",
      "model_name": "DescriptionStyleModel",
      "state": {
       "description_width": ""
      }
     },
     "f9229b88801846e7a36fbde587386bf3": {
      "model_module": "@jupyter-widgets/controls",
      "model_module_version": "1.4.0",
      "model_name": "HTMLModel",
      "state": {
       "layout": "IPY_MODEL_4a726b1b768744c88a1d01a748e2612e",
       "style": "IPY_MODEL_7cbb64518f6347e8a6c73e667be92a8a",
       "value": "<h4 style='color: purple' >Edges</h4>"
      }
     },
     "f928f0e3d8c94fe7a7d4ed1bb9a6094d": {
      "model_module": "@jupyter-widgets/controls",
      "model_module_version": "1.4.0",
      "model_name": "ButtonStyleModel",
      "state": {}
     },
     "f9636f572f9d4c1593a19a720282d4e3": {
      "model_module": "@jupyter-widgets/base",
      "model_module_version": "1.1.0",
      "model_name": "LayoutModel",
      "state": {}
     },
     "f990cbdb8e734aa5ad1845f24760e6b1": {
      "model_module": "@jupyter-widgets/base",
      "model_module_version": "1.1.0",
      "model_name": "LayoutModel",
      "state": {
       "justify_content": "center",
       "margin": "0 0 15px 0"
      }
     },
     "f9e1ca8730194506ad67087e575733c4": {
      "model_module": "@jupyter-widgets/controls",
      "model_module_version": "1.4.0",
      "model_name": "DescriptionStyleModel",
      "state": {
       "description_width": ""
      }
     },
     "f9e6451511d84dde9f7bf5129aa9796c": {
      "model_module": "@jupyter-widgets/base",
      "model_module_version": "1.1.0",
      "model_name": "LayoutModel",
      "state": {}
     },
     "f9e8adade4174d42a0f48dde193bb9d2": {
      "model_module": "@jupyter-widgets/controls",
      "model_module_version": "1.4.0",
      "model_name": "DescriptionStyleModel",
      "state": {
       "description_width": ""
      }
     },
     "f9e9254dd14e4eccb7a32e2e62afa8bf": {
      "model_module": "@jupyter-widgets/controls",
      "model_module_version": "1.4.0",
      "model_name": "HTMLModel",
      "state": {
       "layout": "IPY_MODEL_cc11043cedda40c1b90e160b963eeb28",
       "style": "IPY_MODEL_1efc421b0a00417f90ab0f9606a6971d",
       "value": "<p>&nbsp&nbsp&nbsp&nbsp&nbsp</p>"
      }
     },
     "f9f0d5234258480dbcb7d4a3634a7e64": {
      "model_module": "@jupyter-widgets/base",
      "model_module_version": "1.1.0",
      "model_name": "LayoutModel",
      "state": {}
     },
     "fa1011e0e30e442a82c62044c87c9aaf": {
      "model_module": "@jupyter-widgets/controls",
      "model_module_version": "1.4.0",
      "model_name": "DescriptionStyleModel",
      "state": {
       "description_width": ""
      }
     },
     "fa10e694ca6741bd8fc3cb22308f8c7d": {
      "model_module": "@jupyter-widgets/controls",
      "model_module_version": "1.4.0",
      "model_name": "DescriptionStyleModel",
      "state": {
       "description_width": ""
      }
     },
     "fa279c8a67fc4ce991de1b26f8c1bf59": {
      "model_module": "@jupyter-widgets/base",
      "model_module_version": "1.1.0",
      "model_name": "LayoutModel",
      "state": {
       "justify_content": "center",
       "padding": "10px 0px 0px 0px"
      }
     },
     "fa32c1cc909b4326b9dda65f2bb0b2c0": {
      "model_module": "@jupyter-widgets/controls",
      "model_module_version": "1.4.0",
      "model_name": "DescriptionStyleModel",
      "state": {
       "description_width": ""
      }
     },
     "fa76c28d7c384e6ea9af60ed30f21eb0": {
      "model_module": "@jupyter-widgets/controls",
      "model_module_version": "1.4.0",
      "model_name": "HTMLModel",
      "state": {
       "layout": "IPY_MODEL_788222aa6e554f8cba15e25b90a31be7",
       "style": "IPY_MODEL_0866d064c97441638215ae1ace5587b7",
       "value": "<font size=3 style='justify-content: center;'>BetweennessCentrality : </font>"
      }
     },
     "fa7eff282c0b4572a994cc32b470fe31": {
      "model_module": "@jupyter-widgets/controls",
      "model_module_version": "1.4.0",
      "model_name": "HTMLModel",
      "state": {
       "layout": "IPY_MODEL_056ee43106484aabade34594cfb6a4b5",
       "style": "IPY_MODEL_38a500b707844987a17a692e11fcdec7",
       "value": "<h5>Variable   &nbsp</h5> "
      }
     },
     "fa9b802daae14a158bf07e151edf9924": {
      "model_module": "@jupyter-widgets/controls",
      "model_module_version": "1.4.0",
      "model_name": "LabelModel",
      "state": {
       "layout": "IPY_MODEL_5a00600abab340a086a7c0f30185774c",
       "style": "IPY_MODEL_e038d039d04648998ec71dbc48841c53",
       "value": "Line Style :"
      }
     },
     "facb1dae0ce6475d8a911353edd634b1": {
      "model_module": "@jupyter-widgets/base",
      "model_module_version": "1.1.0",
      "model_name": "LayoutModel",
      "state": {}
     },
     "fb41b6f76b44412e859d93b9c10c28ab": {
      "model_module": "@jupyter-widgets/base",
      "model_module_version": "1.1.0",
      "model_name": "LayoutModel",
      "state": {}
     },
     "fb5fe3b9fa4942028b8ea220e99539e1": {
      "model_module": "@jupyter-widgets/base",
      "model_module_version": "1.1.0",
      "model_name": "LayoutModel",
      "state": {}
     },
     "fb92a6edff1443e5ad5a7851b42c63d9": {
      "model_module": "@jupyter-widgets/controls",
      "model_module_version": "1.4.0",
      "model_name": "DescriptionStyleModel",
      "state": {
       "description_width": ""
      }
     },
     "fba5101864af4019b8606083b58253ae": {
      "model_module": "@jupyter-widgets/controls",
      "model_module_version": "1.4.0",
      "model_name": "DropdownModel",
      "state": {
       "_options_labels": [
        "solid",
        "dotted",
        "dashed"
       ],
       "index": 0,
       "layout": "IPY_MODEL_85dde226ec654f9199b18d22050ae3ae",
       "style": "IPY_MODEL_ffdc68e53c3640599d1cd2526438829f"
      }
     },
     "fbf192c5b549490589674bb82eeb9136": {
      "model_module": "@jupyter-widgets/base",
      "model_module_version": "1.1.0",
      "model_name": "LayoutModel",
      "state": {}
     },
     "fc3c1b7b71794ac3b6e58f743c6455cc": {
      "model_module": "@jupyter-widgets/controls",
      "model_module_version": "1.4.0",
      "model_name": "DescriptionStyleModel",
      "state": {
       "description_width": ""
      }
     },
     "fc8a5204225c4e9fbb897e03187fec31": {
      "model_module": "@jupyter-widgets/controls",
      "model_module_version": "1.4.0",
      "model_name": "ButtonStyleModel",
      "state": {}
     },
     "fcd0626571334960a5fc6f21862f9705": {
      "model_module": "@jupyter-widgets/controls",
      "model_module_version": "1.4.0",
      "model_name": "HBoxModel",
      "state": {
       "children": [
        "IPY_MODEL_852ad65f76bb4c92aedc71ebd6201de3",
        "IPY_MODEL_3481d8fa75004f41b5ac1758814e5828"
       ],
       "layout": "IPY_MODEL_2fce28e32c89406c96a89c8def4a3d87"
      }
     },
     "fcd74ff1aa3b43f09dcaa81d6949a884": {
      "model_module": "@jupyter-widgets/controls",
      "model_module_version": "1.4.0",
      "model_name": "HBoxModel",
      "state": {
       "children": [
        "IPY_MODEL_d611a218b7e94ac2bfaefb7fdd08b4f9",
        "IPY_MODEL_ab29265d7794450698e96dd75395ab9c"
       ],
       "layout": "IPY_MODEL_6a75d140509842059cabe0de5682144e"
      }
     },
     "fd34bae1abf941e5b2f15b9443eae073": {
      "model_module": "@jupyter-widgets/base",
      "model_module_version": "1.1.0",
      "model_name": "LayoutModel",
      "state": {}
     },
     "fd5b4b49e2e844ca9ae068a8096f7641": {
      "model_module": "@jupyter-widgets/base",
      "model_module_version": "1.1.0",
      "model_name": "LayoutModel",
      "state": {}
     },
     "fd8bb5bee94942fc9b83e686dd4094d7": {
      "model_module": "@jupyter-widgets/controls",
      "model_module_version": "1.4.0",
      "model_name": "ColorPickerModel",
      "state": {
       "disabled": false,
       "layout": "IPY_MODEL_eb24d48fcb7e4191812aa4bb8cf365c9",
       "style": "IPY_MODEL_5082c31a39aa4d9abb58f90b21cbb876"
      }
     },
     "fda7e98370cd4a3aa9be79780f931f5f": {
      "model_module": "@jupyter-widgets/controls",
      "model_module_version": "1.4.0",
      "model_name": "DescriptionStyleModel",
      "state": {
       "description_width": ""
      }
     },
     "fdd4bf166b1043a68a3de388149cd4f8": {
      "model_module": "@jupyter-widgets/base",
      "model_module_version": "1.1.0",
      "model_name": "LayoutModel",
      "state": {}
     },
     "fe166ad5e48644cdaded5e245a5768ad": {
      "model_module": "@jupyter-widgets/base",
      "model_module_version": "1.1.0",
      "model_name": "LayoutModel",
      "state": {
       "padding": "10px 0px 0px 0px"
      }
     },
     "fe20ae72751449be9b1c448d95cc9ef9": {
      "model_module": "@jupyter-widgets/controls",
      "model_module_version": "1.4.0",
      "model_name": "DescriptionStyleModel",
      "state": {
       "description_width": ""
      }
     },
     "fe55cd2e8f374eb1b63d7e07784fe291": {
      "model_module": "@jupyter-widgets/controls",
      "model_module_version": "1.4.0",
      "model_name": "ToggleButtonModel",
      "state": {
       "icon": "eye",
       "layout": "IPY_MODEL_72d970c58be04ecaba0a3b656620f29c",
       "style": "IPY_MODEL_944d3325079d4083b64341c98f87483d"
      }
     },
     "fe845e1632c94ef197f4e6adeccd2b3a": {
      "model_module": "@jupyter-widgets/controls",
      "model_module_version": "1.4.0",
      "model_name": "DescriptionStyleModel",
      "state": {
       "description_width": ""
      }
     },
     "fe8e937776954f75a92d6e13bb59b103": {
      "model_module": "@jupyter-widgets/base",
      "model_module_version": "1.1.0",
      "model_name": "LayoutModel",
      "state": {
       "width": "auto"
      }
     },
     "feb0965ddeef41659046fc015804a95a": {
      "model_module": "@jupyter-widgets/controls",
      "model_module_version": "1.4.0",
      "model_name": "DescriptionStyleModel",
      "state": {
       "description_width": ""
      }
     },
     "feb75a0bf8964ff7b61510a2eff25bbb": {
      "model_module": "@jupyter-widgets/controls",
      "model_module_version": "1.4.0",
      "model_name": "ButtonStyleModel",
      "state": {}
     },
     "fed23fbf9669427d8c1d83920da65968": {
      "model_module": "@jupyter-widgets/base",
      "model_module_version": "1.1.0",
      "model_name": "LayoutModel",
      "state": {}
     },
     "ff2482449aa5405ea9833782d9eaece1": {
      "model_module": "@jupyter-widgets/base",
      "model_module_version": "1.1.0",
      "model_name": "LayoutModel",
      "state": {}
     },
     "ff3b1fa3f2f74c819781716cb7b07b29": {
      "model_module": "@jupyter-widgets/controls",
      "model_module_version": "1.4.0",
      "model_name": "HTMLModel",
      "state": {
       "layout": "IPY_MODEL_ec52c289f9414e82897a79bb14767d29",
       "style": "IPY_MODEL_0f275916c5914f848c0011e5c6dd67aa",
       "value": "<h4 style='color:purple'>Edge :</h4>"
      }
     },
     "ff69e22c20004cf9b70a25c4c7e59e64": {
      "model_module": "@jupyter-widgets/controls",
      "model_module_version": "1.4.0",
      "model_name": "DescriptionStyleModel",
      "state": {
       "description_width": ""
      }
     },
     "ff9152e138d542f983dcfd523b72e1be": {
      "model_module": "@jupyter-widgets/base",
      "model_module_version": "1.1.0",
      "model_name": "LayoutModel",
      "state": {
       "padding": "10px 0px 0px 0px"
      }
     },
     "ff95a6d138e24113a33a85e8b2b524b1": {
      "model_module": "@jupyter-widgets/controls",
      "model_module_version": "1.4.0",
      "model_name": "ButtonModel",
      "state": {
       "button_style": "primary",
       "description": "Undo",
       "disabled": true,
       "layout": "IPY_MODEL_82029356d5c44d0dbf2f1dbcc30d74d4",
       "style": "IPY_MODEL_ca9b19a360bf45dd8d4522c653954a91"
      }
     },
     "ffca0512f1ed43a2ade2bf80faf01f6a": {
      "model_module": "@jupyter-widgets/controls",
      "model_module_version": "1.4.0",
      "model_name": "LabelModel",
      "state": {
       "layout": "IPY_MODEL_c738db504bd84d75b26bf563b56d77b1",
       "style": "IPY_MODEL_1f383384b40e4fb086c0d76631d9ee79",
       "value": "Size :"
      }
     },
     "ffdc68e53c3640599d1cd2526438829f": {
      "model_module": "@jupyter-widgets/controls",
      "model_module_version": "1.4.0",
      "model_name": "DescriptionStyleModel",
      "state": {
       "description_width": ""
      }
     }
    },
    "version_major": 2,
    "version_minor": 0
   }
  }
 },
 "nbformat": 4,
 "nbformat_minor": 2
}
