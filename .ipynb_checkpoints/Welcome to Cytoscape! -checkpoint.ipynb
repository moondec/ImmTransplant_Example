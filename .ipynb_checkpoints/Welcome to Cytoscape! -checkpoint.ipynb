{
 "cells": [
  {
   "cell_type": "code",
   "execution_count": null,
   "metadata": {},
   "outputs": [],
   "source": [
    "%run ~/Apps/Cytoscape/embed.ipynb  #<-- Loads Cytoscape"
   ]
  },
  {
   "cell_type": "code",
   "execution_count": null,
   "metadata": {
    "cell_style": "center"
   },
   "outputs": [],
   "source": [
    "HTML(\"\"\"\n",
    "<div class=\"row\"><div class=\"col-xs-12 col-md-offset-3 col-md-6\">\n",
    "<div class=\"embed-responsive embed-responsive-16by9\">\n",
    "  <iframe class=\"embed-responsive-item\"\n",
    "  src='https://www.youtube.com/embed/lA1-lHms0I0'></iframe></div>\n",
    "</div></div>\n",
    "\"\"\")"
   ]
  },
  {
   "cell_type": "markdown",
   "metadata": {},
   "source": [
    "<img class=\"img-responsive\" width=\"30%\" src=\"https://storage.googleapis.com/bakar-data/cytoscape/cytoscape_logo.png\">\n"
   ]
  },
  {
   "cell_type": "code",
   "execution_count": null,
   "metadata": {
    "cell_style": "split"
   },
   "outputs": [],
   "source": [
    "display( Graph.html.cy )"
   ]
  },
  {
   "cell_type": "code",
   "execution_count": null,
   "metadata": {
    "cell_style": "split",
    "scrolled": false
   },
   "outputs": [],
   "source": [
    "display( Graph.box.editor )"
   ]
  },
  {
   "cell_type": "code",
   "execution_count": null,
   "metadata": {
    "cell_style": "split",
    "scrolled": true
   },
   "outputs": [],
   "source": [
    "display( Graph.html.table )"
   ]
  },
  {
   "cell_type": "code",
   "execution_count": null,
   "metadata": {
    "cell_style": "split",
    "scrolled": false
   },
   "outputs": [],
   "source": [
    "display( Graph.box.loadSave )"
   ]
  },
  {
   "cell_type": "code",
   "execution_count": null,
   "metadata": {},
   "outputs": [],
   "source": [
    "Graph.js.load()"
   ]
  },
  {
   "cell_type": "code",
   "execution_count": null,
   "metadata": {},
   "outputs": [],
   "source": []
  },
  {
   "cell_type": "code",
   "execution_count": null,
   "metadata": {},
   "outputs": [],
   "source": []
  }
 ],
 "metadata": {
  "hide_input": false,
  "kernelspec": {
   "display_name": "Python 3",
   "language": "python",
   "name": "python3"
  },
  "language_info": {
   "codemirror_mode": {
    "name": "ipython",
    "version": 3
   },
   "file_extension": ".py",
   "mimetype": "text/x-python",
   "name": "python",
   "nbconvert_exporter": "python",
   "pygments_lexer": "ipython3",
   "version": "3.7.3"
  },
  "toc": {
   "base_numbering": 1,
   "nav_menu": {},
   "number_sections": true,
   "sideBar": true,
   "skip_h1_title": false,
   "title_cell": "Table of Contents",
   "title_sidebar": "Contents",
   "toc_cell": false,
   "toc_position": {},
   "toc_section_display": true,
   "toc_window_display": false
  },
  "varInspector": {
   "cols": {
    "lenName": 16,
    "lenType": 16,
    "lenVar": 40
   },
   "kernels_config": {
    "python": {
     "delete_cmd_postfix": "",
     "delete_cmd_prefix": "del ",
     "library": "var_list.py",
     "varRefreshCmd": "print(var_dic_list())"
    },
    "r": {
     "delete_cmd_postfix": ") ",
     "delete_cmd_prefix": "rm(",
     "library": "var_list.r",
     "varRefreshCmd": "cat(var_dic_list()) "
    }
   },
   "types_to_exclude": [
    "module",
    "function",
    "builtin_function_or_method",
    "instance",
    "_Feature"
   ],
   "window_display": false
  },
  "widgets": {
   "application/vnd.jupyter.widget-state+json": {
    "state": {
     "003bc36e78724f08979a90f279be0448": {
      "model_module": "@jupyter-widgets/base",
      "model_module_version": "1.1.0",
      "model_name": "LayoutModel",
      "state": {}
     },
     "00575252380c4b3b9431fb7a5563bb67": {
      "model_module": "@jupyter-widgets/controls",
      "model_module_version": "1.4.0",
      "model_name": "HBoxModel",
      "state": {
       "children": [
        "IPY_MODEL_99ce665504034d0eac6c4491ef732f57",
        "IPY_MODEL_54067b72997b4b03842b93647b99b18d"
       ],
       "layout": "IPY_MODEL_5e4e0d3e6deb4e928b7a766dfc4a855a"
      }
     },
     "00c4cfcab5644434b54605b55fcf86e6": {
      "model_module": "@jupyter-widgets/controls",
      "model_module_version": "1.4.0",
      "model_name": "ButtonStyleModel",
      "state": {}
     },
     "00fe99d26492479e8a6d1ebee07cd594": {
      "model_module": "@jupyter-widgets/controls",
      "model_module_version": "1.4.0",
      "model_name": "HBoxModel",
      "state": {
       "children": [
        "IPY_MODEL_2e125c27043e4bc58ca48aac947b750b",
        "IPY_MODEL_71df9d811671497e9cd9a080c72c573b"
       ],
       "layout": "IPY_MODEL_b98cda9860c44b51a8ab4b7e4937a861"
      }
     },
     "014cbe601c414bf18e5afbfac9865417": {
      "model_module": "@jupyter-widgets/controls",
      "model_module_version": "1.4.0",
      "model_name": "DescriptionStyleModel",
      "state": {
       "description_width": ""
      }
     },
     "01cd871f4f0a4553a6be886835dfe923": {
      "model_module": "@jupyter-widgets/base",
      "model_module_version": "1.1.0",
      "model_name": "LayoutModel",
      "state": {
       "justify_content": "center"
      }
     },
     "021f124fd1744391b524804a3e855bd1": {
      "model_module": "@jupyter-widgets/controls",
      "model_module_version": "1.4.0",
      "model_name": "DescriptionStyleModel",
      "state": {
       "description_width": ""
      }
     },
     "027d2a3916bd4f0bb78a94590b8b1e7c": {
      "model_module": "@jupyter-widgets/controls",
      "model_module_version": "1.4.0",
      "model_name": "TextModel",
      "state": {
       "description": "Username :",
       "layout": "IPY_MODEL_37d623e363ff45ca946fa948dae97030",
       "style": "IPY_MODEL_4ab53397ee07435ebb4f608f2fde31d7"
      }
     },
     "031ae35c6d8a4742a3037cba6a40eb50": {
      "model_module": "@jupyter-widgets/base",
      "model_module_version": "1.1.0",
      "model_name": "LayoutModel",
      "state": {
       "width": "auto"
      }
     },
     "032186d414944856ba07c78cfdf31975": {
      "model_module": "@jupyter-widgets/controls",
      "model_module_version": "1.4.0",
      "model_name": "DescriptionStyleModel",
      "state": {
       "description_width": ""
      }
     },
     "033348abd8d44b67bd2ac14615b956f9": {
      "model_module": "@jupyter-widgets/controls",
      "model_module_version": "1.4.0",
      "model_name": "ButtonStyleModel",
      "state": {}
     },
     "0350ecbf7a9645d791a1c85ef6e213c9": {
      "model_module": "@jupyter-widgets/base",
      "model_module_version": "1.1.0",
      "model_name": "LayoutModel",
      "state": {}
     },
     "038ae595d61e4ed3a97bc4d8b290dc1b": {
      "model_module": "@jupyter-widgets/controls",
      "model_module_version": "1.4.0",
      "model_name": "ButtonStyleModel",
      "state": {}
     },
     "03b9b1f847dd437a851a06e1cadd38d0": {
      "model_module": "@jupyter-widgets/controls",
      "model_module_version": "1.4.0",
      "model_name": "HBoxModel",
      "state": {
       "children": [
        "IPY_MODEL_162bd493a49f4a45a2c213070ad51b87",
        "IPY_MODEL_419bd30d26914b3691e322b24402ca81",
        "IPY_MODEL_ebe888cd289445adbc2ff3b1ad35cea0"
       ],
       "layout": "IPY_MODEL_20356e4313a44ef8a1cc38d291f0610c"
      }
     },
     "0438b4182a654bc0a4799c6e4752adae": {
      "model_module": "@jupyter-widgets/controls",
      "model_module_version": "1.4.0",
      "model_name": "HTMLModel",
      "state": {
       "layout": "IPY_MODEL_80eec1016062414fa1630aeed21d2a6f",
       "style": "IPY_MODEL_d6042313a5ce4b939b1c6a6f7feecfbd",
       "value": "<h3 class='text-center' style='color:red'>Error in .html File</h3>"
      }
     },
     "045150e94d4b4ee5893fc3d20a1105ac": {
      "model_module": "@jupyter-widgets/controls",
      "model_module_version": "1.4.0",
      "model_name": "FloatTextModel",
      "state": {
       "continuous_update": true,
       "layout": "IPY_MODEL_c1b2d1f672fe4e5582f8b32f53996a07",
       "step": null,
       "style": "IPY_MODEL_23fbf52dfa464ef787e83754ad86e877"
      }
     },
     "04b58ce5514d422f933e2c54483bd40a": {
      "model_module": "@jupyter-widgets/controls",
      "model_module_version": "1.4.0",
      "model_name": "DescriptionStyleModel",
      "state": {
       "description_width": ""
      }
     },
     "04d590757527487cb9866c05188ba009": {
      "model_module": "@jupyter-widgets/controls",
      "model_module_version": "1.4.0",
      "model_name": "HTMLModel",
      "state": {
       "layout": "IPY_MODEL_c38e1c38a2a340a18a1487e1580a46d7",
       "style": "IPY_MODEL_ef7e72e9faac4ba692a0a0c50010b3a9",
       "value": "<h5>Title  &nbsp</h5> "
      }
     },
     "054824e7672c4fa0ae47f196bbfeed8f": {
      "model_module": "@jupyter-widgets/controls",
      "model_module_version": "1.4.0",
      "model_name": "HBoxModel",
      "state": {
       "children": [
        "IPY_MODEL_e47dc116881144e99bad6ab0647d4c15",
        "IPY_MODEL_73f69a6434144239915c9c8bf87b751f",
        "IPY_MODEL_6be323efc50e44a9ad1d54ebd32e38fc"
       ],
       "layout": "IPY_MODEL_39717016a67b4961b4a80b62f5bb4470"
      }
     },
     "05d21dd1c6004e58b5725f8bc42c581d": {
      "model_module": "@jupyter-widgets/controls",
      "model_module_version": "1.4.0",
      "model_name": "FloatTextModel",
      "state": {
       "continuous_update": true,
       "layout": "IPY_MODEL_d4849562a8ed4f73bc6ddf2c5716cfe9",
       "step": null,
       "style": "IPY_MODEL_46c1830b0cc44e87bea2027c8b14d456"
      }
     },
     "05f8e16f87754ecf9c49654d20387e88": {
      "model_module": "@jupyter-widgets/controls",
      "model_module_version": "1.4.0",
      "model_name": "DescriptionStyleModel",
      "state": {
       "description_width": ""
      }
     },
     "05ffe58080bc478cbbe6b808a5cb8953": {
      "model_module": "@jupyter-widgets/controls",
      "model_module_version": "1.4.0",
      "model_name": "HBoxModel",
      "state": {
       "children": [
        "IPY_MODEL_55f73dc3a2ae42f299576a3e2f576895",
        "IPY_MODEL_556b64ec32c747d49692112e392d5bf5",
        "IPY_MODEL_4729d4e6223848e1804db7716dd46c5a"
       ],
       "layout": "IPY_MODEL_135dfdf465414ce997c3b7977748cfdb"
      }
     },
     "0602b400bc094756a4440db25ce8a4cf": {
      "model_module": "@jupyter-widgets/base",
      "model_module_version": "1.1.0",
      "model_name": "LayoutModel",
      "state": {}
     },
     "062bfc40f44d41d2a50042f46f62496b": {
      "model_module": "@jupyter-widgets/controls",
      "model_module_version": "1.4.0",
      "model_name": "DescriptionStyleModel",
      "state": {
       "description_width": ""
      }
     },
     "062f276c5ca3421f9eb863f2a313c6cf": {
      "model_module": "@jupyter-widgets/controls",
      "model_module_version": "1.4.0",
      "model_name": "ButtonStyleModel",
      "state": {}
     },
     "065032267bea4f2391d5059e1e785015": {
      "model_module": "@jupyter-widgets/base",
      "model_module_version": "1.1.0",
      "model_name": "LayoutModel",
      "state": {
       "width": "auto"
      }
     },
     "0784a004742f46f380bed23ddb01e8db": {
      "model_module": "@jupyter-widgets/controls",
      "model_module_version": "1.4.0",
      "model_name": "DescriptionStyleModel",
      "state": {
       "description_width": ""
      }
     },
     "078e5afa6d144dabb1265ff19aabaa80": {
      "model_module": "@jupyter-widgets/controls",
      "model_module_version": "1.4.0",
      "model_name": "DescriptionStyleModel",
      "state": {
       "description_width": ""
      }
     },
     "07a9bec44ea2497ab580b0b8c946fb75": {
      "model_module": "@jupyter-widgets/controls",
      "model_module_version": "1.4.0",
      "model_name": "ButtonModel",
      "state": {
       "button_style": "danger",
       "description": "Remove",
       "layout": "IPY_MODEL_95ff0010a4bc4aa08c5bb4ac71b38a45",
       "style": "IPY_MODEL_c0bdb4865a91459faf6d162955bbdb9d"
      }
     },
     "07b148251c584caca08b3b6e78bbb4fe": {
      "model_module": "@jupyter-widgets/controls",
      "model_module_version": "1.4.0",
      "model_name": "HTMLModel",
      "state": {
       "layout": "IPY_MODEL_d112b2db73dc4ccfa855674a0910cc8b",
       "style": "IPY_MODEL_014cbe601c414bf18e5afbfac9865417",
       "value": "<h5>Paste the <a>NDEx URL</a> of the dataset to download :</h5>"
      }
     },
     "07bc058545d74e03958f2d8a57f1af5c": {
      "model_module": "@jupyter-widgets/controls",
      "model_module_version": "1.4.0",
      "model_name": "HTMLModel",
      "state": {
       "layout": "IPY_MODEL_2ed7543d09ce44d381a6a4b8b1f9aa1c",
       "style": "IPY_MODEL_ca18b8fb3bc04096a9e299a9d35fa186",
       "value": "<h5>Name  &nbsp</h5> "
      }
     },
     "07f71bdd0abc412688554a220057ae3c": {
      "model_module": "@jupyter-widgets/controls",
      "model_module_version": "1.4.0",
      "model_name": "ButtonModel",
      "state": {
       "button_style": "primary",
       "description": "Create",
       "layout": "IPY_MODEL_adf6710c749647fd913d5b0bce034735",
       "style": "IPY_MODEL_72b18101a47c4e9ca656c6757470b150"
      }
     },
     "080528bd401748978f18df5882ce5ed1": {
      "model_module": "@jupyter-widgets/controls",
      "model_module_version": "1.4.0",
      "model_name": "HBoxModel",
      "state": {
       "children": [
        "IPY_MODEL_86110a616c9849bd85c8db62b2c3d41b",
        "IPY_MODEL_b908eddc94cf41b3b4576a4851a9efbd",
        "IPY_MODEL_e7c01e00985b424a96c6c19d0bdfb5d7"
       ],
       "layout": "IPY_MODEL_7d56652089404128987186b15af23f9d"
      }
     },
     "0865e45c740340c8bd2239b8779fe7e8": {
      "model_module": "@jupyter-widgets/controls",
      "model_module_version": "1.4.0",
      "model_name": "HTMLModel",
      "state": {
       "layout": "IPY_MODEL_3efa9913d746450ab3ae47be450bdfde",
       "style": "IPY_MODEL_cb0b2b38fd8b458daa468b76ab81bb32",
       "value": "<font size=3 style='justify-content: center;'>EdgeCount : </font>"
      }
     },
     "08687d5e2445433ebaec9db57db023c9": {
      "model_module": "@jupyter-widgets/base",
      "model_module_version": "1.1.0",
      "model_name": "LayoutModel",
      "state": {
       "padding": "0px 0px 10px 0px"
      }
     },
     "0880f1ee2012450cb348976e3eca030c": {
      "model_module": "@jupyter-widgets/controls",
      "model_module_version": "1.4.0",
      "model_name": "HBoxModel",
      "state": {
       "children": [
        "IPY_MODEL_1b505461a3a2453a885b272f4b3afb57",
        "IPY_MODEL_e0f9b5b181744b3d9e1e9ab13a1f987d",
        "IPY_MODEL_77061780c68244018f3e4dd50654ffa0"
       ],
       "layout": "IPY_MODEL_4cda01c624a440dcaeeb5b52491466f6"
      }
     },
     "08bf713a90c64a76b4cb31bcb554b4f3": {
      "model_module": "@jupyter-widgets/controls",
      "model_module_version": "1.4.0",
      "model_name": "HBoxModel",
      "state": {
       "children": [
        "IPY_MODEL_dca9f555b90049f58febcf618a954358",
        "IPY_MODEL_9d6b7ffb64ce453f83f70c763dd09c78",
        "IPY_MODEL_ad4d0f804d054b0791b7ef699aae6309"
       ],
       "layout": "IPY_MODEL_25a1f223cf4f4f4faa6081aece1ad22d"
      }
     },
     "08f8182cdb574c68b5a87e1936144376": {
      "model_module": "@jupyter-widgets/base",
      "model_module_version": "1.1.0",
      "model_name": "LayoutModel",
      "state": {}
     },
     "09e95820f8ed4f199ca7c662995559be": {
      "model_module": "@jupyter-widgets/controls",
      "model_module_version": "1.4.0",
      "model_name": "DescriptionStyleModel",
      "state": {
       "description_width": ""
      }
     },
     "0a88efb3177c478bab58c9f26f8e2bdd": {
      "model_module": "@jupyter-widgets/controls",
      "model_module_version": "1.4.0",
      "model_name": "ButtonStyleModel",
      "state": {}
     },
     "0b0f754ec09f4534ba71344d91fd8f6a": {
      "model_module": "@jupyter-widgets/controls",
      "model_module_version": "1.4.0",
      "model_name": "DescriptionStyleModel",
      "state": {
       "description_width": ""
      }
     },
     "0b81a3909d614a75a4d541b83b43f03b": {
      "model_module": "@jupyter-widgets/controls",
      "model_module_version": "1.4.0",
      "model_name": "ToggleButtonModel",
      "state": {
       "button_style": "info",
       "description": "Border",
       "layout": "IPY_MODEL_065032267bea4f2391d5059e1e785015",
       "style": "IPY_MODEL_920059f2715c434ba40ec6ad18f26986"
      }
     },
     "0b85027eb3a54ebcb043518d125bb2d8": {
      "model_module": "@jupyter-widgets/controls",
      "model_module_version": "1.4.0",
      "model_name": "VBoxModel",
      "state": {
       "children": [
        "IPY_MODEL_7afafb1361fa4202bcba15dbc9b81952",
        "IPY_MODEL_971e85dbb08d45509289cefcf1e47de0"
       ],
       "layout": "IPY_MODEL_ee3367e304b046a0b2cd00f1126ee2ef"
      }
     },
     "0bbe0ac07233440683bcdf07b2d8bc04": {
      "model_module": "@jupyter-widgets/base",
      "model_module_version": "1.1.0",
      "model_name": "LayoutModel",
      "state": {}
     },
     "0bf5f0dcc58442788aa6a86bc325e0d5": {
      "model_module": "@jupyter-widgets/base",
      "model_module_version": "1.1.0",
      "model_name": "LayoutModel",
      "state": {}
     },
     "0bf6db8118674009af5017b1bdd629b6": {
      "model_module": "@jupyter-widgets/controls",
      "model_module_version": "1.4.0",
      "model_name": "DescriptionStyleModel",
      "state": {
       "description_width": ""
      }
     },
     "0dd08bb64e684ea8b8339e3278bbbbf6": {
      "model_module": "@jupyter-widgets/controls",
      "model_module_version": "1.4.0",
      "model_name": "HTMLModel",
      "state": {
       "layout": "IPY_MODEL_38f71d6bd77b494191547eebaef75edf",
       "style": "IPY_MODEL_66a73799f66e41308f3b1afe3312cfce",
       "value": "<h3 class='text-center' style='color:red'>Error in Dataframe</h3>"
      }
     },
     "0dfa2cc678c74e1da1a4a7ed2392e43e": {
      "model_module": "@jupyter-widgets/base",
      "model_module_version": "1.1.0",
      "model_name": "LayoutModel",
      "state": {
       "width": "auto"
      }
     },
     "0f2382b340d447f0904fd0f3004fc71a": {
      "model_module": "@jupyter-widgets/controls",
      "model_module_version": "1.4.0",
      "model_name": "DescriptionStyleModel",
      "state": {
       "description_width": ""
      }
     },
     "0fbf39c3bb494c2089d5acd39b19c777": {
      "model_module": "@jupyter-widgets/base",
      "model_module_version": "1.1.0",
      "model_name": "LayoutModel",
      "state": {}
     },
     "0fe6cf8f4bdd49f2af7176fc8139a27d": {
      "model_module": "@jupyter-widgets/base",
      "model_module_version": "1.1.0",
      "model_name": "LayoutModel",
      "state": {
       "padding": "10px 0px 0px 0px"
      }
     },
     "104dda16b57d4307b8d05236599647a4": {
      "model_module": "@jupyter-widgets/controls",
      "model_module_version": "1.4.0",
      "model_name": "HBoxModel",
      "state": {
       "children": [
        "IPY_MODEL_c27f4cd89b99442ca7b2a2443bd6ab96",
        "IPY_MODEL_fc42044bed554d459358db3d9bcb531a"
       ],
       "layout": "IPY_MODEL_47595e11e21a4b9fa499683511d7daa6"
      }
     },
     "1098dc7703fe413ab36e5d8c93d92c6e": {
      "model_module": "@jupyter-widgets/controls",
      "model_module_version": "1.4.0",
      "model_name": "LabelModel",
      "state": {
       "layout": "IPY_MODEL_62817f3ea7a340a5b308ca767a26f4bf",
       "style": "IPY_MODEL_9495190423f443deaa48208c741287b9",
       "value": "Position :"
      }
     },
     "10b833d37a284d2c83c141b0395edbe9": {
      "model_module": "@jupyter-widgets/base",
      "model_module_version": "1.1.0",
      "model_name": "LayoutModel",
      "state": {
       "width": "auto"
      }
     },
     "110cd10e6f1f4f56b476e83dad7aff6e": {
      "model_module": "@jupyter-widgets/controls",
      "model_module_version": "1.4.0",
      "model_name": "HTMLModel",
      "state": {
       "layout": "IPY_MODEL_f64b3c269f564b6c84e2d14afb479235",
       "style": "IPY_MODEL_e6b0f7c74a154e49bc178fd8fb83716d",
       "value": "<font size=3 style='justify-content: center;'>PartnerOfMultiEdgedNodePairs : </font>"
      }
     },
     "110f3ab4d1eb41b58667605a632bb168": {
      "model_module": "@jupyter-widgets/controls",
      "model_module_version": "1.4.0",
      "model_name": "DescriptionStyleModel",
      "state": {
       "description_width": ""
      }
     },
     "112ea925a20b4e92b9d8857bfeadcec0": {
      "model_module": "@jupyter-widgets/controls",
      "model_module_version": "1.4.0",
      "model_name": "HTMLModel",
      "state": {
       "layout": "IPY_MODEL_42170a9f38884d4b902359acb1fc5403",
       "style": "IPY_MODEL_6d4a8929771c485fab27c1240c9186a1",
       "value": "<font size=3 style='justify-content: center;'>width_full : </font>"
      }
     },
     "1159882c70494a44a2b24d9691ff4969": {
      "model_module": "@jupyter-widgets/controls",
      "model_module_version": "1.4.0",
      "model_name": "VBoxModel",
      "state": {
       "children": [
        "IPY_MODEL_13d18adf18364fd1a838e3cb75b88829",
        "IPY_MODEL_ee682827d77c4b8087075ee339db1f1f",
        "IPY_MODEL_5eff580e85734969b73f251ac5310566",
        "IPY_MODEL_5bbf8381e85c484b9f4c108dc7d4a8d9",
        "IPY_MODEL_5bc38a0a0e794b37a956f7d40119144f",
        "IPY_MODEL_080528bd401748978f18df5882ce5ed1",
        "IPY_MODEL_0880f1ee2012450cb348976e3eca030c",
        "IPY_MODEL_08bf713a90c64a76b4cb31bcb554b4f3"
       ],
       "layout": "IPY_MODEL_1844eee1cb25486290d342ab4c25e187"
      }
     },
     "11a71fd7e0924a3285e6e8063222aac3": {
      "model_module": "@jupyter-widgets/controls",
      "model_module_version": "1.4.0",
      "model_name": "DescriptionStyleModel",
      "state": {
       "description_width": ""
      }
     },
     "11df6d988e944d06af188245e10c5e4e": {
      "model_module": "@jupyter-widgets/controls",
      "model_module_version": "1.4.0",
      "model_name": "ButtonModel",
      "state": {
       "button_style": "danger",
       "description": "Remove",
       "layout": "IPY_MODEL_fea17c44ed214d4797dce8734e8df6a7",
       "style": "IPY_MODEL_1b380fcf0edf4c1098592d40e5a9c762"
      }
     },
     "1264b6d4aacf42859b2457e69a81bb20": {
      "model_module": "@jupyter-widgets/controls",
      "model_module_version": "1.4.0",
      "model_name": "VBoxModel",
      "state": {
       "children": [
        "IPY_MODEL_6b6434ed4dbd4b978332caeda098dfe0",
        "IPY_MODEL_25f0de937bcb4175a893c0d9edbb4739",
        "IPY_MODEL_b726670c0d854eaeb967ad2648ea29f8",
        "IPY_MODEL_b49b834e7fd7496a9ebf35dee1afd91e"
       ],
       "layout": "IPY_MODEL_ef71c9fb9210463cb2c0d0b64ab6b8d9"
      }
     },
     "12bd7cc31c6b4b8bb69c9cde9c697d3f": {
      "model_module": "@jupyter-widgets/base",
      "model_module_version": "1.1.0",
      "model_name": "LayoutModel",
      "state": {}
     },
     "135dfdf465414ce997c3b7977748cfdb": {
      "model_module": "@jupyter-widgets/base",
      "model_module_version": "1.1.0",
      "model_name": "LayoutModel",
      "state": {}
     },
     "1388951da3da4b2dad48dc0c989b4b67": {
      "model_module": "@jupyter-widgets/base",
      "model_module_version": "1.1.0",
      "model_name": "LayoutModel",
      "state": {}
     },
     "13bbb7cdaba54da7a93f06693c09f53e": {
      "model_module": "@jupyter-widgets/controls",
      "model_module_version": "1.4.0",
      "model_name": "HTMLModel",
      "state": {
       "layout": "IPY_MODEL_7693453418ea44c5930f58b121c6c0d7",
       "style": "IPY_MODEL_7a6aa2ab1811493cade92c82f7ab148d",
       "value": "<font size=3 style='justify-content: center;'>NeighborhoodConnectivity : </font>"
      }
     },
     "13d18adf18364fd1a838e3cb75b88829": {
      "model_module": "@jupyter-widgets/controls",
      "model_module_version": "1.4.0",
      "model_name": "HBoxModel",
      "state": {
       "children": [
        "IPY_MODEL_112ea925a20b4e92b9d8857bfeadcec0",
        "IPY_MODEL_d0901bc704d14e9f83d991ad1fa80543",
        "IPY_MODEL_f9102dd528f64168b0f49b78970025ab"
       ],
       "layout": "IPY_MODEL_f9ae765ec8914e7ea99887caafd8dd70"
      }
     },
     "144bdd80e5d449a88adb21077c63c2dd": {
      "model_module": "@jupyter-widgets/controls",
      "model_module_version": "1.4.0",
      "model_name": "TextareaModel",
      "state": {
       "layout": "IPY_MODEL_736973b77848447cbab7189d47cd1f20",
       "style": "IPY_MODEL_9ab20ce281f34691bf32cd504f5fd39e"
      }
     },
     "146ef9272e2241ff89e0c97031f55be7": {
      "model_module": "@jupyter-widgets/controls",
      "model_module_version": "1.4.0",
      "model_name": "DescriptionStyleModel",
      "state": {
       "description_width": ""
      }
     },
     "1516b0d7a3884d43b3fc52de1fe6459e": {
      "model_module": "@jupyter-widgets/base",
      "model_module_version": "1.1.0",
      "model_name": "LayoutModel",
      "state": {}
     },
     "152e3c094cb249168bce3d06b6f3d7e6": {
      "model_module": "@jupyter-widgets/controls",
      "model_module_version": "1.4.0",
      "model_name": "HTMLModel",
      "state": {
       "layout": "IPY_MODEL_7a5e6b7ed6ea4dbaa51122b55bacbd4f",
       "style": "IPY_MODEL_796a5906f8b343fcbf558523c90f5a88",
       "value": "<b><p><a href='http://js.cytoscape.org/#selectors'>Search:</a></p></b>"
      }
     },
     "1576c2f71db84adeacbb092acc9fd4d8": {
      "model_module": "@jupyter-widgets/controls",
      "model_module_version": "1.4.0",
      "model_name": "DescriptionStyleModel",
      "state": {
       "description_width": ""
      }
     },
     "15a6e07d86da4d439ec8e69132c97de6": {
      "model_module": "@jupyter-widgets/controls",
      "model_module_version": "1.4.0",
      "model_name": "HTMLModel",
      "state": {
       "layout": "IPY_MODEL_49cb94607238485687015b6c13684d58",
       "style": "IPY_MODEL_e925ac64df4e4ceb80cff3154dd8b524",
       "value": "<h4 style='color: DarkKhaki'>Nodes</h4>"
      }
     },
     "15b77da67804444a94d60da3094dcafb": {
      "model_module": "@jupyter-widgets/base",
      "model_module_version": "1.1.0",
      "model_name": "LayoutModel",
      "state": {}
     },
     "15d4a505267d46e5b03e313d130872c3": {
      "model_module": "@jupyter-widgets/base",
      "model_module_version": "1.1.0",
      "model_name": "LayoutModel",
      "state": {}
     },
     "15ea20e97a1c494fa7c31feac0b9f062": {
      "model_module": "@jupyter-widgets/controls",
      "model_module_version": "1.4.0",
      "model_name": "ButtonModel",
      "state": {
       "button_style": "success",
       "description": "Save",
       "layout": "IPY_MODEL_a0041db66bb1484bb70ac09e3a2baa5b",
       "style": "IPY_MODEL_062f276c5ca3421f9eb863f2a313c6cf"
      }
     },
     "162bd493a49f4a45a2c213070ad51b87": {
      "model_module": "@jupyter-widgets/controls",
      "model_module_version": "1.4.0",
      "model_name": "HTMLModel",
      "state": {
       "layout": "IPY_MODEL_b06e6eceb6634f28bd751e858da96c7d",
       "style": "IPY_MODEL_7dd3abaf26b34e9cb2d1d26eef9e551c",
       "value": "<font size=3 style='justify-content: center;'>degree_layout : </font>"
      }
     },
     "162e7eb932b94708a334ee328ed330cd": {
      "model_module": "@jupyter-widgets/controls",
      "model_module_version": "1.4.0",
      "model_name": "HBoxModel",
      "state": {
       "children": [
        "IPY_MODEL_cfaf244d6ed7409cb8640cf3c9c665d4"
       ],
       "layout": "IPY_MODEL_01cd871f4f0a4553a6be886835dfe923"
      }
     },
     "16ca250b8a3b4e6f968dd86f13b0e7e2": {
      "model_module": "@jupyter-widgets/controls",
      "model_module_version": "1.4.0",
      "model_name": "FloatTextModel",
      "state": {
       "continuous_update": true,
       "layout": "IPY_MODEL_d9571d1fa5604d40936a85cf2309cf46",
       "step": null,
       "style": "IPY_MODEL_9cd8575db38a4e53a1b5d3aaa4c94a30"
      }
     },
     "16cd9027ac57493aa2075c56d9683b29": {
      "model_module": "@jupyter-widgets/controls",
      "model_module_version": "1.4.0",
      "model_name": "ButtonStyleModel",
      "state": {}
     },
     "170f802998134fb587a8723497d49cbf": {
      "model_module": "@jupyter-widgets/controls",
      "model_module_version": "1.4.0",
      "model_name": "ButtonModel",
      "state": {
       "button_style": "danger",
       "icon": "image",
       "layout": "IPY_MODEL_3e7892cb933a4e47825e07a04bc0f63f",
       "style": "IPY_MODEL_ca5dcf8a92704b3681c53230b083886e"
      }
     },
     "17238ac2ada7459881306247b58a2605": {
      "model_module": "@jupyter-widgets/base",
      "model_module_version": "1.1.0",
      "model_name": "LayoutModel",
      "state": {
       "visibility": "hidden"
      }
     },
     "172aefc5ce054913aef14b96aea9c826": {
      "model_module": "@jupyter-widgets/controls",
      "model_module_version": "1.4.0",
      "model_name": "FloatSliderModel",
      "state": {
       "layout": "IPY_MODEL_15d4a505267d46e5b03e313d130872c3",
       "max": 1,
       "step": 0.05,
       "style": "IPY_MODEL_eb891c226b0549d0a91015fcada07ccd",
       "value": 0.5
      }
     },
     "1774f3f6c7524aca8682a6a9fe2215f9": {
      "model_module": "@jupyter-widgets/controls",
      "model_module_version": "1.4.0",
      "model_name": "PasswordModel",
      "state": {
       "description": "Password :",
       "layout": "IPY_MODEL_ca44a9e8ad104895840f26362c456248",
       "style": "IPY_MODEL_d9154e705fb74a1ca03d2e2cadbbe351"
      }
     },
     "17d6fd671d384dd9863a4b0c3379a76a": {
      "model_module": "@jupyter-widgets/base",
      "model_module_version": "1.1.0",
      "model_name": "LayoutModel",
      "state": {
       "visibility": "hidden"
      }
     },
     "1812059e03d24e05b23470fa600cfce4": {
      "model_module": "@jupyter-widgets/controls",
      "model_module_version": "1.4.0",
      "model_name": "DescriptionStyleModel",
      "state": {
       "description_width": ""
      }
     },
     "18186dbae1d74b398ff0c52056be2318": {
      "model_module": "@jupyter-widgets/base",
      "model_module_version": "1.1.0",
      "model_name": "LayoutModel",
      "state": {}
     },
     "1844eee1cb25486290d342ab4c25e187": {
      "model_module": "@jupyter-widgets/base",
      "model_module_version": "1.1.0",
      "model_name": "LayoutModel",
      "state": {}
     },
     "18512dbc667940dba60220fd49c41ddd": {
      "model_module": "@jupyter-widgets/controls",
      "model_module_version": "1.4.0",
      "model_name": "HTMLModel",
      "state": {
       "layout": "IPY_MODEL_67f112d62b79414785bd50c9406fe0b5",
       "style": "IPY_MODEL_5a84efab7a2a45148db7ff99796b76cc",
       "value": "<hr style='padding: 2px; margin: 2px'>"
      }
     },
     "186b7f97aec54cfe940b537d201bd8f0": {
      "model_module": "@jupyter-widgets/controls",
      "model_module_version": "1.4.0",
      "model_name": "DescriptionStyleModel",
      "state": {
       "description_width": ""
      }
     },
     "187c701cc81043eaab4a10de05a9f4b2": {
      "model_module": "@jupyter-widgets/base",
      "model_module_version": "1.1.0",
      "model_name": "LayoutModel",
      "state": {}
     },
     "18a1ea76d6f345289ada9dd00f1b84f8": {
      "model_module": "@jupyter-widgets/controls",
      "model_module_version": "1.4.0",
      "model_name": "DescriptionStyleModel",
      "state": {
       "description_width": ""
      }
     },
     "18d99fe776104291ad04a0e77cc478ea": {
      "model_module": "@jupyter-widgets/controls",
      "model_module_version": "1.4.0",
      "model_name": "HTMLModel",
      "state": {
       "layout": "IPY_MODEL_1c701dd2cf534a0cad54610b1826c4d3",
       "style": "IPY_MODEL_9c273fa003ca405fa7cb8eee0fabf531",
       "value": "<hr style='padding: 2px; margin: 2px'>"
      }
     },
     "18e0a1c0644a46019b9d5deda8ac88ba": {
      "model_module": "@jupyter-widgets/base",
      "model_module_version": "1.1.0",
      "model_name": "LayoutModel",
      "state": {}
     },
     "19517f28f6ed44bfa6664d783797302a": {
      "model_module": "@jupyter-widgets/controls",
      "model_module_version": "1.4.0",
      "model_name": "FloatTextModel",
      "state": {
       "continuous_update": true,
       "layout": "IPY_MODEL_cd31b52ae54a40ba8c403f8baf65272f",
       "step": null,
       "style": "IPY_MODEL_bff1429fca4946618ad136de7aae9eb9"
      }
     },
     "195f358f2e0a4d1a9e2bb9339d7f3106": {
      "model_module": "@jupyter-widgets/controls",
      "model_module_version": "1.4.0",
      "model_name": "HTMLModel",
      "state": {
       "layout": "IPY_MODEL_a2167a8e5225439f8b7ebe8352205195",
       "style": "IPY_MODEL_48648f81739f45579692b0edac5a1e42",
       "value": "<h4 style='color:purple'>Edge :</h4>"
      }
     },
     "197c2e0c159f4905b4f0b44fba410b7a": {
      "model_module": "@jupyter-widgets/controls",
      "model_module_version": "1.4.0",
      "model_name": "DescriptionStyleModel",
      "state": {
       "description_width": ""
      }
     },
     "19c3b94b8c994f0b95c34a261982c3a9": {
      "model_module": "@jupyter-widgets/controls",
      "model_module_version": "1.4.0",
      "model_name": "DescriptionStyleModel",
      "state": {
       "description_width": ""
      }
     },
     "19cf2bb6fdac4c29a4e7ccf9f48bbdcc": {
      "model_module": "@jupyter-widgets/controls",
      "model_module_version": "1.4.0",
      "model_name": "DescriptionStyleModel",
      "state": {
       "description_width": ""
      }
     },
     "1b0a81e9fe434ec09e7469d5e77c1458": {
      "model_module": "@jupyter-widgets/base",
      "model_module_version": "1.1.0",
      "model_name": "LayoutModel",
      "state": {}
     },
     "1b380fcf0edf4c1098592d40e5a9c762": {
      "model_module": "@jupyter-widgets/controls",
      "model_module_version": "1.4.0",
      "model_name": "ButtonStyleModel",
      "state": {}
     },
     "1b43ae7ee9b748e2a4dff2f54e87a04b": {
      "model_module": "@jupyter-widgets/controls",
      "model_module_version": "1.4.0",
      "model_name": "DescriptionStyleModel",
      "state": {
       "description_width": ""
      }
     },
     "1b505461a3a2453a885b272f4b3afb57": {
      "model_module": "@jupyter-widgets/controls",
      "model_module_version": "1.4.0",
      "model_name": "HTMLModel",
      "state": {
       "layout": "IPY_MODEL_a10921088fc94e9dafd3fcdcf9168592",
       "style": "IPY_MODEL_81b71787eb144f37ad26036f478b7a56",
       "value": "<font size=3 style='justify-content: center;'>name : </font>"
      }
     },
     "1b5e11c5f4cb495ba95ad23f2eab4057": {
      "model_module": "@jupyter-widgets/controls",
      "model_module_version": "1.4.0",
      "model_name": "SelectModel",
      "state": {
       "_options_labels": [
        "Number",
        "Text"
       ],
       "index": 0,
       "layout": "IPY_MODEL_71fa56459db7411caf5c5e10aceb32ee",
       "style": "IPY_MODEL_383ea9df65f04472b4c2983a7c69c3a0"
      }
     },
     "1bcaa6e66e70458b9848d251cbcdb353": {
      "model_module": "@jupyter-widgets/controls",
      "model_module_version": "1.4.0",
      "model_name": "DescriptionStyleModel",
      "state": {
       "description_width": ""
      }
     },
     "1c04882de7ef4128b5b28235cd4d5034": {
      "model_module": "@jupyter-widgets/controls",
      "model_module_version": "1.4.0",
      "model_name": "DescriptionStyleModel",
      "state": {
       "description_width": ""
      }
     },
     "1c35dfa7aca740d682944784b4914d11": {
      "model_module": "@jupyter-widgets/controls",
      "model_module_version": "1.4.0",
      "model_name": "VBoxModel",
      "state": {
       "children": [
        "IPY_MODEL_97c2718e9f5743e0b449ce36ed140c0f",
        "IPY_MODEL_2b31dad1f39b4aa382541f01594c4c4c",
        "IPY_MODEL_ecf1f6ab433d4c7ba371d1870bea9d92"
       ],
       "layout": "IPY_MODEL_7c2d224467a845caa6ba1bdeb30b8a8c"
      }
     },
     "1c5b1c7f962d4311be1f8a0a3ee87233": {
      "model_module": "@jupyter-widgets/base",
      "model_module_version": "1.1.0",
      "model_name": "LayoutModel",
      "state": {
       "margin": "10px 0 0 0",
       "width": "auto"
      }
     },
     "1c701dd2cf534a0cad54610b1826c4d3": {
      "model_module": "@jupyter-widgets/base",
      "model_module_version": "1.1.0",
      "model_name": "LayoutModel",
      "state": {}
     },
     "1c876161a76f4488b731c494f63799ce": {
      "model_module": "@jupyter-widgets/controls",
      "model_module_version": "1.4.0",
      "model_name": "ButtonStyleModel",
      "state": {}
     },
     "1ce867eb250f4327aa89b9ece04837e2": {
      "model_module": "@jupyter-widgets/base",
      "model_module_version": "1.1.0",
      "model_name": "LayoutModel",
      "state": {}
     },
     "1cfe977d91d3460db63880865539cf9c": {
      "model_module": "@jupyter-widgets/controls",
      "model_module_version": "1.4.0",
      "model_name": "HTMLModel",
      "state": {
       "layout": "IPY_MODEL_0bf5f0dcc58442788aa6a86bc325e0d5",
       "style": "IPY_MODEL_04b58ce5514d422f933e2c54483bd40a",
       "value": "<font size=3 style='justify-content: center;'>definition : </font>"
      }
     },
     "1d61a1a491ae48c9a89bc509aa75cd2f": {
      "model_module": "@jupyter-widgets/controls",
      "model_module_version": "1.4.0",
      "model_name": "IntSliderModel",
      "state": {
       "layout": "IPY_MODEL_1516b0d7a3884d43b3fc52de1fe6459e",
       "max": 5,
       "min": 1,
       "style": "IPY_MODEL_409a4f8cc5f24403b23e7eee6cb2e7df",
       "value": 1
      }
     },
     "1daa107c3f464a7f90bcb6e9580b1988": {
      "model_module": "@jupyter-widgets/controls",
      "model_module_version": "1.4.0",
      "model_name": "DescriptionStyleModel",
      "state": {
       "description_width": ""
      }
     },
     "1df2e1fb27a94fba9a2e138eb629cc08": {
      "model_module": "@jupyter-widgets/base",
      "model_module_version": "1.1.0",
      "model_name": "LayoutModel",
      "state": {}
     },
     "1e717d0190b64903a157747d7f89d697": {
      "model_module": "@jupyter-widgets/base",
      "model_module_version": "1.1.0",
      "model_name": "LayoutModel",
      "state": {
       "height": "80px",
       "width": "99%"
      }
     },
     "1ec1f64399ce4b27abff3aa5441c942c": {
      "model_module": "@jupyter-widgets/controls",
      "model_module_version": "1.4.0",
      "model_name": "DescriptionStyleModel",
      "state": {
       "description_width": ""
      }
     },
     "1ed65ef3579940928000c9fead26f495": {
      "model_module": "@jupyter-widgets/base",
      "model_module_version": "1.1.0",
      "model_name": "LayoutModel",
      "state": {}
     },
     "1f6e78c3be354ea9ba7b9d8eea7ad7f6": {
      "model_module": "@jupyter-widgets/controls",
      "model_module_version": "1.4.0",
      "model_name": "LabelModel",
      "state": {
       "layout": "IPY_MODEL_342d35c199ee4c98a932c2f4d5a6fe3d",
       "style": "IPY_MODEL_146ef9272e2241ff89e0c97031f55be7",
       "value": "See-Through :"
      }
     },
     "1f89b54be66c48c88e80e724d8dda912": {
      "model_module": "@jupyter-widgets/controls",
      "model_module_version": "1.4.0",
      "model_name": "HTMLModel",
      "state": {
       "layout": "IPY_MODEL_9889c95401e24d08a8f5e7306cf450f4",
       "style": "IPY_MODEL_70b693f5e0e242f0961dee4a333e62d3",
       "value": "<font size=3 style='justify-content: center;'>Stress : </font>"
      }
     },
     "1f9942bfd22b4f8e856610a496541fb4": {
      "model_module": "@jupyter-widgets/base",
      "model_module_version": "1.1.0",
      "model_name": "LayoutModel",
      "state": {}
     },
     "1fd492110a844741ae29f8c9876a2863": {
      "model_module": "@jupyter-widgets/base",
      "model_module_version": "1.1.0",
      "model_name": "LayoutModel",
      "state": {}
     },
     "20356e4313a44ef8a1cc38d291f0610c": {
      "model_module": "@jupyter-widgets/base",
      "model_module_version": "1.1.0",
      "model_name": "LayoutModel",
      "state": {}
     },
     "2043fafa684f43319001de79ad9b2475": {
      "model_module": "@jupyter-widgets/base",
      "model_module_version": "1.1.0",
      "model_name": "LayoutModel",
      "state": {}
     },
     "206420f4475a47c894934e87e277f310": {
      "model_module": "@jupyter-widgets/base",
      "model_module_version": "1.1.0",
      "model_name": "LayoutModel",
      "state": {}
     },
     "20a04ce5383c46248c6f21b9c1eb57b9": {
      "model_module": "@jupyter-widgets/base",
      "model_module_version": "1.1.0",
      "model_name": "LayoutModel",
      "state": {}
     },
     "20c931c3ef23498696aa3af5aaf98351": {
      "model_module": "@jupyter-widgets/controls",
      "model_module_version": "1.4.0",
      "model_name": "HBoxModel",
      "state": {
       "children": [
        "IPY_MODEL_69144e35610b4ed290cd351aa2a9720e",
        "IPY_MODEL_fbeef58701f54584bed2c39ce9f4a92d"
       ],
       "layout": "IPY_MODEL_29a728a1d9c74a08833becf408f09a4b"
      }
     },
     "218a163512fb43b79371fb24e956c609": {
      "model_module": "@jupyter-widgets/base",
      "model_module_version": "1.1.0",
      "model_name": "LayoutModel",
      "state": {
       "display": "none"
      }
     },
     "21d259b100d34982b843b37e746d5e98": {
      "model_module": "@jupyter-widgets/controls",
      "model_module_version": "1.4.0",
      "model_name": "TextModel",
      "state": {
       "continuous_update": false,
       "layout": "IPY_MODEL_b055e61fb15945b3bc5ccd62817f7900",
       "style": "IPY_MODEL_078e5afa6d144dabb1265ff19aabaa80",
       "value": "node"
      }
     },
     "222d3c19123b4f1e8f60185b4c359108": {
      "model_module": "@jupyter-widgets/base",
      "model_module_version": "1.1.0",
      "model_name": "LayoutModel",
      "state": {}
     },
     "2311aa80e77d4ee18f08f7382017ca38": {
      "model_module": "@jupyter-widgets/controls",
      "model_module_version": "1.4.0",
      "model_name": "HTMLModel",
      "state": {
       "layout": "IPY_MODEL_5073e67d7d06416589e1765b860cec13",
       "style": "IPY_MODEL_7fdd4c62eab343b0aa5308bcfa474552",
       "value": "<h3> </h3>"
      }
     },
     "23432c88d0c84da1a94cfa155effc6f4": {
      "model_module": "@jupyter-widgets/controls",
      "model_module_version": "1.4.0",
      "model_name": "ButtonStyleModel",
      "state": {}
     },
     "23bbc54aabee48ceb17f3e312e2803a3": {
      "model_module": "@jupyter-widgets/base",
      "model_module_version": "1.1.0",
      "model_name": "LayoutModel",
      "state": {}
     },
     "23fbf52dfa464ef787e83754ad86e877": {
      "model_module": "@jupyter-widgets/controls",
      "model_module_version": "1.4.0",
      "model_name": "DescriptionStyleModel",
      "state": {
       "description_width": ""
      }
     },
     "2417dc0e063d45f2b6f8b637e03b5e63": {
      "model_module": "@jupyter-widgets/controls",
      "model_module_version": "1.4.0",
      "model_name": "HTMLModel",
      "state": {
       "layout": "IPY_MODEL_5e907be26865463bbfc05f33c38627b8",
       "style": "IPY_MODEL_c8318443df774a739b7ba258bcbbfdcd",
       "value": "<h5>You can save your graph as a <font color='darkKhaki'>index.html</font> file.\n<font color='darkKhaki'>index.html</font> files have lots of cool features, as explained in the intro video.\n<span style='color:red;'>Do not use \" or ' they cause errors.</span></h5>"
      }
     },
     "24424283fd3b47db8b706ef154810451": {
      "model_module": "@jupyter-widgets/base",
      "model_module_version": "1.1.0",
      "model_name": "LayoutModel",
      "state": {}
     },
     "247bc28df8b140a6befa95c0e5464039": {
      "model_module": "@jupyter-widgets/controls",
      "model_module_version": "1.4.0",
      "model_name": "HTMLModel",
      "state": {
       "layout": "IPY_MODEL_8cc9db1a697a47a487911987b47c8089",
       "style": "IPY_MODEL_c817c9e0e8514aa1b41d63286c5566b1",
       "value": "<h5>Here you save your graph as a <a href='https://www.datacamp.com/community/tutorials/pandas-tutorial-dataframe-python'>Pandas DataFrame</a>.\nType the name of the <font color=\"blue\">Python variable</font> you want.</h5>"
      }
     },
     "24c5bd06821e4a9a9d2046bd8d0245a7": {
      "model_module": "@jupyter-widgets/controls",
      "model_module_version": "1.4.0",
      "model_name": "DescriptionStyleModel",
      "state": {
       "description_width": ""
      }
     },
     "255332a5d34342538da95f21dc2d65a1": {
      "model_module": "@jupyter-widgets/base",
      "model_module_version": "1.1.0",
      "model_name": "LayoutModel",
      "state": {}
     },
     "2580ea4c998343c7938f7cd020efb755": {
      "model_module": "@jupyter-widgets/controls",
      "model_module_version": "1.4.0",
      "model_name": "DescriptionStyleModel",
      "state": {
       "description_width": ""
      }
     },
     "25a1f223cf4f4f4faa6081aece1ad22d": {
      "model_module": "@jupyter-widgets/base",
      "model_module_version": "1.1.0",
      "model_name": "LayoutModel",
      "state": {}
     },
     "25e237b3db4241679a32d1be8cc2522f": {
      "model_module": "@jupyter-widgets/base",
      "model_module_version": "1.1.0",
      "model_name": "LayoutModel",
      "state": {}
     },
     "25ed19a84f1544e88b2d0575bf0e03e0": {
      "model_module": "@jupyter-widgets/base",
      "model_module_version": "1.1.0",
      "model_name": "LayoutModel",
      "state": {}
     },
     "25f0de937bcb4175a893c0d9edbb4739": {
      "model_module": "@jupyter-widgets/controls",
      "model_module_version": "1.4.0",
      "model_name": "HBoxModel",
      "state": {
       "children": [
        "IPY_MODEL_27ab9301c8f140caad5306372d3ced67",
        "IPY_MODEL_7b489dcfb58240cbb1e79b073c5d97ab"
       ],
       "layout": "IPY_MODEL_c7f9d5459a5b48eabbaf70ad7e058640"
      }
     },
     "25fbba3eb7b74f748addd0e4951b2cc9": {
      "model_module": "@jupyter-widgets/controls",
      "model_module_version": "1.4.0",
      "model_name": "FloatTextModel",
      "state": {
       "continuous_update": true,
       "layout": "IPY_MODEL_d5ccafedf49d4af9be1ac8f2c2dd8496",
       "step": null,
       "style": "IPY_MODEL_87f0dcb4d463480ebc32addb0ebf624c"
      }
     },
     "2609f4671c01485e9ba3d35bf8f4b19c": {
      "model_module": "@jupyter-widgets/controls",
      "model_module_version": "1.4.0",
      "model_name": "HTMLModel",
      "state": {
       "layout": "IPY_MODEL_a7356be186414248acefdd5ca6a0a63c",
       "style": "IPY_MODEL_29bb3e68d3764ad2868879e965e25a05",
       "value": "<font size=3 style='justify-content: center;'>label_new : </font>"
      }
     },
     "262e92dcd53c4d3da7818bf318fae76d": {
      "model_module": "@jupyter-widgets/controls",
      "model_module_version": "1.4.0",
      "model_name": "DescriptionStyleModel",
      "state": {
       "description_width": ""
      }
     },
     "26b9cb11b5a0415fa3d33cb9a8362daa": {
      "model_module": "@jupyter-widgets/controls",
      "model_module_version": "1.4.0",
      "model_name": "VBoxModel",
      "state": {
       "children": [
        "IPY_MODEL_f3afec0108e84db19a08a580c8620f18",
        "IPY_MODEL_9a13e3db095d47c68107ec18e6f6c012",
        "IPY_MODEL_a89b3175029943e7aa1301b7ad9bafc7",
        "IPY_MODEL_9fed4c1eb3a1474b8e0c62561774dab2",
        "IPY_MODEL_7bb5636277764b27a0ff70a12d51e577",
        "IPY_MODEL_e1b4c1b37fc04a64b48e0fb24ae51633"
       ],
       "layout": "IPY_MODEL_536db22f505e4cd19fc9babfdec24474"
      }
     },
     "27005d4cbdfc421090a1bb7d844a22af": {
      "model_module": "@jupyter-widgets/base",
      "model_module_version": "1.1.0",
      "model_name": "LayoutModel",
      "state": {
       "width": "auto"
      }
     },
     "27ab9301c8f140caad5306372d3ced67": {
      "model_module": "@jupyter-widgets/controls",
      "model_module_version": "1.4.0",
      "model_name": "VBoxModel",
      "state": {
       "children": [
        "IPY_MODEL_a3b8b5f163d446da8d80136025a43a70",
        "IPY_MODEL_2cf43cc6253e49d286f38577122b98a8"
       ],
       "layout": "IPY_MODEL_cb4db2889069407997687f724e14098d"
      }
     },
     "27f2a31b37ec48138d60e74403419b04": {
      "model_module": "@jupyter-widgets/base",
      "model_module_version": "1.1.0",
      "model_name": "LayoutModel",
      "state": {}
     },
     "2838017134654997bf02fe250fcb8c90": {
      "model_module": "@jupyter-widgets/controls",
      "model_module_version": "1.4.0",
      "model_name": "DropdownModel",
      "state": {
       "_options_labels": [
        "none",
        "triangle",
        "tee",
        "diamond",
        "square",
        "circle",
        "vee",
        "triangle-tee"
       ],
       "index": 0,
       "layout": "IPY_MODEL_6a0601d5a7034cfd8f372ae47eb03dc4",
       "style": "IPY_MODEL_3fc1803741204c8f872db7737c02a596"
      }
     },
     "2854f87f352f4c5e8dcc176cd10d43b5": {
      "model_module": "@jupyter-widgets/base",
      "model_module_version": "1.1.0",
      "model_name": "LayoutModel",
      "state": {}
     },
     "286b970dc47b4865bdbd864ceb7d6528": {
      "model_module": "@jupyter-widgets/base",
      "model_module_version": "1.1.0",
      "model_name": "LayoutModel",
      "state": {
       "justify_content": "center",
       "padding": "10px 0px 0px 0px"
      }
     },
     "289f73db181541ac8037d71167834e29": {
      "model_module": "@jupyter-widgets/base",
      "model_module_version": "1.1.0",
      "model_name": "LayoutModel",
      "state": {
       "align_items": "center"
      }
     },
     "28da32d071654bbcaccedc027ef99be8": {
      "model_module": "@jupyter-widgets/controls",
      "model_module_version": "1.4.0",
      "model_name": "TextModel",
      "state": {
       "continuous_update": false,
       "layout": "IPY_MODEL_c7a008fb17c2453fa47d03c0d8b663dd",
       "style": "IPY_MODEL_297241a5c0564e3692f0e1c1cd318db7"
      }
     },
     "2929bef3074d4985b5b72da74f86b42b": {
      "model_module": "@jupyter-widgets/base",
      "model_module_version": "1.1.0",
      "model_name": "LayoutModel",
      "state": {
       "padding": "10px 0px 0px 0px"
      }
     },
     "292beef39b384aea8a1c4abd8dd43f4d": {
      "model_module": "@jupyter-widgets/base",
      "model_module_version": "1.1.0",
      "model_name": "LayoutModel",
      "state": {
       "padding": "0 15px 0 35px"
      }
     },
     "297241a5c0564e3692f0e1c1cd318db7": {
      "model_module": "@jupyter-widgets/controls",
      "model_module_version": "1.4.0",
      "model_name": "DescriptionStyleModel",
      "state": {
       "description_width": ""
      }
     },
     "29a728a1d9c74a08833becf408f09a4b": {
      "model_module": "@jupyter-widgets/base",
      "model_module_version": "1.1.0",
      "model_name": "LayoutModel",
      "state": {
       "padding": "0px 0px 10px 0px"
      }
     },
     "29bb3e68d3764ad2868879e965e25a05": {
      "model_module": "@jupyter-widgets/controls",
      "model_module_version": "1.4.0",
      "model_name": "DescriptionStyleModel",
      "state": {
       "description_width": ""
      }
     },
     "29bc104b49534cc6971ba63965543d71": {
      "model_module": "@jupyter-widgets/controls",
      "model_module_version": "1.4.0",
      "model_name": "ButtonStyleModel",
      "state": {}
     },
     "2a7dff13a74241babb35e146884a0026": {
      "model_module": "@jupyter-widgets/base",
      "model_module_version": "1.1.0",
      "model_name": "LayoutModel",
      "state": {
       "margin": "2px 25px 2px 0px",
       "width": "auto"
      }
     },
     "2ac9a2e5ada34d3fa6cc2d3db11a1d80": {
      "model_module": "@jupyter-widgets/base",
      "model_module_version": "1.1.0",
      "model_name": "LayoutModel",
      "state": {}
     },
     "2ad6dfc464bb4f2b942a3339ccd32a1e": {
      "model_module": "@jupyter-widgets/base",
      "model_module_version": "1.1.0",
      "model_name": "LayoutModel",
      "state": {}
     },
     "2b31dad1f39b4aa382541f01594c4c4c": {
      "model_module": "@jupyter-widgets/controls",
      "model_module_version": "1.4.0",
      "model_name": "HBoxModel",
      "state": {
       "children": [
        "IPY_MODEL_42e02d4a83bd466b92175555578fb64f",
        "IPY_MODEL_87411576e3104b60bf3b5bbf016338bb",
        "IPY_MODEL_525897fa34a04b979dbdee32f86a9d09"
       ],
       "layout": "IPY_MODEL_289f73db181541ac8037d71167834e29"
      }
     },
     "2b33684b72a14a44802d0ec3a8039298": {
      "model_module": "@jupyter-widgets/controls",
      "model_module_version": "1.4.0",
      "model_name": "HTMLModel",
      "state": {
       "layout": "IPY_MODEL_3a50318a0dd446518b4471235c95cdd1",
       "style": "IPY_MODEL_9611c62d304f426687c2f3b6318c9765",
       "value": "<h4 style='color:DarkKhaki'>Node :</h4>"
      }
     },
     "2b975449b4c74284bafca46535b78f10": {
      "model_module": "@jupyter-widgets/controls",
      "model_module_version": "1.4.0",
      "model_name": "FloatTextModel",
      "state": {
       "continuous_update": true,
       "layout": "IPY_MODEL_ee2ec9d893164d73a723c7e059103604",
       "step": null,
       "style": "IPY_MODEL_7a47967381114f1392c01fe11ddf18b9"
      }
     },
     "2bcaec18a9084f36aa8a80119e8d55c7": {
      "model_module": "@jupyter-widgets/controls",
      "model_module_version": "1.4.0",
      "model_name": "IntSliderModel",
      "state": {
       "layout": "IPY_MODEL_47e222b1e5574082b7312c0c71d1668e",
       "max": 5,
       "min": 1,
       "style": "IPY_MODEL_2f131e3722f94f68a98a216a117ae12b",
       "value": 1
      }
     },
     "2bfbb78d9c09415a9f68d15ba20e9dd9": {
      "model_module": "@jupyter-widgets/controls",
      "model_module_version": "1.4.0",
      "model_name": "LabelModel",
      "state": {
       "layout": "IPY_MODEL_1df2e1fb27a94fba9a2e138eb629cc08",
       "style": "IPY_MODEL_110f3ab4d1eb41b58667605a632bb168",
       "value": "Image : "
      }
     },
     "2c18040ff62c4f25a7200d21ed3f9bb5": {
      "model_module": "@jupyter-widgets/controls",
      "model_module_version": "1.4.0",
      "model_name": "ButtonModel",
      "state": {
       "button_style": "success",
       "description": "Save",
       "layout": "IPY_MODEL_a5181f4d411d4162901a38b66f3b6462",
       "style": "IPY_MODEL_c48886d4a09943f9a972cd8b4b8c79fc"
      }
     },
     "2c378ac42e4a4ec3895825ab1778d487": {
      "model_module": "@jupyter-widgets/controls",
      "model_module_version": "1.4.0",
      "model_name": "DescriptionStyleModel",
      "state": {
       "description_width": ""
      }
     },
     "2c5dab8698d84448bb388ad07342b861": {
      "model_module": "@jupyter-widgets/controls",
      "model_module_version": "1.4.0",
      "model_name": "VBoxModel",
      "state": {
       "children": [
        "IPY_MODEL_79788f6973a34835be93a1805432c25e",
        "IPY_MODEL_18d99fe776104291ad04a0e77cc478ea",
        "IPY_MODEL_d483ab4a8f594762b22e1f72f33fb19d",
        "IPY_MODEL_dfd26580ea1e476b841e64a6c81ff559",
        "IPY_MODEL_2daf4cfb6b80469ab6ec7424fac27fe5",
        "IPY_MODEL_f8d23849c12645bba5d9fe4608eee025"
       ],
       "layout": "IPY_MODEL_c49c9f40f54144d38aeddcf6003e9a6e"
      }
     },
     "2c8e602b89e5458484537526653eaf4d": {
      "model_module": "@jupyter-widgets/base",
      "model_module_version": "1.1.0",
      "model_name": "LayoutModel",
      "state": {}
     },
     "2cb5e682d3f84d8a8369967cb5edea11": {
      "model_module": "@jupyter-widgets/controls",
      "model_module_version": "1.4.0",
      "model_name": "HTMLModel",
      "state": {
       "layout": "IPY_MODEL_6eacd901d1994e75a42b783cb0740ea8",
       "style": "IPY_MODEL_1bcaa6e66e70458b9848d251cbcdb353",
       "value": "<h5>You can save your graph as a <font color='darkKhaki'>index.html</font> file.\n<font color='darkKhaki'>index.html</font> files have lots of cool features, as explained in the intro video.\n<span style='color:red;'>Do not use \" or ' they cause errors.</span></h5>"
      }
     },
     "2cf43cc6253e49d286f38577122b98a8": {
      "model_module": "@jupyter-widgets/controls",
      "model_module_version": "1.4.0",
      "model_name": "PasswordModel",
      "state": {
       "description": "Password :",
       "layout": "IPY_MODEL_0602b400bc094756a4440db25ce8a4cf",
       "style": "IPY_MODEL_bf6ed0844d684a05a91e302d270c64b9"
      }
     },
     "2d2099c30a1b43269c813c4c4e446034": {
      "model_module": "@jupyter-widgets/base",
      "model_module_version": "1.1.0",
      "model_name": "LayoutModel",
      "state": {}
     },
     "2daf4cfb6b80469ab6ec7424fac27fe5": {
      "model_module": "@jupyter-widgets/controls",
      "model_module_version": "1.4.0",
      "model_name": "DropdownModel",
      "state": {
       "_options_labels": [
        "center",
        "top",
        "bottom",
        "left",
        "right"
       ],
       "index": 0,
       "layout": "IPY_MODEL_d5ae6ec5a5c44a0c8d4349f8bc1aa181",
       "style": "IPY_MODEL_4ab88d67cbbf4485a643278f30071751"
      }
     },
     "2db1dfd1397848188bd40ad290ddc482": {
      "model_module": "@jupyter-widgets/base",
      "model_module_version": "1.1.0",
      "model_name": "LayoutModel",
      "state": {}
     },
     "2e125c27043e4bc58ca48aac947b750b": {
      "model_module": "@jupyter-widgets/controls",
      "model_module_version": "1.4.0",
      "model_name": "LabelModel",
      "state": {
       "layout": "IPY_MODEL_61fa0988ff0748bca7c1ff953e79ec4d",
       "style": "IPY_MODEL_95d7d5fc98df40e089ab33304ac0de76",
       "value": "Style"
      }
     },
     "2ec59d1e3362468aa486b769b80fa85e": {
      "model_module": "@jupyter-widgets/controls",
      "model_module_version": "1.4.0",
      "model_name": "LabelModel",
      "state": {
       "layout": "IPY_MODEL_61b3187c429c4218a05ae9a6effa8972",
       "style": "IPY_MODEL_021f124fd1744391b524804a3e855bd1",
       "value": "Shape :"
      }
     },
     "2ed7543d09ce44d381a6a4b8b1f9aa1c": {
      "model_module": "@jupyter-widgets/base",
      "model_module_version": "1.1.0",
      "model_name": "LayoutModel",
      "state": {}
     },
     "2eefbf4c381a40468f1022082440272f": {
      "model_module": "@jupyter-widgets/controls",
      "model_module_version": "1.4.0",
      "model_name": "ButtonModel",
      "state": {
       "button_style": "primary",
       "description": "Load",
       "layout": "IPY_MODEL_a2dead7ae6a34fbe81cf7983539466ed",
       "style": "IPY_MODEL_33042ba7e2ed47c99eb1524a5f788305"
      }
     },
     "2f131e3722f94f68a98a216a117ae12b": {
      "model_module": "@jupyter-widgets/controls",
      "model_module_version": "1.4.0",
      "model_name": "SliderStyleModel",
      "state": {
       "description_width": ""
      }
     },
     "2fb678d197fe48ddad8e3a6b23b7765d": {
      "model_module": "@jupyter-widgets/controls",
      "model_module_version": "1.4.0",
      "model_name": "LabelModel",
      "state": {
       "layout": "IPY_MODEL_be57bf8e5e5b46b988396298f936437a",
       "style": "IPY_MODEL_f8b44e900e3842eeaf6e37d9f8246e97",
       "value": "Size :"
      }
     },
     "309d44fa5637462ea30500c319531aef": {
      "model_module": "@jupyter-widgets/controls",
      "model_module_version": "1.4.0",
      "model_name": "DescriptionStyleModel",
      "state": {
       "description_width": ""
      }
     },
     "31037cc69395436aad1cb98f3cb2c4b2": {
      "model_module": "@jupyter-widgets/base",
      "model_module_version": "1.1.0",
      "model_name": "LayoutModel",
      "state": {}
     },
     "311d08a19b504c00806fa356c10f73ae": {
      "model_module": "@jupyter-widgets/controls",
      "model_module_version": "1.4.0",
      "model_name": "HTMLModel",
      "state": {
       "layout": "IPY_MODEL_81de3363f8064eaa929c9b07996c20e8",
       "style": "IPY_MODEL_b9d35103e76c4588a7761dbcb720cb44",
       "value": "<font size=3 style='justify-content: center;'>shared_name : </font>"
      }
     },
     "321ee075a1514fbf8bc2168788582e9a": {
      "model_module": "@jupyter-widgets/controls",
      "model_module_version": "1.4.0",
      "model_name": "HBoxModel",
      "state": {
       "children": [
        "IPY_MODEL_e4b9ed2c673d43afbcece96371c884d6"
       ],
       "layout": "IPY_MODEL_4941ae1f1b6144b6bd83993885894b23"
      }
     },
     "326281c9e6d24cf883c98979f92258e3": {
      "model_module": "@jupyter-widgets/controls",
      "model_module_version": "1.4.0",
      "model_name": "LabelModel",
      "state": {
       "layout": "IPY_MODEL_7d940fae411e41c7aa1b8eba1119c94a",
       "style": "IPY_MODEL_a6b35e6318014cbda9e0c955b183ae6f",
       "value": "Color :"
      }
     },
     "32c233260e8a41cdb3c66b1cdf5696fa": {
      "model_module": "@jupyter-widgets/base",
      "model_module_version": "1.1.0",
      "model_name": "LayoutModel",
      "state": {}
     },
     "32fb48b49419452ba8a46340d6acbbf4": {
      "model_module": "@jupyter-widgets/controls",
      "model_module_version": "1.4.0",
      "model_name": "LabelModel",
      "state": {
       "layout": "IPY_MODEL_f94fc13efec74e61bdf94a4a9b417c01",
       "style": "IPY_MODEL_18a1ea76d6f345289ada9dd00f1b84f8",
       "value": "See-Through :"
      }
     },
     "33042ba7e2ed47c99eb1524a5f788305": {
      "model_module": "@jupyter-widgets/controls",
      "model_module_version": "1.4.0",
      "model_name": "ButtonStyleModel",
      "state": {}
     },
     "3340e81a50d74f3b810399b309c54740": {
      "model_module": "@jupyter-widgets/base",
      "model_module_version": "1.1.0",
      "model_name": "LayoutModel",
      "state": {}
     },
     "3356b9cf4a794b53aa0e47b0b328ec08": {
      "model_module": "@jupyter-widgets/controls",
      "model_module_version": "1.4.0",
      "model_name": "HBoxModel",
      "state": {
       "children": [
        "IPY_MODEL_110cd10e6f1f4f56b476e83dad7aff6e",
        "IPY_MODEL_2b975449b4c74284bafca46535b78f10",
        "IPY_MODEL_c108d52f47db44378c73b36536ea71d5"
       ],
       "layout": "IPY_MODEL_fbfd2fba10184070ac62384c3940b6e8"
      }
     },
     "33ab93d783a7432e8de23d6bc1ed4922": {
      "model_module": "@jupyter-widgets/base",
      "model_module_version": "1.1.0",
      "model_name": "LayoutModel",
      "state": {
       "width": "auto"
      }
     },
     "33ac5fded03443fb8867e8a08df87e75": {
      "model_module": "@jupyter-widgets/controls",
      "model_module_version": "1.4.0",
      "model_name": "ButtonStyleModel",
      "state": {}
     },
     "33e64fba62084c67a252344127ca87b2": {
      "model_module": "@jupyter-widgets/controls",
      "model_module_version": "1.4.0",
      "model_name": "DescriptionStyleModel",
      "state": {
       "description_width": ""
      }
     },
     "342d35c199ee4c98a932c2f4d5a6fe3d": {
      "model_module": "@jupyter-widgets/base",
      "model_module_version": "1.1.0",
      "model_name": "LayoutModel",
      "state": {}
     },
     "3471edf836834da7844fc2913faa1627": {
      "model_module": "@jupyter-widgets/base",
      "model_module_version": "1.1.0",
      "model_name": "LayoutModel",
      "state": {
       "width": "auto"
      }
     },
     "348bb71089e94309bf0d5dd393a26297": {
      "model_module": "@jupyter-widgets/base",
      "model_module_version": "1.1.0",
      "model_name": "LayoutModel",
      "state": {
       "margin": "0px 0px 0px 5px",
       "min_width": "30px"
      }
     },
     "34c3e5091da7467d8af6019c9743a723": {
      "model_module": "@jupyter-widgets/base",
      "model_module_version": "1.1.0",
      "model_name": "LayoutModel",
      "state": {}
     },
     "3530efc737d04cf58c19ece2813378ec": {
      "model_module": "@jupyter-widgets/controls",
      "model_module_version": "1.4.0",
      "model_name": "HBoxModel",
      "state": {
       "children": [
        "IPY_MODEL_2609f4671c01485e9ba3d35bf8f4b19c",
        "IPY_MODEL_b1037a5878db4863868c42eabddd6bba",
        "IPY_MODEL_37bcd644c5f1479ab412dd31d3ef74df"
       ],
       "layout": "IPY_MODEL_69f709351d484802b4014bca3363784b"
      }
     },
     "353dc7f23a5844debff67eb799cf4343": {
      "model_module": "@jupyter-widgets/base",
      "model_module_version": "1.1.0",
      "model_name": "LayoutModel",
      "state": {}
     },
     "354aaabd679743259f4b80d51eb44bfe": {
      "model_module": "@jupyter-widgets/controls",
      "model_module_version": "1.4.0",
      "model_name": "ButtonStyleModel",
      "state": {}
     },
     "355d3e27315043948cdd6b87158b0c1b": {
      "model_module": "@jupyter-widgets/controls",
      "model_module_version": "1.4.0",
      "model_name": "DescriptionStyleModel",
      "state": {
       "description_width": ""
      }
     },
     "3586ed9ab96d4c6b813f500a3dcc734e": {
      "model_module": "@jupyter-widgets/base",
      "model_module_version": "1.1.0",
      "model_name": "LayoutModel",
      "state": {}
     },
     "35cb2307333c4ef48809b55579f44a21": {
      "model_module": "@jupyter-widgets/base",
      "model_module_version": "1.1.0",
      "model_name": "LayoutModel",
      "state": {}
     },
     "35d62c69979b41df9d7e83b0b9780008": {
      "model_module": "@jupyter-widgets/controls",
      "model_module_version": "1.4.0",
      "model_name": "DescriptionStyleModel",
      "state": {
       "description_width": ""
      }
     },
     "35d95bed997647e58632458a2ff47302": {
      "model_module": "@jupyter-widgets/controls",
      "model_module_version": "1.4.0",
      "model_name": "TextModel",
      "state": {
       "description": "Username :",
       "layout": "IPY_MODEL_c2d54d03f314452b9ddb9dd20ab9d5f0",
       "style": "IPY_MODEL_bbcc2a271b194e83bc2d13fb89e9c508"
      }
     },
     "363a68357247483f8a8fddab25aa4a46": {
      "model_module": "@jupyter-widgets/base",
      "model_module_version": "1.1.0",
      "model_name": "LayoutModel",
      "state": {}
     },
     "369d9e4abaa04a35be5c46ea12ecd902": {
      "model_module": "@jupyter-widgets/controls",
      "model_module_version": "1.4.0",
      "model_name": "DescriptionStyleModel",
      "state": {
       "description_width": ""
      }
     },
     "36c7adf40f074b43a8ace7cc740052cd": {
      "model_module": "@jupyter-widgets/controls",
      "model_module_version": "1.4.0",
      "model_name": "VBoxModel",
      "state": {
       "children": [
        "IPY_MODEL_027d2a3916bd4f0bb78a94590b8b1e7c",
        "IPY_MODEL_1774f3f6c7524aca8682a6a9fe2215f9"
       ],
       "layout": "IPY_MODEL_3704d4186ebf4c9999cc02c374dceae1"
      }
     },
     "36c9c48750aa4cb98d09b9f5723fd336": {
      "model_module": "@jupyter-widgets/controls",
      "model_module_version": "1.4.0",
      "model_name": "HTMLModel",
      "state": {
       "layout": "IPY_MODEL_eb6c1215857a4663acf968593ca321ac",
       "style": "IPY_MODEL_ddb477dfeaf74d6a815c41ef5a2b97ab",
       "value": "<h5>Fill out the info below to upload data to <a href='http://www.ndexbio.org/'>NDEx</a></h5>"
      }
     },
     "36dd891b48c5414f9e022f44e3501505": {
      "model_module": "@jupyter-widgets/controls",
      "model_module_version": "1.4.0",
      "model_name": "DescriptionStyleModel",
      "state": {
       "description_width": ""
      }
     },
     "3704d4186ebf4c9999cc02c374dceae1": {
      "model_module": "@jupyter-widgets/base",
      "model_module_version": "1.1.0",
      "model_name": "LayoutModel",
      "state": {}
     },
     "3720e19cb4224001a60da4f47ae89866": {
      "model_module": "@jupyter-widgets/controls",
      "model_module_version": "1.4.0",
      "model_name": "TextModel",
      "state": {
       "layout": "IPY_MODEL_9f35651f69354da7ae6610fde5ada702",
       "style": "IPY_MODEL_369d9e4abaa04a35be5c46ea12ecd902"
      }
     },
     "374894f245f24fb0947d1ce9b1f3cf0b": {
      "model_module": "@jupyter-widgets/controls",
      "model_module_version": "1.4.0",
      "model_name": "LabelModel",
      "state": {
       "layout": "IPY_MODEL_aa6f9edb95f741b8a19ca435166f327f",
       "style": "IPY_MODEL_3b7d3e7441f8481391ccd5cf90a0b013",
       "value": "Line Style :"
      }
     },
     "377d08950cef437a8afe134c9fd00c98": {
      "model_module": "@jupyter-widgets/base",
      "model_module_version": "1.1.0",
      "model_name": "LayoutModel",
      "state": {}
     },
     "377efaf3233049598ad8a984a278eeb7": {
      "model_module": "@jupyter-widgets/controls",
      "model_module_version": "1.4.0",
      "model_name": "HBoxModel",
      "state": {
       "children": [
        "IPY_MODEL_acea64662d874f1b9d9e7338e957dba0"
       ],
       "layout": "IPY_MODEL_63f44fbe703e43dea05ed445f05480ea"
      }
     },
     "37950c4218b045ac9d5cd94bc0fa5174": {
      "model_module": "@jupyter-widgets/controls",
      "model_module_version": "1.4.0",
      "model_name": "PasswordModel",
      "state": {
       "description": "Password :",
       "layout": "IPY_MODEL_12bd7cc31c6b4b8bb69c9cde9c697d3f",
       "style": "IPY_MODEL_9f04723ae0924ae6b6b30635179ddda2"
      }
     },
     "37a2184e79884747995836a3112a7f35": {
      "model_module": "@jupyter-widgets/base",
      "model_module_version": "1.1.0",
      "model_name": "LayoutModel",
      "state": {}
     },
     "37bcd644c5f1479ab412dd31d3ef74df": {
      "model_module": "@jupyter-widgets/controls",
      "model_module_version": "1.4.0",
      "model_name": "ButtonModel",
      "state": {
       "button_style": "danger",
       "description": "Remove",
       "layout": "IPY_MODEL_7a232485e0cc47ceb3d1ca25136ba32d",
       "style": "IPY_MODEL_e3ca60db1dc343d9935fe3351082613a"
      }
     },
     "37d623e363ff45ca946fa948dae97030": {
      "model_module": "@jupyter-widgets/base",
      "model_module_version": "1.1.0",
      "model_name": "LayoutModel",
      "state": {}
     },
     "37e2960ef21a4369a8afe0202992144a": {
      "model_module": "@jupyter-widgets/controls",
      "model_module_version": "1.4.0",
      "model_name": "LabelModel",
      "state": {
       "layout": "IPY_MODEL_ee63011da1454ce4a92e88eda3f747da",
       "style": "IPY_MODEL_debadb77b3a545c49037d3415c2569ee",
       "value": "Position :"
      }
     },
     "37fb985a34f24f45bba1b6f7a44eeb1b": {
      "model_module": "@jupyter-widgets/controls",
      "model_module_version": "1.4.0",
      "model_name": "VBoxModel",
      "state": {
       "children": [
        "IPY_MODEL_4b29e7480ec94678b095e9894c6e547c",
        "IPY_MODEL_d7d0872f527a404595ca05e64df00e0b",
        "IPY_MODEL_a705396970324acd92fba42180d85d8b"
       ],
       "layout": "IPY_MODEL_d004f710103340fea1de377bb34679b8"
      }
     },
     "3811cd12e9c444049620c95252ca0486": {
      "model_module": "@jupyter-widgets/base",
      "model_module_version": "1.1.0",
      "model_name": "LayoutModel",
      "state": {
       "padding": "10px 0px 0px 0px"
      }
     },
     "383ea9df65f04472b4c2983a7c69c3a0": {
      "model_module": "@jupyter-widgets/controls",
      "model_module_version": "1.4.0",
      "model_name": "DescriptionStyleModel",
      "state": {
       "description_width": ""
      }
     },
     "388061a3f2894389907ee9652305b57a": {
      "model_module": "@jupyter-widgets/base",
      "model_module_version": "1.1.0",
      "model_name": "LayoutModel",
      "state": {}
     },
     "38b9f0b29e514970a2a80c5f6689b745": {
      "model_module": "@jupyter-widgets/controls",
      "model_module_version": "1.4.0",
      "model_name": "ButtonStyleModel",
      "state": {}
     },
     "38d2ab2a56bc4482a06c89e8fbe4f604": {
      "model_module": "@jupyter-widgets/base",
      "model_module_version": "1.1.0",
      "model_name": "LayoutModel",
      "state": {}
     },
     "38ecf170a3004091b4fe466736771aba": {
      "model_module": "@jupyter-widgets/controls",
      "model_module_version": "1.4.0",
      "model_name": "ButtonModel",
      "state": {
       "button_style": "danger",
       "description": "Remove",
       "layout": "IPY_MODEL_64378cf7608c4135b67fb803b53fe86c",
       "style": "IPY_MODEL_038ae595d61e4ed3a97bc4d8b290dc1b"
      }
     },
     "38f71d6bd77b494191547eebaef75edf": {
      "model_module": "@jupyter-widgets/base",
      "model_module_version": "1.1.0",
      "model_name": "LayoutModel",
      "state": {
       "visibility": "hidden"
      }
     },
     "38fbb9c18a2d40738819fb950146b2eb": {
      "model_module": "@jupyter-widgets/base",
      "model_module_version": "1.1.0",
      "model_name": "LayoutModel",
      "state": {
       "justify_content": "center",
       "padding": "10px 0px 0px 0px"
      }
     },
     "390a1d76ba5f4db886866d502bc0f411": {
      "model_module": "@jupyter-widgets/base",
      "model_module_version": "1.1.0",
      "model_name": "LayoutModel",
      "state": {}
     },
     "39717016a67b4961b4a80b62f5bb4470": {
      "model_module": "@jupyter-widgets/base",
      "model_module_version": "1.1.0",
      "model_name": "LayoutModel",
      "state": {
       "align_items": "center"
      }
     },
     "39f4cc490e3942b7a10e0a48380e341e": {
      "model_module": "@jupyter-widgets/controls",
      "model_module_version": "1.4.0",
      "model_name": "DescriptionStyleModel",
      "state": {
       "description_width": ""
      }
     },
     "3a50318a0dd446518b4471235c95cdd1": {
      "model_module": "@jupyter-widgets/base",
      "model_module_version": "1.1.0",
      "model_name": "LayoutModel",
      "state": {}
     },
     "3a98a539375e4469863795cf53bac14f": {
      "model_module": "@jupyter-widgets/controls",
      "model_module_version": "1.4.0",
      "model_name": "AccordionModel",
      "state": {
       "_titles": {
        "0": "Style",
        "1": "Label",
        "2": "Variables"
       },
       "children": [
        "IPY_MODEL_970910a454284e80a1fe015a3bddf135",
        "IPY_MODEL_2c5dab8698d84448bb388ad07342b861",
        "IPY_MODEL_66a05f6182764bf6b82d7d559d690507"
       ],
       "layout": "IPY_MODEL_761aad85417d4b709ab5e1ecd377a9a9"
      }
     },
     "3b5158a80c6a428cbbf0e343bcfad2e2": {
      "model_module": "@jupyter-widgets/controls",
      "model_module_version": "1.4.0",
      "model_name": "FloatTextModel",
      "state": {
       "continuous_update": true,
       "layout": "IPY_MODEL_a1033e4ee486495b9004203eac8e2d6e",
       "step": null,
       "style": "IPY_MODEL_d32e14f3088548ed811e29e42732d059"
      }
     },
     "3b6138246902441dbe9e7aa750f60826": {
      "model_module": "@jupyter-widgets/controls",
      "model_module_version": "1.4.0",
      "model_name": "TextModel",
      "state": {
       "layout": "IPY_MODEL_c8fae007e3d341eb83f975533ee75703",
       "style": "IPY_MODEL_1daa107c3f464a7f90bcb6e9580b1988"
      }
     },
     "3b70221ca0794104b9acba7882148f87": {
      "model_module": "@jupyter-widgets/controls",
      "model_module_version": "1.4.0",
      "model_name": "HTMLModel",
      "state": {
       "layout": "IPY_MODEL_5f5d15a2b1a14d498feaf944851a8438",
       "style": "IPY_MODEL_d9916c17bd11453591a95d1942f0f7d7",
       "value": "<h5>Description</h5>"
      }
     },
     "3b7d3e7441f8481391ccd5cf90a0b013": {
      "model_module": "@jupyter-widgets/controls",
      "model_module_version": "1.4.0",
      "model_name": "DescriptionStyleModel",
      "state": {
       "description_width": ""
      }
     },
     "3c085b462be8469b8789da78f96a28c2": {
      "model_module": "@jupyter-widgets/controls",
      "model_module_version": "1.4.0",
      "model_name": "HBoxModel",
      "state": {
       "children": [
        "IPY_MODEL_5428363844c7405eb56db81de4198b6b",
        "IPY_MODEL_b20c1ff2f217424fae99f6ac38d10203",
        "IPY_MODEL_cd13a0c3e1004416a8ec75ad65fca384"
       ],
       "layout": "IPY_MODEL_7ced368d4167487a9110465ed327f921"
      }
     },
     "3c6e94e8d1dc4f18a196052296b55e9b": {
      "model_module": "@jupyter-widgets/controls",
      "model_module_version": "1.4.0",
      "model_name": "TextareaModel",
      "state": {
       "layout": "IPY_MODEL_1e717d0190b64903a157747d7f89d697",
       "style": "IPY_MODEL_6ebcd090f1cb4d77922f8c989088a227"
      }
     },
     "3cbe80400a0843258daa732cf2e070ac": {
      "model_module": "@jupyter-widgets/controls",
      "model_module_version": "1.4.0",
      "model_name": "HBoxModel",
      "state": {
       "children": [
        "IPY_MODEL_7ce453998b27401f80bf0d17a6c36755",
        "IPY_MODEL_cbfde99bdfac4a47b8cbc45e367f402d"
       ],
       "layout": "IPY_MODEL_488da59b5c9d4d34a2ebfea1cca4302b"
      }
     },
     "3cd7118021234d63beeaa6f5cb334c04": {
      "model_module": "@jupyter-widgets/controls",
      "model_module_version": "1.4.0",
      "model_name": "DescriptionStyleModel",
      "state": {
       "description_width": ""
      }
     },
     "3d5bb41eb0954586ac3709925adbe59e": {
      "model_module": "@jupyter-widgets/base",
      "model_module_version": "1.1.0",
      "model_name": "LayoutModel",
      "state": {}
     },
     "3d7a83648a2f4dc081a33d94e4b5a6d2": {
      "model_module": "@jupyter-widgets/controls",
      "model_module_version": "1.4.0",
      "model_name": "FloatTextModel",
      "state": {
       "continuous_update": true,
       "layout": "IPY_MODEL_411b691cb5c541ca957da53f3ab3c00e",
       "step": null,
       "style": "IPY_MODEL_c8452993958b4284ac9148a9ab8df802"
      }
     },
     "3d92b48c4f1545009b982f8e0a98559a": {
      "model_module": "@jupyter-widgets/controls",
      "model_module_version": "1.4.0",
      "model_name": "FloatTextModel",
      "state": {
       "continuous_update": true,
       "layout": "IPY_MODEL_ba9e9208dd2543eeb5c805bca8fee2e1",
       "step": null,
       "style": "IPY_MODEL_1c04882de7ef4128b5b28235cd4d5034"
      }
     },
     "3e32d5211a96467bb9aeab420135bcab": {
      "model_module": "@jupyter-widgets/controls",
      "model_module_version": "1.4.0",
      "model_name": "DescriptionStyleModel",
      "state": {
       "description_width": ""
      }
     },
     "3e42bef308cc48b89d4d2a2c35c9f492": {
      "model_module": "@jupyter-widgets/base",
      "model_module_version": "1.1.0",
      "model_name": "LayoutModel",
      "state": {}
     },
     "3e7892cb933a4e47825e07a04bc0f63f": {
      "model_module": "@jupyter-widgets/base",
      "model_module_version": "1.1.0",
      "model_name": "LayoutModel",
      "state": {
       "width": "auto"
      }
     },
     "3efa9913d746450ab3ae47be450bdfde": {
      "model_module": "@jupyter-widgets/base",
      "model_module_version": "1.1.0",
      "model_name": "LayoutModel",
      "state": {}
     },
     "3f0a0e9639984de78db6e262f5a71a1a": {
      "model_module": "@jupyter-widgets/controls",
      "model_module_version": "1.4.0",
      "model_name": "ToggleButtonModel",
      "state": {
       "button_style": "info",
       "description": "Border",
       "layout": "IPY_MODEL_10b833d37a284d2c83c141b0395edbe9",
       "style": "IPY_MODEL_1576c2f71db84adeacbb092acc9fd4d8"
      }
     },
     "3f10229ae7014a09b60d6a88de314b7c": {
      "model_module": "@jupyter-widgets/base",
      "model_module_version": "1.1.0",
      "model_name": "LayoutModel",
      "state": {}
     },
     "3f1802391cb64798b11aac4a144ff32b": {
      "model_module": "@jupyter-widgets/controls",
      "model_module_version": "1.4.0",
      "model_name": "LabelModel",
      "state": {
       "layout": "IPY_MODEL_991e07fd06674e8596488162e4803ae8",
       "style": "IPY_MODEL_f549b0c63933427aad219148960a8e6b",
       "value": "    "
      }
     },
     "3f9ae3b43fc04a79b1593e856403d06e": {
      "model_module": "@jupyter-widgets/controls",
      "model_module_version": "1.4.0",
      "model_name": "DescriptionStyleModel",
      "state": {
       "description_width": ""
      }
     },
     "3fc1803741204c8f872db7737c02a596": {
      "model_module": "@jupyter-widgets/controls",
      "model_module_version": "1.4.0",
      "model_name": "DescriptionStyleModel",
      "state": {
       "description_width": ""
      }
     },
     "409a4f8cc5f24403b23e7eee6cb2e7df": {
      "model_module": "@jupyter-widgets/controls",
      "model_module_version": "1.4.0",
      "model_name": "SliderStyleModel",
      "state": {
       "description_width": ""
      }
     },
     "411b691cb5c541ca957da53f3ab3c00e": {
      "model_module": "@jupyter-widgets/base",
      "model_module_version": "1.1.0",
      "model_name": "LayoutModel",
      "state": {}
     },
     "419bd30d26914b3691e322b24402ca81": {
      "model_module": "@jupyter-widgets/controls",
      "model_module_version": "1.4.0",
      "model_name": "FloatTextModel",
      "state": {
       "continuous_update": true,
       "layout": "IPY_MODEL_ad329627ebee47c3a05a64e169662ecd",
       "step": null,
       "style": "IPY_MODEL_e72a1f8a71bd49099e478d5d65d15c3d"
      }
     },
     "41a82cd465214cb99ff65b442d6a68ed": {
      "model_module": "@jupyter-widgets/controls",
      "model_module_version": "1.4.0",
      "model_name": "ColorPickerModel",
      "state": {
       "disabled": false,
       "layout": "IPY_MODEL_15b77da67804444a94d60da3094dcafb",
       "style": "IPY_MODEL_be39eeb5c903470aa9485b4587e336bf"
      }
     },
     "42170a9f38884d4b902359acb1fc5403": {
      "model_module": "@jupyter-widgets/base",
      "model_module_version": "1.1.0",
      "model_name": "LayoutModel",
      "state": {}
     },
     "425555b8dc8f42d780a0a726f9cf9881": {
      "model_module": "@jupyter-widgets/base",
      "model_module_version": "1.1.0",
      "model_name": "LayoutModel",
      "state": {
       "align_items": "center"
      }
     },
     "42e02d4a83bd466b92175555578fb64f": {
      "model_module": "@jupyter-widgets/controls",
      "model_module_version": "1.4.0",
      "model_name": "HTMLModel",
      "state": {
       "layout": "IPY_MODEL_af68aeb29db74878a770f67169c23a7a",
       "style": "IPY_MODEL_8cc2e053c1b2458d886e6ce73187fcc2",
       "value": "<h5>Variable   &nbsp</h5> "
      }
     },
     "43b28efc24014d459572766ceafbc094": {
      "model_module": "@jupyter-widgets/controls",
      "model_module_version": "1.4.0",
      "model_name": "ButtonStyleModel",
      "state": {}
     },
     "43b3e7b6908e447d85abd84ba9a2219e": {
      "model_module": "@jupyter-widgets/controls",
      "model_module_version": "1.4.0",
      "model_name": "AccordionModel",
      "state": {
       "_titles": {
        "0": "Style",
        "1": "Label",
        "2": "Variables"
       },
       "children": [
        "IPY_MODEL_dce98eaa029b479da1ab9cbd9a15b178",
        "IPY_MODEL_26b9cb11b5a0415fa3d33cb9a8362daa",
        "IPY_MODEL_fdc24539e5b0426cac3a15c0f86172fa"
       ],
       "layout": "IPY_MODEL_32c233260e8a41cdb3c66b1cdf5696fa"
      }
     },
     "43d324cf00784b3eab0485b34ff111e8": {
      "model_module": "@jupyter-widgets/controls",
      "model_module_version": "1.4.0",
      "model_name": "DescriptionStyleModel",
      "state": {
       "description_width": ""
      }
     },
     "43f6ed1a6e674b5895ef857f24618dcb": {
      "model_module": "@jupyter-widgets/controls",
      "model_module_version": "1.4.0",
      "model_name": "ButtonModel",
      "state": {
       "button_style": "success",
       "description": "Upload",
       "layout": "IPY_MODEL_2043fafa684f43319001de79ad9b2475",
       "style": "IPY_MODEL_f827457d85c14b64bc789f0ccc9f3b9b"
      }
     },
     "4410f0f41a504c588ef2d7856aa3d5e0": {
      "model_module": "@jupyter-widgets/controls",
      "model_module_version": "1.4.0",
      "model_name": "TextModel",
      "state": {
       "layout": "IPY_MODEL_9e37cd90f8d444d7a195b8204ba3e71d",
       "style": "IPY_MODEL_bf038eac87704ae8b7a392a4a30811f0"
      }
     },
     "44b9895f55a04b559a668c60ee10dd84": {
      "model_module": "@jupyter-widgets/base",
      "model_module_version": "1.1.0",
      "model_name": "LayoutModel",
      "state": {
       "justify_content": "center",
       "margin": "0 0 15px 0"
      }
     },
     "44bf35436ddb43d5abe3538915f7b67d": {
      "model_module": "@jupyter-widgets/controls",
      "model_module_version": "1.4.0",
      "model_name": "DescriptionStyleModel",
      "state": {
       "description_width": ""
      }
     },
     "452035c6a32544219852b6e8191fe76f": {
      "model_module": "@jupyter-widgets/base",
      "model_module_version": "1.1.0",
      "model_name": "LayoutModel",
      "state": {}
     },
     "45c8310a2447417ead0d20b611989184": {
      "model_module": "@jupyter-widgets/controls",
      "model_module_version": "1.4.0",
      "model_name": "DropdownModel",
      "state": {
       "_options_labels": [
        "index.html"
       ],
       "index": 0,
       "layout": "IPY_MODEL_dfafa9c34d0a4d7fa0d8930c41604561",
       "style": "IPY_MODEL_d679e7bc53914dbda75ac35e97685316"
      }
     },
     "45f36edc51c54c1aaf025a80c40430a0": {
      "model_module": "@jupyter-widgets/controls",
      "model_module_version": "1.4.0",
      "model_name": "VBoxModel",
      "state": {
       "children": [
        "IPY_MODEL_677844f27dfd4a719cb409aeb73011e1",
        "IPY_MODEL_054824e7672c4fa0ae47f196bbfeed8f",
        "IPY_MODEL_0dd08bb64e684ea8b8339e3278bbbbf6"
       ],
       "layout": "IPY_MODEL_c44e26d93c244b2d8ac35b2e401035c6"
      }
     },
     "461534b8b41048bfbc28604a54d21f54": {
      "model_module": "@jupyter-widgets/controls",
      "model_module_version": "1.4.0",
      "model_name": "DescriptionStyleModel",
      "state": {
       "description_width": ""
      }
     },
     "4623e300e8934e51bf6e087d5b3ea148": {
      "model_module": "@jupyter-widgets/base",
      "model_module_version": "1.1.0",
      "model_name": "LayoutModel",
      "state": {
       "padding": "10px 0px 0px 0px"
      }
     },
     "46c1830b0cc44e87bea2027c8b14d456": {
      "model_module": "@jupyter-widgets/controls",
      "model_module_version": "1.4.0",
      "model_name": "DescriptionStyleModel",
      "state": {
       "description_width": ""
      }
     },
     "4722d153209f4b89ba38e050c1230546": {
      "model_module": "@jupyter-widgets/controls",
      "model_module_version": "1.4.0",
      "model_name": "SliderStyleModel",
      "state": {
       "description_width": ""
      }
     },
     "47262829fcf74ecbafcaad2cd917eeff": {
      "model_module": "@jupyter-widgets/base",
      "model_module_version": "1.1.0",
      "model_name": "LayoutModel",
      "state": {}
     },
     "4729d4e6223848e1804db7716dd46c5a": {
      "model_module": "@jupyter-widgets/controls",
      "model_module_version": "1.4.0",
      "model_name": "ButtonModel",
      "state": {
       "button_style": "danger",
       "description": "Remove",
       "layout": "IPY_MODEL_5eaf9442fd904ef0983cd98c9b726e84",
       "style": "IPY_MODEL_60e1f50f21ff4b34a57f2135f49495e5"
      }
     },
     "47595e11e21a4b9fa499683511d7daa6": {
      "model_module": "@jupyter-widgets/base",
      "model_module_version": "1.1.0",
      "model_name": "LayoutModel",
      "state": {
       "padding": "10px 0px 0px 0px"
      }
     },
     "4783229c4d1945588420384839e2dd2c": {
      "model_module": "@jupyter-widgets/controls",
      "model_module_version": "1.4.0",
      "model_name": "TextModel",
      "state": {
       "description": "Username :",
       "layout": "IPY_MODEL_5e58699dbb814ec0be6170bd2d12b12d",
       "style": "IPY_MODEL_8cca0b3551d74dc48287428ef3040606"
      }
     },
     "478e1ba7265f401d96ec7fc1a4e66323": {
      "model_module": "@jupyter-widgets/controls",
      "model_module_version": "1.4.0",
      "model_name": "DescriptionStyleModel",
      "state": {
       "description_width": ""
      }
     },
     "47d61d95bf2d4716a816004093e7b2af": {
      "model_module": "@jupyter-widgets/base",
      "model_module_version": "1.1.0",
      "model_name": "LayoutModel",
      "state": {}
     },
     "47e222b1e5574082b7312c0c71d1668e": {
      "model_module": "@jupyter-widgets/base",
      "model_module_version": "1.1.0",
      "model_name": "LayoutModel",
      "state": {}
     },
     "4829f00cf60948368f9515d8333326b3": {
      "model_module": "@jupyter-widgets/controls",
      "model_module_version": "1.4.0",
      "model_name": "VBoxModel",
      "state": {
       "layout": "IPY_MODEL_82a5e94b103e461aa97a23da4136eb17"
      }
     },
     "48648f81739f45579692b0edac5a1e42": {
      "model_module": "@jupyter-widgets/controls",
      "model_module_version": "1.4.0",
      "model_name": "DescriptionStyleModel",
      "state": {
       "description_width": ""
      }
     },
     "488da59b5c9d4d34a2ebfea1cca4302b": {
      "model_module": "@jupyter-widgets/base",
      "model_module_version": "1.1.0",
      "model_name": "LayoutModel",
      "state": {
       "padding": "10px 0px 0px 0px"
      }
     },
     "48d787b763db4b8b975ea66a1495c443": {
      "model_module": "@jupyter-widgets/controls",
      "model_module_version": "1.4.0",
      "model_name": "DescriptionStyleModel",
      "state": {
       "description_width": ""
      }
     },
     "48e6eb1f02f4418f8e5b52b2056e961a": {
      "model_module": "@jupyter-widgets/base",
      "model_module_version": "1.1.0",
      "model_name": "LayoutModel",
      "state": {}
     },
     "48ec0888abbc485b81bce5ce96fb3739": {
      "model_module": "@jupyter-widgets/controls",
      "model_module_version": "1.4.0",
      "model_name": "AccordionModel",
      "state": {
       "_titles": {
        "0": "Load",
        "1": "Save"
       },
       "children": [
        "IPY_MODEL_b562da069143405ab733fe765c41202a",
        "IPY_MODEL_ead6ae48670743d3865957736b01bb1d"
       ],
       "layout": "IPY_MODEL_ffe4c722a60d402181be043b4f45ce01",
       "selected_index": 1
      }
     },
     "493c78271afe4593a2a2e5afbf56227e": {
      "model_module": "@jupyter-widgets/controls",
      "model_module_version": "1.4.0",
      "model_name": "ButtonStyleModel",
      "state": {}
     },
     "493d5d21b1b644ba8f647af24f4fcabe": {
      "model_module": "@jupyter-widgets/controls",
      "model_module_version": "1.4.0",
      "model_name": "DescriptionStyleModel",
      "state": {
       "description_width": ""
      }
     },
     "4941ae1f1b6144b6bd83993885894b23": {
      "model_module": "@jupyter-widgets/base",
      "model_module_version": "1.1.0",
      "model_name": "LayoutModel",
      "state": {
       "justify_content": "center",
       "padding": "10px 0px 0px 0px"
      }
     },
     "49573f8bafcd4c4a8789689006f795cc": {
      "model_module": "@jupyter-widgets/controls",
      "model_module_version": "1.4.0",
      "model_name": "ButtonModel",
      "state": {
       "button_style": "danger",
       "icon": "image",
       "layout": "IPY_MODEL_fba09fe8c1224fee956b7eb20cd037dc",
       "style": "IPY_MODEL_f42e66dca79a43518c8ddec45a52ef07"
      }
     },
     "49ad3cde541b432895ce8206599621ba": {
      "model_module": "@jupyter-widgets/base",
      "model_module_version": "1.1.0",
      "model_name": "LayoutModel",
      "state": {}
     },
     "49cb94607238485687015b6c13684d58": {
      "model_module": "@jupyter-widgets/base",
      "model_module_version": "1.1.0",
      "model_name": "LayoutModel",
      "state": {}
     },
     "49fb429c0d3f41a2a1de541bcc406de6": {
      "model_module": "@jupyter-widgets/controls",
      "model_module_version": "1.4.0",
      "model_name": "HBoxModel",
      "state": {
       "children": [
        "IPY_MODEL_1f6e78c3be354ea9ba7b9d8eea7ad7f6",
        "IPY_MODEL_172aefc5ce054913aef14b96aea9c826",
        "IPY_MODEL_3f0a0e9639984de78db6e262f5a71a1a"
       ],
       "layout": "IPY_MODEL_0fe6cf8f4bdd49f2af7176fc8139a27d"
      }
     },
     "4a0e9db089a3448593e89457027d08b2": {
      "model_module": "@jupyter-widgets/controls",
      "model_module_version": "1.4.0",
      "model_name": "VBoxModel",
      "state": {
       "children": [
        "IPY_MODEL_bbb479edb1b14278a8227199958f34b1",
        "IPY_MODEL_b44ffc3220844572adffcc3597e72790",
        "IPY_MODEL_03b9b1f847dd437a851a06e1cadd38d0",
        "IPY_MODEL_c5608855a41c41728b5c7aee65b45373",
        "IPY_MODEL_3530efc737d04cf58c19ece2813378ec",
        "IPY_MODEL_b0579b79c3354c4dbbf31c7847bc1a86",
        "IPY_MODEL_6a7344900c1a4b9fb941408434cc6ab3",
        "IPY_MODEL_3c085b462be8469b8789da78f96a28c2",
        "IPY_MODEL_f7f7bec667624bab96a6df6c96073674",
        "IPY_MODEL_aaa387c29edd47889372ae7789313e7a",
        "IPY_MODEL_3356b9cf4a794b53aa0e47b0b328ec08",
        "IPY_MODEL_60e18d70feb44b86b8cc3c7e489f2f3e",
        "IPY_MODEL_4c15da70f3cc4e5c9e885147b9d28dd9",
        "IPY_MODEL_af3d17f1d3424ee6a9ac89d2da1aec69",
        "IPY_MODEL_ed332a0c6d45491aab12a056353e664c",
        "IPY_MODEL_05ffe58080bc478cbbe6b808a5cb8953",
        "IPY_MODEL_4f7827e7679b4037a95ef97ca656b308",
        "IPY_MODEL_f3d6911e1ebf41c9a9a235f7d3ef6360",
        "IPY_MODEL_fa8a5690e38d4ceba56ea968f190599a",
        "IPY_MODEL_e8fda977ecf743ed9c5992b6453baa8b",
        "IPY_MODEL_6c29e3cff1fc420980961fad625d58c8"
       ],
       "layout": "IPY_MODEL_c658393271c44388b57a9eb21c3c8e8d"
      }
     },
     "4a239510574e40329efe296df467fd04": {
      "model_module": "@jupyter-widgets/controls",
      "model_module_version": "1.4.0",
      "model_name": "HTMLModel",
      "state": {
       "layout": "IPY_MODEL_ca3fcd60c410460f9d0a7df6d96ba969",
       "style": "IPY_MODEL_35d62c69979b41df9d7e83b0b9780008",
       "value": "<b><p>Variable &nbsp </p> </b>"
      }
     },
     "4a76ea0a93ee427280e86cd0e40d4d06": {
      "model_module": "@jupyter-widgets/base",
      "model_module_version": "1.1.0",
      "model_name": "LayoutModel",
      "state": {}
     },
     "4ab53397ee07435ebb4f608f2fde31d7": {
      "model_module": "@jupyter-widgets/controls",
      "model_module_version": "1.4.0",
      "model_name": "DescriptionStyleModel",
      "state": {
       "description_width": ""
      }
     },
     "4ab88d67cbbf4485a643278f30071751": {
      "model_module": "@jupyter-widgets/controls",
      "model_module_version": "1.4.0",
      "model_name": "DescriptionStyleModel",
      "state": {
       "description_width": ""
      }
     },
     "4afe7a9dd5ab4dd182d50e118c7fa412": {
      "model_module": "@jupyter-widgets/controls",
      "model_module_version": "1.4.0",
      "model_name": "DescriptionStyleModel",
      "state": {
       "description_width": ""
      }
     },
     "4b1c99a2b7a34223a950bf7563cea572": {
      "model_module": "@jupyter-widgets/controls",
      "model_module_version": "1.4.0",
      "model_name": "DescriptionStyleModel",
      "state": {
       "description_width": ""
      }
     },
     "4b29e7480ec94678b095e9894c6e547c": {
      "model_module": "@jupyter-widgets/controls",
      "model_module_version": "1.4.0",
      "model_name": "HTMLModel",
      "state": {
       "layout": "IPY_MODEL_cea7d71f404f4297a74d83de2bb2df1f",
       "style": "IPY_MODEL_c2120040cf874ba3b641447518bd9230",
       "value": "<h5>Here you can load in a cytoscape <font color='darkKhaki'>.html</font> file. \nPut the file you want to load into the same place as this notebook, then load it in! </h5>"
      }
     },
     "4b84b4a316ea4cf09b80c4a0b42f7277": {
      "model_module": "@jupyter-widgets/base",
      "model_module_version": "1.1.0",
      "model_name": "LayoutModel",
      "state": {}
     },
     "4bf5821193c2456c9097b95bb2d84435": {
      "model_module": "@jupyter-widgets/controls",
      "model_module_version": "1.4.0",
      "model_name": "DescriptionStyleModel",
      "state": {
       "description_width": ""
      }
     },
     "4c15da70f3cc4e5c9e885147b9d28dd9": {
      "model_module": "@jupyter-widgets/controls",
      "model_module_version": "1.4.0",
      "model_name": "HBoxModel",
      "state": {
       "children": [
        "IPY_MODEL_78b9dd806f134a98a635b8165ad16e1c",
        "IPY_MODEL_19517f28f6ed44bfa6664d783797302a",
        "IPY_MODEL_38ecf170a3004091b4fe466736771aba"
       ],
       "layout": "IPY_MODEL_f13c6f89a6b5462dacbe34515ed06506"
      }
     },
     "4cad4f5a80c145818e340479fb96d001": {
      "model_module": "@jupyter-widgets/controls",
      "model_module_version": "1.4.0",
      "model_name": "DescriptionStyleModel",
      "state": {
       "description_width": ""
      }
     },
     "4cda01c624a440dcaeeb5b52491466f6": {
      "model_module": "@jupyter-widgets/base",
      "model_module_version": "1.1.0",
      "model_name": "LayoutModel",
      "state": {}
     },
     "4cdc9cd583d842e28cabb0e22d3e9a29": {
      "model_module": "@jupyter-widgets/base",
      "model_module_version": "1.1.0",
      "model_name": "LayoutModel",
      "state": {}
     },
     "4d52443fd38e43f590da0a70eb71b856": {
      "model_module": "@jupyter-widgets/controls",
      "model_module_version": "1.4.0",
      "model_name": "DescriptionStyleModel",
      "state": {
       "description_width": ""
      }
     },
     "4d643c0bb2cf447d9f281cd31b6749be": {
      "model_module": "@jupyter-widgets/controls",
      "model_module_version": "1.4.0",
      "model_name": "ToggleButtonsStyleModel",
      "state": {
       "button_width": "",
       "description_width": ""
      }
     },
     "4d8539602b514285a2f9d05885648272": {
      "model_module": "@jupyter-widgets/controls",
      "model_module_version": "1.4.0",
      "model_name": "FloatSliderModel",
      "state": {
       "layout": "IPY_MODEL_ae2da661300f406e8309a0b21505898d",
       "max": 1,
       "step": 0.05,
       "style": "IPY_MODEL_b4ae3edd61154c278cc186a960c0b143",
       "value": 0.5
      }
     },
     "4dd50e7f357a4471bf0f783e3122ef8e": {
      "model_module": "@jupyter-widgets/base",
      "model_module_version": "1.1.0",
      "model_name": "LayoutModel",
      "state": {}
     },
     "4f0dfcf07aef49fab8c8386d2062233a": {
      "model_module": "@jupyter-widgets/controls",
      "model_module_version": "1.4.0",
      "model_name": "ButtonStyleModel",
      "state": {}
     },
     "4f1fd82eaeb9428d9d38ae5c2505a5dc": {
      "model_module": "@jupyter-widgets/base",
      "model_module_version": "1.1.0",
      "model_name": "LayoutModel",
      "state": {
       "align_items": "center",
       "justify_content": "center"
      }
     },
     "4f4703039d6b4b8099026edba3f355c3": {
      "model_module": "@jupyter-widgets/controls",
      "model_module_version": "1.4.0",
      "model_name": "LabelModel",
      "state": {
       "layout": "IPY_MODEL_7e1301d8238c4628b7fb62e7ccee7cf1",
       "style": "IPY_MODEL_db413284ecfd426e8ab076b27bb25302",
       "value": "Image : "
      }
     },
     "4f7827e7679b4037a95ef97ca656b308": {
      "model_module": "@jupyter-widgets/controls",
      "model_module_version": "1.4.0",
      "model_name": "HBoxModel",
      "state": {
       "children": [
        "IPY_MODEL_8d7755a09cd54645b479fa9cd5ad3041",
        "IPY_MODEL_3d7a83648a2f4dc081a33d94e4b5a6d2",
        "IPY_MODEL_e7e66bc8c749407bb9597e599d9c4651"
       ],
       "layout": "IPY_MODEL_899c1f544e9b4d8d95a66af006bc4ff3"
      }
     },
     "4fe2dbc740e444d59bbd6d37411623d9": {
      "model_module": "@jupyter-widgets/controls",
      "model_module_version": "1.4.0",
      "model_name": "DescriptionStyleModel",
      "state": {
       "description_width": ""
      }
     },
     "4fef8072a3fa4621ae5717f7176de063": {
      "model_module": "@jupyter-widgets/base",
      "model_module_version": "1.1.0",
      "model_name": "LayoutModel",
      "state": {
       "width": "auto"
      }
     },
     "503e60a42bfe4242967d9ce1da1d9130": {
      "model_module": "@jupyter-widgets/controls",
      "model_module_version": "1.4.0",
      "model_name": "FloatTextModel",
      "state": {
       "continuous_update": true,
       "layout": "IPY_MODEL_377d08950cef437a8afe134c9fd00c98",
       "step": null,
       "style": "IPY_MODEL_1b43ae7ee9b748e2a4dff2f54e87a04b"
      }
     },
     "5073e67d7d06416589e1765b860cec13": {
      "model_module": "@jupyter-widgets/base",
      "model_module_version": "1.1.0",
      "model_name": "LayoutModel",
      "state": {}
     },
     "51c106a7a08a4e2ea322d20f0b081d05": {
      "model_module": "@jupyter-widgets/controls",
      "model_module_version": "1.4.0",
      "model_name": "TextModel",
      "state": {
       "layout": "IPY_MODEL_23bbc54aabee48ceb17f3e312e2803a3",
       "style": "IPY_MODEL_09e95820f8ed4f199ca7c662995559be"
      }
     },
     "525897fa34a04b979dbdee32f86a9d09": {
      "model_module": "@jupyter-widgets/controls",
      "model_module_version": "1.4.0",
      "model_name": "ButtonModel",
      "state": {
       "button_style": "primary",
       "description": "Load",
       "layout": "IPY_MODEL_f094b7377fcb4796953a1dd9215e5e43",
       "style": "IPY_MODEL_eb33ee5f2abf4c56bec24b7f5ccda8d3"
      }
     },
     "52aff9a96d1842d18cfa816db3894a7a": {
      "model_module": "@jupyter-widgets/controls",
      "model_module_version": "1.4.0",
      "model_name": "DescriptionStyleModel",
      "state": {
       "description_width": ""
      }
     },
     "536db22f505e4cd19fc9babfdec24474": {
      "model_module": "@jupyter-widgets/base",
      "model_module_version": "1.1.0",
      "model_name": "LayoutModel",
      "state": {}
     },
     "53bff1a62cac41488d92f874821c2f6e": {
      "model_module": "@jupyter-widgets/controls",
      "model_module_version": "1.4.0",
      "model_name": "DescriptionStyleModel",
      "state": {
       "description_width": ""
      }
     },
     "53fdc89a0519474e82ecce4dc3622199": {
      "model_module": "@jupyter-widgets/controls",
      "model_module_version": "1.4.0",
      "model_name": "VBoxModel",
      "state": {
       "children": [
        "IPY_MODEL_f69338d752934372a4b734d602ed953d",
        "IPY_MODEL_43b3e7b6908e447d85abd84ba9a2219e"
       ],
       "layout": "IPY_MODEL_669896d9d3d5418cb758d263d7cada6b"
      }
     },
     "54067b72997b4b03842b93647b99b18d": {
      "model_module": "@jupyter-widgets/controls",
      "model_module_version": "1.4.0",
      "model_name": "TextModel",
      "state": {
       "layout": "IPY_MODEL_3d5bb41eb0954586ac3709925adbe59e",
       "style": "IPY_MODEL_19c3b94b8c994f0b95c34a261982c3a9"
      }
     },
     "5428363844c7405eb56db81de4198b6b": {
      "model_module": "@jupyter-widgets/controls",
      "model_module_version": "1.4.0",
      "model_name": "HTMLModel",
      "state": {
       "layout": "IPY_MODEL_5b464bac49434d6791f5c96cf81fd03a",
       "style": "IPY_MODEL_5f0b3571880d4154bb1db55552265eb0",
       "value": "<font size=3 style='justify-content: center;'>edgelength_mean : </font>"
      }
     },
     "54f913d094154c0a8ffc03fa835712ae": {
      "model_module": "@jupyter-widgets/base",
      "model_module_version": "1.1.0",
      "model_name": "LayoutModel",
      "state": {}
     },
     "556b64ec32c747d49692112e392d5bf5": {
      "model_module": "@jupyter-widgets/controls",
      "model_module_version": "1.4.0",
      "model_name": "FloatTextModel",
      "state": {
       "continuous_update": true,
       "layout": "IPY_MODEL_54f913d094154c0a8ffc03fa835712ae",
       "step": null,
       "style": "IPY_MODEL_3cd7118021234d63beeaa6f5cb334c04"
      }
     },
     "55714570a59d4bffa6b4e2390aef20f6": {
      "model_module": "@jupyter-widgets/controls",
      "model_module_version": "1.4.0",
      "model_name": "FloatSliderModel",
      "state": {
       "layout": "IPY_MODEL_34c3e5091da7467d8af6019c9743a723",
       "max": 1,
       "step": 0.05,
       "style": "IPY_MODEL_986a935303ac462cb4ea4226e6253233",
       "value": 0.5
      }
     },
     "5571b04825904bf2ae0ed77d182609c6": {
      "model_module": "@jupyter-widgets/controls",
      "model_module_version": "1.4.0",
      "model_name": "HBoxModel",
      "state": {
       "children": [
        "IPY_MODEL_79b3deea6c184e8f9de11f7f6536cade",
        "IPY_MODEL_41a82cd465214cb99ff65b442d6a68ed",
        "IPY_MODEL_c23e1204afd943f09df09647b9cf3efe",
        "IPY_MODEL_49573f8bafcd4c4a8789689006f795cc"
       ],
       "layout": "IPY_MODEL_452035c6a32544219852b6e8191fe76f"
      }
     },
     "55f73dc3a2ae42f299576a3e2f576895": {
      "model_module": "@jupyter-widgets/controls",
      "model_module_version": "1.4.0",
      "model_name": "HTMLModel",
      "state": {
       "layout": "IPY_MODEL_f9bc817f1cd84603b28104ce444fc289",
       "style": "IPY_MODEL_eabfd7aeeb7f48819cc00893e9efb0b9",
       "value": "<font size=3 style='justify-content: center;'>Indegree : </font>"
      }
     },
     "569ac53c1cc6446685501908d9123c94": {
      "model_module": "@jupyter-widgets/controls",
      "model_module_version": "1.4.0",
      "model_name": "HBoxModel",
      "state": {
       "children": [
        "IPY_MODEL_bd551699520b445c85475bcec89fe675",
        "IPY_MODEL_cbfde99bdfac4a47b8cbc45e367f402d"
       ],
       "layout": "IPY_MODEL_8c5a9bf985b24e368eb0add5f5ed6795"
      }
     },
     "56b9aed0fc6646e1b5513a1c0f4941cd": {
      "model_module": "@jupyter-widgets/controls",
      "model_module_version": "1.4.0",
      "model_name": "DescriptionStyleModel",
      "state": {
       "description_width": ""
      }
     },
     "570f8b5f6df44ad98aeca2d2dbfa84a0": {
      "model_module": "@jupyter-widgets/controls",
      "model_module_version": "1.4.0",
      "model_name": "DescriptionStyleModel",
      "state": {
       "description_width": ""
      }
     },
     "5744b969f7f64598b8af2b89e176f1df": {
      "model_module": "@jupyter-widgets/base",
      "model_module_version": "1.1.0",
      "model_name": "LayoutModel",
      "state": {}
     },
     "57dd11bb2aac4c6aa0997d7a56d2b6de": {
      "model_module": "@jupyter-widgets/controls",
      "model_module_version": "1.4.0",
      "model_name": "DescriptionStyleModel",
      "state": {
       "description_width": ""
      }
     },
     "5814ebac2a35477b951dcfd07b7a65d0": {
      "model_module": "@jupyter-widgets/controls",
      "model_module_version": "1.4.0",
      "model_name": "DescriptionStyleModel",
      "state": {
       "description_width": ""
      }
     },
     "5815380d49474ad8a7ceda4eb1a7de61": {
      "model_module": "@jupyter-widgets/base",
      "model_module_version": "1.1.0",
      "model_name": "LayoutModel",
      "state": {}
     },
     "581bd6e6f02d407fae54da3263d076da": {
      "model_module": "@jupyter-widgets/controls",
      "model_module_version": "1.4.0",
      "model_name": "HBoxModel",
      "state": {
       "children": [
        "IPY_MODEL_dd6ef75c146d4d5cbaabf3c84aa6e9ae",
        "IPY_MODEL_8c6bed9e3661430abd7f6ed9f2e4a4e7",
        "IPY_MODEL_2c18040ff62c4f25a7200d21ed3f9bb5",
        "IPY_MODEL_809db3fcdfb34ffda5ec41df953d533d"
       ],
       "layout": "IPY_MODEL_4f1fd82eaeb9428d9d38ae5c2505a5dc"
      }
     },
     "582cb8ada2054b7198fb5284d3f9f9b0": {
      "model_module": "@jupyter-widgets/controls",
      "model_module_version": "1.4.0",
      "model_name": "AccordionModel",
      "state": {
       "_titles": {
        "0": "Load",
        "1": "Save"
       },
       "children": [
        "IPY_MODEL_588046614e7b40a09d8c12eb5eeb7a2c",
        "IPY_MODEL_fbf9e1189d344eaa9ae241bd89b951c7"
       ],
       "layout": "IPY_MODEL_cecfbf9f2d4a411e98103f1c03e7a7dd"
      }
     },
     "588046614e7b40a09d8c12eb5eeb7a2c": {
      "model_module": "@jupyter-widgets/controls",
      "model_module_version": "1.4.0",
      "model_name": "VBoxModel",
      "state": {
       "children": [
        "IPY_MODEL_c8e141b565d44efd9bd06978d3fed406",
        "IPY_MODEL_45f36edc51c54c1aaf025a80c40430a0",
        "IPY_MODEL_37fb985a34f24f45bba1b6f7a44eeb1b"
       ],
       "layout": "IPY_MODEL_e75ead6dbfa44f7894a07f3dd3c93e41"
      }
     },
     "58827f0c669543b985c841d399bebb00": {
      "model_module": "@jupyter-widgets/base",
      "model_module_version": "1.1.0",
      "model_name": "LayoutModel",
      "state": {}
     },
     "58bfc662c9324a1ea98759c7a400a4f2": {
      "model_module": "@jupyter-widgets/base",
      "model_module_version": "1.1.0",
      "model_name": "LayoutModel",
      "state": {
       "padding": "10px 0px 0px 0px"
      }
     },
     "5914f66c7c034cadb30ddfd85fc2f4a0": {
      "model_module": "@jupyter-widgets/base",
      "model_module_version": "1.1.0",
      "model_name": "LayoutModel",
      "state": {
       "width": "auto"
      }
     },
     "5962087095cb4bfd8dadf35771853a25": {
      "model_module": "@jupyter-widgets/base",
      "model_module_version": "1.1.0",
      "model_name": "LayoutModel",
      "state": {}
     },
     "59a701ca312e4751adca358e278e4a75": {
      "model_module": "@jupyter-widgets/controls",
      "model_module_version": "1.4.0",
      "model_name": "ToggleButtonsStyleModel",
      "state": {
       "button_width": "",
       "description_width": ""
      }
     },
     "59e4069c071246ababe87d910a0e4320": {
      "model_module": "@jupyter-widgets/base",
      "model_module_version": "1.1.0",
      "model_name": "LayoutModel",
      "state": {}
     },
     "59ec1dd2a9724a83bd335f48b83e6022": {
      "model_module": "@jupyter-widgets/base",
      "model_module_version": "1.1.0",
      "model_name": "LayoutModel",
      "state": {}
     },
     "5a2a0db80f58427394813ce71e3613ec": {
      "model_module": "@jupyter-widgets/controls",
      "model_module_version": "1.4.0",
      "model_name": "VBoxModel",
      "state": {
       "children": [
        "IPY_MODEL_df4b1fcf6e62433fa57517ecc9091e80",
        "IPY_MODEL_d5a6160519e346a6aa225ddde786781c"
       ],
       "layout": "IPY_MODEL_58827f0c669543b985c841d399bebb00"
      }
     },
     "5a3f7e7a8022465d8b392aa5756f0147": {
      "model_module": "@jupyter-widgets/controls",
      "model_module_version": "1.4.0",
      "model_name": "HTMLModel",
      "state": {
       "layout": "IPY_MODEL_31037cc69395436aad1cb98f3cb2c4b2",
       "style": "IPY_MODEL_cd2553eb11ee4c5fbd2a50518a7faae8",
       "value": "<font size=3 style='justify-content: center;'>Eccentricity : </font>"
      }
     },
     "5a4f7e5e870847a6acae9b6a0c5e49f0": {
      "model_module": "@jupyter-widgets/controls",
      "model_module_version": "1.4.0",
      "model_name": "DescriptionStyleModel",
      "state": {
       "description_width": ""
      }
     },
     "5a5fdd33d67446be8b04f68589c0860b": {
      "model_module": "@jupyter-widgets/base",
      "model_module_version": "1.1.0",
      "model_name": "LayoutModel",
      "state": {}
     },
     "5a84efab7a2a45148db7ff99796b76cc": {
      "model_module": "@jupyter-widgets/controls",
      "model_module_version": "1.4.0",
      "model_name": "DescriptionStyleModel",
      "state": {
       "description_width": ""
      }
     },
     "5a8ed725c5144f708ab37a19150c0fac": {
      "model_module": "@jupyter-widgets/base",
      "model_module_version": "1.1.0",
      "model_name": "LayoutModel",
      "state": {
       "align_items": "center",
       "display": "none"
      }
     },
     "5aee1580b918451789534399a86db19e": {
      "model_module": "@jupyter-widgets/base",
      "model_module_version": "1.1.0",
      "model_name": "LayoutModel",
      "state": {}
     },
     "5b0b23aef8ea4342bf33a209fcce8f43": {
      "model_module": "@jupyter-widgets/controls",
      "model_module_version": "1.4.0",
      "model_name": "DescriptionStyleModel",
      "state": {
       "description_width": ""
      }
     },
     "5b0f3d8b5ba848a9a352327397398000": {
      "model_module": "@jupyter-widgets/base",
      "model_module_version": "1.1.0",
      "model_name": "LayoutModel",
      "state": {}
     },
     "5b464bac49434d6791f5c96cf81fd03a": {
      "model_module": "@jupyter-widgets/base",
      "model_module_version": "1.1.0",
      "model_name": "LayoutModel",
      "state": {}
     },
     "5b60a504ccb84e389c5fee9acf87d4fe": {
      "model_module": "@jupyter-widgets/controls",
      "model_module_version": "1.4.0",
      "model_name": "ButtonStyleModel",
      "state": {}
     },
     "5b8f450d37c84a819ea0db9e64e78df5": {
      "model_module": "@jupyter-widgets/base",
      "model_module_version": "1.1.0",
      "model_name": "LayoutModel",
      "state": {}
     },
     "5bbf8381e85c484b9f4c108dc7d4a8d9": {
      "model_module": "@jupyter-widgets/controls",
      "model_module_version": "1.4.0",
      "model_name": "HBoxModel",
      "state": {
       "children": [
        "IPY_MODEL_b422ceac31c94d23bd1de060053ef3ba",
        "IPY_MODEL_503e60a42bfe4242967d9ce1da1d9130",
        "IPY_MODEL_b0b6d517596148e7a5e937b33c024742"
       ],
       "layout": "IPY_MODEL_7536480e3341474a8fd63a6c1325d3a7"
      }
     },
     "5bc38a0a0e794b37a956f7d40119144f": {
      "model_module": "@jupyter-widgets/controls",
      "model_module_version": "1.4.0",
      "model_name": "HBoxModel",
      "state": {
       "children": [
        "IPY_MODEL_e4af7bfce41446a7b871796aab1cd950",
        "IPY_MODEL_6f0810e6c9a14037aeceb7e1d6c50877",
        "IPY_MODEL_e639d0f9e3f64c7c8cfd260d391527bd"
       ],
       "layout": "IPY_MODEL_a50e580e7a064a15bd33926a7dcd1b0b"
      }
     },
     "5c953e47e33a4e2fa265925a0f704da2": {
      "model_module": "@jupyter-widgets/base",
      "model_module_version": "1.1.0",
      "model_name": "LayoutModel",
      "state": {}
     },
     "5cba699263594b42a7eddfabaafacf1c": {
      "model_module": "@jupyter-widgets/controls",
      "model_module_version": "1.4.0",
      "model_name": "ButtonStyleModel",
      "state": {}
     },
     "5ce2740c83f440cd967f1cb3df82aedd": {
      "model_module": "@jupyter-widgets/controls",
      "model_module_version": "1.4.0",
      "model_name": "TextModel",
      "state": {
       "layout": "IPY_MODEL_59ec1dd2a9724a83bd335f48b83e6022",
       "placeholder": "Variable Name:",
       "style": "IPY_MODEL_478e1ba7265f401d96ec7fc1a4e66323"
      }
     },
     "5d2bf12c16864d94b14029fd05ddb482": {
      "model_module": "@jupyter-widgets/controls",
      "model_module_version": "1.4.0",
      "model_name": "ButtonStyleModel",
      "state": {}
     },
     "5d3fef06f9ef4094b0d222363a7fdb26": {
      "model_module": "@jupyter-widgets/controls",
      "model_module_version": "1.4.0",
      "model_name": "TextModel",
      "state": {
       "description": "Name :",
       "layout": "IPY_MODEL_984484fc5cef47268540b9b82eb5d023",
       "placeholder": "Network Name",
       "style": "IPY_MODEL_570f8b5f6df44ad98aeca2d2dbfa84a0"
      }
     },
     "5d5d59a08f244d4ea379a4787a0dce9c": {
      "model_module": "@jupyter-widgets/controls",
      "model_module_version": "1.4.0",
      "model_name": "DescriptionStyleModel",
      "state": {
       "description_width": ""
      }
     },
     "5d63472ab88540d1af9b27b26b80aa97": {
      "model_module": "@jupyter-widgets/controls",
      "model_module_version": "1.4.0",
      "model_name": "ButtonStyleModel",
      "state": {}
     },
     "5dc9ddaaae014c049b818eec502d1325": {
      "model_module": "@jupyter-widgets/base",
      "model_module_version": "1.1.0",
      "model_name": "LayoutModel",
      "state": {
       "width": "auto"
      }
     },
     "5dd37899c1c14b14828e90fe9f8c73f1": {
      "model_module": "@jupyter-widgets/controls",
      "model_module_version": "1.4.0",
      "model_name": "HTMLModel",
      "state": {
       "layout": "IPY_MODEL_3e42bef308cc48b89d4d2a2c35c9f492",
       "style": "IPY_MODEL_c78618c67ecd4b48be5208acf9003d70",
       "value": "<h4 style='color:DarkKhaki'>Node :</h4>"
      }
     },
     "5e19cfcf86004dc390233544ff5c140c": {
      "model_module": "@jupyter-widgets/controls",
      "model_module_version": "1.4.0",
      "model_name": "HBoxModel",
      "state": {
       "children": [
        "IPY_MODEL_a3bbb64832d4440c83a7816195f90f45",
        "IPY_MODEL_2838017134654997bf02fe250fcb8c90"
       ],
       "layout": "IPY_MODEL_2db1dfd1397848188bd40ad290ddc482"
      }
     },
     "5e3572b6294a48738eff5feedd4de40b": {
      "model_module": "@jupyter-widgets/controls",
      "model_module_version": "1.4.0",
      "model_name": "DescriptionStyleModel",
      "state": {
       "description_width": ""
      }
     },
     "5e4e0d3e6deb4e928b7a766dfc4a855a": {
      "model_module": "@jupyter-widgets/base",
      "model_module_version": "1.1.0",
      "model_name": "LayoutModel",
      "state": {
       "align_items": "center"
      }
     },
     "5e58699dbb814ec0be6170bd2d12b12d": {
      "model_module": "@jupyter-widgets/base",
      "model_module_version": "1.1.0",
      "model_name": "LayoutModel",
      "state": {}
     },
     "5e737f8a52e84b1ea11ef7207bd28261": {
      "model_module": "@jupyter-widgets/controls",
      "model_module_version": "1.4.0",
      "model_name": "DescriptionStyleModel",
      "state": {
       "description_width": ""
      }
     },
     "5e907be26865463bbfc05f33c38627b8": {
      "model_module": "@jupyter-widgets/base",
      "model_module_version": "1.1.0",
      "model_name": "LayoutModel",
      "state": {
       "padding": "0 15px 0 35px"
      }
     },
     "5eaf9442fd904ef0983cd98c9b726e84": {
      "model_module": "@jupyter-widgets/base",
      "model_module_version": "1.1.0",
      "model_name": "LayoutModel",
      "state": {
       "width": "auto"
      }
     },
     "5eff580e85734969b73f251ac5310566": {
      "model_module": "@jupyter-widgets/controls",
      "model_module_version": "1.4.0",
      "model_name": "HBoxModel",
      "state": {
       "children": [
        "IPY_MODEL_311d08a19b504c00806fa356c10f73ae",
        "IPY_MODEL_7301fec604da437d8a6d7acc98a37427",
        "IPY_MODEL_b2ff9c423d6f4bac8cb3753fe8460075"
       ],
       "layout": "IPY_MODEL_1388951da3da4b2dad48dc0c989b4b67"
      }
     },
     "5f0b3571880d4154bb1db55552265eb0": {
      "model_module": "@jupyter-widgets/controls",
      "model_module_version": "1.4.0",
      "model_name": "DescriptionStyleModel",
      "state": {
       "description_width": ""
      }
     },
     "5f5d15a2b1a14d498feaf944851a8438": {
      "model_module": "@jupyter-widgets/base",
      "model_module_version": "1.1.0",
      "model_name": "LayoutModel",
      "state": {}
     },
     "5ff9fb592343416d9abe2db55daf27c6": {
      "model_module": "@jupyter-widgets/controls",
      "model_module_version": "1.4.0",
      "model_name": "HTMLModel",
      "state": {
       "layout": "IPY_MODEL_390a1d76ba5f4db886866d502bc0f411",
       "style": "IPY_MODEL_4fe2dbc740e444d59bbd6d37411623d9",
       "value": "<font size=3 style='justify-content: center;'>shared_name : </font>"
      }
     },
     "6009392b01d94843bc599136392c6f9a": {
      "model_module": "@jupyter-widgets/controls",
      "model_module_version": "1.4.0",
      "model_name": "DescriptionStyleModel",
      "state": {
       "description_width": ""
      }
     },
     "6049ac24ebc24273bbe4cec1fb687d69": {
      "model_module": "@jupyter-widgets/controls",
      "model_module_version": "1.4.0",
      "model_name": "DropdownModel",
      "state": {
       "_options_labels": [
        "ellipse",
        "triangle",
        "rectangle",
        "rhomboid",
        "diamond",
        "pentagon",
        "hexagon",
        "concavehexagon",
        "heptagon",
        "octagon",
        "star",
        "tag",
        "vee"
       ],
       "index": 0,
       "layout": "IPY_MODEL_5815380d49474ad8a7ceda4eb1a7de61",
       "style": "IPY_MODEL_dba93021b8f14812baf5f4bb4615b0b2"
      }
     },
     "60bcb4d89400437db12acbed2d26a4fc": {
      "model_module": "@jupyter-widgets/controls",
      "model_module_version": "1.4.0",
      "model_name": "HBoxModel",
      "state": {
       "children": [
        "IPY_MODEL_617451eb4d34408fbec657e628b48cb6",
        "IPY_MODEL_a3f7fcf9f7054a9e8e5c247f514d7c57"
       ],
       "layout": "IPY_MODEL_70bdabe7d76e458697dab84f153d6744"
      }
     },
     "60e18d70feb44b86b8cc3c7e489f2f3e": {
      "model_module": "@jupyter-widgets/controls",
      "model_module_version": "1.4.0",
      "model_name": "HBoxModel",
      "state": {
       "children": [
        "IPY_MODEL_5ff9fb592343416d9abe2db55daf27c6",
        "IPY_MODEL_51c106a7a08a4e2ea322d20f0b081d05",
        "IPY_MODEL_e03e1a1489524045b8ff6b194c5e3ccd"
       ],
       "layout": "IPY_MODEL_dd60214556ef473f86a20840134143a9"
      }
     },
     "60e1f50f21ff4b34a57f2135f49495e5": {
      "model_module": "@jupyter-widgets/controls",
      "model_module_version": "1.4.0",
      "model_name": "ButtonStyleModel",
      "state": {}
     },
     "60ff93284a504046a3789bce0a2b7d3d": {
      "model_module": "@jupyter-widgets/base",
      "model_module_version": "1.1.0",
      "model_name": "LayoutModel",
      "state": {
       "justify_content": "center",
       "padding": "0px 20px 5px 0px"
      }
     },
     "61604368c512483f8cd1394d2482e629": {
      "model_module": "@jupyter-widgets/controls",
      "model_module_version": "1.4.0",
      "model_name": "TextModel",
      "state": {
       "description": "Name :",
       "layout": "IPY_MODEL_18186dbae1d74b398ff0c52056be2318",
       "placeholder": "Network Name",
       "style": "IPY_MODEL_9854a07e49754a4cadd7594481946f94"
      }
     },
     "617451eb4d34408fbec657e628b48cb6": {
      "model_module": "@jupyter-widgets/controls",
      "model_module_version": "1.4.0",
      "model_name": "ButtonModel",
      "state": {
       "button_style": "danger",
       "description": "Delete",
       "layout": "IPY_MODEL_0bbe0ac07233440683bcdf07b2d8bc04",
       "style": "IPY_MODEL_33ac5fded03443fb8867e8a08df87e75"
      }
     },
     "61b3187c429c4218a05ae9a6effa8972": {
      "model_module": "@jupyter-widgets/base",
      "model_module_version": "1.1.0",
      "model_name": "LayoutModel",
      "state": {}
     },
     "61fa0988ff0748bca7c1ff953e79ec4d": {
      "model_module": "@jupyter-widgets/base",
      "model_module_version": "1.1.0",
      "model_name": "LayoutModel",
      "state": {
       "min_width": "30px"
      }
     },
     "62197f9af5bb455981693034e5c698c0": {
      "model_module": "@jupyter-widgets/controls",
      "model_module_version": "1.4.0",
      "model_name": "DescriptionStyleModel",
      "state": {
       "description_width": ""
      }
     },
     "62340110cdef46009b0f36f9d8748615": {
      "model_module": "@jupyter-widgets/controls",
      "model_module_version": "1.4.0",
      "model_name": "DescriptionStyleModel",
      "state": {
       "description_width": ""
      }
     },
     "6262cbfa6f674dc596638b73b5af505b": {
      "model_module": "@jupyter-widgets/controls",
      "model_module_version": "1.4.0",
      "model_name": "DropdownModel",
      "state": {
       "_options_labels": [
        "index.html"
       ],
       "index": 0,
       "layout": "IPY_MODEL_d5b4bf5b66954d36879f2c01b42e4982",
       "style": "IPY_MODEL_eda2805a4bda4a58950a3b17974de6ce"
      }
     },
     "62752dd476dd4b60b53bfdfb010981d0": {
      "model_module": "@jupyter-widgets/controls",
      "model_module_version": "1.4.0",
      "model_name": "DescriptionStyleModel",
      "state": {
       "description_width": ""
      }
     },
     "62817f3ea7a340a5b308ca767a26f4bf": {
      "model_module": "@jupyter-widgets/base",
      "model_module_version": "1.1.0",
      "model_name": "LayoutModel",
      "state": {}
     },
     "628ee9ffc1d34a44a46bc17995b16d78": {
      "model_module": "@jupyter-widgets/controls",
      "model_module_version": "1.4.0",
      "model_name": "ButtonStyleModel",
      "state": {}
     },
     "63f44fbe703e43dea05ed445f05480ea": {
      "model_module": "@jupyter-widgets/base",
      "model_module_version": "1.1.0",
      "model_name": "LayoutModel",
      "state": {
       "justify_content": "center"
      }
     },
     "64378cf7608c4135b67fb803b53fe86c": {
      "model_module": "@jupyter-widgets/base",
      "model_module_version": "1.1.0",
      "model_name": "LayoutModel",
      "state": {
       "width": "auto"
      }
     },
     "64afadaf758d44e98ae98dbb8ef1fc4f": {
      "model_module": "@jupyter-widgets/controls",
      "model_module_version": "1.4.0",
      "model_name": "ToggleButtonModel",
      "state": {
       "icon": "eye",
       "layout": "IPY_MODEL_b3d7308dac67467593f2f8ff455e964d",
       "style": "IPY_MODEL_2580ea4c998343c7938f7cd020efb755"
      }
     },
     "65a88c234bfd400c907505217c58e918": {
      "model_module": "@jupyter-widgets/controls",
      "model_module_version": "1.4.0",
      "model_name": "DescriptionStyleModel",
      "state": {
       "description_width": ""
      }
     },
     "660116884d0044ca91630b4936a1922f": {
      "model_module": "@jupyter-widgets/controls",
      "model_module_version": "1.4.0",
      "model_name": "LabelModel",
      "state": {
       "layout": "IPY_MODEL_ebde3916b7d1486da463d79451cfb163",
       "style": "IPY_MODEL_9d413636a8954febb65cbc989883450a",
       "value": "Color :"
      }
     },
     "669896d9d3d5418cb758d263d7cada6b": {
      "model_module": "@jupyter-widgets/base",
      "model_module_version": "1.1.0",
      "model_name": "LayoutModel",
      "state": {}
     },
     "66a05f6182764bf6b82d7d559d690507": {
      "model_module": "@jupyter-widgets/controls",
      "model_module_version": "1.4.0",
      "model_name": "VBoxModel",
      "state": {
       "children": [
        "IPY_MODEL_a3e25a044d3a4a239f74c5a9802a6596",
        "IPY_MODEL_18512dbc667940dba60220fd49c41ddd",
        "IPY_MODEL_81ec5973effa4271b50024d8ceb3cd71",
        "IPY_MODEL_6c235f6208754f11892a18f93a8c8458",
        "IPY_MODEL_9bd4682070cf420eb780ab036e58c159",
        "IPY_MODEL_4829f00cf60948368f9515d8333326b3"
       ],
       "layout": "IPY_MODEL_187c701cc81043eaab4a10de05a9f4b2"
      }
     },
     "66a73799f66e41308f3b1afe3312cfce": {
      "model_module": "@jupyter-widgets/controls",
      "model_module_version": "1.4.0",
      "model_name": "DescriptionStyleModel",
      "state": {
       "description_width": ""
      }
     },
     "677844f27dfd4a719cb409aeb73011e1": {
      "model_module": "@jupyter-widgets/controls",
      "model_module_version": "1.4.0",
      "model_name": "HTMLModel",
      "state": {
       "layout": "IPY_MODEL_9a8bf4baf8c74ec3a0d4ca8111ef6b29",
       "style": "IPY_MODEL_ad773f40560e43308a8ad392bd319b6d",
       "value": "<h5>Here you can load a <a href='https://www.datacamp.com/community/tutorials/pandas-tutorial-dataframe-python'>Pandas DataFrame</a>\n by typing the name of a <font color=\"blue\">Python Variable</font> .</h5>"
      }
     },
     "67ddddd8bddb405cabdd368d749a2263": {
      "model_module": "@jupyter-widgets/controls",
      "model_module_version": "1.4.0",
      "model_name": "ButtonStyleModel",
      "state": {}
     },
     "67f112d62b79414785bd50c9406fe0b5": {
      "model_module": "@jupyter-widgets/base",
      "model_module_version": "1.1.0",
      "model_name": "LayoutModel",
      "state": {}
     },
     "680ca8d1984743ae83444aae90034d27": {
      "model_module": "@jupyter-widgets/controls",
      "model_module_version": "1.4.0",
      "model_name": "DescriptionStyleModel",
      "state": {
       "description_width": ""
      }
     },
     "682ac4247b7041bdb08e3449151d0caf": {
      "model_module": "@jupyter-widgets/base",
      "model_module_version": "1.1.0",
      "model_name": "LayoutModel",
      "state": {}
     },
     "68daf1a12fd144049755acef0ec5bec2": {
      "model_module": "@jupyter-widgets/base",
      "model_module_version": "1.1.0",
      "model_name": "LayoutModel",
      "state": {
       "visibility": "hidden"
      }
     },
     "68dba07aee7f4b3dbf40c4aa840435a1": {
      "model_module": "@jupyter-widgets/controls",
      "model_module_version": "1.4.0",
      "model_name": "DescriptionStyleModel",
      "state": {
       "description_width": ""
      }
     },
     "68f05390685a4021b3b15f8b53300ad8": {
      "model_module": "@jupyter-widgets/base",
      "model_module_version": "1.1.0",
      "model_name": "LayoutModel",
      "state": {}
     },
     "69144e35610b4ed290cd351aa2a9720e": {
      "model_module": "@jupyter-widgets/controls",
      "model_module_version": "1.4.0",
      "model_name": "LabelModel",
      "state": {
       "layout": "IPY_MODEL_3586ed9ab96d4c6b813f500a3dcc734e",
       "style": "IPY_MODEL_309d44fa5637462ea30500c319531aef",
       "value": "Shape :"
      }
     },
     "69f03ae38d7a498cbc353888f19ef672": {
      "model_module": "@jupyter-widgets/base",
      "model_module_version": "1.1.0",
      "model_name": "LayoutModel",
      "state": {}
     },
     "69f709351d484802b4014bca3363784b": {
      "model_module": "@jupyter-widgets/base",
      "model_module_version": "1.1.0",
      "model_name": "LayoutModel",
      "state": {}
     },
     "6a0601d5a7034cfd8f372ae47eb03dc4": {
      "model_module": "@jupyter-widgets/base",
      "model_module_version": "1.1.0",
      "model_name": "LayoutModel",
      "state": {}
     },
     "6a0a41bc765e487e97d63c3949f1683b": {
      "model_module": "@jupyter-widgets/controls",
      "model_module_version": "1.4.0",
      "model_name": "HTMLModel",
      "state": {
       "layout": "IPY_MODEL_e9624d403e644566a4fa61e273b2c796",
       "style": "IPY_MODEL_39f4cc490e3942b7a10e0a48380e341e",
       "value": "<hr style='padding: 2px; margin: 2px'>"
      }
     },
     "6a51c8fb1859485c95f12aff1bd4bd3d": {
      "model_module": "@jupyter-widgets/base",
      "model_module_version": "1.1.0",
      "model_name": "LayoutModel",
      "state": {}
     },
     "6a7344900c1a4b9fb941408434cc6ab3": {
      "model_module": "@jupyter-widgets/controls",
      "model_module_version": "1.4.0",
      "model_name": "HBoxModel",
      "state": {
       "children": [
        "IPY_MODEL_ea0f965cb0fb4288a630f37c5dac7825",
        "IPY_MODEL_c84f662d79b04fae9426b75960d62b59",
        "IPY_MODEL_11df6d988e944d06af188245e10c5e4e"
       ],
       "layout": "IPY_MODEL_20a04ce5383c46248c6f21b9c1eb57b9"
      }
     },
     "6a92e6013ee64c4d93a348dc4e939dbe": {
      "model_module": "@jupyter-widgets/base",
      "model_module_version": "1.1.0",
      "model_name": "LayoutModel",
      "state": {
       "visibility": "hidden"
      }
     },
     "6b4bf64994e34a4d9706363b6775d7ac": {
      "model_module": "@jupyter-widgets/controls",
      "model_module_version": "1.4.0",
      "model_name": "FloatTextModel",
      "state": {
       "continuous_update": true,
       "layout": "IPY_MODEL_1ce867eb250f4327aa89b9ece04837e2",
       "step": null,
       "style": "IPY_MODEL_7fd6c78da42e486c9b0057c7c8f53147"
      }
     },
     "6b6434ed4dbd4b978332caeda098dfe0": {
      "model_module": "@jupyter-widgets/controls",
      "model_module_version": "1.4.0",
      "model_name": "HTMLModel",
      "state": {
       "layout": "IPY_MODEL_4a76ea0a93ee427280e86cd0e40d4d06",
       "style": "IPY_MODEL_a872815da30c462297f67b1c7003df91",
       "value": "<h5>Paste the <a>NDEx URL</a> of the dataset to download :</h5>"
      }
     },
     "6be323efc50e44a9ad1d54ebd32e38fc": {
      "model_module": "@jupyter-widgets/controls",
      "model_module_version": "1.4.0",
      "model_name": "ButtonModel",
      "state": {
       "button_style": "primary",
       "description": "Load",
       "layout": "IPY_MODEL_9257c7f2c46c4729afafe7744b4964b2",
       "style": "IPY_MODEL_16cd9027ac57493aa2075c56d9683b29"
      }
     },
     "6c235f6208754f11892a18f93a8c8458": {
      "model_module": "@jupyter-widgets/controls",
      "model_module_version": "1.4.0",
      "model_name": "VBoxModel",
      "state": {
       "layout": "IPY_MODEL_89932788890c4ecf88d8401f4ad6f7e1"
      }
     },
     "6c29e3cff1fc420980961fad625d58c8": {
      "model_module": "@jupyter-widgets/controls",
      "model_module_version": "1.4.0",
      "model_name": "HBoxModel",
      "state": {
       "children": [
        "IPY_MODEL_dc07080d0e5349e6a6f86f1e6d012654",
        "IPY_MODEL_4410f0f41a504c588ef2d7856aa3d5e0",
        "IPY_MODEL_adbe41d4bd4740e9ae916b61ec84db98"
       ],
       "layout": "IPY_MODEL_abfe9fa70cb1413cba0da848069d4719"
      }
     },
     "6ccd241cf78248d5bf6c239f905d3cd5": {
      "model_module": "@jupyter-widgets/controls",
      "model_module_version": "1.4.0",
      "model_name": "ToggleButtonsModel",
      "state": {
       "_options_labels": [
        "Python",
        "HTML"
       ],
       "button_style": "danger",
       "icons": [],
       "index": 1,
       "layout": "IPY_MODEL_952efdc1723a4225a14ff77738493c5a",
       "style": "IPY_MODEL_994440dd777b4ac080b6d6d894f744bc",
       "tooltips": []
      }
     },
     "6d1130bb87404dc7b3d57d0760e87f2a": {
      "model_module": "@jupyter-widgets/base",
      "model_module_version": "1.1.0",
      "model_name": "LayoutModel",
      "state": {
       "padding": "10px 0px 0px 0px"
      }
     },
     "6d4a8929771c485fab27c1240c9186a1": {
      "model_module": "@jupyter-widgets/controls",
      "model_module_version": "1.4.0",
      "model_name": "DescriptionStyleModel",
      "state": {
       "description_width": ""
      }
     },
     "6d9d1927c10b47939eccbf2712ea924a": {
      "model_module": "@jupyter-widgets/controls",
      "model_module_version": "1.4.0",
      "model_name": "HBoxModel",
      "state": {
       "children": [
        "IPY_MODEL_6fc9bf60c215470abc2f61b07c346b66",
        "IPY_MODEL_45c8310a2447417ead0d20b611989184",
        "IPY_MODEL_f54d174eddd9428e8110d77a9372cd9c",
        "IPY_MODEL_a154faea0faf423c817069d22636e378"
       ],
       "layout": "IPY_MODEL_fe1a14374f184ffbb390ca12dc0a186b"
      }
     },
     "6dc969e9e2ed42479fa6804656a8cdc9": {
      "model_module": "@jupyter-widgets/controls",
      "model_module_version": "1.4.0",
      "model_name": "HBoxModel",
      "state": {
       "children": [
        "IPY_MODEL_32fb48b49419452ba8a46340d6acbbf4",
        "IPY_MODEL_55714570a59d4bffa6b4e2390aef20f6",
        "IPY_MODEL_0b81a3909d614a75a4d541b83b43f03b"
       ],
       "layout": "IPY_MODEL_886d503c3c9c4cb197ecc29f5ff0f170"
      }
     },
     "6e3eb750b7a44d348ed6fb7f1b1e2c38": {
      "model_module": "@jupyter-widgets/base",
      "model_module_version": "1.1.0",
      "model_name": "LayoutModel",
      "state": {}
     },
     "6e977684dccb408da4c38a92174777df": {
      "model_module": "@jupyter-widgets/controls",
      "model_module_version": "1.4.0",
      "model_name": "DescriptionStyleModel",
      "state": {
       "description_width": ""
      }
     },
     "6eacd901d1994e75a42b783cb0740ea8": {
      "model_module": "@jupyter-widgets/base",
      "model_module_version": "1.1.0",
      "model_name": "LayoutModel",
      "state": {
       "padding": "0 15px 0 35px"
      }
     },
     "6ebcd090f1cb4d77922f8c989088a227": {
      "model_module": "@jupyter-widgets/controls",
      "model_module_version": "1.4.0",
      "model_name": "DescriptionStyleModel",
      "state": {
       "description_width": ""
      }
     },
     "6f02b85d8a1d4e08946d8a3d40883155": {
      "model_module": "@jupyter-widgets/controls",
      "model_module_version": "1.4.0",
      "model_name": "DescriptionStyleModel",
      "state": {
       "description_width": ""
      }
     },
     "6f0810e6c9a14037aeceb7e1d6c50877": {
      "model_module": "@jupyter-widgets/controls",
      "model_module_version": "1.4.0",
      "model_name": "TextModel",
      "state": {
       "layout": "IPY_MODEL_e77d0245da4f4bebbb694c3cb04be67b",
       "style": "IPY_MODEL_7d94e27a07ac4a9c9b2a716ddfd41264"
      }
     },
     "6fc9bf60c215470abc2f61b07c346b66": {
      "model_module": "@jupyter-widgets/controls",
      "model_module_version": "1.4.0",
      "model_name": "HTMLModel",
      "state": {
       "layout": "IPY_MODEL_de584f7ab9c8476a956a908b97b7fca1",
       "style": "IPY_MODEL_b2149b43850b4670957deb05fa94102b",
       "value": "<h5>Name  &nbsp</h5> "
      }
     },
     "70b693f5e0e242f0961dee4a333e62d3": {
      "model_module": "@jupyter-widgets/controls",
      "model_module_version": "1.4.0",
      "model_name": "DescriptionStyleModel",
      "state": {
       "description_width": ""
      }
     },
     "70bdabe7d76e458697dab84f153d6744": {
      "model_module": "@jupyter-widgets/base",
      "model_module_version": "1.1.0",
      "model_name": "LayoutModel",
      "state": {
       "justify_content": "center",
       "padding": "0px 0px 10px 0px"
      }
     },
     "7178b59aedce413da0638b6b63efc81f": {
      "model_module": "@jupyter-widgets/controls",
      "model_module_version": "1.4.0",
      "model_name": "ButtonStyleModel",
      "state": {}
     },
     "71df9d811671497e9cd9a080c72c573b": {
      "model_module": "@jupyter-widgets/controls",
      "model_module_version": "1.4.0",
      "model_name": "DropdownModel",
      "state": {
       "_options_labels": [
        "solid",
        "dotted",
        "dashed"
       ],
       "index": 0,
       "layout": "IPY_MODEL_2c8e602b89e5458484537526653eaf4d",
       "style": "IPY_MODEL_cbed3ce4bed14d76973a6561e29880d6"
      }
     },
     "71fa56459db7411caf5c5e10aceb32ee": {
      "model_module": "@jupyter-widgets/base",
      "model_module_version": "1.1.0",
      "model_name": "LayoutModel",
      "state": {
       "height": "40px",
       "min_width": "50px",
       "width": "10%"
      }
     },
     "7244da5dcedc488aa0709e7f436f094d": {
      "model_module": "@jupyter-widgets/controls",
      "model_module_version": "1.4.0",
      "model_name": "TextModel",
      "state": {
       "description": "URL :",
       "layout": "IPY_MODEL_2ac9a2e5ada34d3fa6cc2d3db11a1d80",
       "style": "IPY_MODEL_4d52443fd38e43f590da0a70eb71b856"
      }
     },
     "72b18101a47c4e9ca656c6757470b150": {
      "model_module": "@jupyter-widgets/controls",
      "model_module_version": "1.4.0",
      "model_name": "ButtonStyleModel",
      "state": {}
     },
     "7301fec604da437d8a6d7acc98a37427": {
      "model_module": "@jupyter-widgets/controls",
      "model_module_version": "1.4.0",
      "model_name": "TextModel",
      "state": {
       "layout": "IPY_MODEL_c877148ca08c4d28af18369e4228beb2",
       "style": "IPY_MODEL_53bff1a62cac41488d92f874821c2f6e"
      }
     },
     "736973b77848447cbab7189d47cd1f20": {
      "model_module": "@jupyter-widgets/base",
      "model_module_version": "1.1.0",
      "model_name": "LayoutModel",
      "state": {
       "height": "80px",
       "width": "99%"
      }
     },
     "73e09989df9a46a6972d167de435e2a1": {
      "model_module": "@jupyter-widgets/controls",
      "model_module_version": "1.4.0",
      "model_name": "VBoxModel",
      "state": {
       "children": [
        "IPY_MODEL_35d95bed997647e58632458a2ff47302",
        "IPY_MODEL_37950c4218b045ac9d5cd94bc0fa5174"
       ],
       "layout": "IPY_MODEL_bd871b812dba45cd94974b0c8bad98a5"
      }
     },
     "73f69a6434144239915c9c8bf87b751f": {
      "model_module": "@jupyter-widgets/controls",
      "model_module_version": "1.4.0",
      "model_name": "TextModel",
      "state": {
       "layout": "IPY_MODEL_d2df843167a2480fb4847d9cee02b25e",
       "style": "IPY_MODEL_032186d414944856ba07c78cfdf31975"
      }
     },
     "73fcce10aef243ed8f6be4c4cd03604e": {
      "model_module": "@jupyter-widgets/base",
      "model_module_version": "1.1.0",
      "model_name": "LayoutModel",
      "state": {}
     },
     "74297dacf5334c10a3d8fd93440f3fa8": {
      "model_module": "@jupyter-widgets/base",
      "model_module_version": "1.1.0",
      "model_name": "LayoutModel",
      "state": {}
     },
     "7536480e3341474a8fd63a6c1325d3a7": {
      "model_module": "@jupyter-widgets/base",
      "model_module_version": "1.1.0",
      "model_name": "LayoutModel",
      "state": {}
     },
     "755d99ee274b4ca8a8e667238c25ef99": {
      "model_module": "@jupyter-widgets/base",
      "model_module_version": "1.1.0",
      "model_name": "LayoutModel",
      "state": {}
     },
     "75f7323438324f69aa3f96c7356abcba": {
      "model_module": "@jupyter-widgets/base",
      "model_module_version": "1.1.0",
      "model_name": "LayoutModel",
      "state": {
       "padding": "10px 0px 0px 0px"
      }
     },
     "76113cd0373343559e087a7ead64a874": {
      "model_module": "@jupyter-widgets/base",
      "model_module_version": "1.1.0",
      "model_name": "LayoutModel",
      "state": {
       "width": "auto"
      }
     },
     "7613382a663e48c0b9468788b317d3c4": {
      "model_module": "@jupyter-widgets/base",
      "model_module_version": "1.1.0",
      "model_name": "LayoutModel",
      "state": {
       "padding": "10px 0px 0px 0px"
      }
     },
     "7614da2dbe4f4ce0ae64a609127f7888": {
      "model_module": "@jupyter-widgets/base",
      "model_module_version": "1.1.0",
      "model_name": "LayoutModel",
      "state": {}
     },
     "761aad85417d4b709ab5e1ecd377a9a9": {
      "model_module": "@jupyter-widgets/base",
      "model_module_version": "1.1.0",
      "model_name": "LayoutModel",
      "state": {}
     },
     "7693453418ea44c5930f58b121c6c0d7": {
      "model_module": "@jupyter-widgets/base",
      "model_module_version": "1.1.0",
      "model_name": "LayoutModel",
      "state": {}
     },
     "769eba376adc4b22a71b7b754129f33c": {
      "model_module": "@jupyter-widgets/controls",
      "model_module_version": "1.4.0",
      "model_name": "LabelModel",
      "state": {
       "layout": "IPY_MODEL_b430f250cebb4505bd21c332dc264b28",
       "style": "IPY_MODEL_bff479df4a2e48d8b6dabb3672c81c00",
       "value": "Text :"
      }
     },
     "77061780c68244018f3e4dd50654ffa0": {
      "model_module": "@jupyter-widgets/controls",
      "model_module_version": "1.4.0",
      "model_name": "ButtonModel",
      "state": {
       "button_style": "danger",
       "description": "Remove",
       "layout": "IPY_MODEL_a2ab856f41cf45869b26ebca6c3a6ec4",
       "style": "IPY_MODEL_29bc104b49534cc6971ba63965543d71"
      }
     },
     "77263db6075d45819da6e0340b912392": {
      "model_module": "@jupyter-widgets/controls",
      "model_module_version": "1.4.0",
      "model_name": "DescriptionStyleModel",
      "state": {
       "description_width": ""
      }
     },
     "777d0861eca440d3a76cac74047cdc7f": {
      "model_module": "@jupyter-widgets/controls",
      "model_module_version": "1.4.0",
      "model_name": "HBoxModel",
      "state": {
       "children": [
        "IPY_MODEL_36c7adf40f074b43a8ace7cc740052cd",
        "IPY_MODEL_7244da5dcedc488aa0709e7f436f094d"
       ],
       "layout": "IPY_MODEL_907fc6436ecb441aa5b9e5e9655b5c97"
      }
     },
     "77a0fe225e6d4143b811620e2c818471": {
      "model_module": "@jupyter-widgets/controls",
      "model_module_version": "1.4.0",
      "model_name": "HBoxModel",
      "state": {
       "children": [
        "IPY_MODEL_ec646e90dbe8489b81a4bce4d0876382",
        "IPY_MODEL_21d259b100d34982b843b37e746d5e98",
        "IPY_MODEL_c07cefdbc6c643f4bb55beb6334aad79",
        "IPY_MODEL_8a687ac97fcf45098e84e4925524b98b"
       ],
       "layout": "IPY_MODEL_60ff93284a504046a3789bce0a2b7d3d"
      }
     },
     "77efbd263455412184b3cd2e28b262f2": {
      "model_module": "@jupyter-widgets/controls",
      "model_module_version": "1.4.0",
      "model_name": "HTMLModel",
      "state": {
       "layout": "IPY_MODEL_f3b17954a52046909e8109b84f506f7b",
       "style": "IPY_MODEL_8f06ddb40fba4123b6b56ba186aea182",
       "value": "<p>&nbsp&nbsp&nbsp&nbsp&nbsp</p>"
      }
     },
     "77f4dbc48e5e44449d34b85da622aa9d": {
      "model_module": "@jupyter-widgets/base",
      "model_module_version": "1.1.0",
      "model_name": "LayoutModel",
      "state": {
       "width": "auto"
      }
     },
     "782c5f00fbb54b5ab028e689dcdddc75": {
      "model_module": "@jupyter-widgets/controls",
      "model_module_version": "1.4.0",
      "model_name": "DescriptionStyleModel",
      "state": {
       "description_width": ""
      }
     },
     "783cccf8b4624f5985e3a98bac2e5526": {
      "model_module": "@jupyter-widgets/controls",
      "model_module_version": "1.4.0",
      "model_name": "DescriptionStyleModel",
      "state": {
       "description_width": ""
      }
     },
     "78b9dd806f134a98a635b8165ad16e1c": {
      "model_module": "@jupyter-widgets/controls",
      "model_module_version": "1.4.0",
      "model_name": "HTMLModel",
      "state": {
       "layout": "IPY_MODEL_99c5c8b93033406aa4085262a1052463",
       "style": "IPY_MODEL_be9b00e425c84adbbabebd5eb93be45d",
       "value": "<font size=3 style='justify-content: center;'>edgelength_median : </font>"
      }
     },
     "78c0246e9e5743fd904598d1b974a9fb": {
      "model_module": "@jupyter-widgets/base",
      "model_module_version": "1.1.0",
      "model_name": "LayoutModel",
      "state": {}
     },
     "790e791406ed4944b596f0271a458d96": {
      "model_module": "@jupyter-widgets/controls",
      "model_module_version": "1.4.0",
      "model_name": "HBoxModel",
      "state": {
       "children": [
        "IPY_MODEL_f549c68bed994fcb9e883c3c06218f62",
        "IPY_MODEL_b8548963eb884bf5a8207075228fc655"
       ],
       "layout": "IPY_MODEL_c6843bdcfe0341e4ad430c8db47100c1"
      }
     },
     "79534f4d621a4853b678107c453a39f8": {
      "model_module": "@jupyter-widgets/controls",
      "model_module_version": "1.4.0",
      "model_name": "IntSliderModel",
      "state": {
       "layout": "IPY_MODEL_c4b0568fe9a64623a61fb2b89167af0b",
       "max": 60,
       "min": 6,
       "style": "IPY_MODEL_ca266e3087fc474480215dbdbe944a6a",
       "value": 16
      }
     },
     "79547c264b3d4dd4965f306b526c7e96": {
      "model_module": "@jupyter-widgets/controls",
      "model_module_version": "1.4.0",
      "model_name": "ButtonModel",
      "state": {
       "button_style": "danger",
       "description": "Remove",
       "layout": "IPY_MODEL_87bb82d9fc794f6eba6f2cd9c12c9c0d",
       "style": "IPY_MODEL_0a88efb3177c478bab58c9f26f8e2bdd"
      }
     },
     "796a5906f8b343fcbf558523c90f5a88": {
      "model_module": "@jupyter-widgets/controls",
      "model_module_version": "1.4.0",
      "model_name": "DescriptionStyleModel",
      "state": {
       "description_width": ""
      }
     },
     "79788f6973a34835be93a1805432c25e": {
      "model_module": "@jupyter-widgets/controls",
      "model_module_version": "1.4.0",
      "model_name": "HBoxModel",
      "state": {
       "children": [
        "IPY_MODEL_84ff9d7719d14991aec5d51704b95cbf",
        "IPY_MODEL_8514a1054bf0494c86b792179d12d761"
       ],
       "layout": "IPY_MODEL_be8658ef29864f9599c39d53a56c96eb"
      }
     },
     "797b3d3ee6474c2591c882b63576464e": {
      "model_module": "@jupyter-widgets/controls",
      "model_module_version": "1.4.0",
      "model_name": "ButtonModel",
      "state": {
       "button_style": "primary",
       "description": "Download",
       "layout": "IPY_MODEL_c7e0511aaa8d43128215db0fb699f492",
       "style": "IPY_MODEL_43b28efc24014d459572766ceafbc094"
      }
     },
     "79b3deea6c184e8f9de11f7f6536cade": {
      "model_module": "@jupyter-widgets/controls",
      "model_module_version": "1.4.0",
      "model_name": "LabelModel",
      "state": {
       "layout": "IPY_MODEL_86436065fe6642d1aeeb7570cc8eb168",
       "style": "IPY_MODEL_1812059e03d24e05b23470fa600cfce4",
       "value": "Color :"
      }
     },
     "79d4f651d3ce40eba11b213774dd3492": {
      "model_module": "@jupyter-widgets/base",
      "model_module_version": "1.1.0",
      "model_name": "LayoutModel",
      "state": {
       "justify_content": "center",
       "padding": "10px 0px 0px 0px"
      }
     },
     "7a232485e0cc47ceb3d1ca25136ba32d": {
      "model_module": "@jupyter-widgets/base",
      "model_module_version": "1.1.0",
      "model_name": "LayoutModel",
      "state": {
       "width": "auto"
      }
     },
     "7a37269e7b7f402381efb33d3b4824d1": {
      "model_module": "@jupyter-widgets/controls",
      "model_module_version": "1.4.0",
      "model_name": "ButtonModel",
      "state": {
       "button_style": "primary",
       "description": "Undo",
       "disabled": true,
       "layout": "IPY_MODEL_47d61d95bf2d4716a816004093e7b2af",
       "style": "IPY_MODEL_7178b59aedce413da0638b6b63efc81f"
      }
     },
     "7a47967381114f1392c01fe11ddf18b9": {
      "model_module": "@jupyter-widgets/controls",
      "model_module_version": "1.4.0",
      "model_name": "DescriptionStyleModel",
      "state": {
       "description_width": ""
      }
     },
     "7a5e6b7ed6ea4dbaa51122b55bacbd4f": {
      "model_module": "@jupyter-widgets/base",
      "model_module_version": "1.1.0",
      "model_name": "LayoutModel",
      "state": {}
     },
     "7a6aa2ab1811493cade92c82f7ab148d": {
      "model_module": "@jupyter-widgets/controls",
      "model_module_version": "1.4.0",
      "model_name": "DescriptionStyleModel",
      "state": {
       "description_width": ""
      }
     },
     "7afafb1361fa4202bcba15dbc9b81952": {
      "model_module": "@jupyter-widgets/controls",
      "model_module_version": "1.4.0",
      "model_name": "HTMLModel",
      "state": {
       "layout": "IPY_MODEL_f8f03ca058364f6484d48a7e65dd533d",
       "style": "IPY_MODEL_5e737f8a52e84b1ea11ef7207bd28261",
       "value": "<h5>Here you save your graph as a <a href='https://www.datacamp.com/community/tutorials/pandas-tutorial-dataframe-python'>Pandas DataFrame</a>.\nType the name of the <font color=\"blue\">Python variable</font> you want.</h5>"
      }
     },
     "7b489dcfb58240cbb1e79b073c5d97ab": {
      "model_module": "@jupyter-widgets/controls",
      "model_module_version": "1.4.0",
      "model_name": "TextModel",
      "state": {
       "description": "URL :",
       "layout": "IPY_MODEL_94439e9af3714220b928c3b78a6369e7",
       "style": "IPY_MODEL_f9c2ea03bacb47f0b47575f2da0d4668"
      }
     },
     "7bb5636277764b27a0ff70a12d51e577": {
      "model_module": "@jupyter-widgets/controls",
      "model_module_version": "1.4.0",
      "model_name": "DropdownModel",
      "state": {
       "_options_labels": [
        "center",
        "top",
        "bottom",
        "left",
        "right"
       ],
       "index": 0,
       "layout": "IPY_MODEL_95ac9d789e7640e0807f388b6e7f053f",
       "style": "IPY_MODEL_7d64e51e7391450fb9deb0bbba0ba3cd"
      }
     },
     "7c0c254d6fc148ec93129c9c521242d7": {
      "model_module": "@jupyter-widgets/base",
      "model_module_version": "1.1.0",
      "model_name": "LayoutModel",
      "state": {
       "width": "auto"
      }
     },
     "7c2d224467a845caa6ba1bdeb30b8a8c": {
      "model_module": "@jupyter-widgets/base",
      "model_module_version": "1.1.0",
      "model_name": "LayoutModel",
      "state": {
       "display": "none"
      }
     },
     "7c4fa61b33284092ab3a6f856d346d9c": {
      "model_module": "@jupyter-widgets/controls",
      "model_module_version": "1.4.0",
      "model_name": "IntSliderModel",
      "state": {
       "layout": "IPY_MODEL_49ad3cde541b432895ce8206599621ba",
       "max": 60,
       "min": 6,
       "style": "IPY_MODEL_4722d153209f4b89ba38e050c1230546",
       "value": 16
      }
     },
     "7ce453998b27401f80bf0d17a6c36755": {
      "model_module": "@jupyter-widgets/controls",
      "model_module_version": "1.4.0",
      "model_name": "LabelModel",
      "state": {
       "layout": "IPY_MODEL_975727a675d94a72b3484ccd8d40cd3b",
       "style": "IPY_MODEL_9a3b4965156d49af89861216531cd4b3",
       "value": "Style"
      }
     },
     "7ced368d4167487a9110465ed327f921": {
      "model_module": "@jupyter-widgets/base",
      "model_module_version": "1.1.0",
      "model_name": "LayoutModel",
      "state": {}
     },
     "7cf77b69208d4acab0fdcc91d3eed5b5": {
      "model_module": "@jupyter-widgets/controls",
      "model_module_version": "1.4.0",
      "model_name": "DropdownModel",
      "state": {
       "_options_labels": [
        "none",
        "triangle",
        "tee",
        "diamond",
        "square",
        "circle",
        "vee",
        "triangle-tee"
       ],
       "index": 0,
       "layout": "IPY_MODEL_2d2099c30a1b43269c813c4c4e446034",
       "style": "IPY_MODEL_186b7f97aec54cfe940b537d201bd8f0"
      }
     },
     "7d56652089404128987186b15af23f9d": {
      "model_module": "@jupyter-widgets/base",
      "model_module_version": "1.1.0",
      "model_name": "LayoutModel",
      "state": {}
     },
     "7d64e51e7391450fb9deb0bbba0ba3cd": {
      "model_module": "@jupyter-widgets/controls",
      "model_module_version": "1.4.0",
      "model_name": "DescriptionStyleModel",
      "state": {
       "description_width": ""
      }
     },
     "7d7f5d21971b412792f660eb671ac374": {
      "model_module": "@jupyter-widgets/base",
      "model_module_version": "1.1.0",
      "model_name": "LayoutModel",
      "state": {
       "padding": "10px 0px 0px 0px"
      }
     },
     "7d940fae411e41c7aa1b8eba1119c94a": {
      "model_module": "@jupyter-widgets/base",
      "model_module_version": "1.1.0",
      "model_name": "LayoutModel",
      "state": {}
     },
     "7d94e27a07ac4a9c9b2a716ddfd41264": {
      "model_module": "@jupyter-widgets/controls",
      "model_module_version": "1.4.0",
      "model_name": "DescriptionStyleModel",
      "state": {
       "description_width": ""
      }
     },
     "7dc3fe3de62a45ffbe4f4a4a98ea68cc": {
      "model_module": "@jupyter-widgets/controls",
      "model_module_version": "1.4.0",
      "model_name": "HTMLModel",
      "state": {
       "layout": "IPY_MODEL_d0a32bc8e79f43588b85de555a90b58b",
       "style": "IPY_MODEL_8cfe6ecc76964d34ae12401337cc7778",
       "value": "<h2 class='text-danger text-center'>Coming Soon! Wait for Update</h2>"
      }
     },
     "7dd3abaf26b34e9cb2d1d26eef9e551c": {
      "model_module": "@jupyter-widgets/controls",
      "model_module_version": "1.4.0",
      "model_name": "DescriptionStyleModel",
      "state": {
       "description_width": ""
      }
     },
     "7dd71b6d3f314d18b7bf531b04aecd4b": {
      "model_module": "@jupyter-widgets/controls",
      "model_module_version": "1.4.0",
      "model_name": "DescriptionStyleModel",
      "state": {
       "description_width": ""
      }
     },
     "7e1301d8238c4628b7fb62e7ccee7cf1": {
      "model_module": "@jupyter-widgets/base",
      "model_module_version": "1.1.0",
      "model_name": "LayoutModel",
      "state": {}
     },
     "7e51b844a1f04af8afbc70d5b507db51": {
      "model_module": "@jupyter-widgets/base",
      "model_module_version": "1.1.0",
      "model_name": "LayoutModel",
      "state": {
       "width": "auto"
      }
     },
     "7e7d44515f9d48ed9df14349be7ee591": {
      "model_module": "@jupyter-widgets/controls",
      "model_module_version": "1.4.0",
      "model_name": "DescriptionStyleModel",
      "state": {
       "description_width": ""
      }
     },
     "7eb27ce7333b49d5b76cd79a105f40fe": {
      "model_module": "@jupyter-widgets/base",
      "model_module_version": "1.1.0",
      "model_name": "LayoutModel",
      "state": {}
     },
     "7f987ee0573b4f4585faf77a3cfa0bd3": {
      "model_module": "@jupyter-widgets/controls",
      "model_module_version": "1.4.0",
      "model_name": "DescriptionStyleModel",
      "state": {
       "description_width": ""
      }
     },
     "7faa3d94b93a4717add7966846c069e1": {
      "model_module": "@jupyter-widgets/controls",
      "model_module_version": "1.4.0",
      "model_name": "ButtonStyleModel",
      "state": {}
     },
     "7fac0431868c45479d0a00329cfba94a": {
      "model_module": "@jupyter-widgets/base",
      "model_module_version": "1.1.0",
      "model_name": "LayoutModel",
      "state": {}
     },
     "7fd6c78da42e486c9b0057c7c8f53147": {
      "model_module": "@jupyter-widgets/controls",
      "model_module_version": "1.4.0",
      "model_name": "DescriptionStyleModel",
      "state": {
       "description_width": ""
      }
     },
     "7fdd4c62eab343b0aa5308bcfa474552": {
      "model_module": "@jupyter-widgets/controls",
      "model_module_version": "1.4.0",
      "model_name": "DescriptionStyleModel",
      "state": {
       "description_width": ""
      }
     },
     "809db3fcdfb34ffda5ec41df953d533d": {
      "model_module": "@jupyter-widgets/controls",
      "model_module_version": "1.4.0",
      "model_name": "HTMLModel",
      "state": {
       "layout": "IPY_MODEL_6a92e6013ee64c4d93a348dc4e939dbe",
       "style": "IPY_MODEL_833be3fddd874d478b162e89ce8055f6",
       "value": " <h3 class='text-center text-success' style='margin:0'> Saved!</h3>"
      }
     },
     "80e9ddf7ef2641c8874b0e6864d24da7": {
      "model_module": "@jupyter-widgets/controls",
      "model_module_version": "1.4.0",
      "model_name": "HTMLModel",
      "state": {
       "layout": "IPY_MODEL_5c953e47e33a4e2fa265925a0f704da2",
       "style": "IPY_MODEL_65a88c234bfd400c907505217c58e918",
       "value": "<font size=3 style='justify-content: center;'>AverageShortestPathLength : </font>"
      }
     },
     "80eec1016062414fa1630aeed21d2a6f": {
      "model_module": "@jupyter-widgets/base",
      "model_module_version": "1.1.0",
      "model_name": "LayoutModel",
      "state": {
       "visibility": "hidden"
      }
     },
     "815f7a4baa1e477c9cef0fa93a08f811": {
      "model_module": "@jupyter-widgets/controls",
      "model_module_version": "1.4.0",
      "model_name": "ButtonStyleModel",
      "state": {}
     },
     "816a327266294ec29a0fdf8a1d03841e": {
      "model_module": "@jupyter-widgets/controls",
      "model_module_version": "1.4.0",
      "model_name": "DescriptionStyleModel",
      "state": {
       "description_width": ""
      }
     },
     "81849d08a3c04b8fa256259a4c763a76": {
      "model_module": "@jupyter-widgets/controls",
      "model_module_version": "1.4.0",
      "model_name": "DescriptionStyleModel",
      "state": {
       "description_width": ""
      }
     },
     "81b71787eb144f37ad26036f478b7a56": {
      "model_module": "@jupyter-widgets/controls",
      "model_module_version": "1.4.0",
      "model_name": "DescriptionStyleModel",
      "state": {
       "description_width": ""
      }
     },
     "81de3363f8064eaa929c9b07996c20e8": {
      "model_module": "@jupyter-widgets/base",
      "model_module_version": "1.1.0",
      "model_name": "LayoutModel",
      "state": {}
     },
     "81e0f177697940f189e8f9d79f37e901": {
      "model_module": "@jupyter-widgets/base",
      "model_module_version": "1.1.0",
      "model_name": "LayoutModel",
      "state": {}
     },
     "81ec5973effa4271b50024d8ceb3cd71": {
      "model_module": "@jupyter-widgets/controls",
      "model_module_version": "1.4.0",
      "model_name": "HTMLModel",
      "state": {
       "layout": "IPY_MODEL_a626698000e04f2285b6619752cd1dad",
       "style": "IPY_MODEL_56b9aed0fc6646e1b5513a1c0f4941cd",
       "value": "<h4 style='color: DarkKhaki'>Nodes</h4>"
      }
     },
     "8284dc8ad87a45ef92a263bf48fa8440": {
      "model_module": "@jupyter-widgets/base",
      "model_module_version": "1.1.0",
      "model_name": "LayoutModel",
      "state": {
       "margin": "2px 25px 2px 0px",
       "width": "auto"
      }
     },
     "82a5e94b103e461aa97a23da4136eb17": {
      "model_module": "@jupyter-widgets/base",
      "model_module_version": "1.1.0",
      "model_name": "LayoutModel",
      "state": {}
     },
     "833be3fddd874d478b162e89ce8055f6": {
      "model_module": "@jupyter-widgets/controls",
      "model_module_version": "1.4.0",
      "model_name": "DescriptionStyleModel",
      "state": {
       "description_width": ""
      }
     },
     "84281ee1862c479ab0ea6681d8def42e": {
      "model_module": "@jupyter-widgets/controls",
      "model_module_version": "1.4.0",
      "model_name": "FloatTextModel",
      "state": {
       "continuous_update": true,
       "layout": "IPY_MODEL_ba8aab559d11409099b5ebee4058f09a",
       "step": null,
       "style": "IPY_MODEL_c2dd0ae1efc94356a833234946446680"
      }
     },
     "847bfe0f8a154e4b9e0eb579f630796c": {
      "model_module": "@jupyter-widgets/controls",
      "model_module_version": "1.4.0",
      "model_name": "DescriptionStyleModel",
      "state": {
       "description_width": ""
      }
     },
     "84ac41d7b6614601a3a627ce46bcfa0d": {
      "model_module": "@jupyter-widgets/controls",
      "model_module_version": "1.4.0",
      "model_name": "ButtonModel",
      "state": {
       "button_style": "success",
       "icon": "image",
       "layout": "IPY_MODEL_ac6bfb63a9d5429287ab6a86ac28c9e9",
       "style": "IPY_MODEL_b463e1486a8845c6a76505e1ce22a928"
      }
     },
     "84ae1588241a4990bedd9d175fa68429": {
      "model_module": "@jupyter-widgets/base",
      "model_module_version": "1.1.0",
      "model_name": "LayoutModel",
      "state": {}
     },
     "84ff9d7719d14991aec5d51704b95cbf": {
      "model_module": "@jupyter-widgets/controls",
      "model_module_version": "1.4.0",
      "model_name": "LabelModel",
      "state": {
       "layout": "IPY_MODEL_e7725c1807754e23b468000aade83a57",
       "style": "IPY_MODEL_05f8e16f87754ecf9c49654d20387e88",
       "value": "Text :"
      }
     },
     "8514a1054bf0494c86b792179d12d761": {
      "model_module": "@jupyter-widgets/controls",
      "model_module_version": "1.4.0",
      "model_name": "TextModel",
      "state": {
       "layout": "IPY_MODEL_2ad6dfc464bb4f2b942a3339ccd32a1e",
       "style": "IPY_MODEL_0784a004742f46f380bed23ddb01e8db"
      }
     },
     "85ef1505a5bf48c6a7ff25355dedea10": {
      "model_module": "@jupyter-widgets/controls",
      "model_module_version": "1.4.0",
      "model_name": "HTMLModel",
      "state": {
       "layout": "IPY_MODEL_a67567bb6acf48b99a61f04f4523482f",
       "style": "IPY_MODEL_ea079ad8f4ff4b82993c037afc9b05f8",
       "value": "<h2 class='text-danger text-center'>Coming Soon! Wait for Update</h2>"
      }
     },
     "86110a616c9849bd85c8db62b2c3d41b": {
      "model_module": "@jupyter-widgets/controls",
      "model_module_version": "1.4.0",
      "model_name": "HTMLModel",
      "state": {
       "layout": "IPY_MODEL_255332a5d34342538da95f21dc2d65a1",
       "style": "IPY_MODEL_48d787b763db4b8b975ea66a1495c443",
       "value": "<font size=3 style='justify-content: center;'>EdgeBetweenness : </font>"
      }
     },
     "86436065fe6642d1aeeb7570cc8eb168": {
      "model_module": "@jupyter-widgets/base",
      "model_module_version": "1.1.0",
      "model_name": "LayoutModel",
      "state": {}
     },
     "87255e7eb63f42e880d532330d56f1b4": {
      "model_module": "@jupyter-widgets/controls",
      "model_module_version": "1.4.0",
      "model_name": "DescriptionStyleModel",
      "state": {
       "description_width": ""
      }
     },
     "87411576e3104b60bf3b5bbf016338bb": {
      "model_module": "@jupyter-widgets/controls",
      "model_module_version": "1.4.0",
      "model_name": "TextModel",
      "state": {
       "layout": "IPY_MODEL_da1cd149259d4bf6885a5e10c665cbb2",
       "style": "IPY_MODEL_197c2e0c159f4905b4f0b44fba410b7a"
      }
     },
     "87bb82d9fc794f6eba6f2cd9c12c9c0d": {
      "model_module": "@jupyter-widgets/base",
      "model_module_version": "1.1.0",
      "model_name": "LayoutModel",
      "state": {
       "width": "auto"
      }
     },
     "87f0dcb4d463480ebc32addb0ebf624c": {
      "model_module": "@jupyter-widgets/controls",
      "model_module_version": "1.4.0",
      "model_name": "DescriptionStyleModel",
      "state": {
       "description_width": ""
      }
     },
     "884fc6b024124175ad43fc54b60175a2": {
      "model_module": "@jupyter-widgets/controls",
      "model_module_version": "1.4.0",
      "model_name": "HBoxModel",
      "state": {
       "children": [
        "IPY_MODEL_1098dc7703fe413ab36e5d8c93d92c6e",
        "IPY_MODEL_2daf4cfb6b80469ab6ec7424fac27fe5"
       ],
       "layout": "IPY_MODEL_fe2f552a8d314ff291f105a068515253"
      }
     },
     "8853f882f0994a55af6859460aaa0a9d": {
      "model_module": "@jupyter-widgets/controls",
      "model_module_version": "1.4.0",
      "model_name": "HTMLModel",
      "state": {
       "layout": "IPY_MODEL_5744b969f7f64598b8af2b89e176f1df",
       "style": "IPY_MODEL_36dd891b48c5414f9e022f44e3501505",
       "value": "<h4 style='color: purple' >Edges</h4>"
      }
     },
     "886d503c3c9c4cb197ecc29f5ff0f170": {
      "model_module": "@jupyter-widgets/base",
      "model_module_version": "1.1.0",
      "model_name": "LayoutModel",
      "state": {
       "padding": "10px 0px 0px 0px"
      }
     },
     "89932788890c4ecf88d8401f4ad6f7e1": {
      "model_module": "@jupyter-widgets/base",
      "model_module_version": "1.1.0",
      "model_name": "LayoutModel",
      "state": {}
     },
     "899c1f544e9b4d8d95a66af006bc4ff3": {
      "model_module": "@jupyter-widgets/base",
      "model_module_version": "1.1.0",
      "model_name": "LayoutModel",
      "state": {}
     },
     "89b196e4fa5347169f8a4840a300a778": {
      "model_module": "@jupyter-widgets/controls",
      "model_module_version": "1.4.0",
      "model_name": "LabelModel",
      "state": {
       "layout": "IPY_MODEL_9035f6f1de914d5eb589eb4f7bc42e5e",
       "style": "IPY_MODEL_6f02b85d8a1d4e08946d8a3d40883155",
       "value": "Start"
      }
     },
     "8a62cdac247d4d5697e82128d3ea789b": {
      "model_module": "@jupyter-widgets/controls",
      "model_module_version": "1.4.0",
      "model_name": "ButtonModel",
      "state": {
       "button_style": "danger",
       "description": "Delete",
       "layout": "IPY_MODEL_0350ecbf7a9645d791a1c85ef6e213c9",
       "style": "IPY_MODEL_d55e9526a669475ab164d869a2f65c33"
      }
     },
     "8a687ac97fcf45098e84e4925524b98b": {
      "model_module": "@jupyter-widgets/controls",
      "model_module_version": "1.4.0",
      "model_name": "HTMLModel",
      "state": {
       "layout": "IPY_MODEL_6a51c8fb1859485c95f12aff1bd4bd3d",
       "style": "IPY_MODEL_6e977684dccb408da4c38a92174777df",
       "value": "<p>&nbsp&nbsp&nbsp&nbsp&nbsp</p>"
      }
     },
     "8b99a18608aa4d8fa7d3327c57ff4d03": {
      "model_module": "@jupyter-widgets/controls",
      "model_module_version": "1.4.0",
      "model_name": "DescriptionStyleModel",
      "state": {
       "description_width": ""
      }
     },
     "8c5a9bf985b24e368eb0add5f5ed6795": {
      "model_module": "@jupyter-widgets/base",
      "model_module_version": "1.1.0",
      "model_name": "LayoutModel",
      "state": {
       "padding": "10px 0px 0px 0px"
      }
     },
     "8c6bed9e3661430abd7f6ed9f2e4a4e7": {
      "model_module": "@jupyter-widgets/controls",
      "model_module_version": "1.4.0",
      "model_name": "TextModel",
      "state": {
       "layout": "IPY_MODEL_ed90a6fee00443158b04be1cef9d9346",
       "style": "IPY_MODEL_262e92dcd53c4d3da7818bf318fae76d"
      }
     },
     "8caba61f29bb4e24b7a5cc095d23ae72": {
      "model_module": "@jupyter-widgets/controls",
      "model_module_version": "1.4.0",
      "model_name": "DescriptionStyleModel",
      "state": {
       "description_width": ""
      }
     },
     "8cc2e053c1b2458d886e6ce73187fcc2": {
      "model_module": "@jupyter-widgets/controls",
      "model_module_version": "1.4.0",
      "model_name": "DescriptionStyleModel",
      "state": {
       "description_width": ""
      }
     },
     "8cc9db1a697a47a487911987b47c8089": {
      "model_module": "@jupyter-widgets/base",
      "model_module_version": "1.1.0",
      "model_name": "LayoutModel",
      "state": {
       "padding": "0 15px 0 35px"
      }
     },
     "8cca0b3551d74dc48287428ef3040606": {
      "model_module": "@jupyter-widgets/controls",
      "model_module_version": "1.4.0",
      "model_name": "DescriptionStyleModel",
      "state": {
       "description_width": ""
      }
     },
     "8cfe6ecc76964d34ae12401337cc7778": {
      "model_module": "@jupyter-widgets/controls",
      "model_module_version": "1.4.0",
      "model_name": "DescriptionStyleModel",
      "state": {
       "description_width": ""
      }
     },
     "8d7755a09cd54645b479fa9cd5ad3041": {
      "model_module": "@jupyter-widgets/controls",
      "model_module_version": "1.4.0",
      "model_name": "HTMLModel",
      "state": {
       "layout": "IPY_MODEL_7eb27ce7333b49d5b76cd79a105f40fe",
       "style": "IPY_MODEL_19cf2bb6fdac4c29a4e7ccf9f48bbdcc",
       "value": "<font size=3 style='justify-content: center;'>ClosenessCentrality : </font>"
      }
     },
     "8f06ddb40fba4123b6b56ba186aea182": {
      "model_module": "@jupyter-widgets/controls",
      "model_module_version": "1.4.0",
      "model_name": "DescriptionStyleModel",
      "state": {
       "description_width": ""
      }
     },
     "8f49ce598faa4285aa205a630e2b08c8": {
      "model_module": "@jupyter-widgets/base",
      "model_module_version": "1.1.0",
      "model_name": "LayoutModel",
      "state": {}
     },
     "901674afdcc34a9b932b9f3f161a85ec": {
      "model_module": "@jupyter-widgets/controls",
      "model_module_version": "1.4.0",
      "model_name": "ButtonModel",
      "state": {
       "button_style": "primary",
       "description": "Create",
       "layout": "IPY_MODEL_ade715f8dade4228868afa3ca0d46a25",
       "style": "IPY_MODEL_fd46447a88ac4a439661d84915ef41d3"
      }
     },
     "9033acee975b4a67a0feff71d1fc68e0": {
      "model_module": "@jupyter-widgets/controls",
      "model_module_version": "1.4.0",
      "model_name": "ButtonStyleModel",
      "state": {}
     },
     "9035f6f1de914d5eb589eb4f7bc42e5e": {
      "model_module": "@jupyter-widgets/base",
      "model_module_version": "1.1.0",
      "model_name": "LayoutModel",
      "state": {
       "min_width": "30px"
      }
     },
     "907fc6436ecb441aa5b9e5e9655b5c97": {
      "model_module": "@jupyter-widgets/base",
      "model_module_version": "1.1.0",
      "model_name": "LayoutModel",
      "state": {}
     },
     "90a4846e888d4fb08c714b40a12978d4": {
      "model_module": "@jupyter-widgets/base",
      "model_module_version": "1.1.0",
      "model_name": "LayoutModel",
      "state": {}
     },
     "912a67c386a94a6aae05b93db3b78629": {
      "model_module": "@jupyter-widgets/controls",
      "model_module_version": "1.4.0",
      "model_name": "HBoxModel",
      "state": {
       "children": [
        "IPY_MODEL_797b3d3ee6474c2591c882b63576464e"
       ],
       "layout": "IPY_MODEL_fafb479644e44fc89844abf0ed1d4b91"
      }
     },
     "91c2baf711284e87bf5a503f45140f00": {
      "model_module": "@jupyter-widgets/base",
      "model_module_version": "1.1.0",
      "model_name": "LayoutModel",
      "state": {
       "justify_content": "center",
       "margin": "0 0 15px 0"
      }
     },
     "91d6d39af6424cb4a150ad68b7bd3dd3": {
      "model_module": "@jupyter-widgets/base",
      "model_module_version": "1.1.0",
      "model_name": "LayoutModel",
      "state": {}
     },
     "920059f2715c434ba40ec6ad18f26986": {
      "model_module": "@jupyter-widgets/controls",
      "model_module_version": "1.4.0",
      "model_name": "DescriptionStyleModel",
      "state": {
       "description_width": ""
      }
     },
     "922cabaf061648b88cf9fe02d9a96ecb": {
      "model_module": "@jupyter-widgets/controls",
      "model_module_version": "1.4.0",
      "model_name": "VBoxModel",
      "state": {
       "children": [
        "IPY_MODEL_d59965d19c7047b9860a3346030fd82e",
        "IPY_MODEL_6d9d1927c10b47939eccbf2712ea924a",
        "IPY_MODEL_0438b4182a654bc0a4799c6e4752adae"
       ],
       "layout": "IPY_MODEL_cd53d3fb0d224cd196036944e8978356"
      }
     },
     "9257c7f2c46c4729afafe7744b4964b2": {
      "model_module": "@jupyter-widgets/base",
      "model_module_version": "1.1.0",
      "model_name": "LayoutModel",
      "state": {
       "width": "auto"
      }
     },
     "931bc09fdead4a10ba219536180bdb48": {
      "model_module": "@jupyter-widgets/controls",
      "model_module_version": "1.4.0",
      "model_name": "ButtonModel",
      "state": {
       "button_style": "primary",
       "description": "Download",
       "layout": "IPY_MODEL_e0876d23e83f4750943d251a89eb4374",
       "style": "IPY_MODEL_f6b681d6d2364e38a29170bf38c2ba3a"
      }
     },
     "94439e9af3714220b928c3b78a6369e7": {
      "model_module": "@jupyter-widgets/base",
      "model_module_version": "1.1.0",
      "model_name": "LayoutModel",
      "state": {}
     },
     "9483126cdb7940adb0e09e69039b2757": {
      "model_module": "@jupyter-widgets/controls",
      "model_module_version": "1.4.0",
      "model_name": "SelectModel",
      "state": {
       "_options_labels": [
        "Number",
        "Text"
       ],
       "index": 1,
       "layout": "IPY_MODEL_cc56aac958884f3cbabddc4fd2be2bd0",
       "style": "IPY_MODEL_1ec1f64399ce4b27abff3aa5441c942c"
      }
     },
     "9495190423f443deaa48208c741287b9": {
      "model_module": "@jupyter-widgets/controls",
      "model_module_version": "1.4.0",
      "model_name": "DescriptionStyleModel",
      "state": {
       "description_width": ""
      }
     },
     "94d0ca47b62747a49bc4643052bbe7d0": {
      "model_module": "@jupyter-widgets/controls",
      "model_module_version": "1.4.0",
      "model_name": "HBoxModel",
      "state": {
       "children": [
        "IPY_MODEL_b2dd7a1558884a258c3a5b25dc49725e",
        "IPY_MODEL_c51d12d5f8a14f87ab16c592ff903f7e"
       ],
       "layout": "IPY_MODEL_4623e300e8934e51bf6e087d5b3ea148"
      }
     },
     "952efdc1723a4225a14ff77738493c5a": {
      "model_module": "@jupyter-widgets/base",
      "model_module_version": "1.1.0",
      "model_name": "LayoutModel",
      "state": {
       "justify_content": "center",
       "margin": "0 0 15px 0"
      }
     },
     "953b5e7aefc44a448ed9b364e2c01132": {
      "model_module": "@jupyter-widgets/base",
      "model_module_version": "1.1.0",
      "model_name": "LayoutModel",
      "state": {}
     },
     "954a164ce28f49378729e7d88e43222d": {
      "model_module": "@jupyter-widgets/controls",
      "model_module_version": "1.4.0",
      "model_name": "ButtonStyleModel",
      "state": {}
     },
     "954a7a92dfa947e0b9a4b6b2790c6452": {
      "model_module": "@jupyter-widgets/controls",
      "model_module_version": "1.4.0",
      "model_name": "PasswordModel",
      "state": {
       "description": "Password :",
       "layout": "IPY_MODEL_1b0a81e9fe434ec09e7469d5e77c1458",
       "style": "IPY_MODEL_a373d61b30af48bf842ed3365cb4fb6b"
      }
     },
     "95785585862a4a5799ab46155dcc037b": {
      "model_module": "@jupyter-widgets/base",
      "model_module_version": "1.1.0",
      "model_name": "LayoutModel",
      "state": {
       "padding": "0 15px 0 35px"
      }
     },
     "95ac9d789e7640e0807f388b6e7f053f": {
      "model_module": "@jupyter-widgets/base",
      "model_module_version": "1.1.0",
      "model_name": "LayoutModel",
      "state": {}
     },
     "95d7d5fc98df40e089ab33304ac0de76": {
      "model_module": "@jupyter-widgets/controls",
      "model_module_version": "1.4.0",
      "model_name": "DescriptionStyleModel",
      "state": {
       "description_width": ""
      }
     },
     "95ff0010a4bc4aa08c5bb4ac71b38a45": {
      "model_module": "@jupyter-widgets/base",
      "model_module_version": "1.1.0",
      "model_name": "LayoutModel",
      "state": {
       "width": "auto"
      }
     },
     "9611c62d304f426687c2f3b6318c9765": {
      "model_module": "@jupyter-widgets/controls",
      "model_module_version": "1.4.0",
      "model_name": "DescriptionStyleModel",
      "state": {
       "description_width": ""
      }
     },
     "970910a454284e80a1fe015a3bddf135": {
      "model_module": "@jupyter-widgets/controls",
      "model_module_version": "1.4.0",
      "model_name": "VBoxModel",
      "state": {
       "children": [
        "IPY_MODEL_5571b04825904bf2ae0ed77d182609c6",
        "IPY_MODEL_104dda16b57d4307b8d05236599647a4",
        "IPY_MODEL_49fb429c0d3f41a2a1de541bcc406de6",
        "IPY_MODEL_d7186bc1badf419ea6c20bd40f110349",
        "IPY_MODEL_2b33684b72a14a44802d0ec3a8039298",
        "IPY_MODEL_bfd13b7280354da48f6717eede1725fa",
        "IPY_MODEL_d11fb7994df342339e7e55f32b4e4a7c",
        "IPY_MODEL_195f358f2e0a4d1a9e2bb9339d7f3106",
        "IPY_MODEL_ce3743fb882843dfb17b6022ad8aebcc",
        "IPY_MODEL_790e791406ed4944b596f0271a458d96",
        "IPY_MODEL_3cbe80400a0843258daa732cf2e070ac"
       ],
       "layout": "IPY_MODEL_c9fefa61748b416d9bd5929dd301a8d5"
      }
     },
     "971e85dbb08d45509289cefcf1e47de0": {
      "model_module": "@jupyter-widgets/controls",
      "model_module_version": "1.4.0",
      "model_name": "HBoxModel",
      "state": {
       "children": [
        "IPY_MODEL_4a239510574e40329efe296df467fd04",
        "IPY_MODEL_eb76cb041e8a4b22b239033f8c19496e",
        "IPY_MODEL_b4b4c863a6564cd7b34081f14f47dffb",
        "IPY_MODEL_9ca412e7d98b4c9687177001619749bd"
       ],
       "layout": "IPY_MODEL_a12e4a4e1f1d47ae962499136295c1a7"
      }
     },
     "9722468851f14c2798e9dbfa1bb0d760": {
      "model_module": "@jupyter-widgets/controls",
      "model_module_version": "1.4.0",
      "model_name": "SliderStyleModel",
      "state": {
       "description_width": ""
      }
     },
     "9738ef3549ca493589287cc04a6f095e": {
      "model_module": "@jupyter-widgets/controls",
      "model_module_version": "1.4.0",
      "model_name": "ButtonModel",
      "state": {
       "button_style": "success",
       "icon": "image",
       "layout": "IPY_MODEL_031ae35c6d8a4742a3037cba6a40eb50",
       "style": "IPY_MODEL_9033acee975b4a67a0feff71d1fc68e0"
      }
     },
     "975727a675d94a72b3484ccd8d40cd3b": {
      "model_module": "@jupyter-widgets/base",
      "model_module_version": "1.1.0",
      "model_name": "LayoutModel",
      "state": {
       "min_width": "30px"
      }
     },
     "97c2718e9f5743e0b449ce36ed140c0f": {
      "model_module": "@jupyter-widgets/controls",
      "model_module_version": "1.4.0",
      "model_name": "HTMLModel",
      "state": {
       "layout": "IPY_MODEL_292beef39b384aea8a1c4abd8dd43f4d",
       "style": "IPY_MODEL_57dd11bb2aac4c6aa0997d7a56d2b6de",
       "value": "<h5>Here you can load a <a href='https://www.datacamp.com/community/tutorials/pandas-tutorial-dataframe-python'>Pandas DataFrame</a>\n by typing the name of a <font color=\"blue\">Python Variable</font> .</h5>"
      }
     },
     "97eeabe0880d47c69a760d641d101947": {
      "model_module": "@jupyter-widgets/controls",
      "model_module_version": "1.4.0",
      "model_name": "HBoxModel",
      "state": {
       "children": [
        "IPY_MODEL_d6c3c565a80e40859b7372d974713169",
        "IPY_MODEL_9483126cdb7940adb0e09e69039b2757",
        "IPY_MODEL_d752d0d5ef694822842f2098ff9d3cb8",
        "IPY_MODEL_07f71bdd0abc412688554a220057ae3c"
       ],
       "layout": "IPY_MODEL_e1e9e60e02204ba38d9fbcf6e72acc47"
      }
     },
     "984484fc5cef47268540b9b82eb5d023": {
      "model_module": "@jupyter-widgets/base",
      "model_module_version": "1.1.0",
      "model_name": "LayoutModel",
      "state": {}
     },
     "9854a07e49754a4cadd7594481946f94": {
      "model_module": "@jupyter-widgets/controls",
      "model_module_version": "1.4.0",
      "model_name": "DescriptionStyleModel",
      "state": {
       "description_width": ""
      }
     },
     "986a935303ac462cb4ea4226e6253233": {
      "model_module": "@jupyter-widgets/controls",
      "model_module_version": "1.4.0",
      "model_name": "SliderStyleModel",
      "state": {
       "description_width": ""
      }
     },
     "9889c95401e24d08a8f5e7306cf450f4": {
      "model_module": "@jupyter-widgets/base",
      "model_module_version": "1.1.0",
      "model_name": "LayoutModel",
      "state": {}
     },
     "98cedbe3fd5e423eab3c8c8574d96746": {
      "model_module": "@jupyter-widgets/controls",
      "model_module_version": "1.4.0",
      "model_name": "DescriptionStyleModel",
      "state": {
       "description_width": ""
      }
     },
     "98d95ba398004a22b88e6f875aeeb625": {
      "model_module": "@jupyter-widgets/controls",
      "model_module_version": "1.4.0",
      "model_name": "HBoxModel",
      "state": {
       "children": [
        "IPY_MODEL_a6b63bc35b72430f9ae3b77d4d548133",
        "IPY_MODEL_61604368c512483f8cd1394d2482e629"
       ],
       "layout": "IPY_MODEL_1ed65ef3579940928000c9fead26f495"
      }
     },
     "991e07fd06674e8596488162e4803ae8": {
      "model_module": "@jupyter-widgets/base",
      "model_module_version": "1.1.0",
      "model_name": "LayoutModel",
      "state": {}
     },
     "994440dd777b4ac080b6d6d894f744bc": {
      "model_module": "@jupyter-widgets/controls",
      "model_module_version": "1.4.0",
      "model_name": "ToggleButtonsStyleModel",
      "state": {
       "button_width": "",
       "description_width": ""
      }
     },
     "996a95e7206a4f81952030af25306fb3": {
      "model_module": "@jupyter-widgets/controls",
      "model_module_version": "1.4.0",
      "model_name": "HBoxModel",
      "state": {
       "children": [
        "IPY_MODEL_dcd006a47b294b788ea44551e818d6d7",
        "IPY_MODEL_1d61a1a491ae48c9a89bc509aa75cd2f"
       ],
       "layout": "IPY_MODEL_2929bef3074d4985b5b72da74f86b42b"
      }
     },
     "99aeb14054bf4c34874125fea609ba20": {
      "model_module": "@jupyter-widgets/controls",
      "model_module_version": "1.4.0",
      "model_name": "ButtonStyleModel",
      "state": {}
     },
     "99c5c8b93033406aa4085262a1052463": {
      "model_module": "@jupyter-widgets/base",
      "model_module_version": "1.1.0",
      "model_name": "LayoutModel",
      "state": {}
     },
     "99ce665504034d0eac6c4491ef732f57": {
      "model_module": "@jupyter-widgets/controls",
      "model_module_version": "1.4.0",
      "model_name": "HTMLModel",
      "state": {
       "layout": "IPY_MODEL_38d2ab2a56bc4482a06c89e8fbe4f604",
       "style": "IPY_MODEL_5b0b23aef8ea4342bf33a209fcce8f43",
       "value": "<h5>Title  &nbsp</h5> "
      }
     },
     "9a13e3db095d47c68107ec18e6f6c012": {
      "model_module": "@jupyter-widgets/controls",
      "model_module_version": "1.4.0",
      "model_name": "HTMLModel",
      "state": {
       "layout": "IPY_MODEL_bde7180e6dc144eebde9c0b38dc62642",
       "style": "IPY_MODEL_c7897b750621440d8a4ab02fa9e0568b",
       "value": "<hr style='padding: 2px; margin: 2px'>"
      }
     },
     "9a3b4965156d49af89861216531cd4b3": {
      "model_module": "@jupyter-widgets/controls",
      "model_module_version": "1.4.0",
      "model_name": "DescriptionStyleModel",
      "state": {
       "description_width": ""
      }
     },
     "9a8bf4baf8c74ec3a0d4ca8111ef6b29": {
      "model_module": "@jupyter-widgets/base",
      "model_module_version": "1.1.0",
      "model_name": "LayoutModel",
      "state": {
       "padding": "0 15px 0 35px"
      }
     },
     "9a9d09cffe114fe88aed3139b3e38a24": {
      "model_module": "@jupyter-widgets/base",
      "model_module_version": "1.1.0",
      "model_name": "LayoutModel",
      "state": {}
     },
     "9aa29e3ce9f84c8f91846eba59772f60": {
      "model_module": "@jupyter-widgets/controls",
      "model_module_version": "1.4.0",
      "model_name": "DescriptionStyleModel",
      "state": {
       "description_width": ""
      }
     },
     "9ab20ce281f34691bf32cd504f5fd39e": {
      "model_module": "@jupyter-widgets/controls",
      "model_module_version": "1.4.0",
      "model_name": "DescriptionStyleModel",
      "state": {
       "description_width": ""
      }
     },
     "9b0f9fcf4b29485aa3224705a9e52430": {
      "model_module": "@jupyter-widgets/controls",
      "model_module_version": "1.4.0",
      "model_name": "ToggleButtonsModel",
      "state": {
       "_options_labels": [
        "Python",
        "HTML"
       ],
       "button_style": "danger",
       "icons": [],
       "index": 0,
       "layout": "IPY_MODEL_e0cc3715abf94037b8da42f6937bcbe3",
       "style": "IPY_MODEL_9c13d0deadc445e99a16ce07b4f36b3d",
       "tooltips": []
      }
     },
     "9b3f192716654834817cb162e269d102": {
      "model_module": "@jupyter-widgets/controls",
      "model_module_version": "1.4.0",
      "model_name": "VBoxModel",
      "state": {
       "children": [
        "IPY_MODEL_36c9c48750aa4cb98d09b9f5723fd336",
        "IPY_MODEL_98d95ba398004a22b88e6f875aeeb625",
        "IPY_MODEL_b47c00e30d5542378af0b00109152420",
        "IPY_MODEL_ab09ee69f5ff4680a7ed215a79e96244"
       ],
       "layout": "IPY_MODEL_c91b993ecfca4b8ba75ef59d74baa9d1"
      }
     },
     "9b6925259f79400faacc328ba380268f": {
      "model_module": "@jupyter-widgets/controls",
      "model_module_version": "1.4.0",
      "model_name": "ButtonModel",
      "state": {
       "button_style": "danger",
       "description": "Remove",
       "layout": "IPY_MODEL_7e51b844a1f04af8afbc70d5b507db51",
       "style": "IPY_MODEL_b344edd1f1cb4da38e9819e955dec239"
      }
     },
     "9bd4682070cf420eb780ab036e58c159": {
      "model_module": "@jupyter-widgets/controls",
      "model_module_version": "1.4.0",
      "model_name": "HTMLModel",
      "state": {
       "layout": "IPY_MODEL_91d6d39af6424cb4a150ad68b7bd3dd3",
       "style": "IPY_MODEL_8caba61f29bb4e24b7a5cc095d23ae72",
       "value": "<h4 style='color: purple' >Edges</h4>"
      }
     },
     "9c13d0deadc445e99a16ce07b4f36b3d": {
      "model_module": "@jupyter-widgets/controls",
      "model_module_version": "1.4.0",
      "model_name": "ToggleButtonsStyleModel",
      "state": {
       "button_width": "",
       "description_width": ""
      }
     },
     "9c273fa003ca405fa7cb8eee0fabf531": {
      "model_module": "@jupyter-widgets/controls",
      "model_module_version": "1.4.0",
      "model_name": "DescriptionStyleModel",
      "state": {
       "description_width": ""
      }
     },
     "9c2856e4a6d4440a949572e79394f6b0": {
      "model_module": "@jupyter-widgets/base",
      "model_module_version": "1.1.0",
      "model_name": "LayoutModel",
      "state": {
       "width": "auto"
      }
     },
     "9ca412e7d98b4c9687177001619749bd": {
      "model_module": "@jupyter-widgets/controls",
      "model_module_version": "1.4.0",
      "model_name": "HTMLModel",
      "state": {
       "layout": "IPY_MODEL_68daf1a12fd144049755acef0ec5bec2",
       "style": "IPY_MODEL_44bf35436ddb43d5abe3538915f7b67d",
       "value": " <h3 class='text-center text-success' style='margin:0'> Saved!</h3>"
      }
     },
     "9cd8575db38a4e53a1b5d3aaa4c94a30": {
      "model_module": "@jupyter-widgets/controls",
      "model_module_version": "1.4.0",
      "model_name": "DescriptionStyleModel",
      "state": {
       "description_width": ""
      }
     },
     "9d07eb3fc96b4d15ac1413390de6b64d": {
      "model_module": "@jupyter-widgets/controls",
      "model_module_version": "1.4.0",
      "model_name": "ButtonModel",
      "state": {
       "button_style": "info",
       "icon": "refresh",
       "layout": "IPY_MODEL_8284dc8ad87a45ef92a263bf48fa8440",
       "style": "IPY_MODEL_38b9f0b29e514970a2a80c5f6689b745"
      }
     },
     "9d413636a8954febb65cbc989883450a": {
      "model_module": "@jupyter-widgets/controls",
      "model_module_version": "1.4.0",
      "model_name": "DescriptionStyleModel",
      "state": {
       "description_width": ""
      }
     },
     "9d6b7ffb64ce453f83f70c763dd09c78": {
      "model_module": "@jupyter-widgets/controls",
      "model_module_version": "1.4.0",
      "model_name": "TextModel",
      "state": {
       "layout": "IPY_MODEL_363a68357247483f8a8fddab25aa4a46",
       "style": "IPY_MODEL_e293540df66f4c0d8cec9187d5433df4"
      }
     },
     "9e042168f4424862b677d986cd486f07": {
      "model_module": "@jupyter-widgets/base",
      "model_module_version": "1.1.0",
      "model_name": "LayoutModel",
      "state": {}
     },
     "9e37cd90f8d444d7a195b8204ba3e71d": {
      "model_module": "@jupyter-widgets/base",
      "model_module_version": "1.1.0",
      "model_name": "LayoutModel",
      "state": {}
     },
     "9e5bf3851e314779bd094c9647937683": {
      "model_module": "@jupyter-widgets/base",
      "model_module_version": "1.1.0",
      "model_name": "LayoutModel",
      "state": {
       "display": "none"
      }
     },
     "9e6223ef8b9a4aa58e8e9590ff38df1f": {
      "model_module": "@jupyter-widgets/controls",
      "model_module_version": "1.4.0",
      "model_name": "HTMLModel",
      "state": {
       "layout": "IPY_MODEL_d045f6f56ea94461a83d2f518306c20a",
       "style": "IPY_MODEL_6009392b01d94843bc599136392c6f9a",
       "value": "<font size=3 style='justify-content: center;'>nodesize : </font>"
      }
     },
     "9e9bbcd461984b138fbd57ae9d201929": {
      "model_module": "@jupyter-widgets/controls",
      "model_module_version": "1.4.0",
      "model_name": "ButtonModel",
      "state": {
       "button_style": "danger",
       "description": "Remove",
       "layout": "IPY_MODEL_a192e891d22a4d3395611dd7f6c9b610",
       "style": "IPY_MODEL_a94aadd289ca4151a27582a19315423d"
      }
     },
     "9ef9321740cc44e3b8f6820b4c4d737a": {
      "model_module": "@jupyter-widgets/base",
      "model_module_version": "1.1.0",
      "model_name": "LayoutModel",
      "state": {}
     },
     "9f04723ae0924ae6b6b30635179ddda2": {
      "model_module": "@jupyter-widgets/controls",
      "model_module_version": "1.4.0",
      "model_name": "DescriptionStyleModel",
      "state": {
       "description_width": ""
      }
     },
     "9f35651f69354da7ae6610fde5ada702": {
      "model_module": "@jupyter-widgets/base",
      "model_module_version": "1.1.0",
      "model_name": "LayoutModel",
      "state": {}
     },
     "9f8cc300626e4b57b5002657b68c96ee": {
      "model_module": "@jupyter-widgets/controls",
      "model_module_version": "1.4.0",
      "model_name": "DescriptionStyleModel",
      "state": {
       "description_width": ""
      }
     },
     "9fe55a26785141879925a368b05f2d6e": {
      "model_module": "@jupyter-widgets/controls",
      "model_module_version": "1.4.0",
      "model_name": "SliderStyleModel",
      "state": {
       "description_width": ""
      }
     },
     "9fed4c1eb3a1474b8e0c62561774dab2": {
      "model_module": "@jupyter-widgets/controls",
      "model_module_version": "1.4.0",
      "model_name": "HBoxModel",
      "state": {
       "children": [
        "IPY_MODEL_2fb678d197fe48ddad8e3a6b23b7765d",
        "IPY_MODEL_7c4fa61b33284092ab3a6f856d346d9c"
       ],
       "layout": "IPY_MODEL_75f7323438324f69aa3f96c7356abcba"
      }
     },
     "a0041db66bb1484bb70ac09e3a2baa5b": {
      "model_module": "@jupyter-widgets/base",
      "model_module_version": "1.1.0",
      "model_name": "LayoutModel",
      "state": {
       "margin": "10px 0 0 0",
       "width": "auto"
      }
     },
     "a078c82f02f94a188b291de9ddf08370": {
      "model_module": "@jupyter-widgets/controls",
      "model_module_version": "1.4.0",
      "model_name": "ButtonStyleModel",
      "state": {}
     },
     "a1033e4ee486495b9004203eac8e2d6e": {
      "model_module": "@jupyter-widgets/base",
      "model_module_version": "1.1.0",
      "model_name": "LayoutModel",
      "state": {}
     },
     "a10921088fc94e9dafd3fcdcf9168592": {
      "model_module": "@jupyter-widgets/base",
      "model_module_version": "1.1.0",
      "model_name": "LayoutModel",
      "state": {}
     },
     "a12e4a4e1f1d47ae962499136295c1a7": {
      "model_module": "@jupyter-widgets/base",
      "model_module_version": "1.1.0",
      "model_name": "LayoutModel",
      "state": {
       "align_items": "center",
       "justify_content": "center"
      }
     },
     "a154faea0faf423c817069d22636e378": {
      "model_module": "@jupyter-widgets/controls",
      "model_module_version": "1.4.0",
      "model_name": "ButtonModel",
      "state": {
       "button_style": "primary",
       "description": "Load",
       "layout": "IPY_MODEL_f03aea6073f6434c88417b4f657e4356",
       "style": "IPY_MODEL_815f7a4baa1e477c9cef0fa93a08f811"
      }
     },
     "a192e891d22a4d3395611dd7f6c9b610": {
      "model_module": "@jupyter-widgets/base",
      "model_module_version": "1.1.0",
      "model_name": "LayoutModel",
      "state": {
       "width": "auto"
      }
     },
     "a210082b88fa42f1bd26372f28fc8492": {
      "model_module": "@jupyter-widgets/base",
      "model_module_version": "1.1.0",
      "model_name": "LayoutModel",
      "state": {}
     },
     "a2167a8e5225439f8b7ebe8352205195": {
      "model_module": "@jupyter-widgets/base",
      "model_module_version": "1.1.0",
      "model_name": "LayoutModel",
      "state": {}
     },
     "a2223883e5524495afba6ac9e7742fdb": {
      "model_module": "@jupyter-widgets/controls",
      "model_module_version": "1.4.0",
      "model_name": "ColorPickerModel",
      "state": {
       "disabled": false,
       "layout": "IPY_MODEL_bca73258920444bb8451bede942b8b3e",
       "style": "IPY_MODEL_7f987ee0573b4f4585faf77a3cfa0bd3"
      }
     },
     "a26073db78804f589a719a959418555e": {
      "model_module": "@jupyter-widgets/controls",
      "model_module_version": "1.4.0",
      "model_name": "IntSliderModel",
      "state": {
       "layout": "IPY_MODEL_c390791f740145db93ac492c3be106f0",
       "max": 200,
       "min": 1,
       "style": "IPY_MODEL_9fe55a26785141879925a368b05f2d6e",
       "value": 41
      }
     },
     "a2ab856f41cf45869b26ebca6c3a6ec4": {
      "model_module": "@jupyter-widgets/base",
      "model_module_version": "1.1.0",
      "model_name": "LayoutModel",
      "state": {
       "width": "auto"
      }
     },
     "a2c47e5c4cee40a7a906b6f47b2fbfab": {
      "model_module": "@jupyter-widgets/controls",
      "model_module_version": "1.4.0",
      "model_name": "ToggleButtonsModel",
      "state": {
       "_options_labels": [
        "Python",
        "HTML"
       ],
       "button_style": "success",
       "icons": [],
       "index": 1,
       "layout": "IPY_MODEL_91c2baf711284e87bf5a503f45140f00",
       "style": "IPY_MODEL_4d643c0bb2cf447d9f281cd31b6749be",
       "tooltips": []
      }
     },
     "a2dead7ae6a34fbe81cf7983539466ed": {
      "model_module": "@jupyter-widgets/base",
      "model_module_version": "1.1.0",
      "model_name": "LayoutModel",
      "state": {
       "width": "auto"
      }
     },
     "a30335de029048fc883183f006d9231d": {
      "model_module": "@jupyter-widgets/controls",
      "model_module_version": "1.4.0",
      "model_name": "DescriptionStyleModel",
      "state": {
       "description_width": ""
      }
     },
     "a3292dd5cc114832af1b23ed3afcfe13": {
      "model_module": "@jupyter-widgets/controls",
      "model_module_version": "1.4.0",
      "model_name": "HTMLModel",
      "state": {
       "layout": "IPY_MODEL_25e237b3db4241679a32d1be8cc2522f",
       "style": "IPY_MODEL_5d5d59a08f244d4ea379a4787a0dce9c",
       "value": "<h5>Description</h5>"
      }
     },
     "a35b5bf37d1d482b9046f5ec9d4bee2c": {
      "model_module": "@jupyter-widgets/base",
      "model_module_version": "1.1.0",
      "model_name": "LayoutModel",
      "state": {}
     },
     "a373d61b30af48bf842ed3365cb4fb6b": {
      "model_module": "@jupyter-widgets/controls",
      "model_module_version": "1.4.0",
      "model_name": "DescriptionStyleModel",
      "state": {
       "description_width": ""
      }
     },
     "a3a65d106cf24535bb452dc974ca629a": {
      "model_module": "@jupyter-widgets/controls",
      "model_module_version": "1.4.0",
      "model_name": "ButtonStyleModel",
      "state": {}
     },
     "a3b8b5f163d446da8d80136025a43a70": {
      "model_module": "@jupyter-widgets/controls",
      "model_module_version": "1.4.0",
      "model_name": "TextModel",
      "state": {
       "description": "Username :",
       "layout": "IPY_MODEL_aec2e05dd19a44c49f79a0b6959b15a4",
       "style": "IPY_MODEL_7e7d44515f9d48ed9df14349be7ee591"
      }
     },
     "a3bbb64832d4440c83a7816195f90f45": {
      "model_module": "@jupyter-widgets/controls",
      "model_module_version": "1.4.0",
      "model_name": "LabelModel",
      "state": {
       "layout": "IPY_MODEL_e9cff404559b4536b31a194e948627b9",
       "style": "IPY_MODEL_8b99a18608aa4d8fa7d3327c57ff4d03",
       "value": "Start"
      }
     },
     "a3e25a044d3a4a239f74c5a9802a6596": {
      "model_module": "@jupyter-widgets/controls",
      "model_module_version": "1.4.0",
      "model_name": "HBoxModel",
      "state": {
       "children": [
        "IPY_MODEL_e75e01fa32214972877d459b77299bc4",
        "IPY_MODEL_1b5e11c5f4cb495ba95ad23f2eab4057",
        "IPY_MODEL_5ce2740c83f440cd967f1cb3df82aedd",
        "IPY_MODEL_901674afdcc34a9b932b9f3f161a85ec"
       ],
       "layout": "IPY_MODEL_f41e931b116f41afa420dca16ea180b9"
      }
     },
     "a3f7fcf9f7054a9e8e5c247f514d7c57": {
      "model_module": "@jupyter-widgets/controls",
      "model_module_version": "1.4.0",
      "model_name": "ButtonModel",
      "state": {
       "button_style": "primary",
       "description": "Undo",
       "layout": "IPY_MODEL_353dc7f23a5844debff67eb799cf4343",
       "style": "IPY_MODEL_c88e3eceade94782b06ae7bcdd514b73"
      }
     },
     "a402dc4c838147d29260a283dd517a42": {
      "model_module": "@jupyter-widgets/base",
      "model_module_version": "1.1.0",
      "model_name": "LayoutModel",
      "state": {}
     },
     "a48a36b6cd9d4f5ab5a22a25a4a16b96": {
      "model_module": "@jupyter-widgets/controls",
      "model_module_version": "1.4.0",
      "model_name": "VBoxModel",
      "state": {
       "children": [
        "IPY_MODEL_5a2a0db80f58427394813ce71e3613ec",
        "IPY_MODEL_3a98a539375e4469863795cf53bac14f"
       ],
       "layout": "IPY_MODEL_25ed19a84f1544e88b2d0575bf0e03e0"
      }
     },
     "a50e580e7a064a15bd33926a7dcd1b0b": {
      "model_module": "@jupyter-widgets/base",
      "model_module_version": "1.1.0",
      "model_name": "LayoutModel",
      "state": {}
     },
     "a5181f4d411d4162901a38b66f3b6462": {
      "model_module": "@jupyter-widgets/base",
      "model_module_version": "1.1.0",
      "model_name": "LayoutModel",
      "state": {
       "margin": "0 15px 0 0px",
       "width": "auto"
      }
     },
     "a553db76e05f40cd9692eff94d210618": {
      "model_module": "@jupyter-widgets/controls",
      "model_module_version": "1.4.0",
      "model_name": "HBoxModel",
      "state": {
       "children": [
        "IPY_MODEL_73e09989df9a46a6972d167de435e2a1",
        "IPY_MODEL_5d3fef06f9ef4094b0d222363a7fdb26"
       ],
       "layout": "IPY_MODEL_c7502b5f9628454fa09214ca652abc7d"
      }
     },
     "a568110d439c44d8a2d9d5db55d0765d": {
      "model_module": "@jupyter-widgets/controls",
      "model_module_version": "1.4.0",
      "model_name": "HTMLModel",
      "state": {
       "layout": "IPY_MODEL_218a163512fb43b79371fb24e956c609",
       "style": "IPY_MODEL_816a327266294ec29a0fdf8a1d03841e",
       "value": "<h2 class='text-danger text-center'>Coming Soon! Wait for Update</h2>"
      }
     },
     "a626698000e04f2285b6619752cd1dad": {
      "model_module": "@jupyter-widgets/base",
      "model_module_version": "1.1.0",
      "model_name": "LayoutModel",
      "state": {}
     },
     "a62c237105b64cb29ee626bdf531efeb": {
      "model_module": "@jupyter-widgets/base",
      "model_module_version": "1.1.0",
      "model_name": "LayoutModel",
      "state": {
       "width": "auto"
      }
     },
     "a67567bb6acf48b99a61f04f4523482f": {
      "model_module": "@jupyter-widgets/base",
      "model_module_version": "1.1.0",
      "model_name": "LayoutModel",
      "state": {
       "display": "none"
      }
     },
     "a6b35e6318014cbda9e0c955b183ae6f": {
      "model_module": "@jupyter-widgets/controls",
      "model_module_version": "1.4.0",
      "model_name": "DescriptionStyleModel",
      "state": {
       "description_width": ""
      }
     },
     "a6b63bc35b72430f9ae3b77d4d548133": {
      "model_module": "@jupyter-widgets/controls",
      "model_module_version": "1.4.0",
      "model_name": "VBoxModel",
      "state": {
       "children": [
        "IPY_MODEL_4783229c4d1945588420384839e2dd2c",
        "IPY_MODEL_954a7a92dfa947e0b9a4b6b2790c6452"
       ],
       "layout": "IPY_MODEL_f8995331445a4e27b5eee4e5d4411fcf"
      }
     },
     "a6efa50bb41c4c81b3f4f7d23fe571bf": {
      "model_module": "@jupyter-widgets/controls",
      "model_module_version": "1.4.0",
      "model_name": "HBoxModel",
      "state": {
       "children": [
        "IPY_MODEL_374894f245f24fb0947d1ce9b1f3cf0b",
        "IPY_MODEL_71df9d811671497e9cd9a080c72c573b"
       ],
       "layout": "IPY_MODEL_eee0cf6d3a9c4bda8d489495a7da542e"
      }
     },
     "a705396970324acd92fba42180d85d8b": {
      "model_module": "@jupyter-widgets/controls",
      "model_module_version": "1.4.0",
      "model_name": "HTMLModel",
      "state": {
       "layout": "IPY_MODEL_17238ac2ada7459881306247b58a2605",
       "style": "IPY_MODEL_0b0f754ec09f4534ba71344d91fd8f6a",
       "value": "<h3 class='text-center' style='color:red'>Error in .html File</h3>"
      }
     },
     "a7356be186414248acefdd5ca6a0a63c": {
      "model_module": "@jupyter-widgets/base",
      "model_module_version": "1.1.0",
      "model_name": "LayoutModel",
      "state": {}
     },
     "a872815da30c462297f67b1c7003df91": {
      "model_module": "@jupyter-widgets/controls",
      "model_module_version": "1.4.0",
      "model_name": "DescriptionStyleModel",
      "state": {
       "description_width": ""
      }
     },
     "a89b3175029943e7aa1301b7ad9bafc7": {
      "model_module": "@jupyter-widgets/controls",
      "model_module_version": "1.4.0",
      "model_name": "HBoxModel",
      "state": {
       "children": [
        "IPY_MODEL_326281c9e6d24cf883c98979f92258e3",
        "IPY_MODEL_e8aff4d09f174003bdd6bf881908f873"
       ],
       "layout": "IPY_MODEL_b3fd06fc6cf446729d5a0f4fa6a39672"
      }
     },
     "a8e987627df844f7a7a00815e4326d6f": {
      "model_module": "@jupyter-widgets/controls",
      "model_module_version": "1.4.0",
      "model_name": "HTMLModel",
      "state": {
       "layout": "IPY_MODEL_3340e81a50d74f3b810399b309c54740",
       "style": "IPY_MODEL_b5c587dfa35645ce982b7582aff4b979",
       "value": "<h2 class='text-danger text-center'>Coming Soon! Wait for Update</h2>"
      }
     },
     "a90862bee6b24f13acdf6096c1fb0d50": {
      "model_module": "@jupyter-widgets/controls",
      "model_module_version": "1.4.0",
      "model_name": "ButtonStyleModel",
      "state": {}
     },
     "a94aadd289ca4151a27582a19315423d": {
      "model_module": "@jupyter-widgets/controls",
      "model_module_version": "1.4.0",
      "model_name": "ButtonStyleModel",
      "state": {}
     },
     "a9fdf651af33466793c299a37f61418d": {
      "model_module": "@jupyter-widgets/base",
      "model_module_version": "1.1.0",
      "model_name": "LayoutModel",
      "state": {}
     },
     "aa6f9edb95f741b8a19ca435166f327f": {
      "model_module": "@jupyter-widgets/base",
      "model_module_version": "1.1.0",
      "model_name": "LayoutModel",
      "state": {}
     },
     "aaa387c29edd47889372ae7789313e7a": {
      "model_module": "@jupyter-widgets/controls",
      "model_module_version": "1.4.0",
      "model_name": "HBoxModel",
      "state": {
       "children": [
        "IPY_MODEL_1f89b54be66c48c88e80e724d8dda912",
        "IPY_MODEL_6b4bf64994e34a4d9706363b6775d7ac",
        "IPY_MODEL_b2b669ad36594ec3b27a07c7cd9cc860"
       ],
       "layout": "IPY_MODEL_9e042168f4424862b677d986cd486f07"
      }
     },
     "ab09ee69f5ff4680a7ed215a79e96244": {
      "model_module": "@jupyter-widgets/controls",
      "model_module_version": "1.4.0",
      "model_name": "HTMLModel",
      "state": {
       "layout": "IPY_MODEL_0fbf39c3bb494c2089d5acd39b19c777",
       "style": "IPY_MODEL_461534b8b41048bfbc28604a54d21f54",
       "value": "<h3> </h3>"
      }
     },
     "abfe9fa70cb1413cba0da848069d4719": {
      "model_module": "@jupyter-widgets/base",
      "model_module_version": "1.1.0",
      "model_name": "LayoutModel",
      "state": {}
     },
     "ac15782d743f4bb197c1c6771e9a8088": {
      "model_module": "@jupyter-widgets/controls",
      "model_module_version": "1.4.0",
      "model_name": "DescriptionStyleModel",
      "state": {
       "description_width": ""
      }
     },
     "ac6bfb63a9d5429287ab6a86ac28c9e9": {
      "model_module": "@jupyter-widgets/base",
      "model_module_version": "1.1.0",
      "model_name": "LayoutModel",
      "state": {
       "width": "auto"
      }
     },
     "ac6e4ce44b064465aef12710b5e605c4": {
      "model_module": "@jupyter-widgets/base",
      "model_module_version": "1.1.0",
      "model_name": "LayoutModel",
      "state": {
       "height": "40px",
       "min_width": "50px",
       "width": "10%"
      }
     },
     "aca92dd5bce8484aa1449c914e08d1d4": {
      "model_module": "@jupyter-widgets/base",
      "model_module_version": "1.1.0",
      "model_name": "LayoutModel",
      "state": {
       "width": "auto"
      }
     },
     "acb80e9c96294bca8dac7fb639645762": {
      "model_module": "@jupyter-widgets/controls",
      "model_module_version": "1.4.0",
      "model_name": "LabelModel",
      "state": {
       "layout": "IPY_MODEL_f3cf214998ef412897ff59d6e581abe6",
       "style": "IPY_MODEL_52aff9a96d1842d18cfa816db3894a7a",
       "value": "See-Through :"
      }
     },
     "acea64662d874f1b9d9e7338e957dba0": {
      "model_module": "@jupyter-widgets/controls",
      "model_module_version": "1.4.0",
      "model_name": "ButtonModel",
      "state": {
       "button_style": "warning",
       "description": "Start Cytoscape!",
       "layout": "IPY_MODEL_cc0943570fe94c7e8117ff4062a376b0",
       "style": "IPY_MODEL_fc5965d3b3184ff68a275664e438533f"
      }
     },
     "ad144a24b49348739fd7b4659c3a548d": {
      "model_module": "@jupyter-widgets/controls",
      "model_module_version": "1.4.0",
      "model_name": "DescriptionStyleModel",
      "state": {
       "description_width": ""
      }
     },
     "ad329627ebee47c3a05a64e169662ecd": {
      "model_module": "@jupyter-widgets/base",
      "model_module_version": "1.1.0",
      "model_name": "LayoutModel",
      "state": {}
     },
     "ad4d0f804d054b0791b7ef699aae6309": {
      "model_module": "@jupyter-widgets/controls",
      "model_module_version": "1.4.0",
      "model_name": "ButtonModel",
      "state": {
       "button_style": "danger",
       "description": "Remove",
       "layout": "IPY_MODEL_76113cd0373343559e087a7ead64a874",
       "style": "IPY_MODEL_a90862bee6b24f13acdf6096c1fb0d50"
      }
     },
     "ad5bd7ee684643798560459a63f4e66b": {
      "model_module": "@jupyter-widgets/controls",
      "model_module_version": "1.4.0",
      "model_name": "DescriptionStyleModel",
      "state": {
       "description_width": ""
      }
     },
     "ad773f40560e43308a8ad392bd319b6d": {
      "model_module": "@jupyter-widgets/controls",
      "model_module_version": "1.4.0",
      "model_name": "DescriptionStyleModel",
      "state": {
       "description_width": ""
      }
     },
     "adbe41d4bd4740e9ae916b61ec84db98": {
      "model_module": "@jupyter-widgets/controls",
      "model_module_version": "1.4.0",
      "model_name": "ButtonModel",
      "state": {
       "button_style": "danger",
       "description": "Remove",
       "layout": "IPY_MODEL_f3b86f21b3ef4602ad6cff7ce4b5cd41",
       "style": "IPY_MODEL_e17e2b9934924c27b7ffe15910ee512c"
      }
     },
     "add6d95589604f2ea89e0c8cd679e360": {
      "model_module": "@jupyter-widgets/controls",
      "model_module_version": "1.4.0",
      "model_name": "HBoxModel",
      "state": {
       "children": [
        "IPY_MODEL_acb80e9c96294bca8dac7fb639645762",
        "IPY_MODEL_4d8539602b514285a2f9d05885648272"
       ],
       "layout": "IPY_MODEL_58bfc662c9324a1ea98759c7a400a4f2"
      }
     },
     "ade715f8dade4228868afa3ca0d46a25": {
      "model_module": "@jupyter-widgets/base",
      "model_module_version": "1.1.0",
      "model_name": "LayoutModel",
      "state": {
       "width": "auto"
      }
     },
     "adf6710c749647fd913d5b0bce034735": {
      "model_module": "@jupyter-widgets/base",
      "model_module_version": "1.1.0",
      "model_name": "LayoutModel",
      "state": {
       "width": "auto"
      }
     },
     "ae03d250a7a04911a66e7915b9cee418": {
      "model_module": "@jupyter-widgets/controls",
      "model_module_version": "1.4.0",
      "model_name": "ButtonModel",
      "state": {
       "button_style": "danger",
       "description": "Remove",
       "layout": "IPY_MODEL_fb921f50624444e49b2d4197984cc155",
       "style": "IPY_MODEL_5cba699263594b42a7eddfabaafacf1c"
      }
     },
     "ae202b3e8a50498792e52b48a64df1a5": {
      "model_module": "@jupyter-widgets/base",
      "model_module_version": "1.1.0",
      "model_name": "LayoutModel",
      "state": {}
     },
     "ae2da661300f406e8309a0b21505898d": {
      "model_module": "@jupyter-widgets/base",
      "model_module_version": "1.1.0",
      "model_name": "LayoutModel",
      "state": {}
     },
     "ae3e339e5bcd45e6af0269c6a88123db": {
      "model_module": "@jupyter-widgets/controls",
      "model_module_version": "1.4.0",
      "model_name": "VBoxModel",
      "state": {
       "children": [
        "IPY_MODEL_ccc4220725be45199b9bbf142db960ae",
        "IPY_MODEL_a553db76e05f40cd9692eff94d210618",
        "IPY_MODEL_321ee075a1514fbf8bc2168788582e9a",
        "IPY_MODEL_2311aa80e77d4ee18f08f7382017ca38"
       ],
       "layout": "IPY_MODEL_a210082b88fa42f1bd26372f28fc8492"
      }
     },
     "aebffd153966482296c5004c4237a0a0": {
      "model_module": "@jupyter-widgets/controls",
      "model_module_version": "1.4.0",
      "model_name": "HBoxModel",
      "state": {
       "children": [
        "IPY_MODEL_04d590757527487cb9866c05188ba009",
        "IPY_MODEL_af27ab71b0494030a38b32f9b3748e91"
       ],
       "layout": "IPY_MODEL_425555b8dc8f42d780a0a726f9cf9881"
      }
     },
     "aec2e05dd19a44c49f79a0b6959b15a4": {
      "model_module": "@jupyter-widgets/base",
      "model_module_version": "1.1.0",
      "model_name": "LayoutModel",
      "state": {}
     },
     "aef5dab366e4437984a1170f46a7ea5d": {
      "model_module": "@jupyter-widgets/base",
      "model_module_version": "1.1.0",
      "model_name": "LayoutModel",
      "state": {}
     },
     "af27ab71b0494030a38b32f9b3748e91": {
      "model_module": "@jupyter-widgets/controls",
      "model_module_version": "1.4.0",
      "model_name": "TextModel",
      "state": {
       "layout": "IPY_MODEL_dc5d7539691f443dabd296bc897b2309",
       "style": "IPY_MODEL_fd5b8171ad47424fb9f34bb175db5b2f"
      }
     },
     "af3d17f1d3424ee6a9ac89d2da1aec69": {
      "model_module": "@jupyter-widgets/controls",
      "model_module_version": "1.4.0",
      "model_name": "HBoxModel",
      "state": {
       "children": [
        "IPY_MODEL_c01b3e3bcbe54f339330eb43eed69adc",
        "IPY_MODEL_84281ee1862c479ab0ea6681d8def42e",
        "IPY_MODEL_b7fab3060f8749fcb293e886773372d9"
       ],
       "layout": "IPY_MODEL_d59c9a148000456aa116643cea0a2af2"
      }
     },
     "af52e512e0d449eca71f91cca3f28e4e": {
      "model_module": "@jupyter-widgets/controls",
      "model_module_version": "1.4.0",
      "model_name": "ButtonStyleModel",
      "state": {}
     },
     "af68aeb29db74878a770f67169c23a7a": {
      "model_module": "@jupyter-widgets/base",
      "model_module_version": "1.1.0",
      "model_name": "LayoutModel",
      "state": {}
     },
     "b055e61fb15945b3bc5ccd62817f7900": {
      "model_module": "@jupyter-widgets/base",
      "model_module_version": "1.1.0",
      "model_name": "LayoutModel",
      "state": {}
     },
     "b0579b79c3354c4dbbf31c7847bc1a86": {
      "model_module": "@jupyter-widgets/controls",
      "model_module_version": "1.4.0",
      "model_name": "HBoxModel",
      "state": {
       "children": [
        "IPY_MODEL_e52abcbac0384a06a4dff438d8da3649",
        "IPY_MODEL_05d21dd1c6004e58b5725f8bc42c581d",
        "IPY_MODEL_9e9bbcd461984b138fbd57ae9d201929"
       ],
       "layout": "IPY_MODEL_effd365feab74ba1835bb095f1b6c263"
      }
     },
     "b06e6eceb6634f28bd751e858da96c7d": {
      "model_module": "@jupyter-widgets/base",
      "model_module_version": "1.1.0",
      "model_name": "LayoutModel",
      "state": {}
     },
     "b0b6d517596148e7a5e937b33c024742": {
      "model_module": "@jupyter-widgets/controls",
      "model_module_version": "1.4.0",
      "model_name": "ButtonModel",
      "state": {
       "button_style": "danger",
       "description": "Remove",
       "layout": "IPY_MODEL_7c0c254d6fc148ec93129c9c521242d7",
       "style": "IPY_MODEL_5d2bf12c16864d94b14029fd05ddb482"
      }
     },
     "b1037a5878db4863868c42eabddd6bba": {
      "model_module": "@jupyter-widgets/controls",
      "model_module_version": "1.4.0",
      "model_name": "TextModel",
      "state": {
       "layout": "IPY_MODEL_68f05390685a4021b3b15f8b53300ad8",
       "style": "IPY_MODEL_87255e7eb63f42e880d532330d56f1b4"
      }
     },
     "b1600113dfee4b87a4e2f5914dd01fd1": {
      "model_module": "@jupyter-widgets/controls",
      "model_module_version": "1.4.0",
      "model_name": "LabelModel",
      "state": {
       "layout": "IPY_MODEL_5b0f3d8b5ba848a9a352327397398000",
       "style": "IPY_MODEL_d20243d2ce92491e8a379f5e1edec4d9",
       "value": "Size :"
      }
     },
     "b18306c041eb4a2f9bcd6d59264628fe": {
      "model_module": "@jupyter-widgets/controls",
      "model_module_version": "1.4.0",
      "model_name": "HBoxModel",
      "state": {
       "children": [
        "IPY_MODEL_b4b1aee09954485ba13ab3efcd620182",
        "IPY_MODEL_f099ddeb23bd461faef50bb11d56cd52"
       ],
       "layout": "IPY_MODEL_d07bdce0bbcb4aa383cf6a16fa9d07e6"
      }
     },
     "b20c1ff2f217424fae99f6ac38d10203": {
      "model_module": "@jupyter-widgets/controls",
      "model_module_version": "1.4.0",
      "model_name": "FloatTextModel",
      "state": {
       "continuous_update": true,
       "layout": "IPY_MODEL_a35b5bf37d1d482b9046f5ec9d4bee2c",
       "step": null,
       "style": "IPY_MODEL_62197f9af5bb455981693034e5c698c0"
      }
     },
     "b2149b43850b4670957deb05fa94102b": {
      "model_module": "@jupyter-widgets/controls",
      "model_module_version": "1.4.0",
      "model_name": "DescriptionStyleModel",
      "state": {
       "description_width": ""
      }
     },
     "b2b669ad36594ec3b27a07c7cd9cc860": {
      "model_module": "@jupyter-widgets/controls",
      "model_module_version": "1.4.0",
      "model_name": "ButtonModel",
      "state": {
       "button_style": "danger",
       "description": "Remove",
       "layout": "IPY_MODEL_caec8e64a77e4e5fbd5dfab207bd5ca5",
       "style": "IPY_MODEL_a078c82f02f94a188b291de9ddf08370"
      }
     },
     "b2dd7a1558884a258c3a5b25dc49725e": {
      "model_module": "@jupyter-widgets/controls",
      "model_module_version": "1.4.0",
      "model_name": "LabelModel",
      "state": {
       "layout": "IPY_MODEL_6e3eb750b7a44d348ed6fb7f1b1e2c38",
       "style": "IPY_MODEL_33e64fba62084c67a252344127ca87b2",
       "value": "See-Through :"
      }
     },
     "b2ff9c423d6f4bac8cb3753fe8460075": {
      "model_module": "@jupyter-widgets/controls",
      "model_module_version": "1.4.0",
      "model_name": "ButtonModel",
      "state": {
       "button_style": "danger",
       "description": "Remove",
       "layout": "IPY_MODEL_fb3779251807490f91e5faf9bc108a1e",
       "style": "IPY_MODEL_af52e512e0d449eca71f91cca3f28e4e"
      }
     },
     "b30e7b6da76a48dabad404181102b03a": {
      "model_module": "@jupyter-widgets/base",
      "model_module_version": "1.1.0",
      "model_name": "LayoutModel",
      "state": {}
     },
     "b344edd1f1cb4da38e9819e955dec239": {
      "model_module": "@jupyter-widgets/controls",
      "model_module_version": "1.4.0",
      "model_name": "ButtonStyleModel",
      "state": {}
     },
     "b3d7308dac67467593f2f8ff455e964d": {
      "model_module": "@jupyter-widgets/base",
      "model_module_version": "1.1.0",
      "model_name": "LayoutModel",
      "state": {
       "width": "auto"
      }
     },
     "b3fd06fc6cf446729d5a0f4fa6a39672": {
      "model_module": "@jupyter-widgets/base",
      "model_module_version": "1.1.0",
      "model_name": "LayoutModel",
      "state": {}
     },
     "b422ceac31c94d23bd1de060053ef3ba": {
      "model_module": "@jupyter-widgets/controls",
      "model_module_version": "1.4.0",
      "model_name": "HTMLModel",
      "state": {
       "layout": "IPY_MODEL_4b84b4a316ea4cf09b80c4a0b42f7277",
       "style": "IPY_MODEL_3e32d5211a96467bb9aeab420135bcab",
       "value": "<font size=3 style='justify-content: center;'>SUID : </font>"
      }
     },
     "b430f250cebb4505bd21c332dc264b28": {
      "model_module": "@jupyter-widgets/base",
      "model_module_version": "1.1.0",
      "model_name": "LayoutModel",
      "state": {}
     },
     "b44ffc3220844572adffcc3597e72790": {
      "model_module": "@jupyter-widgets/controls",
      "model_module_version": "1.4.0",
      "model_name": "HBoxModel",
      "state": {
       "children": [
        "IPY_MODEL_0865e45c740340c8bd2239b8779fe7e8",
        "IPY_MODEL_25fbba3eb7b74f748addd0e4951b2cc9",
        "IPY_MODEL_79547c264b3d4dd4965f306b526c7e96"
       ],
       "layout": "IPY_MODEL_84ae1588241a4990bedd9d175fa68429"
      }
     },
     "b463e1486a8845c6a76505e1ce22a928": {
      "model_module": "@jupyter-widgets/controls",
      "model_module_version": "1.4.0",
      "model_name": "ButtonStyleModel",
      "state": {}
     },
     "b47c00e30d5542378af0b00109152420": {
      "model_module": "@jupyter-widgets/controls",
      "model_module_version": "1.4.0",
      "model_name": "HBoxModel",
      "state": {
       "children": [
        "IPY_MODEL_43f6ed1a6e674b5895ef857f24618dcb"
       ],
       "layout": "IPY_MODEL_38fbb9c18a2d40738819fb950146b2eb"
      }
     },
     "b49b834e7fd7496a9ebf35dee1afd91e": {
      "model_module": "@jupyter-widgets/controls",
      "model_module_version": "1.4.0",
      "model_name": "HTMLModel",
      "state": {
       "layout": "IPY_MODEL_755d99ee274b4ca8a8e667238c25ef99",
       "style": "IPY_MODEL_e99c81b5a16f4e80bd8e9c7ed518d750",
       "value": "<h3> </h3>"
      }
     },
     "b4ae3edd61154c278cc186a960c0b143": {
      "model_module": "@jupyter-widgets/controls",
      "model_module_version": "1.4.0",
      "model_name": "SliderStyleModel",
      "state": {
       "description_width": ""
      }
     },
     "b4b1aee09954485ba13ab3efcd620182": {
      "model_module": "@jupyter-widgets/controls",
      "model_module_version": "1.4.0",
      "model_name": "LabelModel",
      "state": {
       "layout": "IPY_MODEL_348bb71089e94309bf0d5dd393a26297",
       "style": "IPY_MODEL_b529c4152e5242d683724615d95bb248",
       "value": "End"
      }
     },
     "b4b4c863a6564cd7b34081f14f47dffb": {
      "model_module": "@jupyter-widgets/controls",
      "model_module_version": "1.4.0",
      "model_name": "ButtonModel",
      "state": {
       "button_style": "success",
       "description": "Save",
       "layout": "IPY_MODEL_c551c65ff02c46e488ee997bc7a990c9",
       "style": "IPY_MODEL_628ee9ffc1d34a44a46bc17995b16d78"
      }
     },
     "b529c4152e5242d683724615d95bb248": {
      "model_module": "@jupyter-widgets/controls",
      "model_module_version": "1.4.0",
      "model_name": "DescriptionStyleModel",
      "state": {
       "description_width": ""
      }
     },
     "b562da069143405ab733fe765c41202a": {
      "model_module": "@jupyter-widgets/controls",
      "model_module_version": "1.4.0",
      "model_name": "VBoxModel",
      "state": {
       "children": [
        "IPY_MODEL_a2c47e5c4cee40a7a906b6f47b2fbfab",
        "IPY_MODEL_1c35dfa7aca740d682944784b4914d11",
        "IPY_MODEL_922cabaf061648b88cf9fe02d9a96ecb"
       ],
       "layout": "IPY_MODEL_f90c27d4c6e040e0a2023ea0a9bef5d4"
      }
     },
     "b5c587dfa35645ce982b7582aff4b979": {
      "model_module": "@jupyter-widgets/controls",
      "model_module_version": "1.4.0",
      "model_name": "DescriptionStyleModel",
      "state": {
       "description_width": ""
      }
     },
     "b6e0842e70a94ea0aea104b534591b82": {
      "model_module": "@jupyter-widgets/base",
      "model_module_version": "1.1.0",
      "model_name": "LayoutModel",
      "state": {
       "width": "auto"
      }
     },
     "b726670c0d854eaeb967ad2648ea29f8": {
      "model_module": "@jupyter-widgets/controls",
      "model_module_version": "1.4.0",
      "model_name": "HBoxModel",
      "state": {
       "children": [
        "IPY_MODEL_931bc09fdead4a10ba219536180bdb48"
       ],
       "layout": "IPY_MODEL_79d4f651d3ce40eba11b213774dd3492"
      }
     },
     "b76ab58dd5244d1d85b1c0d9b41f878c": {
      "model_module": "@jupyter-widgets/controls",
      "model_module_version": "1.4.0",
      "model_name": "DescriptionStyleModel",
      "state": {
       "description_width": ""
      }
     },
     "b7945f9f766e4d05ade634f7bec540a7": {
      "model_module": "@jupyter-widgets/controls",
      "model_module_version": "1.4.0",
      "model_name": "VBoxModel",
      "state": {
       "children": [
        "IPY_MODEL_07b148251c584caca08b3b6e78bbb4fe",
        "IPY_MODEL_777d0861eca440d3a76cac74047cdc7f",
        "IPY_MODEL_912a67c386a94a6aae05b93db3b78629",
        "IPY_MODEL_d2cdbe3e6bf1414ca64bc93da164fa81"
       ],
       "layout": "IPY_MODEL_9e5bf3851e314779bd094c9647937683"
      }
     },
     "b7fab3060f8749fcb293e886773372d9": {
      "model_module": "@jupyter-widgets/controls",
      "model_module_version": "1.4.0",
      "model_name": "ButtonModel",
      "state": {
       "button_style": "danger",
       "description": "Remove",
       "layout": "IPY_MODEL_4fef8072a3fa4621ae5717f7176de063",
       "style": "IPY_MODEL_954a164ce28f49378729e7d88e43222d"
      }
     },
     "b8548963eb884bf5a8207075228fc655": {
      "model_module": "@jupyter-widgets/controls",
      "model_module_version": "1.4.0",
      "model_name": "DropdownModel",
      "state": {
       "_options_labels": [
        "none",
        "triangle",
        "tee",
        "diamond",
        "square",
        "circle",
        "vee",
        "triangle-tee"
       ],
       "index": 0,
       "layout": "IPY_MODEL_90a4846e888d4fb08c714b40a12978d4",
       "style": "IPY_MODEL_f7b12c3703194a909ed3f238b71a2598"
      }
     },
     "b908eddc94cf41b3b4576a4851a9efbd": {
      "model_module": "@jupyter-widgets/controls",
      "model_module_version": "1.4.0",
      "model_name": "FloatTextModel",
      "state": {
       "continuous_update": true,
       "layout": "IPY_MODEL_953b5e7aefc44a448ed9b364e2c01132",
       "step": null,
       "style": "IPY_MODEL_81849d08a3c04b8fa256259a4c763a76"
      }
     },
     "b9894062d004485cb604706ebe50ecd9": {
      "model_module": "@jupyter-widgets/controls",
      "model_module_version": "1.4.0",
      "model_name": "SliderStyleModel",
      "state": {
       "description_width": ""
      }
     },
     "b98cda9860c44b51a8ab4b7e4937a861": {
      "model_module": "@jupyter-widgets/base",
      "model_module_version": "1.1.0",
      "model_name": "LayoutModel",
      "state": {
       "padding": "10px 0px 0px 0px"
      }
     },
     "b9d35103e76c4588a7761dbcb720cb44": {
      "model_module": "@jupyter-widgets/controls",
      "model_module_version": "1.4.0",
      "model_name": "DescriptionStyleModel",
      "state": {
       "description_width": ""
      }
     },
     "ba8aab559d11409099b5ebee4058f09a": {
      "model_module": "@jupyter-widgets/base",
      "model_module_version": "1.1.0",
      "model_name": "LayoutModel",
      "state": {}
     },
     "ba9e9208dd2543eeb5c805bca8fee2e1": {
      "model_module": "@jupyter-widgets/base",
      "model_module_version": "1.1.0",
      "model_name": "LayoutModel",
      "state": {}
     },
     "bbb479edb1b14278a8227199958f34b1": {
      "model_module": "@jupyter-widgets/controls",
      "model_module_version": "1.4.0",
      "model_name": "HBoxModel",
      "state": {
       "children": [
        "IPY_MODEL_13bbb7cdaba54da7a93f06693c09f53e",
        "IPY_MODEL_3d92b48c4f1545009b982f8e0a98559a",
        "IPY_MODEL_c0f9478fd633407a9e2cf319f882bdc3"
       ],
       "layout": "IPY_MODEL_8f49ce598faa4285aa205a630e2b08c8"
      }
     },
     "bbcc2a271b194e83bc2d13fb89e9c508": {
      "model_module": "@jupyter-widgets/controls",
      "model_module_version": "1.4.0",
      "model_name": "DescriptionStyleModel",
      "state": {
       "description_width": ""
      }
     },
     "bc20a52758d84887ab7a27c4cfb0c925": {
      "model_module": "@jupyter-widgets/base",
      "model_module_version": "1.1.0",
      "model_name": "LayoutModel",
      "state": {
       "width": "auto"
      }
     },
     "bca73258920444bb8451bede942b8b3e": {
      "model_module": "@jupyter-widgets/base",
      "model_module_version": "1.1.0",
      "model_name": "LayoutModel",
      "state": {}
     },
     "bcc40fee7e3c46a5bbae7dba2d23487e": {
      "model_module": "@jupyter-widgets/base",
      "model_module_version": "1.1.0",
      "model_name": "LayoutModel",
      "state": {
       "padding": "10px 0px 0px 0px"
      }
     },
     "bcf9b14ed91843fb99080caf826a562b": {
      "model_module": "@jupyter-widgets/base",
      "model_module_version": "1.1.0",
      "model_name": "LayoutModel",
      "state": {
       "justify_content": "center",
       "padding": "0px 0px 10px 0px"
      }
     },
     "bd551699520b445c85475bcec89fe675": {
      "model_module": "@jupyter-widgets/controls",
      "model_module_version": "1.4.0",
      "model_name": "LabelModel",
      "state": {
       "layout": "IPY_MODEL_cc29da284b564743841d87ef94626735",
       "style": "IPY_MODEL_782c5f00fbb54b5ab028e689dcdddc75",
       "value": "Line Style :"
      }
     },
     "bd58c9fecba842fcb06bbc43729947bc": {
      "model_module": "@jupyter-widgets/controls",
      "model_module_version": "1.4.0",
      "model_name": "VBoxModel",
      "state": {
       "children": [
        "IPY_MODEL_2cb5e682d3f84d8a8369967cb5edea11",
        "IPY_MODEL_00575252380c4b3b9431fb7a5563bb67",
        "IPY_MODEL_a3292dd5cc114832af1b23ed3afcfe13",
        "IPY_MODEL_144bdd80e5d449a88adb21077c63c2dd",
        "IPY_MODEL_ebfa10635b224cb38b8650191b2eca3a",
        "IPY_MODEL_cf03f09abd86489181a6476ab4278cfe"
       ],
       "layout": "IPY_MODEL_5a8ed725c5144f708ab37a19150c0fac"
      }
     },
     "bd871b812dba45cd94974b0c8bad98a5": {
      "model_module": "@jupyter-widgets/base",
      "model_module_version": "1.1.0",
      "model_name": "LayoutModel",
      "state": {}
     },
     "bda3587993e64c948c0519e6e995358f": {
      "model_module": "@jupyter-widgets/controls",
      "model_module_version": "1.4.0",
      "model_name": "HTMLModel",
      "state": {
       "layout": "IPY_MODEL_f5de5fe6fd864372a499b76c3e456584",
       "style": "IPY_MODEL_fde013730faf4698923286a1c52d1433",
       "value": "<font size=3 style='justify-content: center;'>SUID : </font>"
      }
     },
     "bde7180e6dc144eebde9c0b38dc62642": {
      "model_module": "@jupyter-widgets/base",
      "model_module_version": "1.1.0",
      "model_name": "LayoutModel",
      "state": {}
     },
     "be39eeb5c903470aa9485b4587e336bf": {
      "model_module": "@jupyter-widgets/controls",
      "model_module_version": "1.4.0",
      "model_name": "DescriptionStyleModel",
      "state": {
       "description_width": ""
      }
     },
     "be48f905bab04993bfa2c32c51e551fe": {
      "model_module": "@jupyter-widgets/controls",
      "model_module_version": "1.4.0",
      "model_name": "DescriptionStyleModel",
      "state": {
       "description_width": ""
      }
     },
     "be57bf8e5e5b46b988396298f936437a": {
      "model_module": "@jupyter-widgets/base",
      "model_module_version": "1.1.0",
      "model_name": "LayoutModel",
      "state": {}
     },
     "be8658ef29864f9599c39d53a56c96eb": {
      "model_module": "@jupyter-widgets/base",
      "model_module_version": "1.1.0",
      "model_name": "LayoutModel",
      "state": {}
     },
     "be9b00e425c84adbbabebd5eb93be45d": {
      "model_module": "@jupyter-widgets/controls",
      "model_module_version": "1.4.0",
      "model_name": "DescriptionStyleModel",
      "state": {
       "description_width": ""
      }
     },
     "beca5e3a841d4fd1aa5bf323cb5b5b91": {
      "model_module": "@jupyter-widgets/base",
      "model_module_version": "1.1.0",
      "model_name": "LayoutModel",
      "state": {
       "width": "auto"
      }
     },
     "bf038eac87704ae8b7a392a4a30811f0": {
      "model_module": "@jupyter-widgets/controls",
      "model_module_version": "1.4.0",
      "model_name": "DescriptionStyleModel",
      "state": {
       "description_width": ""
      }
     },
     "bf04b87732c84a579b686004aea43934": {
      "model_module": "@jupyter-widgets/base",
      "model_module_version": "1.1.0",
      "model_name": "LayoutModel",
      "state": {}
     },
     "bf6ed0844d684a05a91e302d270c64b9": {
      "model_module": "@jupyter-widgets/controls",
      "model_module_version": "1.4.0",
      "model_name": "DescriptionStyleModel",
      "state": {
       "description_width": ""
      }
     },
     "bfd13b7280354da48f6717eede1725fa": {
      "model_module": "@jupyter-widgets/controls",
      "model_module_version": "1.4.0",
      "model_name": "HBoxModel",
      "state": {
       "children": [
        "IPY_MODEL_2ec59d1e3362468aa486b769b80fa85e",
        "IPY_MODEL_6049ac24ebc24273bbe4cec1fb687d69"
       ],
       "layout": "IPY_MODEL_08687d5e2445433ebaec9db57db023c9"
      }
     },
     "bff1429fca4946618ad136de7aae9eb9": {
      "model_module": "@jupyter-widgets/controls",
      "model_module_version": "1.4.0",
      "model_name": "DescriptionStyleModel",
      "state": {
       "description_width": ""
      }
     },
     "bff479df4a2e48d8b6dabb3672c81c00": {
      "model_module": "@jupyter-widgets/controls",
      "model_module_version": "1.4.0",
      "model_name": "DescriptionStyleModel",
      "state": {
       "description_width": ""
      }
     },
     "c01b3e3bcbe54f339330eb43eed69adc": {
      "model_module": "@jupyter-widgets/controls",
      "model_module_version": "1.4.0",
      "model_name": "HTMLModel",
      "state": {
       "layout": "IPY_MODEL_37a2184e79884747995836a3112a7f35",
       "style": "IPY_MODEL_5e3572b6294a48738eff5feedd4de40b",
       "value": "<font size=3 style='justify-content: center;'>ClusteringCoefficient : </font>"
      }
     },
     "c06801618d5145b393899b3cb90622c8": {
      "model_module": "@jupyter-widgets/controls",
      "model_module_version": "1.4.0",
      "model_name": "HTMLModel",
      "state": {
       "layout": "IPY_MODEL_35cb2307333c4ef48809b55579f44a21",
       "style": "IPY_MODEL_9aa29e3ce9f84c8f91846eba59772f60",
       "value": "<font size=3 style='justify-content: center;'>BetweennessCentrality : </font>"
      }
     },
     "c07cefdbc6c643f4bb55beb6334aad79": {
      "model_module": "@jupyter-widgets/controls",
      "model_module_version": "1.4.0",
      "model_name": "ToggleButtonModel",
      "state": {
       "icon": "eye",
       "layout": "IPY_MODEL_3471edf836834da7844fc2913faa1627",
       "style": "IPY_MODEL_7dd71b6d3f314d18b7bf531b04aecd4b"
      }
     },
     "c0bdb4865a91459faf6d162955bbdb9d": {
      "model_module": "@jupyter-widgets/controls",
      "model_module_version": "1.4.0",
      "model_name": "ButtonStyleModel",
      "state": {}
     },
     "c0f9478fd633407a9e2cf319f882bdc3": {
      "model_module": "@jupyter-widgets/controls",
      "model_module_version": "1.4.0",
      "model_name": "ButtonModel",
      "state": {
       "button_style": "danger",
       "description": "Remove",
       "layout": "IPY_MODEL_33ab93d783a7432e8de23d6bc1ed4922",
       "style": "IPY_MODEL_033348abd8d44b67bd2ac14615b956f9"
      }
     },
     "c108d52f47db44378c73b36536ea71d5": {
      "model_module": "@jupyter-widgets/controls",
      "model_module_version": "1.4.0",
      "model_name": "ButtonModel",
      "state": {
       "button_style": "danger",
       "description": "Remove",
       "layout": "IPY_MODEL_aca92dd5bce8484aa1449c914e08d1d4",
       "style": "IPY_MODEL_7faa3d94b93a4717add7966846c069e1"
      }
     },
     "c1b2d1f672fe4e5582f8b32f53996a07": {
      "model_module": "@jupyter-widgets/base",
      "model_module_version": "1.1.0",
      "model_name": "LayoutModel",
      "state": {}
     },
     "c2120040cf874ba3b641447518bd9230": {
      "model_module": "@jupyter-widgets/controls",
      "model_module_version": "1.4.0",
      "model_name": "DescriptionStyleModel",
      "state": {
       "description_width": ""
      }
     },
     "c23e1204afd943f09df09647b9cf3efe": {
      "model_module": "@jupyter-widgets/controls",
      "model_module_version": "1.4.0",
      "model_name": "LabelModel",
      "state": {
       "layout": "IPY_MODEL_a402dc4c838147d29260a283dd517a42",
       "style": "IPY_MODEL_dbc756f4c21e4dffb959628432f81364",
       "value": "    "
      }
     },
     "c27f4cd89b99442ca7b2a2443bd6ab96": {
      "model_module": "@jupyter-widgets/controls",
      "model_module_version": "1.4.0",
      "model_name": "LabelModel",
      "state": {
       "layout": "IPY_MODEL_a9fdf651af33466793c299a37f61418d",
       "style": "IPY_MODEL_4b1c99a2b7a34223a950bf7563cea572",
       "value": "Size :"
      }
     },
     "c2d54d03f314452b9ddb9dd20ab9d5f0": {
      "model_module": "@jupyter-widgets/base",
      "model_module_version": "1.1.0",
      "model_name": "LayoutModel",
      "state": {}
     },
     "c2dd0ae1efc94356a833234946446680": {
      "model_module": "@jupyter-widgets/controls",
      "model_module_version": "1.4.0",
      "model_name": "DescriptionStyleModel",
      "state": {
       "description_width": ""
      }
     },
     "c33d5c92bbdb486da043446648db6456": {
      "model_module": "@jupyter-widgets/controls",
      "model_module_version": "1.4.0",
      "model_name": "ButtonStyleModel",
      "state": {}
     },
     "c38e1c38a2a340a18a1487e1580a46d7": {
      "model_module": "@jupyter-widgets/base",
      "model_module_version": "1.1.0",
      "model_name": "LayoutModel",
      "state": {}
     },
     "c390791f740145db93ac492c3be106f0": {
      "model_module": "@jupyter-widgets/base",
      "model_module_version": "1.1.0",
      "model_name": "LayoutModel",
      "state": {}
     },
     "c44e26d93c244b2d8ac35b2e401035c6": {
      "model_module": "@jupyter-widgets/base",
      "model_module_version": "1.1.0",
      "model_name": "LayoutModel",
      "state": {}
     },
     "c48886d4a09943f9a972cd8b4b8c79fc": {
      "model_module": "@jupyter-widgets/controls",
      "model_module_version": "1.4.0",
      "model_name": "ButtonStyleModel",
      "state": {}
     },
     "c49c9f40f54144d38aeddcf6003e9a6e": {
      "model_module": "@jupyter-widgets/base",
      "model_module_version": "1.1.0",
      "model_name": "LayoutModel",
      "state": {}
     },
     "c4b0568fe9a64623a61fb2b89167af0b": {
      "model_module": "@jupyter-widgets/base",
      "model_module_version": "1.1.0",
      "model_name": "LayoutModel",
      "state": {}
     },
     "c51d12d5f8a14f87ab16c592ff903f7e": {
      "model_module": "@jupyter-widgets/controls",
      "model_module_version": "1.4.0",
      "model_name": "FloatSliderModel",
      "state": {
       "layout": "IPY_MODEL_206420f4475a47c894934e87e277f310",
       "max": 1,
       "step": 0.05,
       "style": "IPY_MODEL_9722468851f14c2798e9dbfa1bb0d760",
       "value": 0.5
      }
     },
     "c551c65ff02c46e488ee997bc7a990c9": {
      "model_module": "@jupyter-widgets/base",
      "model_module_version": "1.1.0",
      "model_name": "LayoutModel",
      "state": {
       "margin": "0 15px 0 0px",
       "width": "auto"
      }
     },
     "c5608855a41c41728b5c7aee65b45373": {
      "model_module": "@jupyter-widgets/controls",
      "model_module_version": "1.4.0",
      "model_name": "HBoxModel",
      "state": {
       "children": [
        "IPY_MODEL_c06801618d5145b393899b3cb90622c8",
        "IPY_MODEL_f8295548d9e84864b5e52dd1675e9f51",
        "IPY_MODEL_ffff8a8c9a504964a216a58fed4888c8"
       ],
       "layout": "IPY_MODEL_682ac4247b7041bdb08e3449151d0caf"
      }
     },
     "c5b7667ee366413587e104483bacd107": {
      "model_module": "@jupyter-widgets/controls",
      "model_module_version": "1.4.0",
      "model_name": "TextModel",
      "state": {
       "layout": "IPY_MODEL_81e0f177697940f189e8f9d79f37e901",
       "style": "IPY_MODEL_0f2382b340d447f0904fd0f3004fc71a"
      }
     },
     "c658393271c44388b57a9eb21c3c8e8d": {
      "model_module": "@jupyter-widgets/base",
      "model_module_version": "1.1.0",
      "model_name": "LayoutModel",
      "state": {}
     },
     "c6843bdcfe0341e4ad430c8db47100c1": {
      "model_module": "@jupyter-widgets/base",
      "model_module_version": "1.1.0",
      "model_name": "LayoutModel",
      "state": {
       "padding": "10px 0px 0px 0px"
      }
     },
     "c70a712599df4371b3f1dd1cc0e37949": {
      "model_module": "@jupyter-widgets/base",
      "model_module_version": "1.1.0",
      "model_name": "LayoutModel",
      "state": {
       "visibility": "hidden"
      }
     },
     "c7502b5f9628454fa09214ca652abc7d": {
      "model_module": "@jupyter-widgets/base",
      "model_module_version": "1.1.0",
      "model_name": "LayoutModel",
      "state": {}
     },
     "c78618c67ecd4b48be5208acf9003d70": {
      "model_module": "@jupyter-widgets/controls",
      "model_module_version": "1.4.0",
      "model_name": "DescriptionStyleModel",
      "state": {
       "description_width": ""
      }
     },
     "c7897b750621440d8a4ab02fa9e0568b": {
      "model_module": "@jupyter-widgets/controls",
      "model_module_version": "1.4.0",
      "model_name": "DescriptionStyleModel",
      "state": {
       "description_width": ""
      }
     },
     "c7a008fb17c2453fa47d03c0d8b663dd": {
      "model_module": "@jupyter-widgets/base",
      "model_module_version": "1.1.0",
      "model_name": "LayoutModel",
      "state": {}
     },
     "c7e0511aaa8d43128215db0fb699f492": {
      "model_module": "@jupyter-widgets/base",
      "model_module_version": "1.1.0",
      "model_name": "LayoutModel",
      "state": {}
     },
     "c7f9d5459a5b48eabbaf70ad7e058640": {
      "model_module": "@jupyter-widgets/base",
      "model_module_version": "1.1.0",
      "model_name": "LayoutModel",
      "state": {}
     },
     "c81340640da247d187c3a9a6c4c968be": {
      "model_module": "@jupyter-widgets/controls",
      "model_module_version": "1.4.0",
      "model_name": "DescriptionStyleModel",
      "state": {
       "description_width": ""
      }
     },
     "c817c9e0e8514aa1b41d63286c5566b1": {
      "model_module": "@jupyter-widgets/controls",
      "model_module_version": "1.4.0",
      "model_name": "DescriptionStyleModel",
      "state": {
       "description_width": ""
      }
     },
     "c81f551e86fe4747a93653101efd1a76": {
      "model_module": "@jupyter-widgets/controls",
      "model_module_version": "1.4.0",
      "model_name": "FloatTextModel",
      "state": {
       "continuous_update": true,
       "layout": "IPY_MODEL_9a9d09cffe114fe88aed3139b3e38a24",
       "step": null,
       "style": "IPY_MODEL_68dba07aee7f4b3dbf40c4aa840435a1"
      }
     },
     "c8318443df774a739b7ba258bcbbfdcd": {
      "model_module": "@jupyter-widgets/controls",
      "model_module_version": "1.4.0",
      "model_name": "DescriptionStyleModel",
      "state": {
       "description_width": ""
      }
     },
     "c8452993958b4284ac9148a9ab8df802": {
      "model_module": "@jupyter-widgets/controls",
      "model_module_version": "1.4.0",
      "model_name": "DescriptionStyleModel",
      "state": {
       "description_width": ""
      }
     },
     "c84ad24b8da340078efad244a19b42c7": {
      "model_module": "@jupyter-widgets/base",
      "model_module_version": "1.1.0",
      "model_name": "LayoutModel",
      "state": {}
     },
     "c84f662d79b04fae9426b75960d62b59": {
      "model_module": "@jupyter-widgets/controls",
      "model_module_version": "1.4.0",
      "model_name": "FloatTextModel",
      "state": {
       "continuous_update": true,
       "layout": "IPY_MODEL_ae202b3e8a50498792e52b48a64df1a5",
       "step": null,
       "style": "IPY_MODEL_d6caabf0a28f4e0d9aab70433c49f60f"
      }
     },
     "c877148ca08c4d28af18369e4228beb2": {
      "model_module": "@jupyter-widgets/base",
      "model_module_version": "1.1.0",
      "model_name": "LayoutModel",
      "state": {}
     },
     "c88e3eceade94782b06ae7bcdd514b73": {
      "model_module": "@jupyter-widgets/controls",
      "model_module_version": "1.4.0",
      "model_name": "ButtonStyleModel",
      "state": {}
     },
     "c8e141b565d44efd9bd06978d3fed406": {
      "model_module": "@jupyter-widgets/controls",
      "model_module_version": "1.4.0",
      "model_name": "ToggleButtonsModel",
      "state": {
       "_options_labels": [
        "Python",
        "HTML"
       ],
       "button_style": "success",
       "icons": [],
       "index": 0,
       "layout": "IPY_MODEL_44b9895f55a04b559a668c60ee10dd84",
       "style": "IPY_MODEL_59a701ca312e4751adca358e278e4a75",
       "tooltips": []
      }
     },
     "c8fae007e3d341eb83f975533ee75703": {
      "model_module": "@jupyter-widgets/base",
      "model_module_version": "1.1.0",
      "model_name": "LayoutModel",
      "state": {}
     },
     "c91b993ecfca4b8ba75ef59d74baa9d1": {
      "model_module": "@jupyter-widgets/base",
      "model_module_version": "1.1.0",
      "model_name": "LayoutModel",
      "state": {}
     },
     "c9fefa61748b416d9bd5929dd301a8d5": {
      "model_module": "@jupyter-widgets/base",
      "model_module_version": "1.1.0",
      "model_name": "LayoutModel",
      "state": {}
     },
     "ca18b8fb3bc04096a9e299a9d35fa186": {
      "model_module": "@jupyter-widgets/controls",
      "model_module_version": "1.4.0",
      "model_name": "DescriptionStyleModel",
      "state": {
       "description_width": ""
      }
     },
     "ca266e3087fc474480215dbdbe944a6a": {
      "model_module": "@jupyter-widgets/controls",
      "model_module_version": "1.4.0",
      "model_name": "SliderStyleModel",
      "state": {
       "description_width": ""
      }
     },
     "ca3fcd60c410460f9d0a7df6d96ba969": {
      "model_module": "@jupyter-widgets/base",
      "model_module_version": "1.1.0",
      "model_name": "LayoutModel",
      "state": {}
     },
     "ca44a9e8ad104895840f26362c456248": {
      "model_module": "@jupyter-widgets/base",
      "model_module_version": "1.1.0",
      "model_name": "LayoutModel",
      "state": {}
     },
     "ca5dcf8a92704b3681c53230b083886e": {
      "model_module": "@jupyter-widgets/controls",
      "model_module_version": "1.4.0",
      "model_name": "ButtonStyleModel",
      "state": {}
     },
     "caec8e64a77e4e5fbd5dfab207bd5ca5": {
      "model_module": "@jupyter-widgets/base",
      "model_module_version": "1.1.0",
      "model_name": "LayoutModel",
      "state": {
       "width": "auto"
      }
     },
     "cb09f3ca0217433aad12b0dc1e61eda9": {
      "model_module": "@jupyter-widgets/base",
      "model_module_version": "1.1.0",
      "model_name": "LayoutModel",
      "state": {}
     },
     "cb0b2b38fd8b458daa468b76ab81bb32": {
      "model_module": "@jupyter-widgets/controls",
      "model_module_version": "1.4.0",
      "model_name": "DescriptionStyleModel",
      "state": {
       "description_width": ""
      }
     },
     "cb4db2889069407997687f724e14098d": {
      "model_module": "@jupyter-widgets/base",
      "model_module_version": "1.1.0",
      "model_name": "LayoutModel",
      "state": {}
     },
     "cbed3ce4bed14d76973a6561e29880d6": {
      "model_module": "@jupyter-widgets/controls",
      "model_module_version": "1.4.0",
      "model_name": "DescriptionStyleModel",
      "state": {
       "description_width": ""
      }
     },
     "cbfde99bdfac4a47b8cbc45e367f402d": {
      "model_module": "@jupyter-widgets/controls",
      "model_module_version": "1.4.0",
      "model_name": "DropdownModel",
      "state": {
       "_options_labels": [
        "solid",
        "dotted",
        "dashed"
       ],
       "index": 0,
       "layout": "IPY_MODEL_d5fa4f523b6544cc904fc7cd9a91e098",
       "style": "IPY_MODEL_ac15782d743f4bb197c1c6771e9a8088"
      }
     },
     "cc0943570fe94c7e8117ff4062a376b0": {
      "model_module": "@jupyter-widgets/base",
      "model_module_version": "1.1.0",
      "model_name": "LayoutModel",
      "state": {}
     },
     "cc29da284b564743841d87ef94626735": {
      "model_module": "@jupyter-widgets/base",
      "model_module_version": "1.1.0",
      "model_name": "LayoutModel",
      "state": {}
     },
     "cc56aac958884f3cbabddc4fd2be2bd0": {
      "model_module": "@jupyter-widgets/base",
      "model_module_version": "1.1.0",
      "model_name": "LayoutModel",
      "state": {
       "height": "40px",
       "min_width": "50px",
       "width": "10%"
      }
     },
     "cc802d1e61744d2eacee0250f1163a4a": {
      "model_module": "@jupyter-widgets/controls",
      "model_module_version": "1.4.0",
      "model_name": "VBoxModel",
      "state": {
       "children": [
        "IPY_MODEL_2417dc0e063d45f2b6f8b637e03b5e63",
        "IPY_MODEL_aebffd153966482296c5004c4237a0a0",
        "IPY_MODEL_3b70221ca0794104b9acba7882148f87",
        "IPY_MODEL_3c6e94e8d1dc4f18a196052296b55e9b",
        "IPY_MODEL_15ea20e97a1c494fa7c31feac0b9f062",
        "IPY_MODEL_d7ad468e96164611b816e0f88e96493c"
       ],
       "layout": "IPY_MODEL_f6b46fb6f79f4e83bdef7663f44c89b9"
      }
     },
     "ccc20f0b8d9947b9ad2b47504f555f71": {
      "model_module": "@jupyter-widgets/base",
      "model_module_version": "1.1.0",
      "model_name": "LayoutModel",
      "state": {}
     },
     "ccc4220725be45199b9bbf142db960ae": {
      "model_module": "@jupyter-widgets/controls",
      "model_module_version": "1.4.0",
      "model_name": "HTMLModel",
      "state": {
       "layout": "IPY_MODEL_f1aa910a321a48639371ae365bc27e08",
       "style": "IPY_MODEL_493d5d21b1b644ba8f647af24f4fcabe",
       "value": "<h5>Fill out the info below to upload data to <a href='http://www.ndexbio.org/'>NDEx</a></h5>"
      }
     },
     "cd13a0c3e1004416a8ec75ad65fca384": {
      "model_module": "@jupyter-widgets/controls",
      "model_module_version": "1.4.0",
      "model_name": "ButtonModel",
      "state": {
       "button_style": "danger",
       "description": "Remove",
       "layout": "IPY_MODEL_5dc9ddaaae014c049b818eec502d1325",
       "style": "IPY_MODEL_a3a65d106cf24535bb452dc974ca629a"
      }
     },
     "cd2553eb11ee4c5fbd2a50518a7faae8": {
      "model_module": "@jupyter-widgets/controls",
      "model_module_version": "1.4.0",
      "model_name": "DescriptionStyleModel",
      "state": {
       "description_width": ""
      }
     },
     "cd31b52ae54a40ba8c403f8baf65272f": {
      "model_module": "@jupyter-widgets/base",
      "model_module_version": "1.1.0",
      "model_name": "LayoutModel",
      "state": {}
     },
     "cd53d3fb0d224cd196036944e8978356": {
      "model_module": "@jupyter-widgets/base",
      "model_module_version": "1.1.0",
      "model_name": "LayoutModel",
      "state": {}
     },
     "ce363a6704ea4563bd93d47110fe2e76": {
      "model_module": "@jupyter-widgets/controls",
      "model_module_version": "1.4.0",
      "model_name": "ToggleButtonModel",
      "state": {
       "button_style": "primary",
       "description": "Box",
       "layout": "IPY_MODEL_a62c237105b64cb29ee626bdf531efeb",
       "style": "IPY_MODEL_062bfc40f44d41d2a50042f46f62496b"
      }
     },
     "ce3743fb882843dfb17b6022ad8aebcc": {
      "model_module": "@jupyter-widgets/controls",
      "model_module_version": "1.4.0",
      "model_name": "HBoxModel",
      "state": {
       "children": [
        "IPY_MODEL_89b196e4fa5347169f8a4840a300a778",
        "IPY_MODEL_7cf77b69208d4acab0fdcc91d3eed5b5"
       ],
       "layout": "IPY_MODEL_ccc20f0b8d9947b9ad2b47504f555f71"
      }
     },
     "ce7a6479de954db19d98fd390b0dda8c": {
      "model_module": "@jupyter-widgets/base",
      "model_module_version": "1.1.0",
      "model_name": "LayoutModel",
      "state": {}
     },
     "cea7d71f404f4297a74d83de2bb2df1f": {
      "model_module": "@jupyter-widgets/base",
      "model_module_version": "1.1.0",
      "model_name": "LayoutModel",
      "state": {
       "padding": "0 15px 0 35px"
      }
     },
     "cecfbf9f2d4a411e98103f1c03e7a7dd": {
      "model_module": "@jupyter-widgets/base",
      "model_module_version": "1.1.0",
      "model_name": "LayoutModel",
      "state": {}
     },
     "cef2b61c8690453a9c7ad431fbe14d16": {
      "model_module": "@jupyter-widgets/controls",
      "model_module_version": "1.4.0",
      "model_name": "DescriptionStyleModel",
      "state": {
       "description_width": ""
      }
     },
     "cf03f09abd86489181a6476ab4278cfe": {
      "model_module": "@jupyter-widgets/controls",
      "model_module_version": "1.4.0",
      "model_name": "HTMLModel",
      "state": {
       "layout": "IPY_MODEL_17d6fd671d384dd9863a4b0c3379a76a",
       "style": "IPY_MODEL_e387db9342f246ff8c2a5ba3044d0cb6",
       "value": "<h1 class='text-center text-success' style='margin:0'>Saved!</h1>"
      }
     },
     "cfaf244d6ed7409cb8640cf3c9c665d4": {
      "model_module": "@jupyter-widgets/controls",
      "model_module_version": "1.4.0",
      "model_name": "ButtonModel",
      "state": {
       "button_style": "warning",
       "description": "Start Cytoscape!",
       "layout": "IPY_MODEL_b30e7b6da76a48dabad404181102b03a",
       "style": "IPY_MODEL_00c4cfcab5644434b54605b55fcf86e6"
      }
     },
     "d004f710103340fea1de377bb34679b8": {
      "model_module": "@jupyter-widgets/base",
      "model_module_version": "1.1.0",
      "model_name": "LayoutModel",
      "state": {
       "display": "none"
      }
     },
     "d045f6f56ea94461a83d2f518306c20a": {
      "model_module": "@jupyter-widgets/base",
      "model_module_version": "1.1.0",
      "model_name": "LayoutModel",
      "state": {}
     },
     "d07bdce0bbcb4aa383cf6a16fa9d07e6": {
      "model_module": "@jupyter-widgets/base",
      "model_module_version": "1.1.0",
      "model_name": "LayoutModel",
      "state": {
       "padding": "10px 0px 0px 0px"
      }
     },
     "d0901bc704d14e9f83d991ad1fa80543": {
      "model_module": "@jupyter-widgets/controls",
      "model_module_version": "1.4.0",
      "model_name": "FloatTextModel",
      "state": {
       "continuous_update": true,
       "layout": "IPY_MODEL_d23cfe0dede44822bbcca66dc4a14b81",
       "step": null,
       "style": "IPY_MODEL_4bf5821193c2456c9097b95bb2d84435"
      }
     },
     "d09ab7b87fec4b8a8d5df6143ca17d16": {
      "model_module": "@jupyter-widgets/base",
      "model_module_version": "1.1.0",
      "model_name": "LayoutModel",
      "state": {}
     },
     "d0a32bc8e79f43588b85de555a90b58b": {
      "model_module": "@jupyter-widgets/base",
      "model_module_version": "1.1.0",
      "model_name": "LayoutModel",
      "state": {}
     },
     "d112b2db73dc4ccfa855674a0910cc8b": {
      "model_module": "@jupyter-widgets/base",
      "model_module_version": "1.1.0",
      "model_name": "LayoutModel",
      "state": {}
     },
     "d11fb7994df342339e7e55f32b4e4a7c": {
      "model_module": "@jupyter-widgets/controls",
      "model_module_version": "1.4.0",
      "model_name": "HBoxModel",
      "state": {
       "children": [
        "IPY_MODEL_2bfbb78d9c09415a9f68d15ba20e9dd9",
        "IPY_MODEL_3720e19cb4224001a60da4f47ae89866",
        "IPY_MODEL_9738ef3549ca493589287cc04a6f095e"
       ],
       "layout": "IPY_MODEL_bcc40fee7e3c46a5bbae7dba2d23487e"
      }
     },
     "d1da71067e8344308a40db49ccdb6662": {
      "model_module": "@jupyter-widgets/controls",
      "model_module_version": "1.4.0",
      "model_name": "DescriptionStyleModel",
      "state": {
       "description_width": ""
      }
     },
     "d20243d2ce92491e8a379f5e1edec4d9": {
      "model_module": "@jupyter-widgets/controls",
      "model_module_version": "1.4.0",
      "model_name": "DescriptionStyleModel",
      "state": {
       "description_width": ""
      }
     },
     "d23cfe0dede44822bbcca66dc4a14b81": {
      "model_module": "@jupyter-widgets/base",
      "model_module_version": "1.1.0",
      "model_name": "LayoutModel",
      "state": {}
     },
     "d2cdbe3e6bf1414ca64bc93da164fa81": {
      "model_module": "@jupyter-widgets/controls",
      "model_module_version": "1.4.0",
      "model_name": "HTMLModel",
      "state": {
       "layout": "IPY_MODEL_c84ad24b8da340078efad244a19b42c7",
       "style": "IPY_MODEL_3f9ae3b43fc04a79b1593e856403d06e",
       "value": "<h3> </h3>"
      }
     },
     "d2df843167a2480fb4847d9cee02b25e": {
      "model_module": "@jupyter-widgets/base",
      "model_module_version": "1.1.0",
      "model_name": "LayoutModel",
      "state": {}
     },
     "d32e14f3088548ed811e29e42732d059": {
      "model_module": "@jupyter-widgets/controls",
      "model_module_version": "1.4.0",
      "model_name": "DescriptionStyleModel",
      "state": {
       "description_width": ""
      }
     },
     "d35b44d0eb8a40b5842d0f5a5eb052d5": {
      "model_module": "@jupyter-widgets/base",
      "model_module_version": "1.1.0",
      "model_name": "LayoutModel",
      "state": {}
     },
     "d483ab4a8f594762b22e1f72f33fb19d": {
      "model_module": "@jupyter-widgets/controls",
      "model_module_version": "1.4.0",
      "model_name": "HBoxModel",
      "state": {
       "children": [
        "IPY_MODEL_fbf01dc6eb95489b9c6cf403e0d6e102",
        "IPY_MODEL_a2223883e5524495afba6ac9e7742fdb"
       ],
       "layout": "IPY_MODEL_ef365bc1de004ac3b3fea7ce2232817c"
      }
     },
     "d4849562a8ed4f73bc6ddf2c5716cfe9": {
      "model_module": "@jupyter-widgets/base",
      "model_module_version": "1.1.0",
      "model_name": "LayoutModel",
      "state": {}
     },
     "d4b3f3ce59b44593b0eefc2bfe680107": {
      "model_module": "@jupyter-widgets/controls",
      "model_module_version": "1.4.0",
      "model_name": "ButtonModel",
      "state": {
       "button_style": "danger",
       "description": "Remove",
       "layout": "IPY_MODEL_5914f66c7c034cadb30ddfd85fc2f4a0",
       "style": "IPY_MODEL_f8a4c86fbb854c18a40e55c925748c27"
      }
     },
     "d55e9526a669475ab164d869a2f65c33": {
      "model_module": "@jupyter-widgets/controls",
      "model_module_version": "1.4.0",
      "model_name": "ButtonStyleModel",
      "state": {}
     },
     "d59965d19c7047b9860a3346030fd82e": {
      "model_module": "@jupyter-widgets/controls",
      "model_module_version": "1.4.0",
      "model_name": "HTMLModel",
      "state": {
       "layout": "IPY_MODEL_95785585862a4a5799ab46155dcc037b",
       "style": "IPY_MODEL_43d324cf00784b3eab0485b34ff111e8",
       "value": "<h5>Here you can load in a cytoscape <font color='darkKhaki'>.html</font> file. \nPut the file you want to load into the same place as this notebook, then load it in! </h5>"
      }
     },
     "d59c9a148000456aa116643cea0a2af2": {
      "model_module": "@jupyter-widgets/base",
      "model_module_version": "1.1.0",
      "model_name": "LayoutModel",
      "state": {}
     },
     "d5a6160519e346a6aa225ddde786781c": {
      "model_module": "@jupyter-widgets/controls",
      "model_module_version": "1.4.0",
      "model_name": "HBoxModel",
      "state": {
       "children": [
        "IPY_MODEL_8a62cdac247d4d5697e82128d3ea789b",
        "IPY_MODEL_7a37269e7b7f402381efb33d3b4824d1"
       ],
       "layout": "IPY_MODEL_bcf9b14ed91843fb99080caf826a562b"
      }
     },
     "d5ae6ec5a5c44a0c8d4349f8bc1aa181": {
      "model_module": "@jupyter-widgets/base",
      "model_module_version": "1.1.0",
      "model_name": "LayoutModel",
      "state": {}
     },
     "d5b4bf5b66954d36879f2c01b42e4982": {
      "model_module": "@jupyter-widgets/base",
      "model_module_version": "1.1.0",
      "model_name": "LayoutModel",
      "state": {}
     },
     "d5ccafedf49d4af9be1ac8f2c2dd8496": {
      "model_module": "@jupyter-widgets/base",
      "model_module_version": "1.1.0",
      "model_name": "LayoutModel",
      "state": {}
     },
     "d5fa4f523b6544cc904fc7cd9a91e098": {
      "model_module": "@jupyter-widgets/base",
      "model_module_version": "1.1.0",
      "model_name": "LayoutModel",
      "state": {}
     },
     "d6042313a5ce4b939b1c6a6f7feecfbd": {
      "model_module": "@jupyter-widgets/controls",
      "model_module_version": "1.4.0",
      "model_name": "DescriptionStyleModel",
      "state": {
       "description_width": ""
      }
     },
     "d679e7bc53914dbda75ac35e97685316": {
      "model_module": "@jupyter-widgets/controls",
      "model_module_version": "1.4.0",
      "model_name": "DescriptionStyleModel",
      "state": {
       "description_width": ""
      }
     },
     "d6c3c565a80e40859b7372d974713169": {
      "model_module": "@jupyter-widgets/controls",
      "model_module_version": "1.4.0",
      "model_name": "SelectModel",
      "state": {
       "_options_labels": [
        "Node",
        "Edge"
       ],
       "index": 1,
       "layout": "IPY_MODEL_ac6e4ce44b064465aef12710b5e605c4",
       "style": "IPY_MODEL_355d3e27315043948cdd6b87158b0c1b"
      }
     },
     "d6caabf0a28f4e0d9aab70433c49f60f": {
      "model_module": "@jupyter-widgets/controls",
      "model_module_version": "1.4.0",
      "model_name": "DescriptionStyleModel",
      "state": {
       "description_width": ""
      }
     },
     "d7186bc1badf419ea6c20bd40f110349": {
      "model_module": "@jupyter-widgets/controls",
      "model_module_version": "1.4.0",
      "model_name": "HBoxModel",
      "state": {
       "children": [
        "IPY_MODEL_eabf6dcd68674700b6bbeff9e9ceb031",
        "IPY_MODEL_2bcaec18a9084f36aa8a80119e8d55c7"
       ],
       "layout": "IPY_MODEL_6d1130bb87404dc7b3d57d0760e87f2a"
      }
     },
     "d752d0d5ef694822842f2098ff9d3cb8": {
      "model_module": "@jupyter-widgets/controls",
      "model_module_version": "1.4.0",
      "model_name": "TextModel",
      "state": {
       "layout": "IPY_MODEL_5a5fdd33d67446be8b04f68589c0860b",
       "placeholder": "Variable Name:",
       "style": "IPY_MODEL_24c5bd06821e4a9a9d2046bd8d0245a7",
       "value": "shared_interaction"
      }
     },
     "d79e7083634742f3ae4e94dae47209a8": {
      "model_module": "@jupyter-widgets/controls",
      "model_module_version": "1.4.0",
      "model_name": "HBoxModel",
      "state": {
       "children": [
        "IPY_MODEL_37e2960ef21a4369a8afe0202992144a",
        "IPY_MODEL_7bb5636277764b27a0ff70a12d51e577"
       ],
       "layout": "IPY_MODEL_3811cd12e9c444049620c95252ca0486"
      }
     },
     "d7ad468e96164611b816e0f88e96493c": {
      "model_module": "@jupyter-widgets/controls",
      "model_module_version": "1.4.0",
      "model_name": "HTMLModel",
      "state": {
       "layout": "IPY_MODEL_c70a712599df4371b3f1dd1cc0e37949",
       "style": "IPY_MODEL_ad5bd7ee684643798560459a63f4e66b",
       "value": "<h1 class='text-center text-success' style='margin:0'>Saved!</h1>"
      }
     },
     "d7d0872f527a404595ca05e64df00e0b": {
      "model_module": "@jupyter-widgets/controls",
      "model_module_version": "1.4.0",
      "model_name": "HBoxModel",
      "state": {
       "children": [
        "IPY_MODEL_07bc058545d74e03958f2d8a57f1af5c",
        "IPY_MODEL_6262cbfa6f674dc596638b73b5af505b",
        "IPY_MODEL_9d07eb3fc96b4d15ac1413390de6b64d",
        "IPY_MODEL_2eefbf4c381a40468f1022082440272f"
       ],
       "layout": "IPY_MODEL_e9cc2f97c0d24a01ac893ea6ecb632d1"
      }
     },
     "d7d96478a2ac4ca7b1cc98dc254c469e": {
      "model_module": "@jupyter-widgets/controls",
      "model_module_version": "1.4.0",
      "model_name": "FloatTextModel",
      "state": {
       "continuous_update": true,
       "layout": "IPY_MODEL_9ef9321740cc44e3b8f6820b4c4d737a",
       "step": null,
       "style": "IPY_MODEL_4afe7a9dd5ab4dd182d50e118c7fa412"
      }
     },
     "d8921b67d5e84525abc85455dea39093": {
      "model_module": "@jupyter-widgets/base",
      "model_module_version": "1.1.0",
      "model_name": "LayoutModel",
      "state": {}
     },
     "d8b5141d247545bc92ea14372d53dc69": {
      "model_module": "@jupyter-widgets/base",
      "model_module_version": "1.1.0",
      "model_name": "LayoutModel",
      "state": {}
     },
     "d9154e705fb74a1ca03d2e2cadbbe351": {
      "model_module": "@jupyter-widgets/controls",
      "model_module_version": "1.4.0",
      "model_name": "DescriptionStyleModel",
      "state": {
       "description_width": ""
      }
     },
     "d9571d1fa5604d40936a85cf2309cf46": {
      "model_module": "@jupyter-widgets/base",
      "model_module_version": "1.1.0",
      "model_name": "LayoutModel",
      "state": {}
     },
     "d9916c17bd11453591a95d1942f0f7d7": {
      "model_module": "@jupyter-widgets/controls",
      "model_module_version": "1.4.0",
      "model_name": "DescriptionStyleModel",
      "state": {
       "description_width": ""
      }
     },
     "d9a189c317ed40e1aa18b59ffc40ae74": {
      "model_module": "@jupyter-widgets/controls",
      "model_module_version": "1.4.0",
      "model_name": "DescriptionStyleModel",
      "state": {
       "description_width": ""
      }
     },
     "d9d8b38c2af54801be22683e88a4d512": {
      "model_module": "@jupyter-widgets/base",
      "model_module_version": "1.1.0",
      "model_name": "LayoutModel",
      "state": {
       "justify_content": "center",
       "padding": "10px 0px 0px 0px"
      }
     },
     "da1c51cce6234979bc6ee4a50819b85a": {
      "model_module": "@jupyter-widgets/controls",
      "model_module_version": "1.4.0",
      "model_name": "HBoxModel",
      "state": {
       "children": [
        "IPY_MODEL_4f4703039d6b4b8099026edba3f355c3",
        "IPY_MODEL_feed72c1e7d44ccea1cb99551188b0ea",
        "IPY_MODEL_84ac41d7b6614601a3a627ce46bcfa0d"
       ],
       "layout": "IPY_MODEL_7613382a663e48c0b9468788b317d3c4"
      }
     },
     "da1cd149259d4bf6885a5e10c665cbb2": {
      "model_module": "@jupyter-widgets/base",
      "model_module_version": "1.1.0",
      "model_name": "LayoutModel",
      "state": {}
     },
     "da38f907cf844d4ab09b03e9ed656862": {
      "model_module": "@jupyter-widgets/base",
      "model_module_version": "1.1.0",
      "model_name": "LayoutModel",
      "state": {}
     },
     "db3409eac6fc422abba75f4f85e748dd": {
      "model_module": "@jupyter-widgets/controls",
      "model_module_version": "1.4.0",
      "model_name": "DescriptionStyleModel",
      "state": {
       "description_width": ""
      }
     },
     "db413284ecfd426e8ab076b27bb25302": {
      "model_module": "@jupyter-widgets/controls",
      "model_module_version": "1.4.0",
      "model_name": "DescriptionStyleModel",
      "state": {
       "description_width": ""
      }
     },
     "dba93021b8f14812baf5f4bb4615b0b2": {
      "model_module": "@jupyter-widgets/controls",
      "model_module_version": "1.4.0",
      "model_name": "DescriptionStyleModel",
      "state": {
       "description_width": ""
      }
     },
     "dbc756f4c21e4dffb959628432f81364": {
      "model_module": "@jupyter-widgets/controls",
      "model_module_version": "1.4.0",
      "model_name": "DescriptionStyleModel",
      "state": {
       "description_width": ""
      }
     },
     "dc07080d0e5349e6a6f86f1e6d012654": {
      "model_module": "@jupyter-widgets/controls",
      "model_module_version": "1.4.0",
      "model_name": "HTMLModel",
      "state": {
       "layout": "IPY_MODEL_74297dacf5334c10a3d8fd93440f3fa8",
       "style": "IPY_MODEL_d1da71067e8344308a40db49ccdb6662",
       "value": "<font size=3 style='justify-content: center;'>name : </font>"
      }
     },
     "dc5d7539691f443dabd296bc897b2309": {
      "model_module": "@jupyter-widgets/base",
      "model_module_version": "1.1.0",
      "model_name": "LayoutModel",
      "state": {}
     },
     "dca9f555b90049f58febcf618a954358": {
      "model_module": "@jupyter-widgets/controls",
      "model_module_version": "1.4.0",
      "model_name": "HTMLModel",
      "state": {
       "layout": "IPY_MODEL_78c0246e9e5743fd904598d1b974a9fb",
       "style": "IPY_MODEL_ad144a24b49348739fd7b4659c3a548d",
       "value": "<font size=3 style='justify-content: center;'>shared_interaction : </font>"
      }
     },
     "dcb11751a4c94fb0bcb5949fa26c25b1": {
      "model_module": "@jupyter-widgets/controls",
      "model_module_version": "1.4.0",
      "model_name": "DescriptionStyleModel",
      "state": {
       "description_width": ""
      }
     },
     "dcd006a47b294b788ea44551e818d6d7": {
      "model_module": "@jupyter-widgets/controls",
      "model_module_version": "1.4.0",
      "model_name": "LabelModel",
      "state": {
       "layout": "IPY_MODEL_3f10229ae7014a09b60d6a88de314b7c",
       "style": "IPY_MODEL_62752dd476dd4b60b53bfdfb010981d0",
       "value": "Behind/In-Front :"
      }
     },
     "dce98eaa029b479da1ab9cbd9a15b178": {
      "model_module": "@jupyter-widgets/controls",
      "model_module_version": "1.4.0",
      "model_name": "VBoxModel",
      "state": {
       "children": [
        "IPY_MODEL_fd642b177625470aafee86ab6dc25fa5",
        "IPY_MODEL_e281dc1996b549b98c091947a5b8094d",
        "IPY_MODEL_6dc969e9e2ed42479fa6804656a8cdc9",
        "IPY_MODEL_996a95e7206a4f81952030af25306fb3",
        "IPY_MODEL_5dd37899c1c14b14828e90fe9f8c73f1",
        "IPY_MODEL_20c931c3ef23498696aa3af5aaf98351",
        "IPY_MODEL_da1c51cce6234979bc6ee4a50819b85a",
        "IPY_MODEL_e93ce1f222db4017b567c4e3ba9ffdfa",
        "IPY_MODEL_5e19cfcf86004dc390233544ff5c140c",
        "IPY_MODEL_b18306c041eb4a2f9bcd6d59264628fe",
        "IPY_MODEL_00fe99d26492479e8a6d1ebee07cd594"
       ],
       "layout": "IPY_MODEL_18e0a1c0644a46019b9d5deda8ac88ba"
      }
     },
     "dd60214556ef473f86a20840134143a9": {
      "model_module": "@jupyter-widgets/base",
      "model_module_version": "1.1.0",
      "model_name": "LayoutModel",
      "state": {}
     },
     "dd6ef75c146d4d5cbaabf3c84aa6e9ae": {
      "model_module": "@jupyter-widgets/controls",
      "model_module_version": "1.4.0",
      "model_name": "HTMLModel",
      "state": {
       "layout": "IPY_MODEL_388061a3f2894389907ee9652305b57a",
       "style": "IPY_MODEL_62340110cdef46009b0f36f9d8748615",
       "value": "<b><p>Variable &nbsp </p> </b>"
      }
     },
     "ddb477dfeaf74d6a815c41ef5a2b97ab": {
      "model_module": "@jupyter-widgets/controls",
      "model_module_version": "1.4.0",
      "model_name": "DescriptionStyleModel",
      "state": {
       "description_width": ""
      }
     },
     "ddba37be015f4d8bb9ba870fbf03bcb6": {
      "model_module": "@jupyter-widgets/controls",
      "model_module_version": "1.4.0",
      "model_name": "DescriptionStyleModel",
      "state": {
       "description_width": ""
      }
     },
     "de584f7ab9c8476a956a908b97b7fca1": {
      "model_module": "@jupyter-widgets/base",
      "model_module_version": "1.1.0",
      "model_name": "LayoutModel",
      "state": {}
     },
     "debadb77b3a545c49037d3415c2569ee": {
      "model_module": "@jupyter-widgets/controls",
      "model_module_version": "1.4.0",
      "model_name": "DescriptionStyleModel",
      "state": {
       "description_width": ""
      }
     },
     "df4b1fcf6e62433fa57517ecc9091e80": {
      "model_module": "@jupyter-widgets/controls",
      "model_module_version": "1.4.0",
      "model_name": "HBoxModel",
      "state": {
       "children": [
        "IPY_MODEL_152e3c094cb249168bce3d06b6f3d7e6",
        "IPY_MODEL_28da32d071654bbcaccedc027ef99be8",
        "IPY_MODEL_64afadaf758d44e98ae98dbb8ef1fc4f",
        "IPY_MODEL_77efbd263455412184b3cd2e28b262f2"
       ],
       "layout": "IPY_MODEL_f52e9fbb9db04ea59a1f6799896734bf"
      }
     },
     "dfafa9c34d0a4d7fa0d8930c41604561": {
      "model_module": "@jupyter-widgets/base",
      "model_module_version": "1.1.0",
      "model_name": "LayoutModel",
      "state": {}
     },
     "dfd26580ea1e476b841e64a6c81ff559": {
      "model_module": "@jupyter-widgets/controls",
      "model_module_version": "1.4.0",
      "model_name": "HBoxModel",
      "state": {
       "children": [
        "IPY_MODEL_b1600113dfee4b87a4e2f5914dd01fd1",
        "IPY_MODEL_79534f4d621a4853b678107c453a39f8"
       ],
       "layout": "IPY_MODEL_7d7f5d21971b412792f660eb671ac374"
      }
     },
     "e03e1a1489524045b8ff6b194c5e3ccd": {
      "model_module": "@jupyter-widgets/controls",
      "model_module_version": "1.4.0",
      "model_name": "ButtonModel",
      "state": {
       "button_style": "danger",
       "description": "Remove",
       "layout": "IPY_MODEL_77f4dbc48e5e44449d34b85da622aa9d",
       "style": "IPY_MODEL_493c78271afe4593a2a2e5afbf56227e"
      }
     },
     "e0876d23e83f4750943d251a89eb4374": {
      "model_module": "@jupyter-widgets/base",
      "model_module_version": "1.1.0",
      "model_name": "LayoutModel",
      "state": {}
     },
     "e0cc3715abf94037b8da42f6937bcbe3": {
      "model_module": "@jupyter-widgets/base",
      "model_module_version": "1.1.0",
      "model_name": "LayoutModel",
      "state": {
       "justify_content": "center",
       "margin": "0 0 15px 0"
      }
     },
     "e0f9b5b181744b3d9e1e9ab13a1f987d": {
      "model_module": "@jupyter-widgets/controls",
      "model_module_version": "1.4.0",
      "model_name": "TextModel",
      "state": {
       "layout": "IPY_MODEL_4cdc9cd583d842e28cabb0e22d3e9a29",
       "style": "IPY_MODEL_5814ebac2a35477b951dcfd07b7a65d0"
      }
     },
     "e17e2b9934924c27b7ffe15910ee512c": {
      "model_module": "@jupyter-widgets/controls",
      "model_module_version": "1.4.0",
      "model_name": "ButtonStyleModel",
      "state": {}
     },
     "e1b4c1b37fc04a64b48e0fb24ae51633": {
      "model_module": "@jupyter-widgets/controls",
      "model_module_version": "1.4.0",
      "model_name": "HBoxModel",
      "state": {
       "children": [
        "IPY_MODEL_fe9df343ddde450fa21f89fadb3f95d0"
       ],
       "layout": "IPY_MODEL_d9d8b38c2af54801be22683e88a4d512"
      }
     },
     "e1e9e60e02204ba38d9fbcf6e72acc47": {
      "model_module": "@jupyter-widgets/base",
      "model_module_version": "1.1.0",
      "model_name": "LayoutModel",
      "state": {
       "align_items": "center"
      }
     },
     "e23ae54edc7049a39901a7617367fced": {
      "model_module": "@jupyter-widgets/controls",
      "model_module_version": "1.4.0",
      "model_name": "VBoxModel",
      "state": {
       "children": [
        "IPY_MODEL_247bc28df8b140a6befa95c0e5464039",
        "IPY_MODEL_581bd6e6f02d407fae54da3263d076da"
       ],
       "layout": "IPY_MODEL_003bc36e78724f08979a90f279be0448"
      }
     },
     "e281dc1996b549b98c091947a5b8094d": {
      "model_module": "@jupyter-widgets/controls",
      "model_module_version": "1.4.0",
      "model_name": "HBoxModel",
      "state": {
       "children": [
        "IPY_MODEL_e77e7edab23442c1a36f64ea51a613e1",
        "IPY_MODEL_a26073db78804f589a719a959418555e"
       ],
       "layout": "IPY_MODEL_f1e6be5a4c044eb9bd0328cfa9d12cce"
      }
     },
     "e293540df66f4c0d8cec9187d5433df4": {
      "model_module": "@jupyter-widgets/controls",
      "model_module_version": "1.4.0",
      "model_name": "DescriptionStyleModel",
      "state": {
       "description_width": ""
      }
     },
     "e387db9342f246ff8c2a5ba3044d0cb6": {
      "model_module": "@jupyter-widgets/controls",
      "model_module_version": "1.4.0",
      "model_name": "DescriptionStyleModel",
      "state": {
       "description_width": ""
      }
     },
     "e3ca60db1dc343d9935fe3351082613a": {
      "model_module": "@jupyter-widgets/controls",
      "model_module_version": "1.4.0",
      "model_name": "ButtonStyleModel",
      "state": {}
     },
     "e47dc116881144e99bad6ab0647d4c15": {
      "model_module": "@jupyter-widgets/controls",
      "model_module_version": "1.4.0",
      "model_name": "HTMLModel",
      "state": {
       "layout": "IPY_MODEL_cb09f3ca0217433aad12b0dc1e61eda9",
       "style": "IPY_MODEL_db3409eac6fc422abba75f4f85e748dd",
       "value": "<h5>Variable   &nbsp</h5> "
      }
     },
     "e4af7bfce41446a7b871796aab1cd950": {
      "model_module": "@jupyter-widgets/controls",
      "model_module_version": "1.4.0",
      "model_name": "HTMLModel",
      "state": {
       "layout": "IPY_MODEL_da38f907cf844d4ab09b03e9ed656862",
       "style": "IPY_MODEL_9f8cc300626e4b57b5002657b68c96ee",
       "value": "<font size=3 style='justify-content: center;'>interaction : </font>"
      }
     },
     "e4b9ed2c673d43afbcece96371c884d6": {
      "model_module": "@jupyter-widgets/controls",
      "model_module_version": "1.4.0",
      "model_name": "ButtonModel",
      "state": {
       "button_style": "success",
       "description": "Upload",
       "layout": "IPY_MODEL_d09ab7b87fec4b8a8d5df6143ca17d16",
       "style": "IPY_MODEL_5b60a504ccb84e389c5fee9acf87d4fe"
      }
     },
     "e52619b344c54c209e6a300c33016bd2": {
      "model_module": "@jupyter-widgets/base",
      "model_module_version": "1.1.0",
      "model_name": "LayoutModel",
      "state": {
       "margin": "0px 0px 0px 5px",
       "min_width": "30px"
      }
     },
     "e52abcbac0384a06a4dff438d8da3649": {
      "model_module": "@jupyter-widgets/controls",
      "model_module_version": "1.4.0",
      "model_name": "HTMLModel",
      "state": {
       "layout": "IPY_MODEL_d8b5141d247545bc92ea14372d53dc69",
       "style": "IPY_MODEL_847bfe0f8a154e4b9e0eb579f630796c",
       "value": "<font size=3 style='justify-content: center;'>SelfLoops : </font>"
      }
     },
     "e59ce5d6c82940ce97602b2a02c2e986": {
      "model_module": "@jupyter-widgets/base",
      "model_module_version": "1.1.0",
      "model_name": "LayoutModel",
      "state": {}
     },
     "e639d0f9e3f64c7c8cfd260d391527bd": {
      "model_module": "@jupyter-widgets/controls",
      "model_module_version": "1.4.0",
      "model_name": "ButtonModel",
      "state": {
       "button_style": "danger",
       "description": "Remove",
       "layout": "IPY_MODEL_beca5e3a841d4fd1aa5bf323cb5b5b91",
       "style": "IPY_MODEL_f2f7a5e2da264f90b3bec95b9d30ca0e"
      }
     },
     "e6898146606a455a8d464741845d9474": {
      "model_module": "@jupyter-widgets/base",
      "model_module_version": "1.1.0",
      "model_name": "LayoutModel",
      "state": {}
     },
     "e6b0f7c74a154e49bc178fd8fb83716d": {
      "model_module": "@jupyter-widgets/controls",
      "model_module_version": "1.4.0",
      "model_name": "DescriptionStyleModel",
      "state": {
       "description_width": ""
      }
     },
     "e70706a2b6af46e1bdbf9a1f049bb44c": {
      "model_module": "@jupyter-widgets/controls",
      "model_module_version": "1.4.0",
      "model_name": "HTMLModel",
      "state": {
       "layout": "IPY_MODEL_f7af6fe04c264b43ba6c16ed6d7bbfda",
       "style": "IPY_MODEL_783cccf8b4624f5985e3a98bac2e5526",
       "value": "<font size=3 style='justify-content: center;'>width : </font>"
      }
     },
     "e72a1f8a71bd49099e478d5d65d15c3d": {
      "model_module": "@jupyter-widgets/controls",
      "model_module_version": "1.4.0",
      "model_name": "DescriptionStyleModel",
      "state": {
       "description_width": ""
      }
     },
     "e735e692acbb4137885622cb5f99374d": {
      "model_module": "@jupyter-widgets/base",
      "model_module_version": "1.1.0",
      "model_name": "LayoutModel",
      "state": {
       "width": "auto"
      }
     },
     "e75e01fa32214972877d459b77299bc4": {
      "model_module": "@jupyter-widgets/controls",
      "model_module_version": "1.4.0",
      "model_name": "SelectModel",
      "state": {
       "_options_labels": [
        "Node",
        "Edge"
       ],
       "index": 0,
       "layout": "IPY_MODEL_fd7857771c0a48b3b85706cfdc97ad9f",
       "style": "IPY_MODEL_0bf6db8118674009af5017b1bdd629b6"
      }
     },
     "e75ead6dbfa44f7894a07f3dd3c93e41": {
      "model_module": "@jupyter-widgets/base",
      "model_module_version": "1.1.0",
      "model_name": "LayoutModel",
      "state": {}
     },
     "e7725c1807754e23b468000aade83a57": {
      "model_module": "@jupyter-widgets/base",
      "model_module_version": "1.1.0",
      "model_name": "LayoutModel",
      "state": {}
     },
     "e77d0245da4f4bebbb694c3cb04be67b": {
      "model_module": "@jupyter-widgets/base",
      "model_module_version": "1.1.0",
      "model_name": "LayoutModel",
      "state": {}
     },
     "e77e7edab23442c1a36f64ea51a613e1": {
      "model_module": "@jupyter-widgets/controls",
      "model_module_version": "1.4.0",
      "model_name": "LabelModel",
      "state": {
       "layout": "IPY_MODEL_5962087095cb4bfd8dadf35771853a25",
       "style": "IPY_MODEL_ead16b5a57994407a2f4fffbaac573db",
       "value": "Size :"
      }
     },
     "e7c01e00985b424a96c6c19d0bdfb5d7": {
      "model_module": "@jupyter-widgets/controls",
      "model_module_version": "1.4.0",
      "model_name": "ButtonModel",
      "state": {
       "button_style": "danger",
       "description": "Remove",
       "layout": "IPY_MODEL_0dfa2cc678c74e1da1a4a7ed2392e43e",
       "style": "IPY_MODEL_c33d5c92bbdb486da043446648db6456"
      }
     },
     "e7c727c49b08479a9bc708063592854e": {
      "model_module": "@jupyter-widgets/controls",
      "model_module_version": "1.4.0",
      "model_name": "ColorPickerModel",
      "state": {
       "disabled": false,
       "layout": "IPY_MODEL_e59ce5d6c82940ce97602b2a02c2e986",
       "style": "IPY_MODEL_98cedbe3fd5e423eab3c8c8574d96746",
       "value": "red"
      }
     },
     "e7e66bc8c749407bb9597e599d9c4651": {
      "model_module": "@jupyter-widgets/controls",
      "model_module_version": "1.4.0",
      "model_name": "ButtonModel",
      "state": {
       "button_style": "danger",
       "description": "Remove",
       "layout": "IPY_MODEL_9c2856e4a6d4440a949572e79394f6b0",
       "style": "IPY_MODEL_4f0dfcf07aef49fab8c8386d2062233a"
      }
     },
     "e8aff4d09f174003bdd6bf881908f873": {
      "model_module": "@jupyter-widgets/controls",
      "model_module_version": "1.4.0",
      "model_name": "ColorPickerModel",
      "state": {
       "disabled": false,
       "layout": "IPY_MODEL_d8921b67d5e84525abc85455dea39093",
       "style": "IPY_MODEL_ddba37be015f4d8bb9ba870fbf03bcb6"
      }
     },
     "e8fda977ecf743ed9c5992b6453baa8b": {
      "model_module": "@jupyter-widgets/controls",
      "model_module_version": "1.4.0",
      "model_name": "HBoxModel",
      "state": {
       "children": [
        "IPY_MODEL_1cfe977d91d3460db63880865539cf9c",
        "IPY_MODEL_c5b7667ee366413587e104483bacd107",
        "IPY_MODEL_d4b3f3ce59b44593b0eefc2bfe680107"
       ],
       "layout": "IPY_MODEL_24424283fd3b47db8b706ef154810451"
      }
     },
     "e925ac64df4e4ceb80cff3154dd8b524": {
      "model_module": "@jupyter-widgets/controls",
      "model_module_version": "1.4.0",
      "model_name": "DescriptionStyleModel",
      "state": {
       "description_width": ""
      }
     },
     "e93ce1f222db4017b567c4e3ba9ffdfa": {
      "model_module": "@jupyter-widgets/controls",
      "model_module_version": "1.4.0",
      "model_name": "HTMLModel",
      "state": {
       "layout": "IPY_MODEL_4dd50e7f357a4471bf0f783e3122ef8e",
       "style": "IPY_MODEL_b76ab58dd5244d1d85b1c0d9b41f878c",
       "value": "<h4 style='color:purple'>Edge :</h4>"
      }
     },
     "e9624d403e644566a4fa61e273b2c796": {
      "model_module": "@jupyter-widgets/base",
      "model_module_version": "1.1.0",
      "model_name": "LayoutModel",
      "state": {}
     },
     "e99c81b5a16f4e80bd8e9c7ed518d750": {
      "model_module": "@jupyter-widgets/controls",
      "model_module_version": "1.4.0",
      "model_name": "DescriptionStyleModel",
      "state": {
       "description_width": ""
      }
     },
     "e9cc2f97c0d24a01ac893ea6ecb632d1": {
      "model_module": "@jupyter-widgets/base",
      "model_module_version": "1.1.0",
      "model_name": "LayoutModel",
      "state": {
       "align_items": "center"
      }
     },
     "e9cff404559b4536b31a194e948627b9": {
      "model_module": "@jupyter-widgets/base",
      "model_module_version": "1.1.0",
      "model_name": "LayoutModel",
      "state": {
       "min_width": "30px"
      }
     },
     "ea079ad8f4ff4b82993c037afc9b05f8": {
      "model_module": "@jupyter-widgets/controls",
      "model_module_version": "1.4.0",
      "model_name": "DescriptionStyleModel",
      "state": {
       "description_width": ""
      }
     },
     "ea0f965cb0fb4288a630f37c5dac7825": {
      "model_module": "@jupyter-widgets/controls",
      "model_module_version": "1.4.0",
      "model_name": "HTMLModel",
      "state": {
       "layout": "IPY_MODEL_7614da2dbe4f4ce0ae64a609127f7888",
       "style": "IPY_MODEL_dcb11751a4c94fb0bcb5949fa26c25b1",
       "value": "<font size=3 style='justify-content: center;'>Outdegree : </font>"
      }
     },
     "eabf6dcd68674700b6bbeff9e9ceb031": {
      "model_module": "@jupyter-widgets/controls",
      "model_module_version": "1.4.0",
      "model_name": "LabelModel",
      "state": {
       "layout": "IPY_MODEL_1f9942bfd22b4f8e856610a496541fb4",
       "style": "IPY_MODEL_77263db6075d45819da6e0340b912392",
       "value": "Behind/In-Front :"
      }
     },
     "eabfd7aeeb7f48819cc00893e9efb0b9": {
      "model_module": "@jupyter-widgets/controls",
      "model_module_version": "1.4.0",
      "model_name": "DescriptionStyleModel",
      "state": {
       "description_width": ""
      }
     },
     "ead16b5a57994407a2f4fffbaac573db": {
      "model_module": "@jupyter-widgets/controls",
      "model_module_version": "1.4.0",
      "model_name": "DescriptionStyleModel",
      "state": {
       "description_width": ""
      }
     },
     "ead6ae48670743d3865957736b01bb1d": {
      "model_module": "@jupyter-widgets/controls",
      "model_module_version": "1.4.0",
      "model_name": "VBoxModel",
      "state": {
       "children": [
        "IPY_MODEL_6ccd241cf78248d5bf6c239f905d3cd5",
        "IPY_MODEL_cc802d1e61744d2eacee0250f1163a4a",
        "IPY_MODEL_0b85027eb3a54ebcb043518d125bb2d8"
       ],
       "layout": "IPY_MODEL_aef5dab366e4437984a1170f46a7ea5d"
      }
     },
     "eb33ee5f2abf4c56bec24b7f5ccda8d3": {
      "model_module": "@jupyter-widgets/controls",
      "model_module_version": "1.4.0",
      "model_name": "ButtonStyleModel",
      "state": {}
     },
     "eb6c1215857a4663acf968593ca321ac": {
      "model_module": "@jupyter-widgets/base",
      "model_module_version": "1.1.0",
      "model_name": "LayoutModel",
      "state": {}
     },
     "eb76cb041e8a4b22b239033f8c19496e": {
      "model_module": "@jupyter-widgets/controls",
      "model_module_version": "1.4.0",
      "model_name": "TextModel",
      "state": {
       "layout": "IPY_MODEL_d35b44d0eb8a40b5842d0f5a5eb052d5",
       "style": "IPY_MODEL_680ca8d1984743ae83444aae90034d27"
      }
     },
     "eb891c226b0549d0a91015fcada07ccd": {
      "model_module": "@jupyter-widgets/controls",
      "model_module_version": "1.4.0",
      "model_name": "SliderStyleModel",
      "state": {
       "description_width": ""
      }
     },
     "ebcd9296349247a987738ec4bdbffc1d": {
      "model_module": "@jupyter-widgets/base",
      "model_module_version": "1.1.0",
      "model_name": "LayoutModel",
      "state": {
       "visibility": "hidden"
      }
     },
     "ebde3916b7d1486da463d79451cfb163": {
      "model_module": "@jupyter-widgets/base",
      "model_module_version": "1.1.0",
      "model_name": "LayoutModel",
      "state": {}
     },
     "ebe888cd289445adbc2ff3b1ad35cea0": {
      "model_module": "@jupyter-widgets/controls",
      "model_module_version": "1.4.0",
      "model_name": "ButtonModel",
      "state": {
       "button_style": "danger",
       "description": "Remove",
       "layout": "IPY_MODEL_bc20a52758d84887ab7a27c4cfb0c925",
       "style": "IPY_MODEL_67ddddd8bddb405cabdd368d749a2263"
      }
     },
     "ebfa10635b224cb38b8650191b2eca3a": {
      "model_module": "@jupyter-widgets/controls",
      "model_module_version": "1.4.0",
      "model_name": "ButtonModel",
      "state": {
       "button_style": "success",
       "description": "Save",
       "layout": "IPY_MODEL_1c5b1c7f962d4311be1f8a0a3ee87233",
       "style": "IPY_MODEL_f903e01d26ae49a59f0d496670e1125f"
      }
     },
     "ec646e90dbe8489b81a4bce4d0876382": {
      "model_module": "@jupyter-widgets/controls",
      "model_module_version": "1.4.0",
      "model_name": "HTMLModel",
      "state": {
       "layout": "IPY_MODEL_7fac0431868c45479d0a00329cfba94a",
       "style": "IPY_MODEL_2c378ac42e4a4ec3895825ab1778d487",
       "value": "<b><p><a href='http://js.cytoscape.org/#selectors'>Search:</a></p></b>"
      }
     },
     "eccf231aa06e4bed91a9589cd5959390": {
      "model_module": "@jupyter-widgets/base",
      "model_module_version": "1.1.0",
      "model_name": "LayoutModel",
      "state": {
       "width": "auto"
      }
     },
     "ecf1f6ab433d4c7ba371d1870bea9d92": {
      "model_module": "@jupyter-widgets/controls",
      "model_module_version": "1.4.0",
      "model_name": "HTMLModel",
      "state": {
       "layout": "IPY_MODEL_ebcd9296349247a987738ec4bdbffc1d",
       "style": "IPY_MODEL_4cad4f5a80c145818e340479fb96d001",
       "value": "<h3 class='text-center' style='color:red'>Error in Dataframe</h3>"
      }
     },
     "ed332a0c6d45491aab12a056353e664c": {
      "model_module": "@jupyter-widgets/controls",
      "model_module_version": "1.4.0",
      "model_name": "HBoxModel",
      "state": {
       "children": [
        "IPY_MODEL_5a3f7e7a8022465d8b392aa5756f0147",
        "IPY_MODEL_16ca250b8a3b4e6f968dd86f13b0e7e2",
        "IPY_MODEL_f5fb2ef0a85e473bab39297e8eced6a0"
       ],
       "layout": "IPY_MODEL_48e6eb1f02f4418f8e5b52b2056e961a"
      }
     },
     "ed90a6fee00443158b04be1cef9d9346": {
      "model_module": "@jupyter-widgets/base",
      "model_module_version": "1.1.0",
      "model_name": "LayoutModel",
      "state": {}
     },
     "eda2805a4bda4a58950a3b17974de6ce": {
      "model_module": "@jupyter-widgets/controls",
      "model_module_version": "1.4.0",
      "model_name": "DescriptionStyleModel",
      "state": {
       "description_width": ""
      }
     },
     "ee2ec9d893164d73a723c7e059103604": {
      "model_module": "@jupyter-widgets/base",
      "model_module_version": "1.1.0",
      "model_name": "LayoutModel",
      "state": {}
     },
     "ee3367e304b046a0b2cd00f1126ee2ef": {
      "model_module": "@jupyter-widgets/base",
      "model_module_version": "1.1.0",
      "model_name": "LayoutModel",
      "state": {
       "display": "none"
      }
     },
     "ee63011da1454ce4a92e88eda3f747da": {
      "model_module": "@jupyter-widgets/base",
      "model_module_version": "1.1.0",
      "model_name": "LayoutModel",
      "state": {}
     },
     "ee682827d77c4b8087075ee339db1f1f": {
      "model_module": "@jupyter-widgets/controls",
      "model_module_version": "1.4.0",
      "model_name": "HBoxModel",
      "state": {
       "children": [
        "IPY_MODEL_e70706a2b6af46e1bdbf9a1f049bb44c",
        "IPY_MODEL_3b5158a80c6a428cbbf0e343bcfad2e2",
        "IPY_MODEL_07a9bec44ea2497ab580b0b8c946fb75"
       ],
       "layout": "IPY_MODEL_ce7a6479de954db19d98fd390b0dda8c"
      }
     },
     "eee0cf6d3a9c4bda8d489495a7da542e": {
      "model_module": "@jupyter-widgets/base",
      "model_module_version": "1.1.0",
      "model_name": "LayoutModel",
      "state": {
       "padding": "10px 0px 0px 0px"
      }
     },
     "ef365bc1de004ac3b3fea7ce2232817c": {
      "model_module": "@jupyter-widgets/base",
      "model_module_version": "1.1.0",
      "model_name": "LayoutModel",
      "state": {}
     },
     "ef71c9fb9210463cb2c0d0b64ab6b8d9": {
      "model_module": "@jupyter-widgets/base",
      "model_module_version": "1.1.0",
      "model_name": "LayoutModel",
      "state": {
       "display": "none"
      }
     },
     "ef7e72e9faac4ba692a0a0c50010b3a9": {
      "model_module": "@jupyter-widgets/controls",
      "model_module_version": "1.4.0",
      "model_name": "DescriptionStyleModel",
      "state": {
       "description_width": ""
      }
     },
     "effd365feab74ba1835bb095f1b6c263": {
      "model_module": "@jupyter-widgets/base",
      "model_module_version": "1.1.0",
      "model_name": "LayoutModel",
      "state": {}
     },
     "f03aea6073f6434c88417b4f657e4356": {
      "model_module": "@jupyter-widgets/base",
      "model_module_version": "1.1.0",
      "model_name": "LayoutModel",
      "state": {
       "width": "auto"
      }
     },
     "f094b7377fcb4796953a1dd9215e5e43": {
      "model_module": "@jupyter-widgets/base",
      "model_module_version": "1.1.0",
      "model_name": "LayoutModel",
      "state": {
       "width": "auto"
      }
     },
     "f099ddeb23bd461faef50bb11d56cd52": {
      "model_module": "@jupyter-widgets/controls",
      "model_module_version": "1.4.0",
      "model_name": "DropdownModel",
      "state": {
       "_options_labels": [
        "none",
        "triangle",
        "tee",
        "diamond",
        "square",
        "circle",
        "vee",
        "triangle-tee"
       ],
       "index": 0,
       "layout": "IPY_MODEL_2854f87f352f4c5e8dcc176cd10d43b5",
       "style": "IPY_MODEL_c81340640da247d187c3a9a6c4c968be"
      }
     },
     "f0d7678420fc43af9ccb070c4da2f1a8": {
      "model_module": "@jupyter-widgets/base",
      "model_module_version": "1.1.0",
      "model_name": "LayoutModel",
      "state": {}
     },
     "f13c6f89a6b5462dacbe34515ed06506": {
      "model_module": "@jupyter-widgets/base",
      "model_module_version": "1.1.0",
      "model_name": "LayoutModel",
      "state": {}
     },
     "f1aa910a321a48639371ae365bc27e08": {
      "model_module": "@jupyter-widgets/base",
      "model_module_version": "1.1.0",
      "model_name": "LayoutModel",
      "state": {}
     },
     "f1e6be5a4c044eb9bd0328cfa9d12cce": {
      "model_module": "@jupyter-widgets/base",
      "model_module_version": "1.1.0",
      "model_name": "LayoutModel",
      "state": {
       "padding": "10px 0px 0px 0px"
      }
     },
     "f2f7a5e2da264f90b3bec95b9d30ca0e": {
      "model_module": "@jupyter-widgets/controls",
      "model_module_version": "1.4.0",
      "model_name": "ButtonStyleModel",
      "state": {}
     },
     "f3afec0108e84db19a08a580c8620f18": {
      "model_module": "@jupyter-widgets/controls",
      "model_module_version": "1.4.0",
      "model_name": "HBoxModel",
      "state": {
       "children": [
        "IPY_MODEL_769eba376adc4b22a71b7b754129f33c",
        "IPY_MODEL_3b6138246902441dbe9e7aa750f60826"
       ],
       "layout": "IPY_MODEL_5b8f450d37c84a819ea0db9e64e78df5"
      }
     },
     "f3b17954a52046909e8109b84f506f7b": {
      "model_module": "@jupyter-widgets/base",
      "model_module_version": "1.1.0",
      "model_name": "LayoutModel",
      "state": {}
     },
     "f3b86f21b3ef4602ad6cff7ce4b5cd41": {
      "model_module": "@jupyter-widgets/base",
      "model_module_version": "1.1.0",
      "model_name": "LayoutModel",
      "state": {
       "width": "auto"
      }
     },
     "f3cf214998ef412897ff59d6e581abe6": {
      "model_module": "@jupyter-widgets/base",
      "model_module_version": "1.1.0",
      "model_name": "LayoutModel",
      "state": {}
     },
     "f3d6911e1ebf41c9a9a235f7d3ef6360": {
      "model_module": "@jupyter-widgets/controls",
      "model_module_version": "1.4.0",
      "model_name": "HBoxModel",
      "state": {
       "children": [
        "IPY_MODEL_bda3587993e64c948c0519e6e995358f",
        "IPY_MODEL_d7d96478a2ac4ca7b1cc98dc254c469e",
        "IPY_MODEL_febb3b0d2d964d38887d3b3f2929be59"
       ],
       "layout": "IPY_MODEL_59e4069c071246ababe87d910a0e4320"
      }
     },
     "f41e931b116f41afa420dca16ea180b9": {
      "model_module": "@jupyter-widgets/base",
      "model_module_version": "1.1.0",
      "model_name": "LayoutModel",
      "state": {
       "align_items": "center"
      }
     },
     "f42e66dca79a43518c8ddec45a52ef07": {
      "model_module": "@jupyter-widgets/controls",
      "model_module_version": "1.4.0",
      "model_name": "ButtonStyleModel",
      "state": {}
     },
     "f52e9fbb9db04ea59a1f6799896734bf": {
      "model_module": "@jupyter-widgets/base",
      "model_module_version": "1.1.0",
      "model_name": "LayoutModel",
      "state": {
       "justify_content": "center",
       "padding": "0px 20px 5px 0px"
      }
     },
     "f549b0c63933427aad219148960a8e6b": {
      "model_module": "@jupyter-widgets/controls",
      "model_module_version": "1.4.0",
      "model_name": "DescriptionStyleModel",
      "state": {
       "description_width": ""
      }
     },
     "f549c68bed994fcb9e883c3c06218f62": {
      "model_module": "@jupyter-widgets/controls",
      "model_module_version": "1.4.0",
      "model_name": "LabelModel",
      "state": {
       "layout": "IPY_MODEL_e52619b344c54c209e6a300c33016bd2",
       "style": "IPY_MODEL_d9a189c317ed40e1aa18b59ffc40ae74",
       "value": "End"
      }
     },
     "f54d174eddd9428e8110d77a9372cd9c": {
      "model_module": "@jupyter-widgets/controls",
      "model_module_version": "1.4.0",
      "model_name": "ButtonModel",
      "state": {
       "button_style": "info",
       "icon": "refresh",
       "layout": "IPY_MODEL_2a7dff13a74241babb35e146884a0026",
       "style": "IPY_MODEL_354aaabd679743259f4b80d51eb44bfe"
      }
     },
     "f5de5fe6fd864372a499b76c3e456584": {
      "model_module": "@jupyter-widgets/base",
      "model_module_version": "1.1.0",
      "model_name": "LayoutModel",
      "state": {}
     },
     "f5fb2ef0a85e473bab39297e8eced6a0": {
      "model_module": "@jupyter-widgets/controls",
      "model_module_version": "1.4.0",
      "model_name": "ButtonModel",
      "state": {
       "button_style": "danger",
       "description": "Remove",
       "layout": "IPY_MODEL_b6e0842e70a94ea0aea104b534591b82",
       "style": "IPY_MODEL_99aeb14054bf4c34874125fea609ba20"
      }
     },
     "f64b3c269f564b6c84e2d14afb479235": {
      "model_module": "@jupyter-widgets/base",
      "model_module_version": "1.1.0",
      "model_name": "LayoutModel",
      "state": {}
     },
     "f69338d752934372a4b734d602ed953d": {
      "model_module": "@jupyter-widgets/controls",
      "model_module_version": "1.4.0",
      "model_name": "VBoxModel",
      "state": {
       "children": [
        "IPY_MODEL_77a0fe225e6d4143b811620e2c818471",
        "IPY_MODEL_60bcb4d89400437db12acbed2d26a4fc"
       ],
       "layout": "IPY_MODEL_f0d7678420fc43af9ccb070c4da2f1a8"
      }
     },
     "f6b46fb6f79f4e83bdef7663f44c89b9": {
      "model_module": "@jupyter-widgets/base",
      "model_module_version": "1.1.0",
      "model_name": "LayoutModel",
      "state": {
       "align_items": "center"
      }
     },
     "f6b681d6d2364e38a29170bf38c2ba3a": {
      "model_module": "@jupyter-widgets/controls",
      "model_module_version": "1.4.0",
      "model_name": "ButtonStyleModel",
      "state": {}
     },
     "f7af6fe04c264b43ba6c16ed6d7bbfda": {
      "model_module": "@jupyter-widgets/base",
      "model_module_version": "1.1.0",
      "model_name": "LayoutModel",
      "state": {}
     },
     "f7b12c3703194a909ed3f238b71a2598": {
      "model_module": "@jupyter-widgets/controls",
      "model_module_version": "1.4.0",
      "model_name": "DescriptionStyleModel",
      "state": {
       "description_width": ""
      }
     },
     "f7f7bec667624bab96a6df6c96073674": {
      "model_module": "@jupyter-widgets/controls",
      "model_module_version": "1.4.0",
      "model_name": "HBoxModel",
      "state": {
       "children": [
        "IPY_MODEL_9e6223ef8b9a4aa58e8e9590ff38df1f",
        "IPY_MODEL_c81f551e86fe4747a93653101efd1a76",
        "IPY_MODEL_9b6925259f79400faacc328ba380268f"
       ],
       "layout": "IPY_MODEL_27f2a31b37ec48138d60e74403419b04"
      }
     },
     "f827457d85c14b64bc789f0ccc9f3b9b": {
      "model_module": "@jupyter-widgets/controls",
      "model_module_version": "1.4.0",
      "model_name": "ButtonStyleModel",
      "state": {}
     },
     "f8295548d9e84864b5e52dd1675e9f51": {
      "model_module": "@jupyter-widgets/controls",
      "model_module_version": "1.4.0",
      "model_name": "FloatTextModel",
      "state": {
       "continuous_update": true,
       "layout": "IPY_MODEL_08f8182cdb574c68b5a87e1936144376",
       "step": null,
       "style": "IPY_MODEL_a30335de029048fc883183f006d9231d"
      }
     },
     "f8995331445a4e27b5eee4e5d4411fcf": {
      "model_module": "@jupyter-widgets/base",
      "model_module_version": "1.1.0",
      "model_name": "LayoutModel",
      "state": {}
     },
     "f8a4c86fbb854c18a40e55c925748c27": {
      "model_module": "@jupyter-widgets/controls",
      "model_module_version": "1.4.0",
      "model_name": "ButtonStyleModel",
      "state": {}
     },
     "f8b44e900e3842eeaf6e37d9f8246e97": {
      "model_module": "@jupyter-widgets/controls",
      "model_module_version": "1.4.0",
      "model_name": "DescriptionStyleModel",
      "state": {
       "description_width": ""
      }
     },
     "f8d23849c12645bba5d9fe4608eee025": {
      "model_module": "@jupyter-widgets/controls",
      "model_module_version": "1.4.0",
      "model_name": "HBoxModel",
      "state": {
       "children": [
        "IPY_MODEL_ce363a6704ea4563bd93d47110fe2e76"
       ],
       "layout": "IPY_MODEL_286b970dc47b4865bdbd864ceb7d6528"
      }
     },
     "f8f03ca058364f6484d48a7e65dd533d": {
      "model_module": "@jupyter-widgets/base",
      "model_module_version": "1.1.0",
      "model_name": "LayoutModel",
      "state": {
       "padding": "0 15px 0 35px"
      }
     },
     "f903e01d26ae49a59f0d496670e1125f": {
      "model_module": "@jupyter-widgets/controls",
      "model_module_version": "1.4.0",
      "model_name": "ButtonStyleModel",
      "state": {}
     },
     "f90c27d4c6e040e0a2023ea0a9bef5d4": {
      "model_module": "@jupyter-widgets/base",
      "model_module_version": "1.1.0",
      "model_name": "LayoutModel",
      "state": {}
     },
     "f9102dd528f64168b0f49b78970025ab": {
      "model_module": "@jupyter-widgets/controls",
      "model_module_version": "1.4.0",
      "model_name": "ButtonModel",
      "state": {
       "button_style": "danger",
       "description": "Remove",
       "layout": "IPY_MODEL_fc31b48b20b74d96a360be2dec30c076",
       "style": "IPY_MODEL_1c876161a76f4488b731c494f63799ce"
      }
     },
     "f94fc13efec74e61bdf94a4a9b417c01": {
      "model_module": "@jupyter-widgets/base",
      "model_module_version": "1.1.0",
      "model_name": "LayoutModel",
      "state": {}
     },
     "f9ae765ec8914e7ea99887caafd8dd70": {
      "model_module": "@jupyter-widgets/base",
      "model_module_version": "1.1.0",
      "model_name": "LayoutModel",
      "state": {}
     },
     "f9bc817f1cd84603b28104ce444fc289": {
      "model_module": "@jupyter-widgets/base",
      "model_module_version": "1.1.0",
      "model_name": "LayoutModel",
      "state": {}
     },
     "f9c2ea03bacb47f0b47575f2da0d4668": {
      "model_module": "@jupyter-widgets/controls",
      "model_module_version": "1.4.0",
      "model_name": "DescriptionStyleModel",
      "state": {
       "description_width": ""
      }
     },
     "fa8a5690e38d4ceba56ea968f190599a": {
      "model_module": "@jupyter-widgets/controls",
      "model_module_version": "1.4.0",
      "model_name": "HBoxModel",
      "state": {
       "children": [
        "IPY_MODEL_80e9ddf7ef2641c8874b0e6864d24da7",
        "IPY_MODEL_045150e94d4b4ee5893fc3d20a1105ac",
        "IPY_MODEL_ae03d250a7a04911a66e7915b9cee418"
       ],
       "layout": "IPY_MODEL_5aee1580b918451789534399a86db19e"
      }
     },
     "fafb479644e44fc89844abf0ed1d4b91": {
      "model_module": "@jupyter-widgets/base",
      "model_module_version": "1.1.0",
      "model_name": "LayoutModel",
      "state": {
       "justify_content": "center",
       "padding": "10px 0px 0px 0px"
      }
     },
     "fb3779251807490f91e5faf9bc108a1e": {
      "model_module": "@jupyter-widgets/base",
      "model_module_version": "1.1.0",
      "model_name": "LayoutModel",
      "state": {
       "width": "auto"
      }
     },
     "fb921f50624444e49b2d4197984cc155": {
      "model_module": "@jupyter-widgets/base",
      "model_module_version": "1.1.0",
      "model_name": "LayoutModel",
      "state": {
       "width": "auto"
      }
     },
     "fba09fe8c1224fee956b7eb20cd037dc": {
      "model_module": "@jupyter-widgets/base",
      "model_module_version": "1.1.0",
      "model_name": "LayoutModel",
      "state": {
       "width": "auto"
      }
     },
     "fbeef58701f54584bed2c39ce9f4a92d": {
      "model_module": "@jupyter-widgets/controls",
      "model_module_version": "1.4.0",
      "model_name": "DropdownModel",
      "state": {
       "_options_labels": [
        "ellipse",
        "triangle",
        "rectangle",
        "rhomboid",
        "diamond",
        "pentagon",
        "hexagon",
        "concavehexagon",
        "heptagon",
        "octagon",
        "star",
        "tag",
        "vee"
       ],
       "index": 0,
       "layout": "IPY_MODEL_e6898146606a455a8d464741845d9474",
       "style": "IPY_MODEL_be48f905bab04993bfa2c32c51e551fe"
      }
     },
     "fbf01dc6eb95489b9c6cf403e0d6e102": {
      "model_module": "@jupyter-widgets/controls",
      "model_module_version": "1.4.0",
      "model_name": "LabelModel",
      "state": {
       "layout": "IPY_MODEL_69f03ae38d7a498cbc353888f19ef672",
       "style": "IPY_MODEL_11a71fd7e0924a3285e6e8063222aac3",
       "value": "Color :"
      }
     },
     "fbf9e1189d344eaa9ae241bd89b951c7": {
      "model_module": "@jupyter-widgets/controls",
      "model_module_version": "1.4.0",
      "model_name": "VBoxModel",
      "state": {
       "children": [
        "IPY_MODEL_9b0f9fcf4b29485aa3224705a9e52430",
        "IPY_MODEL_bd58c9fecba842fcb06bbc43729947bc",
        "IPY_MODEL_e23ae54edc7049a39901a7617367fced"
       ],
       "layout": "IPY_MODEL_222d3c19123b4f1e8f60185b4c359108"
      }
     },
     "fbfd2fba10184070ac62384c3940b6e8": {
      "model_module": "@jupyter-widgets/base",
      "model_module_version": "1.1.0",
      "model_name": "LayoutModel",
      "state": {}
     },
     "fc31b48b20b74d96a360be2dec30c076": {
      "model_module": "@jupyter-widgets/base",
      "model_module_version": "1.1.0",
      "model_name": "LayoutModel",
      "state": {
       "width": "auto"
      }
     },
     "fc42044bed554d459358db3d9bcb531a": {
      "model_module": "@jupyter-widgets/controls",
      "model_module_version": "1.4.0",
      "model_name": "IntSliderModel",
      "state": {
       "layout": "IPY_MODEL_1fd492110a844741ae29f8c9876a2863",
       "max": 200,
       "min": 1,
       "style": "IPY_MODEL_b9894062d004485cb604706ebe50ecd9",
       "value": 30
      }
     },
     "fc5965d3b3184ff68a275664e438533f": {
      "model_module": "@jupyter-widgets/controls",
      "model_module_version": "1.4.0",
      "model_name": "ButtonStyleModel",
      "state": {}
     },
     "fd46447a88ac4a439661d84915ef41d3": {
      "model_module": "@jupyter-widgets/controls",
      "model_module_version": "1.4.0",
      "model_name": "ButtonStyleModel",
      "state": {}
     },
     "fd5b8171ad47424fb9f34bb175db5b2f": {
      "model_module": "@jupyter-widgets/controls",
      "model_module_version": "1.4.0",
      "model_name": "DescriptionStyleModel",
      "state": {
       "description_width": ""
      }
     },
     "fd642b177625470aafee86ab6dc25fa5": {
      "model_module": "@jupyter-widgets/controls",
      "model_module_version": "1.4.0",
      "model_name": "HBoxModel",
      "state": {
       "children": [
        "IPY_MODEL_660116884d0044ca91630b4936a1922f",
        "IPY_MODEL_e7c727c49b08479a9bc708063592854e",
        "IPY_MODEL_3f1802391cb64798b11aac4a144ff32b",
        "IPY_MODEL_170f802998134fb587a8723497d49cbf"
       ],
       "layout": "IPY_MODEL_73fcce10aef243ed8f6be4c4cd03604e"
      }
     },
     "fd7857771c0a48b3b85706cfdc97ad9f": {
      "model_module": "@jupyter-widgets/base",
      "model_module_version": "1.1.0",
      "model_name": "LayoutModel",
      "state": {
       "height": "40px",
       "min_width": "50px",
       "width": "10%"
      }
     },
     "fdc24539e5b0426cac3a15c0f86172fa": {
      "model_module": "@jupyter-widgets/controls",
      "model_module_version": "1.4.0",
      "model_name": "VBoxModel",
      "state": {
       "children": [
        "IPY_MODEL_97eeabe0880d47c69a760d641d101947",
        "IPY_MODEL_6a0a41bc765e487e97d63c3949f1683b",
        "IPY_MODEL_15a6e07d86da4d439ec8e69132c97de6",
        "IPY_MODEL_4a0e9db089a3448593e89457027d08b2",
        "IPY_MODEL_8853f882f0994a55af6859460aaa0a9d",
        "IPY_MODEL_1159882c70494a44a2b24d9691ff4969"
       ],
       "layout": "IPY_MODEL_bf04b87732c84a579b686004aea43934"
      }
     },
     "fde013730faf4698923286a1c52d1433": {
      "model_module": "@jupyter-widgets/controls",
      "model_module_version": "1.4.0",
      "model_name": "DescriptionStyleModel",
      "state": {
       "description_width": ""
      }
     },
     "fe1a14374f184ffbb390ca12dc0a186b": {
      "model_module": "@jupyter-widgets/base",
      "model_module_version": "1.1.0",
      "model_name": "LayoutModel",
      "state": {
       "align_items": "center"
      }
     },
     "fe2f552a8d314ff291f105a068515253": {
      "model_module": "@jupyter-widgets/base",
      "model_module_version": "1.1.0",
      "model_name": "LayoutModel",
      "state": {
       "padding": "10px 0px 0px 0px"
      }
     },
     "fe9df343ddde450fa21f89fadb3f95d0": {
      "model_module": "@jupyter-widgets/controls",
      "model_module_version": "1.4.0",
      "model_name": "ToggleButtonModel",
      "state": {
       "button_style": "primary",
       "description": "Box",
       "layout": "IPY_MODEL_27005d4cbdfc421090a1bb7d844a22af",
       "style": "IPY_MODEL_5a4f7e5e870847a6acae9b6a0c5e49f0"
      }
     },
     "fea17c44ed214d4797dce8734e8df6a7": {
      "model_module": "@jupyter-widgets/base",
      "model_module_version": "1.1.0",
      "model_name": "LayoutModel",
      "state": {
       "width": "auto"
      }
     },
     "febb3b0d2d964d38887d3b3f2929be59": {
      "model_module": "@jupyter-widgets/controls",
      "model_module_version": "1.4.0",
      "model_name": "ButtonModel",
      "state": {
       "button_style": "danger",
       "description": "Remove",
       "layout": "IPY_MODEL_eccf231aa06e4bed91a9589cd5959390",
       "style": "IPY_MODEL_23432c88d0c84da1a94cfa155effc6f4"
      }
     },
     "feed72c1e7d44ccea1cb99551188b0ea": {
      "model_module": "@jupyter-widgets/controls",
      "model_module_version": "1.4.0",
      "model_name": "TextModel",
      "state": {
       "layout": "IPY_MODEL_47262829fcf74ecbafcaad2cd917eeff",
       "style": "IPY_MODEL_cef2b61c8690453a9c7ad431fbe14d16"
      }
     },
     "ffe4c722a60d402181be043b4f45ce01": {
      "model_module": "@jupyter-widgets/base",
      "model_module_version": "1.1.0",
      "model_name": "LayoutModel",
      "state": {}
     },
     "ffff8a8c9a504964a216a58fed4888c8": {
      "model_module": "@jupyter-widgets/controls",
      "model_module_version": "1.4.0",
      "model_name": "ButtonModel",
      "state": {
       "button_style": "danger",
       "description": "Remove",
       "layout": "IPY_MODEL_e735e692acbb4137885622cb5f99374d",
       "style": "IPY_MODEL_5d63472ab88540d1af9b27b26b80aa97"
      }
     }
    },
    "version_major": 2,
    "version_minor": 0
   }
  }
 },
 "nbformat": 4,
 "nbformat_minor": 2
}
